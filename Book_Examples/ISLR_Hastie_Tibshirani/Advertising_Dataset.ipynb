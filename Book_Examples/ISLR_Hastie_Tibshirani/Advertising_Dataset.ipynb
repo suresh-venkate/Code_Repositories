{
 "cells": [
  {
   "cell_type": "markdown",
   "metadata": {},
   "source": [
    "# Analysis of the Advertising Dataset from ISLR"
   ]
  },
  {
   "cell_type": "markdown",
   "metadata": {},
   "source": [
    "# Import required libraries"
   ]
  },
  {
   "cell_type": "code",
   "execution_count": 1,
   "metadata": {},
   "outputs": [],
   "source": [
    "import numpy as np\n",
    "import pandas as pd\n",
    "import matplotlib as mpl\n",
    "import matplotlib.pyplot as plt\n",
    "import seaborn as sns\n",
    "%matplotlib inline\n",
    "plt.style.use('seaborn-white')\n",
    "\n",
    "# Preprocessing libraries\n",
    "from sklearn.preprocessing import MinMaxScaler\n",
    "from sklearn.preprocessing import StandardScaler\n",
    "\n",
    "# Scipy\n",
    "from scipy import stats\n",
    "\n",
    "# Statsmodel\n",
    "import statsmodels.api as sm\n",
    "import statsmodels.formula.api as smf\n",
    "\n",
    "# Model libraries\n",
    "from sklearn.linear_model import LinearRegression"
   ]
  },
  {
   "cell_type": "code",
   "execution_count": 2,
   "metadata": {},
   "outputs": [],
   "source": [
    "# Set some plotting and printing ptions\n",
    "mpl.rc('axes', labelsize = 30)\n",
    "mpl.rc('axes', titlesize = 30)\n",
    "mpl.rc('xtick', labelsize = 20)\n",
    "mpl.rc('ytick', labelsize = 20)\n",
    "mpl.rc('legend', fontsize = 20)\n",
    "mpl.rc('figure', titlesize = 40)\n",
    "\n",
    "pd.set_option('precision', 4) # Print 4 decimal places for all output parameters"
   ]
  },
  {
   "cell_type": "markdown",
   "metadata": {},
   "source": [
    "# Load dataset "
   ]
  },
  {
   "cell_type": "markdown",
   "metadata": {},
   "source": [
    "## Read the data as a dataframe"
   ]
  },
  {
   "cell_type": "code",
   "execution_count": 3,
   "metadata": {
    "scrolled": false
   },
   "outputs": [
    {
     "data": {
      "text/html": [
       "<div>\n",
       "<style scoped>\n",
       "    .dataframe tbody tr th:only-of-type {\n",
       "        vertical-align: middle;\n",
       "    }\n",
       "\n",
       "    .dataframe tbody tr th {\n",
       "        vertical-align: top;\n",
       "    }\n",
       "\n",
       "    .dataframe thead th {\n",
       "        text-align: right;\n",
       "    }\n",
       "</style>\n",
       "<table border=\"1\" class=\"dataframe\">\n",
       "  <thead>\n",
       "    <tr style=\"text-align: right;\">\n",
       "      <th></th>\n",
       "      <th>TV</th>\n",
       "      <th>radio</th>\n",
       "      <th>newspaper</th>\n",
       "      <th>sales</th>\n",
       "    </tr>\n",
       "  </thead>\n",
       "  <tbody>\n",
       "    <tr>\n",
       "      <th>1</th>\n",
       "      <td>230.1</td>\n",
       "      <td>37.8</td>\n",
       "      <td>69.2</td>\n",
       "      <td>22.1</td>\n",
       "    </tr>\n",
       "    <tr>\n",
       "      <th>2</th>\n",
       "      <td>44.5</td>\n",
       "      <td>39.3</td>\n",
       "      <td>45.1</td>\n",
       "      <td>10.4</td>\n",
       "    </tr>\n",
       "    <tr>\n",
       "      <th>3</th>\n",
       "      <td>17.2</td>\n",
       "      <td>45.9</td>\n",
       "      <td>69.3</td>\n",
       "      <td>9.3</td>\n",
       "    </tr>\n",
       "    <tr>\n",
       "      <th>4</th>\n",
       "      <td>151.5</td>\n",
       "      <td>41.3</td>\n",
       "      <td>58.5</td>\n",
       "      <td>18.5</td>\n",
       "    </tr>\n",
       "    <tr>\n",
       "      <th>5</th>\n",
       "      <td>180.8</td>\n",
       "      <td>10.8</td>\n",
       "      <td>58.4</td>\n",
       "      <td>12.9</td>\n",
       "    </tr>\n",
       "  </tbody>\n",
       "</table>\n",
       "</div>"
      ],
      "text/plain": [
       "      TV  radio  newspaper  sales\n",
       "1  230.1   37.8       69.2   22.1\n",
       "2   44.5   39.3       45.1   10.4\n",
       "3   17.2   45.9       69.3    9.3\n",
       "4  151.5   41.3       58.5   18.5\n",
       "5  180.8   10.8       58.4   12.9"
      ]
     },
     "metadata": {},
     "output_type": "display_data"
    }
   ],
   "source": [
    "adv_csv_path = \"Datasets/Advertising.csv\" # Path of csv file\n",
    "df_orig = pd.read_csv(adv_csv_path, index_col = 0) # Load csv file into a Dataframe\n",
    "display(df_orig.head())"
   ]
  },
  {
   "cell_type": "markdown",
   "metadata": {},
   "source": [
    "<b>The above dataframe shows sales in thousands of units as a function of TV, radio and newspaper budgets in thousands of dollars for 200 different markets.</b>"
   ]
  },
  {
   "cell_type": "markdown",
   "metadata": {},
   "source": [
    "## Data Types of each attribute"
   ]
  },
  {
   "cell_type": "code",
   "execution_count": 4,
   "metadata": {
    "scrolled": true
   },
   "outputs": [
    {
     "data": {
      "text/plain": [
       "TV           float64\n",
       "radio        float64\n",
       "newspaper    float64\n",
       "sales        float64\n",
       "dtype: object"
      ]
     },
     "execution_count": 4,
     "metadata": {},
     "output_type": "execute_result"
    }
   ],
   "source": [
    "# Print the data types of all columns\n",
    "df_orig.dtypes"
   ]
  },
  {
   "cell_type": "markdown",
   "metadata": {},
   "source": [
    "<b>All columns are numeric with float64 dtype</b>"
   ]
  },
  {
   "cell_type": "markdown",
   "metadata": {},
   "source": [
    "## Shape of the data"
   ]
  },
  {
   "cell_type": "code",
   "execution_count": 5,
   "metadata": {
    "scrolled": true
   },
   "outputs": [
    {
     "data": {
      "text/plain": [
       "(200, 4)"
      ]
     },
     "execution_count": 5,
     "metadata": {},
     "output_type": "execute_result"
    }
   ],
   "source": [
    "df_orig.shape"
   ]
  },
  {
   "cell_type": "markdown",
   "metadata": {},
   "source": [
    "<b>There are 200 entries and 4 columns</b>"
   ]
  },
  {
   "cell_type": "markdown",
   "metadata": {},
   "source": [
    "## Check for missing values"
   ]
  },
  {
   "cell_type": "code",
   "execution_count": 6,
   "metadata": {
    "scrolled": true
   },
   "outputs": [
    {
     "data": {
      "text/plain": [
       "TV           0\n",
       "radio        0\n",
       "newspaper    0\n",
       "sales        0\n",
       "dtype: int64"
      ]
     },
     "execution_count": 6,
     "metadata": {},
     "output_type": "execute_result"
    }
   ],
   "source": [
    "df_orig.isna().sum()"
   ]
  },
  {
   "cell_type": "markdown",
   "metadata": {},
   "source": [
    "<b>No missing values in any of the columns.</b>"
   ]
  },
  {
   "cell_type": "markdown",
   "metadata": {},
   "source": [
    "## Correlation matrix"
   ]
  },
  {
   "cell_type": "code",
   "execution_count": 59,
   "metadata": {},
   "outputs": [
    {
     "data": {
      "image/png": "[encoded data removed]",
      "text/plain": [
       "<Figure size 360x360 with 2 Axes>"
      ]
     },
     "metadata": {},
     "output_type": "display_data"
    },
    {
     "data": {
      "text/plain": [
       "array([[ True,  True,  True,  True],\n",
       "       [False,  True,  True,  True],\n",
       "       [False, False,  True,  True],\n",
       "       [False, False, False,  True]])"
      ]
     },
     "execution_count": 59,
     "metadata": {},
     "output_type": "execute_result"
    }
   ],
   "source": [
    "corr_mat = df_orig.corr()\n",
    "fig = plt.figure(figsize = (5, 5))\n",
    "fig.suptitle(\"Correlation Matrix\", fontsize = 25)\n",
    "\n",
    "# Create a mask\n",
    "mask = np.triu(np.ones_like(corr_mat, dtype = bool))\n",
    "\n",
    "sns.heatmap(corr_mat, annot_kws = {\"fontsize\": 14}, linewidths = 1,\\\n",
    "            linecolor = 'black', cmap = 'Blues', annot = True ,fmt = '.2g', cbar = True)\n",
    "# sns.heatmap(corr_mat, mask = mask, annot_kws = {\"fontsize\": 14}, cmap = 'Blues',\\\n",
    "#             annot = True ,fmt = '.2g', cbar = True)\n",
    "plt.show()\n",
    "mask"
   ]
  },
  {
   "cell_type": "markdown",
   "metadata": {},
   "source": [
    "# EDA on the dataset"
   ]
  },
  {
   "cell_type": "markdown",
   "metadata": {},
   "source": [
    "# Simple Linear Regression\n",
    "\n",
    "Based on Section 3.1 of ISLR"
   ]
  },
  {
   "cell_type": "markdown",
   "metadata": {},
   "source": [
    "## Coefficients - SLR of Sales on TV"
   ]
  },
  {
   "cell_type": "code",
   "execution_count": 7,
   "metadata": {},
   "outputs": [
    {
     "name": "stdout",
     "output_type": "stream",
     "text": [
      "Shape of X is (200, 1)\n",
      "Shape of y is (200,)\n",
      "\n",
      "Intercept (beta_0) is 7.0326\n",
      "Coefficient (beta_1) is 0.0475\n"
     ]
    }
   ],
   "source": [
    "# Coefficients measured using a Simple Linear Regression Fit\n",
    "\n",
    "X = df_orig[['TV']] # Predictor 'TV' captured in X\n",
    "y = df_orig['sales'] # Response 'sales' captured in y\n",
    "\n",
    "lr = LinearRegression() # Instantiate Linear Regression model\n",
    "lr.fit(X, y) # Fit model\n",
    "\n",
    "print(f\"Shape of X is {X.shape}\")\n",
    "print(f\"Shape of y is {y.shape}\")\n",
    "print()\n",
    "print(\"Intercept (beta_0) is %0.4f\" %lr.intercept_)\n",
    "print(\"Coefficient (beta_1) is %0.4f\" %lr.coef_)"
   ]
  },
  {
   "cell_type": "code",
   "execution_count": 8,
   "metadata": {},
   "outputs": [
    {
     "name": "stdout",
     "output_type": "stream",
     "text": [
      "Intercept (beta_0) is 7.0326\n",
      "Coefficient (beta_1) is 0.0475\n"
     ]
    }
   ],
   "source": [
    "# Coefficients calculated using eqn (3.4), pg. 62 of ISLR\n",
    "\n",
    "Xi = np.array(df_orig['TV']) # # Predictor 'TV' captured in Xi\n",
    "Xib = np.mean(Xi) # Mean of Xi\n",
    "yi = np.array(df_orig['sales']) # Response 'sales' captured in yi\n",
    "yib = np.mean(yi) # Mean of yi\n",
    "\n",
    "# Calculate beta_1 and beta_0 using eqn (3.4)\n",
    "beta_1_calc = np.sum((Xi - Xib) * (yi - yib)) / np.sum((Xi - Xib) ** 2)\n",
    "beta_0_calc = yib - beta_1_calc * Xib\n",
    "\n",
    "print(\"Intercept (beta_0) is %0.4f\" %beta_0_calc)\n",
    "print(\"Coefficient (beta_1) is %0.4f\" %beta_1_calc)"
   ]
  },
  {
   "cell_type": "markdown",
   "metadata": {},
   "source": [
    "## Figure 3.1 (ISLR, Pg 62)"
   ]
  },
  {
   "cell_type": "code",
   "execution_count": 9,
   "metadata": {
    "scrolled": false
   },
   "outputs": [
    {
     "data": {
      "image/png": "[encoded data removed]",
      "text/plain": [
       "<Figure size 720x576 with 1 Axes>"
      ]
     },
     "metadata": {},
     "output_type": "display_data"
    }
   ],
   "source": [
    "plt.figure(figsize = (10, 8))\n",
    "y_pred = lr.predict(X) # Get predicted response based on linear fit\n",
    "plt.scatter(X, y, color = 'r', label = 'Actual_Sales') # Plot 'sales' vs. 'TV'\n",
    "plt.plot(X, y_pred, color = 'b', label = 'Predicted_Sales') # Plot 'predicted_sales' vs. 'TV'\n",
    "plt.grid()\n",
    "plt.title('Least Squares Regression of Sales onto TV', fontsize = 25)\n",
    "plt.xlabel('TV', fontsize = 20)\n",
    "plt.ylabel('Sales', fontsize = 20)\n",
    "plt.legend(fontsize = 20)\n",
    "plt.ylim(ymin = 0);"
   ]
  },
  {
   "cell_type": "markdown",
   "metadata": {},
   "source": [
    "## SLR using statsmodels"
   ]
  },
  {
   "cell_type": "code",
   "execution_count": 10,
   "metadata": {
    "scrolled": false
   },
   "outputs": [
    {
     "data": {
      "text/html": [
       "<table class=\"simpletable\">\n",
       "<tr>\n",
       "      <td></td>         <th>coef</th>     <th>std err</th>      <th>t</th>      <th>P>|t|</th>  <th>[0.025</th>    <th>0.975]</th>  \n",
       "</tr>\n",
       "<tr>\n",
       "  <th>Intercept</th> <td>    7.0326</td> <td>    0.458</td> <td>   15.360</td> <td> 0.000</td> <td>    6.130</td> <td>    7.935</td>\n",
       "</tr>\n",
       "<tr>\n",
       "  <th>TV</th>        <td>    0.0475</td> <td>    0.003</td> <td>   17.668</td> <td> 0.000</td> <td>    0.042</td> <td>    0.053</td>\n",
       "</tr>\n",
       "</table>"
      ],
      "text/plain": [
       "<class 'statsmodels.iolib.table.SimpleTable'>"
      ]
     },
     "execution_count": 10,
     "metadata": {},
     "output_type": "execute_result"
    }
   ],
   "source": [
    "# OLS regression of Sales onto TV\n",
    "lm = smf.ols('sales ~ TV', data = df_orig).fit()\n",
    "lm.summary().tables[1] # Table 3.1, pg. 68 of ISLR"
   ]
  },
  {
   "cell_type": "code",
   "execution_count": 11,
   "metadata": {
    "scrolled": true
   },
   "outputs": [
    {
     "name": "stdout",
     "output_type": "stream",
     "text": [
      "t-statistic of TV coefficient (beta_1) is 17.6676\n",
      "p-value corresponding to above t-statistics is 1.47e-42\n",
      "\n",
      "Lower CI value at (95% CL) is 0.042\n",
      "Upper CI value at (95% CL) is 0.053\n"
     ]
    }
   ],
   "source": [
    "# Manual computation of std.err, t-coef, p-value and confidence intervals\n",
    "RSS = np.sum((y - y_pred) ** 2) # Eqn. (3.3), pg. 62 of ISLR\n",
    "x_spr = np.sum((Xi - Xib) ** 2)  \n",
    "SE_beta1 = np.sqrt(RSS / ((y.shape[0] - 2) * x_spr)) # Eqn. (3.8), pg. 66 of ISLR\n",
    "tst_beta1 = lm.params['TV'] / SE_beta1\n",
    "p_val = 2 * stats.t.cdf(-tst_beta1, df = (y.shape[0] - 2))\n",
    "\n",
    "# Obtain 95% confidence intervals (Eqn. (3.9) to (3.11) pg. 66 of ISLR)\n",
    "t_cr_0P95 = stats.t.ppf(0.025, df = (y.shape[0] - 2)) # t-critical corresponding to 95% CI\n",
    "ci_low = lm.params['TV'] + t_cr_0P95 * SE_beta1 # Lower CI value\n",
    "ci_upp = lm.params['TV'] - t_cr_0P95 * SE_beta1 # Upper CI value\n",
    "\n",
    "print(\"t-statistic of TV coefficient (beta_1) is %0.4f\" %tst_beta1)\n",
    "print('p-value corresponding to above t-statistics is %0.2e' %p_val)\n",
    "print()\n",
    "print(\"Lower CI value at (95%% CL) is %0.3f\" %(ci_low))\n",
    "print(\"Upper CI value at (95%% CL) is %0.3f\" %(ci_upp))"
   ]
  },
  {
   "cell_type": "markdown",
   "metadata": {},
   "source": [
    "<b>Since the p-value corresponding to $\\beta1$ is very small, we can conclude that $\\beta1$ $\\neq$ 0, which implies that sales are related to TV advertising budget.</b> "
   ]
  },
  {
   "cell_type": "markdown",
   "metadata": {},
   "source": [
    "## Interpretation of CI values\n",
    "\n",
    "Intercept coefficient (beta_0) has a mean of 7.0326 and 95% CI limits of (6.130, 7.935). This implies that in the absence of any TV advertising budget, the sales will, on average, fall somewhere between 6130 and 7935 units.\n",
    "\n",
    "\n",
    "Slope of sales vs. TV (beta_1) has a mean of 0.0475 with a 95% CI limits of (0.042, 0.053). This implies that, for a $1000 increase in TV advertising, there will be an average increase in sale of between 42 and 53 units."
   ]
  },
  {
   "cell_type": "markdown",
   "metadata": {},
   "source": [
    "## Accuracy of the SLR fit\n",
    "\n",
    "Based on Section 3.1.3, pg. 68 - 72 of ISLR"
   ]
  },
  {
   "cell_type": "markdown",
   "metadata": {},
   "source": [
    "### RSE"
   ]
  },
  {
   "cell_type": "code",
   "execution_count": 24,
   "metadata": {},
   "outputs": [
    {
     "name": "stdout",
     "output_type": "stream",
     "text": [
      "TSS: Total Variance in response y is 5417.15\n",
      "RSS: Residual variance in response y after SLR fit of Sales onto TV is 2102.53\n",
      "Varaince explained by SLR fit of Sales onto TV is 3314.62\n",
      "\n",
      "Original standard deviation of sales is 5.2044\n",
      "RSE of SLR fit of Sales onto TV is 3.2587\n"
     ]
    }
   ],
   "source": [
    "TSS = np.sum((yi - yib) ** 2) # Total sum of squares = total variance in response y\n",
    "RSS = np.sum((y - y_pred) ** 2) # Residual sum of squares = residual variance after SLR fit\n",
    "var_expl = TSS - RSS\n",
    "std_dev_y = np.sqrt(TSS / y.shape[0]) # Standard deviation of response y\n",
    "RSE = np.sqrt(RSS / ((y.shape[0] - 2))) # Eqn. 3.15, pg. 69 of ISLR\n",
    "print(f\"TSS: Total Variance in response y is {TSS:0.2f}\")\n",
    "print(f\"RSS: Residual variance in response y after SLR fit of Sales onto TV is {RSS:0.2f}\")\n",
    "print(f\"Varaince explained by SLR fit of Sales onto TV is {var_expl:0.2f}\")\n",
    "print()\n",
    "print(f\"Original standard deviation of sales is {std_dev_y:0.4f}\")\n",
    "print(f\"RSE of SLR fit of Sales onto TV is {RSE:0.4f}\")        "
   ]
  },
  {
   "cell_type": "markdown",
   "metadata": {},
   "source": [
    "<b>Interpretation of Original standard deviation:</b> Actual sales in each market deviates from the mean sales (across all markets) by approximately 5200 units on average.\n",
    "\n",
    "<b>Interpretation of RSE:</b> Actual sales in each market deviates from the true regression line (Sales vs. TV linear fit) by approximately 3260 units on average. This implies that the SLR fit of Sales onto TV is able to explain some amount of the variance in the sales data across markets.\n",
    "\n",
    "<b>RSE</b> provides an absolute measure of lack of fit and is measured in units of the response variable sales. <b>$R^2$</b>statistic provides a normalized measure."
   ]
  },
  {
   "cell_type": "markdown",
   "metadata": {},
   "source": [
    "### $R^2$"
   ]
  },
  {
   "cell_type": "code",
   "execution_count": 34,
   "metadata": {},
   "outputs": [
    {
     "name": "stdout",
     "output_type": "stream",
     "text": [
      "R_squared (Manual Calculation) is 0.6119\n",
      "R_squared (StatsModels) is 0.6119\n",
      "R_squared (StatsModels) is 0.6119\n",
      "R_squared (LinearRegression) is 0.6119\n"
     ]
    }
   ],
   "source": [
    "Rsq = var_expl / TSS\n",
    "print(f\"R_squared (Manual Calculation) is {Rsq:0.4f}\")\n",
    "print(f\"R_squared (StatsModels) is {lm.rsquared:0.4f}\")\n",
    "print(f\"R_squared (StatsModels) is {lm.rsquared:0.4f}\")\n",
    "print(f\"R_squared (LinearRegression) is {lr.score(X, y):0.4f}\")"
   ]
  },
  {
   "cell_type": "markdown",
   "metadata": {},
   "source": [
    "<b>$R^2$ = 0.62 implies that around 3/5th of the total variance in Sales is explained by the SLR fit of Sales onto TV.</b>"
   ]
  },
  {
   "cell_type": "markdown",
   "metadata": {},
   "source": [
    "## Coefficients - SLR of Sales onto TV, Radio, newspaperm"
   ]
  },
  {
   "cell_type": "code",
   "execution_count": 36,
   "metadata": {},
   "outputs": [
    {
     "data": {
      "text/html": [
       "<table class=\"simpletable\">\n",
       "<tr>\n",
       "      <td></td>         <th>coef</th>     <th>std err</th>      <th>t</th>      <th>P>|t|</th>  <th>[0.025</th>    <th>0.975]</th>  \n",
       "</tr>\n",
       "<tr>\n",
       "  <th>Intercept</th> <td>    7.0326</td> <td>    0.458</td> <td>   15.360</td> <td> 0.000</td> <td>    6.130</td> <td>    7.935</td>\n",
       "</tr>\n",
       "<tr>\n",
       "  <th>TV</th>        <td>    0.0475</td> <td>    0.003</td> <td>   17.668</td> <td> 0.000</td> <td>    0.042</td> <td>    0.053</td>\n",
       "</tr>\n",
       "</table>"
      ],
      "text/plain": [
       "<class 'statsmodels.iolib.table.SimpleTable'>"
      ]
     },
     "execution_count": 36,
     "metadata": {},
     "output_type": "execute_result"
    }
   ],
   "source": [
    "# OLS regression of Sales onto TV\n",
    "lm = smf.ols('sales ~ TV', data = df_orig).fit()\n",
    "lm.summary().tables[1] # Table 3.1, pg. 68 of ISLR"
   ]
  },
  {
   "cell_type": "code",
   "execution_count": 37,
   "metadata": {},
   "outputs": [
    {
     "data": {
      "text/html": [
       "<table class=\"simpletable\">\n",
       "<tr>\n",
       "      <td></td>         <th>coef</th>     <th>std err</th>      <th>t</th>      <th>P>|t|</th>  <th>[0.025</th>    <th>0.975]</th>  \n",
       "</tr>\n",
       "<tr>\n",
       "  <th>Intercept</th> <td>    9.3116</td> <td>    0.563</td> <td>   16.542</td> <td> 0.000</td> <td>    8.202</td> <td>   10.422</td>\n",
       "</tr>\n",
       "<tr>\n",
       "  <th>radio</th>     <td>    0.2025</td> <td>    0.020</td> <td>    9.921</td> <td> 0.000</td> <td>    0.162</td> <td>    0.243</td>\n",
       "</tr>\n",
       "</table>"
      ],
      "text/plain": [
       "<class 'statsmodels.iolib.table.SimpleTable'>"
      ]
     },
     "execution_count": 37,
     "metadata": {},
     "output_type": "execute_result"
    }
   ],
   "source": [
    "# OLS regression of Sales onto radio\n",
    "lm = smf.ols('sales ~ radio', data = df_orig).fit()\n",
    "lm.summary().tables[1] # Table 3.3, pg. 72 of ISLR"
   ]
  },
  {
   "cell_type": "markdown",
   "metadata": {},
   "source": [
    "<b>A $1000 increase in radio advertising budget is associated with an average increase in sales of around 203 units.</b>"
   ]
  },
  {
   "cell_type": "code",
   "execution_count": 39,
   "metadata": {
    "scrolled": true
   },
   "outputs": [
    {
     "data": {
      "text/html": [
       "<table class=\"simpletable\">\n",
       "<tr>\n",
       "      <td></td>         <th>coef</th>     <th>std err</th>      <th>t</th>      <th>P>|t|</th>  <th>[0.025</th>    <th>0.975]</th>  \n",
       "</tr>\n",
       "<tr>\n",
       "  <th>Intercept</th> <td>   12.3514</td> <td>    0.621</td> <td>   19.876</td> <td> 0.000</td> <td>   11.126</td> <td>   13.577</td>\n",
       "</tr>\n",
       "<tr>\n",
       "  <th>newspaper</th> <td>    0.0547</td> <td>    0.017</td> <td>    3.300</td> <td> 0.001</td> <td>    0.022</td> <td>    0.087</td>\n",
       "</tr>\n",
       "</table>"
      ],
      "text/plain": [
       "<class 'statsmodels.iolib.table.SimpleTable'>"
      ]
     },
     "execution_count": 39,
     "metadata": {},
     "output_type": "execute_result"
    }
   ],
   "source": [
    "# OLS regression of Sales onto newspaper\n",
    "lm = smf.ols('sales ~ newspaper', data = df_orig).fit()\n",
    "lm.summary().tables[1] # Table 3.3, pg. 72 of ISLR"
   ]
  },
  {
   "cell_type": "markdown",
   "metadata": {},
   "source": [
    "<b>A $1000 increase in newspaper advertising budget is associated with an average increase in sales of around 55 units.</b>"
   ]
  },
  {
   "cell_type": "markdown",
   "metadata": {},
   "source": [
    "# Multiple Linear Regression"
   ]
  },
  {
   "cell_type": "markdown",
   "metadata": {},
   "source": [
    "## MLR using statsmodel"
   ]
  },
  {
   "cell_type": "code",
   "execution_count": 44,
   "metadata": {},
   "outputs": [
    {
     "data": {
      "text/html": [
       "<table class=\"simpletable\">\n",
       "<tr>\n",
       "      <td></td>         <th>coef</th>     <th>std err</th>      <th>t</th>      <th>P>|t|</th>  <th>[0.025</th>    <th>0.975]</th>  \n",
       "</tr>\n",
       "<tr>\n",
       "  <th>Intercept</th> <td>    2.9389</td> <td>    0.312</td> <td>    9.422</td> <td> 0.000</td> <td>    2.324</td> <td>    3.554</td>\n",
       "</tr>\n",
       "<tr>\n",
       "  <th>TV</th>        <td>    0.0458</td> <td>    0.001</td> <td>   32.809</td> <td> 0.000</td> <td>    0.043</td> <td>    0.049</td>\n",
       "</tr>\n",
       "<tr>\n",
       "  <th>radio</th>     <td>    0.1885</td> <td>    0.009</td> <td>   21.893</td> <td> 0.000</td> <td>    0.172</td> <td>    0.206</td>\n",
       "</tr>\n",
       "<tr>\n",
       "  <th>newspaper</th> <td>   -0.0010</td> <td>    0.006</td> <td>   -0.177</td> <td> 0.860</td> <td>   -0.013</td> <td>    0.011</td>\n",
       "</tr>\n",
       "</table>"
      ],
      "text/plain": [
       "<class 'statsmodels.iolib.table.SimpleTable'>"
      ]
     },
     "execution_count": 44,
     "metadata": {},
     "output_type": "execute_result"
    }
   ],
   "source": [
    "lm = smf.ols('sales ~ TV + radio + newspaper', data = df_orig).fit()\n",
    "lm.summary().tables[1]"
   ]
  },
  {
   "cell_type": "markdown",
   "metadata": {},
   "source": [
    "<b>Interpretation of above results:</b>\n",
    "\n",
    "1. For a given amount of TV and newspaper advertising, spending an additional $1000 on newspaper spending leads to an increase in sales of around 189 units.\n",
    "2. MLR coefficients for TV an radio are quite similar to the SLR coefficients but the coefficient for newspaper is significantly different and close to zero. Also, the associated p-value is very high which implies that we cannot reject the null hypothesis that newspaper advertising has no impact on sales.\n",
    "3. Reason for the difference in regression coefficient for newspaper between SLR and MLR is because of the fact that radio and newspaper are positively correlated (see correlation matrix section above) with a correlation coefficient of 0.35"
   ]
  },
  {
   "cell_type": "markdown",
   "metadata": {},
   "source": [
    "## Q1: Is there a relationship between predictors and sales\n",
    "\n",
    "Goal is to test the null-hypothesis:\n",
    "\n",
    "$H_{0}$: $\\beta_{1}$ = $\\beta_{2}$ = ... = $\\beta_{p}$ = 0 versus the alternative:\n",
    "\n",
    "$H_{A}$: Atleast one $\\beta_{j}$ is non-zero.\n",
    "\n",
    "This is equivalent to doing an ANOVA test and F-statistic has to be used."
   ]
  },
  {
   "cell_type": "code",
   "execution_count": 68,
   "metadata": {},
   "outputs": [
    {
     "name": "stdout",
     "output_type": "stream",
     "text": [
      "F-statistic of MLR of sales onto TV, Radio, Newspaper is 570.27\n",
      "P-Value associated with F-statistics is 1.58e-96\n"
     ]
    }
   ],
   "source": [
    "# Table 3.6, Pg. 76 of ISLR\n",
    "print(f\"F-statistic of MLR of sales onto TV, Radio, Newspaper is {lm.fvalue:0.2f}\")\n",
    "print(f\"P-Value associated with F-statistics is {lm.f_pvalue:0.2e}\")"
   ]
  },
  {
   "cell_type": "markdown",
   "metadata": {},
   "source": [
    "<b>Since F-statistic is very high and associated P-value is very small, we can conclude that atleast one of the regression coefficients is non-zero and has an impact on sales.</b>"
   ]
  },
  {
   "cell_type": "markdown",
   "metadata": {},
   "source": [
    "## Q3: Accuracy of model fit"
   ]
  },
  {
   "cell_type": "code",
   "execution_count": 67,
   "metadata": {},
   "outputs": [
    {
     "data": {
      "text/html": [
       "<table class=\"simpletable\">\n",
       "<caption>OLS Regression Results</caption>\n",
       "<tr>\n",
       "  <th>Dep. Variable:</th>          <td>sales</td>      <th>  R-squared:         </th> <td>   0.897</td>\n",
       "</tr>\n",
       "<tr>\n",
       "  <th>Model:</th>                   <td>OLS</td>       <th>  Adj. R-squared:    </th> <td>   0.896</td>\n",
       "</tr>\n",
       "<tr>\n",
       "  <th>Method:</th>             <td>Least Squares</td>  <th>  F-statistic:       </th> <td>   570.3</td>\n",
       "</tr>\n",
       "<tr>\n",
       "  <th>Date:</th>             <td>Sun, 16 May 2021</td> <th>  Prob (F-statistic):</th> <td>1.58e-96</td>\n",
       "</tr>\n",
       "<tr>\n",
       "  <th>Time:</th>                 <td>18:50:37</td>     <th>  Log-Likelihood:    </th> <td> -386.18</td>\n",
       "</tr>\n",
       "<tr>\n",
       "  <th>No. Observations:</th>      <td>   200</td>      <th>  AIC:               </th> <td>   780.4</td>\n",
       "</tr>\n",
       "<tr>\n",
       "  <th>Df Residuals:</th>          <td>   196</td>      <th>  BIC:               </th> <td>   793.6</td>\n",
       "</tr>\n",
       "<tr>\n",
       "  <th>Df Model:</th>              <td>     3</td>      <th>                     </th>     <td> </td>   \n",
       "</tr>\n",
       "<tr>\n",
       "  <th>Covariance Type:</th>      <td>nonrobust</td>    <th>                     </th>     <td> </td>   \n",
       "</tr>\n",
       "</table>\n",
       "<table class=\"simpletable\">\n",
       "<tr>\n",
       "      <td></td>         <th>coef</th>     <th>std err</th>      <th>t</th>      <th>P>|t|</th>  <th>[0.025</th>    <th>0.975]</th>  \n",
       "</tr>\n",
       "<tr>\n",
       "  <th>Intercept</th> <td>    2.9389</td> <td>    0.312</td> <td>    9.422</td> <td> 0.000</td> <td>    2.324</td> <td>    3.554</td>\n",
       "</tr>\n",
       "<tr>\n",
       "  <th>TV</th>        <td>    0.0458</td> <td>    0.001</td> <td>   32.809</td> <td> 0.000</td> <td>    0.043</td> <td>    0.049</td>\n",
       "</tr>\n",
       "<tr>\n",
       "  <th>radio</th>     <td>    0.1885</td> <td>    0.009</td> <td>   21.893</td> <td> 0.000</td> <td>    0.172</td> <td>    0.206</td>\n",
       "</tr>\n",
       "<tr>\n",
       "  <th>newspaper</th> <td>   -0.0010</td> <td>    0.006</td> <td>   -0.177</td> <td> 0.860</td> <td>   -0.013</td> <td>    0.011</td>\n",
       "</tr>\n",
       "</table>\n",
       "<table class=\"simpletable\">\n",
       "<tr>\n",
       "  <th>Omnibus:</th>       <td>60.414</td> <th>  Durbin-Watson:     </th> <td>   2.084</td>\n",
       "</tr>\n",
       "<tr>\n",
       "  <th>Prob(Omnibus):</th> <td> 0.000</td> <th>  Jarque-Bera (JB):  </th> <td> 151.241</td>\n",
       "</tr>\n",
       "<tr>\n",
       "  <th>Skew:</th>          <td>-1.327</td> <th>  Prob(JB):          </th> <td>1.44e-33</td>\n",
       "</tr>\n",
       "<tr>\n",
       "  <th>Kurtosis:</th>      <td> 6.332</td> <th>  Cond. No.          </th> <td>    454.</td>\n",
       "</tr>\n",
       "</table><br/><br/>Notes:<br/>[1] Standard Errors assume that the covariance matrix of the errors is correctly specified."
      ],
      "text/plain": [
       "<class 'statsmodels.iolib.summary.Summary'>\n",
       "\"\"\"\n",
       "                            OLS Regression Results                            \n",
       "==============================================================================\n",
       "Dep. Variable:                  sales   R-squared:                       0.897\n",
       "Model:                            OLS   Adj. R-squared:                  0.896\n",
       "Method:                 Least Squares   F-statistic:                     570.3\n",
       "Date:                Sun, 16 May 2021   Prob (F-statistic):           1.58e-96\n",
       "Time:                        18:50:37   Log-Likelihood:                -386.18\n",
       "No. Observations:                 200   AIC:                             780.4\n",
       "Df Residuals:                     196   BIC:                             793.6\n",
       "Df Model:                           3                                         \n",
       "Covariance Type:            nonrobust                                         \n",
       "==============================================================================\n",
       "                 coef    std err          t      P>|t|      [0.025      0.975]\n",
       "------------------------------------------------------------------------------\n",
       "Intercept      2.9389      0.312      9.422      0.000       2.324       3.554\n",
       "TV             0.0458      0.001     32.809      0.000       0.043       0.049\n",
       "radio          0.1885      0.009     21.893      0.000       0.172       0.206\n",
       "newspaper     -0.0010      0.006     -0.177      0.860      -0.013       0.011\n",
       "==============================================================================\n",
       "Omnibus:                       60.414   Durbin-Watson:                   2.084\n",
       "Prob(Omnibus):                  0.000   Jarque-Bera (JB):              151.241\n",
       "Skew:                          -1.327   Prob(JB):                     1.44e-33\n",
       "Kurtosis:                       6.332   Cond. No.                         454.\n",
       "==============================================================================\n",
       "\n",
       "Notes:\n",
       "[1] Standard Errors assume that the covariance matrix of the errors is correctly specified.\n",
       "\"\"\""
      ]
     },
     "execution_count": 67,
     "metadata": {},
     "output_type": "execute_result"
    }
   ],
   "source": [
    "lm.summary()"
   ]
  }
 ],
 "metadata": {
  "kernelspec": {
   "display_name": "Python 3",
   "language": "python",
   "name": "python3"
  },
  "language_info": {
   "codemirror_mode": {
    "name": "ipython",
    "version": 3
   },
   "file_extension": ".py",
   "mimetype": "text/x-python",
   "name": "python",
   "nbconvert_exporter": "python",
   "pygments_lexer": "ipython3",
   "version": "3.8.5"
  },
  "toc": {
   "base_numbering": 1,
   "nav_menu": {},
   "number_sections": true,
   "sideBar": true,
   "skip_h1_title": false,
   "title_cell": "Table of Contents",
   "title_sidebar": "Contents",
   "toc_cell": false,
   "toc_position": {
    "height": "calc(100% - 180px)",
    "left": "10px",
    "top": "150px",
    "width": "256px"
   },
   "toc_section_display": true,
   "toc_window_display": true
  }
 },
 "nbformat": 4,
 "nbformat_minor": 4
}
