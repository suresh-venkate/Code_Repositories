{
 "cells": [
  {
   "cell_type": "markdown",
   "metadata": {},
   "source": [
    "# MDP Value Iteration - Gambler's Problem\n",
    "\n",
    "* **Description:** Perform iterative value iteration for the Gambler's problem\n",
    "* **Reference:** Reinforcement Learning, An Introduction, Second Edition by Sutton, Barto\n",
    "* **Section:** Section 4.4, Example 4.3, Pg. 84"
   ]
  },
  {
   "cell_type": "code",
   "execution_count": 1,
   "metadata": {},
   "outputs": [],
   "source": [
    "#######################################################################\n",
    "# Copyright (C)                                                       #\n",
    "# 2016 Shangtong Zhang(zhangshangtong.cpp@gmail.com)                  #\n",
    "# 2016 Kenta Shimada(hyperkentakun@gmail.com)                         #\n",
    "# Permission given to modify the code as long as you keep this        #\n",
    "# declaration at the top                                              #\n",
    "#######################################################################"
   ]
  },
  {
   "cell_type": "markdown",
   "metadata": {},
   "source": [
    "# Import required libraries"
   ]
  },
  {
   "cell_type": "code",
   "execution_count": null,
   "metadata": {},
   "outputs": [],
   "source": [
    "from __future__ import print_function\n",
    "import numpy as np\n",
    "import matplotlib.pyplot as plt"
   ]
  },
  {
   "cell_type": "code",
   "execution_count": null,
   "metadata": {},
   "outputs": [],
   "source": [
    "# goal\n",
    "GOAL = 100\n",
    "\n",
    "# all states, including state 0 and state 100\n",
    "states = np.arange(GOAL + 1)\n",
    "\n",
    "# probability of head\n",
    "headProb = 0.4\n",
    "\n",
    "# optimal policy\n",
    "policy = np.zeros(GOAL + 1)\n",
    "\n",
    "# state value\n",
    "stateValue = np.zeros(GOAL + 1)\n",
    "stateValue[GOAL] = 1.0\n",
    "\n",
    "# value iteration\n",
    "while True:\n",
    "    delta = 0.0\n",
    "    for state in states[1:GOAL]:\n",
    "        # get possilbe actions for current state\n",
    "        actions = np.arange(min(state, GOAL - state) + 1)\n",
    "        actionReturns = []\n",
    "        for action in actions:\n",
    "            actionReturns.append(headProb * stateValue[state + action] + (1 - headProb) * stateValue[state - action])\n",
    "        newValue = np.max(actionReturns)\n",
    "        delta += np.abs(stateValue[state] - newValue)\n",
    "        # update state value\n",
    "        stateValue[state] = newValue\n",
    "    if delta < 1e-9:\n",
    "        break\n",
    "\n",
    "# calculate the optimal policy\n",
    "for state in states[1:GOAL]:\n",
    "    actions = np.arange(min(state, GOAL - state) + 1)\n",
    "    actionReturns = []\n",
    "    for action in actions:\n",
    "        actionReturns.append(headProb * stateValue[state + action] + (1 - headProb) * stateValue[state - action])\n",
    "    # due to tie, can't reproduce the optimal policy in book\n",
    "    policy[state] = actions[np.argmax(actionReturns)]\n",
    "\n",
    "# figure 4.3\n",
    "plt.figure(1)\n",
    "plt.xlabel('Capital')\n",
    "plt.ylabel('Value estimates')\n",
    "plt.plot(stateValue)\n",
    "plt.figure(2)\n",
    "plt.scatter(states, policy)\n",
    "plt.xlabel('Capital')\n",
    "plt.ylabel('Final policy (stake)')\n",
    "plt.show()"
   ]
  }
 ],
 "metadata": {
  "kernelspec": {
   "display_name": "Python 3",
   "language": "python",
   "name": "python3"
  },
  "language_info": {
   "codemirror_mode": {
    "name": "ipython",
    "version": 3
   },
   "file_extension": ".py",
   "mimetype": "text/x-python",
   "name": "python",
   "nbconvert_exporter": "python",
   "pygments_lexer": "ipython3",
   "version": "3.8.5"
  },
  "toc": {
   "base_numbering": 1,
   "nav_menu": {},
   "number_sections": true,
   "sideBar": true,
   "skip_h1_title": false,
   "title_cell": "Table of Contents",
   "title_sidebar": "Contents",
   "toc_cell": false,
   "toc_position": {},
   "toc_section_display": true,
   "toc_window_display": true
  }
 },
 "nbformat": 4,
 "nbformat_minor": 4
}
