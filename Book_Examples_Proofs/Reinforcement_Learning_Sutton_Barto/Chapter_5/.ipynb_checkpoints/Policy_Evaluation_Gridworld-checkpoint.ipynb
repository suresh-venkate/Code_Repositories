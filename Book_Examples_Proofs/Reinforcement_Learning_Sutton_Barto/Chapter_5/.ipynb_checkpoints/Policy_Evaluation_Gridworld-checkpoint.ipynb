{
 "cells": [
  {
   "cell_type": "markdown",
   "metadata": {},
   "source": [
    "# MDP Policy Evaluation - Gridworld\n",
    "\n",
    "* **Description:** Perform iterative policy evaluation for the gridworld example\n",
    "* **Reference:** Reinforcement Learning, An Introduction, Second Edition by Sutton, Barto\n",
    "* **Section:** Section 4.1, Example 4.1, Pg. 76 to 77"
   ]
  },
  {
   "cell_type": "markdown",
   "metadata": {},
   "source": [
    "# Import required libraries"
   ]
  },
  {
   "cell_type": "code",
   "execution_count": 8,
   "metadata": {},
   "outputs": [],
   "source": [
    "import numpy as np\n",
    "import matplotlib.pyplot as plt\n",
    "import seaborn as sns\n",
    "import pandas as pd\n",
    "import math\n",
    "\n",
    "from tqdm import tqdm"
   ]
  },
  {
   "cell_type": "markdown",
   "metadata": {},
   "source": [
    "# Define classes and functions"
   ]
  },
  {
   "cell_type": "markdown",
   "metadata": {},
   "source": [
    "## Class: Agent"
   ]
  },
  {
   "cell_type": "code",
   "execution_count": 2,
   "metadata": {},
   "outputs": [],
   "source": [
    "class Agent(object):\n",
    "    '''\n",
    "    Defines the agent class for the gridworld problem\n",
    "    Arguments:\n",
    "        policy_init: Initial policy to use for the agent class\n",
    "        actions: List of actions that the agent can take\n",
    "    '''\n",
    "    \n",
    "    def __init__(self, policy_init, actions):\n",
    "        self.policy = policy_init\n",
    "        self.actions = actions\n",
    "        \n",
    "    def step(self, state):\n",
    "        # Execute one step of agent based on current state\n",
    "        if isinstance(self.policy, str):\n",
    "            if(self.policy == 'random'): # Choose an action randomly for 'random' policy\n",
    "                return np.random.choice(self.actions)        \n",
    "        "
   ]
  },
  {
   "cell_type": "markdown",
   "metadata": {},
   "source": [
    "## Class: Environment"
   ]
  },
  {
   "cell_type": "code",
   "execution_count": 3,
   "metadata": {},
   "outputs": [],
   "source": [
    "class Environment(object):\n",
    "    '''\n",
    "    Defines the environment class for a n x n gridworld problem\n",
    "    Arguments:\n",
    "        n: Defines the size of the gridworld. n x n gridworld is generated\n",
    "        reward: Reward value for each transition\n",
    "    '''\n",
    "    \n",
    "    def __init__(self, n, reward):\n",
    "        self.n = n\n",
    "        self.state_list = list(range(n ** 2))\n",
    "        self.reward = reward\n",
    "        \n",
    "    def set_state(self, state): # Set the environment to a particular state\n",
    "        self.state = state\n",
    "        \n",
    "    def respond(self, action): # Respond to a particular action\n",
    "        if (self.state == 0 or self.state == (self.n ** 2 - 1)): \n",
    "            # Terminal states. Stay in that state for any action and return reward = 0\n",
    "            return self.state, 0\n",
    "        else:\n",
    "            if (action == 'up'): # Execute up action\n",
    "                if (self.state < self.n):\n",
    "                    self.state = self.state\n",
    "                else:\n",
    "                    self.state = self.state - 4\n",
    "            if (action == 'down'): # Execute down action\n",
    "                if (self.state >= (self.n * (self.n - 1))):\n",
    "                    self.state = self.state\n",
    "                else:\n",
    "                    self.state = self.state + 4\n",
    "            if (action == 'right'): # Execute right action\n",
    "                if ((self.state + 1) % self.n == 0):\n",
    "                    self.state = self.state\n",
    "                else:\n",
    "                    self.state = self.state + 1\n",
    "            if (action == 'left'): # Execute left action\n",
    "                if (self.state % self.n == 0):\n",
    "                    self.state = self.state\n",
    "                else:\n",
    "                    self.state = self.state - 1\n",
    "            return self.state, self.reward    "
   ]
  },
  {
   "cell_type": "markdown",
   "metadata": {},
   "source": [
    "## Function: iter_pol_eval"
   ]
  },
  {
   "cell_type": "code",
   "execution_count": 35,
   "metadata": {},
   "outputs": [],
   "source": [
    "def iter_pol_eval(svf_init, actions_list, gw_envir, theta, plot_iter_ind, num_cols, plot = False):\n",
    "    '''\n",
    "    Run the iterative policy evaluation algorithm - Non in-place method\n",
    "    Arguments:\n",
    "        svf_init: Initial state-value function\n",
    "        actions_list: List of actions that agent can take.\n",
    "        gw_envir: Environment instance\n",
    "        theta: Accuracy threshold at which to stop iteration (Pg. 97 of RL_Sutton) \n",
    "        plot_iter_ind: Iteration indices at which value functions will be plotted\n",
    "        num_cols: Number of columns to use for plotting\n",
    "        plot: boolean. If True, plot value functions\n",
    "    '''\n",
    "\n",
    "    num_plots = len(plot_iter_ind) + 2 # Plot initial and final value functions also\n",
    "    num_rows = math.ceil(num_plots / num_cols) # Number of rows to use for plotting\n",
    "    fig = plt.figure(figsize = ((num_cols * 3), (num_rows * 3.2)))\n",
    "    fig.suptitle('State Value Functions at different iterations', fontsize = 30)\n",
    "    sns.set(font_scale = 1.15)\n",
    "    \n",
    "    ind = 1 # Initialize iteration index \n",
    "    gw_size = int(np.sqrt(len(svf_init)))\n",
    "    plot_ind = 1\n",
    "    while(1): # Run iterative policy evaluation till convergence\n",
    "        if (ind == 1):\n",
    "            svf_curr = svf_init # Initialize current state value function in first iteration\n",
    "        else:\n",
    "            svf_curr = svf_next\n",
    "        svf_next = np.zeros(len(svf_init)) # v_(k+1): Placeholder for next state value function.        \n",
    "        # Loop through all states (leave out terminal states)\n",
    "        for s in range(1, (len(svf_init) - 1)): \n",
    "            for act in actions_list: # Execute all actions for each state\n",
    "                gw_envir.set_state(s)\n",
    "                s_pr, r = gw_envir.respond(act) # Get next state and reward from environment\n",
    "                # Note: Only one possible next state, reward for each s,a pair\n",
    "                # So, p(s',r|s,a) = 1\n",
    "                svf_next[s] += r + svf_curr[s_pr] # Update next state value function\n",
    "            # For equiprobable random policy pi(a|s) = 1/(num_actions)\n",
    "            svf_next[s] = svf_next[s] / len(actions_list)\n",
    "        \n",
    "        # Plot value function\n",
    "        if (plot):\n",
    "            if (ind == 1):\n",
    "                ax = plt.subplot(num_rows, num_cols, (plot_ind))\n",
    "                ax.set_title(f\"Initial_Value_Function\", fontsize = 15)\n",
    "                svf_table_df = pd.DataFrame(svf_curr.reshape(gw_size, gw_size))\n",
    "                sns.heatmap(svf_table_df, annot = True, cbar = False, square = True,\\\n",
    "                            cmap = 'Greys', vmin = 0, fmt = \"0.1f\", linewidths = 1,\\\n",
    "                            linecolor = 'black', xticklabels = False, yticklabels = False, ax = ax)\n",
    "                plot_ind += 1\n",
    "            if (ind in plot_iter_ind):\n",
    "                ax = plt.subplot(num_rows, num_cols, (plot_ind))\n",
    "                ax.set_title(f\"Iteration: {ind}\", fontsize = 15)\n",
    "                svf_table_df = pd.DataFrame(svf_next.reshape(gw_size, gw_size))\n",
    "                sns.heatmap(svf_table_df, annot = True, cbar = False, square = True,\\\n",
    "                            cmap = 'Greys', vmin = 0, fmt = \"0.1f\", linewidths = 1,\\\n",
    "                            linecolor = 'black', xticklabels = False, yticklabels = False, ax = ax) \n",
    "                plot_ind += 1\n",
    "            \n",
    "        # Compute delta\n",
    "        svf_delta = svf_next - svf_curr\n",
    "        delta = np.dot(svf_delta, svf_delta.T)\n",
    "        if (delta < theta):\n",
    "            break\n",
    "        ind += 1\n",
    "    \n",
    "    if (plot):\n",
    "        ax = plt.subplot(num_rows, num_cols, (plot_ind))\n",
    "        ax.set_title(f\"Final_Value_Function\", fontsize = 15)\n",
    "        svf_table_df = pd.DataFrame(svf_next.reshape(gw_size, gw_size))\n",
    "        sns.heatmap(svf_table_df, annot = True, cbar = False, square = True,\\\n",
    "                    cmap = 'Greys', vmin = 0, fmt = \"0.1f\", linewidths = 1,\\\n",
    "                    linecolor = 'black', xticklabels = False, yticklabels = False, ax = ax) \n",
    "        \n",
    "    return ind, svf_next"
   ]
  },
  {
   "cell_type": "markdown",
   "metadata": {},
   "source": [
    "# Initialize RL system"
   ]
  },
  {
   "cell_type": "code",
   "execution_count": 5,
   "metadata": {},
   "outputs": [],
   "source": [
    "policy_init = 'random' # Set initial policy to equiprobable random policy\n",
    "actions_list = ['up', 'down', 'right', 'left']\n",
    "gw_size = 4 # 4 x 4 gridworld\n",
    "\n",
    "gw_agent = Agent(policy_init, actions_list) # Instantiate agent\n",
    "gw_envir = Environment(gw_size, -1) # Instantiate environment"
   ]
  },
  {
   "cell_type": "markdown",
   "metadata": {},
   "source": [
    "# Run Iterative Policy Evaluation"
   ]
  },
  {
   "cell_type": "code",
   "execution_count": 36,
   "metadata": {},
   "outputs": [
    {
     "name": "stdout",
     "output_type": "stream",
     "text": [
      "Policy evaluation converged in 131 steps\n"
     ]
    },
    {
     "data": {
      "image/png": "[encoded data removed]",
      "text/plain": [
       "<Figure size 864x460.8 with 8 Axes>"
      ]
     },
     "metadata": {},
     "output_type": "display_data"
    }
   ],
   "source": [
    "svf_init = np.zeros(gw_size ** 2) # v_0: Initialize value function array to all zeros.\n",
    "theta = 1e-5 # Accuracy threshold at which to stop iteration\n",
    "num_cols = 4\n",
    "plot_iter_ind = [1, 2, 3, 4, 50, 100]\n",
    "\n",
    "# Run iterative policy evaluation\n",
    "ind, svf_final = iter_pol_eval(svf_init, actions_list, gw_envir, theta, plot_iter_ind,\\\n",
    "                               num_cols, True)\n",
    "print(f\"Policy evaluation converged in {ind} steps\")    "
   ]
  },
  {
   "cell_type": "markdown",
   "metadata": {},
   "source": [
    "# Run agent"
   ]
  },
  {
   "cell_type": "code",
   "execution_count": null,
   "metadata": {},
   "outputs": [],
   "source": [
    "num_runs = 10000\n",
    "reward_list = []\n",
    "for run in tqdm(range(num_runs)):\n",
    "    gw_envir.set_state(4)\n",
    "    reward = 0\n",
    "    while(1):\n",
    "        s = gw_envir.state\n",
    "        action = gw_agent.step(s)\n",
    "        s_pr, r = gw_envir.respond(action)\n",
    "        reward += r\n",
    "        # print(s, action, s_pr, r)\n",
    "        if (s_pr == 0 or s_pr == 15):\n",
    "            break\n",
    "    reward_list.append(reward)\n",
    "# print(reward_list)    \n",
    "print(np.mean(reward_list))"
   ]
  }
 ],
 "metadata": {
  "kernelspec": {
   "display_name": "Python 3",
   "language": "python",
   "name": "python3"
  },
  "language_info": {
   "codemirror_mode": {
    "name": "ipython",
    "version": 3
   },
   "file_extension": ".py",
   "mimetype": "text/x-python",
   "name": "python",
   "nbconvert_exporter": "python",
   "pygments_lexer": "ipython3",
   "version": "3.8.5"
  },
  "toc": {
   "base_numbering": 1,
   "nav_menu": {},
   "number_sections": true,
   "sideBar": true,
   "skip_h1_title": false,
   "title_cell": "Table of Contents",
   "title_sidebar": "Contents",
   "toc_cell": false,
   "toc_position": {},
   "toc_section_display": true,
   "toc_window_display": true
  }
 },
 "nbformat": 4,
 "nbformat_minor": 4
}
