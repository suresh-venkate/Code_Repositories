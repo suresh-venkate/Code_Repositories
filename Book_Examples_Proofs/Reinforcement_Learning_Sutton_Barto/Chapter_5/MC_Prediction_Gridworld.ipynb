{
 "cells": [
  {
   "cell_type": "markdown",
   "metadata": {},
   "source": [
    "# Monte Carlo Prediction - Gridworld\n",
    "\n",
    "* **Description:** Perform iterative policy evaluation for the gridworld example\n",
    "* **Reference:** Reinforcement Learning, An Introduction, Second Edition by Sutton, Barto\n",
    "* **Section:** Section 4.1, Example 4.1, Pg. 76 to 77"
   ]
  },
  {
   "cell_type": "markdown",
   "metadata": {},
   "source": [
    "# Import required libraries"
   ]
  },
  {
   "cell_type": "code",
   "execution_count": 1,
   "metadata": {},
   "outputs": [],
   "source": [
    "import numpy as np\n",
    "import matplotlib.pyplot as plt\n",
    "import seaborn as sns\n",
    "import pandas as pd\n",
    "import math\n",
    "\n",
    "from tqdm import tqdm\n",
    "from collections import defaultdict"
   ]
  },
  {
   "cell_type": "markdown",
   "metadata": {},
   "source": [
    "# Define classes and functions"
   ]
  },
  {
   "cell_type": "markdown",
   "metadata": {},
   "source": [
    "## Class: Agent"
   ]
  },
  {
   "cell_type": "code",
   "execution_count": 2,
   "metadata": {},
   "outputs": [],
   "source": [
    "class Agent(object):\n",
    "    '''\n",
    "    Defines the agent class\n",
    "    Arguments:\n",
    "        policy_init: Initial policy to use for the agent class\n",
    "        actions: List of actions that the agent can take\n",
    "    '''\n",
    "    \n",
    "    def __init__(self, policy_init, actions):\n",
    "        self.policy = policy_init # Initial policy\n",
    "        self.actions = actions # List of actions\n",
    "        \n",
    "    def step(self, state):\n",
    "        # Execute one step of agent based on current state\n",
    "        if isinstance(self.policy, str):\n",
    "            if(self.policy == 'random'): # Choose an action randomly for 'random' policy\n",
    "                return np.random.choice(self.actions)        \n",
    "        "
   ]
  },
  {
   "cell_type": "markdown",
   "metadata": {},
   "source": [
    "## Class: Environment - Grid World"
   ]
  },
  {
   "cell_type": "code",
   "execution_count": 3,
   "metadata": {},
   "outputs": [],
   "source": [
    "class GW_Environment(object):\n",
    "    '''\n",
    "    Defines the environment class for a n x n gridworld problem\n",
    "    Arguments:\n",
    "        n: Defines the size of the gridworld. n x n gridworld is generated\n",
    "        reward: Reward value for each transition\n",
    "    '''\n",
    "    \n",
    "    def __init__(self, n, reward):\n",
    "        self.n = n\n",
    "        self.state_list = list(range(n ** 2))\n",
    "        self.reward = reward\n",
    "        \n",
    "    def set_state(self, state): # Set the environment to a particular state\n",
    "        self.state = state\n",
    "        \n",
    "    def respond(self, action): # Respond to a particular action\n",
    "        if (self.state == 0 or self.state == (self.n ** 2 - 1)): \n",
    "            # Terminal states. Stay in that state for any action and return reward = 0\n",
    "            return self.state, 0\n",
    "        else:\n",
    "            if (action == 'up'): # Execute up action\n",
    "                if (self.state < self.n):\n",
    "                    self.state = self.state\n",
    "                else:\n",
    "                    self.state = self.state - 4\n",
    "            if (action == 'down'): # Execute down action\n",
    "                if (self.state >= (self.n * (self.n - 1))):\n",
    "                    self.state = self.state\n",
    "                else:\n",
    "                    self.state = self.state + 4\n",
    "            if (action == 'right'): # Execute right action\n",
    "                if ((self.state + 1) % self.n == 0):\n",
    "                    self.state = self.state\n",
    "                else:\n",
    "                    self.state = self.state + 1\n",
    "            if (action == 'left'): # Execute left action\n",
    "                if (self.state % self.n == 0):\n",
    "                    self.state = self.state\n",
    "                else:\n",
    "                    self.state = self.state - 1\n",
    "            return self.state, self.reward    "
   ]
  },
  {
   "cell_type": "markdown",
   "metadata": {},
   "source": [
    "## Function: iter_pol_eval"
   ]
  },
  {
   "cell_type": "code",
   "execution_count": 4,
   "metadata": {},
   "outputs": [],
   "source": [
    "def iter_pol_eval(svf_init, actions_list, gw_envir, theta, plot_iter_ind, num_cols, plot = False):\n",
    "    '''\n",
    "    Run the iterative policy evaluation algorithm - Non in-place method\n",
    "    Arguments:\n",
    "        svf_init: Initial state-value function\n",
    "        actions_list: List of actions that agent can take.\n",
    "        gw_envir: Environment instance\n",
    "        theta: Accuracy threshold at which to stop iteration (Pg. 97 of RL_Sutton) \n",
    "        plot_iter_ind: Iteration indices at which value functions will be plotted\n",
    "        num_cols: Number of columns to use for plotting\n",
    "        plot: boolean. If True, plot value functions\n",
    "    '''\n",
    "\n",
    "    num_plots = len(plot_iter_ind) + 2 # Plot initial and final value functions also\n",
    "    num_rows = math.ceil(num_plots / num_cols) # Number of rows to use for plotting\n",
    "    fig = plt.figure(figsize = ((num_cols * 3), (num_rows * 3.2)))\n",
    "    fig.suptitle('State Value Functions at different iterations', fontsize = 30)\n",
    "    sns.set(font_scale = 1.15)\n",
    "    \n",
    "    ind = 1 # Initialize iteration index \n",
    "    gw_size = int(np.sqrt(len(svf_init)))\n",
    "    plot_ind = 1\n",
    "    while(1): # Run iterative policy evaluation till convergence\n",
    "        if (ind == 1):\n",
    "            svf_curr = svf_init # Initialize current state value function in first iteration\n",
    "        else:\n",
    "            svf_curr = svf_next\n",
    "        svf_next = np.zeros(len(svf_init)) # v_(k+1): Placeholder for next state value function.        \n",
    "        # Loop through all states (leave out terminal states)\n",
    "        for s in range(1, (len(svf_init) - 1)): \n",
    "            for act in actions_list: # Execute all actions for each state\n",
    "                gw_envir.set_state(s)\n",
    "                s_pr, r = gw_envir.respond(act) # Get next state and reward from environment\n",
    "                # Note: Only one possible next state, reward for each s,a pair\n",
    "                # So, p(s',r|s,a) = 1\n",
    "                svf_next[s] += r + svf_curr[s_pr] # Update next state value function\n",
    "            # For equiprobable random policy pi(a|s) = 1/(num_actions)\n",
    "            svf_next[s] = svf_next[s] / len(actions_list)\n",
    "        \n",
    "        # Plot value function\n",
    "        if (plot):\n",
    "            if (ind == 1):\n",
    "                ax = plt.subplot(num_rows, num_cols, (plot_ind))\n",
    "                ax.set_title(f\"Initial_Value_Function\", fontsize = 15)\n",
    "                svf_table_df = pd.DataFrame(svf_curr.reshape(gw_size, gw_size))\n",
    "                sns.heatmap(svf_table_df, annot = True, cbar = False, square = True,\\\n",
    "                            cmap = 'Greys', vmin = 0, fmt = \"0.1f\", linewidths = 1,\\\n",
    "                            linecolor = 'black', xticklabels = False, yticklabels = False, ax = ax)\n",
    "                plot_ind += 1\n",
    "            if (ind in plot_iter_ind):\n",
    "                ax = plt.subplot(num_rows, num_cols, (plot_ind))\n",
    "                ax.set_title(f\"Iteration: {ind}\", fontsize = 15)\n",
    "                svf_table_df = pd.DataFrame(svf_next.reshape(gw_size, gw_size))\n",
    "                sns.heatmap(svf_table_df, annot = True, cbar = False, square = True,\\\n",
    "                            cmap = 'Greys', vmin = 0, fmt = \"0.1f\", linewidths = 1,\\\n",
    "                            linecolor = 'black', xticklabels = False, yticklabels = False, ax = ax) \n",
    "                plot_ind += 1\n",
    "            \n",
    "        # Compute delta\n",
    "        svf_delta = svf_next - svf_curr\n",
    "        delta = np.dot(svf_delta, svf_delta.T)\n",
    "        if (delta < theta):\n",
    "            break\n",
    "        ind += 1\n",
    "    \n",
    "    if (plot):\n",
    "        ax = plt.subplot(num_rows, num_cols, (plot_ind))\n",
    "        ax.set_title(f\"Final_Value_Function\", fontsize = 15)\n",
    "        svf_table_df = pd.DataFrame(svf_next.reshape(gw_size, gw_size))\n",
    "        sns.heatmap(svf_table_df, annot = True, cbar = False, square = True,\\\n",
    "                    cmap = 'Greys', vmin = 0, fmt = \"0.1f\", linewidths = 1,\\\n",
    "                    linecolor = 'black', xticklabels = False, yticklabels = False, ax = ax) \n",
    "        \n",
    "    return ind, svf_next"
   ]
  },
  {
   "cell_type": "markdown",
   "metadata": {},
   "source": [
    "## Function: gen_episode"
   ]
  },
  {
   "cell_type": "code",
   "execution_count": 5,
   "metadata": {},
   "outputs": [],
   "source": [
    "def gen_episode(envir, agent, init_state, term_states, verb = False):\n",
    "    \n",
    "    '''\n",
    "    Generate one episode of agent-environment interaction\n",
    "    Arguments:\n",
    "        envir: Instance of environment to use for generating episode\n",
    "        agent: Instance of agent to use for generating episode\n",
    "        init_state: Initial state from which episode will start\n",
    "        term_states: List of states that are considered terminal states\n",
    "        verb: Boolean, controls verbosity\n",
    "        \n",
    "    Returns:\n",
    "        states_list: List of states encountered in the episode (includes init_state and term_state)\n",
    "        actions_list: List of actions take by agent at each time step\n",
    "        rewards_list: List of rewards received by agent at each time step\n",
    "    '''\n",
    "    \n",
    "    states_list = [] # Placeholder to store list of all states encountered in episode\n",
    "    actions_list = [] # Placeholder to store list of all actions taken by agent\n",
    "    rewards_list = [] # Placeholder to store list of rewards received at each step\n",
    "        \n",
    "    envir.set_state(init_state) # Initialize environment state\n",
    "    states_list.append(envir.state) # Update states_list with initial state\n",
    "    while(1): # Run agent till terminal states are reached\n",
    "        s_t = envir.state # Retrieve current state of environment (State at time t)\n",
    "        a_t = agent.step(s_t) # Action taken by agent at time t\n",
    "        s_tplus1, rew_tplus1 = envir.respond(a_t) # Environment reponds to action a_t and moves\n",
    "                                                  # to state s_tplus1 and\n",
    "                                                  # returns a reward rew_tplus1\n",
    "        states_list.append(s_tplus1) # Update states_list\n",
    "        actions_list.append(a_t) # Update actions_list\n",
    "        rewards_list.append(rew_tplus1) # Update rewards list\n",
    "        \n",
    "        # Stop episode if terminal state has been reached\n",
    "        if (s_tplus1 in term_states): \n",
    "            if (verb):\n",
    "                print(\"Terminal state reached.\")\n",
    "            break\n",
    "            \n",
    "    return states_list, actions_list, rewards_list        "
   ]
  },
  {
   "cell_type": "markdown",
   "metadata": {},
   "source": [
    "## Function: mc_prediction"
   ]
  },
  {
   "cell_type": "code",
   "execution_count": 6,
   "metadata": {},
   "outputs": [],
   "source": [
    "def mc_prediction(envir, agent, non_term_states, term_states, num_ep, gamma, visit_type):\n",
    "    \n",
    "    '''\n",
    "    Function to run MC prediction and estimate state value function\n",
    "    Arguments:\n",
    "        envir: Instance of environment to use for generating episode\n",
    "        agent: Instance of agent to use for generating episode\n",
    "        non_term_states: List of non-terminal states\n",
    "        term_states: List of terminal states\n",
    "        num_ep: Number of episodes to use for MC prediction algorithm\n",
    "        gamma: Discounting factor for reward computation\n",
    "        visit_type: 'first' for first-visit MC prediction,\n",
    "                    'every' for every-visit MC prediction.\n",
    "        \n",
    "    Returns:\n",
    "        svpi: State value function for policy with which agent has been initialized\n",
    "        state_count: Number of times each state is encountered during MC prediction\n",
    "    '''\n",
    "    \n",
    "    # Initialize value function and count for all states to zero\n",
    "    svpi = defaultdict(int) # State value function for given policy 'pi'\n",
    "    avpi = defaultdict(int) # Action value function for given policy 'pi'\n",
    "    state_count = defaultdict(int) # Number of times each state is encountered across episodes\n",
    "    st_act_count = defaultdict(int) # Number of times a particular state-action pair is encountered across episodes.\n",
    "    for state in non_term_states:\n",
    "        svpi[state] = 0\n",
    "        state_count[state] = 0\n",
    "    \n",
    "    # Loop through 'num_ep' episodes\n",
    "    for ep in tqdm(range(num_ep)):\n",
    "        init_state = np.random.choice(non_term_states) # Choose a random initial state\n",
    "        ep_states, ep_actions, ep_rewards = gen_episode(envir, agent, init_state, term_states) # Generate one episode\n",
    "        num_timesteps = len(ep_rewards) # Number of timesteps in current episode\n",
    "        G = 0 # Initialize return to 0\n",
    "        \n",
    "        # Loop through each timestep of current episode\n",
    "        for ind in range((num_timesteps - 1), -1, -1): \n",
    "            G = gamma * G + ep_rewards[ind] # Update return of current timestep\n",
    "            curr_state = ep_states[ind] # Retrieve state of current timestep\n",
    "            curr_action = ep_actions[ind] # Retrieve action of current timestep\n",
    "            curr_st_act = str(curr_state) + '_' + curr_action\n",
    "            if (visit_type == 'first'): # For first-visit MC prediction\n",
    "                if (curr_state not in ep_states[0:ind]):\n",
    "                    state_count[curr_state] += 1\n",
    "                    svpi[curr_state] += (G - svpi[curr_state]) / state_count[curr_state]\n",
    "            elif (visit_type == 'every'): # For every-visit MC prediction\n",
    "                state_count[curr_state] += 1\n",
    "                st_act_count[curr_st_act] += 1\n",
    "                svpi[curr_state] += (G - svpi[curr_state]) / state_count[curr_state]\n",
    "                avpi[curr_st_act] += (G - avpi[curr_st_act]) / st_act_count[curr_st_act]\n",
    "                \n",
    "        \n",
    "    return svpi, state_count, avpi, st_act_count"
   ]
  },
  {
   "cell_type": "markdown",
   "metadata": {},
   "source": [
    "# Initialize RL system"
   ]
  },
  {
   "cell_type": "code",
   "execution_count": 7,
   "metadata": {},
   "outputs": [],
   "source": [
    "policy_init = 'random' # Set initial policy to equiprobable random policy\n",
    "actions_list = ['up', 'down', 'right', 'left']\n",
    "gw_size = 4 # 4 x 4 gridworld\n",
    "\n",
    "gw_agent = Agent(policy_init, actions_list) # Instantiate agent\n",
    "gw_envir = GW_Environment(gw_size, -1) # Instantiate environment"
   ]
  },
  {
   "cell_type": "markdown",
   "metadata": {},
   "source": [
    "# Run Iterative Policy Evaluation"
   ]
  },
  {
   "cell_type": "code",
   "execution_count": 8,
   "metadata": {},
   "outputs": [
    {
     "name": "stdout",
     "output_type": "stream",
     "text": [
      "Policy evaluation converged in 131 steps\n"
     ]
    },
    {
     "data": {
      "image/png": "[encoded data removed]",
      "text/plain": [
       "<Figure size 864x460.8 with 8 Axes>"
      ]
     },
     "metadata": {},
     "output_type": "display_data"
    }
   ],
   "source": [
    "svf_init = np.zeros(gw_size ** 2) # v_0: Initialize value function array to all zeros.\n",
    "theta = 1e-5 # Accuracy threshold at which to stop iteration\n",
    "num_cols = 4\n",
    "plot_iter_ind = [1, 2, 3, 4, 50, 100]\n",
    "\n",
    "# Run iterative policy evaluation\n",
    "ind, svf_final = iter_pol_eval(svf_init, actions_list, gw_envir, theta, plot_iter_ind,\\\n",
    "                               num_cols, True)\n",
    "print(f\"Policy evaluation converged in {ind} steps\")    "
   ]
  },
  {
   "cell_type": "markdown",
   "metadata": {},
   "source": [
    "# Run Monte-Carlo Prediction"
   ]
  },
  {
   "cell_type": "code",
   "execution_count": 9,
   "metadata": {
    "scrolled": true
   },
   "outputs": [
    {
     "name": "stderr",
     "output_type": "stream",
     "text": [
      "100%|██████████████████████████████████████████████████████████████████████████| 30000/30000 [00:11<00:00, 2527.40it/s]\n"
     ]
    },
    {
     "data": {
      "image/png": "[encoded data removed]",
      "text/plain": [
       "<Figure size 216x230.4 with 1 Axes>"
      ]
     },
     "metadata": {},
     "output_type": "display_data"
    }
   ],
   "source": [
    "# Initialize required variables\n",
    "term_states = [0, 15] # List of terminal states\n",
    "non_term_states = list(range(1, 15, 1)) # List of non-terminal states\n",
    "gamma = 1 # Discount factor for return calculation\n",
    "num_ep = 30000 # Number of episodes to run\n",
    "visit_type = 'every'\n",
    "\n",
    "# Run first-visit MC Prediction algorithm\n",
    "svpi, state_count, avpi, st_act_count = mc_prediction(gw_envir, gw_agent, non_term_states, term_states, num_ep,\\\n",
    "                                                      gamma, visit_type)\n",
    "\n",
    "# Extract state-value function corresponding to policy pi\n",
    "svf_pi = [0] # First terminal state\n",
    "for key in svpi.keys(): # Non-terminal states\n",
    "    svf_pi.append(svpi[key])\n",
    "svf_pi.append(0) # Last terminal state\n",
    "svf_pi = np.array(svf_pi)\n",
    "\n",
    "fig = plt.figure(figsize = (3, 3.2))\n",
    "fig.suptitle('State Value Functions obtained through first-visit MC prediction', fontsize = 20)\n",
    "sns.set(font_scale = 1.15)\n",
    "ax = plt.subplot(1, 1, 1)\n",
    "svf_table_df = pd.DataFrame(svf_pi.reshape(gw_size, gw_size))\n",
    "sns.heatmap(svf_table_df, annot = True, cbar = False, square = True,\\\n",
    "            cmap = 'Greys', vmin = 0, fmt = \"0.1f\", linewidths = 1,\\\n",
    "            linecolor = 'black', xticklabels = False, yticklabels = False, ax = ax);"
   ]
  },
  {
   "cell_type": "code",
   "execution_count": 61,
   "metadata": {},
   "outputs": [
    {
     "data": {
      "text/plain": [
       "-19.757964684176404"
      ]
     },
     "execution_count": 61,
     "metadata": {},
     "output_type": "execute_result"
    }
   ],
   "source": [
    "(avpi['2_left'] + avpi['2_right'] + avpi['2_up'] + avpi['2_down'])/4"
   ]
  },
  {
   "cell_type": "markdown",
   "metadata": {},
   "source": [
    "# Run TD(0) Prediction"
   ]
  },
  {
   "cell_type": "code",
   "execution_count": 44,
   "metadata": {},
   "outputs": [
    {
     "name": "stderr",
     "output_type": "stream",
     "text": [
      "100%|████████████████████████████████████████████████████████████████████████| 100000/100000 [00:41<00:00, 2407.17it/s]\n"
     ]
    },
    {
     "data": {
      "image/png": "[encoded data removed]",
      "text/plain": [
       "<Figure size 216x230.4 with 1 Axes>"
      ]
     },
     "metadata": {},
     "output_type": "display_data"
    }
   ],
   "source": [
    "#gw_agent()\n",
    "# Initialize required variables\n",
    "term_states = [0, 15] # List of terminal states\n",
    "non_term_states = list(range(1, 15, 1)) # List of non-terminal states\n",
    "alpha = 0.001 # Algorithm parameter\n",
    "gamma = 1 # Discount factor for return calculation\n",
    "svf = np.zeros(gw_size ** 2) # v_0: Initialize value function array to all zeros.\n",
    "num_ep = 100000 # Number of episodes to run\n",
    "verb = False\n",
    "\n",
    "envir = gw_envir\n",
    "agent = gw_agent\n",
    "\n",
    "# Loop through 'num_ep' episodes\n",
    "for ep in tqdm(range(num_ep)):\n",
    "    init_state = np.random.choice(non_term_states) # Choose a random initial state\n",
    "       \n",
    "    states_list = [] # Placeholder to store list of all states encountered in episode\n",
    "    actions_list = [] # Placeholder to store list of all actions taken by agent\n",
    "    rewards_list = [] # Placeholder to store list of rewards received at each step    \n",
    "\n",
    "    envir.set_state(init_state) # Initialize environment state    \n",
    "    states_list.append(envir.state) # Update states_list with initial state\n",
    "    \n",
    "    while(1): # Run agent till terminal states are reached\n",
    "        s_t = envir.state # Retrieve current state of environment (State at time t)\n",
    "        a_t = agent.step(s_t) # Action taken by agent at time t\n",
    "        s_tplus1, rew_tplus1 = envir.respond(a_t) # Environment reponds to action a_t and moves\n",
    "                                                  # to state s_tplus1 and\n",
    "                                                  # returns a reward rew_tplus1\n",
    "        svf[s_t] = svf[s_t] + alpha * (rew_tplus1 + gamma * svf[s_tplus1] - svf[s_t])\n",
    "        states_list.append(s_tplus1) # Update states_list\n",
    "        actions_list.append(a_t) # Update actions_list\n",
    "        rewards_list.append(rew_tplus1) # Update rewards list\n",
    "        \n",
    "        # Stop episode if terminal state has been reached\n",
    "        if (s_tplus1 in term_states): \n",
    "            if (verb):\n",
    "                print(\"Terminal state reached.\")\n",
    "            break    \n",
    "\n",
    "svf_pi = np.array(svf)\n",
    "fig = plt.figure(figsize = (3, 3.2))\n",
    "fig.suptitle('State Value Functions obtained through first-visit MC prediction', fontsize = 20)\n",
    "sns.set(font_scale = 1.15)\n",
    "ax = plt.subplot(1, 1, 1)\n",
    "svf_table_df = pd.DataFrame(svf_pi.reshape(gw_size, gw_size))\n",
    "sns.heatmap(svf_table_df, annot = True, cbar = False, square = True,\\\n",
    "            cmap = 'Greys', vmin = 0, fmt = \"0.1f\", linewidths = 1,\\\n",
    "            linecolor = 'black', xticklabels = False, yticklabels = False, ax = ax);"
   ]
  }
 ],
 "metadata": {
  "kernelspec": {
   "display_name": "Python 3",
   "language": "python",
   "name": "python3"
  },
  "language_info": {
   "codemirror_mode": {
    "name": "ipython",
    "version": 3
   },
   "file_extension": ".py",
   "mimetype": "text/x-python",
   "name": "python",
   "nbconvert_exporter": "python",
   "pygments_lexer": "ipython3",
   "version": "3.8.5"
  },
  "toc": {
   "base_numbering": 1,
   "nav_menu": {},
   "number_sections": true,
   "sideBar": true,
   "skip_h1_title": false,
   "title_cell": "Table of Contents",
   "title_sidebar": "Contents",
   "toc_cell": false,
   "toc_position": {},
   "toc_section_display": true,
   "toc_window_display": true
  }
 },
 "nbformat": 4,
 "nbformat_minor": 4
}
