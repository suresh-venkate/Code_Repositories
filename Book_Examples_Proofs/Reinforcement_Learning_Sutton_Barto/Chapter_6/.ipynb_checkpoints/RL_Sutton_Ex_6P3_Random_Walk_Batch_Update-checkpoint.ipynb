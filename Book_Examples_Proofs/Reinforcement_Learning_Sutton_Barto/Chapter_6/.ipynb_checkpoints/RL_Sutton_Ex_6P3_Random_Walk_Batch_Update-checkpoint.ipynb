{
 "cells": [
  {
   "cell_type": "markdown",
   "metadata": {},
   "source": [
    "# Random Walk - Comparing the prediction capabilities of TD(0) and constant-alpha MC\n",
    "\n",
    "Ref: RL by Sutton, Barto, Chapter 6, Example 6.2, Pg. 125"
   ]
  },
  {
   "cell_type": "markdown",
   "metadata": {},
   "source": [
    "# Import required libraries"
   ]
  },
  {
   "cell_type": "code",
   "execution_count": 1,
   "metadata": {},
   "outputs": [],
   "source": [
    "import numpy as np\n",
    "import matplotlib.pyplot as plt\n",
    "import gym\n",
    "import gym_walk\n",
    "from collections import defaultdict\n",
    "from tqdm import tqdm"
   ]
  },
  {
   "cell_type": "markdown",
   "metadata": {},
   "source": [
    "# Define Functions"
   ]
  },
  {
   "cell_type": "markdown",
   "metadata": {},
   "source": [
    "## Function: policy"
   ]
  },
  {
   "cell_type": "code",
   "execution_count": 2,
   "metadata": {},
   "outputs": [],
   "source": [
    "def policy(state, pol_ind):\n",
    "    if (pol_ind == 1):\n",
    "        action = np.random.choice([0, 1])\n",
    "            \n",
    "    return action"
   ]
  },
  {
   "cell_type": "markdown",
   "metadata": {},
   "source": [
    "## Function: gen_episode"
   ]
  },
  {
   "cell_type": "code",
   "execution_count": 3,
   "metadata": {},
   "outputs": [],
   "source": [
    "def gen_episode(env, policy, pol_ind):\n",
    "    \n",
    "    '''\n",
    "    Generate one episode of agent-environment interaction\n",
    "    Arguments:\n",
    "        env: Instance of environment to use for generating episode\n",
    "        policy: Policy to use for generating episode\n",
    "        pol_ind: Index of policy to use for generating episode        \n",
    "        \n",
    "    Returns:\n",
    "        states_list: List of states encountered in the episode (includes init_state and term_state)\n",
    "        actions_list: List of actions take by agent at each time step\n",
    "        rewards_list: List of rewards received by agent at each time step\n",
    "    '''\n",
    "    \n",
    "    states_list = [] # Placeholder to store list of all states encountered in episode\n",
    "    actions_list = [] # Placeholder to store list of all actions taken by agent\n",
    "    rewards_list = [] # Placeholder to store list of rewards received at each step\n",
    "\n",
    "    curr_state = env.reset() # Reset environment and obtain starting state\n",
    "    while (True): # Run agent till terminal states are reached\n",
    "        states_list.append(curr_state) # Update states_list with initial state    \n",
    "        action = policy(curr_state, pol_ind) # Generate action according to current policy\n",
    "        next_state, rew, done, _ = env.step(action) # Take action and obtain R, S'    \n",
    "        actions_list.append(action) # Update actions_list\n",
    "        rewards_list.append(rew) # Update rewards list\n",
    "        curr_state = next_state\n",
    "        # Stop episode if terminal state has been reached\n",
    "        if (done): \n",
    "            break\n",
    "            \n",
    "    return states_list, actions_list, rewards_list      "
   ]
  },
  {
   "cell_type": "markdown",
   "metadata": {},
   "source": [
    "## Function: mc_prediction"
   ]
  },
  {
   "cell_type": "code",
   "execution_count": 4,
   "metadata": {},
   "outputs": [],
   "source": [
    "def mc_prediction(env, policy, pol_ind, num_ep, gamma, visit_type, init_value = 0.0):\n",
    "    \n",
    "    '''\n",
    "    Function to run MC prediction and estimate state value function\n",
    "    Arguments:\n",
    "        env: Instance of environment to use for generating episode\n",
    "        policy: Policy for which SVF has to be estimated\n",
    "        pol_ind: Index of policy to use for generating episode\n",
    "        num_ep: Number of episodes to use for MC prediction algorithm\n",
    "        gamma: Discounting factor for reward computation\n",
    "        visit_type: 'first' for first-visit MC prediction,\n",
    "                    'every' for every-visit MC prediction.\n",
    "        init_value: Value to initialize svf for all states\n",
    "        \n",
    "    Returns:\n",
    "        svf_pi: State value function for policy pi\n",
    "        state_count: Number of times each state is encountered during MC prediction\n",
    "    '''\n",
    "    \n",
    "    # Initialize value function and count for all states to zero\n",
    "    svf_pi = defaultdict(lambda: init_value) # State value function for given policy 'pi'\n",
    "    state_count = defaultdict(int) # Number of times each state is encountered across episodes\n",
    "    \n",
    "    # Loop through 'num_ep' episodes\n",
    "    for ep in range(num_ep):\n",
    "        ep_states, ep_actions, ep_rewards = gen_episode(env, policy, pol_ind) # Generate one episode\n",
    "        num_timesteps = len(ep_rewards) # Number of timesteps in current episode\n",
    "        G = 0 # Initialize return to 0\n",
    "        \n",
    "        # Loop through each timestep of current episode\n",
    "        for ind in range((num_timesteps - 1), -1, -1): \n",
    "            G = gamma * G + ep_rewards[ind] # Update return of current timestep\n",
    "            curr_state = ep_states[ind] # Retrieve state of current timestep\n",
    "            if (visit_type == 'first'): # For first-visit MC prediction\n",
    "                if (curr_state not in ep_states[0:ind]):\n",
    "                    state_count[curr_state] += 1\n",
    "                    svf_pi[curr_state] += (G - svf_pi[curr_state]) / state_count[curr_state]\n",
    "            elif (visit_type == 'every'): # For every-visit MC prediction\n",
    "                state_count[curr_state] += 1\n",
    "                svf_pi[curr_state] += (G - svf_pi[curr_state]) / state_count[curr_state]\n",
    "                 \n",
    "        \n",
    "    return svf_pi, state_count"
   ]
  },
  {
   "cell_type": "markdown",
   "metadata": {},
   "source": [
    "## Function: const_alpha_mc_prediction"
   ]
  },
  {
   "cell_type": "code",
   "execution_count": 5,
   "metadata": {},
   "outputs": [],
   "source": [
    "def const_alpha_mc_prediction(env, policy, pol_ind, num_ep, alpha, gamma = 1.0, visit_type = 'every', init_dict = None):\n",
    "    \n",
    "    '''\n",
    "    Function to run contant-alpha MC prediction and estimate state value function for a given policy\n",
    "    Arguments:\n",
    "        env: Instance of environment to use for constant-alpha MC prediction\n",
    "        policy: Policy to evaluate\n",
    "        pol_ind: Index of policy to use for generating episode\n",
    "        num_ep: Number of episodes to use for const-alpha MC prediction algorithm\n",
    "        alpha: Learning Rate\n",
    "        gamma: Discounting factor for reward computation\n",
    "        visit_type: 'first' for first-visit MC prediction,\n",
    "                    'every' for every-visit MC prediction.\n",
    "        init_dict: Dictionary based on which svf_pi will be initialized\n",
    "        \n",
    "    Returns:\n",
    "        svf_pi: State-value function for policy pi\n",
    "    '''\n",
    "    \n",
    "    svf_pi = defaultdict(int) # Dictionary to store state value function for given policy 'pi'\n",
    "    if (init_dict != None):\n",
    "        if (init_dict['val_init']): \n",
    "            for state in init_dict['state_list']:\n",
    "                svf_pi[state] = init_dict['init_val']\n",
    "    \n",
    "    # Loop through 'num_ep' episodes\n",
    "    for ep in range(num_ep):\n",
    "        ep_states, ep_actions, ep_rewards = gen_episode(env, policy, pol_ind) # Generate one episode\n",
    "        num_timesteps = len(ep_rewards) # Number of timesteps in current episode\n",
    "        G = 0 # Initialize return to 0\n",
    "        \n",
    "        # Loop through each timestep of current episode\n",
    "        for ind in range((num_timesteps - 1), -1, -1): \n",
    "            G = gamma * G + ep_rewards[ind] # Update return of current timestep\n",
    "            curr_state = ep_states[ind] # Retrieve state of current timestep\n",
    "            if (visit_type == 'first'): # For first-visit MC prediction\n",
    "                if (curr_state not in ep_states[0:ind]):\n",
    "                    svf_pi[curr_state] += alpha * (G - svf_pi[curr_state])\n",
    "            elif (visit_type == 'every'): # For every-visit MC prediction\n",
    "                svf_pi[curr_state] += alpha * (G - svf_pi[curr_state])\n",
    "        \n",
    "    return svf_pi"
   ]
  },
  {
   "cell_type": "markdown",
   "metadata": {},
   "source": [
    "## Function: td0_prediction"
   ]
  },
  {
   "cell_type": "code",
   "execution_count": 6,
   "metadata": {},
   "outputs": [],
   "source": [
    "def td0_prediction(env, policy, pol_ind, num_ep, gamma = 1.0, alpha = 0.5, init_dict = None):\n",
    "    \n",
    "    \"\"\"\n",
    "    Tabular TD(0) algorithm.\n",
    "    Ref: Section 6.1, Pg. 120 of RL_Sutton\n",
    "    \n",
    "    Arguments:\n",
    "        env: Instance of environment to use for constant-alpha MC prediction\n",
    "        policy: Policy to evaluate\n",
    "        pol_ind: Index of policy to use for generating episode\n",
    "        num_ep: Number of episodes to use for TD(0) prediction algorithm\n",
    "        gamma: Discounting factor for reward computation\n",
    "        alpha: Learning Rate       \n",
    "        init_dict: Dictionary based on which svf_pi will be initialized\n",
    "        \n",
    "    Returns:\n",
    "        svf_pi: State-value function for policy pi    \n",
    "    \n",
    "    \"\"\"\n",
    "    \n",
    "    svf_pi = defaultdict(int) # Dictionary to store state value function for given policy 'pi'\n",
    "    if (init_dict != None):\n",
    "        if (init_dict['val_init']): \n",
    "            for state in init_dict['state_list']:\n",
    "                svf_pi[state] = init_dict['init_val']\n",
    "\n",
    "    for ep in range(num_ep): # Iterate through num_ep\n",
    "        curr_state = env.reset() # Reset environment and obtain starting state\n",
    "        while (True):\n",
    "            action = policy(curr_state, pol_ind) # Generate action according to current policy\n",
    "            next_state, rew, done, _ = env.step(action) # Take action and obtain R, S' \n",
    "\n",
    "            # Perform TD(0) update\n",
    "            td_target = rew + gamma * svf_pi[next_state]\n",
    "            td_delta = td_target - svf_pi[curr_state]\n",
    "            svf_pi[curr_state] += alpha * td_delta\n",
    "            curr_state = next_state # S <-- S'\n",
    "\n",
    "            if (done):\n",
    "                break   \n",
    "    \n",
    "    return svf_pi"
   ]
  },
  {
   "cell_type": "markdown",
   "metadata": {},
   "source": [
    "## Function: batch_td0"
   ]
  },
  {
   "cell_type": "code",
   "execution_count": 7,
   "metadata": {},
   "outputs": [],
   "source": [
    "def batch_td0_prediction(env, policy, pol_ind, num_ep, alpha = 0.5, init_dict = None):\n",
    "    \"\"\"\n",
    "    Function to perform batch TD0-prediction\n",
    "    Ref: Sec. 6.4, pp. 126 of RL by Sutton, Barto\n",
    "    \n",
    "    Arguments:\n",
    "        env: Instance of environment to use for constant-alpha MC prediction\n",
    "        policy: Policy to evaluate\n",
    "        pol_ind: Index of policy to use for generating episode    \n",
    "        num_ep: Number of episodes over which data will be collected before performing batch update\n",
    "        alpha: Learning Rate       \n",
    "        init_dict: Dictionary based on which svf_pi will be initialized        \n",
    "    \"\"\"\n",
    "    \n",
    "    svf_pi = defaultdict(int) # Dictionary to store state value function for given policy 'pi'\n",
    "    if (init_dict != None):\n",
    "        if (init_dict['val_init']): \n",
    "            for state in init_dict['state_list']:\n",
    "                svf_pi[state] = init_dict['init_val'] \n",
    "    \n",
    "    # Generate complete trajectories for the entire episode.\n",
    "    states_trajectory = [] # Placeholder to store state trajectories of each episode\n",
    "    actions_trajectory = [] # Placeholder to store action trajectories of each episode\n",
    "    rewards_trajectory = [] # Placeholder to store reward trajectories of each episode\n",
    "    \n",
    "    for ep in range(num_ep): # Loop through 'num_ep' episodes\n",
    "        states_list, actions_list, rewards_list = gen_episode(env, policy, 1) # Run one episode\n",
    "        # Update state, action and reward trajectories\n",
    "        states_trajectory.append(states_list) \n",
    "        actions_trajectory.append(actions_list)\n",
    "        rewards_trajectory.append(rewards_list)\n",
    "\n",
    "    # Generate cumulative updates\n",
    "    updates = np.zeros(7) # Placeholder to store cumulative updates\n",
    "    while(True): # Loop until value converges\n",
    "        for state_traj, rew_traj in zip(states_trajectory, rewards_trajectory):\n",
    "            for ind, state in enumerate(state_traj):\n",
    "                # Get update for current state\n",
    "                if (ind == (len(state_traj) -1)): # Update for last non-terminal state\n",
    "                    updates[state] += rew_traj[ind] - svf_pi[state]\n",
    "                else: # Update for other states\n",
    "                    updates[state] += rew_traj[ind] + svf_pi[state_traj[ind + 1]]- svf_pi[state]            \n",
    "        updates *= alpha\n",
    "        if np.sum(np.abs(updates)) < 1e-3:\n",
    "            break\n",
    "\n",
    "        # Perform batch update\n",
    "        for ind in range(7):\n",
    "            svf_pi[ind] += updates[ind]\n",
    "\n",
    "    #svf_pi = np.array(sorted(list(svf_pi.values()))) # Convert svf to array\n",
    "    return svf_pi"
   ]
  },
  {
   "cell_type": "markdown",
   "metadata": {},
   "source": [
    "## Function: batch_MC"
   ]
  },
  {
   "cell_type": "code",
   "execution_count": 8,
   "metadata": {},
   "outputs": [],
   "source": [
    "def batch_mc_prediction(env, policy, pol_ind, num_ep, alpha = 0.5, init_dict = None):\n",
    "    \"\"\"\n",
    "    Function to perform batch MC-prediction\n",
    "    Ref: Sec. 6.4, pp. 126 of RL by Sutton, Barto\n",
    "    \n",
    "    Arguments:\n",
    "        env: Instance of environment to use for constant-alpha MC prediction\n",
    "        policy: Policy to evaluate\n",
    "        pol_ind: Index of policy to use for generating episode    \n",
    "        num_ep: Number of episodes over which data will be collected before performing batch update\n",
    "        alpha: Learning Rate       \n",
    "        init_dict: Dictionary based on which svf_pi will be initialized        \n",
    "    \"\"\"\n",
    "    \n",
    "    svf_pi = defaultdict(int) # Dictionary to store state value function for given policy 'pi'\n",
    "    if (init_dict != None):\n",
    "        if (init_dict['val_init']): \n",
    "            for state in init_dict['state_list']:\n",
    "                svf_pi[state] = init_dict['init_val'] \n",
    "    \n",
    "    # Generate complete trajectories for the entire episode.\n",
    "    states_trajectory = [] # Placeholder to store state trajectories of each episode\n",
    "    actions_trajectory = [] # Placeholder to store action trajectories of each episode\n",
    "    rewards_trajectory = [] # Placeholder to store reward trajectories of each episode\n",
    "    returns_trajectory = [] # Placeholder to store returns trajectories of each episode\n",
    "    \n",
    "    for ep in range(num_ep): # Loop through 'num_ep' episodes\n",
    "        states_list, actions_list, rewards_list = gen_episode(env, policy, 1) # Run one episode\n",
    "        returns_list = [rewards_list[-1] for _ in rewards_list]\n",
    "        # Update state, action and reward trajectories\n",
    "        states_trajectory.append(states_list) \n",
    "        actions_trajectory.append(actions_list)\n",
    "        rewards_trajectory.append(rewards_list)\n",
    "        returns_trajectory.append(returns_list)\n",
    "\n",
    "    # Generate cumulative updates\n",
    "    updates = np.zeros(7) # Placeholder to store cumulative updates\n",
    "    while(True): # Loop until value converges\n",
    "        for state_traj, ret_traj in zip(states_trajectory, returns_trajectory):\n",
    "            for ind, state in enumerate(state_traj):\n",
    "                updates[state] += ret_traj[ind] - svf_pi[state] # Get update for current state\n",
    "        updates *= alpha\n",
    "        if np.sum(np.abs(updates)) < 1e-3:\n",
    "            break\n",
    "\n",
    "        # Perform batch update\n",
    "        for ind in range(7):\n",
    "            svf_pi[ind] += updates[ind]\n",
    "\n",
    "    return svf_pi"
   ]
  },
  {
   "cell_type": "markdown",
   "metadata": {},
   "source": [
    "\n",
    "# Batch Updates"
   ]
  },
  {
   "cell_type": "code",
   "execution_count": 13,
   "metadata": {},
   "outputs": [
    {
     "name": "stderr",
     "output_type": "stream",
     "text": [
      "100%|██████████████████████████████████████████████████████████████████████████████████| 51/51 [00:38<00:00,  1.33it/s]\n",
      "100%|██████████████████████████████████████████████████████████████████████████████████| 51/51 [00:21<00:00,  2.33it/s]\n"
     ]
    },
    {
     "data": {
      "image/png": "[encoded data removed]",
      "text/plain": [
       "<Figure size 576x432 with 1 Axes>"
      ]
     },
     "metadata": {
      "needs_background": "light"
     },
     "output_type": "display_data"
    }
   ],
   "source": [
    "# Instantiate Environment\n",
    "env = gym.make('WalkFive-v0')\n",
    "\n",
    "num_states = 7 # Number of states in random walk (2 terminal states)\n",
    "num_runs = 100 # Number of runs to average over\n",
    "ep_max = 101\n",
    "ep_step = 2\n",
    "alpha = 0.001\n",
    "\n",
    "# Define true value function\n",
    "tvf = (1/6) * np.arange(1, 6, 1)\n",
    "\n",
    "# Dictionary to initialize svf\n",
    "init_dict = {\"val_init\": True,\n",
    "             \"state_list\": [1, 2, 3, 4, 5],\n",
    "             \"init_val\": 0.5\n",
    "            }\n",
    "\n",
    "plt.figure(figsize = (8, 6))\n",
    "plt.title(\"Ex_6.3: Empirical RMS error\", fontsize = 25)\n",
    "plt.xlabel(\"Walks / Episodes\", fontsize = 20)\n",
    "plt.ylabel(\"Average RMSE\", fontsize = 20)\n",
    "plt.xticks(ticks = [0, 25, 50, 75, 100], fontsize = 20)\n",
    "plt.yticks(ticks = [0, 0.05, 0.1, 0.15, 0.2, 0.25], fontsize = 20)\n",
    "\n",
    "rmse_td_array = [] # Placeholder to store average rmse for different episode lengths\n",
    "num_ep_array = [] # Placeholder to store  episode lengths\n",
    "for num_ep in tqdm(range(0, ep_max, ep_step)): # Loop through different episode lengths\n",
    "    rmse_td = 0\n",
    "    for run in range(num_runs): # Iterate through num_runs\n",
    "        # Run Batch TD(0) algorithm        \n",
    "        svf_td = batch_td0_prediction(env, policy, 1, num_ep, alpha = 0.001, init_dict = init_dict)        \n",
    "        if (0 in svf_td.keys()):\n",
    "            del svf_td[0]\n",
    "        if (6 in svf_td.keys()):\n",
    "            del svf_td[6]   \n",
    "        svf_td = np.array(sorted(list(svf_td.values()))) # Convert svf to array\n",
    "        rmse_td += np.sqrt(np.mean((tvf - svf_td) ** 2)) # Update rmse with current run\n",
    "    rmse_td /= num_runs # Average rmse over all runs\n",
    "    rmse_td_array.append(rmse_td)\n",
    "    num_ep_array.append(num_ep)\n",
    "plt.plot(num_ep_array, rmse_td_array, label = ('TD_' + str(alpha)), color = 'r')\n",
    "\n",
    "rmse_mc_array = [] # Placeholder to store average rmse for different episode lengths\n",
    "num_ep_array = [] # Placeholder to store  episode lengths\n",
    "for num_ep in tqdm(range(0, ep_max, ep_step)): # Loop through different episode lengths\n",
    "    rmse_mc = 0\n",
    "    for run in range(num_runs): # Iterate through num_runs\n",
    "        # Run Batch MC algorithm        \n",
    "        svf_mc = batch_mc_prediction(env, policy, 1, num_ep, alpha = 0.001, init_dict = init_dict) \n",
    "        if (0 in svf_mc.keys()):\n",
    "            del svf_mc[0]\n",
    "        if (6 in svf_mc.keys()):\n",
    "            del svf_mc[6]   \n",
    "        svf_mc = np.array(sorted(list(svf_mc.values()))) # Convert svf to array\n",
    "        rmse_mc += np.sqrt(np.mean((tvf - svf_mc) ** 2)) # Update rmse with current run\n",
    "    rmse_mc /= num_runs # Average rmse over all runs\n",
    "    rmse_mc_array.append(rmse_mc)\n",
    "    num_ep_array.append(num_ep)\n",
    "plt.plot(num_ep_array, rmse_mc_array, label = ('MC_' + str(alpha)), color = 'b')\n",
    "\n",
    "plt.legend(fontsize = 15)\n",
    "plt.show()"
   ]
  }
 ],
 "metadata": {
  "kernelspec": {
   "display_name": "Python 3 (ipykernel)",
   "language": "python",
   "name": "python3"
  },
  "language_info": {
   "codemirror_mode": {
    "name": "ipython",
    "version": 3
   },
   "file_extension": ".py",
   "mimetype": "text/x-python",
   "name": "python",
   "nbconvert_exporter": "python",
   "pygments_lexer": "ipython3",
   "version": "3.8.5"
  },
  "toc": {
   "base_numbering": 1,
   "nav_menu": {},
   "number_sections": true,
   "sideBar": true,
   "skip_h1_title": false,
   "title_cell": "Table of Contents",
   "title_sidebar": "Contents",
   "toc_cell": false,
   "toc_position": {
    "height": "calc(100% - 180px)",
    "left": "10px",
    "top": "150px",
    "width": "309.2px"
   },
   "toc_section_display": true,
   "toc_window_display": true
  }
 },
 "nbformat": 4,
 "nbformat_minor": 4
}
