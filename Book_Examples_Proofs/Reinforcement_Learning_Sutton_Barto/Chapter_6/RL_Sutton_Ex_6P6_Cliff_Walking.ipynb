{
 "cells": [
  {
   "cell_type": "markdown",
   "metadata": {},
   "source": [
    "# Cliff Walking: Sarsa vs. Q-Learning\n",
    "\n",
    "<b>Ref:</b> RL by Sutton, Barto, Pg. 132, Exercise 6.6"
   ]
  },
  {
   "cell_type": "markdown",
   "metadata": {},
   "source": [
    "# Import Required Libraries"
   ]
  },
  {
   "cell_type": "code",
   "execution_count": 1,
   "metadata": {},
   "outputs": [],
   "source": [
    "import numpy as np\n",
    "import matplotlib.pyplot as plt\n",
    "import pandas as pd\n",
    "import gym\n",
    "import sys\n",
    "import itertools\n",
    "\n",
    "from collections import defaultdict\n",
    "from collections import namedtuple\n",
    "from tqdm import tqdm"
   ]
  },
  {
   "cell_type": "markdown",
   "metadata": {},
   "source": [
    "# Define Functions"
   ]
  },
  {
   "cell_type": "markdown",
   "metadata": {},
   "source": [
    "## Function: make_epsilon_greedy_policy"
   ]
  },
  {
   "cell_type": "code",
   "execution_count": 2,
   "metadata": {},
   "outputs": [],
   "source": [
    "def make_epsilon_greedy_policy(Q, epsilon, nA):\n",
    "    \"\"\"\n",
    "    Creates an epsilon-greedy policy based on a given Q-function and epsilon.\n",
    "    \n",
    "    Args:\n",
    "        Q: A dictionary that maps from state -> action-values.\n",
    "           Each value is a numpy array of length nA (see below)\n",
    "        epsilon: The probability to select a random action (float between 0 and 1).\n",
    "        nA: Number of actions in the environment.\n",
    "    \n",
    "    Returns:\n",
    "        A function that takes the observation as an argument and returns\n",
    "        the probabilities for each action in the form of a numpy array of length nA.\n",
    "    \"\"\"\n",
    "    def policy_fn(observation):\n",
    "        A = np.ones(nA, dtype = float) * epsilon / nA \n",
    "        best_action = np.argmax(Q[observation])\n",
    "        A[best_action] += (1.0 - epsilon)\n",
    "        return A\n",
    "    return policy_fn"
   ]
  },
  {
   "cell_type": "markdown",
   "metadata": {},
   "source": [
    "## Function: sarsa"
   ]
  },
  {
   "cell_type": "code",
   "execution_count": 3,
   "metadata": {},
   "outputs": [],
   "source": [
    "def sarsa(env, num_episodes, discount_factor = 1.0, alpha = 0.5, epsilon = 0.1):\n",
    "    \"\"\"\n",
    "    SARSA algorithm: On-policy TD control. Finds the optimal epsilon-greedy policy.\n",
    "    \n",
    "    Args:\n",
    "        env: OpenAI environment.\n",
    "        num_episodes: Number of episodes to run for.\n",
    "        discount_factor: Gamma discount factor.\n",
    "        alpha: TD learning rate.\n",
    "        epsilon: Chance the sample a random action. Float betwen 0 and 1.\n",
    "    \n",
    "    Returns:\n",
    "        A tuple (Q, stats).\n",
    "        Q is the optimal action-value function, a dictionary mapping state -> action values.\n",
    "        stats is an EpisodeStats object with two numpy arrays for episode_lengths and episode_rewards.\n",
    "    \"\"\"\n",
    "    \n",
    "    # The final action-value function.\n",
    "    # A nested dictionary that maps state -> (action -> action-value).\n",
    "    Q = defaultdict(lambda: np.zeros(env.action_space.n))\n",
    "    \n",
    "    # Keeps track of useful statistics\n",
    "    EpisodeStats = namedtuple(\"Stats\",[\"episode_lengths\", \"episode_rewards\"])\n",
    "    stats = EpisodeStats(episode_lengths = np.zeros(num_episodes), episode_rewards = np.zeros(num_episodes))\n",
    "\n",
    "    # Define the policy we're following\n",
    "    policy = make_epsilon_greedy_policy(Q, epsilon, env.action_space.n)\n",
    "    \n",
    "    for i_episode in range(num_episodes): # Loop through num_episodes\n",
    "        \n",
    "        # Reset the environment and pick the first action\n",
    "        state = env.reset()\n",
    "        action_probs = policy(state)\n",
    "        action = np.random.choice(np.arange(len(action_probs)), p = action_probs) # Action based on policy\n",
    "        \n",
    "        # Loop for each episode\n",
    "        for t in itertools.count():\n",
    "            # Take a step\n",
    "            next_state, reward, done, _ = env.step(action)\n",
    "            \n",
    "            # Pick the next action\n",
    "            next_action_probs = policy(next_state)\n",
    "            next_action = np.random.choice(np.arange(len(next_action_probs)), p = next_action_probs)\n",
    "            \n",
    "            # Update statistics\n",
    "            stats.episode_rewards[i_episode] += reward\n",
    "            stats.episode_lengths[i_episode] = t\n",
    "            \n",
    "            # Perform TD Update\n",
    "            td_target = reward + discount_factor * Q[next_state][next_action]\n",
    "            td_delta = td_target - Q[state][action]\n",
    "            Q[state][action] += alpha * td_delta\n",
    "            \n",
    "            if done:\n",
    "                break\n",
    "                \n",
    "            action = next_action\n",
    "            state = next_state        \n",
    "    \n",
    "    return Q, stats"
   ]
  },
  {
   "cell_type": "markdown",
   "metadata": {},
   "source": [
    "## Function: Q-Learning"
   ]
  },
  {
   "cell_type": "code",
   "execution_count": 4,
   "metadata": {},
   "outputs": [],
   "source": [
    "def q_learning(env, num_episodes, discount_factor = 1.0, alpha = 0.5, epsilon = 0.1):\n",
    "    \"\"\"\n",
    "    SARSA algorithm: On-policy TD control. Finds the optimal epsilon-greedy policy.\n",
    "    \n",
    "    Args:\n",
    "        env: OpenAI environment.\n",
    "        num_episodes: Number of episodes to run for.\n",
    "        discount_factor: Gamma discount factor.\n",
    "        alpha: TD learning rate.\n",
    "        epsilon: Chance the sample a random action. Float betwen 0 and 1.\n",
    "    \n",
    "    Returns:\n",
    "        A tuple (Q, stats).\n",
    "        Q is the optimal action-value function, a dictionary mapping state -> action values.\n",
    "        stats is an EpisodeStats object with two numpy arrays for episode_lengths and episode_rewards.\n",
    "    \"\"\"\n",
    "    \n",
    "    # The final action-value function.\n",
    "    # A nested dictionary that maps state -> (action -> action-value).\n",
    "    Q = defaultdict(lambda: np.zeros(env.action_space.n))\n",
    "    \n",
    "    # Keeps track of useful statistics\n",
    "    EpisodeStats = namedtuple(\"Stats\",[\"episode_lengths\", \"episode_rewards\"])\n",
    "    stats = EpisodeStats(episode_lengths = np.zeros(num_episodes), episode_rewards = np.zeros(num_episodes))\n",
    "\n",
    "    # Define the policy we're following\n",
    "    policy = make_epsilon_greedy_policy(Q, epsilon, env.action_space.n)\n",
    "    \n",
    "    for i_episode in range(num_episodes):\n",
    "        \n",
    "        # Reset the environment\n",
    "        state = env.reset()\n",
    "\n",
    "        # Loop for each episode\n",
    "        for t in itertools.count():\n",
    "            \n",
    "            # Choose action based on policy\n",
    "            action_probs = policy(state)\n",
    "            action = np.random.choice(np.arange(len(action_probs)), p = action_probs) # Action based on policy\n",
    "            \n",
    "            # Take a step\n",
    "            next_state, reward, done, _ = env.step(action)\n",
    "            \n",
    "            # Update statistics\n",
    "            stats.episode_rewards[i_episode] += reward\n",
    "            stats.episode_lengths[i_episode] = t   \n",
    "            \n",
    "            # Perform TD Update\n",
    "            td_target = reward + discount_factor * (Q[next_state].max())\n",
    "            td_delta = td_target - Q[state][action]\n",
    "            Q[state][action] += alpha * td_delta            \n",
    "            \n",
    "            # Update current state pointer\n",
    "            state = next_state                    \n",
    "\n",
    "            if done: # Terminal state\n",
    "                break\n",
    "                \n",
    "    return Q, stats"
   ]
  },
  {
   "cell_type": "markdown",
   "metadata": {},
   "source": [
    "## Function: plot_trajectory"
   ]
  },
  {
   "cell_type": "code",
   "execution_count": 5,
   "metadata": {},
   "outputs": [],
   "source": [
    "def plot_trajectory(Q, env):\n",
    "    \"\"\"\n",
    "    Displays episode trajectory using greedy policy for a given action value function.\n",
    "    \n",
    "    Args:\n",
    "        Q: action value function\n",
    "        env: Environment Instance\n",
    "     \"\"\"      \n",
    "    \n",
    "    \n",
    "    # Obtain action code to action mapping\n",
    "    env_action_map = dict()\n",
    "    for key, value in env.actions.items():\n",
    "        env_action_map[value] = key \n",
    "    \n",
    "    env.reset()\n",
    "    while (1):\n",
    "        state = env.observation        \n",
    "        action = np.argmax(Q[state])\n",
    "        print(state, ' -> ', env_action_map[action])        \n",
    "        next_state, _, done, _ = env.step(action)\n",
    "        if done:\n",
    "            print(next_state, ' -> ', 'Terminal')\n",
    "            break"
   ]
  },
  {
   "cell_type": "markdown",
   "metadata": {},
   "source": [
    "## Function: print_opt_policy"
   ]
  },
  {
   "cell_type": "code",
   "execution_count": 6,
   "metadata": {},
   "outputs": [],
   "source": [
    "def print_opt_policy(grid_rows, grid_cols, Q):\n",
    "    '''\n",
    "    Function to print optimal policy given an action-value function\n",
    "    \n",
    "    Arguments:\n",
    "        grid_rows: Number of rows in the grid\n",
    "        grid_cols: Number of columns in the grid\n",
    "        Q: Optimal Action-Value Function\n",
    "    '''\n",
    "\n",
    "    optimal_policy = [] # Place-holder for storing optimal policy\n",
    "    for i in range(0, grid_rows): # Iterate through rows\n",
    "        optimal_policy.append([])\n",
    "        for j in range(0, grid_cols): # Iterate through cols\n",
    "            cell_ind = 12 * i + j\n",
    "            if (cell_ind) == (grid_rows * grid_cols - 1):\n",
    "                optimal_policy[-1].append('G')\n",
    "                continue\n",
    "            bestAction = np.argmax(Q[cell_ind])\n",
    "            if bestAction == 0:\n",
    "                optimal_policy[-1].append('U')\n",
    "            elif bestAction == 1:\n",
    "                optimal_policy[-1].append('R')             \n",
    "            elif bestAction == 2:\n",
    "                optimal_policy[-1].append('D')\n",
    "            elif bestAction == 3:\n",
    "                optimal_policy[-1].append('L')\n",
    "\n",
    "    for row in optimal_policy:\n",
    "        print(row)"
   ]
  },
  {
   "cell_type": "markdown",
   "metadata": {},
   "source": [
    "# Initialize Environment"
   ]
  },
  {
   "cell_type": "code",
   "execution_count": 7,
   "metadata": {
    "scrolled": true
   },
   "outputs": [
    {
     "data": {
      "text/plain": [
       "36"
      ]
     },
     "execution_count": 7,
     "metadata": {},
     "output_type": "execute_result"
    }
   ],
   "source": [
    "env = gym.make('CliffWalking-v0')\n",
    "env.reset()"
   ]
  },
  {
   "cell_type": "markdown",
   "metadata": {},
   "source": [
    "# Sarsa vs. Q-Learning"
   ]
  },
  {
   "cell_type": "code",
   "execution_count": 8,
   "metadata": {
    "scrolled": false
   },
   "outputs": [
    {
     "name": "stderr",
     "output_type": "stream",
     "text": [
      "100%|████████████████████████████████████████████████████████████████████████████████| 400/400 [13:01<00:00,  1.95s/it]\n"
     ]
    }
   ],
   "source": [
    "num_runs = 400 # Number of runs to average rewards over\n",
    "qlearn_rewards = [] # Placeholder to store rewards of each run of Q-Learning algorithm\n",
    "sarsa_rewards = [] # Placeholder to store rewards of each run of Sarsa algorithm\n",
    "for run in tqdm(range(num_runs)): # Repeat for num_runs\n",
    "    Q_sarsa, stats_sarsa = sarsa(env, 500, alpha = 0.3) # Run Sarsa algo with alpha = 0.3\n",
    "    Q_qlearn, stats_qlearn = q_learning(env, 500, alpha = 0.3) # Run Q-Learning algo with alpha = 0.3\n",
    "    sarsa_rewards.append(stats_sarsa.episode_rewards) # Update sarsa rewards list\n",
    "    qlearn_rewards.append(stats_qlearn.episode_rewards) # Update Q-learning rewards list\n",
    "\n",
    "qlearn_rewards = np.array(qlearn_rewards)    \n",
    "sarsa_rewards = np.array(sarsa_rewards)\n",
    "qlearn_rewards_avg = np.mean(qlearn_rewards, axis = 0) # Average reward of Q-Learning algorithm across runs\n",
    "sarsa_rewards_avg = np.mean(sarsa_rewards, axis = 0) # Average reward of sarsa learning algorithm across runs"
   ]
  },
  {
   "cell_type": "code",
   "execution_count": 9,
   "metadata": {},
   "outputs": [
    {
     "data": {
      "image/png": "[encoded data removed]",
      "text/plain": [
       "<Figure size 720x360 with 1 Axes>"
      ]
     },
     "metadata": {
      "needs_background": "light"
     },
     "output_type": "display_data"
    }
   ],
   "source": [
    "smoothing_window = 10 # Smoothing window across episodes\n",
    "\n",
    "sarsa_rewards_smoothed = pd.Series(sarsa_rewards_avg).rolling(smoothing_window, min_periods = smoothing_window).mean()\n",
    "qlearn_rewards_smoothed = pd.Series(qlearn_rewards_avg).rolling(smoothing_window, min_periods=smoothing_window).mean()\n",
    "\n",
    "fig = plt.figure(figsize=(10, 5))\n",
    "plt.plot(sarsa_rewards_smoothed, c = 'b', label = 'Sarsa')\n",
    "plt.plot(qlearn_rewards_smoothed, c = 'r', label = 'Q-Learning')\n",
    "plt.xlabel(\"Episodes\", fontsize = 12)\n",
    "plt.ylabel(\"Sum of rewards during episode (Smoothed)\", fontsize = 12)\n",
    "plt.title(\"Episode Reward over Time (Smoothed over window size {})\".format(smoothing_window), fontsize = 20)\n",
    "plt.ylim(bottom = -100)\n",
    "plt.xlim(left = 0)\n",
    "plt.grid(b = True)\n",
    "plt.legend(loc = 'best', fontsize = 12)\n",
    "plt.show()"
   ]
  },
  {
   "cell_type": "markdown",
   "metadata": {},
   "source": [
    "# Print Optimal Policy"
   ]
  },
  {
   "cell_type": "code",
   "execution_count": 10,
   "metadata": {},
   "outputs": [
    {
     "name": "stdout",
     "output_type": "stream",
     "text": [
      "Optimal Policy for Sarsa\n",
      "------------------------\n",
      "['R', 'R', 'R', 'R', 'R', 'R', 'R', 'R', 'R', 'R', 'R', 'D']\n",
      "['U', 'U', 'U', 'R', 'R', 'R', 'U', 'U', 'U', 'U', 'R', 'D']\n",
      "['U', 'U', 'U', 'U', 'L', 'U', 'L', 'U', 'U', 'R', 'R', 'D']\n",
      "['U', 'U', 'U', 'U', 'U', 'U', 'U', 'U', 'U', 'U', 'U', 'G']\n",
      "\n",
      "Optimal Policy for Q-Learning\n",
      "-----------------------------\n",
      "['R', 'R', 'R', 'L', 'R', 'L', 'U', 'R', 'D', 'R', 'D', 'D']\n",
      "['R', 'D', 'D', 'D', 'R', 'D', 'D', 'R', 'R', 'R', 'D', 'D']\n",
      "['R', 'R', 'R', 'R', 'R', 'R', 'R', 'R', 'R', 'R', 'R', 'D']\n",
      "['U', 'U', 'U', 'U', 'U', 'U', 'U', 'U', 'U', 'U', 'U', 'G']\n"
     ]
    }
   ],
   "source": [
    "grid_rows = env.shape[0] # Number of rows in grid\n",
    "grid_cols = env.shape[1] # Number of columns in grid\n",
    "print(\"Optimal Policy for Sarsa\")\n",
    "print(\"------------------------\")\n",
    "print_opt_policy(grid_rows, grid_cols, Q_sarsa)\n",
    "print()\n",
    "print(\"Optimal Policy for Q-Learning\")\n",
    "print(\"-----------------------------\")\n",
    "print_opt_policy(grid_rows, grid_cols, Q_qlearn)"
   ]
  },
  {
   "cell_type": "markdown",
   "metadata": {},
   "source": [
    "# Backup - Environment Details"
   ]
  },
  {
   "cell_type": "code",
   "execution_count": 11,
   "metadata": {},
   "outputs": [
    {
     "name": "stdout",
     "output_type": "stream",
     "text": [
      "Environment State Mapping\n",
      "-------------------------\n",
      "0  1  2  3  4  5  6  7  8  9  10 11\n",
      "12 13 14 15 16 17 18 19 20 21 22 23\n",
      "24 25 26 27 28 29 30 31 32 33 34 35\n",
      "36 37 38 39 40 41 42 43 44 45 46 47\n",
      "\n",
      "\n",
      "Start State: 36, Goal State: 47\n",
      "\n",
      "\n",
      "Cliff States\n",
      "------------\n",
      "37 38 39 40 41 42 43 44 45 46 47\n",
      "\n",
      "Actions\n",
      "-------\n",
      "0: Up\n",
      "1: Right\n",
      "2: Down\n",
      "3: Left\n"
     ]
    }
   ],
   "source": [
    "print(\"Environment State Mapping\")\n",
    "print(\"-------------------------\")\n",
    "print(\"0  1  2  3  4  5  6  7  8  9  10 11\")\n",
    "print(\"12 13 14 15 16 17 18 19 20 21 22 23\")\n",
    "print(\"24 25 26 27 28 29 30 31 32 33 34 35\")\n",
    "print(\"36 37 38 39 40 41 42 43 44 45 46 47\")\n",
    "print()\n",
    "print()\n",
    "print(\"Start State: 36, Goal State: 47\")\n",
    "print()\n",
    "print()\n",
    "print(\"Cliff States\")\n",
    "print(\"------------\")\n",
    "print(\"37 38 39 40 41 42 43 44 45 46 47\")\n",
    "print()\n",
    "print(\"Actions\")\n",
    "print(\"-------\")\n",
    "print(\"0: Up\")\n",
    "print(\"1: Right\")\n",
    "print(\"2: Down\")\n",
    "print(\"3: Left\")"
   ]
  },
  {
   "cell_type": "code",
   "execution_count": 12,
   "metadata": {
    "scrolled": true
   },
   "outputs": [
    {
     "name": "stdout",
     "output_type": "stream",
     "text": [
      "Action_Space: Discrete(4)\n",
      "Number of Actions: 4\n",
      "Number of States: 48\n",
      "Observation_Space: Discrete(48)\n",
      "Env. shape: (4, 12)\n",
      "Start State Index: 36\n"
     ]
    }
   ],
   "source": [
    "env.reset()\n",
    "print(\"Action_Space:\", env.action_space)\n",
    "print(\"Number of Actions:\", env.nA)\n",
    "print(\"Number of States:\", env.nS)\n",
    "print(\"Observation_Space:\", env.observation_space)\n",
    "print(\"Env. shape:\", env.shape)\n",
    "print(\"Start State Index:\", env.start_state_index)"
   ]
  },
  {
   "cell_type": "code",
   "execution_count": 13,
   "metadata": {},
   "outputs": [
    {
     "name": "stdout",
     "output_type": "stream",
     "text": [
      "36, Up --> 24, Right --> 25, Up --> 13, Right --> 14, Down --> 26, Left --> 25, Left --> 24, Left --> 24, "
     ]
    }
   ],
   "source": [
    "# Sample trajectories\n",
    "env.reset()\n",
    "print(env.s, end = ', ')\n",
    "\n",
    "env.step(0)\n",
    "print(\"Up -->\", env.s, end = \", \")\n",
    "\n",
    "env.step(1)\n",
    "print(\"Right -->\", env.s, end = \", \")\n",
    "\n",
    "env.step(0)\n",
    "print(\"Up -->\", env.s, end = \", \")\n",
    "\n",
    "env.step(1)\n",
    "print(\"Right -->\", env.s, end = \", \")\n",
    "\n",
    "env.step(2)\n",
    "print(\"Down -->\", env.s, end = \", \")\n",
    "\n",
    "env.step(3)\n",
    "print(\"Left -->\", env.s, end = \", \")\n",
    "\n",
    "env.step(3)\n",
    "print(\"Left -->\", env.s, end = \", \")\n",
    "\n",
    "env.step(3)\n",
    "print(\"Left -->\", env.s, end = \", \")"
   ]
  }
 ],
 "metadata": {
  "kernelspec": {
   "display_name": "Python 3",
   "language": "python",
   "name": "python3"
  },
  "language_info": {
   "codemirror_mode": {
    "name": "ipython",
    "version": 3
   },
   "file_extension": ".py",
   "mimetype": "text/x-python",
   "name": "python",
   "nbconvert_exporter": "python",
   "pygments_lexer": "ipython3",
   "version": "3.8.5"
  },
  "toc": {
   "base_numbering": 1,
   "nav_menu": {},
   "number_sections": true,
   "sideBar": true,
   "skip_h1_title": false,
   "title_cell": "Table of Contents",
   "title_sidebar": "Contents",
   "toc_cell": false,
   "toc_position": {
    "height": "calc(100% - 180px)",
    "left": "10px",
    "top": "150px",
    "width": "307.2px"
   },
   "toc_section_display": true,
   "toc_window_display": true
  }
 },
 "nbformat": 4,
 "nbformat_minor": 4
}
