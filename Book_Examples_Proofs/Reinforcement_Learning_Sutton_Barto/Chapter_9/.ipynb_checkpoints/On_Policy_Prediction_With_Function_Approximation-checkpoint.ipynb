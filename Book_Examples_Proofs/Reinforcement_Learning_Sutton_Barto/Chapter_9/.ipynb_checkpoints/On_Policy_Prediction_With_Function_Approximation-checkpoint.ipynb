{
 "cells": [
  {
   "cell_type": "code",
   "execution_count": 27,
   "metadata": {},
   "outputs": [],
   "source": [
    "from tqdm import tqdm"
   ]
  },
  {
   "cell_type": "markdown",
   "metadata": {},
   "source": [
    "# Backup Section"
   ]
  },
  {
   "cell_type": "code",
   "execution_count": 2,
   "metadata": {},
   "outputs": [
    {
     "name": "stdout",
     "output_type": "stream",
     "text": [
      "5.219856250608928\n",
      "3.147504764133215\n",
      "2.4200165327442447\n",
      "2.030964368597748\n",
      "1.765774604834791\n",
      "1.559756160711911\n",
      "1.3875884847630768\n",
      "1.2382446653845665\n",
      "1.1064473413428413\n",
      "0.9892874551215542\n",
      "0.8848433975962106\n",
      "0.7916155616180749\n",
      "0.7083377975538772\n",
      "0.6338945041405755\n",
      "0.5672963336491752\n",
      "0.5076722536530798\n",
      "0.45426128102798813\n",
      "0.40640673995613064\n",
      "0.3635334477225872\n",
      "0.3251406600343595\n",
      "0.29078547835741864\n",
      "0.260072448727817\n",
      "0.23264633333457801\n",
      "0.2081849989696269\n",
      "0.1863964885141361\n",
      "0.16701502587432657\n",
      "0.14980032427970585\n",
      "0.13453281651165322\n",
      "0.12101479793777228\n",
      "0.10906668626498445\n",
      "0.0985270181556287\n",
      "0.08925010666481309\n",
      "0.08110473842855008\n",
      "0.07397312225969863\n",
      "0.06774966858962844\n",
      "0.06233968094702404\n",
      "0.05765814517708229\n",
      "0.05362893012631888\n",
      "0.050183422469906966\n",
      "0.047259943409262505\n",
      "0.04480246726853935\n",
      "0.04275906137304951\n",
      "0.04108202401984219\n",
      "0.039724016015922965\n",
      "0.03863474194706377\n",
      "0.03774650233089469\n",
      "0.03693004490122122\n",
      "0.03610614770720546\n",
      "0.03527755633058373\n",
      "0.03444759318230696\n",
      "0.033619139204445946\n",
      "0.03279468217166419\n",
      "0.03197636038732281\n",
      "0.031166002083245666\n",
      "0.03036516084459783\n",
      "0.029575147385839745\n",
      "0.028797057996413085\n",
      "0.028031799959203074\n",
      "0.02728011422721463\n",
      "0.026542595630991112\n",
      "0.025819710857634327\n",
      "0.025111814434236233\n",
      "0.02441916291993215\n",
      "0.023741927497049724\n",
      "0.023080205130422197\n",
      "0.02243402844988289\n",
      "0.02180337449424593\n",
      "0.021188172441299384\n",
      "0.020588310437268408\n",
      "0.02000364162027715\n",
      "0.019433989435045422\n",
      "0.01887915231202788\n",
      "0.01833890778382159\n",
      "0.017813016105419834\n",
      "0.017301223430884964\n",
      "0.016803264597771234\n",
      "0.016318865564634154\n",
      "0.01584774554230043\n",
      "0.015389618851409052\n",
      "0.014944196540243683\n",
      "0.014511187788564188\n",
      "0.014090301125981544\n",
      "0.013681245480780436\n",
      "0.013283731084701586\n",
      "0.012897470247440672\n",
      "0.012522178016747876\n",
      "0.012157572738747784\n",
      "0.011803376530336966\n",
      "0.011459315671748833\n",
      "0.011125120933305517\n",
      "0.010800527841140047\n",
      "0.010485276890821096\n",
      "0.010179113713295352\n",
      "0.009881789204295688\n"
     ]
    }
   ],
   "source": [
    "#######################################################################\n",
    "# Copyright (C)                                                       #\n",
    "# 2016 Shangtong Zhang(zhangshangtong.cpp@gmail.com)                  #\n",
    "# 2016 Kenta Shimada(hyperkentakun@gmail.com)                         #\n",
    "# Permission given to modify the code as long as you keep this        #\n",
    "# declaration at the top                                              #\n",
    "#######################################################################\n",
    "\n",
    "from __future__ import print_function\n",
    "import numpy as np\n",
    "import matplotlib.pyplot as plt\n",
    "\n",
    "# # of states except for terminal states\n",
    "N_STATES = 1000\n",
    "\n",
    "# true state values, just a promising guess\n",
    "trueStateValues = np.arange(-1001, 1003, 2) / 1001.0\n",
    "\n",
    "# all states\n",
    "states = np.arange(1, N_STATES + 1)\n",
    "\n",
    "# start from a central state\n",
    "START_STATE = 500\n",
    "\n",
    "# terminal states\n",
    "END_STATES = [0, N_STATES + 1]\n",
    "\n",
    "# possible actions\n",
    "ACTION_LEFT = -1\n",
    "ACTION_RIGHT = 1\n",
    "ACTIONS = [ACTION_LEFT, ACTION_RIGHT]\n",
    "\n",
    "# maximum stride for an action\n",
    "STEP_RANGE = 100\n",
    "\n",
    "# Dynamic programming to find the true state values, based on the promising guess above\n",
    "# Assume all rewards are 0, given that we have already given value -1 and 1 to terminal states\n",
    "while True:\n",
    "    oldTrueStateValues = np.copy(trueStateValues)\n",
    "    for state in states:\n",
    "        trueStateValues[state] = 0\n",
    "        for action in ACTIONS:\n",
    "            for step in range(1, STEP_RANGE + 1):\n",
    "                step *= action\n",
    "                newState = state + step\n",
    "                newState = max(min(newState, N_STATES + 1), 0)\n",
    "                # asynchronous update for faster convergence\n",
    "                trueStateValues[state] += 1.0 / (2 * STEP_RANGE) * trueStateValues[newState]\n",
    "    error = np.sum(np.abs(oldTrueStateValues - trueStateValues))\n",
    "    print(error)\n",
    "    if error < 1e-2:\n",
    "        break\n",
    "# correct the state value for terminal states to 0\n",
    "trueStateValues[0] = trueStateValues[-1] = 0"
   ]
  },
  {
   "cell_type": "code",
   "execution_count": 3,
   "metadata": {},
   "outputs": [],
   "source": [
    "# take an @action at @state, return new state and reward for this transition\n",
    "def takeAction(state, action):\n",
    "    step = np.random.randint(1, STEP_RANGE + 1)\n",
    "    step *= action\n",
    "    state += step\n",
    "    state = max(min(state, N_STATES + 1), 0)\n",
    "    if state == 0:\n",
    "        reward = -1\n",
    "    elif state == N_STATES + 1:\n",
    "        reward = 1\n",
    "    else:\n",
    "        reward = 0\n",
    "    return state, reward"
   ]
  },
  {
   "cell_type": "code",
   "execution_count": 4,
   "metadata": {},
   "outputs": [],
   "source": [
    "# get an action, following random policy\n",
    "def getAction():\n",
    "    if np.random.binomial(1, 0.5) == 1:\n",
    "        return 1\n",
    "    return -1"
   ]
  },
  {
   "cell_type": "code",
   "execution_count": 5,
   "metadata": {},
   "outputs": [],
   "source": [
    "# a wrapper class for aggregation value function\n",
    "class ValueFunction:\n",
    "    # @numOfGroups: # of aggregations\n",
    "    def __init__(self, numOfGroups):\n",
    "        self.numOfGroups = numOfGroups\n",
    "        self.groupSize = N_STATES // numOfGroups\n",
    "\n",
    "        # thetas\n",
    "        self.params = np.zeros(numOfGroups)\n",
    "\n",
    "    # get the value of @state\n",
    "    def value(self, state):\n",
    "        if state in END_STATES:\n",
    "            return 0\n",
    "        groupIndex = (state - 1) // self.groupSize\n",
    "        return self.params[groupIndex]\n",
    "\n",
    "    # update parameters\n",
    "    # @delta: step size * (target - old estimation)\n",
    "    # @state: state of current sample\n",
    "    def update(self, delta, state):\n",
    "        groupIndex = (state - 1) // self.groupSize\n",
    "        self.params[groupIndex] += delta"
   ]
  },
  {
   "cell_type": "code",
   "execution_count": 6,
   "metadata": {},
   "outputs": [],
   "source": [
    "# a wrapper class for tile coding value function\n",
    "class TilingsValueFunction:\n",
    "    # @numOfTilings: # of tilings\n",
    "    # @tileWidth: each tiling has several tiles, this parameter specifies the width of each tile\n",
    "    # @tilingOffset: specifies how tilings are put together\n",
    "    def __init__(self, numOfTilings, tileWidth, tilingOffset):\n",
    "        self.numOfTilings = numOfTilings\n",
    "        self.tileWidth = tileWidth\n",
    "        self.tilingOffset = tilingOffset\n",
    "\n",
    "        # To make sure that each sate is covered by same number of tiles,\n",
    "        # we need one more tile for each tiling\n",
    "        self.tilingSize = N_STATES // tileWidth + 1\n",
    "\n",
    "        # weight for each tile\n",
    "        self.params = np.zeros((self.numOfTilings, self.tilingSize))\n",
    "\n",
    "        # For performance, only track the starting position for each tiling\n",
    "        # As we have one more tile for each tiling, the starting position will be negative\n",
    "        self.tilings = np.arange(-tileWidth + 1, 0, tilingOffset)\n",
    "\n",
    "    # get the value of @state\n",
    "    def value(self, state):\n",
    "        stateValue = 0.0\n",
    "        # go through all the tilings\n",
    "        for tilingIndex in range(0, len(self.tilings)):\n",
    "            # find the active tile in current tiling\n",
    "            tileIndex = (state - self.tilings[tilingIndex]) // self.tileWidth\n",
    "            stateValue += self.params[tilingIndex, tileIndex]\n",
    "        return stateValue\n",
    "\n",
    "    # update parameters\n",
    "    # @delta: step size * (target - old estimation)\n",
    "    # @state: state of current sample\n",
    "    def update(self, delta, state):\n",
    "\n",
    "        # each state is covered by same number of tilings\n",
    "        # so the delta should be divided equally into each tiling (tile)\n",
    "        delta /= self.numOfTilings\n",
    "\n",
    "        # go through all the tilings\n",
    "        for tilingIndex in range(0, len(self.tilings)):\n",
    "            # find the active tile in current tiling\n",
    "            tileIndex = (state - self.tilings[tilingIndex]) // self.tileWidth\n",
    "            self.params[tilingIndex, tileIndex] += delta"
   ]
  },
  {
   "cell_type": "code",
   "execution_count": 7,
   "metadata": {},
   "outputs": [],
   "source": [
    "# a wrapper class for polynomial / Fourier -based value function\n",
    "POLYNOMIAL_BASES = 0\n",
    "FOURIER_BASES = 1\n",
    "class BasesValueFunction:\n",
    "    # @order: # of bases, each function also has one more constant parameter (called bias in machine learning)\n",
    "    # @type: polynomial bases or Fourier bases\n",
    "    def __init__(self, order, type):\n",
    "        self.order = order\n",
    "        self.weights = np.zeros(order + 1)\n",
    "\n",
    "        # set up bases function\n",
    "        self.bases = []\n",
    "        if type == POLYNOMIAL_BASES:\n",
    "            for i in range(0, order + 1):\n",
    "                self.bases.append(lambda s, i=i: pow(s, i))\n",
    "        elif type == FOURIER_BASES:\n",
    "            for i in range(0, order + 1):\n",
    "                self.bases.append(lambda s, i=i: np.cos(i * np.pi * s))\n",
    "\n",
    "    # get the value of @state\n",
    "    def value(self, state):\n",
    "        # map the state space into [0, 1]\n",
    "        state /= float(N_STATES)\n",
    "        # get the feature vector\n",
    "        feature = np.asarray([func(state) for func in self.bases])\n",
    "        return np.dot(self.weights, feature)\n",
    "\n",
    "    def update(self, delta, state):\n",
    "        # map the state space into [0, 1]\n",
    "        state /= float(N_STATES)\n",
    "        # get derivative value\n",
    "        derivativeValue = np.asarray([func(state) for func in self.bases])\n",
    "        self.weights += delta * derivativeValue"
   ]
  },
  {
   "cell_type": "code",
   "execution_count": 8,
   "metadata": {},
   "outputs": [],
   "source": [
    "# gradient Monte Carlo algorithm\n",
    "# @valueFunction: an instance of class ValueFunction\n",
    "# @alpha: step size\n",
    "# @distribution: array to store the distribution statistics\n",
    "def gradientMonteCarlo(valueFunction, alpha, distribution=None):\n",
    "    currentState = START_STATE\n",
    "    trajectory = [currentState]\n",
    "\n",
    "    # We assume gamma = 1, so return is just the same as the latest reward\n",
    "    reward = 0.0\n",
    "    while currentState not in END_STATES:\n",
    "        action = getAction()\n",
    "        newState, reward = takeAction(currentState, action)\n",
    "        trajectory.append(newState)\n",
    "        currentState = newState\n",
    "\n",
    "    # Gradient update for each state in this trajectory\n",
    "    for state in trajectory[:-1]:\n",
    "        delta = alpha * (reward - valueFunction.value(state))\n",
    "        valueFunction.update(delta, state)\n",
    "        if distribution is not None:\n",
    "            distribution[state] += 1"
   ]
  },
  {
   "cell_type": "code",
   "execution_count": 9,
   "metadata": {},
   "outputs": [],
   "source": [
    "# semi-gradient n-step TD algorithm\n",
    "# @valueFunction: an instance of class ValueFunction\n",
    "# @n: # of steps\n",
    "# @alpha: step size\n",
    "def semiGradientTemporalDifference(valueFunction, n, alpha):\n",
    "    # initial starting state\n",
    "    currentState = START_STATE\n",
    "\n",
    "    # arrays to store states and rewards for an episode\n",
    "    # space isn't a major consideration, so I didn't use the mod trick\n",
    "    states = [currentState]\n",
    "    rewards = [0]\n",
    "\n",
    "    # track the time\n",
    "    time = 0\n",
    "\n",
    "    # the length of this episode\n",
    "    T = float('inf')\n",
    "    while True:\n",
    "        # go to next time step\n",
    "        time += 1\n",
    "\n",
    "        if time < T:\n",
    "            # choose an action randomly\n",
    "            action = getAction()\n",
    "            newState, reward = takeAction(currentState, action)\n",
    "\n",
    "            # store new state and new reward\n",
    "            states.append(newState)\n",
    "            rewards.append(reward)\n",
    "\n",
    "            if newState in END_STATES:\n",
    "                T = time\n",
    "\n",
    "        # get the time of the state to update\n",
    "        updateTime = time - n\n",
    "        if updateTime >= 0:\n",
    "            returns = 0.0\n",
    "            # calculate corresponding rewards\n",
    "            for t in range(updateTime + 1, min(T, updateTime + n) + 1):\n",
    "                returns += rewards[t]\n",
    "            # add state value to the return\n",
    "            if updateTime + n <= T:\n",
    "                returns += valueFunction.value(states[updateTime + n])\n",
    "            stateToUpdate = states[updateTime]\n",
    "            # update the value function\n",
    "            if not stateToUpdate in END_STATES:\n",
    "                delta = alpha * (returns - valueFunction.value(stateToUpdate))\n",
    "                valueFunction.update(delta, stateToUpdate)\n",
    "        if updateTime == T - 1:\n",
    "            break\n",
    "        currentState = newState"
   ]
  },
  {
   "cell_type": "code",
   "execution_count": 28,
   "metadata": {},
   "outputs": [],
   "source": [
    "# Figure 9.1, gradient Monte Carlo algorithm\n",
    "def figure9_1():\n",
    "    nEpisodes = int(1e4)\n",
    "    alpha = 2e-5\n",
    "\n",
    "    # we have 10 aggregations in this example, each has 100 states\n",
    "    valueFunction = ValueFunction(10)\n",
    "    distribution = np.zeros(N_STATES + 2)\n",
    "    for episode in tqdm(range(0, nEpisodes)):\n",
    "#         if(episode % 1000 == 0):\n",
    "#             print('episode:', episode)\n",
    "        gradientMonteCarlo(valueFunction, alpha, distribution)\n",
    "\n",
    "    distribution /= np.sum(distribution)\n",
    "    stateValues = [valueFunction.value(i) for i in states]\n",
    "\n",
    "    plt.figure(0)\n",
    "    plt.plot(states, stateValues, label='Approximate MC value')\n",
    "    plt.plot(states, trueStateValues[1: -1], label='True value')\n",
    "    plt.xlabel('State')\n",
    "    plt.ylabel('Value')\n",
    "    plt.legend()\n",
    "\n",
    "    plt.figure(1)\n",
    "    plt.plot(states, distribution[1: -1], label='State distribution')\n",
    "    plt.xlabel('State')\n",
    "    plt.ylabel('Distribution')\n",
    "    plt.legend()"
   ]
  },
  {
   "cell_type": "code",
   "execution_count": 11,
   "metadata": {},
   "outputs": [],
   "source": [
    "# semi-gradient TD on 1000-state random walk\n",
    "def figure9_2Left():\n",
    "    nEpisodes = int(1e5)\n",
    "    alpha = 2e-4\n",
    "    valueFunction = ValueFunction(10)\n",
    "    for episode in range(0, nEpisodes):\n",
    "        print('episode:', episode)\n",
    "        semiGradientTemporalDifference(valueFunction, 1, alpha)\n",
    "\n",
    "    stateValues = [valueFunction.value(i) for i in states]\n",
    "    plt.figure(2)\n",
    "    plt.plot(states, stateValues, label='Approximate TD value')\n",
    "    plt.plot(states, trueStateValues[1: -1], label='True value')\n",
    "    plt.xlabel('State')\n",
    "    plt.ylabel('Value')\n",
    "    plt.legend()"
   ]
  },
  {
   "cell_type": "code",
   "execution_count": 12,
   "metadata": {},
   "outputs": [],
   "source": [
    "# different alphas and steps for semi-gradient TD\n",
    "def figure9_2Right():\n",
    "    # truncate value for better display\n",
    "    truncateValue = 0.55\n",
    "\n",
    "    # all possible steps\n",
    "    steps = np.power(2, np.arange(0, 10))\n",
    "\n",
    "    # all possible alphas\n",
    "    alphas = np.arange(0, 1.1, 0.1)\n",
    "\n",
    "    # each run has 10 episodes\n",
    "    episodes = 10\n",
    "\n",
    "    # perform 100 independent runs\n",
    "    runs = 100\n",
    "\n",
    "    # track the errors for each (step, alpha) combination\n",
    "    errors = np.zeros((len(steps), len(alphas)))\n",
    "    for run in range(0, runs):\n",
    "        for stepInd, step in zip(range(len(steps)), steps):\n",
    "            for alphaInd, alpha in zip(range(len(alphas)), alphas):\n",
    "                print('run:', run, 'step:', step, 'alpha:', alpha)\n",
    "                # we have 20 aggregations in this example\n",
    "                valueFunction = ValueFunction(20)\n",
    "                for ep in range(0, episodes):\n",
    "                    semiGradientTemporalDifference(valueFunction, step, alpha)\n",
    "                    # calculate the RMS error\n",
    "                    currentStateValues = np.asarray([valueFunction.value(i) for i in states])\n",
    "                    errors[stepInd, alphaInd] += np.sqrt(np.sum(np.power(currentStateValues - trueStateValues[1: -1], 2)) / N_STATES)\n",
    "    # take average\n",
    "    errors /= episodes * runs\n",
    "    # truncate the error\n",
    "    errors[errors > truncateValue] = truncateValue\n",
    "    plt.figure(3)\n",
    "    for i in range(0, len(steps)):\n",
    "        plt.plot(alphas, errors[i, :], label='n = ' + str(steps[i]))\n",
    "    plt.xlabel('alpha')\n",
    "    plt.ylabel('RMS error')\n",
    "    plt.legend()"
   ]
  },
  {
   "cell_type": "code",
   "execution_count": 13,
   "metadata": {},
   "outputs": [],
   "source": [
    "# Figure 9.2, it will take quite a while\n",
    "def figure9_2():\n",
    "    figure9_2Left()\n",
    "    figure9_2Right()"
   ]
  },
  {
   "cell_type": "code",
   "execution_count": 14,
   "metadata": {},
   "outputs": [],
   "source": [
    "# Figure 9.5, Fourier basis and polynomials\n",
    "def figure9_5():\n",
    "    # my machine can only afford 1 run\n",
    "    runs = 1\n",
    "\n",
    "    episodes = 5000\n",
    "\n",
    "    # # of bases\n",
    "    orders = [5, 10, 20]\n",
    "\n",
    "    alphas = [1e-4, 5e-5]\n",
    "    labels = [['polynomial basis'] * 3, ['fourier basis'] * 3]\n",
    "\n",
    "    # track errors for each episode\n",
    "    errors = np.zeros((len(alphas), len(orders), episodes))\n",
    "    for run in range(0, runs):\n",
    "        for i in range(0, len(orders)):\n",
    "            valueFunctions = [BasesValueFunction(orders[i], POLYNOMIAL_BASES), BasesValueFunction(orders[i], FOURIER_BASES)]\n",
    "            for j in range(0, len(valueFunctions)):\n",
    "                for episode in range(0, episodes):\n",
    "                    print('run:', run, 'order:', orders[i], labels[j][i], 'episode:', episode)\n",
    "\n",
    "                    # gradient Monte Carlo algorithm\n",
    "                    gradientMonteCarlo(valueFunctions[j], alphas[j])\n",
    "\n",
    "                    # get state values under current value function\n",
    "                    stateValues = [valueFunctions[j].value(state) for state in states]\n",
    "\n",
    "                    # get the root-mean-squared error\n",
    "                    errors[j, i, episode] += np.sqrt(np.mean(np.power(trueStateValues[1: -1] - stateValues, 2)))\n",
    "\n",
    "    # average over independent runs\n",
    "    errors /= runs\n",
    "\n",
    "    plt.figure(5)\n",
    "    for i in range(0, len(alphas)):\n",
    "        for j in range(0, len(orders)):\n",
    "            plt.plot(errors[i, j, :], label=labels[i][j]+' order = ' + str(orders[j]))\n",
    "    plt.xlabel('Episodes')\n",
    "    plt.ylabel('RMSVE')\n",
    "    plt.legend()"
   ]
  },
  {
   "cell_type": "code",
   "execution_count": 15,
   "metadata": {},
   "outputs": [],
   "source": [
    "# Figure 9.10, it will take quite a while\n",
    "def figure9_10():\n",
    "\n",
    "    # My machine can only afford one run, thus the curve isn't so smooth\n",
    "    runs = 1\n",
    "\n",
    "    # number of episodes\n",
    "    episodes = 5000\n",
    "\n",
    "    numOfTilings = 50\n",
    "\n",
    "    # each tile will cover 200 states\n",
    "    tileWidth = 200\n",
    "\n",
    "    # how to put so many tilings\n",
    "    tilingOffset = 4\n",
    "\n",
    "    labels = ['tile coding (50 tilings)', 'state aggregation (one tiling)']\n",
    "\n",
    "    # track errors for each episode\n",
    "    errors = np.zeros((len(labels), episodes))\n",
    "    for run in range(0, runs):\n",
    "        # initialize value functions for multiple tilings and single tiling\n",
    "        valueFunctions = [TilingsValueFunction(numOfTilings, tileWidth, tilingOffset),\n",
    "                         ValueFunction(N_STATES // tileWidth)]\n",
    "        for i in range(0, len(valueFunctions)):\n",
    "            for episode in range(0, episodes):\n",
    "                print('run:', run, 'episode:', episode)\n",
    "\n",
    "                # I use a changing alpha according to the episode instead of a small fixed alpha\n",
    "                # With a small fixed alpha, I don't think 5000 episodes is enough for so many\n",
    "                # parameters in multiple tilings.\n",
    "                # The asymptotic performance for single tiling stays unchanged under a changing alpha,\n",
    "                # however the asymptotic performance for multiple tilings improves significantly\n",
    "                alpha = 1.0 / (episode + 1)\n",
    "\n",
    "                # gradient Monte Carlo algorithm\n",
    "                gradientMonteCarlo(valueFunctions[i], alpha)\n",
    "\n",
    "                # get state values under current value function\n",
    "                stateValues = [valueFunctions[i].value(state) for state in states]\n",
    "\n",
    "                # get the root-mean-squared error\n",
    "                errors[i][episode] += np.sqrt(np.mean(np.power(trueStateValues[1: -1] - stateValues, 2)))\n",
    "\n",
    "    # average over independent runs\n",
    "    errors /= runs\n",
    "\n",
    "    plt.figure(4)\n",
    "    for i in range(0, len(labels)):\n",
    "        plt.plot(errors[i], label=labels[i])\n",
    "    plt.xlabel('Episodes')\n",
    "    plt.ylabel('RMSVE')\n",
    "    plt.legend()"
   ]
  },
  {
   "cell_type": "code",
   "execution_count": 29,
   "metadata": {
    "scrolled": false
   },
   "outputs": [
    {
     "name": "stderr",
     "output_type": "stream",
     "text": [
      "  2%|█▎                                                                           | 166/10000 [00:00<00:12, 775.09it/s]"
     ]
    },
    {
     "name": "stdout",
     "output_type": "stream",
     "text": [
      "episode: 0\n"
     ]
    },
    {
     "name": "stderr",
     "output_type": "stream",
     "text": [
      " 11%|████████▋                                                                   | 1137/10000 [00:01<00:12, 722.17it/s]"
     ]
    },
    {
     "name": "stdout",
     "output_type": "stream",
     "text": [
      "episode: 1000\n"
     ]
    },
    {
     "name": "stderr",
     "output_type": "stream",
     "text": [
      " 21%|████████████████                                                            | 2115/10000 [00:02<00:09, 870.78it/s]"
     ]
    },
    {
     "name": "stdout",
     "output_type": "stream",
     "text": [
      "episode: 2000\n"
     ]
    },
    {
     "name": "stderr",
     "output_type": "stream",
     "text": [
      " 31%|███████████████████████▎                                                    | 3073/10000 [00:04<00:08, 794.58it/s]"
     ]
    },
    {
     "name": "stdout",
     "output_type": "stream",
     "text": [
      "episode: 3000\n"
     ]
    },
    {
     "name": "stderr",
     "output_type": "stream",
     "text": [
      " 41%|███████████████████████████████▏                                            | 4096/10000 [00:05<00:08, 700.67it/s]"
     ]
    },
    {
     "name": "stdout",
     "output_type": "stream",
     "text": [
      "episode: 4000\n"
     ]
    },
    {
     "name": "stderr",
     "output_type": "stream",
     "text": [
      " 51%|██████████████████████████████████████▊                                     | 5110/10000 [00:06<00:05, 834.89it/s]"
     ]
    },
    {
     "name": "stdout",
     "output_type": "stream",
     "text": [
      "episode: 5000\n"
     ]
    },
    {
     "name": "stderr",
     "output_type": "stream",
     "text": [
      " 62%|██████████████████████████████████████████████▊                             | 6153/10000 [00:07<00:04, 838.49it/s]"
     ]
    },
    {
     "name": "stdout",
     "output_type": "stream",
     "text": [
      "episode: 6000\n"
     ]
    },
    {
     "name": "stderr",
     "output_type": "stream",
     "text": [
      " 71%|██████████████████████████████████████████████████████▏                     | 7135/10000 [00:09<00:03, 864.98it/s]"
     ]
    },
    {
     "name": "stdout",
     "output_type": "stream",
     "text": [
      "episode: 7000\n"
     ]
    },
    {
     "name": "stderr",
     "output_type": "stream",
     "text": [
      " 81%|█████████████████████████████████████████████████████████████▌              | 8096/10000 [00:10<00:02, 846.81it/s]"
     ]
    },
    {
     "name": "stdout",
     "output_type": "stream",
     "text": [
      "episode: 8000\n"
     ]
    },
    {
     "name": "stderr",
     "output_type": "stream",
     "text": [
      " 92%|██████████████████████████████████████████████████████████████████████      | 9218/10000 [00:11<00:00, 834.67it/s]"
     ]
    },
    {
     "name": "stdout",
     "output_type": "stream",
     "text": [
      "episode: 9000\n"
     ]
    },
    {
     "name": "stderr",
     "output_type": "stream",
     "text": [
      "100%|███████████████████████████████████████████████████████████████████████████| 10000/10000 [00:12<00:00, 794.56it/s]\n"
     ]
    },
    {
     "data": {
      "image/png": "[encoded data removed]",
      "text/plain": [
       "<Figure size 432x288 with 1 Axes>"
      ]
     },
     "metadata": {
      "needs_background": "light"
     },
     "output_type": "display_data"
    },
    {
     "data": {
      "image/png": "[encoded data removed]",
      "text/plain": [
       "<Figure size 432x288 with 1 Axes>"
      ]
     },
     "metadata": {
      "needs_background": "light"
     },
     "output_type": "display_data"
    }
   ],
   "source": [
    "figure9_1()"
   ]
  },
  {
   "cell_type": "code",
   "execution_count": null,
   "metadata": {},
   "outputs": [],
   "source": [
    "figure9_2()\n",
    "figure9_5()\n",
    "figure9_10()\n",
    "plt.show()"
   ]
  },
  {
   "cell_type": "code",
   "execution_count": 24,
   "metadata": {},
   "outputs": [
    {
     "data": {
      "text/plain": [
       "0"
      ]
     },
     "execution_count": 24,
     "metadata": {},
     "output_type": "execute_result"
    }
   ],
   "source": [
    "100 % 10"
   ]
  }
 ],
 "metadata": {
  "kernelspec": {
   "display_name": "Python 3",
   "language": "python",
   "name": "python3"
  },
  "language_info": {
   "codemirror_mode": {
    "name": "ipython",
    "version": 3
   },
   "file_extension": ".py",
   "mimetype": "text/x-python",
   "name": "python",
   "nbconvert_exporter": "python",
   "pygments_lexer": "ipython3",
   "version": "3.8.5"
  },
  "toc": {
   "base_numbering": 1,
   "nav_menu": {},
   "number_sections": true,
   "sideBar": true,
   "skip_h1_title": false,
   "title_cell": "Table of Contents",
   "title_sidebar": "Contents",
   "toc_cell": false,
   "toc_position": {},
   "toc_section_display": true,
   "toc_window_display": true
  }
 },
 "nbformat": 4,
 "nbformat_minor": 4
}
