{
  "nbformat": 4,
  "nbformat_minor": 0,
  "metadata": {
    "colab": {
      "name": "MNIST_Dataset_Eval.ipynb",
      "provenance": [],
      "collapsed_sections": [],
      "toc_visible": true,
      "include_colab_link": true
    },
    "kernelspec": {
      "display_name": "Python 3",
      "language": "python",
      "name": "python3"
    },
    "language_info": {
      "codemirror_mode": {
        "name": "ipython",
        "version": 3
      },
      "file_extension": ".py",
      "mimetype": "text/x-python",
      "name": "python",
      "nbconvert_exporter": "python",
      "pygments_lexer": "ipython3",
      "version": "3.8.5"
    },
    "toc": {
      "base_numbering": 1,
      "nav_menu": {},
      "number_sections": true,
      "sideBar": true,
      "skip_h1_title": false,
      "title_cell": "Table of Contents",
      "title_sidebar": "Contents",
      "toc_cell": false,
      "toc_position": {
        "height": "calc(100% - 180px)",
        "left": "10px",
        "top": "150px",
        "width": "256px"
      },
      "toc_section_display": true,
      "toc_window_display": true
    }
  },
  "cells": [
    {
      "cell_type": "markdown",
      "metadata": {
        "id": "view-in-github",
        "colab_type": "text"
      },
      "source": [
        "<a href=\"https://colab.research.google.com/github/suresh-venkate/Code_Repositories/blob/main/Deep_Learning/Computer_Vision/Image_Classification/MNIST/MNIST_Classification.ipynb\" target=\"_parent\"><img src=\"https://colab.research.google.com/assets/colab-badge.svg\" alt=\"Open In Colab\"/></a>"
      ]
    },
    {
      "cell_type": "markdown",
      "metadata": {
        "id": "urg0J7uoSwE1"
      },
      "source": [
        "# MNIST Dataset Classification\n",
        "\n",
        "* Problem statement: Classify hand-written digits into their respective classes.\n",
        "* Dataset to be used: keras.datasets.mnist"
      ]
    },
    {
      "cell_type": "markdown",
      "metadata": {
        "id": "_O0lJuOACzOb"
      },
      "source": [
        "# Connect to Google Drive"
      ]
    },
    {
      "cell_type": "code",
      "metadata": {
        "colab": {
          "base_uri": "https://localhost:8080/"
        },
        "id": "aA_w3sQsdvoM",
        "outputId": "af7bd6c3-7ac1-4928-a81d-9d0ac2b6c7de"
      },
      "source": [
        "### Use this for Google Colab\n",
        "\n",
        "from google.colab import drive\n",
        "drive.mount('/content/drive')"
      ],
      "execution_count": 1,
      "outputs": [
        {
          "output_type": "stream",
          "text": [
            "Mounted at /content/drive\n"
          ],
          "name": "stdout"
        }
      ]
    },
    {
      "cell_type": "markdown",
      "metadata": {
        "id": "U64TT4QGSwE3"
      },
      "source": [
        "# Import required libraries"
      ]
    },
    {
      "cell_type": "code",
      "metadata": {
        "id": "tZPHTpD_SwE6"
      },
      "source": [
        "import numpy as np\n",
        "import pandas as pd\n",
        "import matplotlib.pyplot as plt\n",
        "import seaborn as sns\n",
        "import time\n",
        "import datetime\n",
        "import os\n",
        "import shutil\n",
        "import pytz\n",
        "%matplotlib inline\n",
        "\n",
        "import tensorflow as tf\n",
        "from tensorflow import keras\n",
        "from tensorflow.keras import layers, regularizers, models, Model\n",
        "from tensorflow.keras import optimizers, losses, metrics\n",
        "from tensorflow.keras.models import Sequential\n",
        "from tensorflow.keras.layers import Input, Flatten, Dense, Activation, Conv2D, MaxPooling2D\n",
        "from tensorflow.keras.layers import BatchNormalization, Dropout\n",
        "from tensorflow.keras.datasets import mnist\n",
        "from tensorflow.keras.optimizers.schedules import InverseTimeDecay \n",
        "from tensorflow.keras.callbacks import TensorBoard, ModelCheckpoint, EarlyStopping, CSVLogger\n",
        "from tensorflow.keras.utils import to_categorical\n",
        "from tensorflow.keras.preprocessing.image import apply_affine_transform\n",
        "\n",
        "from sklearn.model_selection import train_test_split\n",
        "\n",
        "# Ignore the warnings\n",
        "import warnings\n",
        "warnings.filterwarnings(\"ignore\")\n",
        "\n",
        "%load_ext tensorboard"
      ],
      "execution_count": 2,
      "outputs": []
    },
    {
      "cell_type": "markdown",
      "metadata": {
        "id": "OP5VBxNPzlVH"
      },
      "source": [
        "# Define directory paths"
      ]
    },
    {
      "cell_type": "code",
      "metadata": {
        "id": "Z8awMYjozlVH"
      },
      "source": [
        "# Define base path for TensorBoard Logs directory\n",
        "tb_logs_base_path = \"/content/drive/MyDrive/AI_ML_Folder/Colab_Directory/Model_Outputs/MNIST_Classification/TB_Logs/\"\n",
        "os.makedirs(tb_logs_base_path, exist_ok = True) # Don't raise any exception if directory exists\n",
        "# Define base path for storing all outputs related to model / training\n",
        "out_base_path = \"/content/drive/MyDrive/AI_ML_Folder/Colab_Directory/Model_Outputs/MNIST_Classification/Training_Outputs/\"\n",
        "os.makedirs(out_base_path, exist_ok = True) # Don't raise any exception if directory exists"
      ],
      "execution_count": 3,
      "outputs": []
    },
    {
      "cell_type": "markdown",
      "metadata": {
        "id": "75YVNRaDOufs"
      },
      "source": [
        "# Dataset - Import, EDA and pre-process"
      ]
    },
    {
      "cell_type": "markdown",
      "metadata": {
        "id": "AMm3JCgLSwFD"
      },
      "source": [
        "## Import dataset"
      ]
    },
    {
      "cell_type": "code",
      "metadata": {
        "colab": {
          "base_uri": "https://localhost:8080/"
        },
        "id": "Edezwt5xSwFE",
        "outputId": "3b1dd27e-315d-4fdb-a765-3032ad6e6523"
      },
      "source": [
        "# Download MNIST dataset\n",
        "(X_train, y_train), (X_test_orig, y_test_orig) = mnist.load_data()\n",
        "print(f\"Shape of X_train is {X_train.shape}\")\n",
        "print(f\"Shape of X_test is {X_test_orig.shape}\")"
      ],
      "execution_count": 4,
      "outputs": [
        {
          "output_type": "stream",
          "text": [
            "Downloading data from https://storage.googleapis.com/tensorflow/tf-keras-datasets/mnist.npz\n",
            "11493376/11490434 [==============================] - 0s 0us/step\n",
            "Shape of X_train is (60000, 28, 28)\n",
            "Shape of X_test is (10000, 28, 28)\n"
          ],
          "name": "stdout"
        }
      ]
    },
    {
      "cell_type": "markdown",
      "metadata": {
        "id": "T57yqdHieH4e"
      },
      "source": [
        "## Split test set into test and validation sets"
      ]
    },
    {
      "cell_type": "code",
      "metadata": {
        "id": "ppDmV98_eLcG"
      },
      "source": [
        "# Split test set into test and validation sets\n",
        "num_val_samp = 1000 # Number of validation set samples to generate\n",
        "X_test, X_val, y_test, y_val = train_test_split(X_test_orig, y_test_orig,\\\n",
        "                                                test_size = num_val_samp, random_state = 1234)"
      ],
      "execution_count": 5,
      "outputs": []
    },
    {
      "cell_type": "markdown",
      "metadata": {
        "id": "HStLBAnw_bmE"
      },
      "source": [
        "## Get information about train, val and test datasets"
      ]
    },
    {
      "cell_type": "code",
      "metadata": {
        "colab": {
          "base_uri": "https://localhost:8080/"
        },
        "id": "WxgIEihtzlVK",
        "outputId": "d1f5a01c-d51c-42d7-eb0d-dc2428bc194a"
      },
      "source": [
        "print(\"Training_Set_Information:\")\n",
        "print(\"-------------------------\")\n",
        "print(\"Shape of training set data input is {}\" .format(X_train.shape))\n",
        "print(\"Number of training data samples is %d\" %(X_train.shape[0]))\n",
        "print(\"Shape of each training set sample is {}\" .format(X_train.shape[1:3]))\n",
        "print(\"Shape of training set output is {}\" .format(y_train.shape))\n",
        "print()\n",
        "print(\"Validation_Set_Information:\")\n",
        "print(\"---------------------------\")\n",
        "print(\"Shape of validation set data input is {}\" .format(X_val.shape))\n",
        "print(\"Number of validation data samples is %d\" %(X_val.shape[0]))\n",
        "print(\"Shape of each validation set sample is {}\" .format(X_val.shape[1:3]))\n",
        "print(\"Shape of validation set output is {}\" .format(y_val.shape))\n",
        "print()\n",
        "print(\"Test_Set_Information:\")\n",
        "print(\"--------------------:\")\n",
        "print(\"Shape of test set data input is {}\" .format(X_test.shape))\n",
        "print(\"Number of test data samples is %d\" %(X_test.shape[0]))\n",
        "print(\"Shape of each test set sample is {}\" .format(X_test.shape[1:3]))\n",
        "print(\"Shape of test set output is {}\" .format(y_test.shape))"
      ],
      "execution_count": 6,
      "outputs": [
        {
          "output_type": "stream",
          "text": [
            "Training_Set_Information:\n",
            "-------------------------\n",
            "Shape of training set data input is (60000, 28, 28)\n",
            "Number of training data samples is 60000\n",
            "Shape of each training set sample is (28, 28)\n",
            "Shape of training set output is (60000,)\n",
            "\n",
            "Validation_Set_Information:\n",
            "---------------------------\n",
            "Shape of validation set data input is (1000, 28, 28)\n",
            "Number of validation data samples is 1000\n",
            "Shape of each validation set sample is (28, 28)\n",
            "Shape of validation set output is (1000,)\n",
            "\n",
            "Test_Set_Information:\n",
            "--------------------:\n",
            "Shape of test set data input is (9000, 28, 28)\n",
            "Number of test data samples is 9000\n",
            "Shape of each test set sample is (28, 28)\n",
            "Shape of test set output is (9000,)\n"
          ],
          "name": "stdout"
        }
      ]
    },
    {
      "cell_type": "code",
      "metadata": {
        "colab": {
          "base_uri": "https://localhost:8080/"
        },
        "id": "SPwYbVEVzlVL",
        "outputId": "385aa195-8056-409d-af26-21eef5a660b3"
      },
      "source": [
        "print(\"Minimum value of training data samples is %d\" %(X_train.min()))\n",
        "print(\"Maximum value of training data samples is %d\" %(X_train.max()))\n",
        "print()\n",
        "print(\"Minimum value of validation data samples is %d\" %(X_val.min()))\n",
        "print(\"Maximum value of validation data samples is %d\" %(X_val.max()))\n",
        "print()\n",
        "print(\"Minimum value of test data samples is %d\" %(X_test.min()))\n",
        "print(\"Maximum value of training data samples is %d\" %(X_test.max()))\n",
        "print()"
      ],
      "execution_count": 7,
      "outputs": [
        {
          "output_type": "stream",
          "text": [
            "Minimum value of training data samples is 0\n",
            "Maximum value of training data samples is 255\n",
            "\n",
            "Minimum value of validation data samples is 0\n",
            "Maximum value of validation data samples is 255\n",
            "\n",
            "Minimum value of test data samples is 0\n",
            "Maximum value of training data samples is 255\n",
            "\n"
          ],
          "name": "stdout"
        }
      ]
    },
    {
      "cell_type": "markdown",
      "metadata": {
        "id": "cEacLP2azlVL"
      },
      "source": [
        "<b>Above data indicates that the images are encoded as 28 x 28 grayscale images encoded in 0 to 255 integer format.</b>"
      ]
    },
    {
      "cell_type": "markdown",
      "metadata": {
        "id": "boCnhuze5Vo8"
      },
      "source": [
        "## Get class distribution"
      ]
    },
    {
      "cell_type": "code",
      "metadata": {
        "colab": {
          "base_uri": "https://localhost:8080/",
          "height": 413
        },
        "id": "ZG0RwemL5YpM",
        "outputId": "42dc445f-34d2-400b-c5cf-7da6ab6c3ce9"
      },
      "source": [
        "sns.set(color_codes = True)\n",
        "fig = plt.figure(figsize = (20, 8))\n",
        "fig.suptitle('Distribution of classes', fontsize = 30)\n",
        "\n",
        "ax1 = plt.subplot(1, 3, 1)\n",
        "sns.countplot(y_train)\n",
        "ax1.set_title('Training_Set', fontsize = 20)\n",
        "ax1.set_xlabel('Class Values', fontsize = 20)\n",
        "ax1.set_ylabel('Class Distribution', fontsize = 20)\n",
        "\n",
        "ax2 = plt.subplot(1, 3, 2)\n",
        "sns.countplot(y_val)\n",
        "ax2.set_title('Validation_Set', fontsize = 20)\n",
        "ax2.set_xlabel('Class Values', fontsize = 20)\n",
        "ax2.set_ylabel('Class Distribution', fontsize = 20)\n",
        "\n",
        "ax2 = plt.subplot(1, 3, 3)\n",
        "sns.countplot(y_test)\n",
        "ax2.set_title('Test_Set', fontsize = 20)\n",
        "ax2.set_xlabel('Class Values', fontsize = 20)\n",
        "ax2.set_ylabel('Class Distribution', fontsize = 20)\n",
        "plt.show()"
      ],
      "execution_count": 8,
      "outputs": [
        {
          "output_type": "display_data",
          "data": {
            "image/png": "[encoded data removed]",
            "text/plain": [
              "<Figure size 1440x576 with 3 Axes>"
            ]
          },
          "metadata": {
            "tags": []
          }
        }
      ]
    },
    {
      "cell_type": "markdown",
      "metadata": {
        "id": "Z25Cm4vg_RG3"
      },
      "source": [
        "<b>Class distribution is reasonably uniform for all three sets.</b>"
      ]
    },
    {
      "cell_type": "markdown",
      "metadata": {
        "id": "LJywg4mN4joc"
      },
      "source": [
        "## Visualize Data"
      ]
    },
    {
      "cell_type": "markdown",
      "metadata": {
        "id": "xVScHfXVA7q8"
      },
      "source": [
        "### Training Set"
      ]
    },
    {
      "cell_type": "code",
      "metadata": {
        "id": "nnlDjYoNSwFU",
        "colab": {
          "base_uri": "https://localhost:8080/",
          "height": 502
        },
        "outputId": "a7e145bb-8f68-40e1-f3d1-e4190e06c701"
      },
      "source": [
        "# Plot some random images from the training set along with their class labels\n",
        "fig = plt.figure(figsize = (12, 8))\n",
        "fig.suptitle('Random Sample images in the training set', fontsize = 30)\n",
        "\n",
        "# Generate random sample indices from the training set.\n",
        "samp_index = np.random.randint(low = 0, high = X_train.shape[0], size = 10).tolist()\n",
        "\n",
        "for ind, value in enumerate(samp_index):\n",
        "    ax = plt.subplot(2, 5, (ind + 1))\n",
        "    plt.imshow(X_train[value, :], cmap = 'gray')\n",
        "    ax.set_title(\"Class label is %d\" %(y_train[value]), fontsize = 15)\n",
        "    ax.grid(False)\n",
        "\n",
        "plt.show()"
      ],
      "execution_count": 9,
      "outputs": [
        {
          "output_type": "display_data",
          "data": {
            "image/png": "[encoded data removed]",
            "text/plain": [
              "<Figure size 864x576 with 10 Axes>"
            ]
          },
          "metadata": {
            "tags": []
          }
        }
      ]
    },
    {
      "cell_type": "markdown",
      "metadata": {
        "id": "0ytuQ3ZqA9u1"
      },
      "source": [
        "### Validation Set"
      ]
    },
    {
      "cell_type": "code",
      "metadata": {
        "id": "HWwph_zpluG_",
        "colab": {
          "base_uri": "https://localhost:8080/",
          "height": 502
        },
        "outputId": "089a68b5-1fb7-40aa-8e15-3333daee676d"
      },
      "source": [
        "# Plot some random images from the validation set along with their class labels\n",
        "fig = plt.figure(figsize = (12, 8))\n",
        "fig.suptitle('Random Sample images in the validation set', fontsize = 30)\n",
        "\n",
        "# Generate random sample indices from the validation set.\n",
        "samp_index = np.random.randint(low = 0, high = X_val.shape[0], size = 10).tolist()\n",
        "\n",
        "for ind, value in enumerate(samp_index):\n",
        "    ax = plt.subplot(2, 5, (ind + 1))\n",
        "    plt.imshow(X_val[value, :], cmap = 'gray')\n",
        "    ax.set_title(\"Class label is %d\" %(y_val[value]), fontsize = 15)\n",
        "    ax.grid(False)\n",
        "    \n",
        "plt.show()"
      ],
      "execution_count": 10,
      "outputs": [
        {
          "output_type": "display_data",
          "data": {
            "image/png": "[encoded data removed]",
            "text/plain": [
              "<Figure size 864x576 with 10 Axes>"
            ]
          },
          "metadata": {
            "tags": []
          }
        }
      ]
    },
    {
      "cell_type": "markdown",
      "metadata": {
        "id": "XIcAejomBJl6"
      },
      "source": [
        "### Test Set"
      ]
    },
    {
      "cell_type": "code",
      "metadata": {
        "id": "8yqOBWg_zlVP",
        "colab": {
          "base_uri": "https://localhost:8080/",
          "height": 502
        },
        "outputId": "f756b480-6127-4593-dce2-dd71e4f82293"
      },
      "source": [
        "# Plot some random images from the test set along with their class labels\n",
        "fig = plt.figure(figsize = (12, 8))\n",
        "fig.suptitle('Random Sample images in the test set', fontsize = 30)\n",
        "\n",
        "# Generate random sample indices from the test set.\n",
        "samp_index = np.random.randint(low = 0, high = X_test.shape[0], size = 10).tolist()\n",
        "\n",
        "for ind, value in enumerate(samp_index):\n",
        "    ax = plt.subplot(2, 5, (ind + 1))\n",
        "    plt.imshow(X_test[value, :], cmap = 'gray')\n",
        "    ax.set_title(\"Class label is %d\" %(y_test[value]), fontsize = 15)\n",
        "    ax.grid(False)\n",
        "    \n",
        "plt.show()"
      ],
      "execution_count": 11,
      "outputs": [
        {
          "output_type": "display_data",
          "data": {
            "image/png": "[encoded data removed]",
            "text/plain": [
              "<Figure size 864x576 with 10 Axes>"
            ]
          },
          "metadata": {
            "tags": []
          }
        }
      ]
    },
    {
      "cell_type": "markdown",
      "metadata": {
        "id": "IA7zX1kgSwFJ"
      },
      "source": [
        "## One-hot encode training, validation and testing labels."
      ]
    },
    {
      "cell_type": "code",
      "metadata": {
        "colab": {
          "base_uri": "https://localhost:8080/"
        },
        "id": "KMVE2h6BSwFO",
        "outputId": "53b63cfa-2b8e-43cc-e2b1-f5da217a4552"
      },
      "source": [
        "num_classes = 10 # Digits 0 to 9\n",
        "y_train_ohe = to_categorical(y_train, num_classes = num_classes)\n",
        "y_val_ohe = to_categorical(y_val, num_classes = num_classes)\n",
        "y_test_ohe = to_categorical(y_test, num_classes = num_classes)\n",
        "print(\"Shape of one-hot encoded training set output is {}\" .format(y_train_ohe.shape))\n",
        "print(\"Shape of one-hot encoded validation set output is {}\" .format(y_val_ohe.shape))\n",
        "print(\"Shape of one-hot encoded test set output is {}\" .format(y_test_ohe.shape))"
      ],
      "execution_count": 13,
      "outputs": [
        {
          "output_type": "stream",
          "text": [
            "Shape of one-hot encoded training set output is (60000, 10)\n",
            "Shape of one-hot encoded validation set output is (1000, 10)\n",
            "Shape of one-hot encoded test set output is (9000, 10)\n"
          ],
          "name": "stdout"
        }
      ]
    },
    {
      "cell_type": "markdown",
      "metadata": {
        "id": "AUaLpjWJ4lVC"
      },
      "source": [
        "# Verify image transformations"
      ]
    },
    {
      "cell_type": "code",
      "metadata": {
        "id": "Sf-bKsQnZTsT",
        "outputId": "c05b4e9b-5022-402c-eaac-b7e56fb14485",
        "colab": {
          "base_uri": "https://localhost:8080/",
          "height": 198
        }
      },
      "source": [
        "img = X_train[0]\n",
        "img_w_ch_axis = np.expand_dims(img, axis = 2)\n",
        "\n",
        "img_trans = [] # Empty list to store transformed images\n",
        "img_trans.append(img_w_ch_axis)\n",
        "\n",
        "rot = 90 # Clockwise rotation in degrees\n",
        "wid_shift = 10 # Shift image 10 pixels to the left\n",
        "hgt_shift = 10 # Shift image 10 pixels upwards\n",
        "\n",
        "# Rotation only\n",
        "img_trans.append(apply_affine_transform(img_w_ch_axis, theta = rot))\n",
        "# Left Shift only\n",
        "img_trans.append(apply_affine_transform(img_w_ch_axis, tx = wid_shift))\n",
        "# Right Shift only\n",
        "img_trans.append(apply_affine_transform(img_w_ch_axis, tx = -wid_shift))\n",
        "\n",
        "#ty=0, shear=0, zx=1, zy=1, row_axis=0, col_axis=1,\n",
        "\n",
        "\n",
        "\n",
        "plt.figure(figsize = (8, 8))\n",
        "\n",
        "ax1 = plt.subplot(1, 3, 1)\n",
        "ax1.imshow(np.squeeze(img_trans[0]), cmap = 'gray')\n",
        "ax1.grid(b = False)\n",
        "ax1.set_title(\"Original Image\")\n",
        "\n",
        "# ax2 = plt.subplot(1, 3, 2)\n",
        "# ax2.imshow(img_rot[:, :, 0], cmap = 'gray')\n",
        "# ax2.grid(b = False)\n",
        "# ax2.set_title(\"Rotated Image\")\n",
        "\n",
        "# ax3 = plt.subplot(1, 3, 3)\n",
        "# ax3.imshow(img_rot[:, :, 0], cmap = 'gray')\n",
        "# ax3.grid(b = False)\n",
        "# ax3.set_title(\"Rotated Image\")\n",
        "\n",
        "plt.show()\n"
      ],
      "execution_count": 77,
      "outputs": [
        {
          "output_type": "display_data",
          "data": {
            "image/png": "[encoded data removed]",
            "text/plain": [
              "<Figure size 576x576 with 1 Axes>"
            ]
          },
          "metadata": {
            "tags": [],
            "needs_background": "light"
          }
        }
      ]
    },
    {
      "cell_type": "markdown",
      "metadata": {
        "id": "PCKDWMaqZqbA"
      },
      "source": [
        "# Define Image Data Generators"
      ]
    },
    {
      "cell_type": "code",
      "metadata": {
        "id": "67xmE0koq0Lm"
      },
      "source": [
        "train_datagen = ImageDataGenerator(rotation_range = 0, shear_range = 0, zoom_range = 0,\\\n",
        "                                   channel_shift_range = 0.0, width_shift_range = 0.0,\\\n",
        "                                   height_shift_range = 0.0, horizontal_flip = False, rescale = 1./255)"
      ],
      "execution_count": null,
      "outputs": []
    },
    {
      "cell_type": "markdown",
      "metadata": {
        "id": "TD_lcFT2-UXC"
      },
      "source": [
        "## Preprocess data"
      ]
    },
    {
      "cell_type": "code",
      "metadata": {
        "colab": {
          "base_uri": "https://localhost:8080/"
        },
        "id": "yUXtzCFwzlVM",
        "outputId": "833665db-3404-4f79-e0c0-a6031b26e10a"
      },
      "source": [
        "# Preprocess the data - Cast to 'float32' and scale by 255\n",
        "X_train = (X_train.astype(\"float32\")) / 255\n",
        "X_val = (X_val.astype(\"float32\")) / 255\n",
        "X_test = (X_test.astype(\"float32\")) / 255\n",
        "y_train = y_train.astype(\"float32\")\n",
        "y_val = y_val.astype(\"float32\")\n",
        "y_test = y_test.astype(\"float32\")\n",
        "\n",
        "print(\"Shape of X_train is {}\" .format(X_train.shape))\n",
        "print(\"Shape of y_train is {}\" .format(y_train.shape))\n",
        "print(\"Shape of X_val is {}\" .format(X_val.shape))\n",
        "print(\"Shape of y_val is {}\" .format(y_val.shape))\n",
        "print(\"Shape of X_test is {}\" .format(X_test.shape))\n",
        "print(\"Shape of y_test is {}\" .format(y_test.shape))\n",
        "print()\n",
        "print(\"Minimum value of X_train is %0.1f\" %(np.min(X_train)))\n",
        "print(\"Maximum value of X_train is %0.1f\" %(np.max(X_train)))\n",
        "print(\"Minimum value of X_val is %0.1f\" %(np.min(X_val)))\n",
        "print(\"Maximum value of X_val is %0.1f\" %(np.max(X_val)))\n",
        "print(\"Minimum value of X_test is %0.1f\" %(np.min(X_test)))\n",
        "print(\"Maximum value of X_test is %0.1f\" %(np.max(X_test)))\n",
        "print()\n",
        "print(\"Data-type of X_train is {}\" .format(X_train.dtype))\n",
        "print(\"Data-type of X_val is {}\" .format(X_val.dtype))\n",
        "print(\"Data-type of X_test is {}\" .format(X_test.dtype))\n",
        "print(\"Data-type of y_train is {}\" .format(y_train.dtype))\n",
        "print(\"Data-type of y_val is {}\" .format(y_val.dtype))\n",
        "print(\"Data-type of y_test is {}\" .format(y_test.dtype))"
      ],
      "execution_count": null,
      "outputs": [
        {
          "output_type": "stream",
          "text": [
            "Shape of X_train is (51000, 28, 28)\n",
            "Shape of y_train is (51000,)\n",
            "Shape of X_val is (9000, 28, 28)\n",
            "Shape of y_val is (9000,)\n",
            "Shape of X_test is (10000, 28, 28)\n",
            "Shape of y_test is (10000,)\n",
            "\n",
            "Minimum value of X_train is 0.0\n",
            "Maximum value of X_train is 1.0\n",
            "Minimum value of X_val is 0.0\n",
            "Maximum value of X_val is 1.0\n",
            "Minimum value of X_test is 0.0\n",
            "Maximum value of X_test is 1.0\n",
            "\n",
            "Data-type of X_train is float32\n",
            "Data-type of X_val is float32\n",
            "Data-type of X_test is float32\n",
            "Data-type of y_train is float32\n",
            "Data-type of y_val is float32\n",
            "Data-type of y_test is float32\n"
          ],
          "name": "stdout"
        }
      ]
    },
    {
      "cell_type": "code",
      "metadata": {
        "colab": {
          "base_uri": "https://localhost:8080/"
        },
        "id": "gn6fuX9qzlVM",
        "outputId": "00a8163b-a5d5-4f18-e5c5-a72242a0a6b9"
      },
      "source": [
        "print(\"Unique values in y_train: {}\" .format(np.unique(y_train)))\n",
        "print(\"Unique values in y_val: {}\" .format(np.unique(y_val)))\n",
        "print(\"Unique values in y_test: {}\" .format(np.unique(y_test)))"
      ],
      "execution_count": null,
      "outputs": [
        {
          "output_type": "stream",
          "text": [
            "Unique values in y_train: [0. 1. 2. 3. 4. 5. 6. 7. 8. 9.]\n",
            "Unique values in y_val: [0. 1. 2. 3. 4. 5. 6. 7. 8. 9.]\n",
            "Unique values in y_test: [0. 1. 2. 3. 4. 5. 6. 7. 8. 9.]\n"
          ],
          "name": "stdout"
        }
      ]
    },
    {
      "cell_type": "markdown",
      "metadata": {
        "id": "OJNdzT7rzlVN"
      },
      "source": [
        "<b>There are 10 unique class labels (0 to 9) in the training, validation and testing data.</b>"
      ]
    },
    {
      "cell_type": "markdown",
      "metadata": {
        "id": "tky-czueSwFT"
      },
      "source": [
        "## Visualize the data"
      ]
    },
    {
      "cell_type": "markdown",
      "metadata": {
        "id": "XHm0JZUAzlVQ"
      },
      "source": [
        "# Fully-Connected Models"
      ]
    },
    {
      "cell_type": "markdown",
      "metadata": {
        "id": "SVYnJ1D9zlVR"
      },
      "source": [
        "## Model_1: SNN_3L\n",
        "\n",
        "* Model_1 is a shallow network with three FC layers. It will have:\n",
        "    1. A flatten layer\n",
        "    2. Hidden layer - 1 (256 neurons and ReLU activation)\n",
        "    3. Hidden layer - 2 (256 neurons and ReLU activation)\n",
        "    4. Final dense layer with 10 neurons, a softmax activation function and L2 regularization."
      ]
    },
    {
      "cell_type": "markdown",
      "metadata": {
        "id": "snO1utUizlVR"
      },
      "source": [
        "### Function - Define Model Core"
      ]
    },
    {
      "cell_type": "code",
      "metadata": {
        "id": "gZRoFjmTzlVR"
      },
      "source": [
        "def model_1_core(hidden_nodes = 256, output_nodes = 10, Lambda = 0):\n",
        "    \n",
        "    \"\"\"\n",
        "    Function to define the model core for 3-layer .\n",
        "    \n",
        "    Arguments:\n",
        "    hidden_nodes - Number of nodes for the hidden layers\n",
        "    output_nodes = Number of nodes in the output layer\n",
        "    Lambda - L2 regularization parameter\n",
        "\n",
        "    \"\"\"    \n",
        "    \n",
        "    model_1 = models.Sequential() # Instantiate Sequential model\n",
        "    model_1.add(layers.Input(shape=(28, 28), name = \"INP_LAY\")) # Add input layer\n",
        "    model_1.add(layers.Flatten(name = \"FLAT_LAY\")) # Add Flatten layer\n",
        "    model_1.add(layers.Dense(hidden_nodes, activation = 'relu',\\\n",
        "                             kernel_initializer = glorot_uniform(seed = 0),\\\n",
        "                             name = \"HID_LAY_1\")) # Add hidden layer - 1\n",
        "    model_1.add(layers.Dense(hidden_nodes, activation = 'relu',\\\n",
        "                             kernel_initializer = glorot_uniform(seed = 0),\\\n",
        "                             name = \"HID_LAY_2\")) # Add hidden layer - 2\n",
        "    model_1.add(layers.Dense(output_nodes, activation = 'softmax',\\\n",
        "                             kernel_initializer = glorot_uniform(seed = 0),\\\n",
        "                             kernel_regularizer = regularizers.l2(Lambda),\\\n",
        "                             name = \"OUT_LAY\")) # Add output layer\n",
        "    \n",
        "    return model_1"
      ],
      "execution_count": null,
      "outputs": []
    },
    {
      "cell_type": "code",
      "metadata": {
        "id": "iHfCnc5MzlVS"
      },
      "source": [
        "# Verify model defined above\n",
        "temp_model = model_1_core(256, 10, 0)\n",
        "temp_model.summary()"
      ],
      "execution_count": null,
      "outputs": []
    },
    {
      "cell_type": "markdown",
      "metadata": {
        "id": "EfSreTXWzlVS"
      },
      "source": [
        "### Function - Define model compile, train and eval"
      ]
    },
    {
      "cell_type": "code",
      "metadata": {
        "id": "SeyE_kFHzlVS"
      },
      "source": [
        "def model_1_comp_tr_eval(hidden_nodes = 256, output_nodes = 10, Lambda = 0,\\\n",
        "                         epochs = 5, lr = 0.01, verb = 1, tb_str = \"Temp\"):\n",
        "    \n",
        "    \"\"\"\n",
        "    Function to compile, fit and evaluate model_1.\n",
        "    \n",
        "    Arguments:\n",
        "    hidden_nodes - Number of nodes for the hidden layers\n",
        "    output_nodes = Number of nodes in the output layer\n",
        "    Lambda - L2 regularization parameter\n",
        "    epochs - Number of epochs to train for\n",
        "    lr - Learning rate to use for training\n",
        "    verb - Whether to print running summary during model fit or evaluate\n",
        "\n",
        "    \"\"\"      \n",
        "    \n",
        "    # Instantiate model\n",
        "    model_1 = model_1_core(hidden_nodes, output_nodes, Lambda)\n",
        "    \n",
        "    # Optimizer = SGD with learning rate = lr.\n",
        "    opt = optimizers.SGD(learning_rate = lr) \n",
        "    \n",
        "    # Try out other optimizer options\n",
        "    opt_1 = optimizers.SGD(learning_rate = lr, decay = 1e-6, momentum = 0.9) \n",
        "\n",
        "    # Loss = CategoricalCrossEntropy with default settings\n",
        "    cce = tf.keras.losses.CategoricalCrossentropy() \n",
        "    # Metric = Categorical Accuracy\n",
        "    met = tf.keras.metrics.CategoricalAccuracy()\n",
        "    # Compile model\n",
        "    model_1.compile(optimizer = opt_1, loss = cce, metrics = met)\n",
        "    \n",
        "    # Define path for tensorboard logs\n",
        "    logdir = os.path.join(tb_logs_base_dir, tb_str) \n",
        "    # Define Tensorboard callback\n",
        "    tensorboard_callback = tf.keras.callbacks.TensorBoard(logdir, histogram_freq = 0)\n",
        "    \n",
        "    # Fit model\n",
        "    hist = model_1.fit(X_train, y_train_ohe, epochs = epochs, batch_size = 1000, verbose = verb,\\\n",
        "                       validation_split = 0.15, callbacks=[tensorboard_callback])\n",
        "    \n",
        "    # Evaluate model on test set\n",
        "    score = model_1.evaluate(X_test, y_test_ohe, verbose = verb)  \n",
        "    \n",
        "    return score, model_1, hist"
      ],
      "execution_count": null,
      "outputs": []
    },
    {
      "cell_type": "code",
      "metadata": {
        "id": "k3pFFd0pzlVT",
        "scrolled": false
      },
      "source": [
        "# display(model_3.loss)\n",
        "# display(model_3.optimizer.get_config())"
      ],
      "execution_count": null,
      "outputs": []
    },
    {
      "cell_type": "markdown",
      "metadata": {
        "id": "7Fadc8mizlVU"
      },
      "source": [
        "### Launch Tensorboard"
      ]
    },
    {
      "cell_type": "code",
      "metadata": {
        "id": "jWafuAPazlVU",
        "scrolled": false
      },
      "source": [
        "#%tensorboard --logdir {tb_logs_base_dir}\n",
        "#%tensorboard --logdir {tb_logs_base_dir}"
      ],
      "execution_count": null,
      "outputs": []
    },
    {
      "cell_type": "markdown",
      "metadata": {
        "id": "v5rcrrMzzlVU"
      },
      "source": [
        "### Coarse search for Lambda and lr"
      ]
    },
    {
      "cell_type": "code",
      "metadata": {
        "id": "PZLm6PYyzlVV"
      },
      "source": [
        "# num_trials = 50 # Number of random trials to execute\n",
        "# res_arr = np.zeros((num_trials, 8)) # Initialize array to store results\n",
        "\n",
        "# # Define column names to use when created Pandas dataframe.\n",
        "# res_cols = ['LR', 'Lambda', 'Tr_Loss', 'Tr_Acc', 'Val_Loss', 'Val_Acc', 'Test_Loss', 'Test_Acc']\n",
        "\n",
        "# for k in range(num_trials):\n",
        "#   lr = np.power(10, np.random.uniform(-4.0, 1))\n",
        "#   Lambda = np.power(10, np.random.uniform(-4.0, 2))\n",
        "#   print(\"Trial %d of %d started.... \" %((k +1), num_trials), end = ', ')\n",
        "#   tic = time.process_time() # Set clock timer\n",
        "#   score, _, hist = model_1_comp_tr_eval(hidden_nodes = 256, output_nodes = 10,\\\n",
        "#                                         Lambda = Lambda, epochs = 100, lr = lr,\\\n",
        "#                                         verb = 0, tb_str = (\"M1_VSGD_CS_\" + str(k)))\n",
        "#   res_arr[k, 0] = lr\n",
        "#   res_arr[k, 1] = Lambda\n",
        "#   res_arr[k, 2] = hist.history['loss'][-1]\n",
        "#   res_arr[k, 3] = (100 * hist.history['categorical_accuracy'][-1])\n",
        "#   res_arr[k, 4] = hist.history['val_loss'][-1]\n",
        "#   res_arr[k, 5] = (100 * hist.history['val_categorical_accuracy'][-1])\n",
        "#   res_arr[k, 6] = score[0]\n",
        "#   res_arr[k, 7] = (100 * score[1])\n",
        "#   toc = time.process_time() # Stop clock timer        \n",
        "#   print(\"Completed.... Elapsed time = %0.2f seconds\" %(toc - tic))\n",
        "#   print()         \n",
        "                                              \n",
        "# res_arr_df = pd.DataFrame(res_arr, columns = res_cols)   \n",
        "# res_arr_df.to_csv((out_base_path + \"M1_VSGD_CS.csv\"), index = False)"
      ],
      "execution_count": null,
      "outputs": []
    },
    {
      "cell_type": "code",
      "metadata": {
        "id": "_n6Znc4NzlVV"
      },
      "source": [
        "# m1_vsgd_cs_res_arr_df = pd.read_csv(out_base_path + \"M1_VSGD_CS.csv\")\n",
        "# m1_vsgd_cs_res_arr_df.sort_values('Val_Loss')"
      ],
      "execution_count": null,
      "outputs": []
    },
    {
      "cell_type": "markdown",
      "metadata": {
        "id": "8ME0eehxZl4M"
      },
      "source": [
        "<b>Review of coarse search results:</b>\n",
        "\n",
        "1. Considering all results where validation accuracy is greater than 95% (15 out 50 results), \n",
        "  * Range of learning_rate is 1.5e-2 to 1.2. \n",
        "  * Range of Lambda is 1.6e-4 to 0.37.\n",
        "2. Considering all results where validation loss is less than 0.25 (13 out of 50 results), \n",
        "  * Range of learning rate is 1.5e-2 to 0.5.\n",
        "  * Range of Lambda is 1.6e-4 to 0.37\n",
        "3. Based on this, lets do a fine search with:\n",
        "  * Learning rate ranging from 1e-2 to 1.\n",
        "  * Lambda ranging from 1e-4 to 1 \n",
        "\n"
      ]
    },
    {
      "cell_type": "markdown",
      "metadata": {
        "id": "ENLRdQzZcLnC"
      },
      "source": [
        "### Fine search for Lambda and lr"
      ]
    },
    {
      "cell_type": "code",
      "metadata": {
        "id": "jiO1hdQ0cHA0"
      },
      "source": [
        "# num_trials = 50 # Number of random trials to execute\n",
        "# res_arr = np.zeros((num_trials, 8)) # Initialize array to store results\n",
        "\n",
        "# # Define column names to use when created Pandas dataframe.\n",
        "# res_cols = ['LR', 'Lambda', 'Tr_Loss', 'Tr_Acc', 'Val_Loss', 'Val_Acc', 'Test_Loss', 'Test_Acc']\n",
        "\n",
        "# for k in range(num_trials):\n",
        "#   lr = np.power(10, np.random.uniform(-2.0, 0))\n",
        "#   Lambda = np.power(10, np.random.uniform(-4.0, 0))\n",
        "#   print(\"Trial %d of %d started.... \" %((k +1), num_trials), end = ', ')\n",
        "#   tic = time.process_time() # Set clock timer\n",
        "#   score, _, hist = model_1_comp_tr_eval(hidden_nodes = 256, output_nodes = 10,\\\n",
        "#                                         Lambda = Lambda, epochs = 100, lr = lr,\\\n",
        "#                                         verb = 0, tb_str = (\"M1_VSGD_CS_\" + str(k)))\n",
        "#   res_arr[k, 0] = lr\n",
        "#   res_arr[k, 1] = Lambda\n",
        "#   res_arr[k, 2] = hist.history['loss'][-1]\n",
        "#   res_arr[k, 3] = (100 * hist.history['categorical_accuracy'][-1])\n",
        "#   res_arr[k, 4] = hist.history['val_loss'][-1]\n",
        "#   res_arr[k, 5] = (100 * hist.history['val_categorical_accuracy'][-1])\n",
        "#   res_arr[k, 6] = score[0]\n",
        "#   res_arr[k, 7] = (100 * score[1])\n",
        "#   toc = time.process_time() # Stop clock timer        \n",
        "#   print(\"Completed.... Elapsed time = %0.2f seconds\" %(toc - tic))\n",
        "#   print()         \n",
        "                                              \n",
        "# res_arr_df = pd.DataFrame(res_arr, columns = res_cols)   \n",
        "# res_arr_df.to_csv((out_base_path + \"M1_VSGD_FS.csv\"), index = False)"
      ],
      "execution_count": null,
      "outputs": []
    },
    {
      "cell_type": "code",
      "metadata": {
        "id": "wsH_mHLniihR"
      },
      "source": [
        "# m1_vsgd_fs_res_arr_df = pd.read_csv(out_base_path + \"M1_VSGD_FS.csv\")\n",
        "# m1_vsgd_fs_res_arr_df.sort_values('Val_Loss')"
      ],
      "execution_count": null,
      "outputs": []
    },
    {
      "cell_type": "markdown",
      "metadata": {
        "id": "va1LGgRujatA"
      },
      "source": [
        "<b>Review of fine search results:</b>\n",
        "\n",
        "1. Taking the result with the best validation accuracy (98.23%) and the best training set accuracy (99.998%), let's now set the following values and re-train the model:\n",
        "  * Learning rate = 0.46\n",
        "  * Lambda = 1.5e-4\n",
        "\n"
      ]
    },
    {
      "cell_type": "markdown",
      "metadata": {
        "id": "gSJxjza2kIE1"
      },
      "source": [
        "### Final training"
      ]
    },
    {
      "cell_type": "code",
      "metadata": {
        "id": "uybgxLSXkuG_"
      },
      "source": [
        "lr = 0.46 # Final learning rate\n",
        "Lambda = 1.5e-4 # Final value of Lambda\n",
        "print(\"Model fit started.... \", end = ', ')\n",
        "tic = time.process_time() # Set clock timer\n",
        "score, model_1, hist = model_1_comp_tr_eval(hidden_nodes = 256, output_nodes = 10,\\\n",
        "                                            Lambda = Lambda, epochs = 100, lr = lr,\\\n",
        "                                            verb = 0, tb_str = (\"M1_VSGD_FT\"))\n",
        "toc = time.process_time() # Stop clock timer        \n",
        "print(\"Model Fit Completed.... Elapsed time = %0.2f seconds\" %(toc - tic))\n",
        "\n",
        "# Save final trained weights to file\n",
        "model_1.save_weights(out_base_path + 'model_1_weights.h5') # Save weights in Keras HDF5 format\n",
        "# Save training history to file\n",
        "np.save((out_base_path + 'model_1_hist.npy'), hist.history)"
      ],
      "execution_count": null,
      "outputs": []
    },
    {
      "cell_type": "markdown",
      "metadata": {
        "id": "V3s1lu6YzlVV"
      },
      "source": [
        "### Plot learning curves"
      ]
    },
    {
      "cell_type": "code",
      "metadata": {
        "id": "R17YJuSZSwFf",
        "scrolled": false
      },
      "source": [
        "# Load history files from disk\n",
        "hist_model_1 = np.load((out_base_path + 'model_1_hist.npy'), allow_pickle = 'TRUE').item()\n",
        "\n",
        "fig = plt.figure(figsize = (8, 6))\n",
        "fig.suptitle(\"Learning Curve\", fontsize = 30)\n",
        "plt.plot(hist_model_1['loss'], 'r-', label = 'Training_Set_Loss')\n",
        "plt.plot(hist_model_1['val_loss'], 'b-', label = 'Validation_Set_Loss')\n",
        "plt.ylabel('Running Loss', fontsize = 20)\n",
        "plt.xlabel('# Epochs', fontsize = 20)\n",
        "plt.grid(b = True)\n",
        "plt.legend(fontsize = 15)\n",
        "#plt.tight_layout()\n",
        "plt.show()"
      ],
      "execution_count": null,
      "outputs": []
    },
    {
      "cell_type": "markdown",
      "metadata": {
        "id": "ZEs3G-lwocFQ"
      },
      "source": [
        "<b>Learning curves above show that the loss has settled down in 100 epochs. So, there is no need to train further.</b>"
      ]
    },
    {
      "cell_type": "code",
      "metadata": {
        "id": "tYOizVGfzSTS"
      },
      "source": [
        "print(\"Initial training set loss is %0.4f\" %(hist_model_1['loss'][0]))\n",
        "print(\"Initial training set accuracy is %0.4f %%\" % (100 * (hist_model_1['categorical_accuracy'][0])))\n",
        "print(\"Final training set loss is %0.4f\" %(hist_model_1['loss'][-1]))\n",
        "print(\"Final training set accuracy is %0.4f %%\" % (100 * (hist_model_1['categorical_accuracy'][-1])))\n",
        "print()\n",
        "print(\"Initial validation set loss is %0.4f\" %(hist_model_1['val_loss'][0]))\n",
        "print(\"Initial validation set accuracy is %0.4f %%\" % (100 * (hist_model_1['val_categorical_accuracy'][0])))\n",
        "print(\"Final validation set loss is %0.4f\" %(hist_model_1['val_loss'][-1]))\n",
        "print(\"Final validation set accuracy is %0.4f %%\" % (100 * (hist_model_1['val_categorical_accuracy'][-1])))\n"
      ],
      "execution_count": null,
      "outputs": []
    },
    {
      "cell_type": "markdown",
      "metadata": {
        "id": "5fLcRJV7zlVW"
      },
      "source": [
        "### Evaluate model on training and test sets"
      ]
    },
    {
      "cell_type": "code",
      "metadata": {
        "id": "E0oWtz5KzlVW"
      },
      "source": [
        "# Evaluate model on training set\n",
        "model_1.load_weights((out_base_path + 'model_1_weights.h5')) # Load weights\n",
        "res = model_1.evaluate(X_train, y_train_ohe, batch_size = 100, verbose = 0, return_dict = True)\n",
        "print(\"Training set loss is %0.4f\" % res['loss'])\n",
        "print(\"Training set accuracy is %0.2f %%\" % (100 * res['categorical_accuracy']))\n",
        "print()"
      ],
      "execution_count": null,
      "outputs": []
    },
    {
      "cell_type": "code",
      "metadata": {
        "id": "cSXQM7EUzlVW",
        "scrolled": false
      },
      "source": [
        "# Evaluate model on test set\n",
        "model_1.load_weights((out_base_path + 'model_1_weights.h5')) # Load mbgd weights\n",
        "res = model_1.evaluate(X_test, y_test_ohe, batch_size = 100, verbose = 0, return_dict = True)\n",
        "print(\"Test set loss is %0.4f\" % res['loss'])\n",
        "print(\"Test set accuracy is %0.2f %%\" % (100 * res['categorical_accuracy']))\n",
        "print()"
      ],
      "execution_count": null,
      "outputs": []
    },
    {
      "cell_type": "markdown",
      "metadata": {
        "id": "ON5CO6z4zlVX"
      },
      "source": [
        "### Summary of Model_1 so far\n",
        "\n",
        "<b>1. Model Details</b>\n",
        "  * Input size = (28 * 28) gray-scale image\n",
        "  * Two hidden layers with 256 neurons each and ReLU activation.\n",
        "  * One output layer with 10 neurons, softmax activation and L2-regularization\n",
        "  * Total number of trainable parameters = 269, 322\n",
        "\n",
        "<b>2. Final training parameters</b>\n",
        "  * Glorot_uniform initialization for all three layers.\n",
        "  * Vanilla SGD optimizer.\n",
        "  * Learning Rate = 0.46\n",
        "  * Lambda = 1.5e-4\n",
        "  * Number of training set samples = 51000\n",
        "  * Number of validation set samples = 9000\n",
        "  * Number of test set samples = 10000\n",
        "\n",
        "<b>3. Final performance after training</b>\n",
        "  * Training set loss = 0.022\n",
        "  * Training set accuracy = 99.72 %\n",
        "  * Validation set loss = 0.084\n",
        "  * Validation set accuracy = 98.13 %\n",
        "  * Test set loss = 0.077\n",
        "  * Test set accuracy = 97.98%"
      ]
    },
    {
      "cell_type": "markdown",
      "metadata": {
        "id": "Nq09kwdb-Tou"
      },
      "source": [
        "### Try out other training options"
      ]
    },
    {
      "cell_type": "markdown",
      "metadata": {
        "id": "nM424IWYKjwT"
      },
      "source": [
        "#### Coarse search for Lambda and lr"
      ]
    },
    {
      "cell_type": "code",
      "metadata": {
        "id": "w8kL9EyrAPke"
      },
      "source": [
        "# num_trials = 50 # Number of random trials to execute\n",
        "# res_arr = np.zeros((num_trials, 8)) # Initialize array to store results\n",
        "\n",
        "# # Define column names to use when created Pandas dataframe.\n",
        "# res_cols = ['LR', 'Lambda', 'Tr_Loss', 'Tr_Acc', 'Val_Loss', 'Val_Acc', 'Test_Loss', 'Test_Acc']\n",
        "\n",
        "# for k in range(num_trials):\n",
        "#   lr = np.power(10, np.random.uniform(-4.0, 1))\n",
        "#   Lambda = np.power(10, np.random.uniform(-4.0, 2))\n",
        "#   print(\"Trial %d of %d started.... \" %((k +1), num_trials), end = ', ')\n",
        "#   tic = time.process_time() # Set clock timer\n",
        "#   score, model_1, hist = model_1_comp_tr_eval(hidden_nodes = 256, output_nodes = 10,\\\n",
        "#                                         Lambda = Lambda, epochs = 100, lr = lr,\\\n",
        "#                                         verb = 0, tb_str = (\"M1_VSGD_CS_\" + str(k)))\n",
        "#   res_arr[k, 0] = lr\n",
        "#   res_arr[k, 1] = Lambda\n",
        "#   res_arr[k, 2] = hist.history['loss'][-1]\n",
        "#   res_arr[k, 3] = (100 * hist.history['categorical_accuracy'][-1])\n",
        "#   res_arr[k, 4] = hist.history['val_loss'][-1]\n",
        "#   res_arr[k, 5] = (100 * hist.history['val_categorical_accuracy'][-1])\n",
        "#   res_arr[k, 6] = score[0]\n",
        "#   res_arr[k, 7] = (100 * score[1])\n",
        "#   toc = time.process_time() # Stop clock timer        \n",
        "#   print(\"Completed.... Elapsed time = %0.2f seconds\" %(toc - tic))\n",
        "                                                \n",
        "# res_arr_df = pd.DataFrame(res_arr, columns = res_cols)   \n",
        "# res_arr_df.to_csv((out_base_path + \"M1_SGD_M0P9_D1EM6_CS.csv\"), index = False)"
      ],
      "execution_count": null,
      "outputs": []
    },
    {
      "cell_type": "markdown",
      "metadata": {
        "id": "1pWA1LZpKppS"
      },
      "source": [
        "#### Fine search for Lambda and lr"
      ]
    },
    {
      "cell_type": "code",
      "metadata": {
        "id": "Obb43nVEKtXD"
      },
      "source": [
        "# num_trials = 50 # Number of random trials to execute\n",
        "# res_arr = np.zeros((num_trials, 8)) # Initialize array to store results\n",
        "\n",
        "# # Define column names to use when created Pandas dataframe.\n",
        "# res_cols = ['LR', 'Lambda', 'Tr_Loss', 'Tr_Acc', 'Val_Loss', 'Val_Acc', 'Test_Loss', 'Test_Acc']\n",
        "\n",
        "# for k in range(num_trials):\n",
        "#   lr = np.power(10, np.random.uniform(-3.0, 0))\n",
        "#   Lambda = np.power(10, np.random.uniform(-4.0, 0))\n",
        "#   print(\"Trial %d of %d started.... \" %((k +1), num_trials), end = ', ')\n",
        "#   tic = time.process_time() # Set clock timer\n",
        "#   score, _, hist = model_1_comp_tr_eval(hidden_nodes = 256, output_nodes = 10,\\\n",
        "#                                         Lambda = Lambda, epochs = 100, lr = lr,\\\n",
        "#                                         verb = 0, tb_str = (\"M1_VSGD_CS_\" + str(k)))\n",
        "#   res_arr[k, 0] = lr\n",
        "#   res_arr[k, 1] = Lambda\n",
        "#   res_arr[k, 2] = hist.history['loss'][-1]\n",
        "#   res_arr[k, 3] = (100 * hist.history['categorical_accuracy'][-1])\n",
        "#   res_arr[k, 4] = hist.history['val_loss'][-1]\n",
        "#   res_arr[k, 5] = (100 * hist.history['val_categorical_accuracy'][-1])\n",
        "#   res_arr[k, 6] = score[0]\n",
        "#   res_arr[k, 7] = (100 * score[1])\n",
        "#   toc = time.process_time() # Stop clock timer        \n",
        "#   print(\"Completed.... Elapsed time = %0.2f seconds\" %(toc - tic))\n",
        "                                              \n",
        "# res_arr_df = pd.DataFrame(res_arr, columns = res_cols)   \n",
        "# res_arr_df.to_csv((out_base_path + \"M1_SGD_M0P9_D1EM6_FS.csv\"), index = False)"
      ],
      "execution_count": null,
      "outputs": []
    },
    {
      "cell_type": "markdown",
      "metadata": {
        "id": "CSuqmZ1f28bt"
      },
      "source": [
        "#### Summary of other options\n",
        "\n",
        "<b>1. Model Details</b>\n",
        "  * Model is same as earlier.\n",
        "\n",
        "<b>2. Final training parameters</b>\n",
        "  * Glorot_uniform initialization for all three layers.\n",
        "  * SGD optimizer with decay rate = 1e-6 and momentum = 0.9\n",
        "  * Learning Rate = 0.15\n",
        "  * Lambda = 1.1e-3\n",
        "  * Number of training set samples = 51000\n",
        "  * Number of validation set samples = 9000\n",
        "  * Number of test set samples = 10000\n",
        "\n",
        "<b>3. Final performance after training</b>\n",
        "  * Training set loss = 0.01\n",
        "  * Training set accuracy = 100 %\n",
        "  * Validation set loss = 0.076\n",
        "  * Validation set accuracy = 98.35 %\n",
        "  * Test set loss = 0.068\n",
        "  * Test set accuracy = 98.15%\n",
        "\n",
        "Overall, the performance with these new training options is slightly better than the vanilla SGD."
      ]
    },
    {
      "cell_type": "markdown",
      "metadata": {
        "id": "lZPnkwls6cBg"
      },
      "source": [
        "## Model_2: DNN_5L\n",
        "\n",
        "* Model_2 is a deep network with five FC layers. It will have:\n",
        "    1. A flatten layer\n",
        "    2. Hidden layer - 1 (50 neurons and ReLU activation)\n",
        "    3. Hidden layer - 2 (50 neurons and ReLU activation)\n",
        "    4. Hidden layer - 3 (50 neurons and ReLU activation)\n",
        "    5. Hidden layer - 4 (50 neurons and ReLU activation)\n",
        "    4. Final dense layer with 10 neurons and a softmax activation function."
      ]
    },
    {
      "cell_type": "markdown",
      "metadata": {
        "id": "UGYYui3V6Yz4"
      },
      "source": [
        "### Function - Define Model Core"
      ]
    },
    {
      "cell_type": "code",
      "metadata": {
        "id": "QRqNfQ7D6Yz5"
      },
      "source": [
        "def model_2_core(hidden_nodes = 50, output_nodes = 10):\n",
        "    \n",
        "    \"\"\"\n",
        "    Function to define the model core for 5-layer deep NN .\n",
        "    \n",
        "    Arguments:\n",
        "    hidden_nodes - Number of nodes for the hidden layers\n",
        "    output_nodes = Number of nodes in the output layer\n",
        "\n",
        "    \"\"\"    \n",
        "    \n",
        "    model_2 = models.Sequential() # Instantiate Sequential model\n",
        "    model_2.add(layers.Input(shape=(28, 28), name = \"INP_LAY\")) # Add input layer\n",
        "    model_2.add(layers.Flatten(name = \"FLAT_LAY\")) # Add Flatten layer\n",
        "    \n",
        "    model_2.add(layers.Dense(hidden_nodes,\\\n",
        "                             kernel_initializer = HeNormal(seed = 0),\\\n",
        "                             name = \"HID_LAY_1\")) # Add hidden layer - 1\n",
        "    model_2.add(layers.BatchNormalization(name = \"BN_LAY_1\")) # Add BatchNorm layer\n",
        "    model_2.add(layers.Activation('relu')) # Add ReLU activation\n",
        "    model_2.add(layers.Dropout(rate = 0.2, seed = 0, name = \"DROP_1\"))    \n",
        "\n",
        "    model_2.add(layers.Dense(hidden_nodes,\\\n",
        "                             kernel_initializer = HeNormal(seed = 0),\\\n",
        "                             name = \"HID_LAY_2\")) # Add hidden layer - 2\n",
        "    model_2.add(layers.BatchNormalization(name = \"BN_LAY_2\")) # Add BatchNorm layer\n",
        "    model_2.add(layers.Activation('relu')) # Add ReLU activation \n",
        "    model_2.add(layers.Dropout(rate = 0.2, seed = 0, name = \"DROP_2\"))    \n",
        "\n",
        "    model_2.add(layers.Dense(hidden_nodes,\\\n",
        "                             kernel_initializer = HeNormal(seed = 0),\\\n",
        "                             name = \"HID_LAY_3\")) # Add hidden layer - 3\n",
        "    model_2.add(layers.BatchNormalization(name = \"BN_LAY_3\")) # Add BatchNorm layer                             \n",
        "    model_2.add(layers.Activation('relu')) # Add ReLU activation \n",
        "    model_2.add(layers.Dropout(rate = 0.2, seed = 0, name = \"DROP_3\"))    \n",
        "\n",
        "    model_2.add(layers.Dense(hidden_nodes,\\\n",
        "                             kernel_initializer = HeNormal(seed = 0),\\\n",
        "                             name = \"HID_LAY_4\")) # Add hidden layer - 4\n",
        "    model_2.add(layers.BatchNormalization(name = \"BN_LAY_4\")) # Add BatchNorm layer                             \n",
        "    model_2.add(layers.Activation('relu')) # Add ReLU activation\n",
        "    model_2.add(layers.Dropout(rate = 0.2, seed = 0, name = \"DROP_4\"))    \n",
        "\n",
        "    model_2.add(layers.Dense(output_nodes, activation = 'softmax',\\\n",
        "                             kernel_initializer = HeNormal(seed = 0),\\\n",
        "                             name = \"OUT_LAY\")) # Add output layer\n",
        "    \n",
        "    return model_2"
      ],
      "execution_count": null,
      "outputs": []
    },
    {
      "cell_type": "code",
      "metadata": {
        "id": "ClHZxYul9guf"
      },
      "source": [
        "# Verify model defined above\n",
        "temp_model = model_2_core(50, 10)\n",
        "temp_model.summary()"
      ],
      "execution_count": null,
      "outputs": []
    },
    {
      "cell_type": "markdown",
      "metadata": {
        "id": "ewz1OYFW9lMY"
      },
      "source": [
        "### Function - Define model compile, train and eval"
      ]
    },
    {
      "cell_type": "code",
      "metadata": {
        "id": "gsH2ssUD9U7w"
      },
      "source": [
        "def model_2_comp_tr_eval(hidden_nodes = 50, output_nodes = 10, epochs = 5,\\\n",
        "                         lr = 0.01, verb = 1, tb_str = \"Temp\"):\n",
        "    \n",
        "    \"\"\"\n",
        "    Function to compile, fit and evaluate model_2.\n",
        "    \n",
        "    Arguments:\n",
        "    hidden_nodes - Number of nodes for the hidden layers\n",
        "    output_nodes = Number of nodes in the output layer\n",
        "    epochs - Number of epochs to train for\n",
        "    lr - Learning rate to use for training\n",
        "    verb - Whether to print running summary during model fit or evaluate\n",
        "\n",
        "    \"\"\"      \n",
        "    \n",
        "    # Instantiate model\n",
        "    model_2 = model_2_core(hidden_nodes, output_nodes)\n",
        "    \n",
        "    # Optimizer = SGD with learning rate = lr.\n",
        "    opt = optimizers.SGD(learning_rate = lr) \n",
        "    \n",
        "    # Try out other optimizer options\n",
        "    # opt_1 = optimizers.SGD(learning_rate = lr, decay = 1e-6, momentum = 0.9)\n",
        "    opt_2 = optimizers.Adam(learning_rate = lr) \n",
        "\n",
        "    # Loss = CategoricalCrossEntropy with default settings\n",
        "    cce = tf.keras.losses.CategoricalCrossentropy() \n",
        "    # Metric = Categorical Accuracy\n",
        "    met = tf.keras.metrics.CategoricalAccuracy()\n",
        "    # Compile model\n",
        "    model_2.compile(optimizer = opt_2, loss = cce, metrics = met)\n",
        "    \n",
        "    # Define path for tensorboard logs\n",
        "    logdir = os.path.join(tb_logs_base_dir, tb_str) \n",
        "    # Define Tensorboard callback\n",
        "    tensorboard_callback = tf.keras.callbacks.TensorBoard(logdir, histogram_freq = 0)\n",
        "    \n",
        "    # Fit model\n",
        "    hist = model_2.fit(X_train, y_train_ohe, epochs = epochs, batch_size = 1000, verbose = verb,\\\n",
        "                       validation_split = 0.15, callbacks=[tensorboard_callback])\n",
        "    \n",
        "    # Evaluate model on test set\n",
        "    score = model_2.evaluate(X_test, y_test_ohe, verbose = verb)  \n",
        "    \n",
        "    return score, model_2, hist"
      ],
      "execution_count": null,
      "outputs": []
    },
    {
      "cell_type": "code",
      "metadata": {
        "id": "fDQf57aG9U79",
        "scrolled": false
      },
      "source": [
        "# display(model_2.loss)\n",
        "# display(model_2.optimizer.get_config())\n",
        "# display(model_2.summary())"
      ],
      "execution_count": null,
      "outputs": []
    },
    {
      "cell_type": "markdown",
      "metadata": {
        "id": "6psGGVy0ATN_"
      },
      "source": [
        "### Coarse search for lr"
      ]
    },
    {
      "cell_type": "code",
      "metadata": {
        "id": "3Jyi7ql1ATOD"
      },
      "source": [
        "# num_trials = 25 # Number of random trials to execute\n",
        "# res_arr = np.zeros((num_trials, 7)) # Initialize array to store results\n",
        "\n",
        "# # Define column names to use when created Pandas dataframe.\n",
        "# res_cols = ['LR', 'Tr_Loss', 'Tr_Acc', 'Val_Loss', 'Val_Acc', 'Test_Loss', 'Test_Acc']\n",
        "\n",
        "# for k in range(num_trials):\n",
        "#   lr = np.power(10, np.random.uniform(-4.0, 1))\n",
        "#   print(\"Trial %d of %d started.... \" %((k +1), num_trials), end = ', ')\n",
        "#   tic = time.process_time() # Set clock timer\n",
        "#   score, model_2, hist = model_2_comp_tr_eval(hidden_nodes = 50, output_nodes = 10,\\\n",
        "#                                         epochs = 100, lr = lr, verb = 0,\\\n",
        "#                                         tb_str = (\"M2BNDR_ADAM_CS_\" + str(k)))\n",
        "#   res_arr[k, 0] = lr\n",
        "#   res_arr[k, 1] = hist.history['loss'][-1]\n",
        "#   res_arr[k, 2] = (100 * hist.history['categorical_accuracy'][-1])\n",
        "#   res_arr[k, 3] = hist.history['val_loss'][-1]\n",
        "#   res_arr[k, 4] = (100 * hist.history['val_categorical_accuracy'][-1])\n",
        "#   res_arr[k, 5] = score[0]\n",
        "#   res_arr[k, 6] = (100 * score[1])\n",
        "#   toc = time.process_time() # Stop clock timer        \n",
        "#   print(\"Completed.... Elapsed time = %0.2f seconds\" %(toc - tic))        \n",
        "                                              \n",
        "# res_arr_df = pd.DataFrame(res_arr, columns = res_cols)   \n",
        "# res_arr_df.to_csv((out_base_path + \"M2BNDR_ADAM_CS.csv\"), index = False)"
      ],
      "execution_count": null,
      "outputs": []
    },
    {
      "cell_type": "markdown",
      "metadata": {
        "id": "0g1mHmqXGvsS"
      },
      "source": [
        "<b>Review of coarse search results:</b>\n",
        "\n",
        "<b><u>Option_1: Plain M2 with vanilla SGD</u></b>\n",
        "\n",
        "1. Considering all results where validation accuracy is greater than 95% (19 out 50 results), \n",
        "  * Range of learning_rate is 1.5e-2 to 0.9. \n",
        "  * Range of Lambda is 2.2e-4 to 94.\n",
        "2. Considering all results where validation loss is less than 0.2 (20 out of 50 results), \n",
        "  * Range of learning rate is 1.5e-2 to 0.9.\n",
        "  * Range of Lambda is 2.2e-4 to 94.\n",
        "3. Based on this, lets do a fine search with:\n",
        "  * Learning rate ranging from 1e-2 to 1.\n",
        "  * Lambda ranging from 1e-4 to 1 \n",
        "\n",
        "<b><u>Option_2: M2 + BNorm with Adam</u></b>\n",
        "\n",
        "1. Considering all results where validation accuracy is greater than 97% (12 out 25 results), lets do a fine search with learning rate ranging from 1e-4 to 0.1\n",
        "\n",
        "<b><u>Option_3: M2 + BNorm + Dropout with Adam</u></b>\n",
        "\n",
        "1. Best validation accuracy is around 97.8 (which is similar to the results without Dropout). So, not running fine search."
      ]
    },
    {
      "cell_type": "markdown",
      "metadata": {
        "id": "r1tH2AZbH3Ks"
      },
      "source": [
        "### Fine search for Lambda and lr"
      ]
    },
    {
      "cell_type": "code",
      "metadata": {
        "id": "qDEMWdPAH3Kw"
      },
      "source": [
        "# num_trials = 25 # Number of random trials to execute\n",
        "# res_arr = np.zeros((num_trials, 7)) # Initialize array to store results\n",
        "\n",
        "# # Define column names to use when created Pandas dataframe.\n",
        "# res_cols = ['LR', 'Tr_Loss', 'Tr_Acc', 'Val_Loss', 'Val_Acc', 'Test_Loss', 'Test_Acc']\n",
        "\n",
        "# for k in range(num_trials):\n",
        "#   lr = np.power(10, np.random.uniform(-4.0, -1))\n",
        "#   print(\"Trial %d of %d started.... \" %((k +1), num_trials), end = ', ')\n",
        "#   tic = time.process_time() # Set clock timer\n",
        "#   score, model_2, hist = model_2_comp_tr_eval(hidden_nodes = 50, output_nodes = 10,\\\n",
        "#                                         epochs = 100, lr = lr, verb = 0,\\\n",
        "#                                         tb_str = (\"M2BNDR_ADAM_FS_\" + str(k)))\n",
        "#   res_arr[k, 0] = lr\n",
        "#   res_arr[k, 1] = hist.history['loss'][-1]\n",
        "#   res_arr[k, 2] = (100 * hist.history['categorical_accuracy'][-1])\n",
        "#   res_arr[k, 3] = hist.history['val_loss'][-1]\n",
        "#   res_arr[k, 4] = (100 * hist.history['val_categorical_accuracy'][-1])\n",
        "#   res_arr[k, 5] = score[0]\n",
        "#   res_arr[k, 6] = (100 * score[1])\n",
        "#   toc = time.process_time() # Stop clock timer        \n",
        "#   print(\"Completed.... Elapsed time = %0.2f seconds\" %(toc - tic))        \n",
        "                                              \n",
        "# res_arr_df = pd.DataFrame(res_arr, columns = res_cols)   \n",
        "# res_arr_df.to_csv((out_base_path + \"M2BNDR_ADAM_FS.csv\"), index = False)"
      ],
      "execution_count": null,
      "outputs": []
    },
    {
      "cell_type": "markdown",
      "metadata": {
        "id": "bz80JepfPtgy"
      },
      "source": [
        "### Summary of Model_2\n",
        "\n",
        "<b><u>Option_1</u></b>\n",
        "\n",
        "  1. <b>Model Details</b>\n",
        "\n",
        "    * Input size = (28 * 28) gray-scale image.\n",
        "    * Four hidden layers with 50 neurons each followed by ReLU activation.\n",
        "    * One output layer with 10 neurons and softmax activation.\n",
        "    * Total number of trainable parameters = 47,410.\n",
        "\n",
        "  2. <b>Final training parameters</b>\n",
        "\n",
        "    * He Normal initialization for all layers.\n",
        "    * Vanilla SGD optimizer.\n",
        "    * Learning Rate = 0.1\n",
        "    * Number of training set samples = 51000\n",
        "    * Number of validation set samples = 9000\n",
        "    * Number of test set samples = 10000\n",
        "\n",
        "  3. <b>Final performance after training</b>\n",
        "\n",
        "    * Training set loss = 0.02\n",
        "    * Training set accuracy = 99.63 %\n",
        "    * Validation set loss = 0.113\n",
        "    * Validation set accuracy = 97.29 %\n",
        "    * Test set loss = 0.108\n",
        "    * Test set accuracy = 97.14%\n",
        "\n",
        "<b><u>Option_2</u></b>\n",
        "\n",
        "  1. <b>Model Details</b>\n",
        "\n",
        "    * Same as the model above except that batch-norm is added between each dense layer and the ReLU activation\n",
        "\n",
        "  2. <b>Final training parameters</b>\n",
        "\n",
        "    * He Normal initialization for all layers.\n",
        "    * Adam optimizer with default settings.\n",
        "    * Learning Rate = 0.013    \n",
        "    * Number of training set samples = 51000\n",
        "    * Number of validation set samples = 9000\n",
        "    * Number of test set samples = 10000\n",
        "\n",
        "  3. <b>Final performance after training</b>\n",
        "\n",
        "    * Training set loss = 0.0002\n",
        "    * Training set accuracy = 99.998 %\n",
        "    * Validation set loss = 0.135\n",
        "    * Validation set accuracy = 98.02 %\n",
        "    * Test set loss = 0.137\n",
        "    * Test set accuracy = 97.95%\n",
        "\n",
        "<b><u>Option_3</u></b>\n",
        "\n",
        "  1. <b>Model Details</b>\n",
        "\n",
        "    * Same as the model in Option_2 but with drop-out added after each ReLU layer.\n",
        "\n",
        "  2. <b>Final performance after training</b>\n",
        "\n",
        "    * Performance is similar to Option_2 (model without dropout)\n",
        "  "
      ]
    },
    {
      "cell_type": "markdown",
      "metadata": {
        "id": "fzjNXDrrbSAh"
      },
      "source": [
        "# CNN Models"
      ]
    },
    {
      "cell_type": "markdown",
      "metadata": {
        "id": "Z_ynvi-mZB84"
      },
      "source": [
        "## Reshape input for use with conv layers"
      ]
    },
    {
      "cell_type": "code",
      "metadata": {
        "colab": {
          "base_uri": "https://localhost:8080/"
        },
        "id": "7kj3RCKBZF9j",
        "outputId": "58184cb7-7ba0-445b-879a-35cc0a0ff024"
      },
      "source": [
        "X_train = X_train.reshape(X_train.shape[0], 28, 28, 1)\n",
        "X_val = X_val.reshape(X_val.shape[0], 28, 28, 1)\n",
        "X_test = X_test.reshape(X_test.shape[0], 28, 28, 1)\n",
        "print(\"Shape of training set data input is {}\" .format(X_train.shape))\n",
        "print(\"Shape of validation set data input is {}\" .format(X_val.shape))\n",
        "print(\"Shape of test set data input is {}\" .format(X_test.shape))"
      ],
      "execution_count": null,
      "outputs": [
        {
          "output_type": "stream",
          "text": [
            "Shape of training set data input is (51000, 28, 28, 1)\n",
            "Shape of validation set data input is (9000, 28, 28, 1)\n",
            "Shape of test set data input is (10000, 28, 28, 1)\n"
          ],
          "name": "stdout"
        }
      ]
    },
    {
      "cell_type": "markdown",
      "metadata": {
        "id": "ccXOB8IpbSAu"
      },
      "source": [
        "## Model_3: CNN_1\n",
        "\n",
        "* Input shape = (28 x 28 x 1)\n",
        "* Layers:\n",
        "\n",
        "    * Conv2D: Filters = 32, Kernel size = (3 x 3). Padding = 'valid', stride = (1 x 1). Output shape = (26 x 26 x 32). \n",
        "    * Activation = 'ReLU'\n",
        "    * Conv2D: Filters = 32, Kernel size = (3 x 3). Padding = 'valid', stride = (1 x 1). Output shape = (24 x 24 x 32)\n",
        "    * Activation = 'ReLU'\n",
        "    * Flatten: Output shape = (18432 x 1)\n",
        "    * Dense: Output shape = (128 x 1)\n",
        "    * Activation = 'ReLU'\n",
        "    * Dense: Output shape = (10 x 1)\n",
        "    * Activation = 'Softmax'\n"
      ]
    },
    {
      "cell_type": "markdown",
      "metadata": {
        "id": "BFMzd2eLRil0"
      },
      "source": [
        "### Function - Define Model Core"
      ]
    },
    {
      "cell_type": "code",
      "metadata": {
        "id": "iJJg_S3oRmZW"
      },
      "source": [
        "def model_core(model_dict):\n",
        "    \n",
        "    \"\"\"\n",
        "    Function to define the model core.\n",
        "    \n",
        "    Arguments:\n",
        "    model_dict - Dictionary with list of keys / values needed to build the model\n",
        "      'use_bnorm' - Boolean: If true, use BatchNormalization layer after each hidden layer\n",
        "      'use_dropout' - Boolean: If true, use dropout after activation of each hidden layer\n",
        "      'dropout_rate' - Value of dropout rate to use.\n",
        "\n",
        "    Returns:\n",
        "    model - Model with all layers instantiated\n",
        " \n",
        "    \"\"\"    \n",
        "    # Retrieve model dict parameters\n",
        "    use_bnorm = model_dict['use_bnorm']\n",
        "    use_dropout = model_dict['use_dropout']\n",
        "    dropout_rate = model_dict['dropout_rate']\n",
        "\n",
        "    model = Sequential() # Instantiate Sequential model\n",
        "    model.add(Conv2D(filters = 32, kernel_size = (3, 3), strides = (1, 1), padding = \"valid\",\\\n",
        "                     kernel_initializer = HeNormal(seed = 0), input_shape = (28, 28, 1), name = 'C1'))\n",
        "    if (use_bnorm):\n",
        "      model.add(BatchNormalization(axis = -1, name = 'B1'))\n",
        "    model.add(Activation('relu', name = 'A1'))\n",
        "    if (use_dropout):\n",
        "      model.add(Dropout(rate = dropout_rate[0], name = 'DR1'))    \n",
        "    model.add(Conv2D(filters = 32, kernel_size = (3, 3), strides = (1, 1), padding = \"valid\",\\\n",
        "                     kernel_initializer = HeNormal(seed = 0), name = 'C2'))\n",
        "    if (use_bnorm):\n",
        "      model.add(BatchNormalization(axis = -1, name = 'B2'))\n",
        "    model.add(Activation('relu', name = 'A2'))\n",
        "    if (use_dropout):\n",
        "      model.add(Dropout(rate = dropout_rate[1], name = 'DR2'))    \n",
        "    model.add(MaxPooling2D(pool_size = (2, 2), strides = (2, 2), name = 'M1'))\n",
        "    if (use_dropout):\n",
        "      model.add(Dropout(rate = dropout_rate[2], name = 'DR3'))\n",
        "    model.add(Flatten(name = 'F1'))\n",
        "    model.add(Dense(128, activation = 'relu', kernel_initializer = HeNormal(seed = 0),\\\n",
        "                    name = \"D1\")) # Add output layer\n",
        "    model.add(Dense(10, activation = 'softmax', kernel_initializer = HeNormal(seed = 0),\\\n",
        "                    name = \"OL\")) # Add output layer\n",
        "    return model"
      ],
      "execution_count": null,
      "outputs": []
    },
    {
      "cell_type": "code",
      "metadata": {
        "colab": {
          "base_uri": "https://localhost:8080/"
        },
        "id": "Fato9hXNYYK6",
        "outputId": "facc978a-65da-4753-d399-d08d1993434f"
      },
      "source": [
        "# Verify model defined above\n",
        "model_dict = {'use_bnorm': True,\n",
        "              'use_dropout': True, \n",
        "              'dropout_rate': [0.2, 0.3, 0.4]\n",
        "              }\n",
        "temp_model = model_core(model_dict)\n",
        "temp_model.summary()"
      ],
      "execution_count": null,
      "outputs": [
        {
          "output_type": "stream",
          "text": [
            "Model: \"sequential\"\n",
            "_________________________________________________________________\n",
            "Layer (type)                 Output Shape              Param #   \n",
            "=================================================================\n",
            "C1 (Conv2D)                  (None, 26, 26, 32)        320       \n",
            "_________________________________________________________________\n",
            "B1 (BatchNormalization)      (None, 26, 26, 32)        128       \n",
            "_________________________________________________________________\n",
            "A1 (Activation)              (None, 26, 26, 32)        0         \n",
            "_________________________________________________________________\n",
            "DR1 (Dropout)                (None, 26, 26, 32)        0         \n",
            "_________________________________________________________________\n",
            "C2 (Conv2D)                  (None, 24, 24, 32)        9248      \n",
            "_________________________________________________________________\n",
            "B2 (BatchNormalization)      (None, 24, 24, 32)        128       \n",
            "_________________________________________________________________\n",
            "A2 (Activation)              (None, 24, 24, 32)        0         \n",
            "_________________________________________________________________\n",
            "DR2 (Dropout)                (None, 24, 24, 32)        0         \n",
            "_________________________________________________________________\n",
            "M1 (MaxPooling2D)            (None, 12, 12, 32)        0         \n",
            "_________________________________________________________________\n",
            "DR3 (Dropout)                (None, 12, 12, 32)        0         \n",
            "_________________________________________________________________\n",
            "F1 (Flatten)                 (None, 4608)              0         \n",
            "_________________________________________________________________\n",
            "D1 (Dense)                   (None, 128)               589952    \n",
            "_________________________________________________________________\n",
            "OL (Dense)                   (None, 10)                1290      \n",
            "=================================================================\n",
            "Total params: 601,066\n",
            "Trainable params: 600,938\n",
            "Non-trainable params: 128\n",
            "_________________________________________________________________\n"
          ],
          "name": "stdout"
        }
      ]
    },
    {
      "cell_type": "markdown",
      "metadata": {
        "id": "-hn4KJPNRpdD"
      },
      "source": [
        "### Function - Define model compile, train and eval"
      ]
    },
    {
      "cell_type": "code",
      "metadata": {
        "id": "L9cq98oIRrX7"
      },
      "source": [
        "def model_comp_fit_eval(model_dict, train_dict):\n",
        "    \n",
        "    \"\"\"\n",
        "    Function to compile, fit and evaluate model.\n",
        "    \n",
        "    Arguments:\n",
        "    model_dict - Dictionary with list of keys / values needed to build the model\n",
        "               - See function model_core for more details\n",
        "    train_dict - Dictionary with list of keys / values needed to compile and train the model\n",
        "      'epochs': Number of epochs to train for\n",
        "      'early_stop': Boolean: If True, implement early stop\n",
        "      'bat_size': Batch size to use while doing model fit\n",
        "      'ilr': Initial learning rate to use for learning rate decay scheduler\n",
        "      'dr': Decay rate to use for learning rate decay scheduler\n",
        "      'ds': Decay step to use for learning rate decay scheduler\n",
        "      'verb': Boolean: If True, print running summary during model fit.\n",
        "      'tb_path': Path to store Tensorboard callback information\n",
        "      'bm_path': File name to use for storing best model checkpoint\n",
        "      'fm_path': File name to use for storing final trained model\n",
        "      'hi_path': File name to use for storing training history\n",
        "\n",
        "    Returns:\n",
        "    score - List containing evaluated loss and accuracy on test set\n",
        "    model - Model instance with trained weights\n",
        "    hist - Training history object \n",
        "\n",
        "    \"\"\"      \n",
        "    # Retrieve train_dict parameters\n",
        "    epochs = train_dict['epochs'] # Number of epochs to train for\n",
        "    early_stop = train_dict['early_stop'] # Boolean: If True, implement early stop\n",
        "    bat_size = train_dict['bat_size'] # Batch size to use while doing model fit\n",
        "    ilr = train_dict['ilr'] # Initial learning rate to use for learning rate decay scheduler\n",
        "    dr = train_dict['dr'] # Decay rate to use for learning rate decay scheduler\n",
        "    ds = train_dict['ds'] # Decay step to use for learning rate decay scheduler\n",
        "    verb = train_dict['verb'] # Boolean: If True, print running summary during model fit.\n",
        "    tb_path = train_dict['tb_path'] # Path to store Tensorboard callback information\n",
        "    bm_path = train_dict['bm_path'] # File name to use for storing best model checkpoint\n",
        "    fm_path = train_dict['fm_path'] # File name to use for storing final trained model\n",
        "    hi_path = train_dict['hi_path'] # File name to use for storing training history\n",
        "\n",
        "\n",
        "    # Instantiate model\n",
        "    model = model_core(model_dict)\n",
        "    \n",
        "    # Define learning rate decay schedule\n",
        "    lr_sch = InverseTimeDecay(ilr, ds, dr)\n",
        "    # Define Optimizer\n",
        "    opt = optimizers.Adam(learning_rate = lr_sch) \n",
        "    # Define Loss = CategoricalCrossEntropy with default settings\n",
        "    cce = losses.CategoricalCrossentropy() \n",
        "    # Define Metric = Categorical Accuracy\n",
        "    met = metrics.CategoricalAccuracy()\n",
        "\n",
        "    # Compile model\n",
        "    model.compile(optimizer = opt, loss = cce, metrics = met)\n",
        "    \n",
        "    # Define path for tensorboard logs\n",
        "    logdir = os.path.join(tb_path, datetime.datetime.now().strftime(\"%d_%H_%M_%S\"))\n",
        "    # Define Tensorboard callback\n",
        "    tensorboard_callback = TensorBoard(logdir, histogram_freq = 0)\n",
        "    \n",
        "    # Define Model Checkpoint callback\n",
        "    mcp_callback = ModelCheckpoint(filepath = bm_path, monitor = \"val_loss\", save_best_only = True,\\\n",
        "                                   save_weights_only = False, mode = \"min\", save_freq = \"epoch\")\n",
        "\n",
        "    # Define Early Stopping callback\n",
        "    earlystopping_callback = EarlyStopping(monitor = \"loss\", min_delta = 1e-4, patience = 30,\\\n",
        "                                           mode = \"min\", verbose = 1)\n",
        "\n",
        "    # Define list of all callbacks\n",
        "    callback_list = []\n",
        "    if (early_stop):\n",
        "      callback_list.append(earlystopping_callback)\n",
        "    if (tb_path != 'None'):\n",
        "      callback_list.append(tensorboard_callback)\n",
        "    if (bm_path != 'None'):\n",
        "      callback_list.append(mcp_callback)\n",
        "\n",
        "    # Fit model\n",
        "    hist = model.fit(X_train, y_train_ohe, epochs = epochs, batch_size = bat_size, verbose = verb,\\\n",
        "                     validation_data = (X_val, y_val_ohe), callbacks = callback_list)\n",
        "        \n",
        "    # Evaluate model on test set\n",
        "    score = model.evaluate(X_test, y_test_ohe, batch_size = 1000, verbose = 0)  \n",
        "\n",
        "    # Save final trained model to file\n",
        "    if (fm_path != 'None'):\n",
        "      # Save final trained model in Keras HDF5 format\n",
        "      model.save(fm_path, overwrite = True, save_format = 'h5') \n",
        "    if (hi_path != 'None'):\n",
        "      # Save training history to file\n",
        "      np.save(hi_path, hist.history)\n",
        "    \n",
        "    return score, model, hist"
      ],
      "execution_count": null,
      "outputs": []
    },
    {
      "cell_type": "markdown",
      "metadata": {
        "id": "pRuB1kRJ8UO1"
      },
      "source": [
        "### Launch Tensorboard"
      ]
    },
    {
      "cell_type": "code",
      "metadata": {
        "colab": {
          "base_uri": "https://localhost:8080/",
          "height": 821
        },
        "id": "FgwB8Sjf11w5",
        "scrolled": false,
        "outputId": "637a63c6-3dcf-47ff-e3c9-356f605194f4"
      },
      "source": [
        "#%tensorboard --logdir {tb_logs_base_dir}\n",
        "#%tensorboard --logdir {tb_logs_base_dir}"
      ],
      "execution_count": null,
      "outputs": []
    },
    {
      "cell_type": "markdown",
      "metadata": {
        "id": "WxISEdmdUa2j"
      },
      "source": [
        "### Set all model, compile and training parameters"
      ]
    },
    {
      "cell_type": "code",
      "metadata": {
        "colab": {
          "base_uri": "https://localhost:8080/"
        },
        "id": "oh7HHYq5G5ZS",
        "outputId": "d778f0f5-ae82-4286-ebdf-eee10e5d400d"
      },
      "source": [
        "### Define file paths\n",
        "# Prefix to use for naming files and paths\n",
        "mod_file_pref = \"M3D\" \n",
        "# Tensorboard base path\n",
        "tb_path = os.path.join(tb_logs_base_dir, mod_file_pref) \n",
        "# Path for storing final trained model\n",
        "fm_path = os.path.join(out_base_path, mod_file_pref + \"_finalmodel.h5\") \n",
        "# Path for storing best model (model with lowest validation set loss)\n",
        "bm_path = os.path.join(out_base_path, mod_file_pref + \"_bestmodel.h5\")\n",
        "# Path for storing training history\n",
        "hi_path = os.path.join(out_base_path, mod_file_pref + \"_hist.npy\")\n",
        "\n",
        "# Define model_dict and train_dict\n",
        "model_dict = {'use_bnorm': True,\n",
        "              'use_dropout': False,\n",
        "              'dropout_rate': [0.2, 0.2, 0.2]\n",
        "              }\n",
        "train_dict = {'epochs': 1000, # Number of epochs to train for\n",
        "              'early_stop': True, # Boolean: If True, implement early stop\n",
        "              'bat_size': 60, # Batch size to use while doing model fit\n",
        "              'ilr': 0.001, # Initial learning rate to use for learning rate decay scheduler\n",
        "              'dr': 1, # Decay rate to use for learning rate decay scheduler\n",
        "              'ds': (850 * 25), # Decay step to use for learning rate decay scheduler\n",
        "              'verb': 0, # Boolean: If True, print running summary during model fit.\n",
        "              'tb_path': tb_path, # Path to store Tensorboard callback information\n",
        "              'bm_path': bm_path, # File name to use for storing best model checkpoint\n",
        "              'fm_path': fm_path, # File name to use for storing final trained model\n",
        "              'hi_path': hi_path, # File name to use for storing training history\n",
        "              }\n",
        "\n",
        "print(tb_path)\n",
        "print(bm_path)\n",
        "print(fm_path)\n",
        "print(hi_path)"
      ],
      "execution_count": null,
      "outputs": [
        {
          "output_type": "stream",
          "text": [
            "C:/User_Directories/logs/MNIST/M3D\n",
            "Model_Info/M3D_bestmodel.h5\n",
            "Model_Info/M3D_finalmodel.h5\n",
            "Model_Info/M3D_hist.npy\n"
          ],
          "name": "stdout"
        }
      ]
    },
    {
      "cell_type": "code",
      "metadata": {
        "id": "zPDRlOmiSMO9",
        "scrolled": false
      },
      "source": [
        "# Verify model instantiation, loss and compile options\n",
        "train_dict_temp = {'epochs': 0, # Number of epochs to train for\n",
        "              'early_stop': True, # Boolean: If True, implement early stop\n",
        "              'bat_size': 60, # Batch size to use while doing model fit\n",
        "              'ilr': 0.001, # Initial learning rate to use for learning rate decay scheduler\n",
        "              'dr': 1, # Decay rate to use for learning rate decay scheduler\n",
        "              'ds': (850 * 100), # Decay step to use for learning rate decay scheduler\n",
        "              'verb': 0, # Boolean: If True, print running summary during model fit.\n",
        "              'tb_path': 'None', # Path to store Tensorboard callback information\n",
        "              'bm_path': 'None', # File name to use for storing best model checkpoint\n",
        "              'fm_path': 'None', # File name to use for storing final trained model\n",
        "              'hi_path': 'None', # File name to use for storing training history\n",
        "              }\n",
        "\n",
        "_, temp_model, _ = model_comp_fit_eval(model_dict, train_dict_temp)\n",
        "display(temp_model.loss)\n",
        "display(temp_model.optimizer.get_config())\n",
        "display(temp_model.summary())"
      ],
      "execution_count": null,
      "outputs": []
    },
    {
      "cell_type": "markdown",
      "metadata": {
        "id": "XxAO-tErUmUl"
      },
      "source": [
        "### Fit model "
      ]
    },
    {
      "cell_type": "code",
      "metadata": {
        "colab": {
          "base_uri": "https://localhost:8080/"
        },
        "id": "r13hjRy7_bmR",
        "scrolled": false,
        "outputId": "ddbd63a8-bd85-41e5-9787-d7f9c8ae6295"
      },
      "source": [
        "# Start model fit\n",
        "print(\"Model Fit started.... \", end = ', ')\n",
        "tic = time.process_time() # Set clock timer\n",
        "score, model, hist = model_comp_fit_eval(model_dict, train_dict)\n",
        "toc = time.process_time() # Stop clock timer        \n",
        "print(\"Completed.... Elapsed time = %0.1f minutes\" %((toc - tic)/60))"
      ],
      "execution_count": null,
      "outputs": [
        {
          "output_type": "stream",
          "text": [
            "Model Fit started.... , Epoch 00052: early stopping\n",
            "Completed.... Elapsed time = 3.5 minutes\n"
          ],
          "name": "stdout"
        }
      ]
    },
    {
      "cell_type": "markdown",
      "metadata": {
        "id": "b3kZGuqDwjH1"
      },
      "source": [
        "### Plot learning curves"
      ]
    },
    {
      "cell_type": "code",
      "metadata": {
        "colab": {
          "base_uri": "https://localhost:8080/",
          "height": 502
        },
        "id": "LjF7zMg2wjH6",
        "scrolled": false,
        "outputId": "d0b5dd1f-d6ed-4b2b-adba-d5f71828eca1"
      },
      "source": [
        "# Load history files from disk\n",
        "hist_model = np.load(hi_path, allow_pickle = 'TRUE').item()\n",
        "\n",
        "# Plot training and validation loss\n",
        "fig = plt.figure(figsize = (14, 7))\n",
        "fig.suptitle(mod_file_pref + \" Learning Curves\", fontsize = 20)\n",
        "ax1 = plt.subplot(1, 2, 1)\n",
        "ax1.plot(hist_model['loss'], 'r-', label = 'Training_Set_Loss')\n",
        "ax1.plot(hist_model['val_loss'], 'b-', label = 'Validation_Set_Loss')\n",
        "ax1.set_title(\"Loss vs. #Epoch\", fontsize = 20)\n",
        "ax1.set_ylabel('Running Loss', fontsize = 20)\n",
        "ax1.set_xlabel('# Epochs', fontsize = 20)\n",
        "ax1.grid(b = True)\n",
        "ax1.legend(fontsize = 15)\n",
        "\n",
        "ax2 = plt.subplot(1, 2, 2)\n",
        "ax2.plot(hist_model['categorical_accuracy'], 'r-', label = 'Training_Set_Accuracy')\n",
        "ax2.plot(hist_model['val_categorical_accuracy'], 'b-', label = 'Validation_Set_Accuracy')\n",
        "ax2.set_title(\"Accuracy vs. #Epoch\", fontsize = 20)\n",
        "ax2.set_ylabel('Accuracy', fontsize = 20)\n",
        "ax2.set_xlabel('# Epochs', fontsize = 20)\n",
        "ax2.grid(b = True)\n",
        "ax2.legend(fontsize = 15)\n",
        "\n",
        "#plt.tight_layout()\n",
        "plt.show()"
      ],
      "execution_count": null,
      "outputs": [
        {
          "output_type": "display_data",
          "data": {
            "image/png": "[encoded data removed]",
            "text/plain": [
              "<Figure size 1008x504 with 2 Axes>"
            ]
          },
          "metadata": {
            "tags": [],
            "needs_background": "light"
          }
        }
      ]
    },
    {
      "cell_type": "markdown",
      "metadata": {
        "id": "IBwaPm5YwtVt"
      },
      "source": [
        "### Evaluate model on training and test sets"
      ]
    },
    {
      "cell_type": "code",
      "metadata": {
        "colab": {
          "base_uri": "https://localhost:8080/"
        },
        "id": "fmpQYEW3wtVx",
        "outputId": "390500b6-7408-4b6b-fe93-f59e0b8a9298"
      },
      "source": [
        "### Evaluate model with final trained weights\n",
        "\n",
        "# Load model with final trained weights\n",
        "model = models.load_model(fm_path) \n",
        "\n",
        "# Evaluate model on training set\n",
        "res = model.evaluate(X_train, y_train_ohe, batch_size = 1000, verbose = 0, return_dict = True)\n",
        "print(\"Training set loss is %0.4f\" % res['loss'])\n",
        "print(\"Training set accuracy is %0.2f %%\" % (100 * res['categorical_accuracy']))\n",
        "print()\n",
        "# Evaluate model on validation set\n",
        "res = model.evaluate(X_val, y_val_ohe, batch_size = 1000, verbose = 0, return_dict = True)\n",
        "print(\"Validation set loss is %0.4f\" % res['loss'])\n",
        "print(\"Validation set accuracy is %0.2f %%\" % (100 * res['categorical_accuracy']))\n",
        "print()\n",
        "# Evaluate model on test set\n",
        "res = model.evaluate(X_test, y_test_ohe, batch_size = 1000, verbose = 0, return_dict = True)\n",
        "print(\"Test set loss is %0.4f\" % res['loss'])\n",
        "print(\"Test set accuracy is %0.2f %%\" % (100 * res['categorical_accuracy']))"
      ],
      "execution_count": null,
      "outputs": [
        {
          "output_type": "stream",
          "text": [
            "Training set loss is 0.0115\n",
            "Training set accuracy is 99.88 %\n",
            "\n",
            "Validation set loss is 0.0096\n",
            "Validation set accuracy is 99.89 %\n",
            "\n",
            "Test set loss is 0.0665\n",
            "Test set accuracy is 99.12 %\n"
          ],
          "name": "stdout"
        }
      ]
    },
    {
      "cell_type": "code",
      "metadata": {
        "colab": {
          "base_uri": "https://localhost:8080/"
        },
        "id": "oYVZRh83XDor",
        "outputId": "e4ada660-4861-48d8-a615-617510246d6e"
      },
      "source": [
        "### Evaluate model with best weights (corresponding to lowest validation loss)\n",
        "# Load model corresponding to lowest validation loss\n",
        "model = models.load_model(bm_path)\n",
        "\n",
        "# Evaluate model on training set\n",
        "res = model.evaluate(X_train, y_train_ohe, batch_size = 1000, verbose = 0, return_dict = True)\n",
        "print(\"Training set loss is %0.4f\" % res['loss'])\n",
        "print(\"Training set accuracy is %0.2f %%\" % (100 * res['categorical_accuracy']))\n",
        "print()\n",
        "# Evaluate model on validation set\n",
        "res = model.evaluate(X_val, y_val_ohe, batch_size = 1000, verbose = 0, return_dict = True)\n",
        "print(\"Validation set loss is %0.4f\" % res['loss'])\n",
        "print(\"Validation set accuracy is %0.2f %%\" % (100 * res['categorical_accuracy']))\n",
        "print()\n",
        "# Evaluate model on test set\n",
        "res = model.evaluate(X_test, y_test_ohe, batch_size = 1000, verbose = 0, return_dict = True)\n",
        "print(\"Test set loss is %0.4f\" % res['loss'])\n",
        "print(\"Test set accuracy is %0.2f %%\" % (100 * res['categorical_accuracy']))"
      ],
      "execution_count": null,
      "outputs": [
        {
          "output_type": "stream",
          "text": [
            "Training set loss is 0.0080\n",
            "Training set accuracy is 99.71 %\n",
            "\n",
            "Validation set loss is 0.0487\n",
            "Validation set accuracy is 98.90 %\n",
            "\n",
            "Test set loss is 0.0472\n",
            "Test set accuracy is 98.72 %\n"
          ],
          "name": "stdout"
        }
      ]
    },
    {
      "cell_type": "markdown",
      "metadata": {
        "id": "xFDbmfFEoNc5"
      },
      "source": [
        "### Visualize intermediate outputs"
      ]
    },
    {
      "cell_type": "code",
      "metadata": {
        "id": "ZzC7QiM5thPy",
        "outputId": "66110259-2196-42b3-9319-566890b58dfa"
      },
      "source": [
        "# Load M3A model\n",
        "mod_file_pref = \"M3B\" \n",
        "fm_path = os.path.join(out_base_path, mod_file_pref + \"_finalmodel.h5\")\n",
        "model = models.load_model(fm_path) \n",
        "\n",
        "c1 = model.layers[0] # Extract first conv layer (without activation)\n",
        "a1 = model.layers[1] # Extract first ReLU activation layer\n",
        "c2 = model.layers[2] # Extract second conv layer (without activation)\n",
        "a2 = model.layers[3] # Extract second ReLU activation layer\n",
        "\n",
        "ind = 20 # Define sample index to evaluate\n",
        "fil1 = 5 # Define filter of first conv layer to evaluate\n",
        "fil2 = 7 # Define filter of second conv layer to evaluate\n",
        "\n",
        "# Define input and outputs of first four layers of model\n",
        "X = X_train[ind:(ind+1), :, :, :]\n",
        "X1 = c1(X)\n",
        "X2 = a1(X1)\n",
        "X3 = c2(X2)\n",
        "X4 = a2(X3)\n",
        "\n",
        "fig = plt.figure(figsize = (12, 8))\n",
        "\n",
        "ax1 = plt.subplot(2, 3, 1)\n",
        "ax1.set_title(\"Input_Image\", fontsize = 15)\n",
        "ax1.imshow(X[0, :, :, 0], cmap = 'gray')\n",
        "\n",
        "ax2 = plt.subplot(2, 3, 2)\n",
        "ax2.set_title(\"First conv layer output\", fontsize = 15)\n",
        "ax2.imshow(X1[0, :, :, fil1], cmap = 'gray')\n",
        "\n",
        "ax3 = plt.subplot(2, 3, 3)\n",
        "ax3.set_title(\"First activation layer output\", fontsize = 15)\n",
        "ax3.imshow(X2[0, :, :, fil1], cmap = 'gray')\n",
        "\n",
        "ax4 = plt.subplot(2, 3, 4)\n",
        "ax4.set_title(\"Second conv layer output\", fontsize = 15)\n",
        "ax4.imshow(X3[0, :, :, fil2], cmap = 'gray')\n",
        "\n",
        "ax5 = plt.subplot(2, 3, 5)\n",
        "ax5.set_title(\"Second activation layer output\", fontsize = 15)\n",
        "ax5.imshow(X4[0, :, :, fil2], cmap = 'gray')\n",
        "\n",
        "plt.show()"
      ],
      "execution_count": null,
      "outputs": [
        {
          "output_type": "display_data",
          "data": {
            "image/png": "[encoded data removed]",
            "text/plain": [
              "<Figure size 864x576 with 5 Axes>"
            ]
          },
          "metadata": {
            "tags": [],
            "needs_background": "light"
          }
        }
      ]
    },
    {
      "cell_type": "markdown",
      "metadata": {
        "id": "rsN8doP3x2lG"
      },
      "source": [
        "### Confusion matrix"
      ]
    },
    {
      "cell_type": "code",
      "metadata": {
        "id": "ZZxI4S_u02yr",
        "outputId": "3f2deae5-222f-4cd3-e62c-a3a739087f6b"
      },
      "source": [
        "# Obtain predicted labels for training and testing sets\n",
        "y_train_pred = model.predict(X_train, batch_size = 1000) # Generate predictions for training set\n",
        "y_test_pred = model.predict(X_test, batch_size = 1000) # Generate predictions for test set\n",
        "y_train_pred = np.argmax(y_train_pred, axis = 1) # Convert probabilities to label\n",
        "y_test_pred = np.argmax(y_test_pred, axis = 1) # Convert probabilities to label\n",
        "\n",
        "# Generate confusion matrices\n",
        "cm_train = tf.math.confusion_matrix(y_train, y_train_pred).numpy()\n",
        "cm_test = tf.math.confusion_matrix(y_test, y_test_pred).numpy()\n",
        "\n",
        "# Convert confusion matrices to pandas DF\n",
        "index = [('A' + str(a)) for a in list(np.unique(y_train).astype(np.int))]\n",
        "columns = [('P' + str(a)) for a in list(np.unique(y_train).astype(np.int))]\n",
        "cm_train_df = pd.DataFrame(cm_train, index = index, columns = columns)\n",
        "cm_test_df = pd.DataFrame(cm_test, index = index, columns = columns)\n",
        "\n",
        "# Plot confusion matrices\n",
        "fig = plt.figure(figsize = (8, 16))\n",
        "\n",
        "ax1 = plt.subplot(2, 1, 1)\n",
        "sns.heatmap(cm_train_df, annot_kws = {\"fontsize\": 15}, linewidths = 1,\\\n",
        "            linecolor = 'black', cmap = 'Blues', annot = True ,fmt = 'g',\\\n",
        "            cbar = False, ax = ax1)\n",
        "ax1.set_title(\"Confusion Matrix for Training set\", fontsize = 25)\n",
        "ax1.tick_params(labelsize = 20)\n",
        "\n",
        "ax2 = plt.subplot(2, 1, 2)\n",
        "sns.heatmap(cm_test_df, annot_kws = {\"fontsize\": 15}, linewidths = 1,\\\n",
        "            linecolor = 'black', cmap = 'Blues', annot = True ,fmt = 'g',\\\n",
        "            cbar = False, ax = ax2)\n",
        "ax2.set_title(\"Confusion Matrix for Test set\", fontsize = 25)\n",
        "ax2.tick_params(labelsize = 20)\n",
        "plt.show() "
      ],
      "execution_count": null,
      "outputs": [
        {
          "output_type": "display_data",
          "data": {
            "image/png": "[encoded data removed]",
            "text/plain": [
              "<Figure size 576x1152 with 2 Axes>"
            ]
          },
          "metadata": {
            "tags": [],
            "needs_background": "light"
          }
        }
      ]
    },
    {
      "cell_type": "markdown",
      "metadata": {
        "id": "sEKS2o2UKuWS"
      },
      "source": [
        "### Make Predictions"
      ]
    },
    {
      "cell_type": "code",
      "metadata": {
        "id": "RSXUUO5wIl6V",
        "outputId": "566db78b-d2aa-40f3-b4aa-74b8c1b34da2"
      },
      "source": [
        "# Make predictions on the test set for a given label\n",
        "label = 5 # Actual label for which prediction will be done\n",
        "act_ind = np.nonzero(y_test == label)[0] # Indices in test set corresponding to above label\n",
        "\n",
        "# Obtain indices corresponding to correct and incorrect predictions for the given label\n",
        "incorr_pred_ind = act_ind[np.nonzero(y_test_pred[act_ind] != label)[0]]\n",
        "corr_pred_ind = np.setdiff1d(act_ind, incorr_pred_ind)\n",
        "\n",
        "fig = plt.figure(figsize = (10, 5))\n",
        "\n",
        "# Example of a correct prediction\n",
        "ax1 = plt.subplot(1, 2, 1)\n",
        "ind = np.random.choice(corr_pred_ind, 1) # Choose a random index from corr_pred_ind\n",
        "X = X_test[ind[0], :, :, 0]\n",
        "plt.imshow(X, cmap = 'gray');\n",
        "temp = plt.text(4, -11, 'Correct Prediction', fontsize = 'xx-large')\n",
        "temp = plt.text(2, -8, 'Sample index is %d' % ind[0], fontsize = 'xx-large')\n",
        "temp = plt.text(5, -5, 'Actual label is %d' % y_test[ind[0]], fontsize = 'xx-large')\n",
        "temp = plt.text(3, -2, 'Prediced label is %d' % y_test_pred[ind[0]], fontsize = 'xx-large')\n",
        "\n",
        "# Example of an incorrect prediction\n",
        "ax2 = plt.subplot(1, 2, 2)\n",
        "ind = np.random.choice(incorr_pred_ind, 1) # Choose a random index from incorr_pred_ind\n",
        "X = X_test[ind[0], :, :, 0]\n",
        "plt.imshow(X, cmap = 'gray');\n",
        "temp = plt.text(4, -11, 'Incorrect Prediction', fontsize = 'xx-large')\n",
        "temp = plt.text(2, -8, 'Sample index is %d' % ind[0], fontsize = 'xx-large')\n",
        "temp = plt.text(5, -5, 'Actual label is %d' % y_test[ind[0]], fontsize = 'xx-large')\n",
        "temp = plt.text(4, -2, 'Prediced label is %d' % y_test_pred[ind[0]], fontsize = 'xx-large')"
      ],
      "execution_count": null,
      "outputs": [
        {
          "output_type": "display_data",
          "data": {
            "image/png": "[encoded data removed]",
            "text/plain": [
              "<Figure size 720x360 with 2 Axes>"
            ]
          },
          "metadata": {
            "tags": [],
            "needs_background": "light"
          }
        }
      ]
    }
  ]
}