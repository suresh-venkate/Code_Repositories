{
  "nbformat": 4,
  "nbformat_minor": 0,
  "metadata": {
    "accelerator": "GPU",
    "colab": {
      "name": "TF_ObjDet_Inference_Only.ipynb",
      "provenance": [],
      "toc_visible": true,
      "include_colab_link": true
    },
    "kernelspec": {
      "display_name": "Python 3",
      "language": "python",
      "name": "python3"
    },
    "language_info": {
      "codemirror_mode": {
        "name": "ipython",
        "version": 3
      },
      "file_extension": ".py",
      "mimetype": "text/x-python",
      "name": "python",
      "nbconvert_exporter": "python",
      "pygments_lexer": "ipython3",
      "version": "3.8.5"
    },
    "toc": {
      "base_numbering": 1,
      "nav_menu": {},
      "number_sections": true,
      "sideBar": true,
      "skip_h1_title": false,
      "title_cell": "Table of Contents",
      "title_sidebar": "Contents",
      "toc_cell": false,
      "toc_position": {
        "height": "calc(100% - 180px)",
        "left": "10px",
        "top": "150px",
        "width": "256px"
      },
      "toc_section_display": true,
      "toc_window_display": true
    }
  },
  "cells": [
    {
      "cell_type": "markdown",
      "metadata": {
        "id": "view-in-github",
        "colab_type": "text"
      },
      "source": [
        "<a href=\"https://colab.research.google.com/github/suresh-venkate/Code_Repositories/blob/main/Deep_Learning/Computer_Vision/Object_Detection/TF_Object_Detection_API/End_to_End_Training/TF_ObjDet_E2E_Inference.ipynb\" target=\"_parent\"><img src=\"https://colab.research.google.com/assets/colab-badge.svg\" alt=\"Open In Colab\"/></a>"
      ]
    },
    {
      "cell_type": "markdown",
      "metadata": {
        "id": "GjRJNNfAyie7"
      },
      "source": [
        "# TensorFlow Object Detection API - Inference Only\n",
        "\n",
        "This notebook shows how to use the TensorFlow Object Detection API for performing inference on an image using a model pre-trained on the COCO dataset."
      ]
    },
    {
      "cell_type": "code",
      "metadata": {
        "id": "BaBz-JaNFuZ0"
      },
      "source": [
        "from google.colab import drive\n",
        "drive.mount('/content/drive')"
      ],
      "execution_count": null,
      "outputs": []
    },
    {
      "cell_type": "markdown",
      "metadata": {
        "id": "nbhaXg_IzFky"
      },
      "source": [
        "# Copy relevant files from GitHub"
      ]
    },
    {
      "cell_type": "code",
      "metadata": {
        "id": "11W2HCBwy0f2"
      },
      "source": [
        "%%capture\n",
        "\n",
        "!wget https://raw.githubusercontent.com/suresh-venkate/Code_Repositories/main/Deep_Learning/Computer_Vision/Object_Detection/TF_Object_Detection_API/End_to_End_Training/utils.py\n",
        "!wget https://raw.githubusercontent.com/suresh-venkate/Code_Repositories/main/Deep_Learning/Computer_Vision/Object_Detection/TF_Object_Detection_API/Pretrained_Model_Inference_Only/Images.zip\n",
        "\n",
        "!unzip Images.zip"
      ],
      "execution_count": null,
      "outputs": []
    },
    {
      "cell_type": "markdown",
      "metadata": {
        "id": "cZ1qCqogFn09"
      },
      "source": [
        "# Copy model and label class mapping from Google Drive"
      ]
    },
    {
      "cell_type": "code",
      "metadata": {
        "id": "Drd9YX9eF0ge"
      },
      "source": [
        "# Copy model directory\n",
        "!cp -r /content/drive/MyDrive/AI_ML_Folder/Colab_Directory/Model_Outputs/SSD_Model_Trained_Pascal_VOC/detection_model .\n",
        "\n",
        "# Copy label-class mapping pkl file\n",
        "!cp /content/drive/MyDrive/AI_ML_Folder/Colab_Directory/Model_Outputs/SSD_Model_Trained_Pascal_VOC/pascal_voc_label.pkl ."
      ],
      "execution_count": null,
      "outputs": []
    },
    {
      "cell_type": "markdown",
      "metadata": {
        "id": "xAKq6QAqyifN"
      },
      "source": [
        "# Import required libraries"
      ]
    },
    {
      "cell_type": "code",
      "metadata": {
        "id": "yoIDG10ryifO"
      },
      "source": [
        "import pickle\n",
        "import numpy as np\n",
        "import pandas as pd\n",
        "import matplotlib.pyplot as plt\n",
        "import matplotlib.image as mpimg\n",
        "import datetime\n",
        "import pytz\n",
        "import time\n",
        "import os\n",
        "import tensorflow as tf\n",
        "\n",
        "from PIL import Image, ImageDraw, ImageFont\n",
        "from utils import draw_boxes_and_labels\n",
        "\n",
        "%matplotlib inline"
      ],
      "execution_count": null,
      "outputs": []
    },
    {
      "cell_type": "markdown",
      "metadata": {
        "id": "WxBaDP43yifP"
      },
      "source": [
        "# Pascal VOC index to label mapping - Load from disk"
      ]
    },
    {
      "cell_type": "code",
      "metadata": {
        "id": "3t7Q8pd7yifQ",
        "scrolled": true
      },
      "source": [
        "# Pickle file where index to label mapping of Pascal VCO labels are stored\n",
        "fname = \"/content/pascal_voc_label.pkl\" \n",
        "with open(fname, \"rb\") as file:\n",
        "    pascal_ind_class_dict = pickle.load(file)\n",
        "    \n",
        "print(f\"Type of pascal_ind_label_dict is {type(pascal_ind_class_dict)}\")\n",
        "print()\n",
        "print(f\"Keys of pascal_ind_label_dict are:\")\n",
        "print(\"--------------------------------\")\n",
        "print(pascal_ind_class_dict.keys())\n",
        "print()\n",
        "print(\"First five elements of pascal_ind_label_dict are:\")\n",
        "print(\"-----------------------------------------------\")\n",
        "for ind in range(1, 6, 1):\n",
        "    print(pascal_ind_class_dict[ind])"
      ],
      "execution_count": null,
      "outputs": []
    },
    {
      "cell_type": "markdown",
      "metadata": {
        "id": "ENIOKjXPyifR"
      },
      "source": [
        "# Download and load model"
      ]
    },
    {
      "cell_type": "code",
      "metadata": {
        "id": "EnVUma5pyifS",
        "scrolled": false
      },
      "source": [
        "%%capture\n",
        "\n",
        "### This step is already completed and the model has been saved to disk.\n",
        "### Will be re-loaded from disk for subsequent runs.\n",
        "\n",
        "# Download and extract EfficientNet model from TensorFlow model zoo\n",
        "# !wget http://download.tensorflow.org/models/object_detection/tf2/20200711/efficientdet_d5_coco17_tpu-32.tar.gz    \n",
        "# !tar -xf efficientdet_d5_coco17_tpu-32.tar.gz\n",
        "# !rm efficientdet_d5_coco17_tpu-32.tar.gz"
      ],
      "execution_count": null,
      "outputs": []
    },
    {
      "cell_type": "code",
      "metadata": {
        "id": "huV6xRRvyifT"
      },
      "source": [
        "%%capture\n",
        "# Define path where model is stored\n",
        "model_path = '/content/detection_model/saved_model'\n",
        "# Load model from path\n",
        "model = tf.saved_model.load(model_path)"
      ],
      "execution_count": null,
      "outputs": []
    },
    {
      "cell_type": "markdown",
      "metadata": {
        "id": "xf9kfZ6syifU"
      },
      "source": [
        "# Load input image"
      ]
    },
    {
      "cell_type": "code",
      "metadata": {
        "id": "WlMoARxqyifV"
      },
      "source": [
        "inp_img_path = \"./Images/image6.jpg\"\n",
        "inp_img_pil = Image.open(inp_img_path) # Load image as a PIL object\n",
        "inp_img_arr = np.array(inp_img_pil) # Convert PIL object to numpy array\n",
        "inp_img_arr = np.expand_dims(inp_img_arr, axis = 0) # Add batch axis\n",
        "print(f\"Shape of inp_img_arr is {inp_img_arr.shape}\")"
      ],
      "execution_count": null,
      "outputs": []
    },
    {
      "cell_type": "markdown",
      "metadata": {
        "id": "yOFuk_VpyifV"
      },
      "source": [
        "# Generate output from model"
      ]
    },
    {
      "cell_type": "code",
      "metadata": {
        "id": "FSCpMYDiyifV"
      },
      "source": [
        "model_out = model(inp_img_arr)"
      ],
      "execution_count": null,
      "outputs": []
    },
    {
      "cell_type": "code",
      "metadata": {
        "id": "_EznNlEUyifW",
        "scrolled": false
      },
      "source": [
        "print(f\"Type of model_out is {type(model_out)}\")\n",
        "print()\n",
        "print(\"Keys of model_out dict are:\")\n",
        "print(\"---------------------------\")\n",
        "print(model_out.keys())"
      ],
      "execution_count": null,
      "outputs": []
    },
    {
      "cell_type": "markdown",
      "metadata": {
        "id": "_k_8e4-7yifX"
      },
      "source": [
        "# Plot image with BBoxes"
      ]
    },
    {
      "cell_type": "code",
      "metadata": {
        "id": "Mo2WUF2FyifX",
        "scrolled": false
      },
      "source": [
        "scores = model_out['detection_scores'][0].numpy() # Extract scores for each box\n",
        "boxes = model_out['detection_boxes'][0].numpy() # Extract box co-ordinates\n",
        "class_ind = model_out['detection_classes'][0].numpy().astype('int32') # Extract class indices\n",
        "score_threshold = 0.4 # Boxes with scores below this threshold will be discarded\n",
        "norm_coords = True # Scale box co-ordinates w.r.t image dimensions\n",
        "box_thickness = 4 # Thickness to use for drawing BBOX\n",
        "\n",
        "# Draw box and labels on image\n",
        "inp_img_pil_w_bbox = draw_boxes_and_labels(inp_img_pil, scores, boxes, class_ind,\\\n",
        "                                           pascal_ind_class_dict, score_threshold = 0.6,\\\n",
        "                                           norm_coords = True, box_thickness = 2, font_size = 25)\n",
        "inp_img_pil_w_bbox"
      ],
      "execution_count": null,
      "outputs": []
    },
    {
      "cell_type": "markdown",
      "metadata": {
        "id": "TteNnAexyifY"
      },
      "source": [
        "# Other Images"
      ]
    },
    {
      "cell_type": "markdown",
      "metadata": {
        "id": "s4QfC1XR7wGN"
      },
      "source": [
        "## Function: plt_img_w_bboxes"
      ]
    },
    {
      "cell_type": "code",
      "metadata": {
        "id": "FqSmZGDfyifY"
      },
      "source": [
        "def plt_img_w_bboxes(inp_img_path, score_threshold = 0.4, norm_coords = True, box_thickness = 3,\\\n",
        "                     font_size = 25):\n",
        "\n",
        "    '''\n",
        "    Take an input image path, extract the image, run inference on the image to get bounding boxes\n",
        "    Plot bounding boxes and labels on top of the image\n",
        "    '''\n",
        "    \n",
        "    inp_img_pil = Image.open(inp_img_path) # Load image as a PIL object\n",
        "    inp_img_arr = np.array(inp_img_pil) # Convert PIL object to numpy array\n",
        "    inp_img_arr = np.expand_dims(inp_img_arr, axis = 0) # Add batch axis\n",
        "    model_out = model(inp_img_arr) # Pass input image through model\n",
        "    \n",
        "    scores = model_out['detection_scores'][0].numpy() # Extract scores for each box\n",
        "    boxes = model_out['detection_boxes'][0].numpy() # Extract box co-ordinates\n",
        "    class_ind = model_out['detection_classes'][0].numpy().astype('int32') # Extract class indices\n",
        "    \n",
        "    # Draw box and labels on image\n",
        "    inp_img_pil_w_bbox = draw_boxes_and_labels(inp_img_pil, scores, boxes, class_ind,\\\n",
        "                                               pascal_ind_class_dict,\\\n",
        "                                               score_threshold = score_threshold,\\\n",
        "                                               norm_coords = norm_coords,\\\n",
        "                                               box_thickness = box_thickness, font_size = font_size)\n",
        "    \n",
        "    return inp_img_pil_w_bbox"
      ],
      "execution_count": null,
      "outputs": []
    },
    {
      "cell_type": "markdown",
      "metadata": {
        "id": "Y5JsFztpyifZ"
      },
      "source": [
        "## Image 1"
      ]
    },
    {
      "cell_type": "code",
      "metadata": {
        "id": "zhPJM2rIyifa",
        "scrolled": false
      },
      "source": [
        "inp_img_path = \"./Images/image1.jpg\"\n",
        "plt_img_w_bboxes(inp_img_path, score_threshold = 0.6)"
      ],
      "execution_count": null,
      "outputs": []
    },
    {
      "cell_type": "markdown",
      "metadata": {
        "id": "BlNBOUMfyifb"
      },
      "source": [
        "## Image 2"
      ]
    },
    {
      "cell_type": "code",
      "metadata": {
        "id": "PpHQttuayifb"
      },
      "source": [
        "inp_img_path = \"./Images/image2.jpg\"\n",
        "plt_img_w_bboxes(inp_img_path, score_threshold = 0.6)"
      ],
      "execution_count": null,
      "outputs": []
    }
  ]
}