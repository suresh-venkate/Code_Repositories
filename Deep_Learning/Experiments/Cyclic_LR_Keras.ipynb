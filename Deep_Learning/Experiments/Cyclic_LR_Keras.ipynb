{
  "nbformat": 4,
  "nbformat_minor": 0,
  "metadata": {
    "kernelspec": {
      "display_name": "Python 3",
      "language": "python",
      "name": "python3"
    },
    "language_info": {
      "codemirror_mode": {
        "name": "ipython",
        "version": 3
      },
      "file_extension": ".py",
      "mimetype": "text/x-python",
      "name": "python",
      "nbconvert_exporter": "python",
      "pygments_lexer": "ipython3",
      "version": "3.8.5"
    },
    "toc": {
      "base_numbering": 1,
      "nav_menu": {},
      "number_sections": true,
      "sideBar": true,
      "skip_h1_title": false,
      "title_cell": "Table of Contents",
      "title_sidebar": "Contents",
      "toc_cell": false,
      "toc_position": {},
      "toc_section_display": true,
      "toc_window_display": false
    },
    "colab": {
      "name": "Cyclic_LR_Keras.ipynb",
      "provenance": [],
      "toc_visible": true,
      "include_colab_link": true
    },
    "accelerator": "GPU"
  },
  "cells": [
    {
      "cell_type": "markdown",
      "metadata": {
        "id": "view-in-github",
        "colab_type": "text"
      },
      "source": [
        "<a href=\"https://colab.research.google.com/github/suresh-venkate/Code_Repositories/blob/main/Deep_Learning/Experiments/Cyclic_LR_Keras.ipynb\" target=\"_parent\"><img src=\"https://colab.research.google.com/assets/colab-badge.svg\" alt=\"Open In Colab\"/></a>"
      ]
    },
    {
      "cell_type": "code",
      "metadata": {
        "id": "ckppfXy8_EDn",
        "outputId": "a62105b1-b76e-4d4c-fccb-03c5bf38faae",
        "colab": {
          "base_uri": "https://localhost:8080/"
        }
      },
      "source": [
        "!wget https://raw.githubusercontent.com/bckenstler/CLR/master/clr_callback.py"
      ],
      "execution_count": 1,
      "outputs": [
        {
          "output_type": "stream",
          "text": [
            "--2021-07-27 08:03:31--  https://raw.githubusercontent.com/bckenstler/CLR/master/clr_callback.py\n",
            "Resolving raw.githubusercontent.com (raw.githubusercontent.com)... 185.199.108.133, 185.199.109.133, 185.199.110.133, ...\n",
            "Connecting to raw.githubusercontent.com (raw.githubusercontent.com)|185.199.108.133|:443... connected.\n",
            "HTTP request sent, awaiting response... 200 OK\n",
            "Length: 5398 (5.3K) [text/plain]\n",
            "Saving to: ‘clr_callback.py’\n",
            "\n",
            "\rclr_callback.py       0%[                    ]       0  --.-KB/s               \rclr_callback.py     100%[===================>]   5.27K  --.-KB/s    in 0s      \n",
            "\n",
            "2021-07-27 08:03:31 (74.8 MB/s) - ‘clr_callback.py’ saved [5398/5398]\n",
            "\n"
          ],
          "name": "stdout"
        }
      ]
    },
    {
      "cell_type": "code",
      "metadata": {
        "id": "PE2GRsrJ_Cb0"
      },
      "source": [
        "import numpy as np\n",
        "import matplotlib.pyplot as plt\n",
        "%matplotlib inline\n",
        "\n",
        "from clr_callback import *\n",
        "from keras.optimizers import *\n",
        "from keras.models import Sequential, Model\n",
        "from keras.layers import Dense, Activation, Input"
      ],
      "execution_count": 7,
      "outputs": []
    },
    {
      "cell_type": "code",
      "metadata": {
        "id": "C57skAIB_Cb2",
        "outputId": "ab36c199-dcea-4494-954c-edd4c18786fd",
        "colab": {
          "base_uri": "https://localhost:8080/"
        }
      },
      "source": [
        "inp = Input(shape=(15,))                \n",
        "x = Dense(10, activation='relu')(inp)\n",
        "x = Dense(1, activation='sigmoid')(x)\n",
        "model = Model(inp, x)\n",
        "model.compile(optimizer=SGD(0.1), loss='binary_crossentropy', metrics=['accuracy'])\n",
        "print(model.summary())"
      ],
      "execution_count": 9,
      "outputs": [
        {
          "output_type": "stream",
          "text": [
            "Model: \"model_1\"\n",
            "_________________________________________________________________\n",
            "Layer (type)                 Output Shape              Param #   \n",
            "=================================================================\n",
            "input_2 (InputLayer)         [(None, 15)]              0         \n",
            "_________________________________________________________________\n",
            "dense_2 (Dense)              (None, 10)                160       \n",
            "_________________________________________________________________\n",
            "dense_3 (Dense)              (None, 1)                 11        \n",
            "=================================================================\n",
            "Total params: 171\n",
            "Trainable params: 171\n",
            "Non-trainable params: 0\n",
            "_________________________________________________________________\n",
            "None\n"
          ],
          "name": "stdout"
        }
      ]
    },
    {
      "cell_type": "code",
      "metadata": {
        "id": "_7f79aVq_xwA",
        "outputId": "38662a06-579c-45f1-c04f-de3e2e4d2129",
        "colab": {
          "base_uri": "https://localhost:8080/"
        }
      },
      "source": [
        "X = np.random.rand(2000000,15)\n",
        "Y = np.random.randint(0,2,size=2000000)\n",
        "print(X.shape)\n",
        "print(Y.shape)"
      ],
      "execution_count": 8,
      "outputs": [
        {
          "output_type": "stream",
          "text": [
            "(2000000, 15)\n",
            "(2000000,)\n"
          ],
          "name": "stdout"
        }
      ]
    },
    {
      "cell_type": "code",
      "metadata": {
        "id": "JYM721TyAA_k",
        "outputId": "104c22a3-f5b7-46ca-c11f-446ef689f8c9",
        "colab": {
          "base_uri": "https://localhost:8080/"
        }
      },
      "source": [
        "clr_triangular = CyclicLR(mode='triangular')\n",
        "hist = model.fit(X, Y, batch_size=2000, epochs=3, callbacks=[clr_triangular], verbose=2)"
      ],
      "execution_count": 28,
      "outputs": [
        {
          "output_type": "stream",
          "text": [
            "Epoch 1/3\n",
            "1000/1000 - 2s - loss: 0.6938 - accuracy: 0.5005\n",
            "Epoch 2/3\n",
            "1000/1000 - 2s - loss: 0.6937 - accuracy: 0.5005\n",
            "Epoch 3/3\n",
            "1000/1000 - 2s - loss: 0.6937 - accuracy: 0.5005\n"
          ],
          "name": "stdout"
        }
      ]
    },
    {
      "cell_type": "code",
      "metadata": {
        "id": "CX8vP8K_CG96",
        "outputId": "bb3cf6a4-8758-4e06-971f-850d495a1de9",
        "colab": {
          "base_uri": "https://localhost:8080/",
          "height": 312
        }
      },
      "source": [
        "plt.xlabel('Training Iterations')\n",
        "plt.ylabel('Learning Rate')\n",
        "plt.title(\"CLR - 'triangular' Policy\")\n",
        "plt.plot(clr_triangular.history['iterations'], clr_triangular.history['lr'])"
      ],
      "execution_count": 29,
      "outputs": [
        {
          "output_type": "execute_result",
          "data": {
            "text/plain": [
              "[<matplotlib.lines.Line2D at 0x7f6bfea0ef10>]"
            ]
          },
          "metadata": {
            "tags": []
          },
          "execution_count": 29
        },
        {
          "output_type": "display_data",
          "data": {
            "image/png": "[encoded data removed]",
            "text/plain": [
              "<Figure size 432x288 with 1 Axes>"
            ]
          },
          "metadata": {
            "tags": [],
            "needs_background": "light"
          }
        }
      ]
    }
  ]
}