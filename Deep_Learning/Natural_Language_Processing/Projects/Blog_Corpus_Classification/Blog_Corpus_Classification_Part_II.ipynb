{
 "cells": [
  {
   "cell_type": "markdown",
   "metadata": {
    "toc": true
   },
   "source": [
    "<h1>Table of Contents<span class=\"tocSkip\"></span></h1>\n",
    "<div class=\"toc\"><ul class=\"toc-item\"><li><span><a href=\"#Blog-corpus-classification\" data-toc-modified-id=\"Blog-corpus-classification-1\"><span class=\"toc-item-num\">1&nbsp;&nbsp;</span>Blog corpus classification</a></span></li><li><span><a href=\"#Download-Links\" data-toc-modified-id=\"Download-Links-2\"><span class=\"toc-item-num\">2&nbsp;&nbsp;</span>Download Links</a></span></li><li><span><a href=\"#Connect-to-Google-Drive\" data-toc-modified-id=\"Connect-to-Google-Drive-3\"><span class=\"toc-item-num\">3&nbsp;&nbsp;</span>Connect to Google Drive</a></span></li><li><span><a href=\"#Import-required-libraries\" data-toc-modified-id=\"Import-required-libraries-4\"><span class=\"toc-item-num\">4&nbsp;&nbsp;</span>Import required libraries</a></span></li><li><span><a href=\"#Set-required-directory-paths\" data-toc-modified-id=\"Set-required-directory-paths-5\"><span class=\"toc-item-num\">5&nbsp;&nbsp;</span>Set required directory paths</a></span></li><li><span><a href=\"#Import-dataset\" data-toc-modified-id=\"Import-dataset-6\"><span class=\"toc-item-num\">6&nbsp;&nbsp;</span>Import dataset</a></span><ul class=\"toc-item\"><li><span><a href=\"#Read-input-data-as-a-dataframe\" data-toc-modified-id=\"Read-input-data-as-a-dataframe-6.1\"><span class=\"toc-item-num\">6.1&nbsp;&nbsp;</span>Read input data as a dataframe</a></span></li><li><span><a href=\"#Data-types-of-each-attribute\" data-toc-modified-id=\"Data-types-of-each-attribute-6.2\"><span class=\"toc-item-num\">6.2&nbsp;&nbsp;</span>Data types of each attribute</a></span></li><li><span><a href=\"#Checking-the-presence-of-missing-values\" data-toc-modified-id=\"Checking-the-presence-of-missing-values-6.3\"><span class=\"toc-item-num\">6.3&nbsp;&nbsp;</span>Checking the presence of missing values</a></span></li></ul></li><li><span><a href=\"#Perform-EDA-on-dataset\" data-toc-modified-id=\"Perform-EDA-on-dataset-7\"><span class=\"toc-item-num\">7&nbsp;&nbsp;</span>Perform EDA on dataset</a></span><ul class=\"toc-item\"><li><span><a href=\"#Shape-of-dataset\" data-toc-modified-id=\"Shape-of-dataset-7.1\"><span class=\"toc-item-num\">7.1&nbsp;&nbsp;</span>Shape of dataset</a></span></li><li><span><a href=\"#Get-some-information-about-bloggers\" data-toc-modified-id=\"Get-some-information-about-bloggers-7.2\"><span class=\"toc-item-num\">7.2&nbsp;&nbsp;</span>Get some information about bloggers</a></span></li><li><span><a href=\"#Count-of-blogs-by-gender\" data-toc-modified-id=\"Count-of-blogs-by-gender-7.3\"><span class=\"toc-item-num\">7.3&nbsp;&nbsp;</span>Count of blogs by gender</a></span></li><li><span><a href=\"#Count-of-blogs-by-age\" data-toc-modified-id=\"Count-of-blogs-by-age-7.4\"><span class=\"toc-item-num\">7.4&nbsp;&nbsp;</span>Count of blogs by age</a></span></li><li><span><a href=\"#Count-of-blogs-by-astrological-sign\" data-toc-modified-id=\"Count-of-blogs-by-astrological-sign-7.5\"><span class=\"toc-item-num\">7.5&nbsp;&nbsp;</span>Count of blogs by astrological sign</a></span></li><li><span><a href=\"#Count-of-blogs-by-industry\" data-toc-modified-id=\"Count-of-blogs-by-industry-7.6\"><span class=\"toc-item-num\">7.6&nbsp;&nbsp;</span>Count of blogs by industry</a></span></li></ul></li><li><span><a href=\"#Define-required-functions\" data-toc-modified-id=\"Define-required-functions-8\"><span class=\"toc-item-num\">8&nbsp;&nbsp;</span>Define required functions</a></span><ul class=\"toc-item\"><li><span><a href=\"#Function:-Get-list-of-all-characters-in-a-corpus\" data-toc-modified-id=\"Function:-Get-list-of-all-characters-in-a-corpus-8.1\"><span class=\"toc-item-num\">8.1&nbsp;&nbsp;</span>Function: Get list of all characters in a corpus</a></span></li><li><span><a href=\"#Function:-Get-list-of-all-words-in-a-corpus\" data-toc-modified-id=\"Function:-Get-list-of-all-words-in-a-corpus-8.2\"><span class=\"toc-item-num\">8.2&nbsp;&nbsp;</span>Function: Get list of all words in a corpus</a></span></li><li><span><a href=\"#Function:-Pre-process-features\" data-toc-modified-id=\"Function:-Pre-process-features-8.3\"><span class=\"toc-item-num\">8.3&nbsp;&nbsp;</span>Function: Pre-process features</a></span></li><li><span><a href=\"#Function:-Get-results-from-fitted-classifier\" data-toc-modified-id=\"Function:-Get-results-from-fitted-classifier-8.4\"><span class=\"toc-item-num\">8.4&nbsp;&nbsp;</span>Function: Get results from fitted classifier</a></span></li></ul></li><li><span><a href=\"#Create-corpus\" data-toc-modified-id=\"Create-corpus-9\"><span class=\"toc-item-num\">9&nbsp;&nbsp;</span>Create corpus</a></span></li><li><span><a href=\"#Load-Glove-Embeddings\" data-toc-modified-id=\"Load-Glove-Embeddings-10\"><span class=\"toc-item-num\">10&nbsp;&nbsp;</span>Load Glove Embeddings</a></span></li><li><span><a href=\"#Generate-averaged-word-embedding-for-corpus-documents\" data-toc-modified-id=\"Generate-averaged-word-embedding-for-corpus-documents-11\"><span class=\"toc-item-num\">11&nbsp;&nbsp;</span>Generate averaged word embedding for corpus documents</a></span></li><li><span><a href=\"#Load-averaged-glove-embedding-arrays-from-disk\" data-toc-modified-id=\"Load-averaged-glove-embedding-arrays-from-disk-12\"><span class=\"toc-item-num\">12&nbsp;&nbsp;</span>Load averaged glove embedding arrays from disk</a></span></li><li><span><a href=\"#Fit-models\" data-toc-modified-id=\"Fit-models-13\"><span class=\"toc-item-num\">13&nbsp;&nbsp;</span>Fit models</a></span></li><li><span><a href=\"#Results-Summary\" data-toc-modified-id=\"Results-Summary-14\"><span class=\"toc-item-num\">14&nbsp;&nbsp;</span>Results Summary</a></span><ul class=\"toc-item\"><li><span><a href=\"#Logistic-Regression\" data-toc-modified-id=\"Logistic-Regression-14.1\"><span class=\"toc-item-num\">14.1&nbsp;&nbsp;</span>Logistic Regression</a></span></li><li><span><a href=\"#Random-Forest-Classifier\" data-toc-modified-id=\"Random-Forest-Classifier-14.2\"><span class=\"toc-item-num\">14.2&nbsp;&nbsp;</span>Random Forest Classifier</a></span></li></ul></li><li><span><a href=\"#Overall-Summary\" data-toc-modified-id=\"Overall-Summary-15\"><span class=\"toc-item-num\">15&nbsp;&nbsp;</span>Overall Summary</a></span></li></ul></div>"
   ]
  },
  {
   "cell_type": "markdown",
   "metadata": {
    "id": "ABNkLH1MgTpe"
   },
   "source": [
    "# Blog corpus classification\n",
    "\n",
    "Problem Statement: Build a NLP classifier which can use input text parameters to determine the label(s) of the blogs in a blog corpus."
   ]
  },
  {
   "cell_type": "markdown",
   "metadata": {
    "id": "s09zPMRuT_39"
   },
   "source": [
    "This is the second notebook of the Blog corpus classification where Glove embeddings are used for fitting the models instead of using tf-idf vectorizer. "
   ]
  },
  {
   "cell_type": "markdown",
   "metadata": {},
   "source": [
    "# Download Links\n",
    "\n",
    "* dataset_path files: [Download Link](https://icedrive.net/0/1dVthqaAHs)\n",
    "\n",
    "    1. corpus_docs_processed.pkl\n",
    "    2. blogtext.csv\n",
    "\n",
    "\n",
    "* Glove Embeddings: [Download Link](https://www.kaggle.com/thanakomsn/glove6b300dtxt)\n",
    "\n",
    "\n",
    "* Training_Info files: [Download Link](https://icedrive.net/0/3eUpPdEcAZ)\n",
    "    1. M1_finalmodel.h5\n",
    "    2. M1_hist.npy\n",
    "    3. M2_finalmodel.h5\n",
    "    4. M2_hist.npy\n",
    "    5. grids_tfidf_logreg_200K.joblib\n",
    "    6. clf_tfidf_logreg_670K.pkl\n",
    "    7. glove_emb_vars.npz\n",
    "    8. clf_glove_logreg_670K.pkl"
   ]
  },
  {
   "cell_type": "markdown",
   "metadata": {
    "id": "lx_Ot7nm1h4B"
   },
   "source": [
    "# Connect to Google Drive"
   ]
  },
  {
   "cell_type": "code",
   "execution_count": 1,
   "metadata": {
    "colab": {
     "base_uri": "https://localhost:8080/"
    },
    "id": "GBeNtN931g3F",
    "outputId": "b63c8af6-5a19-4aee-e65d-6f78967f5b5b"
   },
   "outputs": [
    {
     "name": "stdout",
     "output_type": "stream",
     "text": [
      "Mounted at /content/drive\n"
     ]
    }
   ],
   "source": [
    "### Use this for Google Colab\n",
    "\n",
    "from google.colab import drive\n",
    "drive.mount('/content/drive')"
   ]
  },
  {
   "cell_type": "markdown",
   "metadata": {
    "id": "LdfqovFL1OUk"
   },
   "source": [
    "# Import required libraries"
   ]
  },
  {
   "cell_type": "code",
   "execution_count": 2,
   "metadata": {
    "id": "E2RAw0441OUn"
   },
   "outputs": [],
   "source": [
    "import numpy as np\n",
    "import pandas as pd\n",
    "import matplotlib as mpl\n",
    "import matplotlib.pyplot as plt\n",
    "import seaborn as sns\n",
    "import datetime\n",
    "import pytz\n",
    "import pickle\n",
    "import os\n",
    "import math\n",
    "sns.set(color_codes = True)\n",
    "%matplotlib inline \n",
    "\n",
    "import nltk\n",
    "import re\n",
    "from nltk.corpus import stopwords\n",
    "from nltk.stem import PorterStemmer\n",
    "from nltk.tokenize import RegexpTokenizer\n",
    "\n",
    "from sklearn.feature_extraction.text import CountVectorizer\n",
    "from sklearn.feature_extraction.text import TfidfVectorizer\n",
    "\n",
    "from sklearn.linear_model import LogisticRegression\n",
    "from sklearn.svm import SVC\n",
    "from sklearn.ensemble import RandomForestClassifier\n",
    "from sklearn.multioutput import MultiOutputClassifier\n",
    "from sklearn.pipeline import make_pipeline\n",
    "from sklearn.pipeline import Pipeline\n",
    "\n",
    "from sklearn.model_selection import train_test_split\n",
    "from sklearn.model_selection import ShuffleSplit\n",
    "from sklearn.model_selection import cross_val_score\n",
    "from sklearn.model_selection import cross_validate\n",
    "from sklearn.model_selection import GridSearchCV\n",
    "from sklearn.model_selection import RandomizedSearchCV\n",
    "from sklearn.preprocessing import label_binarize\n",
    "\n",
    "import tensorflow as tf\n",
    "from tensorflow import keras\n",
    "from tensorflow.keras import layers\n",
    "from tensorflow.keras import regularizers\n",
    "from tensorflow.keras import models\n",
    "from tensorflow.keras import Model\n",
    "from tensorflow.keras import optimizers\n",
    "from tensorflow.keras import losses\n",
    "from tensorflow.keras import metrics\n",
    "\n",
    "from tensorflow.keras.models import Sequential \n",
    "from tensorflow.keras.layers import Input, Flatten, Dense, Activation, Dropout\n",
    "from tensorflow.keras.utils import to_categorical\n",
    "\n",
    "from joblib import dump, load\n",
    "\n",
    "from tqdm import tqdm"
   ]
  },
  {
   "cell_type": "code",
   "execution_count": 3,
   "metadata": {
    "id": "qQoiz_7Z1OUo"
   },
   "outputs": [],
   "source": [
    "# Set some plotting and printing ptions\n",
    "mpl.rc('axes', labelsize = 30)\n",
    "mpl.rc('axes', titlesize = 30)\n",
    "mpl.rc('xtick', labelsize = 20)\n",
    "mpl.rc('ytick', labelsize = 20)\n",
    "mpl.rc('legend', fontsize = 20)\n",
    "mpl.rc('figure', titlesize = 40)\n",
    "\n",
    "pd.set_option('precision', 4) # Print 4 decimal places for all output parameters"
   ]
  },
  {
   "cell_type": "markdown",
   "metadata": {
    "id": "thIdZniZ1pDJ"
   },
   "source": [
    "# Set required directory paths"
   ]
  },
  {
   "cell_type": "code",
   "execution_count": 4,
   "metadata": {
    "id": "9g7EUN3U1rpL"
   },
   "outputs": [],
   "source": [
    "### Use this for Google Colab\n",
    "\n",
    "# Define base path for storing all outputs related to model / training\n",
    "out_base_path = \"/content/drive/MyDrive/AI_ML_Folder/Colab_Directory/Model_Outputs_New/NLP_Project_1_Part_I/Training_Info/\"\n",
    "\n",
    "# Define base path of dataset\n",
    "dataset_path = \"/content/drive/MyDrive/AI_ML_Folder/Colab_Directory/Model_Outputs_New/NLP_Project_1_Part_I/Datasets/\""
   ]
  },
  {
   "cell_type": "markdown",
   "metadata": {
    "id": "4UnaKper1OUp"
   },
   "source": [
    "# Import dataset"
   ]
  },
  {
   "cell_type": "markdown",
   "metadata": {
    "id": "HF3sfpVo1OUp"
   },
   "source": [
    "## Read input data as a dataframe"
   ]
  },
  {
   "cell_type": "code",
   "execution_count": 5,
   "metadata": {
    "colab": {
     "base_uri": "https://localhost:8080/",
     "height": 246
    },
    "id": "G3Q4Z6v_1OUp",
    "outputId": "ac96c88d-a92e-4d62-853e-579de4463986",
    "scrolled": true
   },
   "outputs": [
    {
     "data": {
      "text/html": [
       "<div>\n",
       "<style scoped>\n",
       "    .dataframe tbody tr th:only-of-type {\n",
       "        vertical-align: middle;\n",
       "    }\n",
       "\n",
       "    .dataframe tbody tr th {\n",
       "        vertical-align: top;\n",
       "    }\n",
       "\n",
       "    .dataframe thead th {\n",
       "        text-align: right;\n",
       "    }\n",
       "</style>\n",
       "<table border=\"1\" class=\"dataframe\">\n",
       "  <thead>\n",
       "    <tr style=\"text-align: right;\">\n",
       "      <th></th>\n",
       "      <th>id</th>\n",
       "      <th>gender</th>\n",
       "      <th>age</th>\n",
       "      <th>industry</th>\n",
       "      <th>astro_sign</th>\n",
       "      <th>date</th>\n",
       "      <th>text</th>\n",
       "    </tr>\n",
       "  </thead>\n",
       "  <tbody>\n",
       "    <tr>\n",
       "      <th>39533</th>\n",
       "      <td>580228</td>\n",
       "      <td>male</td>\n",
       "      <td>17</td>\n",
       "      <td>Communications-Media</td>\n",
       "      <td>Libra</td>\n",
       "      <td>15,May,2003</td>\n",
       "      <td>Enter the Matrix  Check out the review...</td>\n",
       "    </tr>\n",
       "    <tr>\n",
       "      <th>332150</th>\n",
       "      <td>2560114</td>\n",
       "      <td>male</td>\n",
       "      <td>17</td>\n",
       "      <td>Student</td>\n",
       "      <td>Pisces</td>\n",
       "      <td>02,July,2004</td>\n",
       "      <td>Yo folkz, welcome to day 3 of my junior oly...</td>\n",
       "    </tr>\n",
       "    <tr>\n",
       "      <th>15411</th>\n",
       "      <td>3572043</td>\n",
       "      <td>male</td>\n",
       "      <td>17</td>\n",
       "      <td>Student</td>\n",
       "      <td>Leo</td>\n",
       "      <td>14,June,2004</td>\n",
       "      <td>Last night, I tossed and turned for a f...</td>\n",
       "    </tr>\n",
       "    <tr>\n",
       "      <th>117858</th>\n",
       "      <td>1683973</td>\n",
       "      <td>female</td>\n",
       "      <td>27</td>\n",
       "      <td>indUnk</td>\n",
       "      <td>Cancer</td>\n",
       "      <td>20,September,2001</td>\n",
       "      <td>Another piece of my life in writing - I...</td>\n",
       "    </tr>\n",
       "    <tr>\n",
       "      <th>487456</th>\n",
       "      <td>4051389</td>\n",
       "      <td>male</td>\n",
       "      <td>25</td>\n",
       "      <td>Transportation</td>\n",
       "      <td>Capricorn</td>\n",
       "      <td>28,July,2004</td>\n",
       "      <td>So I signed up for this just to c...</td>\n",
       "    </tr>\n",
       "  </tbody>\n",
       "</table>\n",
       "</div>"
      ],
      "text/plain": [
       "             id  ...                                               text\n",
       "39533    580228  ...          Enter the Matrix  Check out the review...\n",
       "332150  2560114  ...     Yo folkz, welcome to day 3 of my junior oly...\n",
       "15411   3572043  ...         Last night, I tossed and turned for a f...\n",
       "117858  1683973  ...         Another piece of my life in writing - I...\n",
       "487456  4051389  ...               So I signed up for this just to c...\n",
       "\n",
       "[5 rows x 7 columns]"
      ]
     },
     "execution_count": 5,
     "metadata": {
      "tags": []
     },
     "output_type": "execute_result"
    }
   ],
   "source": [
    "#nrowsread = 100000\n",
    "#df_orig = pd.read_csv('blogtext.csv', nrows = nrowsread)\n",
    "df_orig = pd.read_csv(os.path.join(dataset_path, 'blogtext.csv'))\n",
    "df_orig.rename(columns = {'topic': 'industry', 'sign': 'astro_sign'}, inplace = True)\n",
    "df_orig.sample(5)"
   ]
  },
  {
   "cell_type": "code",
   "execution_count": 6,
   "metadata": {
    "colab": {
     "base_uri": "https://localhost:8080/",
     "height": 195
    },
    "id": "1eBu383g1OUq",
    "outputId": "3ec8b84b-2422-4496-8e5b-0288ec018963"
   },
   "outputs": [
    {
     "data": {
      "text/html": [
       "<div>\n",
       "<style scoped>\n",
       "    .dataframe tbody tr th:only-of-type {\n",
       "        vertical-align: middle;\n",
       "    }\n",
       "\n",
       "    .dataframe tbody tr th {\n",
       "        vertical-align: top;\n",
       "    }\n",
       "\n",
       "    .dataframe thead th {\n",
       "        text-align: right;\n",
       "    }\n",
       "</style>\n",
       "<table border=\"1\" class=\"dataframe\">\n",
       "  <thead>\n",
       "    <tr style=\"text-align: right;\">\n",
       "      <th></th>\n",
       "      <th>id</th>\n",
       "      <th>gender</th>\n",
       "      <th>age</th>\n",
       "      <th>industry</th>\n",
       "      <th>astro_sign</th>\n",
       "      <th>text</th>\n",
       "    </tr>\n",
       "  </thead>\n",
       "  <tbody>\n",
       "    <tr>\n",
       "      <th>364533</th>\n",
       "      <td>3390609</td>\n",
       "      <td>male</td>\n",
       "      <td>16</td>\n",
       "      <td>Arts</td>\n",
       "      <td>Taurus</td>\n",
       "      <td>troy was so so. i mean i guess i ju...</td>\n",
       "    </tr>\n",
       "    <tr>\n",
       "      <th>146291</th>\n",
       "      <td>4169714</td>\n",
       "      <td>female</td>\n",
       "      <td>25</td>\n",
       "      <td>indUnk</td>\n",
       "      <td>Libra</td>\n",
       "      <td>I'll have a new story posted soon. Th...</td>\n",
       "    </tr>\n",
       "    <tr>\n",
       "      <th>296212</th>\n",
       "      <td>1474573</td>\n",
       "      <td>female</td>\n",
       "      <td>23</td>\n",
       "      <td>Student</td>\n",
       "      <td>Leo</td>\n",
       "      <td>I spent today watching very f...</td>\n",
       "    </tr>\n",
       "    <tr>\n",
       "      <th>490990</th>\n",
       "      <td>3486214</td>\n",
       "      <td>male</td>\n",
       "      <td>39</td>\n",
       "      <td>indUnk</td>\n",
       "      <td>Taurus</td>\n",
       "      <td>TAMPA, Fla. -- In Game 7 of a Stanley C...</td>\n",
       "    </tr>\n",
       "    <tr>\n",
       "      <th>122585</th>\n",
       "      <td>2224717</td>\n",
       "      <td>male</td>\n",
       "      <td>14</td>\n",
       "      <td>indUnk</td>\n",
       "      <td>Gemini</td>\n",
       "      <td>Ah, another year has passed. Although o...</td>\n",
       "    </tr>\n",
       "  </tbody>\n",
       "</table>\n",
       "</div>"
      ],
      "text/plain": [
       "             id  ...                                               text\n",
       "364533  3390609  ...             troy was so so. i mean i guess i ju...\n",
       "146291  4169714  ...           I'll have a new story posted soon. Th...\n",
       "296212  1474573  ...                   I spent today watching very f...\n",
       "490990  3486214  ...         TAMPA, Fla. -- In Game 7 of a Stanley C...\n",
       "122585  2224717  ...         Ah, another year has passed. Although o...\n",
       "\n",
       "[5 rows x 6 columns]"
      ]
     },
     "execution_count": 6,
     "metadata": {
      "tags": []
     },
     "output_type": "execute_result"
    }
   ],
   "source": [
    "# Drop date column as it will not be used in future processing\n",
    "df_orig.drop(columns = 'date', inplace = True)\n",
    "df_orig.sample(5)"
   ]
  },
  {
   "cell_type": "markdown",
   "metadata": {
    "id": "9y5kJE_51OUr"
   },
   "source": [
    "## Data types of each attribute"
   ]
  },
  {
   "cell_type": "code",
   "execution_count": 7,
   "metadata": {
    "colab": {
     "base_uri": "https://localhost:8080/"
    },
    "id": "6iB0JU4Y1OUr",
    "outputId": "07d046b8-61da-414d-f367-d8c51c6538ae"
   },
   "outputs": [
    {
     "data": {
      "text/plain": [
       "id             int64\n",
       "gender        object\n",
       "age            int64\n",
       "industry      object\n",
       "astro_sign    object\n",
       "text          object\n",
       "dtype: object"
      ]
     },
     "execution_count": 7,
     "metadata": {
      "tags": []
     },
     "output_type": "execute_result"
    }
   ],
   "source": [
    "# Print the data types of all columns\n",
    "df_orig.dtypes"
   ]
  },
  {
   "cell_type": "markdown",
   "metadata": {
    "id": "WjKcQMpo1OUs"
   },
   "source": [
    "<b>'id' and 'age' are of numeric type. All other variables are categorical variables. 'id', however identifies a blogger and hence should be treated as a categorical variable.<b>"
   ]
  },
  {
   "cell_type": "markdown",
   "metadata": {
    "id": "7gaHe_9r1OUs"
   },
   "source": [
    "## Checking the presence of missing values"
   ]
  },
  {
   "cell_type": "code",
   "execution_count": 8,
   "metadata": {
    "colab": {
     "base_uri": "https://localhost:8080/"
    },
    "id": "wMRWC95Y1OUs",
    "outputId": "6f19ed8c-0340-4d94-9e50-649132a8de2b",
    "scrolled": true
   },
   "outputs": [
    {
     "data": {
      "text/plain": [
       "id            0\n",
       "gender        0\n",
       "age           0\n",
       "industry      0\n",
       "astro_sign    0\n",
       "text          0\n",
       "dtype: int64"
      ]
     },
     "execution_count": 8,
     "metadata": {
      "tags": []
     },
     "output_type": "execute_result"
    }
   ],
   "source": [
    "df_orig.isna().sum()"
   ]
  },
  {
   "cell_type": "markdown",
   "metadata": {
    "id": "YEQHzOH41OUt"
   },
   "source": [
    "<b>There are no missing values in any of the columns.</b>"
   ]
  },
  {
   "cell_type": "markdown",
   "metadata": {
    "id": "N91D_oat1OUt"
   },
   "source": [
    "# Perform EDA on dataset"
   ]
  },
  {
   "cell_type": "markdown",
   "metadata": {
    "id": "JiAxHgXj1OUu"
   },
   "source": [
    "## Shape of dataset"
   ]
  },
  {
   "cell_type": "code",
   "execution_count": 9,
   "metadata": {
    "colab": {
     "base_uri": "https://localhost:8080/"
    },
    "id": "ANxWQAFI1OUu",
    "outputId": "f441b8f3-e479-4b92-9628-e680dcffad55",
    "scrolled": false
   },
   "outputs": [
    {
     "name": "stdout",
     "output_type": "stream",
     "text": [
      "Number of blogs in dataset is 681284\n",
      "Number of columns in dataset is 6\n"
     ]
    }
   ],
   "source": [
    "print(\"Number of blogs in dataset is %d\" %(df_orig.shape[0]))\n",
    "print(\"Number of columns in dataset is %d\" %(df_orig.shape[1]))"
   ]
  },
  {
   "cell_type": "markdown",
   "metadata": {
    "id": "UvVmTr7Y1OUu"
   },
   "source": [
    "## Get some information about bloggers"
   ]
  },
  {
   "cell_type": "code",
   "execution_count": 10,
   "metadata": {
    "colab": {
     "base_uri": "https://localhost:8080/",
     "height": 509
    },
    "id": "fJmvv5gV1OUv",
    "outputId": "2eae5d67-8ff7-462c-c67c-69e629acd079"
   },
   "outputs": [
    {
     "name": "stdout",
     "output_type": "stream",
     "text": [
      "Number of unique bloggers is 19320\n",
      "Number of unique male bloggers is 9660\n",
      "Number of unique female bloggers is 9660\n",
      "\n",
      "\n"
     ]
    },
    {
     "data": {
      "image/png": "[encoded data removed]",
      "text/plain": [
       "<Figure size 576x432 with 1 Axes>"
      ]
     },
     "metadata": {
      "needs_background": "light",
      "tags": []
     },
     "output_type": "display_data"
    }
   ],
   "source": [
    "# Number of unique bloggers\n",
    "num_uniq_blog = len(df_orig['id'].unique()) \n",
    "# Number of female bloggers\n",
    "num_fem_blog = df_orig.groupby(['id']).first()['gender'].value_counts().loc['female']\n",
    "# Number of male bloggers\n",
    "num_male_blog = df_orig.groupby(['id']).first()['gender'].value_counts().loc['male']\n",
    "\n",
    "print(\"Number of unique bloggers is %d\" %(num_uniq_blog))\n",
    "print(\"Number of unique male bloggers is %d\" %(num_male_blog))\n",
    "print(\"Number of unique female bloggers is %d\" %(num_fem_blog))\n",
    "print()\n",
    "print()\n",
    "plt.figure(figsize = (8, 6))\n",
    "sns.set(font_scale = 1.3)\n",
    "sns.countplot(x = df_orig.groupby(['id']).first()['gender'])\n",
    "plt.title(\"Count of bloggers by gender\", fontsize = 25)\n",
    "plt.show()"
   ]
  },
  {
   "cell_type": "markdown",
   "metadata": {
    "id": "ehvngikl1OUv"
   },
   "source": [
    "## Count of blogs by gender"
   ]
  },
  {
   "cell_type": "code",
   "execution_count": 11,
   "metadata": {
    "colab": {
     "base_uri": "https://localhost:8080/",
     "height": 492
    },
    "id": "m4mwQykg1OUv",
    "outputId": "3783cb11-56cf-4fa4-8eb3-c0ce2e94a6e9"
   },
   "outputs": [
    {
     "name": "stdout",
     "output_type": "stream",
     "text": [
      "Number of blogs written by male bloggers is 345193\n",
      "Number of blogs written by female bloggers is 336091\n",
      "\n",
      "\n"
     ]
    },
    {
     "data": {
      "image/png": "[encoded data removed]",
      "text/plain": [
       "<Figure size 576x432 with 1 Axes>"
      ]
     },
     "metadata": {
      "tags": []
     },
     "output_type": "display_data"
    }
   ],
   "source": [
    "num_blogs_by_male = df_orig['gender'].value_counts().loc['male']\n",
    "num_blogs_by_female = df_orig['gender'].value_counts().loc['female']\n",
    "print(\"Number of blogs written by male bloggers is %d\" %(num_blogs_by_male))\n",
    "print(\"Number of blogs written by female bloggers is %d\" %(num_blogs_by_female))\n",
    "print()\n",
    "print()\n",
    "plt.figure(figsize = (8, 6))\n",
    "sns.set(font_scale = 1.3)\n",
    "sns.countplot(x = df_orig['gender'])\n",
    "plt.title(\"Count of blogs by gender\", fontsize = 25)\n",
    "plt.show()"
   ]
  },
  {
   "cell_type": "markdown",
   "metadata": {
    "id": "Z7oqb9Nk1OUw"
   },
   "source": [
    "## Count of blogs by age"
   ]
  },
  {
   "cell_type": "code",
   "execution_count": 12,
   "metadata": {
    "colab": {
     "base_uri": "https://localhost:8080/",
     "height": 425
    },
    "id": "A-xz-NzZ1OUw",
    "outputId": "2f22a684-b0ce-40fc-9e15-f97b140442f5",
    "scrolled": false
   },
   "outputs": [
    {
     "data": {
      "image/png": "[encoded data removed]",
      "text/plain": [
       "<Figure size 720x432 with 1 Axes>"
      ]
     },
     "metadata": {
      "tags": []
     },
     "output_type": "display_data"
    }
   ],
   "source": [
    "plt.figure(figsize = (10, 6))\n",
    "sns.set(font_scale = 1.3)\n",
    "sns.countplot(x = df_orig['age'])\n",
    "plt.title(\"Count of blogs by age\", fontsize = 25)\n",
    "plt.show()"
   ]
  },
  {
   "cell_type": "markdown",
   "metadata": {
    "id": "-M0Yr04M1OUx"
   },
   "source": [
    "<b>There are bloggers in three age groups - (13 - 17), (23 - 27), (33 - 48). Lets replace the age column with the following categories:\n",
    "  * Age_10s (13 - 17)\n",
    "  * Age_20s (23 - 27)\n",
    "  * Age_30s (33 - 48)"
   ]
  },
  {
   "cell_type": "code",
   "execution_count": 13,
   "metadata": {
    "colab": {
     "base_uri": "https://localhost:8080/"
    },
    "id": "g_gzLswW1OUx",
    "outputId": "475eaf85-cf89-4db4-f8fb-1e9b17c4fcea"
   },
   "outputs": [
    {
     "data": {
      "text/plain": [
       "array(['Age_10s', 'Age_30s', 'Age_20s'], dtype=object)"
      ]
     },
     "execution_count": 13,
     "metadata": {
      "tags": []
     },
     "output_type": "execute_result"
    }
   ],
   "source": [
    "age_repl_dict = {13:'Age_10s', 14:'Age_10s', 15:'Age_10s', 16:'Age_10s', 17:'Age_10s',\n",
    "                 23:'Age_20s', 24:'Age_20s', 25:'Age_20s', 26:'Age_20s', 27:'Age_20s',\n",
    "                 33:'Age_30s', 34:'Age_30s', 35:'Age_30s', 36:'Age_30s', 37:'Age_30s',\n",
    "                 38:'Age_30s', 39:'Age_30s', 40:'Age_30s', 41:'Age_30s', 42:'Age_30s',                 \n",
    "                 43:'Age_30s', 44:'Age_30s', 45:'Age_30s', 46:'Age_30s', 47:'Age_30s',\n",
    "                 48:'Age_30s'\n",
    "                }\n",
    "df_orig['age'].replace(to_replace = age_repl_dict, inplace = True)\n",
    "df_orig['age'].unique()"
   ]
  },
  {
   "cell_type": "code",
   "execution_count": 14,
   "metadata": {
    "colab": {
     "base_uri": "https://localhost:8080/",
     "height": 425
    },
    "id": "JaiukxcO1OUy",
    "outputId": "b9928f40-48b8-4e27-a63f-e68f5f4963ce"
   },
   "outputs": [
    {
     "data": {
      "image/png": "[encoded data removed]",
      "text/plain": [
       "<Figure size 720x432 with 1 Axes>"
      ]
     },
     "metadata": {
      "tags": []
     },
     "output_type": "display_data"
    }
   ],
   "source": [
    "plt.figure(figsize = (10, 6))\n",
    "sns.set(font_scale = 1.3)\n",
    "sns.countplot(x = df_orig['age'])\n",
    "plt.title(\"Count of blogs by age\", fontsize = 25)\n",
    "plt.show()"
   ]
  },
  {
   "cell_type": "markdown",
   "metadata": {
    "id": "D3AcmKFL1OUz"
   },
   "source": [
    "## Count of blogs by astrological sign"
   ]
  },
  {
   "cell_type": "code",
   "execution_count": 15,
   "metadata": {
    "colab": {
     "base_uri": "https://localhost:8080/",
     "height": 442
    },
    "id": "jD33jKm41OUz",
    "outputId": "b7754077-94d7-4f7c-a7e4-d5ea4ea6fbb0",
    "scrolled": false
   },
   "outputs": [
    {
     "data": {
      "image/png": "[encoded data removed]",
      "text/plain": [
       "<Figure size 1080x432 with 1 Axes>"
      ]
     },
     "metadata": {
      "tags": []
     },
     "output_type": "display_data"
    }
   ],
   "source": [
    "plt.figure(figsize = (15, 6))\n",
    "sns.set(font_scale = 1.3)\n",
    "sns.countplot(x = df_orig['astro_sign'])\n",
    "plt.title(\"Count of blogs by astrological sign\", fontsize = 25)\n",
    "plt.xticks(rotation = 45)\n",
    "plt.show()"
   ]
  },
  {
   "cell_type": "markdown",
   "metadata": {
    "id": "PIlCQAPt1OUz"
   },
   "source": [
    "## Count of blogs by industry"
   ]
  },
  {
   "cell_type": "code",
   "execution_count": 16,
   "metadata": {
    "colab": {
     "base_uri": "https://localhost:8080/",
     "height": 546
    },
    "id": "EtHcmSfT1OU0",
    "outputId": "b30f70c2-4995-4496-be58-e3594ee8b6ad",
    "scrolled": false
   },
   "outputs": [
    {
     "data": {
      "image/png": "[encoded data removed]",
      "text/plain": [
       "<Figure size 1080x432 with 1 Axes>"
      ]
     },
     "metadata": {
      "tags": []
     },
     "output_type": "display_data"
    }
   ],
   "source": [
    "plt.figure(figsize = (15, 6))\n",
    "sns.set(font_scale = 1.3)\n",
    "sns.countplot(x = df_orig['industry'])\n",
    "plt.title(\"Count of blogs by industry\", fontsize = 25)\n",
    "plt.xticks(rotation = 90)\n",
    "plt.show()"
   ]
  },
  {
   "cell_type": "markdown",
   "metadata": {
    "id": "Y0uFQ777e4iX"
   },
   "source": [
    "<b>As seen above, \"IndustryUnknown\" and \"Student\" categories account for most of the blogs and the remaining categories are very less in number each. It will be difficult for any learning algorithm to classify these categories because of the small number of samples available. Lets merge all these other categories into a single category - \"Ind_Other\".</b>"
   ]
  },
  {
   "cell_type": "code",
   "execution_count": 17,
   "metadata": {
    "colab": {
     "base_uri": "https://localhost:8080/"
    },
    "id": "ePgrILCRe4im",
    "outputId": "bf03ee8e-8efd-48bf-c9a4-95b4cfa60148"
   },
   "outputs": [
    {
     "data": {
      "text/plain": [
       "array(['Student', 'Ind_Other', 'indUnk'], dtype=object)"
      ]
     },
     "execution_count": 17,
     "metadata": {
      "tags": []
     },
     "output_type": "execute_result"
    }
   ],
   "source": [
    "ind_repl_list = ['InvestmentBanking', 'Non-Profit', 'Banking',\\\n",
    "                 'Education', 'Engineering', 'Science', 'Communications-Media',\\\n",
    "                 'BusinessServices', 'Sports-Recreation', 'Arts', 'Internet',\\\n",
    "                 'Museums-Libraries', 'Accounting', 'Technology', 'Law',\\\n",
    "                 'Consulting', 'Automotive', 'Religion', 'Fashion', 'Publishing',\\\n",
    "                 'Marketing', 'LawEnforcement-Security', 'HumanResources',\\\n",
    "                 'Telecommunications', 'Military', 'Government', 'Transportation',\\\n",
    "                 'Architecture', 'Advertising', 'Agriculture', 'Biotech',\\\n",
    "                 'RealEstate', 'Manufacturing', 'Construction', 'Chemicals',\\\n",
    "                 'Maritime', 'Tourism', 'Environment']\n",
    "df_orig['industry'].replace(to_replace = ind_repl_list, value = 'Ind_Other', inplace = True)\n",
    "df_orig['industry'].unique()"
   ]
  },
  {
   "cell_type": "code",
   "execution_count": 18,
   "metadata": {
    "colab": {
     "base_uri": "https://localhost:8080/",
     "height": 479
    },
    "id": "x9N32TY3iLIM",
    "outputId": "256021f9-b550-479c-eb05-03468eecd118"
   },
   "outputs": [
    {
     "data": {
      "image/png": "[encoded data removed]",
      "text/plain": [
       "<Figure size 504x504 with 1 Axes>"
      ]
     },
     "metadata": {
      "tags": []
     },
     "output_type": "display_data"
    }
   ],
   "source": [
    "plt.figure(figsize = (7, 7))\n",
    "sns.set(font_scale = 1.3)\n",
    "sns.countplot(x = df_orig['industry'])\n",
    "plt.title(\"Count of blogs by industry\", fontsize = 25)\n",
    "#plt.xticks(rotation = 90)\n",
    "plt.show()"
   ]
  },
  {
   "cell_type": "code",
   "execution_count": 19,
   "metadata": {
    "colab": {
     "base_uri": "https://localhost:8080/"
    },
    "id": "MKUYpai71OU0",
    "outputId": "f99d7742-bdc5-469b-814a-bd05e6bfd0a1"
   },
   "outputs": [
    {
     "name": "stdout",
     "output_type": "stream",
     "text": [
      "Number of individuals for whom industry is unknown is 251015\n"
     ]
    }
   ],
   "source": [
    "print(\"Number of individuals for whom industry is unknown is %d\"\\\n",
    "      %(df_orig['industry'] == 'indUnk').sum())"
   ]
  },
  {
   "cell_type": "markdown",
   "metadata": {
    "id": "-icD0aUV1OU0"
   },
   "source": [
    "<b>There are many individuals for whom the industry is unknown. The number of such individuals is 251015.</b>"
   ]
  },
  {
   "cell_type": "markdown",
   "metadata": {
    "id": "CfrdorwP1OU1"
   },
   "source": [
    "# Define required functions"
   ]
  },
  {
   "cell_type": "markdown",
   "metadata": {
    "id": "WZ1FCZjD1OU1"
   },
   "source": [
    "## Function: Get list of all characters in a corpus"
   ]
  },
  {
   "cell_type": "code",
   "execution_count": 20,
   "metadata": {
    "id": "9QEUc_4W1OU1"
   },
   "outputs": [],
   "source": [
    "def get_char_list(corpus):\n",
    "    \n",
    "    '''\n",
    "    Get a list of lexicographically sorted characters present in corpus\n",
    "    \n",
    "    Arguments:\n",
    "        corpus - Input corpus from which list of characters has to be extracted.\n",
    "    \n",
    "    Returns: \n",
    "        List of all characters in corpus sorted lexicographically.\n",
    "    '''\n",
    "    \n",
    "    all_char_pattern = re.compile(r'.') # Match all characters in corpus except newline\n",
    "    all_char_list = [] # Placeholder to store all characters in corpus\n",
    "\n",
    "    for doc in tqdm(corpus): # Loop through all documents in corpus and extract all characters      \n",
    "        doc = doc.lower() # Convert document to lower-case\n",
    "        matches = all_char_pattern.finditer(doc)\n",
    "        for mat in matches:\n",
    "            all_char_list.append(mat.group(0)) # Append characters from current document\n",
    "\n",
    "    # Get unique characters, convert to list and sort.\n",
    "    uniq_char_list = sorted(list(set(all_char_list)))\n",
    "    \n",
    "    print()\n",
    "    print(\"Number of unique characters is %d\" %len(uniq_char_list))\n",
    "    print()\n",
    "    # print(\"List of unique characters:\")\n",
    "    # print(\"==========================\")\n",
    "    # print(\"{}\".format(uniq_char_list))\n",
    "\n",
    "    return uniq_char_list"
   ]
  },
  {
   "cell_type": "markdown",
   "metadata": {
    "id": "UzX2eDN31OU3"
   },
   "source": [
    "## Function: Get list of all words in a corpus"
   ]
  },
  {
   "cell_type": "code",
   "execution_count": 21,
   "metadata": {
    "id": "d-e40FVB1OU3"
   },
   "outputs": [],
   "source": [
    "def get_words_list(corpus):\n",
    "    \n",
    "    '''\n",
    "    Get a list of all words in the corpus sorted lexicographically. \n",
    "    \n",
    "    Arguments:\n",
    "        corpus - Input corpus from which list of words has to be extracted.\n",
    "    \n",
    "    Returns: \n",
    "        List of all words in corpus sorted lexicographically.\n",
    "    '''\n",
    "    \n",
    "    all_words_list = [] # Placeholder to store all words in corpus\n",
    "\n",
    "    for doc in tqdm(corpus): # Loop through all documents in corpus and extract all words\n",
    "        doc = doc.lower() # Convert document to lower-case\n",
    "        wordlist = doc.split(\" \")\n",
    "        all_words_list.extend(wordlist)\n",
    "\n",
    "    uniq_words_list = sorted(list(set(all_words_list)))\n",
    "\n",
    "    print()\n",
    "    print(\"Number of unique words is %d\" %len(uniq_words_list))\n",
    "    print()\n",
    "    # print(\"First 20 unique words:\")\n",
    "    # print(\"======================\")\n",
    "    # print(\"{}\".format(uniq_words_list[:20]))\n",
    "    # print()\n",
    "    # print(\"Last 20 unique words:\")\n",
    "    # print(\"=====================\")\n",
    "    # print(\"{}\".format(uniq_words_list[-20:]))\n",
    "\n",
    "    return uniq_words_list"
   ]
  },
  {
   "cell_type": "markdown",
   "metadata": {
    "id": "BgseUVtt1OU4"
   },
   "source": [
    "## Function: Pre-process features"
   ]
  },
  {
   "cell_type": "code",
   "execution_count": 22,
   "metadata": {
    "id": "_MAYsOFB1OU4"
   },
   "outputs": [],
   "source": [
    "def preprocess_feat(corpus, stopword_list, stemmer):\n",
    "    \n",
    "    '''\n",
    "    Pre-process each document in corpus. Includes the following:\n",
    "        1. Convert to lower-case\n",
    "        2. Remove html tags\n",
    "        3. Delete single-quote characters (don't will become dont)\n",
    "        3. Replace miscellaneous characters with whitespace\n",
    "        4. Split document into words, perform stemming and merge stemmed words back into document\n",
    "    \n",
    "    Arguments:\n",
    "        corpus - Input corpus.\n",
    "        stemmer - Stemmer object to use for performing stemming\n",
    "    \n",
    "    Returns: \n",
    "        Pre-processed corpus.    \n",
    "    '''\n",
    "\n",
    "    corpus_docs_processed = [] # Placeholder to store processed documents from corpus\n",
    "    for doc in tqdm(corpus): # Loop through all documents in corpus\n",
    "        # Convert document to all lower-case\n",
    "        doc_proc = doc.lower()\n",
    "\n",
    "        # Search for html tags in the current document (if any) and replace them with space\n",
    "        html_tag_patt = re.compile('<.*?>')\n",
    "        doc_proc = re.sub(html_tag_patt, ' ', doc_proc)\n",
    "\n",
    "        # Search for quote character (if any) and delete it\n",
    "        # This will make words like don't = dont and won't = wont\n",
    "        pattern_1 = re.compile(r'[\\']')\n",
    "        doc_proc = re.sub(pattern_1, '', doc_proc)\n",
    "\n",
    "        # Search for miscellaneous characters (if any) and replace them with whitespace\n",
    "        # Standard symbols in QWErtY keyboard to be replaced with whitespace\n",
    "        pattern_2 = re.compile(r'[`|~|!|@|#|$|%|^|&|*|(|)|\\-|_|=|+|\\[|\\]|{|}|\\|;|:|\"|,|.|/|<|>|?]')\n",
    "        doc_proc = re.sub(pattern_2, ' ', doc_proc)\n",
    "\n",
    "        # Split document into list of words, remove stopwords and perform stemming on each word\n",
    "        words = [stemmer.stem(word) for word in doc_proc.split() if word not in stopword_list]  \n",
    "        # Concatenate words back into a document\n",
    "        doc_proc = ''\n",
    "        for word in words:\n",
    "            doc_proc = doc_proc + word + ' '\n",
    "\n",
    "        # Append current processed document to corpus_docs_processed\n",
    "        corpus_docs_processed.append(doc_proc)\n",
    "\n",
    "    return corpus_docs_processed"
   ]
  },
  {
   "cell_type": "markdown",
   "metadata": {
    "id": "Orke25rw1OU5"
   },
   "source": [
    "## Function: Get results from fitted classifier"
   ]
  },
  {
   "cell_type": "code",
   "execution_count": 23,
   "metadata": {
    "id": "hFLx2S-axIVR"
   },
   "outputs": [],
   "source": [
    "def get_results(clf, X_train, X_test, y_train, y_test):\n",
    "    \n",
    "    '''\n",
    "    Function to extract results from fitted classifier\n",
    "    \n",
    "    Arguments:\n",
    "        clf - Fitted classifier\n",
    "        X_train: Training set embedding array\n",
    "        X_test: Test set embedding array\n",
    "        y_train: Training set labels\n",
    "        y_test: Test set labels\n",
    "        \n",
    "    '''    \n",
    "\n",
    "    # Extract individual classifiers for gender, age, industry and astrosign\n",
    "    clf_gender = clf.estimators_[0]\n",
    "    clf_age = clf.estimators_[1]\n",
    "    clf_industry = clf.estimators_[2]\n",
    "    clf_astrosign = clf.estimators_[3]\n",
    "\n",
    "    # Evaluate overall training and test set scores\n",
    "    score_overall_train = clf.score(X_train, y_train)\n",
    "    score_overall_test = clf.score(X_test, y_test)    \n",
    "    \n",
    "    # Evaluate each individual classifier on X_train_tfidf and X_test_tfidf\n",
    "    score_gender_train = clf_gender.score(X_train, y_train[:, 0])\n",
    "    score_gender_test = clf_gender.score(X_test, y_test[:, 0])\n",
    "    score_age_train = clf_age.score(X_train, y_train[:, 1])\n",
    "    score_age_test = clf_age.score(X_test, y_test[:, 1])\n",
    "    score_industry_train = clf_industry.score(X_train, y_train[:, 2])\n",
    "    score_industry_test = clf_industry.score(X_test, y_test[:, 2])\n",
    "    score_astrosign_train = clf_astrosign.score(X_train, y_train[:, 3])\n",
    "    score_astrosign_test = clf_astrosign.score(X_test, y_test[:, 3])\n",
    "\n",
    "    print(\"Training set: Overall score: %0.2f %%\" %(100 * score_overall_train))    \n",
    "    print(\"Training set: Gender score: %0.2f %%\" %(100 * score_gender_train))\n",
    "    print(\"Training set: Age score: %0.2f %%\" %(100 * score_age_train))\n",
    "    print(\"Training set: Industry score: %0.2f %%\" %(100 * score_industry_train))\n",
    "    print(\"Training set: Astrosign score: %0.2f %%\" %(100 * score_astrosign_train))\n",
    "    print()\n",
    "    print(\"Test set: Overall score: %0.2f %%\" %(100 * score_overall_test))        \n",
    "    print(\"Test set: Gender score: %0.2f %%\" %(100 * score_gender_test))\n",
    "    print(\"Test set: Age score: %0.2f %%\" %(100 * score_age_test))\n",
    "    print(\"Test set: Industry score: %0.2f %%\" %(100 * score_industry_test))\n",
    "    print(\"Test set: Astrosign score: %0.2f %%\" %(100 * score_astrosign_test))"
   ]
  },
  {
   "cell_type": "markdown",
   "metadata": {
    "id": "y7oyWLjU1OU7"
   },
   "source": [
    "# Create corpus"
   ]
  },
  {
   "cell_type": "code",
   "execution_count": 24,
   "metadata": {
    "id": "YvFeGYMY1OU7"
   },
   "outputs": [],
   "source": [
    "corpus_docs = df_orig['text'] # Create corpus with all text documents extracted from dataframe"
   ]
  },
  {
   "cell_type": "markdown",
   "metadata": {
    "id": "aKxj3HiLrwXG"
   },
   "source": [
    "# Load Glove Embeddings\n",
    "\n",
    "In this section, the glove embedding matrix is loaded from disk and stored in a dictionary."
   ]
  },
  {
   "cell_type": "code",
   "execution_count": 25,
   "metadata": {
    "colab": {
     "base_uri": "https://localhost:8080/"
    },
    "id": "FwOb7r_LJG-C",
    "outputId": "60ca78f5-71ba-4959-d774-86c4cb12d7b1"
   },
   "outputs": [
    {
     "name": "stderr",
     "output_type": "stream",
     "text": [
      "400000it [00:37, 10597.63it/s]\n"
     ]
    }
   ],
   "source": [
    "glove_embeddings = {}\n",
    "f = open(os.path.join(dataset_path, 'glove.6B.300d.txt'), encoding = \"utf8\")\n",
    "for ind, line in enumerate(tqdm(f)):\n",
    "    values = line.split()\n",
    "    word = values[0]\n",
    "    coefs = np.asarray(values[1:], dtype = 'float32')\n",
    "    glove_embeddings[word] = coefs\n",
    "f.close()"
   ]
  },
  {
   "cell_type": "markdown",
   "metadata": {
    "id": "sM0Ltre_07X_"
   },
   "source": [
    "# Generate averaged word embedding for corpus documents\n",
    "\n",
    "In this section, we will generate the Glove word embeddings for each document. Each document in the corpus will be replaced with the averaged word embedding of all the words in that document.Since this section takes a long time to run, the final train and test features / labels are stored to disk and will be reloaded back from disk for future runs"
   ]
  },
  {
   "cell_type": "code",
   "execution_count": 26,
   "metadata": {
    "id": "GVsw99akEsP7"
   },
   "outputs": [],
   "source": [
    "### This section is commented out since it takes a long time to run\n",
    "\n",
    "# labels = df_orig[['gender', 'age', 'industry', 'astro_sign']] # Get labels\n",
    "# X = list() # Initialize list to store average embedding for each document\n",
    "# y = list() # Initialize list to store labels for each document\n",
    "\n",
    "# words_noglove = list() # Initialize list to store words in the corpus that are not present in Glove embeddings\n",
    "# dropped_docs_ind = list() # List of documents that were dropped because no words in Glove embeddings\n",
    "\n",
    "# # Generate averaged word embedding for each document\n",
    "# for doc_ind, doc in enumerate(tqdm(corpus_docs)): # Loop through entire corpus\n",
    "#   doc_embedding = np.zeros(300) # Initialize array to store averaged embedding for this document\n",
    "#   count = 0 # Initialize counter to count number of embeddings that will be averaged\n",
    "\n",
    "#   words = RegexpTokenizer('\\w+').tokenize(doc)\n",
    "#   words = [word.lower() for word in words]\n",
    "#   words = [re.sub(r'(\\d+)|(_+)', '', word) for word in words]\n",
    "#   words = list(filter(lambda w: w!= '', words))\n",
    "\n",
    "#   for word in words:\n",
    "#     try:\n",
    "#         doc_embedding += glove_embeddings[word]\n",
    "#         count += 1\n",
    "#     except KeyError:\n",
    "#         words_noglove.append(word) # If a word is not in the glove embedding matrix, add to words_noglove      \n",
    "#         continue\n",
    "#   if (count != 0):\n",
    "#     X.append(doc_embedding / count)\n",
    "#     y.append(list(labels.iloc[doc_ind]))\n",
    "#   else: # If no words in a document are part of the glove embeddings, then drop that document\n",
    "#     dropped_docs_ind.append(doc_ind)\n",
    "\n",
    "# X = np.array(X)\n",
    "# y = np.array(y)\n",
    "# print()\n",
    "# print()\n",
    "# print(\"Shape of X is {}\".format(X.shape)) \n",
    "# print(\"Shape of y is {}\".format(y.shape)) \n",
    "# print()\n",
    "\n",
    "# X_train, X_test, y_train, y_test = train_test_split(X, y, test_size = 10000, random_state = 0)\n",
    "# print(\"Shape of X_train is {}\".format(X_train.shape))\n",
    "# print(\"Shape of y_train is {}\".format(y_train.shape))\n",
    "# print(\"Shape of X_test is {}\".format(X_test.shape))\n",
    "# print(\"Shape of y_test is {}\".format(y_test.shape))\n",
    "\n",
    "# file_name = os.path.join(out_base_path, \"glove_emb_vars.npz\")\n",
    "# np.savez(file_name, xtr = X_train, ytr = y_train, xts = X_test, yts = y_test)"
   ]
  },
  {
   "cell_type": "markdown",
   "metadata": {
    "id": "pWt_KGDd1Xyp"
   },
   "source": [
    "# Load averaged glove embedding arrays from disk"
   ]
  },
  {
   "cell_type": "code",
   "execution_count": 27,
   "metadata": {
    "colab": {
     "base_uri": "https://localhost:8080/"
    },
    "id": "RM_Scm7vzmk4",
    "outputId": "83ea7880-3912-488d-c741-3db86f9c9998"
   },
   "outputs": [
    {
     "name": "stdout",
     "output_type": "stream",
     "text": [
      "Shape of X_train is (664125, 300)\n",
      "Shape of y_train is (664125, 4)\n",
      "Shape of X_test is (10000, 300)\n",
      "Shape of y_test is (10000, 4)\n"
     ]
    }
   ],
   "source": [
    "file_name = os.path.join(out_base_path, \"glove_emb_vars.npz\")\n",
    "glove_emb_vars = np.load(file_name)\n",
    "\n",
    "X_train = glove_emb_vars['xtr']\n",
    "y_train = glove_emb_vars['ytr']\n",
    "X_test = glove_emb_vars['xts']\n",
    "y_test = glove_emb_vars['yts']\n",
    "\n",
    "print(\"Shape of X_train is {}\".format(X_train.shape))\n",
    "print(\"Shape of y_train is {}\".format(y_train.shape))\n",
    "print(\"Shape of X_test is {}\".format(X_test.shape))\n",
    "print(\"Shape of y_test is {}\".format(y_test.shape))\n",
    "\n",
    "del glove_emb_vars"
   ]
  },
  {
   "cell_type": "markdown",
   "metadata": {
    "id": "2R_DhS5z1qt2"
   },
   "source": [
    "# Fit models\n",
    "\n",
    "Two separate models are fit on this dataset.\n",
    "   * Logistic regression classifier with entire training set of 670K samples.\n",
    "   * Random forest classifier with a training set of 100K samples."
   ]
  },
  {
   "cell_type": "code",
   "execution_count": 28,
   "metadata": {
    "colab": {
     "base_uri": "https://localhost:8080/"
    },
    "id": "5Q-JfWdFtJqz",
    "outputId": "963d233c-352c-4a73-f275-4795b5389106"
   },
   "outputs": [
    {
     "name": "stdout",
     "output_type": "stream",
     "text": [
      "Started classifier fit at 08:36:02; Completed at 08:36:02. Elapsed time = 0.00 minutes.\n",
      "\n"
     ]
    }
   ],
   "source": [
    "num_train_samples = 100000 # Number of samples to use for the training set\n",
    "X_train_red = X_train[:num_train_samples]\n",
    "y_train_red = y_train[:num_train_samples]\n",
    "\n",
    "# clf = MultiOutputClassifier(LogisticRegression(C = 10), n_jobs = -1)\n",
    "clf = MultiOutputClassifier(RandomForestClassifier(n_jobs = -1))\n",
    "\n",
    "# Start timer\n",
    "start_time = datetime.datetime.now(pytz.timezone('Asia/Kolkata'))\n",
    "print(\"Started classifier fit at %s\" %(start_time.strftime(\"%H:%M:%S\")), end = '; ')\n",
    "\n",
    "## This section is commented out. The fitted classifiers will be loaded back from disk \n",
    "## in the next sections\n",
    "# clf.fit(X_train_red, y_train_red)\n",
    "\n",
    "# End timer\n",
    "end_time = datetime.datetime.now(pytz.timezone('Asia/Kolkata'))\n",
    "elap_time = ((end_time - start_time).total_seconds())/60\n",
    "print(\"Completed at %s. Elapsed time = %0.2f minutes.\" %(end_time.strftime(\"%H:%M:%S\"), elap_time))\n",
    "print()\n",
    "\n",
    "# Store fitted classifier to disk\n",
    "# file_name = os.path.join(out_base_path, \"clf_glove_RF_100K.pkl\")\n",
    "# with open(file_name, \"wb\") as file:\n",
    "#     pickle.dump(clf, file)"
   ]
  },
  {
   "cell_type": "markdown",
   "metadata": {
    "id": "iZF7RWvg76ov"
   },
   "source": [
    "# Results Summary"
   ]
  },
  {
   "cell_type": "markdown",
   "metadata": {
    "id": "takvrkxK78c3"
   },
   "source": [
    "## Logistic Regression"
   ]
  },
  {
   "cell_type": "code",
   "execution_count": 29,
   "metadata": {
    "colab": {
     "base_uri": "https://localhost:8080/"
    },
    "id": "QnR5gaXJ2Mke",
    "outputId": "082336f9-55b3-4c47-be1a-8772dd94305e"
   },
   "outputs": [
    {
     "name": "stdout",
     "output_type": "stream",
     "text": [
      "Training set: Overall score: 2.35 %\n",
      "Training set: Gender score: 63.80 %\n",
      "Training set: Age score: 57.96 %\n",
      "Training set: Industry score: 43.76 %\n",
      "Training set: Astrosign score: 11.99 %\n",
      "\n",
      "Test set: Overall score: 2.43 %\n",
      "Test set: Gender score: 63.95 %\n",
      "Test set: Age score: 58.20 %\n",
      "Test set: Industry score: 44.13 %\n",
      "Test set: Astrosign score: 12.05 %\n"
     ]
    }
   ],
   "source": [
    "# Read fitted classifier from disk\n",
    "file_name = os.path.join(out_base_path, \"clf_glove_logreg_670K.pkl\")\n",
    "with open(file_name, \"rb\") as file:\n",
    "    clf = pickle.load(file)\n",
    "\n",
    "get_results(clf, X_train, X_test, y_train, y_test)"
   ]
  },
  {
   "cell_type": "markdown",
   "metadata": {
    "id": "lDxSHXi9XvwE"
   },
   "source": [
    "<b>These results are slighly worse than the results obtained using the TF-IDF vectorizer with Logistic Regression classifier.</b>"
   ]
  },
  {
   "cell_type": "markdown",
   "metadata": {
    "id": "ZFtrouAjXEmz"
   },
   "source": [
    "## Random Forest Classifier"
   ]
  },
  {
   "cell_type": "code",
   "execution_count": 30,
   "metadata": {
    "colab": {
     "base_uri": "https://localhost:8080/"
    },
    "id": "mKBh5p74XEnB",
    "outputId": "f958e6f2-5e81-48d0-a38a-66f35d4093db"
   },
   "outputs": [
    {
     "name": "stdout",
     "output_type": "stream",
     "text": [
      "Training set: Overall score: 96.68 %\n",
      "Training set: Gender score: 99.16 %\n",
      "Training set: Age score: 99.59 %\n",
      "Training set: Industry score: 98.56 %\n",
      "Training set: Astrosign score: 97.81 %\n",
      "\n",
      "Test set: Overall score: 2.59 %\n",
      "Test set: Gender score: 62.83 %\n",
      "Test set: Age score: 58.17 %\n",
      "Test set: Industry score: 44.14 %\n",
      "Test set: Astrosign score: 11.00 %\n"
     ]
    }
   ],
   "source": [
    "# Read fitted classifier from disk\n",
    "file_name = os.path.join(out_base_path, \"clf_glove_RF_100K.pkl\")\n",
    "with open(file_name, \"rb\") as file:\n",
    "    clf = pickle.load(file)\n",
    "\n",
    "get_results(clf, X_train_red, X_test, y_train_red, y_test)"
   ]
  },
  {
   "cell_type": "markdown",
   "metadata": {
    "id": "jNZI-Pj0ebiT"
   },
   "source": [
    "<b>The RF classifier also achieves similar results on the test set but achieves significantly better results on the training set indicating huge overfitting.</b>"
   ]
  },
  {
   "cell_type": "markdown",
   "metadata": {
    "id": "506skrZgeoEF"
   },
   "source": [
    "# Overall Summary\n",
    "\n",
    "In these two notebooks, we have analyzed four different methods of classifying a blog corpus.\n",
    "\n",
    "* TF-IDF based vectorizer with a Logistic regression classifier.\n",
    "* TF-IDF based vectorizer with a fully-connected neural network based classifier.\n",
    "* Glove embedding based vectorizer with a logistic regression based classifier.\n",
    "* Glove embedding based vectorizer with a random-forest based classifier.\n",
    "\n",
    "In all four cases, the classifiers achieve good performance in predicting 'age' and 'gender' but perform poorly in predicting 'industry' and 'astrological sign'."
   ]
  }
 ],
 "metadata": {
  "colab": {
   "collapsed_sections": [],
   "name": "NLP_Project_I_Part_I_Glove_Suresh_Venkatesan.ipynb",
   "provenance": [],
   "toc_visible": true
  },
  "kernelspec": {
   "display_name": "Python 3",
   "language": "python",
   "name": "python3"
  },
  "language_info": {
   "codemirror_mode": {
    "name": "ipython",
    "version": 3
   },
   "file_extension": ".py",
   "mimetype": "text/x-python",
   "name": "python",
   "nbconvert_exporter": "python",
   "pygments_lexer": "ipython3",
   "version": "3.8.5"
  },
  "toc": {
   "base_numbering": 1,
   "nav_menu": {},
   "number_sections": true,
   "sideBar": true,
   "skip_h1_title": false,
   "title_cell": "Table of Contents",
   "title_sidebar": "Contents",
   "toc_cell": true,
   "toc_position": {
    "height": "calc(100% - 180px)",
    "left": "10px",
    "top": "150px",
    "width": "256px"
   },
   "toc_section_display": true,
   "toc_window_display": true
  }
 },
 "nbformat": 4,
 "nbformat_minor": 1
}
