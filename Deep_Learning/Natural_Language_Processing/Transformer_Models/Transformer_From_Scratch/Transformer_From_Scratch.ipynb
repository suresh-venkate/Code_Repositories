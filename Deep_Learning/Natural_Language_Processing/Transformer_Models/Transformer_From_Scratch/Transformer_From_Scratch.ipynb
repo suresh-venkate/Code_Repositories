{
  "nbformat": 4,
  "nbformat_minor": 0,
  "metadata": {
    "kernelspec": {
      "display_name": "Python 3",
      "language": "python",
      "name": "python3"
    },
    "language_info": {
      "codemirror_mode": {
        "name": "ipython",
        "version": 3
      },
      "file_extension": ".py",
      "mimetype": "text/x-python",
      "name": "python",
      "nbconvert_exporter": "python",
      "pygments_lexer": "ipython3",
      "version": "3.5.2"
    },
    "colab": {
      "name": "Transformer_From_Scratch.ipynb",
      "provenance": [],
      "toc_visible": true,
      "include_colab_link": true
    },
    "accelerator": "GPU"
  },
  "cells": [
    {
      "cell_type": "markdown",
      "metadata": {
        "id": "view-in-github",
        "colab_type": "text"
      },
      "source": [
        "<a href=\"https://colab.research.google.com/github/suresh-venkate/Code_Repositories/blob/main/Deep_Learning/Natural_Language_Processing/Transformer_Models/Transformer_From_Scratch/Transformer_From_Scratch.ipynb\" target=\"_parent\"><img src=\"https://colab.research.google.com/assets/colab-badge.svg\" alt=\"Open In Colab\"/></a>"
      ]
    },
    {
      "cell_type": "markdown",
      "metadata": {
        "id": "FI075CzzZS35"
      },
      "source": [
        "# Transformer from scratch\n",
        "\n",
        "* Reference: Attention is all you need, NIPS 2017\n",
        "* Authors: Ashish Vaswani et.al.\n",
        "* Link to paper: [Link](https://arxiv.org/abs/1706.03762)\n",
        "* All references in the code below refer to this paper unless stated otherwise"
      ]
    },
    {
      "cell_type": "markdown",
      "metadata": {
        "id": "VWbH-n-mYZzA"
      },
      "source": [
        "# Import required libraries"
      ]
    },
    {
      "cell_type": "code",
      "metadata": {
        "id": "5lDHMlknmKxK"
      },
      "source": [
        "%%capture \n",
        "!wget https://raw.githubusercontent.com/suresh-venkate/Code_Repositories/main/Deep_Learning/Natural_Language_Processing/Transformer_Models/Transformer_From_Scratch/transformer_utils.py\n",
        "!pip install torchsummaryX"
      ],
      "execution_count": 1,
      "outputs": []
    },
    {
      "cell_type": "code",
      "metadata": {
        "id": "6MThcSvYYcig"
      },
      "source": [
        "import numpy as np\n",
        "import matplotlib.pyplot as plt\n",
        "import math, copy, time\n",
        "import seaborn\n",
        "seaborn.set_context(context=\"talk\")\n",
        "%matplotlib inline\n",
        "\n",
        "import torch\n",
        "import torch.nn as nn\n",
        "import torch.nn.functional as F\n",
        "\n",
        "from torch.autograd import Variable\n",
        "from torchsummary import summary as ts_summary\n",
        "from torchsummaryX import summary as summaryx\n",
        "from transformer_utils import *"
      ],
      "execution_count": 2,
      "outputs": []
    },
    {
      "cell_type": "markdown",
      "metadata": {
        "id": "m3ru3h5Q-5hN"
      },
      "source": [
        "# Backup"
      ]
    },
    {
      "cell_type": "markdown",
      "metadata": {
        "id": "EwJnfYQeIQGp"
      },
      "source": [
        "## Verify Function: clones"
      ]
    },
    {
      "cell_type": "code",
      "metadata": {
        "id": "mXw8VvRl9Mxm",
        "outputId": "3950e566-5d6c-480a-bad5-d7c4c350aa21",
        "colab": {
          "base_uri": "https://localhost:8080/"
        }
      },
      "source": [
        "class TempModel(nn.Module):\n",
        "  def __init__(self, layer, N):\n",
        "    super(TempModel, self).__init__()\n",
        "    self.layers = clones(layer, N)\n",
        "\n",
        "  def forward(self, x):\n",
        "    for layer in self.layers:\n",
        "      x = layer(x)\n",
        "    return x\n",
        "\n",
        "device = \"cuda\" if torch.cuda.is_available() else \"cpu\"\n",
        "lin_layer = nn.Linear(128, 128)\n",
        "temp_model = TempModel(lin_layer, 4).to(device) # Clone linear layer 4 times\n",
        "ts_summary(temp_model, input_size = (128,))"
      ],
      "execution_count": 3,
      "outputs": [
        {
          "output_type": "stream",
          "name": "stdout",
          "text": [
            "----------------------------------------------------------------\n",
            "        Layer (type)               Output Shape         Param #\n",
            "================================================================\n",
            "            Linear-1                  [-1, 128]          16,512\n",
            "            Linear-2                  [-1, 128]          16,512\n",
            "            Linear-3                  [-1, 128]          16,512\n",
            "            Linear-4                  [-1, 128]          16,512\n",
            "================================================================\n",
            "Total params: 66,048\n",
            "Trainable params: 66,048\n",
            "Non-trainable params: 0\n",
            "----------------------------------------------------------------\n",
            "Input size (MB): 0.00\n",
            "Forward/backward pass size (MB): 0.00\n",
            "Params size (MB): 0.25\n",
            "Estimated Total Size (MB): 0.26\n",
            "----------------------------------------------------------------\n"
          ]
        }
      ]
    },
    {
      "cell_type": "markdown",
      "metadata": {
        "id": "BrzNUSB33Z6S"
      },
      "source": [
        "## Verify Class: Embeddings"
      ]
    },
    {
      "cell_type": "code",
      "metadata": {
        "id": "BvcLFj463cZC",
        "outputId": "ed343223-9763-465a-c7d9-0dae740c86ea",
        "colab": {
          "base_uri": "https://localhost:8080/"
        }
      },
      "source": [
        "device = \"cuda\" if torch.cuda.is_available() else \"cpu\"\n",
        "src_vocab = 11 # 0 to 10\n",
        "d_model = 512\n",
        "nb = 2 # Batch Size\n",
        "nw = 5 # Number of words (or positions) in the input\n",
        "temp_model = Embeddings(d_model, src_vocab).to(device)\n",
        "\n",
        "# Generate nw input samples of length 10 each\n",
        "input = torch.randint(0, 10, (nb, nw)).to(device)\n",
        "output = temp_model(input)\n",
        "\n",
        "print(input.shape, output.shape)"
      ],
      "execution_count": 4,
      "outputs": [
        {
          "output_type": "stream",
          "name": "stdout",
          "text": [
            "torch.Size([2, 5]) torch.Size([2, 5, 512])\n"
          ]
        }
      ]
    },
    {
      "cell_type": "code",
      "source": [
        "input_size = (2, 5)\n",
        "x_sample = torch.zeros(input_size, dtype=torch.long, device=torch.device('cuda'))\n",
        "summaryx(temp_model, x_sample)"
      ],
      "metadata": {
        "id": "WShSz0_6jFA6",
        "outputId": "3adb01ad-d2d8-4b7d-b807-3bdc0756416a",
        "colab": {
          "base_uri": "https://localhost:8080/",
          "height": 303
        }
      },
      "execution_count": 5,
      "outputs": [
        {
          "output_type": "stream",
          "name": "stdout",
          "text": [
            "==================================================\n",
            "      Kernel Shape Output Shape  Params  Mult-Adds\n",
            "Layer                                             \n",
            "0_emb    [512, 11]  [2, 5, 512]    5632       5632\n",
            "--------------------------------------------------\n",
            "                      Totals\n",
            "Total params            5632\n",
            "Trainable params        5632\n",
            "Non-trainable params       0\n",
            "Mult-Adds               5632\n",
            "==================================================\n"
          ]
        },
        {
          "output_type": "execute_result",
          "data": {
            "text/plain": [
              "      Kernel Shape Output Shape  Params  Mult-Adds\n",
              "Layer                                             \n",
              "0_emb    [512, 11]  [2, 5, 512]    5632       5632"
            ],
            "text/html": [
              "\n",
              "  <div id=\"df-fea58e20-64e2-4ff9-b99e-e68c3934f498\">\n",
              "    <div class=\"colab-df-container\">\n",
              "      <div>\n",
              "<style scoped>\n",
              "    .dataframe tbody tr th:only-of-type {\n",
              "        vertical-align: middle;\n",
              "    }\n",
              "\n",
              "    .dataframe tbody tr th {\n",
              "        vertical-align: top;\n",
              "    }\n",
              "\n",
              "    .dataframe thead th {\n",
              "        text-align: right;\n",
              "    }\n",
              "</style>\n",
              "<table border=\"1\" class=\"dataframe\">\n",
              "  <thead>\n",
              "    <tr style=\"text-align: right;\">\n",
              "      <th></th>\n",
              "      <th>Kernel Shape</th>\n",
              "      <th>Output Shape</th>\n",
              "      <th>Params</th>\n",
              "      <th>Mult-Adds</th>\n",
              "    </tr>\n",
              "    <tr>\n",
              "      <th>Layer</th>\n",
              "      <th></th>\n",
              "      <th></th>\n",
              "      <th></th>\n",
              "      <th></th>\n",
              "    </tr>\n",
              "  </thead>\n",
              "  <tbody>\n",
              "    <tr>\n",
              "      <th>0_emb</th>\n",
              "      <td>[512, 11]</td>\n",
              "      <td>[2, 5, 512]</td>\n",
              "      <td>5632</td>\n",
              "      <td>5632</td>\n",
              "    </tr>\n",
              "  </tbody>\n",
              "</table>\n",
              "</div>\n",
              "      <button class=\"colab-df-convert\" onclick=\"convertToInteractive('df-fea58e20-64e2-4ff9-b99e-e68c3934f498')\"\n",
              "              title=\"Convert this dataframe to an interactive table.\"\n",
              "              style=\"display:none;\">\n",
              "        \n",
              "  <svg xmlns=\"http://www.w3.org/2000/svg\" height=\"24px\"viewBox=\"0 0 24 24\"\n",
              "       width=\"24px\">\n",
              "    <path d=\"M0 0h24v24H0V0z\" fill=\"none\"/>\n",
              "    <path d=\"M18.56 5.44l.94 2.06.94-2.06 2.06-.94-2.06-.94-.94-2.06-.94 2.06-2.06.94zm-11 1L8.5 8.5l.94-2.06 2.06-.94-2.06-.94L8.5 2.5l-.94 2.06-2.06.94zm10 10l.94 2.06.94-2.06 2.06-.94-2.06-.94-.94-2.06-.94 2.06-2.06.94z\"/><path d=\"M17.41 7.96l-1.37-1.37c-.4-.4-.92-.59-1.43-.59-.52 0-1.04.2-1.43.59L10.3 9.45l-7.72 7.72c-.78.78-.78 2.05 0 2.83L4 21.41c.39.39.9.59 1.41.59.51 0 1.02-.2 1.41-.59l7.78-7.78 2.81-2.81c.8-.78.8-2.07 0-2.86zM5.41 20L4 18.59l7.72-7.72 1.47 1.35L5.41 20z\"/>\n",
              "  </svg>\n",
              "      </button>\n",
              "      \n",
              "  <style>\n",
              "    .colab-df-container {\n",
              "      display:flex;\n",
              "      flex-wrap:wrap;\n",
              "      gap: 12px;\n",
              "    }\n",
              "\n",
              "    .colab-df-convert {\n",
              "      background-color: #E8F0FE;\n",
              "      border: none;\n",
              "      border-radius: 50%;\n",
              "      cursor: pointer;\n",
              "      display: none;\n",
              "      fill: #1967D2;\n",
              "      height: 32px;\n",
              "      padding: 0 0 0 0;\n",
              "      width: 32px;\n",
              "    }\n",
              "\n",
              "    .colab-df-convert:hover {\n",
              "      background-color: #E2EBFA;\n",
              "      box-shadow: 0px 1px 2px rgba(60, 64, 67, 0.3), 0px 1px 3px 1px rgba(60, 64, 67, 0.15);\n",
              "      fill: #174EA6;\n",
              "    }\n",
              "\n",
              "    [theme=dark] .colab-df-convert {\n",
              "      background-color: #3B4455;\n",
              "      fill: #D2E3FC;\n",
              "    }\n",
              "\n",
              "    [theme=dark] .colab-df-convert:hover {\n",
              "      background-color: #434B5C;\n",
              "      box-shadow: 0px 1px 3px 1px rgba(0, 0, 0, 0.15);\n",
              "      filter: drop-shadow(0px 1px 2px rgba(0, 0, 0, 0.3));\n",
              "      fill: #FFFFFF;\n",
              "    }\n",
              "  </style>\n",
              "\n",
              "      <script>\n",
              "        const buttonEl =\n",
              "          document.querySelector('#df-fea58e20-64e2-4ff9-b99e-e68c3934f498 button.colab-df-convert');\n",
              "        buttonEl.style.display =\n",
              "          google.colab.kernel.accessAllowed ? 'block' : 'none';\n",
              "\n",
              "        async function convertToInteractive(key) {\n",
              "          const element = document.querySelector('#df-fea58e20-64e2-4ff9-b99e-e68c3934f498');\n",
              "          const dataTable =\n",
              "            await google.colab.kernel.invokeFunction('convertToInteractive',\n",
              "                                                     [key], {});\n",
              "          if (!dataTable) return;\n",
              "\n",
              "          const docLinkHtml = 'Like what you see? Visit the ' +\n",
              "            '<a target=\"_blank\" href=https://colab.research.google.com/notebooks/data_table.ipynb>data table notebook</a>'\n",
              "            + ' to learn more about interactive tables.';\n",
              "          element.innerHTML = '';\n",
              "          dataTable['output_type'] = 'display_data';\n",
              "          await google.colab.output.renderOutput(dataTable, element);\n",
              "          const docLink = document.createElement('div');\n",
              "          docLink.innerHTML = docLinkHtml;\n",
              "          element.appendChild(docLink);\n",
              "        }\n",
              "      </script>\n",
              "    </div>\n",
              "  </div>\n",
              "  "
            ]
          },
          "metadata": {},
          "execution_count": 5
        }
      ]
    },
    {
      "cell_type": "markdown",
      "metadata": {
        "id": "aV4dQw7_6RDw"
      },
      "source": [
        "## Verify Class: PositionalEncoding"
      ]
    },
    {
      "cell_type": "code",
      "metadata": {
        "id": "0RR2dxTMAgmO",
        "outputId": "625d681d-9f94-43a9-c215-6098334edc1d",
        "colab": {
          "base_uri": "https://localhost:8080/",
          "height": 350
        }
      },
      "source": [
        "d_model = 20 # Embedding Size\n",
        "nb = 1 # Batch Size\n",
        "nw = 100 # Number of words (or positions) in the input\n",
        "pe = PositionalEncoding(d_model, dropout = 0)\n",
        "input = torch.zeros(nb, nw, d_model)\n",
        "output = pe.forward(input)\n",
        "\n",
        "print(input.shape, output.shape)\n",
        "plt.figure(figsize=(15, 5))\n",
        "plt.plot(np.arange(100), output[0, :, 4:8].numpy())\n",
        "plt.legend([\"dim %d\" %p for p in [4, 5, 6, 7]])\n",
        "plt.show()"
      ],
      "execution_count": 6,
      "outputs": [
        {
          "output_type": "stream",
          "name": "stdout",
          "text": [
            "torch.Size([1, 100, 20]) torch.Size([1, 100, 20])\n"
          ]
        },
        {
          "output_type": "display_data",
          "data": {
            "text/plain": [
              "<Figure size 1080x360 with 1 Axes>"
            ],
            "image/png": "[encoded data removed]"
          },
          "metadata": {
            "needs_background": "light"
          }
        }
      ]
    },
    {
      "cell_type": "markdown",
      "metadata": {
        "id": "_R8ANPCHRyy9"
      },
      "source": [
        "## Verify Class: ScaledDotProductAttention"
      ]
    },
    {
      "cell_type": "code",
      "metadata": {
        "id": "wMYg-_GduO1R",
        "outputId": "54484458-8fd3-4d22-8228-27d6ad87f2d6",
        "colab": {
          "base_uri": "https://localhost:8080/"
        }
      },
      "source": [
        "device = \"cuda\" if torch.cuda.is_available() else \"cpu\"\n",
        "\n",
        "nb = 2 # Batch Size\n",
        "h = 8 # Number of attention heads\n",
        "nw = 5 # Number of words (or positions) in the input\n",
        "dk = 64 # Dimension of Q, K and V vectors\n",
        "scaling = dk ** 0.5\n",
        "\n",
        "attn_dropout = nn.Dropout(p = 0) # Define dropout layer\n",
        "\n",
        "temp_model = ScaledDotProductAttention(scaling).to(device) # SDPA layer\n",
        "\n",
        "Q = torch.randint(low = 0, high = 10, size = (nb, h, nw, dk), dtype = torch.float32)\n",
        "K = torch.clone(Q)\n",
        "V = torch.clone(Q)\n",
        "\n",
        "attn, probs = temp_model(Q, K, V, None, attn_dropout)\n",
        "attn = torch.round(attn)\n",
        "\n",
        "print(Q.shape, attn.shape, probs.shape)\n",
        "print()\n",
        "print(Q[0, 0, :, :5])\n",
        "print()\n",
        "print(probs[0, 0])\n",
        "print()\n",
        "print(attn[0, 0, :, :5])"
      ],
      "execution_count": 7,
      "outputs": [
        {
          "output_type": "stream",
          "name": "stdout",
          "text": [
            "torch.Size([2, 8, 5, 64]) torch.Size([2, 8, 5, 64]) torch.Size([2, 8, 5, 5])\n",
            "\n",
            "tensor([[4., 5., 8., 1., 2.],\n",
            "        [7., 2., 9., 2., 3.],\n",
            "        [2., 3., 5., 6., 9.],\n",
            "        [1., 8., 0., 6., 3.],\n",
            "        [8., 2., 8., 6., 5.]])\n",
            "\n",
            "tensor([[1.0000e+00, 6.8196e-27, 3.2213e-27, 5.5211e-42, 3.3953e-28],\n",
            "        [2.1556e-36, 1.0000e+00, 1.5928e-35, 5.6317e-40, 8.5846e-29],\n",
            "        [1.7362e-20, 2.7159e-19, 1.0000e+00, 7.8281e-32, 1.7021e-22],\n",
            "        [5.3802e-32, 1.7362e-20, 1.4154e-28, 1.0000e+00, 3.4188e-21],\n",
            "        [1.4056e-35, 1.1244e-26, 1.3074e-36, 1.4524e-38, 1.0000e+00]])\n",
            "\n",
            "tensor([[4., 5., 8., 1., 2.],\n",
            "        [7., 2., 9., 2., 3.],\n",
            "        [2., 3., 5., 6., 9.],\n",
            "        [1., 8., 0., 6., 3.],\n",
            "        [8., 2., 8., 6., 5.]])\n"
          ]
        }
      ]
    },
    {
      "cell_type": "markdown",
      "metadata": {
        "id": "xTxaYcNQc6xN"
      },
      "source": [
        "## Verify Class: MultiHeadAttention\n"
      ]
    },
    {
      "cell_type": "code",
      "metadata": {
        "id": "67X-WPO3dBl_",
        "outputId": "d4767bae-d590-4231-a420-b8a5f57ed528",
        "colab": {
          "base_uri": "https://localhost:8080/"
        }
      },
      "source": [
        "device = \"cuda\" if torch.cuda.is_available() else \"cpu\"\n",
        "\n",
        "nb = 2 # Batch Size\n",
        "h = 8 # Number of attention heads\n",
        "nw = 5 # Number of words (or positions) in the input\n",
        "dk = 64 # Dimension of Q, K and V vectors\n",
        "d_model = h * dk\n",
        "\n",
        "temp_model = MultiHeadAttention(h = h, d_model = 512, attn_dropout = 0.0).to(device)\n",
        "\n",
        "Q = torch.randint(0, 10, (nb, nw, (h * dk)), dtype = torch.float32).to(device)\n",
        "K = torch.clone(Q)\n",
        "V = torch.clone(Q)\n",
        "\n",
        "x = temp_model(Q, K, V, mask = None)\n",
        "print(Q.shape, x.shape, temp_model.attn.shape)"
      ],
      "execution_count": 8,
      "outputs": [
        {
          "output_type": "stream",
          "name": "stdout",
          "text": [
            "torch.Size([2, 5, 512]) torch.Size([2, 5, 512]) torch.Size([2, 8, 5, 5])\n"
          ]
        }
      ]
    },
    {
      "cell_type": "markdown",
      "metadata": {
        "id": "YS06XXofFMd5"
      },
      "source": [
        "## Verify Class: (MultiHeadAttention + AddAndNorm)\n"
      ]
    },
    {
      "cell_type": "code",
      "metadata": {
        "id": "3QKTNMa9uWcE",
        "outputId": "35f16f2f-6c77-4b32-ae5c-6f1cfae92983",
        "colab": {
          "base_uri": "https://localhost:8080/"
        }
      },
      "source": [
        "device = \"cuda\" if torch.cuda.is_available() else \"cpu\"\n",
        "nb = 2 # Batch Size\n",
        "h = 8 # Number of attention heads\n",
        "nw = 5 # Number of words (or positions) in the input\n",
        "dk = 64 # Dimension of Q, K and V vectors\n",
        "d_model = h * dk\n",
        "\n",
        "attn = MultiHeadAttention(h = h, d_model = d_model, attn_dropout = 0.0).to(device)\n",
        "addandnorm = AddAndNorm(d_model).to(device)\n",
        "\n",
        "x = torch.randint(0, 10, (nb, nw, (h * dk)), dtype = torch.float32).to(device)\n",
        "print(x.shape)\n",
        "x = addandnorm(x, lambda x: attn(x, x, x))\n",
        "print(x.shape)"
      ],
      "execution_count": 9,
      "outputs": [
        {
          "output_type": "stream",
          "name": "stdout",
          "text": [
            "torch.Size([2, 5, 512])\n",
            "torch.Size([2, 5, 512])\n"
          ]
        }
      ]
    },
    {
      "cell_type": "markdown",
      "metadata": {
        "id": "j2e5fxRFFUTw"
      },
      "source": [
        "## Verify Class: Position-Wise Feed-Forward"
      ]
    },
    {
      "cell_type": "code",
      "source": [
        "device = \"cuda\" if torch.cuda.is_available() else \"cpu\"\n",
        "d_model = 512 # Embedding Size\n",
        "d_ff = 2048 # Intermediate Layer Size\n",
        "PWFFN = PositionwiseFeedForward(d_model, d_ff, 0.0).to(device)\n",
        "ts_summary(PWFFN, input_size = (5, d_model,))"
      ],
      "metadata": {
        "id": "ZmF9o8dRFZHB",
        "outputId": "c46447c8-1edb-432b-9a85-28564076a960",
        "colab": {
          "base_uri": "https://localhost:8080/"
        }
      },
      "execution_count": 10,
      "outputs": [
        {
          "output_type": "stream",
          "name": "stdout",
          "text": [
            "----------------------------------------------------------------\n",
            "        Layer (type)               Output Shape         Param #\n",
            "================================================================\n",
            "            Linear-1              [-1, 5, 2048]       1,050,624\n",
            "              ReLU-2              [-1, 5, 2048]               0\n",
            "            Linear-3               [-1, 5, 512]       1,049,088\n",
            "           Dropout-4               [-1, 5, 512]               0\n",
            "================================================================\n",
            "Total params: 2,099,712\n",
            "Trainable params: 2,099,712\n",
            "Non-trainable params: 0\n",
            "----------------------------------------------------------------\n",
            "Input size (MB): 0.01\n",
            "Forward/backward pass size (MB): 0.20\n",
            "Params size (MB): 8.01\n",
            "Estimated Total Size (MB): 8.21\n",
            "----------------------------------------------------------------\n"
          ]
        }
      ]
    },
    {
      "cell_type": "code",
      "source": [
        "nb = 2 # Batch Size\n",
        "nw = 5 # Number of words (or positions) in the input\n",
        "d_model = 512\n",
        "input = torch.randint(0, 10, (nb, nw, d_model), dtype = torch.float32).to(device)\n",
        "output = PWFFN(input)\n",
        "print(input.shape, output.shape)"
      ],
      "metadata": {
        "id": "NjJS2SNcIhwe",
        "outputId": "0da3e752-9681-400d-b914-e939f490fa3f",
        "colab": {
          "base_uri": "https://localhost:8080/"
        }
      },
      "execution_count": 11,
      "outputs": [
        {
          "output_type": "stream",
          "name": "stdout",
          "text": [
            "torch.Size([2, 5, 512]) torch.Size([2, 5, 512])\n"
          ]
        }
      ]
    },
    {
      "cell_type": "markdown",
      "metadata": {
        "id": "ZBlXPXGjLXpe"
      },
      "source": [
        "## Verify Class: EncoderLayer"
      ]
    },
    {
      "cell_type": "code",
      "source": [
        "d_model = 512 # Embedding Size\n",
        "h = 8 # Number of attention heads\n",
        "d_ff = 2048 # Intermediate Layer Size\n",
        "enc_layer = EncoderLayer(d_model, h, d_ff, 0, 0).to(device)\n",
        "ts_summary(enc_layer, input_size = (5, d_model,))"
      ],
      "metadata": {
        "id": "DdB4jKRBLaZZ",
        "outputId": "cc74ee06-ce26-4592-e617-65a2e94c7763",
        "colab": {
          "base_uri": "https://localhost:8080/"
        }
      },
      "execution_count": 12,
      "outputs": [
        {
          "output_type": "stream",
          "name": "stdout",
          "text": [
            "----------------------------------------------------------------\n",
            "        Layer (type)               Output Shape         Param #\n",
            "================================================================\n",
            "            Linear-1               [-1, 5, 512]         262,144\n",
            "            Linear-2               [-1, 5, 512]         262,144\n",
            "            Linear-3               [-1, 5, 512]         262,144\n",
            "           Softmax-4              [-1, 8, 5, 5]               0\n",
            "           Dropout-5              [-1, 8, 5, 5]               0\n",
            "ScaledDotProductAttention-6  [[-1, 8, 5, 64], [-1, 8, 5, 5]]               0\n",
            "            Linear-7               [-1, 5, 512]         262,144\n",
            "           Dropout-8               [-1, 5, 512]               0\n",
            "MultiHeadAttention-9               [-1, 5, 512]               0\n",
            "        LayerNorm-10               [-1, 5, 512]           1,024\n",
            "       AddAndNorm-11               [-1, 5, 512]               0\n",
            "           Linear-12              [-1, 5, 2048]       1,050,624\n",
            "             ReLU-13              [-1, 5, 2048]               0\n",
            "           Linear-14               [-1, 5, 512]       1,049,088\n",
            "          Dropout-15               [-1, 5, 512]               0\n",
            "PositionwiseFeedForward-16               [-1, 5, 512]               0\n",
            "        LayerNorm-17               [-1, 5, 512]           1,024\n",
            "       AddAndNorm-18               [-1, 5, 512]               0\n",
            "================================================================\n",
            "Total params: 3,150,336\n",
            "Trainable params: 3,150,336\n",
            "Non-trainable params: 0\n",
            "----------------------------------------------------------------\n",
            "Input size (MB): 0.01\n",
            "Forward/backward pass size (MB): 3.49\n",
            "Params size (MB): 12.02\n",
            "Estimated Total Size (MB): 15.52\n",
            "----------------------------------------------------------------\n"
          ]
        }
      ]
    },
    {
      "cell_type": "markdown",
      "metadata": {
        "id": "_BtpmrSz6LOw"
      },
      "source": [
        "## Verify Class: Encoder"
      ]
    },
    {
      "cell_type": "code",
      "source": [
        "d_model = 512 # Embedding Size\n",
        "h = 8 # Number of attention heads\n",
        "d_ff = 2048 # Intermediate Layer Size\n",
        "N = 6 # Number of encoder layers\n",
        "enc = Encoder(d_model, h, d_ff, 0, 0, 6).to(device)\n",
        "ts_summary(enc, input_size = (5, d_model,))"
      ],
      "metadata": {
        "id": "uRt1MRI86MlK",
        "outputId": "bea11799-f764-4528-bf40-152ad3a7b25a",
        "colab": {
          "base_uri": "https://localhost:8080/"
        }
      },
      "execution_count": 13,
      "outputs": [
        {
          "output_type": "stream",
          "name": "stdout",
          "text": [
            "----------------------------------------------------------------\n",
            "        Layer (type)               Output Shape         Param #\n",
            "================================================================\n",
            "         LayerNorm-1               [-1, 5, 512]           1,024\n",
            "            Linear-2               [-1, 5, 512]         262,144\n",
            "            Linear-3               [-1, 5, 512]         262,144\n",
            "            Linear-4               [-1, 5, 512]         262,144\n",
            "           Softmax-5              [-1, 8, 5, 5]               0\n",
            "           Dropout-6              [-1, 8, 5, 5]               0\n",
            "ScaledDotProductAttention-7  [[-1, 8, 5, 64], [-1, 8, 5, 5]]               0\n",
            "            Linear-8               [-1, 5, 512]         262,144\n",
            "           Dropout-9               [-1, 5, 512]               0\n",
            "MultiHeadAttention-10               [-1, 5, 512]               0\n",
            "        LayerNorm-11               [-1, 5, 512]           1,024\n",
            "       AddAndNorm-12               [-1, 5, 512]               0\n",
            "           Linear-13              [-1, 5, 2048]       1,050,624\n",
            "             ReLU-14              [-1, 5, 2048]               0\n",
            "           Linear-15               [-1, 5, 512]       1,049,088\n",
            "          Dropout-16               [-1, 5, 512]               0\n",
            "PositionwiseFeedForward-17               [-1, 5, 512]               0\n",
            "        LayerNorm-18               [-1, 5, 512]           1,024\n",
            "       AddAndNorm-19               [-1, 5, 512]               0\n",
            "     EncoderLayer-20               [-1, 5, 512]               0\n",
            "           Linear-21               [-1, 5, 512]         262,144\n",
            "           Linear-22               [-1, 5, 512]         262,144\n",
            "           Linear-23               [-1, 5, 512]         262,144\n",
            "          Softmax-24              [-1, 8, 5, 5]               0\n",
            "          Dropout-25              [-1, 8, 5, 5]               0\n",
            "ScaledDotProductAttention-26  [[-1, 8, 5, 64], [-1, 8, 5, 5]]               0\n",
            "           Linear-27               [-1, 5, 512]         262,144\n",
            "          Dropout-28               [-1, 5, 512]               0\n",
            "MultiHeadAttention-29               [-1, 5, 512]               0\n",
            "        LayerNorm-30               [-1, 5, 512]           1,024\n",
            "       AddAndNorm-31               [-1, 5, 512]               0\n",
            "           Linear-32              [-1, 5, 2048]       1,050,624\n",
            "             ReLU-33              [-1, 5, 2048]               0\n",
            "           Linear-34               [-1, 5, 512]       1,049,088\n",
            "          Dropout-35               [-1, 5, 512]               0\n",
            "PositionwiseFeedForward-36               [-1, 5, 512]               0\n",
            "        LayerNorm-37               [-1, 5, 512]           1,024\n",
            "       AddAndNorm-38               [-1, 5, 512]               0\n",
            "     EncoderLayer-39               [-1, 5, 512]               0\n",
            "           Linear-40               [-1, 5, 512]         262,144\n",
            "           Linear-41               [-1, 5, 512]         262,144\n",
            "           Linear-42               [-1, 5, 512]         262,144\n",
            "          Softmax-43              [-1, 8, 5, 5]               0\n",
            "          Dropout-44              [-1, 8, 5, 5]               0\n",
            "ScaledDotProductAttention-45  [[-1, 8, 5, 64], [-1, 8, 5, 5]]               0\n",
            "           Linear-46               [-1, 5, 512]         262,144\n",
            "          Dropout-47               [-1, 5, 512]               0\n",
            "MultiHeadAttention-48               [-1, 5, 512]               0\n",
            "        LayerNorm-49               [-1, 5, 512]           1,024\n",
            "       AddAndNorm-50               [-1, 5, 512]               0\n",
            "           Linear-51              [-1, 5, 2048]       1,050,624\n",
            "             ReLU-52              [-1, 5, 2048]               0\n",
            "           Linear-53               [-1, 5, 512]       1,049,088\n",
            "          Dropout-54               [-1, 5, 512]               0\n",
            "PositionwiseFeedForward-55               [-1, 5, 512]               0\n",
            "        LayerNorm-56               [-1, 5, 512]           1,024\n",
            "       AddAndNorm-57               [-1, 5, 512]               0\n",
            "     EncoderLayer-58               [-1, 5, 512]               0\n",
            "           Linear-59               [-1, 5, 512]         262,144\n",
            "           Linear-60               [-1, 5, 512]         262,144\n",
            "           Linear-61               [-1, 5, 512]         262,144\n",
            "          Softmax-62              [-1, 8, 5, 5]               0\n",
            "          Dropout-63              [-1, 8, 5, 5]               0\n",
            "ScaledDotProductAttention-64  [[-1, 8, 5, 64], [-1, 8, 5, 5]]               0\n",
            "           Linear-65               [-1, 5, 512]         262,144\n",
            "          Dropout-66               [-1, 5, 512]               0\n",
            "MultiHeadAttention-67               [-1, 5, 512]               0\n",
            "        LayerNorm-68               [-1, 5, 512]           1,024\n",
            "       AddAndNorm-69               [-1, 5, 512]               0\n",
            "           Linear-70              [-1, 5, 2048]       1,050,624\n",
            "             ReLU-71              [-1, 5, 2048]               0\n",
            "           Linear-72               [-1, 5, 512]       1,049,088\n",
            "          Dropout-73               [-1, 5, 512]               0\n",
            "PositionwiseFeedForward-74               [-1, 5, 512]               0\n",
            "        LayerNorm-75               [-1, 5, 512]           1,024\n",
            "       AddAndNorm-76               [-1, 5, 512]               0\n",
            "     EncoderLayer-77               [-1, 5, 512]               0\n",
            "           Linear-78               [-1, 5, 512]         262,144\n",
            "           Linear-79               [-1, 5, 512]         262,144\n",
            "           Linear-80               [-1, 5, 512]         262,144\n",
            "          Softmax-81              [-1, 8, 5, 5]               0\n",
            "          Dropout-82              [-1, 8, 5, 5]               0\n",
            "ScaledDotProductAttention-83  [[-1, 8, 5, 64], [-1, 8, 5, 5]]               0\n",
            "           Linear-84               [-1, 5, 512]         262,144\n",
            "          Dropout-85               [-1, 5, 512]               0\n",
            "MultiHeadAttention-86               [-1, 5, 512]               0\n",
            "        LayerNorm-87               [-1, 5, 512]           1,024\n",
            "       AddAndNorm-88               [-1, 5, 512]               0\n",
            "           Linear-89              [-1, 5, 2048]       1,050,624\n",
            "             ReLU-90              [-1, 5, 2048]               0\n",
            "           Linear-91               [-1, 5, 512]       1,049,088\n",
            "          Dropout-92               [-1, 5, 512]               0\n",
            "PositionwiseFeedForward-93               [-1, 5, 512]               0\n",
            "        LayerNorm-94               [-1, 5, 512]           1,024\n",
            "       AddAndNorm-95               [-1, 5, 512]               0\n",
            "     EncoderLayer-96               [-1, 5, 512]               0\n",
            "           Linear-97               [-1, 5, 512]         262,144\n",
            "           Linear-98               [-1, 5, 512]         262,144\n",
            "           Linear-99               [-1, 5, 512]         262,144\n",
            "         Softmax-100              [-1, 8, 5, 5]               0\n",
            "         Dropout-101              [-1, 8, 5, 5]               0\n",
            "ScaledDotProductAttention-102  [[-1, 8, 5, 64], [-1, 8, 5, 5]]               0\n",
            "          Linear-103               [-1, 5, 512]         262,144\n",
            "         Dropout-104               [-1, 5, 512]               0\n",
            "MultiHeadAttention-105               [-1, 5, 512]               0\n",
            "       LayerNorm-106               [-1, 5, 512]           1,024\n",
            "      AddAndNorm-107               [-1, 5, 512]               0\n",
            "          Linear-108              [-1, 5, 2048]       1,050,624\n",
            "            ReLU-109              [-1, 5, 2048]               0\n",
            "          Linear-110               [-1, 5, 512]       1,049,088\n",
            "         Dropout-111               [-1, 5, 512]               0\n",
            "PositionwiseFeedForward-112               [-1, 5, 512]               0\n",
            "       LayerNorm-113               [-1, 5, 512]           1,024\n",
            "      AddAndNorm-114               [-1, 5, 512]               0\n",
            "    EncoderLayer-115               [-1, 5, 512]               0\n",
            "================================================================\n",
            "Total params: 18,903,040\n",
            "Trainable params: 18,903,040\n",
            "Non-trainable params: 0\n",
            "----------------------------------------------------------------\n",
            "Input size (MB): 0.01\n",
            "Forward/backward pass size (MB): 20.82\n",
            "Params size (MB): 72.11\n",
            "Estimated Total Size (MB): 92.94\n",
            "----------------------------------------------------------------\n"
          ]
        }
      ]
    },
    {
      "cell_type": "markdown",
      "metadata": {
        "id": "yetSAFeOQi7y"
      },
      "source": [
        "## Verify Class: DecoderLayer"
      ]
    },
    {
      "cell_type": "code",
      "source": [
        "d_model = 512 # Embedding Size\n",
        "h = 8 # Number of attention heads\n",
        "d_ff = 2048 # Intermediate Layer Size\n",
        "dec_layer = DecoderLayer(d_model, h, d_ff, 0, 0).to(device)\n",
        "ts_summary(dec_layer, input_size = [(5, d_model), (5, d_model)])"
      ],
      "metadata": {
        "id": "la-TUxAWQi7z",
        "outputId": "14281616-88bc-43f4-be9f-024d3ffae518",
        "colab": {
          "base_uri": "https://localhost:8080/"
        }
      },
      "execution_count": 14,
      "outputs": [
        {
          "output_type": "stream",
          "name": "stdout",
          "text": [
            "----------------------------------------------------------------\n",
            "        Layer (type)               Output Shape         Param #\n",
            "================================================================\n",
            "            Linear-1               [-1, 5, 512]         262,144\n",
            "            Linear-2               [-1, 5, 512]         262,144\n",
            "            Linear-3               [-1, 5, 512]         262,144\n",
            "           Softmax-4              [-1, 8, 5, 5]               0\n",
            "           Dropout-5              [-1, 8, 5, 5]               0\n",
            "ScaledDotProductAttention-6  [[-1, 8, 5, 64], [-1, 8, 5, 5]]               0\n",
            "            Linear-7               [-1, 5, 512]         262,144\n",
            "           Dropout-8               [-1, 5, 512]               0\n",
            "MultiHeadAttention-9               [-1, 5, 512]               0\n",
            "        LayerNorm-10               [-1, 5, 512]           1,024\n",
            "       AddAndNorm-11               [-1, 5, 512]               0\n",
            "           Linear-12               [-1, 5, 512]         262,144\n",
            "           Linear-13               [-1, 5, 512]         262,144\n",
            "           Linear-14               [-1, 5, 512]         262,144\n",
            "          Softmax-15              [-1, 8, 5, 5]               0\n",
            "          Dropout-16              [-1, 8, 5, 5]               0\n",
            "ScaledDotProductAttention-17  [[-1, 8, 5, 64], [-1, 8, 5, 5]]               0\n",
            "           Linear-18               [-1, 5, 512]         262,144\n",
            "          Dropout-19               [-1, 5, 512]               0\n",
            "MultiHeadAttention-20               [-1, 5, 512]               0\n",
            "        LayerNorm-21               [-1, 5, 512]           1,024\n",
            "       AddAndNorm-22               [-1, 5, 512]               0\n",
            "           Linear-23              [-1, 5, 2048]       1,050,624\n",
            "             ReLU-24              [-1, 5, 2048]               0\n",
            "           Linear-25               [-1, 5, 512]       1,049,088\n",
            "          Dropout-26               [-1, 5, 512]               0\n",
            "PositionwiseFeedForward-27               [-1, 5, 512]               0\n",
            "        LayerNorm-28               [-1, 5, 512]           1,024\n",
            "       AddAndNorm-29               [-1, 5, 512]               0\n",
            "================================================================\n",
            "Total params: 4,199,936\n",
            "Trainable params: 4,199,936\n",
            "Non-trainable params: 0\n",
            "----------------------------------------------------------------\n",
            "Input size (MB): 25.00\n",
            "Forward/backward pass size (MB): 7.24\n",
            "Params size (MB): 16.02\n",
            "Estimated Total Size (MB): 48.26\n",
            "----------------------------------------------------------------\n"
          ]
        }
      ]
    },
    {
      "cell_type": "markdown",
      "metadata": {
        "id": "4C2o17WPRupW"
      },
      "source": [
        "## Verify Class: Decoder"
      ]
    },
    {
      "cell_type": "code",
      "source": [
        "d_model = 512 # Embedding Size\n",
        "h = 8 # Number of attention heads\n",
        "d_ff = 2048 # Intermediate Layer Size\n",
        "N = 6 # Number of decoder layers\n",
        "dec = Decoder(d_model, h, d_ff, 0, 0, N).to(device)\n",
        "ts_summary(dec, input_size = [(5, d_model), (5, d_model)])"
      ],
      "metadata": {
        "id": "UIwJOgo0RupX",
        "outputId": "b0d2beaf-8f31-42a2-d115-44bc11bb4e34",
        "colab": {
          "base_uri": "https://localhost:8080/"
        }
      },
      "execution_count": 15,
      "outputs": [
        {
          "output_type": "stream",
          "name": "stdout",
          "text": [
            "----------------------------------------------------------------\n",
            "        Layer (type)               Output Shape         Param #\n",
            "================================================================\n",
            "         LayerNorm-1               [-1, 5, 512]           1,024\n",
            "            Linear-2               [-1, 5, 512]         262,144\n",
            "            Linear-3               [-1, 5, 512]         262,144\n",
            "            Linear-4               [-1, 5, 512]         262,144\n",
            "           Softmax-5              [-1, 8, 5, 5]               0\n",
            "           Dropout-6              [-1, 8, 5, 5]               0\n",
            "ScaledDotProductAttention-7  [[-1, 8, 5, 64], [-1, 8, 5, 5]]               0\n",
            "            Linear-8               [-1, 5, 512]         262,144\n",
            "           Dropout-9               [-1, 5, 512]               0\n",
            "MultiHeadAttention-10               [-1, 5, 512]               0\n",
            "        LayerNorm-11               [-1, 5, 512]           1,024\n",
            "       AddAndNorm-12               [-1, 5, 512]               0\n",
            "           Linear-13               [-1, 5, 512]         262,144\n",
            "           Linear-14               [-1, 5, 512]         262,144\n",
            "           Linear-15               [-1, 5, 512]         262,144\n",
            "          Softmax-16              [-1, 8, 5, 5]               0\n",
            "          Dropout-17              [-1, 8, 5, 5]               0\n",
            "ScaledDotProductAttention-18  [[-1, 8, 5, 64], [-1, 8, 5, 5]]               0\n",
            "           Linear-19               [-1, 5, 512]         262,144\n",
            "          Dropout-20               [-1, 5, 512]               0\n",
            "MultiHeadAttention-21               [-1, 5, 512]               0\n",
            "        LayerNorm-22               [-1, 5, 512]           1,024\n",
            "       AddAndNorm-23               [-1, 5, 512]               0\n",
            "           Linear-24              [-1, 5, 2048]       1,050,624\n",
            "             ReLU-25              [-1, 5, 2048]               0\n",
            "           Linear-26               [-1, 5, 512]       1,049,088\n",
            "          Dropout-27               [-1, 5, 512]               0\n",
            "PositionwiseFeedForward-28               [-1, 5, 512]               0\n",
            "        LayerNorm-29               [-1, 5, 512]           1,024\n",
            "       AddAndNorm-30               [-1, 5, 512]               0\n",
            "     DecoderLayer-31               [-1, 5, 512]               0\n",
            "           Linear-32               [-1, 5, 512]         262,144\n",
            "           Linear-33               [-1, 5, 512]         262,144\n",
            "           Linear-34               [-1, 5, 512]         262,144\n",
            "          Softmax-35              [-1, 8, 5, 5]               0\n",
            "          Dropout-36              [-1, 8, 5, 5]               0\n",
            "ScaledDotProductAttention-37  [[-1, 8, 5, 64], [-1, 8, 5, 5]]               0\n",
            "           Linear-38               [-1, 5, 512]         262,144\n",
            "          Dropout-39               [-1, 5, 512]               0\n",
            "MultiHeadAttention-40               [-1, 5, 512]               0\n",
            "        LayerNorm-41               [-1, 5, 512]           1,024\n",
            "       AddAndNorm-42               [-1, 5, 512]               0\n",
            "           Linear-43               [-1, 5, 512]         262,144\n",
            "           Linear-44               [-1, 5, 512]         262,144\n",
            "           Linear-45               [-1, 5, 512]         262,144\n",
            "          Softmax-46              [-1, 8, 5, 5]               0\n",
            "          Dropout-47              [-1, 8, 5, 5]               0\n",
            "ScaledDotProductAttention-48  [[-1, 8, 5, 64], [-1, 8, 5, 5]]               0\n",
            "           Linear-49               [-1, 5, 512]         262,144\n",
            "          Dropout-50               [-1, 5, 512]               0\n",
            "MultiHeadAttention-51               [-1, 5, 512]               0\n",
            "        LayerNorm-52               [-1, 5, 512]           1,024\n",
            "       AddAndNorm-53               [-1, 5, 512]               0\n",
            "           Linear-54              [-1, 5, 2048]       1,050,624\n",
            "             ReLU-55              [-1, 5, 2048]               0\n",
            "           Linear-56               [-1, 5, 512]       1,049,088\n",
            "          Dropout-57               [-1, 5, 512]               0\n",
            "PositionwiseFeedForward-58               [-1, 5, 512]               0\n",
            "        LayerNorm-59               [-1, 5, 512]           1,024\n",
            "       AddAndNorm-60               [-1, 5, 512]               0\n",
            "     DecoderLayer-61               [-1, 5, 512]               0\n",
            "           Linear-62               [-1, 5, 512]         262,144\n",
            "           Linear-63               [-1, 5, 512]         262,144\n",
            "           Linear-64               [-1, 5, 512]         262,144\n",
            "          Softmax-65              [-1, 8, 5, 5]               0\n",
            "          Dropout-66              [-1, 8, 5, 5]               0\n",
            "ScaledDotProductAttention-67  [[-1, 8, 5, 64], [-1, 8, 5, 5]]               0\n",
            "           Linear-68               [-1, 5, 512]         262,144\n",
            "          Dropout-69               [-1, 5, 512]               0\n",
            "MultiHeadAttention-70               [-1, 5, 512]               0\n",
            "        LayerNorm-71               [-1, 5, 512]           1,024\n",
            "       AddAndNorm-72               [-1, 5, 512]               0\n",
            "           Linear-73               [-1, 5, 512]         262,144\n",
            "           Linear-74               [-1, 5, 512]         262,144\n",
            "           Linear-75               [-1, 5, 512]         262,144\n",
            "          Softmax-76              [-1, 8, 5, 5]               0\n",
            "          Dropout-77              [-1, 8, 5, 5]               0\n",
            "ScaledDotProductAttention-78  [[-1, 8, 5, 64], [-1, 8, 5, 5]]               0\n",
            "           Linear-79               [-1, 5, 512]         262,144\n",
            "          Dropout-80               [-1, 5, 512]               0\n",
            "MultiHeadAttention-81               [-1, 5, 512]               0\n",
            "        LayerNorm-82               [-1, 5, 512]           1,024\n",
            "       AddAndNorm-83               [-1, 5, 512]               0\n",
            "           Linear-84              [-1, 5, 2048]       1,050,624\n",
            "             ReLU-85              [-1, 5, 2048]               0\n",
            "           Linear-86               [-1, 5, 512]       1,049,088\n",
            "          Dropout-87               [-1, 5, 512]               0\n",
            "PositionwiseFeedForward-88               [-1, 5, 512]               0\n",
            "        LayerNorm-89               [-1, 5, 512]           1,024\n",
            "       AddAndNorm-90               [-1, 5, 512]               0\n",
            "     DecoderLayer-91               [-1, 5, 512]               0\n",
            "           Linear-92               [-1, 5, 512]         262,144\n",
            "           Linear-93               [-1, 5, 512]         262,144\n",
            "           Linear-94               [-1, 5, 512]         262,144\n",
            "          Softmax-95              [-1, 8, 5, 5]               0\n",
            "          Dropout-96              [-1, 8, 5, 5]               0\n",
            "ScaledDotProductAttention-97  [[-1, 8, 5, 64], [-1, 8, 5, 5]]               0\n",
            "           Linear-98               [-1, 5, 512]         262,144\n",
            "          Dropout-99               [-1, 5, 512]               0\n",
            "MultiHeadAttention-100               [-1, 5, 512]               0\n",
            "       LayerNorm-101               [-1, 5, 512]           1,024\n",
            "      AddAndNorm-102               [-1, 5, 512]               0\n",
            "          Linear-103               [-1, 5, 512]         262,144\n",
            "          Linear-104               [-1, 5, 512]         262,144\n",
            "          Linear-105               [-1, 5, 512]         262,144\n",
            "         Softmax-106              [-1, 8, 5, 5]               0\n",
            "         Dropout-107              [-1, 8, 5, 5]               0\n",
            "ScaledDotProductAttention-108  [[-1, 8, 5, 64], [-1, 8, 5, 5]]               0\n",
            "          Linear-109               [-1, 5, 512]         262,144\n",
            "         Dropout-110               [-1, 5, 512]               0\n",
            "MultiHeadAttention-111               [-1, 5, 512]               0\n",
            "       LayerNorm-112               [-1, 5, 512]           1,024\n",
            "      AddAndNorm-113               [-1, 5, 512]               0\n",
            "          Linear-114              [-1, 5, 2048]       1,050,624\n",
            "            ReLU-115              [-1, 5, 2048]               0\n",
            "          Linear-116               [-1, 5, 512]       1,049,088\n",
            "         Dropout-117               [-1, 5, 512]               0\n",
            "PositionwiseFeedForward-118               [-1, 5, 512]               0\n",
            "       LayerNorm-119               [-1, 5, 512]           1,024\n",
            "      AddAndNorm-120               [-1, 5, 512]               0\n",
            "    DecoderLayer-121               [-1, 5, 512]               0\n",
            "          Linear-122               [-1, 5, 512]         262,144\n",
            "          Linear-123               [-1, 5, 512]         262,144\n",
            "          Linear-124               [-1, 5, 512]         262,144\n",
            "         Softmax-125              [-1, 8, 5, 5]               0\n",
            "         Dropout-126              [-1, 8, 5, 5]               0\n",
            "ScaledDotProductAttention-127  [[-1, 8, 5, 64], [-1, 8, 5, 5]]               0\n",
            "          Linear-128               [-1, 5, 512]         262,144\n",
            "         Dropout-129               [-1, 5, 512]               0\n",
            "MultiHeadAttention-130               [-1, 5, 512]               0\n",
            "       LayerNorm-131               [-1, 5, 512]           1,024\n",
            "      AddAndNorm-132               [-1, 5, 512]               0\n",
            "          Linear-133               [-1, 5, 512]         262,144\n",
            "          Linear-134               [-1, 5, 512]         262,144\n",
            "          Linear-135               [-1, 5, 512]         262,144\n",
            "         Softmax-136              [-1, 8, 5, 5]               0\n",
            "         Dropout-137              [-1, 8, 5, 5]               0\n",
            "ScaledDotProductAttention-138  [[-1, 8, 5, 64], [-1, 8, 5, 5]]               0\n",
            "          Linear-139               [-1, 5, 512]         262,144\n",
            "         Dropout-140               [-1, 5, 512]               0\n",
            "MultiHeadAttention-141               [-1, 5, 512]               0\n",
            "       LayerNorm-142               [-1, 5, 512]           1,024\n",
            "      AddAndNorm-143               [-1, 5, 512]               0\n",
            "          Linear-144              [-1, 5, 2048]       1,050,624\n",
            "            ReLU-145              [-1, 5, 2048]               0\n",
            "          Linear-146               [-1, 5, 512]       1,049,088\n",
            "         Dropout-147               [-1, 5, 512]               0\n",
            "PositionwiseFeedForward-148               [-1, 5, 512]               0\n",
            "       LayerNorm-149               [-1, 5, 512]           1,024\n",
            "      AddAndNorm-150               [-1, 5, 512]               0\n",
            "    DecoderLayer-151               [-1, 5, 512]               0\n",
            "          Linear-152               [-1, 5, 512]         262,144\n",
            "          Linear-153               [-1, 5, 512]         262,144\n",
            "          Linear-154               [-1, 5, 512]         262,144\n",
            "         Softmax-155              [-1, 8, 5, 5]               0\n",
            "         Dropout-156              [-1, 8, 5, 5]               0\n",
            "ScaledDotProductAttention-157  [[-1, 8, 5, 64], [-1, 8, 5, 5]]               0\n",
            "          Linear-158               [-1, 5, 512]         262,144\n",
            "         Dropout-159               [-1, 5, 512]               0\n",
            "MultiHeadAttention-160               [-1, 5, 512]               0\n",
            "       LayerNorm-161               [-1, 5, 512]           1,024\n",
            "      AddAndNorm-162               [-1, 5, 512]               0\n",
            "          Linear-163               [-1, 5, 512]         262,144\n",
            "          Linear-164               [-1, 5, 512]         262,144\n",
            "          Linear-165               [-1, 5, 512]         262,144\n",
            "         Softmax-166              [-1, 8, 5, 5]               0\n",
            "         Dropout-167              [-1, 8, 5, 5]               0\n",
            "ScaledDotProductAttention-168  [[-1, 8, 5, 64], [-1, 8, 5, 5]]               0\n",
            "          Linear-169               [-1, 5, 512]         262,144\n",
            "         Dropout-170               [-1, 5, 512]               0\n",
            "MultiHeadAttention-171               [-1, 5, 512]               0\n",
            "       LayerNorm-172               [-1, 5, 512]           1,024\n",
            "      AddAndNorm-173               [-1, 5, 512]               0\n",
            "          Linear-174              [-1, 5, 2048]       1,050,624\n",
            "            ReLU-175              [-1, 5, 2048]               0\n",
            "          Linear-176               [-1, 5, 512]       1,049,088\n",
            "         Dropout-177               [-1, 5, 512]               0\n",
            "PositionwiseFeedForward-178               [-1, 5, 512]               0\n",
            "       LayerNorm-179               [-1, 5, 512]           1,024\n",
            "      AddAndNorm-180               [-1, 5, 512]               0\n",
            "    DecoderLayer-181               [-1, 5, 512]               0\n",
            "================================================================\n",
            "Total params: 25,200,640\n",
            "Trainable params: 25,200,640\n",
            "Non-trainable params: 0\n",
            "----------------------------------------------------------------\n",
            "Input size (MB): 25.00\n",
            "Forward/backward pass size (MB): 43.30\n",
            "Params size (MB): 96.13\n",
            "Estimated Total Size (MB): 164.44\n",
            "----------------------------------------------------------------\n"
          ]
        }
      ]
    },
    {
      "cell_type": "markdown",
      "metadata": {
        "id": "nemvzRguYmaE"
      },
      "source": [
        "## Verify Class: Generator"
      ]
    },
    {
      "cell_type": "code",
      "source": [
        "d_model = 512 # Embedding Size\n",
        "vocab = 11 # Size of vocabulary\n",
        "gen = Generator(d_model, vocab).to(device) # Generator instance\n",
        "ts_summary(gen, input_size = (5, d_model))"
      ],
      "metadata": {
        "id": "BsZEE21RYmaE",
        "outputId": "daf39620-8de9-4524-9523-4b107404c23f",
        "colab": {
          "base_uri": "https://localhost:8080/"
        }
      },
      "execution_count": 16,
      "outputs": [
        {
          "output_type": "stream",
          "name": "stdout",
          "text": [
            "----------------------------------------------------------------\n",
            "        Layer (type)               Output Shape         Param #\n",
            "================================================================\n",
            "            Linear-1                [-1, 5, 11]           5,643\n",
            "        LogSoftmax-2                [-1, 5, 11]               0\n",
            "================================================================\n",
            "Total params: 5,643\n",
            "Trainable params: 5,643\n",
            "Non-trainable params: 0\n",
            "----------------------------------------------------------------\n",
            "Input size (MB): 0.01\n",
            "Forward/backward pass size (MB): 0.00\n",
            "Params size (MB): 0.02\n",
            "Estimated Total Size (MB): 0.03\n",
            "----------------------------------------------------------------\n"
          ]
        }
      ]
    },
    {
      "cell_type": "markdown",
      "metadata": {
        "id": "QCgoLmKfY50q"
      },
      "source": [
        "## Verify Class: EncoderDecoder"
      ]
    },
    {
      "cell_type": "code",
      "source": [
        "d_model = 512 # Embedding Size\n",
        "h = 8 # Number of attention heads\n",
        "d_ff = 2048 # Intermediate Layer Size\n",
        "N = 6 # Number of encoder layers\n",
        "enc = Encoder(d_model, h, d_ff, 0, 0, N).to(device)\n",
        "dec = Decoder(d_model, h, d_ff, 0, 0, N).to(device)\n",
        "\n",
        "src_vocab = 11 # Size of source vocab vector\n",
        "tgt_vocab = 11 # Size of target vocab vector\n",
        "emb_enc = Embeddings(d_model, src_vocab).to(device)\n",
        "emb_dec = Embeddings(d_model, tgt_vocab).to(device)\n",
        "gen = Generator(d_model, tgt_vocab).to(device) # Generator instance\n",
        "\n",
        "model = EncoderDecoder(enc, dec, emb_enc, emb_dec, gen)\n",
        "\n",
        "input_size = (2, 5)\n",
        "x_sample = torch.zeros(input_size, dtype=torch.long, device=torch.device('cuda'))\n",
        "summaryx(model, x_sample, x_sample)"
      ],
      "metadata": {
        "id": "v5UJ_uM_Y50r",
        "outputId": "de62549c-9428-44ad-d269-e7c68534897c",
        "colab": {
          "base_uri": "https://localhost:8080/",
          "height": 1000
        }
      },
      "execution_count": 17,
      "outputs": [
        {
          "output_type": "stream",
          "name": "stderr",
          "text": [
            "/usr/local/lib/python3.7/dist-packages/torchsummaryX/torchsummaryX.py:101: FutureWarning: Dropping of nuisance columns in DataFrame reductions (with 'numeric_only=None') is deprecated; in a future version this will raise TypeError.  Select only valid columns before calling the reduction.\n",
            "  df_sum = df.sum()\n"
          ]
        },
        {
          "output_type": "stream",
          "name": "stdout",
          "text": [
            "================================================================================================================\n",
            "                                                   Kernel Shape  Output Shape  \\\n",
            "Layer                                                                           \n",
            "0_src_embed.Embedding_emb                             [512, 11]   [2, 5, 512]   \n",
            "1_encoder.LayerNorm_norm                                  [512]   [2, 5, 512]   \n",
            "2_encoder.enclayer_stack.0.MHA_unit.Linear_wi_q      [512, 512]   [2, 5, 512]   \n",
            "3_encoder.enclayer_stack.0.MHA_unit.Linear_wi_k      [512, 512]   [2, 5, 512]   \n",
            "4_encoder.enclayer_stack.0.MHA_unit.Linear_wi_v      [512, 512]   [2, 5, 512]   \n",
            "5_encoder.enclayer_stack.0.MHA_unit.sdpa.Softma...            -  [2, 8, 5, 5]   \n",
            "6_encoder.enclayer_stack.0.MHA_unit.Dropout_dro...            -  [2, 8, 5, 5]   \n",
            "7_encoder.enclayer_stack.0.MHA_unit.Linear_fc        [512, 512]   [2, 5, 512]   \n",
            "8_encoder.enclayer_stack.0.MHA_unit.Dropout_dro...            -   [2, 5, 512]   \n",
            "9_encoder.enclayer_stack.0.addandnorm_MHA.Layer...        [512]   [2, 5, 512]   \n",
            "10_encoder.enclayer_stack.0.PWFFN.Linear_fc_1       [512, 2048]  [2, 5, 2048]   \n",
            "11_encoder.enclayer_stack.0.PWFFN.ReLU_relu                   -  [2, 5, 2048]   \n",
            "12_encoder.enclayer_stack.0.PWFFN.Linear_fc_2       [2048, 512]   [2, 5, 512]   \n",
            "13_encoder.enclayer_stack.0.PWFFN.Dropout_dropout             -   [2, 5, 512]   \n",
            "14_encoder.enclayer_stack.0.addandnorm_PWFFN.La...        [512]   [2, 5, 512]   \n",
            "15_encoder.enclayer_stack.1.MHA_unit.Linear_wi_q     [512, 512]   [2, 5, 512]   \n",
            "16_encoder.enclayer_stack.1.MHA_unit.Linear_wi_k     [512, 512]   [2, 5, 512]   \n",
            "17_encoder.enclayer_stack.1.MHA_unit.Linear_wi_v     [512, 512]   [2, 5, 512]   \n",
            "18_encoder.enclayer_stack.1.MHA_unit.sdpa.Softm...            -  [2, 8, 5, 5]   \n",
            "19_encoder.enclayer_stack.1.MHA_unit.Dropout_dr...            -  [2, 8, 5, 5]   \n",
            "20_encoder.enclayer_stack.1.MHA_unit.Linear_fc       [512, 512]   [2, 5, 512]   \n",
            "21_encoder.enclayer_stack.1.MHA_unit.Dropout_dr...            -   [2, 5, 512]   \n",
            "22_encoder.enclayer_stack.1.addandnorm_MHA.Laye...        [512]   [2, 5, 512]   \n",
            "23_encoder.enclayer_stack.1.PWFFN.Linear_fc_1       [512, 2048]  [2, 5, 2048]   \n",
            "24_encoder.enclayer_stack.1.PWFFN.ReLU_relu                   -  [2, 5, 2048]   \n",
            "25_encoder.enclayer_stack.1.PWFFN.Linear_fc_2       [2048, 512]   [2, 5, 512]   \n",
            "26_encoder.enclayer_stack.1.PWFFN.Dropout_dropout             -   [2, 5, 512]   \n",
            "27_encoder.enclayer_stack.1.addandnorm_PWFFN.La...        [512]   [2, 5, 512]   \n",
            "28_encoder.enclayer_stack.2.MHA_unit.Linear_wi_q     [512, 512]   [2, 5, 512]   \n",
            "29_encoder.enclayer_stack.2.MHA_unit.Linear_wi_k     [512, 512]   [2, 5, 512]   \n",
            "30_encoder.enclayer_stack.2.MHA_unit.Linear_wi_v     [512, 512]   [2, 5, 512]   \n",
            "31_encoder.enclayer_stack.2.MHA_unit.sdpa.Softm...            -  [2, 8, 5, 5]   \n",
            "32_encoder.enclayer_stack.2.MHA_unit.Dropout_dr...            -  [2, 8, 5, 5]   \n",
            "33_encoder.enclayer_stack.2.MHA_unit.Linear_fc       [512, 512]   [2, 5, 512]   \n",
            "34_encoder.enclayer_stack.2.MHA_unit.Dropout_dr...            -   [2, 5, 512]   \n",
            "35_encoder.enclayer_stack.2.addandnorm_MHA.Laye...        [512]   [2, 5, 512]   \n",
            "36_encoder.enclayer_stack.2.PWFFN.Linear_fc_1       [512, 2048]  [2, 5, 2048]   \n",
            "37_encoder.enclayer_stack.2.PWFFN.ReLU_relu                   -  [2, 5, 2048]   \n",
            "38_encoder.enclayer_stack.2.PWFFN.Linear_fc_2       [2048, 512]   [2, 5, 512]   \n",
            "39_encoder.enclayer_stack.2.PWFFN.Dropout_dropout             -   [2, 5, 512]   \n",
            "40_encoder.enclayer_stack.2.addandnorm_PWFFN.La...        [512]   [2, 5, 512]   \n",
            "41_encoder.enclayer_stack.3.MHA_unit.Linear_wi_q     [512, 512]   [2, 5, 512]   \n",
            "42_encoder.enclayer_stack.3.MHA_unit.Linear_wi_k     [512, 512]   [2, 5, 512]   \n",
            "43_encoder.enclayer_stack.3.MHA_unit.Linear_wi_v     [512, 512]   [2, 5, 512]   \n",
            "44_encoder.enclayer_stack.3.MHA_unit.sdpa.Softm...            -  [2, 8, 5, 5]   \n",
            "45_encoder.enclayer_stack.3.MHA_unit.Dropout_dr...            -  [2, 8, 5, 5]   \n",
            "46_encoder.enclayer_stack.3.MHA_unit.Linear_fc       [512, 512]   [2, 5, 512]   \n",
            "47_encoder.enclayer_stack.3.MHA_unit.Dropout_dr...            -   [2, 5, 512]   \n",
            "48_encoder.enclayer_stack.3.addandnorm_MHA.Laye...        [512]   [2, 5, 512]   \n",
            "49_encoder.enclayer_stack.3.PWFFN.Linear_fc_1       [512, 2048]  [2, 5, 2048]   \n",
            "50_encoder.enclayer_stack.3.PWFFN.ReLU_relu                   -  [2, 5, 2048]   \n",
            "51_encoder.enclayer_stack.3.PWFFN.Linear_fc_2       [2048, 512]   [2, 5, 512]   \n",
            "52_encoder.enclayer_stack.3.PWFFN.Dropout_dropout             -   [2, 5, 512]   \n",
            "53_encoder.enclayer_stack.3.addandnorm_PWFFN.La...        [512]   [2, 5, 512]   \n",
            "54_encoder.enclayer_stack.4.MHA_unit.Linear_wi_q     [512, 512]   [2, 5, 512]   \n",
            "55_encoder.enclayer_stack.4.MHA_unit.Linear_wi_k     [512, 512]   [2, 5, 512]   \n",
            "56_encoder.enclayer_stack.4.MHA_unit.Linear_wi_v     [512, 512]   [2, 5, 512]   \n",
            "57_encoder.enclayer_stack.4.MHA_unit.sdpa.Softm...            -  [2, 8, 5, 5]   \n",
            "58_encoder.enclayer_stack.4.MHA_unit.Dropout_dr...            -  [2, 8, 5, 5]   \n",
            "59_encoder.enclayer_stack.4.MHA_unit.Linear_fc       [512, 512]   [2, 5, 512]   \n",
            "60_encoder.enclayer_stack.4.MHA_unit.Dropout_dr...            -   [2, 5, 512]   \n",
            "61_encoder.enclayer_stack.4.addandnorm_MHA.Laye...        [512]   [2, 5, 512]   \n",
            "62_encoder.enclayer_stack.4.PWFFN.Linear_fc_1       [512, 2048]  [2, 5, 2048]   \n",
            "63_encoder.enclayer_stack.4.PWFFN.ReLU_relu                   -  [2, 5, 2048]   \n",
            "64_encoder.enclayer_stack.4.PWFFN.Linear_fc_2       [2048, 512]   [2, 5, 512]   \n",
            "65_encoder.enclayer_stack.4.PWFFN.Dropout_dropout             -   [2, 5, 512]   \n",
            "66_encoder.enclayer_stack.4.addandnorm_PWFFN.La...        [512]   [2, 5, 512]   \n",
            "67_encoder.enclayer_stack.5.MHA_unit.Linear_wi_q     [512, 512]   [2, 5, 512]   \n",
            "68_encoder.enclayer_stack.5.MHA_unit.Linear_wi_k     [512, 512]   [2, 5, 512]   \n",
            "69_encoder.enclayer_stack.5.MHA_unit.Linear_wi_v     [512, 512]   [2, 5, 512]   \n",
            "70_encoder.enclayer_stack.5.MHA_unit.sdpa.Softm...            -  [2, 8, 5, 5]   \n",
            "71_encoder.enclayer_stack.5.MHA_unit.Dropout_dr...            -  [2, 8, 5, 5]   \n",
            "72_encoder.enclayer_stack.5.MHA_unit.Linear_fc       [512, 512]   [2, 5, 512]   \n",
            "73_encoder.enclayer_stack.5.MHA_unit.Dropout_dr...            -   [2, 5, 512]   \n",
            "74_encoder.enclayer_stack.5.addandnorm_MHA.Laye...        [512]   [2, 5, 512]   \n",
            "75_encoder.enclayer_stack.5.PWFFN.Linear_fc_1       [512, 2048]  [2, 5, 2048]   \n",
            "76_encoder.enclayer_stack.5.PWFFN.ReLU_relu                   -  [2, 5, 2048]   \n",
            "77_encoder.enclayer_stack.5.PWFFN.Linear_fc_2       [2048, 512]   [2, 5, 512]   \n",
            "78_encoder.enclayer_stack.5.PWFFN.Dropout_dropout             -   [2, 5, 512]   \n",
            "79_encoder.enclayer_stack.5.addandnorm_PWFFN.La...        [512]   [2, 5, 512]   \n",
            "80_tgt_embed.Embedding_emb                            [512, 11]   [2, 5, 512]   \n",
            "81_decoder.LayerNorm_norm                                 [512]   [2, 5, 512]   \n",
            "82_decoder.declayer_stack.0.self_MHA_unit.Linea...   [512, 512]   [2, 5, 512]   \n",
            "83_decoder.declayer_stack.0.self_MHA_unit.Linea...   [512, 512]   [2, 5, 512]   \n",
            "84_decoder.declayer_stack.0.self_MHA_unit.Linea...   [512, 512]   [2, 5, 512]   \n",
            "85_decoder.declayer_stack.0.self_MHA_unit.sdpa....            -  [2, 8, 5, 5]   \n",
            "86_decoder.declayer_stack.0.self_MHA_unit.Dropo...            -  [2, 8, 5, 5]   \n",
            "87_decoder.declayer_stack.0.self_MHA_unit.Linea...   [512, 512]   [2, 5, 512]   \n",
            "88_decoder.declayer_stack.0.self_MHA_unit.Dropo...            -   [2, 5, 512]   \n",
            "89_decoder.declayer_stack.0.addandnorm_self_MHA...        [512]   [2, 5, 512]   \n",
            "90_decoder.declayer_stack.0.enc_MHA_unit.Linear...   [512, 512]   [2, 5, 512]   \n",
            "91_decoder.declayer_stack.0.enc_MHA_unit.Linear...   [512, 512]   [2, 5, 512]   \n",
            "92_decoder.declayer_stack.0.enc_MHA_unit.Linear...   [512, 512]   [2, 5, 512]   \n",
            "93_decoder.declayer_stack.0.enc_MHA_unit.sdpa.S...            -  [2, 8, 5, 5]   \n",
            "94_decoder.declayer_stack.0.enc_MHA_unit.Dropou...            -  [2, 8, 5, 5]   \n",
            "95_decoder.declayer_stack.0.enc_MHA_unit.Linear_fc   [512, 512]   [2, 5, 512]   \n",
            "96_decoder.declayer_stack.0.enc_MHA_unit.Dropou...            -   [2, 5, 512]   \n",
            "97_decoder.declayer_stack.0.addandnorm_enc_MHA....        [512]   [2, 5, 512]   \n",
            "98_decoder.declayer_stack.0.PWFFN.Linear_fc_1       [512, 2048]  [2, 5, 2048]   \n",
            "99_decoder.declayer_stack.0.PWFFN.ReLU_relu                   -  [2, 5, 2048]   \n",
            "100_decoder.declayer_stack.0.PWFFN.Linear_fc_2      [2048, 512]   [2, 5, 512]   \n",
            "101_decoder.declayer_stack.0.PWFFN.Dropout_dropout            -   [2, 5, 512]   \n",
            "102_decoder.declayer_stack.0.addandnorm_PWFFN.L...        [512]   [2, 5, 512]   \n",
            "103_decoder.declayer_stack.1.self_MHA_unit.Line...   [512, 512]   [2, 5, 512]   \n",
            "104_decoder.declayer_stack.1.self_MHA_unit.Line...   [512, 512]   [2, 5, 512]   \n",
            "105_decoder.declayer_stack.1.self_MHA_unit.Line...   [512, 512]   [2, 5, 512]   \n",
            "106_decoder.declayer_stack.1.self_MHA_unit.sdpa...            -  [2, 8, 5, 5]   \n",
            "107_decoder.declayer_stack.1.self_MHA_unit.Drop...            -  [2, 8, 5, 5]   \n",
            "108_decoder.declayer_stack.1.self_MHA_unit.Line...   [512, 512]   [2, 5, 512]   \n",
            "109_decoder.declayer_stack.1.self_MHA_unit.Drop...            -   [2, 5, 512]   \n",
            "110_decoder.declayer_stack.1.addandnorm_self_MH...        [512]   [2, 5, 512]   \n",
            "111_decoder.declayer_stack.1.enc_MHA_unit.Linea...   [512, 512]   [2, 5, 512]   \n",
            "112_decoder.declayer_stack.1.enc_MHA_unit.Linea...   [512, 512]   [2, 5, 512]   \n",
            "113_decoder.declayer_stack.1.enc_MHA_unit.Linea...   [512, 512]   [2, 5, 512]   \n",
            "114_decoder.declayer_stack.1.enc_MHA_unit.sdpa....            -  [2, 8, 5, 5]   \n",
            "115_decoder.declayer_stack.1.enc_MHA_unit.Dropo...            -  [2, 8, 5, 5]   \n",
            "116_decoder.declayer_stack.1.enc_MHA_unit.Linea...   [512, 512]   [2, 5, 512]   \n",
            "117_decoder.declayer_stack.1.enc_MHA_unit.Dropo...            -   [2, 5, 512]   \n",
            "118_decoder.declayer_stack.1.addandnorm_enc_MHA...        [512]   [2, 5, 512]   \n",
            "119_decoder.declayer_stack.1.PWFFN.Linear_fc_1      [512, 2048]  [2, 5, 2048]   \n",
            "120_decoder.declayer_stack.1.PWFFN.ReLU_relu                  -  [2, 5, 2048]   \n",
            "121_decoder.declayer_stack.1.PWFFN.Linear_fc_2      [2048, 512]   [2, 5, 512]   \n",
            "122_decoder.declayer_stack.1.PWFFN.Dropout_dropout            -   [2, 5, 512]   \n",
            "123_decoder.declayer_stack.1.addandnorm_PWFFN.L...        [512]   [2, 5, 512]   \n",
            "124_decoder.declayer_stack.2.self_MHA_unit.Line...   [512, 512]   [2, 5, 512]   \n",
            "125_decoder.declayer_stack.2.self_MHA_unit.Line...   [512, 512]   [2, 5, 512]   \n",
            "126_decoder.declayer_stack.2.self_MHA_unit.Line...   [512, 512]   [2, 5, 512]   \n",
            "127_decoder.declayer_stack.2.self_MHA_unit.sdpa...            -  [2, 8, 5, 5]   \n",
            "128_decoder.declayer_stack.2.self_MHA_unit.Drop...            -  [2, 8, 5, 5]   \n",
            "129_decoder.declayer_stack.2.self_MHA_unit.Line...   [512, 512]   [2, 5, 512]   \n",
            "130_decoder.declayer_stack.2.self_MHA_unit.Drop...            -   [2, 5, 512]   \n",
            "131_decoder.declayer_stack.2.addandnorm_self_MH...        [512]   [2, 5, 512]   \n",
            "132_decoder.declayer_stack.2.enc_MHA_unit.Linea...   [512, 512]   [2, 5, 512]   \n",
            "133_decoder.declayer_stack.2.enc_MHA_unit.Linea...   [512, 512]   [2, 5, 512]   \n",
            "134_decoder.declayer_stack.2.enc_MHA_unit.Linea...   [512, 512]   [2, 5, 512]   \n",
            "135_decoder.declayer_stack.2.enc_MHA_unit.sdpa....            -  [2, 8, 5, 5]   \n",
            "136_decoder.declayer_stack.2.enc_MHA_unit.Dropo...            -  [2, 8, 5, 5]   \n",
            "137_decoder.declayer_stack.2.enc_MHA_unit.Linea...   [512, 512]   [2, 5, 512]   \n",
            "138_decoder.declayer_stack.2.enc_MHA_unit.Dropo...            -   [2, 5, 512]   \n",
            "139_decoder.declayer_stack.2.addandnorm_enc_MHA...        [512]   [2, 5, 512]   \n",
            "140_decoder.declayer_stack.2.PWFFN.Linear_fc_1      [512, 2048]  [2, 5, 2048]   \n",
            "141_decoder.declayer_stack.2.PWFFN.ReLU_relu                  -  [2, 5, 2048]   \n",
            "142_decoder.declayer_stack.2.PWFFN.Linear_fc_2      [2048, 512]   [2, 5, 512]   \n",
            "143_decoder.declayer_stack.2.PWFFN.Dropout_dropout            -   [2, 5, 512]   \n",
            "144_decoder.declayer_stack.2.addandnorm_PWFFN.L...        [512]   [2, 5, 512]   \n",
            "145_decoder.declayer_stack.3.self_MHA_unit.Line...   [512, 512]   [2, 5, 512]   \n",
            "146_decoder.declayer_stack.3.self_MHA_unit.Line...   [512, 512]   [2, 5, 512]   \n",
            "147_decoder.declayer_stack.3.self_MHA_unit.Line...   [512, 512]   [2, 5, 512]   \n",
            "148_decoder.declayer_stack.3.self_MHA_unit.sdpa...            -  [2, 8, 5, 5]   \n",
            "149_decoder.declayer_stack.3.self_MHA_unit.Drop...            -  [2, 8, 5, 5]   \n",
            "150_decoder.declayer_stack.3.self_MHA_unit.Line...   [512, 512]   [2, 5, 512]   \n",
            "151_decoder.declayer_stack.3.self_MHA_unit.Drop...            -   [2, 5, 512]   \n",
            "152_decoder.declayer_stack.3.addandnorm_self_MH...        [512]   [2, 5, 512]   \n",
            "153_decoder.declayer_stack.3.enc_MHA_unit.Linea...   [512, 512]   [2, 5, 512]   \n",
            "154_decoder.declayer_stack.3.enc_MHA_unit.Linea...   [512, 512]   [2, 5, 512]   \n",
            "155_decoder.declayer_stack.3.enc_MHA_unit.Linea...   [512, 512]   [2, 5, 512]   \n",
            "156_decoder.declayer_stack.3.enc_MHA_unit.sdpa....            -  [2, 8, 5, 5]   \n",
            "157_decoder.declayer_stack.3.enc_MHA_unit.Dropo...            -  [2, 8, 5, 5]   \n",
            "158_decoder.declayer_stack.3.enc_MHA_unit.Linea...   [512, 512]   [2, 5, 512]   \n",
            "159_decoder.declayer_stack.3.enc_MHA_unit.Dropo...            -   [2, 5, 512]   \n",
            "160_decoder.declayer_stack.3.addandnorm_enc_MHA...        [512]   [2, 5, 512]   \n",
            "161_decoder.declayer_stack.3.PWFFN.Linear_fc_1      [512, 2048]  [2, 5, 2048]   \n",
            "162_decoder.declayer_stack.3.PWFFN.ReLU_relu                  -  [2, 5, 2048]   \n",
            "163_decoder.declayer_stack.3.PWFFN.Linear_fc_2      [2048, 512]   [2, 5, 512]   \n",
            "164_decoder.declayer_stack.3.PWFFN.Dropout_dropout            -   [2, 5, 512]   \n",
            "165_decoder.declayer_stack.3.addandnorm_PWFFN.L...        [512]   [2, 5, 512]   \n",
            "166_decoder.declayer_stack.4.self_MHA_unit.Line...   [512, 512]   [2, 5, 512]   \n",
            "167_decoder.declayer_stack.4.self_MHA_unit.Line...   [512, 512]   [2, 5, 512]   \n",
            "168_decoder.declayer_stack.4.self_MHA_unit.Line...   [512, 512]   [2, 5, 512]   \n",
            "169_decoder.declayer_stack.4.self_MHA_unit.sdpa...            -  [2, 8, 5, 5]   \n",
            "170_decoder.declayer_stack.4.self_MHA_unit.Drop...            -  [2, 8, 5, 5]   \n",
            "171_decoder.declayer_stack.4.self_MHA_unit.Line...   [512, 512]   [2, 5, 512]   \n",
            "172_decoder.declayer_stack.4.self_MHA_unit.Drop...            -   [2, 5, 512]   \n",
            "173_decoder.declayer_stack.4.addandnorm_self_MH...        [512]   [2, 5, 512]   \n",
            "174_decoder.declayer_stack.4.enc_MHA_unit.Linea...   [512, 512]   [2, 5, 512]   \n",
            "175_decoder.declayer_stack.4.enc_MHA_unit.Linea...   [512, 512]   [2, 5, 512]   \n",
            "176_decoder.declayer_stack.4.enc_MHA_unit.Linea...   [512, 512]   [2, 5, 512]   \n",
            "177_decoder.declayer_stack.4.enc_MHA_unit.sdpa....            -  [2, 8, 5, 5]   \n",
            "178_decoder.declayer_stack.4.enc_MHA_unit.Dropo...            -  [2, 8, 5, 5]   \n",
            "179_decoder.declayer_stack.4.enc_MHA_unit.Linea...   [512, 512]   [2, 5, 512]   \n",
            "180_decoder.declayer_stack.4.enc_MHA_unit.Dropo...            -   [2, 5, 512]   \n",
            "181_decoder.declayer_stack.4.addandnorm_enc_MHA...        [512]   [2, 5, 512]   \n",
            "182_decoder.declayer_stack.4.PWFFN.Linear_fc_1      [512, 2048]  [2, 5, 2048]   \n",
            "183_decoder.declayer_stack.4.PWFFN.ReLU_relu                  -  [2, 5, 2048]   \n",
            "184_decoder.declayer_stack.4.PWFFN.Linear_fc_2      [2048, 512]   [2, 5, 512]   \n",
            "185_decoder.declayer_stack.4.PWFFN.Dropout_dropout            -   [2, 5, 512]   \n",
            "186_decoder.declayer_stack.4.addandnorm_PWFFN.L...        [512]   [2, 5, 512]   \n",
            "187_decoder.declayer_stack.5.self_MHA_unit.Line...   [512, 512]   [2, 5, 512]   \n",
            "188_decoder.declayer_stack.5.self_MHA_unit.Line...   [512, 512]   [2, 5, 512]   \n",
            "189_decoder.declayer_stack.5.self_MHA_unit.Line...   [512, 512]   [2, 5, 512]   \n",
            "190_decoder.declayer_stack.5.self_MHA_unit.sdpa...            -  [2, 8, 5, 5]   \n",
            "191_decoder.declayer_stack.5.self_MHA_unit.Drop...            -  [2, 8, 5, 5]   \n",
            "192_decoder.declayer_stack.5.self_MHA_unit.Line...   [512, 512]   [2, 5, 512]   \n",
            "193_decoder.declayer_stack.5.self_MHA_unit.Drop...            -   [2, 5, 512]   \n",
            "194_decoder.declayer_stack.5.addandnorm_self_MH...        [512]   [2, 5, 512]   \n",
            "195_decoder.declayer_stack.5.enc_MHA_unit.Linea...   [512, 512]   [2, 5, 512]   \n",
            "196_decoder.declayer_stack.5.enc_MHA_unit.Linea...   [512, 512]   [2, 5, 512]   \n",
            "197_decoder.declayer_stack.5.enc_MHA_unit.Linea...   [512, 512]   [2, 5, 512]   \n",
            "198_decoder.declayer_stack.5.enc_MHA_unit.sdpa....            -  [2, 8, 5, 5]   \n",
            "199_decoder.declayer_stack.5.enc_MHA_unit.Dropo...            -  [2, 8, 5, 5]   \n",
            "200_decoder.declayer_stack.5.enc_MHA_unit.Linea...   [512, 512]   [2, 5, 512]   \n",
            "201_decoder.declayer_stack.5.enc_MHA_unit.Dropo...            -   [2, 5, 512]   \n",
            "202_decoder.declayer_stack.5.addandnorm_enc_MHA...        [512]   [2, 5, 512]   \n",
            "203_decoder.declayer_stack.5.PWFFN.Linear_fc_1      [512, 2048]  [2, 5, 2048]   \n",
            "204_decoder.declayer_stack.5.PWFFN.ReLU_relu                  -  [2, 5, 2048]   \n",
            "205_decoder.declayer_stack.5.PWFFN.Linear_fc_2      [2048, 512]   [2, 5, 512]   \n",
            "206_decoder.declayer_stack.5.PWFFN.Dropout_dropout            -   [2, 5, 512]   \n",
            "207_decoder.declayer_stack.5.addandnorm_PWFFN.L...        [512]   [2, 5, 512]   \n",
            "\n",
            "                                                       Params  Mult-Adds  \n",
            "Layer                                                                     \n",
            "0_src_embed.Embedding_emb                              5.632k     5.632k  \n",
            "1_encoder.LayerNorm_norm                               1.024k      512.0  \n",
            "2_encoder.enclayer_stack.0.MHA_unit.Linear_wi_q      262.144k   262.144k  \n",
            "3_encoder.enclayer_stack.0.MHA_unit.Linear_wi_k      262.144k   262.144k  \n",
            "4_encoder.enclayer_stack.0.MHA_unit.Linear_wi_v      262.144k   262.144k  \n",
            "5_encoder.enclayer_stack.0.MHA_unit.sdpa.Softma...          -          -  \n",
            "6_encoder.enclayer_stack.0.MHA_unit.Dropout_dro...          -          -  \n",
            "7_encoder.enclayer_stack.0.MHA_unit.Linear_fc        262.144k   262.144k  \n",
            "8_encoder.enclayer_stack.0.MHA_unit.Dropout_dro...          -          -  \n",
            "9_encoder.enclayer_stack.0.addandnorm_MHA.Layer...     1.024k      512.0  \n",
            "10_encoder.enclayer_stack.0.PWFFN.Linear_fc_1       1.050624M  1.048576M  \n",
            "11_encoder.enclayer_stack.0.PWFFN.ReLU_relu                 -          -  \n",
            "12_encoder.enclayer_stack.0.PWFFN.Linear_fc_2       1.049088M  1.048576M  \n",
            "13_encoder.enclayer_stack.0.PWFFN.Dropout_dropout           -          -  \n",
            "14_encoder.enclayer_stack.0.addandnorm_PWFFN.La...     1.024k      512.0  \n",
            "15_encoder.enclayer_stack.1.MHA_unit.Linear_wi_q     262.144k   262.144k  \n",
            "16_encoder.enclayer_stack.1.MHA_unit.Linear_wi_k     262.144k   262.144k  \n",
            "17_encoder.enclayer_stack.1.MHA_unit.Linear_wi_v     262.144k   262.144k  \n",
            "18_encoder.enclayer_stack.1.MHA_unit.sdpa.Softm...          -          -  \n",
            "19_encoder.enclayer_stack.1.MHA_unit.Dropout_dr...          -          -  \n",
            "20_encoder.enclayer_stack.1.MHA_unit.Linear_fc       262.144k   262.144k  \n",
            "21_encoder.enclayer_stack.1.MHA_unit.Dropout_dr...          -          -  \n",
            "22_encoder.enclayer_stack.1.addandnorm_MHA.Laye...     1.024k      512.0  \n",
            "23_encoder.enclayer_stack.1.PWFFN.Linear_fc_1       1.050624M  1.048576M  \n",
            "24_encoder.enclayer_stack.1.PWFFN.ReLU_relu                 -          -  \n",
            "25_encoder.enclayer_stack.1.PWFFN.Linear_fc_2       1.049088M  1.048576M  \n",
            "26_encoder.enclayer_stack.1.PWFFN.Dropout_dropout           -          -  \n",
            "27_encoder.enclayer_stack.1.addandnorm_PWFFN.La...     1.024k      512.0  \n",
            "28_encoder.enclayer_stack.2.MHA_unit.Linear_wi_q     262.144k   262.144k  \n",
            "29_encoder.enclayer_stack.2.MHA_unit.Linear_wi_k     262.144k   262.144k  \n",
            "30_encoder.enclayer_stack.2.MHA_unit.Linear_wi_v     262.144k   262.144k  \n",
            "31_encoder.enclayer_stack.2.MHA_unit.sdpa.Softm...          -          -  \n",
            "32_encoder.enclayer_stack.2.MHA_unit.Dropout_dr...          -          -  \n",
            "33_encoder.enclayer_stack.2.MHA_unit.Linear_fc       262.144k   262.144k  \n",
            "34_encoder.enclayer_stack.2.MHA_unit.Dropout_dr...          -          -  \n",
            "35_encoder.enclayer_stack.2.addandnorm_MHA.Laye...     1.024k      512.0  \n",
            "36_encoder.enclayer_stack.2.PWFFN.Linear_fc_1       1.050624M  1.048576M  \n",
            "37_encoder.enclayer_stack.2.PWFFN.ReLU_relu                 -          -  \n",
            "38_encoder.enclayer_stack.2.PWFFN.Linear_fc_2       1.049088M  1.048576M  \n",
            "39_encoder.enclayer_stack.2.PWFFN.Dropout_dropout           -          -  \n",
            "40_encoder.enclayer_stack.2.addandnorm_PWFFN.La...     1.024k      512.0  \n",
            "41_encoder.enclayer_stack.3.MHA_unit.Linear_wi_q     262.144k   262.144k  \n",
            "42_encoder.enclayer_stack.3.MHA_unit.Linear_wi_k     262.144k   262.144k  \n",
            "43_encoder.enclayer_stack.3.MHA_unit.Linear_wi_v     262.144k   262.144k  \n",
            "44_encoder.enclayer_stack.3.MHA_unit.sdpa.Softm...          -          -  \n",
            "45_encoder.enclayer_stack.3.MHA_unit.Dropout_dr...          -          -  \n",
            "46_encoder.enclayer_stack.3.MHA_unit.Linear_fc       262.144k   262.144k  \n",
            "47_encoder.enclayer_stack.3.MHA_unit.Dropout_dr...          -          -  \n",
            "48_encoder.enclayer_stack.3.addandnorm_MHA.Laye...     1.024k      512.0  \n",
            "49_encoder.enclayer_stack.3.PWFFN.Linear_fc_1       1.050624M  1.048576M  \n",
            "50_encoder.enclayer_stack.3.PWFFN.ReLU_relu                 -          -  \n",
            "51_encoder.enclayer_stack.3.PWFFN.Linear_fc_2       1.049088M  1.048576M  \n",
            "52_encoder.enclayer_stack.3.PWFFN.Dropout_dropout           -          -  \n",
            "53_encoder.enclayer_stack.3.addandnorm_PWFFN.La...     1.024k      512.0  \n",
            "54_encoder.enclayer_stack.4.MHA_unit.Linear_wi_q     262.144k   262.144k  \n",
            "55_encoder.enclayer_stack.4.MHA_unit.Linear_wi_k     262.144k   262.144k  \n",
            "56_encoder.enclayer_stack.4.MHA_unit.Linear_wi_v     262.144k   262.144k  \n",
            "57_encoder.enclayer_stack.4.MHA_unit.sdpa.Softm...          -          -  \n",
            "58_encoder.enclayer_stack.4.MHA_unit.Dropout_dr...          -          -  \n",
            "59_encoder.enclayer_stack.4.MHA_unit.Linear_fc       262.144k   262.144k  \n",
            "60_encoder.enclayer_stack.4.MHA_unit.Dropout_dr...          -          -  \n",
            "61_encoder.enclayer_stack.4.addandnorm_MHA.Laye...     1.024k      512.0  \n",
            "62_encoder.enclayer_stack.4.PWFFN.Linear_fc_1       1.050624M  1.048576M  \n",
            "63_encoder.enclayer_stack.4.PWFFN.ReLU_relu                 -          -  \n",
            "64_encoder.enclayer_stack.4.PWFFN.Linear_fc_2       1.049088M  1.048576M  \n",
            "65_encoder.enclayer_stack.4.PWFFN.Dropout_dropout           -          -  \n",
            "66_encoder.enclayer_stack.4.addandnorm_PWFFN.La...     1.024k      512.0  \n",
            "67_encoder.enclayer_stack.5.MHA_unit.Linear_wi_q     262.144k   262.144k  \n",
            "68_encoder.enclayer_stack.5.MHA_unit.Linear_wi_k     262.144k   262.144k  \n",
            "69_encoder.enclayer_stack.5.MHA_unit.Linear_wi_v     262.144k   262.144k  \n",
            "70_encoder.enclayer_stack.5.MHA_unit.sdpa.Softm...          -          -  \n",
            "71_encoder.enclayer_stack.5.MHA_unit.Dropout_dr...          -          -  \n",
            "72_encoder.enclayer_stack.5.MHA_unit.Linear_fc       262.144k   262.144k  \n",
            "73_encoder.enclayer_stack.5.MHA_unit.Dropout_dr...          -          -  \n",
            "74_encoder.enclayer_stack.5.addandnorm_MHA.Laye...     1.024k      512.0  \n",
            "75_encoder.enclayer_stack.5.PWFFN.Linear_fc_1       1.050624M  1.048576M  \n",
            "76_encoder.enclayer_stack.5.PWFFN.ReLU_relu                 -          -  \n",
            "77_encoder.enclayer_stack.5.PWFFN.Linear_fc_2       1.049088M  1.048576M  \n",
            "78_encoder.enclayer_stack.5.PWFFN.Dropout_dropout           -          -  \n",
            "79_encoder.enclayer_stack.5.addandnorm_PWFFN.La...     1.024k      512.0  \n",
            "80_tgt_embed.Embedding_emb                             5.632k     5.632k  \n",
            "81_decoder.LayerNorm_norm                              1.024k      512.0  \n",
            "82_decoder.declayer_stack.0.self_MHA_unit.Linea...   262.144k   262.144k  \n",
            "83_decoder.declayer_stack.0.self_MHA_unit.Linea...   262.144k   262.144k  \n",
            "84_decoder.declayer_stack.0.self_MHA_unit.Linea...   262.144k   262.144k  \n",
            "85_decoder.declayer_stack.0.self_MHA_unit.sdpa....          -          -  \n",
            "86_decoder.declayer_stack.0.self_MHA_unit.Dropo...          -          -  \n",
            "87_decoder.declayer_stack.0.self_MHA_unit.Linea...   262.144k   262.144k  \n",
            "88_decoder.declayer_stack.0.self_MHA_unit.Dropo...          -          -  \n",
            "89_decoder.declayer_stack.0.addandnorm_self_MHA...     1.024k      512.0  \n",
            "90_decoder.declayer_stack.0.enc_MHA_unit.Linear...   262.144k   262.144k  \n",
            "91_decoder.declayer_stack.0.enc_MHA_unit.Linear...   262.144k   262.144k  \n",
            "92_decoder.declayer_stack.0.enc_MHA_unit.Linear...   262.144k   262.144k  \n",
            "93_decoder.declayer_stack.0.enc_MHA_unit.sdpa.S...          -          -  \n",
            "94_decoder.declayer_stack.0.enc_MHA_unit.Dropou...          -          -  \n",
            "95_decoder.declayer_stack.0.enc_MHA_unit.Linear_fc   262.144k   262.144k  \n",
            "96_decoder.declayer_stack.0.enc_MHA_unit.Dropou...          -          -  \n",
            "97_decoder.declayer_stack.0.addandnorm_enc_MHA....     1.024k      512.0  \n",
            "98_decoder.declayer_stack.0.PWFFN.Linear_fc_1       1.050624M  1.048576M  \n",
            "99_decoder.declayer_stack.0.PWFFN.ReLU_relu                 -          -  \n",
            "100_decoder.declayer_stack.0.PWFFN.Linear_fc_2      1.049088M  1.048576M  \n",
            "101_decoder.declayer_stack.0.PWFFN.Dropout_dropout          -          -  \n",
            "102_decoder.declayer_stack.0.addandnorm_PWFFN.L...     1.024k      512.0  \n",
            "103_decoder.declayer_stack.1.self_MHA_unit.Line...   262.144k   262.144k  \n",
            "104_decoder.declayer_stack.1.self_MHA_unit.Line...   262.144k   262.144k  \n",
            "105_decoder.declayer_stack.1.self_MHA_unit.Line...   262.144k   262.144k  \n",
            "106_decoder.declayer_stack.1.self_MHA_unit.sdpa...          -          -  \n",
            "107_decoder.declayer_stack.1.self_MHA_unit.Drop...          -          -  \n",
            "108_decoder.declayer_stack.1.self_MHA_unit.Line...   262.144k   262.144k  \n",
            "109_decoder.declayer_stack.1.self_MHA_unit.Drop...          -          -  \n",
            "110_decoder.declayer_stack.1.addandnorm_self_MH...     1.024k      512.0  \n",
            "111_decoder.declayer_stack.1.enc_MHA_unit.Linea...   262.144k   262.144k  \n",
            "112_decoder.declayer_stack.1.enc_MHA_unit.Linea...   262.144k   262.144k  \n",
            "113_decoder.declayer_stack.1.enc_MHA_unit.Linea...   262.144k   262.144k  \n",
            "114_decoder.declayer_stack.1.enc_MHA_unit.sdpa....          -          -  \n",
            "115_decoder.declayer_stack.1.enc_MHA_unit.Dropo...          -          -  \n",
            "116_decoder.declayer_stack.1.enc_MHA_unit.Linea...   262.144k   262.144k  \n",
            "117_decoder.declayer_stack.1.enc_MHA_unit.Dropo...          -          -  \n",
            "118_decoder.declayer_stack.1.addandnorm_enc_MHA...     1.024k      512.0  \n",
            "119_decoder.declayer_stack.1.PWFFN.Linear_fc_1      1.050624M  1.048576M  \n",
            "120_decoder.declayer_stack.1.PWFFN.ReLU_relu                -          -  \n",
            "121_decoder.declayer_stack.1.PWFFN.Linear_fc_2      1.049088M  1.048576M  \n",
            "122_decoder.declayer_stack.1.PWFFN.Dropout_dropout          -          -  \n",
            "123_decoder.declayer_stack.1.addandnorm_PWFFN.L...     1.024k      512.0  \n",
            "124_decoder.declayer_stack.2.self_MHA_unit.Line...   262.144k   262.144k  \n",
            "125_decoder.declayer_stack.2.self_MHA_unit.Line...   262.144k   262.144k  \n",
            "126_decoder.declayer_stack.2.self_MHA_unit.Line...   262.144k   262.144k  \n",
            "127_decoder.declayer_stack.2.self_MHA_unit.sdpa...          -          -  \n",
            "128_decoder.declayer_stack.2.self_MHA_unit.Drop...          -          -  \n",
            "129_decoder.declayer_stack.2.self_MHA_unit.Line...   262.144k   262.144k  \n",
            "130_decoder.declayer_stack.2.self_MHA_unit.Drop...          -          -  \n",
            "131_decoder.declayer_stack.2.addandnorm_self_MH...     1.024k      512.0  \n",
            "132_decoder.declayer_stack.2.enc_MHA_unit.Linea...   262.144k   262.144k  \n",
            "133_decoder.declayer_stack.2.enc_MHA_unit.Linea...   262.144k   262.144k  \n",
            "134_decoder.declayer_stack.2.enc_MHA_unit.Linea...   262.144k   262.144k  \n",
            "135_decoder.declayer_stack.2.enc_MHA_unit.sdpa....          -          -  \n",
            "136_decoder.declayer_stack.2.enc_MHA_unit.Dropo...          -          -  \n",
            "137_decoder.declayer_stack.2.enc_MHA_unit.Linea...   262.144k   262.144k  \n",
            "138_decoder.declayer_stack.2.enc_MHA_unit.Dropo...          -          -  \n",
            "139_decoder.declayer_stack.2.addandnorm_enc_MHA...     1.024k      512.0  \n",
            "140_decoder.declayer_stack.2.PWFFN.Linear_fc_1      1.050624M  1.048576M  \n",
            "141_decoder.declayer_stack.2.PWFFN.ReLU_relu                -          -  \n",
            "142_decoder.declayer_stack.2.PWFFN.Linear_fc_2      1.049088M  1.048576M  \n",
            "143_decoder.declayer_stack.2.PWFFN.Dropout_dropout          -          -  \n",
            "144_decoder.declayer_stack.2.addandnorm_PWFFN.L...     1.024k      512.0  \n",
            "145_decoder.declayer_stack.3.self_MHA_unit.Line...   262.144k   262.144k  \n",
            "146_decoder.declayer_stack.3.self_MHA_unit.Line...   262.144k   262.144k  \n",
            "147_decoder.declayer_stack.3.self_MHA_unit.Line...   262.144k   262.144k  \n",
            "148_decoder.declayer_stack.3.self_MHA_unit.sdpa...          -          -  \n",
            "149_decoder.declayer_stack.3.self_MHA_unit.Drop...          -          -  \n",
            "150_decoder.declayer_stack.3.self_MHA_unit.Line...   262.144k   262.144k  \n",
            "151_decoder.declayer_stack.3.self_MHA_unit.Drop...          -          -  \n",
            "152_decoder.declayer_stack.3.addandnorm_self_MH...     1.024k      512.0  \n",
            "153_decoder.declayer_stack.3.enc_MHA_unit.Linea...   262.144k   262.144k  \n",
            "154_decoder.declayer_stack.3.enc_MHA_unit.Linea...   262.144k   262.144k  \n",
            "155_decoder.declayer_stack.3.enc_MHA_unit.Linea...   262.144k   262.144k  \n",
            "156_decoder.declayer_stack.3.enc_MHA_unit.sdpa....          -          -  \n",
            "157_decoder.declayer_stack.3.enc_MHA_unit.Dropo...          -          -  \n",
            "158_decoder.declayer_stack.3.enc_MHA_unit.Linea...   262.144k   262.144k  \n",
            "159_decoder.declayer_stack.3.enc_MHA_unit.Dropo...          -          -  \n",
            "160_decoder.declayer_stack.3.addandnorm_enc_MHA...     1.024k      512.0  \n",
            "161_decoder.declayer_stack.3.PWFFN.Linear_fc_1      1.050624M  1.048576M  \n",
            "162_decoder.declayer_stack.3.PWFFN.ReLU_relu                -          -  \n",
            "163_decoder.declayer_stack.3.PWFFN.Linear_fc_2      1.049088M  1.048576M  \n",
            "164_decoder.declayer_stack.3.PWFFN.Dropout_dropout          -          -  \n",
            "165_decoder.declayer_stack.3.addandnorm_PWFFN.L...     1.024k      512.0  \n",
            "166_decoder.declayer_stack.4.self_MHA_unit.Line...   262.144k   262.144k  \n",
            "167_decoder.declayer_stack.4.self_MHA_unit.Line...   262.144k   262.144k  \n",
            "168_decoder.declayer_stack.4.self_MHA_unit.Line...   262.144k   262.144k  \n",
            "169_decoder.declayer_stack.4.self_MHA_unit.sdpa...          -          -  \n",
            "170_decoder.declayer_stack.4.self_MHA_unit.Drop...          -          -  \n",
            "171_decoder.declayer_stack.4.self_MHA_unit.Line...   262.144k   262.144k  \n",
            "172_decoder.declayer_stack.4.self_MHA_unit.Drop...          -          -  \n",
            "173_decoder.declayer_stack.4.addandnorm_self_MH...     1.024k      512.0  \n",
            "174_decoder.declayer_stack.4.enc_MHA_unit.Linea...   262.144k   262.144k  \n",
            "175_decoder.declayer_stack.4.enc_MHA_unit.Linea...   262.144k   262.144k  \n",
            "176_decoder.declayer_stack.4.enc_MHA_unit.Linea...   262.144k   262.144k  \n",
            "177_decoder.declayer_stack.4.enc_MHA_unit.sdpa....          -          -  \n",
            "178_decoder.declayer_stack.4.enc_MHA_unit.Dropo...          -          -  \n",
            "179_decoder.declayer_stack.4.enc_MHA_unit.Linea...   262.144k   262.144k  \n",
            "180_decoder.declayer_stack.4.enc_MHA_unit.Dropo...          -          -  \n",
            "181_decoder.declayer_stack.4.addandnorm_enc_MHA...     1.024k      512.0  \n",
            "182_decoder.declayer_stack.4.PWFFN.Linear_fc_1      1.050624M  1.048576M  \n",
            "183_decoder.declayer_stack.4.PWFFN.ReLU_relu                -          -  \n",
            "184_decoder.declayer_stack.4.PWFFN.Linear_fc_2      1.049088M  1.048576M  \n",
            "185_decoder.declayer_stack.4.PWFFN.Dropout_dropout          -          -  \n",
            "186_decoder.declayer_stack.4.addandnorm_PWFFN.L...     1.024k      512.0  \n",
            "187_decoder.declayer_stack.5.self_MHA_unit.Line...   262.144k   262.144k  \n",
            "188_decoder.declayer_stack.5.self_MHA_unit.Line...   262.144k   262.144k  \n",
            "189_decoder.declayer_stack.5.self_MHA_unit.Line...   262.144k   262.144k  \n",
            "190_decoder.declayer_stack.5.self_MHA_unit.sdpa...          -          -  \n",
            "191_decoder.declayer_stack.5.self_MHA_unit.Drop...          -          -  \n",
            "192_decoder.declayer_stack.5.self_MHA_unit.Line...   262.144k   262.144k  \n",
            "193_decoder.declayer_stack.5.self_MHA_unit.Drop...          -          -  \n",
            "194_decoder.declayer_stack.5.addandnorm_self_MH...     1.024k      512.0  \n",
            "195_decoder.declayer_stack.5.enc_MHA_unit.Linea...   262.144k   262.144k  \n",
            "196_decoder.declayer_stack.5.enc_MHA_unit.Linea...   262.144k   262.144k  \n",
            "197_decoder.declayer_stack.5.enc_MHA_unit.Linea...   262.144k   262.144k  \n",
            "198_decoder.declayer_stack.5.enc_MHA_unit.sdpa....          -          -  \n",
            "199_decoder.declayer_stack.5.enc_MHA_unit.Dropo...          -          -  \n",
            "200_decoder.declayer_stack.5.enc_MHA_unit.Linea...   262.144k   262.144k  \n",
            "201_decoder.declayer_stack.5.enc_MHA_unit.Dropo...          -          -  \n",
            "202_decoder.declayer_stack.5.addandnorm_enc_MHA...     1.024k      512.0  \n",
            "203_decoder.declayer_stack.5.PWFFN.Linear_fc_1      1.050624M  1.048576M  \n",
            "204_decoder.declayer_stack.5.PWFFN.ReLU_relu                -          -  \n",
            "205_decoder.declayer_stack.5.PWFFN.Linear_fc_2      1.049088M  1.048576M  \n",
            "206_decoder.declayer_stack.5.PWFFN.Dropout_dropout          -          -  \n",
            "207_decoder.declayer_stack.5.addandnorm_PWFFN.L...     1.024k      512.0  \n",
            "----------------------------------------------------------------------------------------------------------------\n",
            "                          Totals\n",
            "Total params          44.114944M\n",
            "Trainable params      44.114944M\n",
            "Non-trainable params         0.0\n",
            "Mult-Adds              44.06784M\n",
            "================================================================================================================\n"
          ]
        },
        {
          "output_type": "execute_result",
          "data": {
            "text/plain": [
              "                                                   Kernel Shape  Output Shape  \\\n",
              "Layer                                                                           \n",
              "0_src_embed.Embedding_emb                             [512, 11]   [2, 5, 512]   \n",
              "1_encoder.LayerNorm_norm                                  [512]   [2, 5, 512]   \n",
              "2_encoder.enclayer_stack.0.MHA_unit.Linear_wi_q      [512, 512]   [2, 5, 512]   \n",
              "3_encoder.enclayer_stack.0.MHA_unit.Linear_wi_k      [512, 512]   [2, 5, 512]   \n",
              "4_encoder.enclayer_stack.0.MHA_unit.Linear_wi_v      [512, 512]   [2, 5, 512]   \n",
              "...                                                         ...           ...   \n",
              "203_decoder.declayer_stack.5.PWFFN.Linear_fc_1      [512, 2048]  [2, 5, 2048]   \n",
              "204_decoder.declayer_stack.5.PWFFN.ReLU_relu                  -  [2, 5, 2048]   \n",
              "205_decoder.declayer_stack.5.PWFFN.Linear_fc_2      [2048, 512]   [2, 5, 512]   \n",
              "206_decoder.declayer_stack.5.PWFFN.Dropout_dropout            -   [2, 5, 512]   \n",
              "207_decoder.declayer_stack.5.addandnorm_PWFFN.L...        [512]   [2, 5, 512]   \n",
              "\n",
              "                                                       Params  Mult-Adds  \n",
              "Layer                                                                     \n",
              "0_src_embed.Embedding_emb                              5632.0     5632.0  \n",
              "1_encoder.LayerNorm_norm                               1024.0      512.0  \n",
              "2_encoder.enclayer_stack.0.MHA_unit.Linear_wi_q      262144.0   262144.0  \n",
              "3_encoder.enclayer_stack.0.MHA_unit.Linear_wi_k      262144.0   262144.0  \n",
              "4_encoder.enclayer_stack.0.MHA_unit.Linear_wi_v      262144.0   262144.0  \n",
              "...                                                       ...        ...  \n",
              "203_decoder.declayer_stack.5.PWFFN.Linear_fc_1      1050624.0  1048576.0  \n",
              "204_decoder.declayer_stack.5.PWFFN.ReLU_relu              NaN        NaN  \n",
              "205_decoder.declayer_stack.5.PWFFN.Linear_fc_2      1049088.0  1048576.0  \n",
              "206_decoder.declayer_stack.5.PWFFN.Dropout_dropout        NaN        NaN  \n",
              "207_decoder.declayer_stack.5.addandnorm_PWFFN.L...     1024.0      512.0  \n",
              "\n",
              "[208 rows x 4 columns]"
            ],
            "text/html": [
              "\n",
              "  <div id=\"df-aa719f97-92ab-40e5-84df-42374fc61ddd\">\n",
              "    <div class=\"colab-df-container\">\n",
              "      <div>\n",
              "<style scoped>\n",
              "    .dataframe tbody tr th:only-of-type {\n",
              "        vertical-align: middle;\n",
              "    }\n",
              "\n",
              "    .dataframe tbody tr th {\n",
              "        vertical-align: top;\n",
              "    }\n",
              "\n",
              "    .dataframe thead th {\n",
              "        text-align: right;\n",
              "    }\n",
              "</style>\n",
              "<table border=\"1\" class=\"dataframe\">\n",
              "  <thead>\n",
              "    <tr style=\"text-align: right;\">\n",
              "      <th></th>\n",
              "      <th>Kernel Shape</th>\n",
              "      <th>Output Shape</th>\n",
              "      <th>Params</th>\n",
              "      <th>Mult-Adds</th>\n",
              "    </tr>\n",
              "    <tr>\n",
              "      <th>Layer</th>\n",
              "      <th></th>\n",
              "      <th></th>\n",
              "      <th></th>\n",
              "      <th></th>\n",
              "    </tr>\n",
              "  </thead>\n",
              "  <tbody>\n",
              "    <tr>\n",
              "      <th>0_src_embed.Embedding_emb</th>\n",
              "      <td>[512, 11]</td>\n",
              "      <td>[2, 5, 512]</td>\n",
              "      <td>5632.0</td>\n",
              "      <td>5632.0</td>\n",
              "    </tr>\n",
              "    <tr>\n",
              "      <th>1_encoder.LayerNorm_norm</th>\n",
              "      <td>[512]</td>\n",
              "      <td>[2, 5, 512]</td>\n",
              "      <td>1024.0</td>\n",
              "      <td>512.0</td>\n",
              "    </tr>\n",
              "    <tr>\n",
              "      <th>2_encoder.enclayer_stack.0.MHA_unit.Linear_wi_q</th>\n",
              "      <td>[512, 512]</td>\n",
              "      <td>[2, 5, 512]</td>\n",
              "      <td>262144.0</td>\n",
              "      <td>262144.0</td>\n",
              "    </tr>\n",
              "    <tr>\n",
              "      <th>3_encoder.enclayer_stack.0.MHA_unit.Linear_wi_k</th>\n",
              "      <td>[512, 512]</td>\n",
              "      <td>[2, 5, 512]</td>\n",
              "      <td>262144.0</td>\n",
              "      <td>262144.0</td>\n",
              "    </tr>\n",
              "    <tr>\n",
              "      <th>4_encoder.enclayer_stack.0.MHA_unit.Linear_wi_v</th>\n",
              "      <td>[512, 512]</td>\n",
              "      <td>[2, 5, 512]</td>\n",
              "      <td>262144.0</td>\n",
              "      <td>262144.0</td>\n",
              "    </tr>\n",
              "    <tr>\n",
              "      <th>...</th>\n",
              "      <td>...</td>\n",
              "      <td>...</td>\n",
              "      <td>...</td>\n",
              "      <td>...</td>\n",
              "    </tr>\n",
              "    <tr>\n",
              "      <th>203_decoder.declayer_stack.5.PWFFN.Linear_fc_1</th>\n",
              "      <td>[512, 2048]</td>\n",
              "      <td>[2, 5, 2048]</td>\n",
              "      <td>1050624.0</td>\n",
              "      <td>1048576.0</td>\n",
              "    </tr>\n",
              "    <tr>\n",
              "      <th>204_decoder.declayer_stack.5.PWFFN.ReLU_relu</th>\n",
              "      <td>-</td>\n",
              "      <td>[2, 5, 2048]</td>\n",
              "      <td>NaN</td>\n",
              "      <td>NaN</td>\n",
              "    </tr>\n",
              "    <tr>\n",
              "      <th>205_decoder.declayer_stack.5.PWFFN.Linear_fc_2</th>\n",
              "      <td>[2048, 512]</td>\n",
              "      <td>[2, 5, 512]</td>\n",
              "      <td>1049088.0</td>\n",
              "      <td>1048576.0</td>\n",
              "    </tr>\n",
              "    <tr>\n",
              "      <th>206_decoder.declayer_stack.5.PWFFN.Dropout_dropout</th>\n",
              "      <td>-</td>\n",
              "      <td>[2, 5, 512]</td>\n",
              "      <td>NaN</td>\n",
              "      <td>NaN</td>\n",
              "    </tr>\n",
              "    <tr>\n",
              "      <th>207_decoder.declayer_stack.5.addandnorm_PWFFN.LayerNorm_norm</th>\n",
              "      <td>[512]</td>\n",
              "      <td>[2, 5, 512]</td>\n",
              "      <td>1024.0</td>\n",
              "      <td>512.0</td>\n",
              "    </tr>\n",
              "  </tbody>\n",
              "</table>\n",
              "<p>208 rows × 4 columns</p>\n",
              "</div>\n",
              "      <button class=\"colab-df-convert\" onclick=\"convertToInteractive('df-aa719f97-92ab-40e5-84df-42374fc61ddd')\"\n",
              "              title=\"Convert this dataframe to an interactive table.\"\n",
              "              style=\"display:none;\">\n",
              "        \n",
              "  <svg xmlns=\"http://www.w3.org/2000/svg\" height=\"24px\"viewBox=\"0 0 24 24\"\n",
              "       width=\"24px\">\n",
              "    <path d=\"M0 0h24v24H0V0z\" fill=\"none\"/>\n",
              "    <path d=\"M18.56 5.44l.94 2.06.94-2.06 2.06-.94-2.06-.94-.94-2.06-.94 2.06-2.06.94zm-11 1L8.5 8.5l.94-2.06 2.06-.94-2.06-.94L8.5 2.5l-.94 2.06-2.06.94zm10 10l.94 2.06.94-2.06 2.06-.94-2.06-.94-.94-2.06-.94 2.06-2.06.94z\"/><path d=\"M17.41 7.96l-1.37-1.37c-.4-.4-.92-.59-1.43-.59-.52 0-1.04.2-1.43.59L10.3 9.45l-7.72 7.72c-.78.78-.78 2.05 0 2.83L4 21.41c.39.39.9.59 1.41.59.51 0 1.02-.2 1.41-.59l7.78-7.78 2.81-2.81c.8-.78.8-2.07 0-2.86zM5.41 20L4 18.59l7.72-7.72 1.47 1.35L5.41 20z\"/>\n",
              "  </svg>\n",
              "      </button>\n",
              "      \n",
              "  <style>\n",
              "    .colab-df-container {\n",
              "      display:flex;\n",
              "      flex-wrap:wrap;\n",
              "      gap: 12px;\n",
              "    }\n",
              "\n",
              "    .colab-df-convert {\n",
              "      background-color: #E8F0FE;\n",
              "      border: none;\n",
              "      border-radius: 50%;\n",
              "      cursor: pointer;\n",
              "      display: none;\n",
              "      fill: #1967D2;\n",
              "      height: 32px;\n",
              "      padding: 0 0 0 0;\n",
              "      width: 32px;\n",
              "    }\n",
              "\n",
              "    .colab-df-convert:hover {\n",
              "      background-color: #E2EBFA;\n",
              "      box-shadow: 0px 1px 2px rgba(60, 64, 67, 0.3), 0px 1px 3px 1px rgba(60, 64, 67, 0.15);\n",
              "      fill: #174EA6;\n",
              "    }\n",
              "\n",
              "    [theme=dark] .colab-df-convert {\n",
              "      background-color: #3B4455;\n",
              "      fill: #D2E3FC;\n",
              "    }\n",
              "\n",
              "    [theme=dark] .colab-df-convert:hover {\n",
              "      background-color: #434B5C;\n",
              "      box-shadow: 0px 1px 3px 1px rgba(0, 0, 0, 0.15);\n",
              "      filter: drop-shadow(0px 1px 2px rgba(0, 0, 0, 0.3));\n",
              "      fill: #FFFFFF;\n",
              "    }\n",
              "  </style>\n",
              "\n",
              "      <script>\n",
              "        const buttonEl =\n",
              "          document.querySelector('#df-aa719f97-92ab-40e5-84df-42374fc61ddd button.colab-df-convert');\n",
              "        buttonEl.style.display =\n",
              "          google.colab.kernel.accessAllowed ? 'block' : 'none';\n",
              "\n",
              "        async function convertToInteractive(key) {\n",
              "          const element = document.querySelector('#df-aa719f97-92ab-40e5-84df-42374fc61ddd');\n",
              "          const dataTable =\n",
              "            await google.colab.kernel.invokeFunction('convertToInteractive',\n",
              "                                                     [key], {});\n",
              "          if (!dataTable) return;\n",
              "\n",
              "          const docLinkHtml = 'Like what you see? Visit the ' +\n",
              "            '<a target=\"_blank\" href=https://colab.research.google.com/notebooks/data_table.ipynb>data table notebook</a>'\n",
              "            + ' to learn more about interactive tables.';\n",
              "          element.innerHTML = '';\n",
              "          dataTable['output_type'] = 'display_data';\n",
              "          await google.colab.output.renderOutput(dataTable, element);\n",
              "          const docLink = document.createElement('div');\n",
              "          docLink.innerHTML = docLinkHtml;\n",
              "          element.appendChild(docLink);\n",
              "        }\n",
              "      </script>\n",
              "    </div>\n",
              "  </div>\n",
              "  "
            ]
          },
          "metadata": {},
          "execution_count": 17
        }
      ]
    },
    {
      "cell_type": "markdown",
      "metadata": {
        "id": "yUlOoGM4XtlT"
      },
      "source": [
        "# Backup_1"
      ]
    },
    {
      "cell_type": "markdown",
      "metadata": {
        "id": "ma7LmcBBDayM"
      },
      "source": [
        "## Define classes and Functions"
      ]
    },
    {
      "cell_type": "code",
      "metadata": {
        "collapsed": true,
        "id": "aFIfv_2RXq9P"
      },
      "source": [
        "# # Small example model.\n",
        "# tmp_model = make_model(10, 10, 2)\n",
        "# tmp_model"
      ],
      "execution_count": 18,
      "outputs": []
    },
    {
      "cell_type": "code",
      "metadata": {
        "collapsed": true,
        "id": "BruCIK5kXq9J"
      },
      "source": [
        "def subsequent_mask(size):\n",
        "    \"Mask out subsequent positions.\"\n",
        "    attn_shape = (1, size, size)\n",
        "    subsequent_mask = np.triu(np.ones(attn_shape), k=1).astype('uint8')\n",
        "    return torch.from_numpy(subsequent_mask) == 0"
      ],
      "execution_count": 19,
      "outputs": []
    },
    {
      "cell_type": "code",
      "metadata": {
        "id": "5cw-bWMGXq9K"
      },
      "source": [
        "# plt.figure(figsize=(5,5))\n",
        "# plt.imshow(subsequent_mask(20)[0])\n",
        "# None"
      ],
      "execution_count": 20,
      "outputs": []
    },
    {
      "cell_type": "code",
      "metadata": {
        "collapsed": true,
        "id": "C_hrhDpSXq9P"
      },
      "source": [
        "class Batch:\n",
        "    \"Object for holding a batch of data with mask during training.\"\n",
        "    def __init__(self, src, trg=None, pad=0):\n",
        "        self.src = src\n",
        "        self.src_mask = (src != pad).unsqueeze(-2)\n",
        "        if trg is not None:\n",
        "            self.trg = trg[:, :-1]\n",
        "            self.trg_y = trg[:, 1:]\n",
        "            self.trg_mask = \\\n",
        "                self.make_std_mask(self.trg, pad)\n",
        "            self.ntokens = (self.trg_y != pad).data.sum()\n",
        "    \n",
        "    @staticmethod\n",
        "    def make_std_mask(tgt, pad):\n",
        "        \"Create a mask to hide padding and future words.\"\n",
        "        tgt_mask = (tgt != pad).unsqueeze(-2)\n",
        "        tgt_mask = tgt_mask & Variable(\n",
        "            subsequent_mask(tgt.size(-1)).type_as(tgt_mask.data))\n",
        "        return tgt_mask"
      ],
      "execution_count": 21,
      "outputs": []
    },
    {
      "cell_type": "code",
      "metadata": {
        "collapsed": true,
        "id": "yDpJ74V1Xq9Q"
      },
      "source": [
        "def run_epoch(data_iter, model, loss_compute):\n",
        "    \"Standard Training and Logging Function\"\n",
        "    start = time.time()\n",
        "    total_tokens = 0\n",
        "    total_loss = 0\n",
        "    tokens = 0\n",
        "    for i, batch in enumerate(data_iter):\n",
        "        out = model.forward(batch.src, batch.trg, \n",
        "                            batch.src_mask, batch.trg_mask)\n",
        "        loss = loss_compute(out, batch.trg_y, batch.ntokens)\n",
        "        total_loss += loss\n",
        "        total_tokens += batch.ntokens\n",
        "        tokens += batch.ntokens\n",
        "        if i % 50 == 1:\n",
        "            elapsed = time.time() - start\n",
        "            print(\"Epoch Step: %d Loss: %f Tokens per Sec: %f\" %\n",
        "                    (i, loss / batch.ntokens, tokens / elapsed))\n",
        "            start = time.time()\n",
        "            tokens = 0\n",
        "    return total_loss / total_tokens"
      ],
      "execution_count": 22,
      "outputs": []
    },
    {
      "cell_type": "code",
      "metadata": {
        "collapsed": true,
        "id": "XxlRc2ooXq9Q"
      },
      "source": [
        "global max_src_in_batch, max_tgt_in_batch\n",
        "def batch_size_fn(new, count, sofar):\n",
        "    \"Keep augmenting batch and calculate total number of tokens + padding.\"\n",
        "    global max_src_in_batch, max_tgt_in_batch\n",
        "    if count == 1:\n",
        "        max_src_in_batch = 0\n",
        "        max_tgt_in_batch = 0\n",
        "    max_src_in_batch = max(max_src_in_batch,  len(new.src))\n",
        "    max_tgt_in_batch = max(max_tgt_in_batch,  len(new.trg) + 2)\n",
        "    src_elements = count * max_src_in_batch\n",
        "    tgt_elements = count * max_tgt_in_batch\n",
        "    return max(src_elements, tgt_elements)"
      ],
      "execution_count": 23,
      "outputs": []
    },
    {
      "cell_type": "code",
      "metadata": {
        "collapsed": true,
        "id": "ZSMNBwjzXq9R"
      },
      "source": [
        "class NoamOpt:\n",
        "    \"Optim wrapper that implements rate.\"\n",
        "    def __init__(self, model_size, factor, warmup, optimizer):\n",
        "        self.optimizer = optimizer\n",
        "        self._step = 0\n",
        "        self.warmup = warmup\n",
        "        self.factor = factor\n",
        "        self.model_size = model_size\n",
        "        self._rate = 0\n",
        "        \n",
        "    def step(self):\n",
        "        \"Update parameters and rate\"\n",
        "        self._step += 1\n",
        "        rate = self.rate()\n",
        "        for p in self.optimizer.param_groups:\n",
        "            p['lr'] = rate\n",
        "        self._rate = rate\n",
        "        self.optimizer.step()\n",
        "        \n",
        "    def rate(self, step = None):\n",
        "        \"Implement `lrate` above\"\n",
        "        if step is None:\n",
        "            step = self._step\n",
        "        return self.factor * \\\n",
        "            (self.model_size ** (-0.5) *\n",
        "            min(step ** (-0.5), step * self.warmup ** (-1.5)))\n",
        "        \n",
        "def get_std_opt(model):\n",
        "    return NoamOpt(model.src_embed[0].d_model, 2, 4000,\n",
        "            torch.optim.Adam(model.parameters(), lr=0, betas=(0.9, 0.98), eps=1e-9))"
      ],
      "execution_count": 24,
      "outputs": []
    },
    {
      "cell_type": "code",
      "metadata": {
        "id": "JkTG4VoeXq9R"
      },
      "source": [
        "# # Three settings of the lrate hyperparameters.\n",
        "# opts = [NoamOpt(512, 1, 4000, None), \n",
        "#         NoamOpt(512, 1, 8000, None),\n",
        "#         NoamOpt(256, 1, 4000, None)]\n",
        "# plt.plot(np.arange(1, 20000), [[opt.rate(i) for opt in opts] for i in range(1, 20000)])\n",
        "# plt.legend([\"512:4000\", \"512:8000\", \"256:4000\"])\n",
        "# None"
      ],
      "execution_count": 25,
      "outputs": []
    },
    {
      "cell_type": "code",
      "metadata": {
        "collapsed": true,
        "id": "_cwDcAbQXq9S"
      },
      "source": [
        "class LabelSmoothing(nn.Module):\n",
        "    \"Implement label smoothing.\"\n",
        "    def __init__(self, size, padding_idx, smoothing=0.0):\n",
        "        super(LabelSmoothing, self).__init__()\n",
        "        self.criterion = nn.KLDivLoss(size_average=False)\n",
        "        self.padding_idx = padding_idx\n",
        "        self.confidence = 1.0 - smoothing\n",
        "        self.smoothing = smoothing\n",
        "        self.size = size\n",
        "        self.true_dist = None\n",
        "        \n",
        "    def forward(self, x, target):\n",
        "        assert x.size(1) == self.size\n",
        "        true_dist = x.data.clone()\n",
        "        true_dist.fill_(self.smoothing / (self.size - 2))\n",
        "        true_dist.scatter_(1, target.data.unsqueeze(1), self.confidence)\n",
        "        true_dist[:, self.padding_idx] = 0\n",
        "        mask = torch.nonzero(target.data == self.padding_idx)\n",
        "        if mask.dim() > 0:\n",
        "            true_dist.index_fill_(0, mask.squeeze(), 0.0)\n",
        "        self.true_dist = true_dist\n",
        "        return self.criterion(x, Variable(true_dist, requires_grad=False))"
      ],
      "execution_count": 26,
      "outputs": []
    },
    {
      "cell_type": "code",
      "metadata": {
        "id": "19Gk4m0NXq9T"
      },
      "source": [
        "# #Example of label smoothing.\n",
        "# crit = LabelSmoothing(5, 0, 0.4)\n",
        "# predict = torch.FloatTensor([[0, 0.2, 0.7, 0.1, 0],\n",
        "#                              [0, 0.2, 0.7, 0.1, 0], \n",
        "#                              [0, 0.2, 0.7, 0.1, 0]])\n",
        "# v = crit(Variable(predict.log()), \n",
        "#          Variable(torch.LongTensor([2, 1, 0])))\n",
        "\n",
        "# # Show the target distributions expected by the system.\n",
        "# plt.imshow(crit.true_dist)\n",
        "# None"
      ],
      "execution_count": 27,
      "outputs": []
    },
    {
      "cell_type": "code",
      "metadata": {
        "id": "Ic5GcDWEXq9T"
      },
      "source": [
        "# crit = LabelSmoothing(5, 0, 0.1)\n",
        "# def loss(x):\n",
        "#     d = x + 3 * 1\n",
        "#     predict = torch.FloatTensor([[0, x / d, 1 / d, 1 / d, 1 / d],\n",
        "#                                  ])\n",
        "#     #print(predict)\n",
        "#     return crit(Variable(predict.log()),\n",
        "#                  Variable(torch.LongTensor([1]))).item()\n",
        "# plt.plot(np.arange(1, 100), [loss(x) for x in range(1, 100)])\n",
        "# None"
      ],
      "execution_count": 28,
      "outputs": []
    },
    {
      "cell_type": "markdown",
      "metadata": {
        "id": "6DOg6L-rXq9U"
      },
      "source": [
        "## Synthetic Data"
      ]
    },
    {
      "cell_type": "code",
      "metadata": {
        "collapsed": true,
        "id": "S0aXeGP0Xq9U"
      },
      "source": [
        "def data_gen(V, batch, nbatches):\n",
        "    \"Generate random data for a src-tgt copy task.\"\n",
        "    for i in range(nbatches):\n",
        "        data = torch.from_numpy(np.random.randint(1, V, size=(batch, 10)))\n",
        "        data[:, 0] = 1\n",
        "        src = Variable(data, requires_grad=False)\n",
        "        tgt = Variable(data, requires_grad=False)\n",
        "        yield Batch(src, tgt, 0)"
      ],
      "execution_count": 29,
      "outputs": []
    },
    {
      "cell_type": "markdown",
      "metadata": {
        "id": "ULRFkGb8Xq9U"
      },
      "source": [
        "## Loss Computation"
      ]
    },
    {
      "cell_type": "code",
      "metadata": {
        "collapsed": true,
        "id": "7Ae8ht1RXq9V"
      },
      "source": [
        "class SimpleLossCompute:\n",
        "    \"A simple loss compute and train function.\"\n",
        "    def __init__(self, generator, criterion, opt=None):\n",
        "        self.generator = generator\n",
        "        self.criterion = criterion\n",
        "        self.opt = opt\n",
        "        \n",
        "    def __call__(self, x, y, norm):\n",
        "        x = self.generator(x)\n",
        "        loss = self.criterion(x.contiguous().view(-1, x.size(-1)), \n",
        "                              y.contiguous().view(-1)) / norm\n",
        "        loss.backward()\n",
        "        if self.opt is not None:\n",
        "            self.opt.step()\n",
        "            self.opt.optimizer.zero_grad()\n",
        "        #return loss.data[0] * norm\n",
        "        return loss.item() * norm"
      ],
      "execution_count": 30,
      "outputs": []
    },
    {
      "cell_type": "markdown",
      "metadata": {
        "id": "3_5N7srEXq9V"
      },
      "source": [
        "## Greedy Decoding"
      ]
    },
    {
      "cell_type": "code",
      "source": [
        "V = 11\n",
        "model = make_model(V, V, N=2)\n",
        "data_iter = data_gen(V, 2, 1)\n",
        "for i, batch in enumerate(data_iter):\n",
        "  #print(batch.src, batch.trg, batch.src_mask, batch.trg_mask)\n",
        "  print(batch.src.shape, batch.trg.shape, batch.src_mask.shape, batch.trg_mask.shape)"
      ],
      "metadata": {
        "id": "mN6FZqLTq728",
        "colab": {
          "base_uri": "https://localhost:8080/"
        },
        "outputId": "4fb40db7-1c14-493b-f444-50edcc9d6cc1"
      },
      "execution_count": 31,
      "outputs": [
        {
          "output_type": "stream",
          "name": "stdout",
          "text": [
            "torch.Size([2, 10]) torch.Size([2, 9]) torch.Size([2, 1, 10]) torch.Size([2, 9, 9])\n"
          ]
        },
        {
          "output_type": "stream",
          "name": "stderr",
          "text": [
            "/content/transformer_utils.py:451: UserWarning: nn.init.xavier_uniform is now deprecated in favor of nn.init.xavier_uniform_.\n",
            "  nn.init.xavier_uniform(p)\n"
          ]
        }
      ]
    },
    {
      "cell_type": "code",
      "source": [
        "print(batch.src)\n",
        "print(batch.trg)\n",
        "print(batch.src_mask)\n",
        "print(batch.trg_mask)"
      ],
      "metadata": {
        "id": "Q_nR5pF5PlLj"
      },
      "execution_count": null,
      "outputs": []
    },
    {
      "cell_type": "code",
      "source": [
        "batch.src_mask"
      ],
      "metadata": {
        "id": "-GyT9nCz-3i3"
      },
      "execution_count": null,
      "outputs": []
    },
    {
      "cell_type": "code",
      "source": [
        "print(batch.src)\n",
        "print(batch.trg)"
      ],
      "metadata": {
        "id": "itkmfGqA-iAa"
      },
      "execution_count": null,
      "outputs": []
    },
    {
      "cell_type": "code",
      "source": [
        "enc_out = model.encode(batch.src, batch.src_mask)\n",
        "print(enc_out.shape)"
      ],
      "metadata": {
        "colab": {
          "base_uri": "https://localhost:8080/"
        },
        "id": "6xcPMh-SRhXE",
        "outputId": "44d2e2db-70f6-4af0-d9cf-0dd7f6947fcc"
      },
      "execution_count": 32,
      "outputs": [
        {
          "output_type": "stream",
          "name": "stdout",
          "text": [
            "torch.Size([2, 10, 512])\n"
          ]
        }
      ]
    },
    {
      "cell_type": "code",
      "source": [
        "emb_tgt = model.tgt_embed(batch.trg)\n",
        "#model.decoder.declayer(emb_tgt, enc_out, batch.src_mask, batch.trg_mask)\n",
        "layer = model.decoder.declayer.self_MHA_unit.sdpa\n",
        "x = emb_tgt\n",
        "layer(x, x, x, batch.src_mask)"
      ],
      "metadata": {
        "colab": {
          "base_uri": "https://localhost:8080/",
          "height": 346
        },
        "id": "ebXEeYX8T3t9",
        "outputId": "62f6b41c-bb67-4ec0-8fcf-8e452d3bce10"
      },
      "execution_count": 33,
      "outputs": [
        {
          "output_type": "error",
          "ename": "RuntimeError",
          "evalue": "ignored",
          "traceback": [
            "\u001b[0;31m---------------------------------------------------------------------------\u001b[0m",
            "\u001b[0;31mRuntimeError\u001b[0m                              Traceback (most recent call last)",
            "\u001b[0;32m<ipython-input-33-c6a51433122b>\u001b[0m in \u001b[0;36m<module>\u001b[0;34m()\u001b[0m\n\u001b[1;32m      3\u001b[0m \u001b[0mlayer\u001b[0m \u001b[0;34m=\u001b[0m \u001b[0mmodel\u001b[0m\u001b[0;34m.\u001b[0m\u001b[0mdecoder\u001b[0m\u001b[0;34m.\u001b[0m\u001b[0mdeclayer\u001b[0m\u001b[0;34m.\u001b[0m\u001b[0mself_MHA_unit\u001b[0m\u001b[0;34m.\u001b[0m\u001b[0msdpa\u001b[0m\u001b[0;34m\u001b[0m\u001b[0;34m\u001b[0m\u001b[0m\n\u001b[1;32m      4\u001b[0m \u001b[0mx\u001b[0m \u001b[0;34m=\u001b[0m \u001b[0memb_tgt\u001b[0m\u001b[0;34m\u001b[0m\u001b[0;34m\u001b[0m\u001b[0m\n\u001b[0;32m----> 5\u001b[0;31m \u001b[0mlayer\u001b[0m\u001b[0;34m(\u001b[0m\u001b[0mx\u001b[0m\u001b[0;34m,\u001b[0m \u001b[0mx\u001b[0m\u001b[0;34m,\u001b[0m \u001b[0mx\u001b[0m\u001b[0;34m,\u001b[0m \u001b[0mbatch\u001b[0m\u001b[0;34m.\u001b[0m\u001b[0msrc_mask\u001b[0m\u001b[0;34m)\u001b[0m\u001b[0;34m\u001b[0m\u001b[0;34m\u001b[0m\u001b[0m\n\u001b[0m",
            "\u001b[0;32m/usr/local/lib/python3.7/dist-packages/torch/nn/modules/module.py\u001b[0m in \u001b[0;36m_call_impl\u001b[0;34m(self, *input, **kwargs)\u001b[0m\n\u001b[1;32m   1100\u001b[0m         if not (self._backward_hooks or self._forward_hooks or self._forward_pre_hooks or _global_backward_hooks\n\u001b[1;32m   1101\u001b[0m                 or _global_forward_hooks or _global_forward_pre_hooks):\n\u001b[0;32m-> 1102\u001b[0;31m             \u001b[0;32mreturn\u001b[0m \u001b[0mforward_call\u001b[0m\u001b[0;34m(\u001b[0m\u001b[0;34m*\u001b[0m\u001b[0minput\u001b[0m\u001b[0;34m,\u001b[0m \u001b[0;34m**\u001b[0m\u001b[0mkwargs\u001b[0m\u001b[0;34m)\u001b[0m\u001b[0;34m\u001b[0m\u001b[0;34m\u001b[0m\u001b[0m\n\u001b[0m\u001b[1;32m   1103\u001b[0m         \u001b[0;31m# Do not call functions when jit is used\u001b[0m\u001b[0;34m\u001b[0m\u001b[0;34m\u001b[0m\u001b[0;34m\u001b[0m\u001b[0m\n\u001b[1;32m   1104\u001b[0m         \u001b[0mfull_backward_hooks\u001b[0m\u001b[0;34m,\u001b[0m \u001b[0mnon_full_backward_hooks\u001b[0m \u001b[0;34m=\u001b[0m \u001b[0;34m[\u001b[0m\u001b[0;34m]\u001b[0m\u001b[0;34m,\u001b[0m \u001b[0;34m[\u001b[0m\u001b[0;34m]\u001b[0m\u001b[0;34m\u001b[0m\u001b[0;34m\u001b[0m\u001b[0m\n",
            "\u001b[0;32m/content/transformer_utils.py\u001b[0m in \u001b[0;36mforward\u001b[0;34m(self, Q, K, V, attn_mask, attn_dropout)\u001b[0m\n\u001b[1;32m    116\u001b[0m     \u001b[0mscores\u001b[0m \u001b[0;34m=\u001b[0m \u001b[0mscores\u001b[0m \u001b[0;34m/\u001b[0m \u001b[0mself\u001b[0m\u001b[0;34m.\u001b[0m\u001b[0mscaling\u001b[0m \u001b[0;31m# Apply Scaling to maintain original variance - Computes Q(K.T)/sqrt(dk). Shape = [nb, h, nw, nw]\u001b[0m\u001b[0;34m\u001b[0m\u001b[0;34m\u001b[0m\u001b[0m\n\u001b[1;32m    117\u001b[0m     \u001b[0;32mif\u001b[0m \u001b[0mattn_mask\u001b[0m \u001b[0;32mis\u001b[0m \u001b[0;32mnot\u001b[0m \u001b[0;32mNone\u001b[0m\u001b[0;34m:\u001b[0m \u001b[0;31m# Apply mask (optional)\u001b[0m\u001b[0;34m\u001b[0m\u001b[0;34m\u001b[0m\u001b[0m\n\u001b[0;32m--> 118\u001b[0;31m       \u001b[0mscores\u001b[0m \u001b[0;34m=\u001b[0m \u001b[0mscores\u001b[0m\u001b[0;34m.\u001b[0m\u001b[0mmasked_fill\u001b[0m\u001b[0;34m(\u001b[0m\u001b[0mattn_mask\u001b[0m \u001b[0;34m==\u001b[0m \u001b[0;36m0\u001b[0m\u001b[0;34m,\u001b[0m \u001b[0;34m-\u001b[0m\u001b[0;36m1e9\u001b[0m\u001b[0;34m)\u001b[0m\u001b[0;34m\u001b[0m\u001b[0;34m\u001b[0m\u001b[0m\n\u001b[0m\u001b[1;32m    119\u001b[0m     \u001b[0mprobs\u001b[0m \u001b[0;34m=\u001b[0m \u001b[0mself\u001b[0m\u001b[0;34m.\u001b[0m\u001b[0msoftmax\u001b[0m\u001b[0;34m(\u001b[0m\u001b[0mscores\u001b[0m\u001b[0;34m)\u001b[0m \u001b[0;31m# Compute softmax. Shape = [nb, h, nw, nw]\u001b[0m\u001b[0;34m\u001b[0m\u001b[0;34m\u001b[0m\u001b[0m\n\u001b[1;32m    120\u001b[0m     \u001b[0mprobs\u001b[0m \u001b[0;34m=\u001b[0m \u001b[0mattn_dropout\u001b[0m\u001b[0;34m(\u001b[0m\u001b[0mprobs\u001b[0m\u001b[0;34m)\u001b[0m \u001b[0;31m# Apply dropout. Shape = [nb, h, nw, nw]\u001b[0m\u001b[0;34m\u001b[0m\u001b[0;34m\u001b[0m\u001b[0m\n",
            "\u001b[0;31mRuntimeError\u001b[0m: The size of tensor a (10) must match the size of tensor b (9) at non-singleton dimension 2"
          ]
        }
      ]
    },
    {
      "cell_type": "code",
      "source": [
        "model.decode(batch.trg, enc_out, batch.src_mask, batch.trg_mask)"
      ],
      "metadata": {
        "id": "wYJY1NK3R1sO"
      },
      "execution_count": null,
      "outputs": []
    },
    {
      "cell_type": "code",
      "metadata": {
        "id": "fANlh8SzXq9V",
        "outputId": "61050143-dcdd-4a17-9716-2e056a636604",
        "colab": {
          "base_uri": "https://localhost:8080/"
        }
      },
      "source": [
        "# Train the simple copy task.\n",
        "V = 11\n",
        "criterion = LabelSmoothing(size=V, padding_idx=0, smoothing=0.0)\n",
        "model = make_model(V, V, N=2)\n",
        "model_opt = NoamOpt(model.src_embed[0].d_model, 1, 400,\n",
        "        torch.optim.Adam(model.parameters(), lr=0, betas=(0.9, 0.98), eps=1e-9))\n",
        "\n",
        "for epoch in range(10):\n",
        "    model.train()\n",
        "    run_epoch(data_gen(V, 30, 20), model, \n",
        "              SimpleLossCompute(model.generator, criterion, model_opt))\n",
        "    model.eval()\n",
        "    print(run_epoch(data_gen(V, 30, 5), model, \n",
        "                    SimpleLossCompute(model.generator, criterion, None)))"
      ],
      "execution_count": 34,
      "outputs": [
        {
          "output_type": "stream",
          "name": "stderr",
          "text": [
            "/usr/local/lib/python3.7/dist-packages/torch/nn/_reduction.py:42: UserWarning: size_average and reduce args will be deprecated, please use reduction='sum' instead.\n",
            "  warnings.warn(warning.format(ret))\n",
            "/content/transformer_utils.py:451: UserWarning: nn.init.xavier_uniform is now deprecated in favor of nn.init.xavier_uniform_.\n",
            "  nn.init.xavier_uniform(p)\n"
          ]
        },
        {
          "output_type": "stream",
          "name": "stdout",
          "text": [
            "Epoch Step: 1 Loss: 3.271187 Tokens per Sec: 429.255920\n",
            "Epoch Step: 1 Loss: 1.921017 Tokens per Sec: 579.715942\n",
            "tensor(1.9087)\n",
            "Epoch Step: 1 Loss: 1.845874 Tokens per Sec: 477.798828\n",
            "Epoch Step: 1 Loss: 1.748855 Tokens per Sec: 402.966034\n",
            "tensor(1.7128)\n",
            "Epoch Step: 1 Loss: 1.907193 Tokens per Sec: 486.636841\n",
            "Epoch Step: 1 Loss: 1.464710 Tokens per Sec: 569.645081\n",
            "tensor(1.4500)\n",
            "Epoch Step: 1 Loss: 2.099236 Tokens per Sec: 481.579163\n",
            "Epoch Step: 1 Loss: 1.196683 Tokens per Sec: 586.728394\n",
            "tensor(1.1900)\n",
            "Epoch Step: 1 Loss: 2.261800 Tokens per Sec: 467.359314\n",
            "Epoch Step: 1 Loss: 1.059663 Tokens per Sec: 582.958618\n",
            "tensor(1.0483)\n",
            "Epoch Step: 1 Loss: 1.648451 Tokens per Sec: 488.679443\n",
            "Epoch Step: 1 Loss: 0.996762 Tokens per Sec: 574.097900\n",
            "tensor(0.9710)\n",
            "Epoch Step: 1 Loss: 2.332916 Tokens per Sec: 481.171051\n",
            "Epoch Step: 1 Loss: 0.866144 Tokens per Sec: 582.970459\n",
            "tensor(0.8783)\n",
            "Epoch Step: 1 Loss: 1.351856 Tokens per Sec: 479.442596\n",
            "Epoch Step: 1 Loss: 0.790241 Tokens per Sec: 587.153992\n",
            "tensor(0.7668)\n",
            "Epoch Step: 1 Loss: 1.220293 Tokens per Sec: 485.356781\n",
            "Epoch Step: 1 Loss: 0.576261 Tokens per Sec: 591.672852\n",
            "tensor(0.5494)\n",
            "Epoch Step: 1 Loss: 2.181015 Tokens per Sec: 481.422150\n",
            "Epoch Step: 1 Loss: 0.707518 Tokens per Sec: 567.154480\n",
            "tensor(0.7194)\n"
          ]
        }
      ]
    },
    {
      "cell_type": "code",
      "metadata": {
        "id": "bcVpHCSZXq9V"
      },
      "source": [
        "def greedy_decode(model, src, src_mask, max_len, start_symbol):\n",
        "    memory = model.encode(src, src_mask)\n",
        "    ys = torch.ones(1, 1).fill_(start_symbol).type_as(src.data)\n",
        "    for i in range(max_len-1):\n",
        "        out = model.decode(memory, src_mask, \n",
        "                           Variable(ys), \n",
        "                           Variable(subsequent_mask(ys.size(1))\n",
        "                                    .type_as(src.data)))\n",
        "        prob = model.generator(out[:, -1])\n",
        "        _, next_word = torch.max(prob, dim = 1)\n",
        "        next_word = next_word.data[0]\n",
        "        ys = torch.cat([ys, \n",
        "                        torch.ones(1, 1).type_as(src.data).fill_(next_word)], dim=1)\n",
        "    return ys"
      ],
      "execution_count": 35,
      "outputs": []
    },
    {
      "cell_type": "code",
      "metadata": {
        "id": "oZM2or8QEE2P",
        "outputId": "e60b1c18-506a-48cd-d3ba-850efea49f85",
        "colab": {
          "base_uri": "https://localhost:8080/",
          "height": 1000
        }
      },
      "source": [
        "model.eval()\n",
        "src = Variable(torch.LongTensor([[1,8,5,7,3,6,7,8,9,10]])).to(device)\n",
        "#src = Variable(torch.LongTensor([[1,8,5,7,3,6,7,8,9,10]]))\n",
        "src_mask = Variable(torch.ones(1, 1, 10)).to(device)\n",
        "print(greedy_decode(model, src, src_mask, max_len=10, start_symbol=1))"
      ],
      "execution_count": 38,
      "outputs": [
        {
          "output_type": "error",
          "ename": "RuntimeError",
          "evalue": "ignored",
          "traceback": [
            "\u001b[0;31m---------------------------------------------------------------------------\u001b[0m",
            "\u001b[0;31mRuntimeError\u001b[0m                              Traceback (most recent call last)",
            "\u001b[0;32m<ipython-input-38-408318326585>\u001b[0m in \u001b[0;36m<module>\u001b[0;34m()\u001b[0m\n\u001b[1;32m      3\u001b[0m \u001b[0;31m#src = Variable(torch.LongTensor([[1,8,5,7,3,6,7,8,9,10]]))\u001b[0m\u001b[0;34m\u001b[0m\u001b[0;34m\u001b[0m\u001b[0;34m\u001b[0m\u001b[0m\n\u001b[1;32m      4\u001b[0m \u001b[0msrc_mask\u001b[0m \u001b[0;34m=\u001b[0m \u001b[0mVariable\u001b[0m\u001b[0;34m(\u001b[0m\u001b[0mtorch\u001b[0m\u001b[0;34m.\u001b[0m\u001b[0mones\u001b[0m\u001b[0;34m(\u001b[0m\u001b[0;36m1\u001b[0m\u001b[0;34m,\u001b[0m \u001b[0;36m1\u001b[0m\u001b[0;34m,\u001b[0m \u001b[0;36m10\u001b[0m\u001b[0;34m)\u001b[0m\u001b[0;34m)\u001b[0m\u001b[0;34m.\u001b[0m\u001b[0mto\u001b[0m\u001b[0;34m(\u001b[0m\u001b[0mdevice\u001b[0m\u001b[0;34m)\u001b[0m\u001b[0;34m\u001b[0m\u001b[0;34m\u001b[0m\u001b[0m\n\u001b[0;32m----> 5\u001b[0;31m \u001b[0mprint\u001b[0m\u001b[0;34m(\u001b[0m\u001b[0mgreedy_decode\u001b[0m\u001b[0;34m(\u001b[0m\u001b[0mmodel\u001b[0m\u001b[0;34m,\u001b[0m \u001b[0msrc\u001b[0m\u001b[0;34m,\u001b[0m \u001b[0msrc_mask\u001b[0m\u001b[0;34m,\u001b[0m \u001b[0mmax_len\u001b[0m\u001b[0;34m=\u001b[0m\u001b[0;36m10\u001b[0m\u001b[0;34m,\u001b[0m \u001b[0mstart_symbol\u001b[0m\u001b[0;34m=\u001b[0m\u001b[0;36m1\u001b[0m\u001b[0;34m)\u001b[0m\u001b[0;34m)\u001b[0m\u001b[0;34m\u001b[0m\u001b[0;34m\u001b[0m\u001b[0m\n\u001b[0m",
            "\u001b[0;32m<ipython-input-35-9f44eb0aa859>\u001b[0m in \u001b[0;36mgreedy_decode\u001b[0;34m(model, src, src_mask, max_len, start_symbol)\u001b[0m\n\u001b[1;32m      1\u001b[0m \u001b[0;32mdef\u001b[0m \u001b[0mgreedy_decode\u001b[0m\u001b[0;34m(\u001b[0m\u001b[0mmodel\u001b[0m\u001b[0;34m,\u001b[0m \u001b[0msrc\u001b[0m\u001b[0;34m,\u001b[0m \u001b[0msrc_mask\u001b[0m\u001b[0;34m,\u001b[0m \u001b[0mmax_len\u001b[0m\u001b[0;34m,\u001b[0m \u001b[0mstart_symbol\u001b[0m\u001b[0;34m)\u001b[0m\u001b[0;34m:\u001b[0m\u001b[0;34m\u001b[0m\u001b[0;34m\u001b[0m\u001b[0m\n\u001b[0;32m----> 2\u001b[0;31m     \u001b[0mmemory\u001b[0m \u001b[0;34m=\u001b[0m \u001b[0mmodel\u001b[0m\u001b[0;34m.\u001b[0m\u001b[0mencode\u001b[0m\u001b[0;34m(\u001b[0m\u001b[0msrc\u001b[0m\u001b[0;34m,\u001b[0m \u001b[0msrc_mask\u001b[0m\u001b[0;34m)\u001b[0m\u001b[0;34m\u001b[0m\u001b[0;34m\u001b[0m\u001b[0m\n\u001b[0m\u001b[1;32m      3\u001b[0m     \u001b[0mys\u001b[0m \u001b[0;34m=\u001b[0m \u001b[0mtorch\u001b[0m\u001b[0;34m.\u001b[0m\u001b[0mones\u001b[0m\u001b[0;34m(\u001b[0m\u001b[0;36m1\u001b[0m\u001b[0;34m,\u001b[0m \u001b[0;36m1\u001b[0m\u001b[0;34m)\u001b[0m\u001b[0;34m.\u001b[0m\u001b[0mfill_\u001b[0m\u001b[0;34m(\u001b[0m\u001b[0mstart_symbol\u001b[0m\u001b[0;34m)\u001b[0m\u001b[0;34m.\u001b[0m\u001b[0mtype_as\u001b[0m\u001b[0;34m(\u001b[0m\u001b[0msrc\u001b[0m\u001b[0;34m.\u001b[0m\u001b[0mdata\u001b[0m\u001b[0;34m)\u001b[0m\u001b[0;34m\u001b[0m\u001b[0;34m\u001b[0m\u001b[0m\n\u001b[1;32m      4\u001b[0m     \u001b[0;32mfor\u001b[0m \u001b[0mi\u001b[0m \u001b[0;32min\u001b[0m \u001b[0mrange\u001b[0m\u001b[0;34m(\u001b[0m\u001b[0mmax_len\u001b[0m\u001b[0;34m-\u001b[0m\u001b[0;36m1\u001b[0m\u001b[0;34m)\u001b[0m\u001b[0;34m:\u001b[0m\u001b[0;34m\u001b[0m\u001b[0;34m\u001b[0m\u001b[0m\n\u001b[1;32m      5\u001b[0m         out = model.decode(memory, src_mask, \n",
            "\u001b[0;32m/content/transformer_utils.py\u001b[0m in \u001b[0;36mencode\u001b[0;34m(self, src, src_mask)\u001b[0m\n\u001b[1;32m    424\u001b[0m \u001b[0;34m\u001b[0m\u001b[0m\n\u001b[1;32m    425\u001b[0m   \u001b[0;32mdef\u001b[0m \u001b[0mencode\u001b[0m\u001b[0;34m(\u001b[0m\u001b[0mself\u001b[0m\u001b[0;34m,\u001b[0m \u001b[0msrc\u001b[0m\u001b[0;34m,\u001b[0m \u001b[0msrc_mask\u001b[0m \u001b[0;34m=\u001b[0m \u001b[0;32mNone\u001b[0m\u001b[0;34m)\u001b[0m\u001b[0;34m:\u001b[0m\u001b[0;34m\u001b[0m\u001b[0;34m\u001b[0m\u001b[0m\n\u001b[0;32m--> 426\u001b[0;31m     \u001b[0;32mreturn\u001b[0m \u001b[0mself\u001b[0m\u001b[0;34m.\u001b[0m\u001b[0mencoder\u001b[0m\u001b[0;34m(\u001b[0m\u001b[0mself\u001b[0m\u001b[0;34m.\u001b[0m\u001b[0msrc_embed\u001b[0m\u001b[0;34m(\u001b[0m\u001b[0msrc\u001b[0m\u001b[0;34m)\u001b[0m\u001b[0;34m,\u001b[0m \u001b[0msrc_mask\u001b[0m\u001b[0;34m)\u001b[0m\u001b[0;34m\u001b[0m\u001b[0;34m\u001b[0m\u001b[0m\n\u001b[0m\u001b[1;32m    427\u001b[0m \u001b[0;34m\u001b[0m\u001b[0m\n\u001b[1;32m    428\u001b[0m   \u001b[0;32mdef\u001b[0m \u001b[0mdecode\u001b[0m\u001b[0;34m(\u001b[0m\u001b[0mself\u001b[0m\u001b[0;34m,\u001b[0m \u001b[0mtgt\u001b[0m\u001b[0;34m,\u001b[0m \u001b[0menc_out\u001b[0m\u001b[0;34m,\u001b[0m \u001b[0mself_attn_mask\u001b[0m \u001b[0;34m=\u001b[0m \u001b[0;32mNone\u001b[0m\u001b[0;34m,\u001b[0m \u001b[0menc_dec_attn_mask\u001b[0m \u001b[0;34m=\u001b[0m \u001b[0;32mNone\u001b[0m\u001b[0;34m)\u001b[0m\u001b[0;34m:\u001b[0m\u001b[0;34m\u001b[0m\u001b[0;34m\u001b[0m\u001b[0m\n",
            "\u001b[0;32m/usr/local/lib/python3.7/dist-packages/torch/nn/modules/module.py\u001b[0m in \u001b[0;36m_call_impl\u001b[0;34m(self, *input, **kwargs)\u001b[0m\n\u001b[1;32m   1100\u001b[0m         if not (self._backward_hooks or self._forward_hooks or self._forward_pre_hooks or _global_backward_hooks\n\u001b[1;32m   1101\u001b[0m                 or _global_forward_hooks or _global_forward_pre_hooks):\n\u001b[0;32m-> 1102\u001b[0;31m             \u001b[0;32mreturn\u001b[0m \u001b[0mforward_call\u001b[0m\u001b[0;34m(\u001b[0m\u001b[0;34m*\u001b[0m\u001b[0minput\u001b[0m\u001b[0;34m,\u001b[0m \u001b[0;34m**\u001b[0m\u001b[0mkwargs\u001b[0m\u001b[0;34m)\u001b[0m\u001b[0;34m\u001b[0m\u001b[0;34m\u001b[0m\u001b[0m\n\u001b[0m\u001b[1;32m   1103\u001b[0m         \u001b[0;31m# Do not call functions when jit is used\u001b[0m\u001b[0;34m\u001b[0m\u001b[0;34m\u001b[0m\u001b[0;34m\u001b[0m\u001b[0m\n\u001b[1;32m   1104\u001b[0m         \u001b[0mfull_backward_hooks\u001b[0m\u001b[0;34m,\u001b[0m \u001b[0mnon_full_backward_hooks\u001b[0m \u001b[0;34m=\u001b[0m \u001b[0;34m[\u001b[0m\u001b[0;34m]\u001b[0m\u001b[0;34m,\u001b[0m \u001b[0;34m[\u001b[0m\u001b[0;34m]\u001b[0m\u001b[0;34m\u001b[0m\u001b[0;34m\u001b[0m\u001b[0m\n",
            "\u001b[0;32m/usr/local/lib/python3.7/dist-packages/torch/nn/modules/container.py\u001b[0m in \u001b[0;36mforward\u001b[0;34m(self, input)\u001b[0m\n\u001b[1;32m    139\u001b[0m     \u001b[0;32mdef\u001b[0m \u001b[0mforward\u001b[0m\u001b[0;34m(\u001b[0m\u001b[0mself\u001b[0m\u001b[0;34m,\u001b[0m \u001b[0minput\u001b[0m\u001b[0;34m)\u001b[0m\u001b[0;34m:\u001b[0m\u001b[0;34m\u001b[0m\u001b[0;34m\u001b[0m\u001b[0m\n\u001b[1;32m    140\u001b[0m         \u001b[0;32mfor\u001b[0m \u001b[0mmodule\u001b[0m \u001b[0;32min\u001b[0m \u001b[0mself\u001b[0m\u001b[0;34m:\u001b[0m\u001b[0;34m\u001b[0m\u001b[0;34m\u001b[0m\u001b[0m\n\u001b[0;32m--> 141\u001b[0;31m             \u001b[0minput\u001b[0m \u001b[0;34m=\u001b[0m \u001b[0mmodule\u001b[0m\u001b[0;34m(\u001b[0m\u001b[0minput\u001b[0m\u001b[0;34m)\u001b[0m\u001b[0;34m\u001b[0m\u001b[0;34m\u001b[0m\u001b[0m\n\u001b[0m\u001b[1;32m    142\u001b[0m         \u001b[0;32mreturn\u001b[0m \u001b[0minput\u001b[0m\u001b[0;34m\u001b[0m\u001b[0;34m\u001b[0m\u001b[0m\n\u001b[1;32m    143\u001b[0m \u001b[0;34m\u001b[0m\u001b[0m\n",
            "\u001b[0;32m/usr/local/lib/python3.7/dist-packages/torch/nn/modules/module.py\u001b[0m in \u001b[0;36m_call_impl\u001b[0;34m(self, *input, **kwargs)\u001b[0m\n\u001b[1;32m   1100\u001b[0m         if not (self._backward_hooks or self._forward_hooks or self._forward_pre_hooks or _global_backward_hooks\n\u001b[1;32m   1101\u001b[0m                 or _global_forward_hooks or _global_forward_pre_hooks):\n\u001b[0;32m-> 1102\u001b[0;31m             \u001b[0;32mreturn\u001b[0m \u001b[0mforward_call\u001b[0m\u001b[0;34m(\u001b[0m\u001b[0;34m*\u001b[0m\u001b[0minput\u001b[0m\u001b[0;34m,\u001b[0m \u001b[0;34m**\u001b[0m\u001b[0mkwargs\u001b[0m\u001b[0;34m)\u001b[0m\u001b[0;34m\u001b[0m\u001b[0;34m\u001b[0m\u001b[0m\n\u001b[0m\u001b[1;32m   1103\u001b[0m         \u001b[0;31m# Do not call functions when jit is used\u001b[0m\u001b[0;34m\u001b[0m\u001b[0;34m\u001b[0m\u001b[0;34m\u001b[0m\u001b[0m\n\u001b[1;32m   1104\u001b[0m         \u001b[0mfull_backward_hooks\u001b[0m\u001b[0;34m,\u001b[0m \u001b[0mnon_full_backward_hooks\u001b[0m \u001b[0;34m=\u001b[0m \u001b[0;34m[\u001b[0m\u001b[0;34m]\u001b[0m\u001b[0;34m,\u001b[0m \u001b[0;34m[\u001b[0m\u001b[0;34m]\u001b[0m\u001b[0;34m\u001b[0m\u001b[0;34m\u001b[0m\u001b[0m\n",
            "\u001b[0;32m/content/transformer_utils.py\u001b[0m in \u001b[0;36mforward\u001b[0;34m(self, x)\u001b[0m\n\u001b[1;32m     45\u001b[0m       \u001b[0mEmbedded\u001b[0m \u001b[0mtensor\u001b[0m \u001b[0mof\u001b[0m \u001b[0mshape\u001b[0m \u001b[0;34m[\u001b[0m\u001b[0mnb\u001b[0m\u001b[0;34m,\u001b[0m \u001b[0mnw\u001b[0m\u001b[0;34m,\u001b[0m \u001b[0md_model\u001b[0m\u001b[0;34m]\u001b[0m\u001b[0;34m\u001b[0m\u001b[0;34m\u001b[0m\u001b[0m\n\u001b[1;32m     46\u001b[0m     \"\"\"\n\u001b[0;32m---> 47\u001b[0;31m     \u001b[0;32mreturn\u001b[0m \u001b[0mself\u001b[0m\u001b[0;34m.\u001b[0m\u001b[0memb\u001b[0m\u001b[0;34m(\u001b[0m\u001b[0mx\u001b[0m\u001b[0;34m)\u001b[0m \u001b[0;34m*\u001b[0m \u001b[0mmath\u001b[0m\u001b[0;34m.\u001b[0m\u001b[0msqrt\u001b[0m\u001b[0;34m(\u001b[0m\u001b[0mself\u001b[0m\u001b[0;34m.\u001b[0m\u001b[0md_model\u001b[0m\u001b[0;34m)\u001b[0m\u001b[0;34m\u001b[0m\u001b[0;34m\u001b[0m\u001b[0m\n\u001b[0m\u001b[1;32m     48\u001b[0m \u001b[0;34m\u001b[0m\u001b[0m\n\u001b[1;32m     49\u001b[0m \u001b[0;31m### Class: PositionalEncoding\u001b[0m\u001b[0;34m\u001b[0m\u001b[0;34m\u001b[0m\u001b[0;34m\u001b[0m\u001b[0m\n",
            "\u001b[0;32m/usr/local/lib/python3.7/dist-packages/torch/nn/modules/module.py\u001b[0m in \u001b[0;36m_call_impl\u001b[0;34m(self, *input, **kwargs)\u001b[0m\n\u001b[1;32m   1100\u001b[0m         if not (self._backward_hooks or self._forward_hooks or self._forward_pre_hooks or _global_backward_hooks\n\u001b[1;32m   1101\u001b[0m                 or _global_forward_hooks or _global_forward_pre_hooks):\n\u001b[0;32m-> 1102\u001b[0;31m             \u001b[0;32mreturn\u001b[0m \u001b[0mforward_call\u001b[0m\u001b[0;34m(\u001b[0m\u001b[0;34m*\u001b[0m\u001b[0minput\u001b[0m\u001b[0;34m,\u001b[0m \u001b[0;34m**\u001b[0m\u001b[0mkwargs\u001b[0m\u001b[0;34m)\u001b[0m\u001b[0;34m\u001b[0m\u001b[0;34m\u001b[0m\u001b[0m\n\u001b[0m\u001b[1;32m   1103\u001b[0m         \u001b[0;31m# Do not call functions when jit is used\u001b[0m\u001b[0;34m\u001b[0m\u001b[0;34m\u001b[0m\u001b[0;34m\u001b[0m\u001b[0m\n\u001b[1;32m   1104\u001b[0m         \u001b[0mfull_backward_hooks\u001b[0m\u001b[0;34m,\u001b[0m \u001b[0mnon_full_backward_hooks\u001b[0m \u001b[0;34m=\u001b[0m \u001b[0;34m[\u001b[0m\u001b[0;34m]\u001b[0m\u001b[0;34m,\u001b[0m \u001b[0;34m[\u001b[0m\u001b[0;34m]\u001b[0m\u001b[0;34m\u001b[0m\u001b[0;34m\u001b[0m\u001b[0m\n",
            "\u001b[0;32m/usr/local/lib/python3.7/dist-packages/torch/nn/modules/sparse.py\u001b[0m in \u001b[0;36mforward\u001b[0;34m(self, input)\u001b[0m\n\u001b[1;32m    158\u001b[0m         return F.embedding(\n\u001b[1;32m    159\u001b[0m             \u001b[0minput\u001b[0m\u001b[0;34m,\u001b[0m \u001b[0mself\u001b[0m\u001b[0;34m.\u001b[0m\u001b[0mweight\u001b[0m\u001b[0;34m,\u001b[0m \u001b[0mself\u001b[0m\u001b[0;34m.\u001b[0m\u001b[0mpadding_idx\u001b[0m\u001b[0;34m,\u001b[0m \u001b[0mself\u001b[0m\u001b[0;34m.\u001b[0m\u001b[0mmax_norm\u001b[0m\u001b[0;34m,\u001b[0m\u001b[0;34m\u001b[0m\u001b[0;34m\u001b[0m\u001b[0m\n\u001b[0;32m--> 160\u001b[0;31m             self.norm_type, self.scale_grad_by_freq, self.sparse)\n\u001b[0m\u001b[1;32m    161\u001b[0m \u001b[0;34m\u001b[0m\u001b[0m\n\u001b[1;32m    162\u001b[0m     \u001b[0;32mdef\u001b[0m \u001b[0mextra_repr\u001b[0m\u001b[0;34m(\u001b[0m\u001b[0mself\u001b[0m\u001b[0;34m)\u001b[0m \u001b[0;34m->\u001b[0m \u001b[0mstr\u001b[0m\u001b[0;34m:\u001b[0m\u001b[0;34m\u001b[0m\u001b[0;34m\u001b[0m\u001b[0m\n",
            "\u001b[0;32m/usr/local/lib/python3.7/dist-packages/torch/nn/functional.py\u001b[0m in \u001b[0;36membedding\u001b[0;34m(input, weight, padding_idx, max_norm, norm_type, scale_grad_by_freq, sparse)\u001b[0m\n\u001b[1;32m   2042\u001b[0m         \u001b[0;31m# remove once script supports set_grad_enabled\u001b[0m\u001b[0;34m\u001b[0m\u001b[0;34m\u001b[0m\u001b[0;34m\u001b[0m\u001b[0m\n\u001b[1;32m   2043\u001b[0m         \u001b[0m_no_grad_embedding_renorm_\u001b[0m\u001b[0;34m(\u001b[0m\u001b[0mweight\u001b[0m\u001b[0;34m,\u001b[0m \u001b[0minput\u001b[0m\u001b[0;34m,\u001b[0m \u001b[0mmax_norm\u001b[0m\u001b[0;34m,\u001b[0m \u001b[0mnorm_type\u001b[0m\u001b[0;34m)\u001b[0m\u001b[0;34m\u001b[0m\u001b[0;34m\u001b[0m\u001b[0m\n\u001b[0;32m-> 2044\u001b[0;31m     \u001b[0;32mreturn\u001b[0m \u001b[0mtorch\u001b[0m\u001b[0;34m.\u001b[0m\u001b[0membedding\u001b[0m\u001b[0;34m(\u001b[0m\u001b[0mweight\u001b[0m\u001b[0;34m,\u001b[0m \u001b[0minput\u001b[0m\u001b[0;34m,\u001b[0m \u001b[0mpadding_idx\u001b[0m\u001b[0;34m,\u001b[0m \u001b[0mscale_grad_by_freq\u001b[0m\u001b[0;34m,\u001b[0m \u001b[0msparse\u001b[0m\u001b[0;34m)\u001b[0m\u001b[0;34m\u001b[0m\u001b[0;34m\u001b[0m\u001b[0m\n\u001b[0m\u001b[1;32m   2045\u001b[0m \u001b[0;34m\u001b[0m\u001b[0m\n\u001b[1;32m   2046\u001b[0m \u001b[0;34m\u001b[0m\u001b[0m\n",
            "\u001b[0;31mRuntimeError\u001b[0m: Expected all tensors to be on the same device, but found at least two devices, cpu and cuda:0! (when checking argument for argument index in method wrapper__index_select)"
          ]
        }
      ]
    },
    {
      "cell_type": "markdown",
      "metadata": {
        "id": "lYTscxa9DPqD"
      },
      "source": [
        "# Model Verification"
      ]
    },
    {
      "cell_type": "code",
      "metadata": {
        "id": "17Y7cPvDD_Rl"
      },
      "source": [
        "mod_input = Variable(torch.LongTensor([[1, 2, 1, 2, 2, 1, 1, 1, 1, 1]]))\n",
        "inp_mask = Variable(torch.ones(1, 1, 10))\n",
        "num_posn = mod_input.size(1) # Number of positions in input\n",
        "d_model = 512 # Embedding size\n",
        "print(mod_input.shape)"
      ],
      "execution_count": null,
      "outputs": []
    },
    {
      "cell_type": "markdown",
      "metadata": {
        "id": "WpdV2qOfR9eE"
      },
      "source": [
        "## Source Embedding"
      ]
    },
    {
      "cell_type": "markdown",
      "metadata": {
        "id": "ZlxTeduhSAi5"
      },
      "source": [
        "### Embedding Layer output"
      ]
    },
    {
      "cell_type": "code",
      "metadata": {
        "id": "VmDyiFNSEOHP"
      },
      "source": [
        "l_emb_only = model.src_embed.get_submodule(\"0.emb\") # Embedding layer without scaling\n",
        "l_emb_only_out = l_emb_only.forward(mod_input) # Output of above layer\n",
        "l_emb = model.src_embed.get_submodule(\"0\") # Embedding layer with scaling\n",
        "l_emb_out = l_emb.forward(mod_input) # Output of full embedding layer (with scaling)\n",
        "\n",
        "print(l_emb_only_out.shape,',',l_emb_out.shape)\n",
        "print()\n",
        "print(l_emb_only_out[0, :6, :5])\n",
        "print()\n",
        "print(l_emb_out[0, :6, :5])\n",
        "print()\n",
        "print(l_emb_only_out[0, :6, :5] * math.sqrt(d_model))\n",
        "print()"
      ],
      "execution_count": null,
      "outputs": []
    },
    {
      "cell_type": "markdown",
      "metadata": {
        "id": "WaORflhBSDx8"
      },
      "source": [
        "### Positional Encoding"
      ]
    },
    {
      "cell_type": "code",
      "metadata": {
        "id": "XJEuQGTFGRKx"
      },
      "source": [
        "l_pos_enc = model.src_embed.get_submodule(\"1\") # Positional Encoding layer\n",
        "pe_arr = next(l_pos_enc.buffers()) # Extract positional encoding buffer\n",
        "src_emb_calc = l_emb_out + pe_arr[:, :(num_posn)] # Manually compute source embedding\n",
        "src_emb = model.src_embed.forward(mod_input) # Extract source embedding from model\n",
        "\n",
        "print(pe_arr.shape)\n",
        "print()\n",
        "print(pe_arr[0, :6, :5])\n",
        "print()\n",
        "print(src_emb_calc[0, :6, :5])\n",
        "print()\n",
        "print(src_emb[0, :6, :5])"
      ],
      "execution_count": null,
      "outputs": []
    },
    {
      "cell_type": "markdown",
      "metadata": {
        "id": "zGIjrojzI00X"
      },
      "source": [
        "## Encoder"
      ]
    },
    {
      "cell_type": "code",
      "metadata": {
        "id": "8rTCHtV81blQ"
      },
      "source": [
        "model.encoder.forward(src_emb, inp_mask)[0, :6, :6]"
      ],
      "execution_count": null,
      "outputs": []
    },
    {
      "cell_type": "code",
      "metadata": {
        "id": "L-igXPDNLCdz"
      },
      "source": [
        "seaborn.heatmap(model.encoder.enclayer_stack[1].MHA_unit.attn[0, 1].data)"
      ],
      "execution_count": null,
      "outputs": []
    },
    {
      "cell_type": "code",
      "metadata": {
        "id": "WRVGQYz-JP4L"
      },
      "source": [
        "memory = model.encode(mod_input, inp_mask)\n",
        "print(memory.shape)\n",
        "print()\n",
        "print(memory[0, :6, :6])"
      ],
      "execution_count": null,
      "outputs": []
    },
    {
      "cell_type": "markdown",
      "metadata": {
        "id": "uqd-HvTLIzXg"
      },
      "source": [
        "## Decoder"
      ]
    },
    {
      "cell_type": "code",
      "metadata": {
        "id": "_WmXbG_aJkCq"
      },
      "source": [
        "start_symbol = 1\n",
        "max_len = 10\n",
        "tgt = torch.ones(1, 1).fill_(start_symbol).type_as(mod_input.data)\n",
        "print(tgt)"
      ],
      "execution_count": null,
      "outputs": []
    },
    {
      "cell_type": "code",
      "metadata": {
        "id": "k1FCJ_obTn3J"
      },
      "source": [
        "for ind in range(max_len - 1):\n",
        "  tgt_mask = Variable(subsequent_mask(tgt.size(1)).type_as(mod_input.data))\n",
        "  tgt = Variable(tgt)\n",
        "  print(ind, tgt, tgt_mask.shape, tgt_mask)\n",
        "  out = model.decode(memory, inp_mask, tgt, tgt_mask)\n",
        "  prob = model.generator(out[:, -1])\n",
        "  _, next_word = torch.max(prob, dim = 1)\n",
        "  next_word = next_word.data[0]\n",
        "  tgt = torch.cat([tgt, torch.ones(1, 1).type_as(mod_input.data).fill_(next_word)], dim=1)"
      ],
      "execution_count": null,
      "outputs": []
    },
    {
      "cell_type": "code",
      "metadata": {
        "id": "vAljVuS7b02y"
      },
      "source": [
        "print(tgt)"
      ],
      "execution_count": null,
      "outputs": []
    },
    {
      "cell_type": "code",
      "metadata": {
        "id": "YWLc73apL9Au"
      },
      "source": [
        "tgt = Variable(ys)\n",
        "tgt_mask = Variable(subsequent_mask(ys.size(1)).type_as(mod_input.data))\n",
        "print(tgt)\n",
        "print()\n",
        "print(tgt_mask.shape)\n",
        "print()\n",
        "print(tgt_mask)"
      ],
      "execution_count": null,
      "outputs": []
    },
    {
      "cell_type": "code",
      "metadata": {
        "id": "xpt0N_NlLa0m"
      },
      "source": [
        "out = model.decode(memory, inp_mask, tgt, tgt_mask)\n",
        "prob = model.generator(out[:, -1])\n",
        "print(prob)\n",
        "_, next_word = torch.max(prob, dim = 1)\n",
        "next_word = next_word.data[0]\n",
        "ys = torch.cat([ys,torch.ones(1, 1).type_as(mod_input.data).fill_(next_word)], dim=1)\n",
        "ys"
      ],
      "execution_count": null,
      "outputs": []
    },
    {
      "cell_type": "code",
      "metadata": {
        "id": "ZJPgvAmGTFm6"
      },
      "source": [
        "tgt = Variable(ys)\n",
        "tgt_mask = Variable(subsequent_mask(ys.size(1)).type_as(mod_input.data))\n",
        "print(tgt)\n",
        "print()\n",
        "print(tgt_mask.shape)\n",
        "print()\n",
        "print(tgt_mask)"
      ],
      "execution_count": null,
      "outputs": []
    },
    {
      "cell_type": "code",
      "metadata": {
        "id": "nmXMK2T5TSeD"
      },
      "source": [
        "out = model.decode(memory, inp_mask, tgt, tgt_mask)\n",
        "prob = model.generator(out[:, -1])\n",
        "print(prob)\n",
        "_, next_word = torch.max(prob, dim = 1)\n",
        "next_word = next_word.data[0]\n",
        "ys = torch.cat([ys,torch.ones(1, 1).type_as(mod_input.data).fill_(next_word)], dim=1)\n",
        "ys"
      ],
      "execution_count": null,
      "outputs": []
    },
    {
      "cell_type": "code",
      "metadata": {
        "id": "QpzqeAHtTf-3"
      },
      "source": [
        "tgt = Variable(ys)\n",
        "tgt_mask = Variable(subsequent_mask(ys.size(1)).type_as(mod_input.data))\n",
        "print(tgt)\n",
        "print()\n",
        "print(tgt_mask.shape)\n",
        "print()\n",
        "print(tgt_mask)"
      ],
      "execution_count": null,
      "outputs": []
    },
    {
      "cell_type": "code",
      "metadata": {
        "id": "s60lRth6JEpJ"
      },
      "source": [
        "    ys = torch.ones(1, 1).fill_(start_symbol).type_as(src.data)\n",
        "    for i in range(max_len-1):\n",
        "        out = model.decode(memory, src_mask, \n",
        "                           Variable(ys), \n",
        "                           Variable(subsequent_mask(ys.size(1))\n",
        "                                    .type_as(src.data)))\n",
        "        prob = model.generator(out[:, -1])\n",
        "        _, next_word = torch.max(prob, dim = 1)\n",
        "        next_word = next_word.data[0]\n",
        "        ys = torch.cat([ys, \n",
        "                        torch.ones(1, 1).type_as(src.data).fill_(next_word)], dim=1)\n",
        "    return ys"
      ],
      "execution_count": null,
      "outputs": []
    },
    {
      "cell_type": "markdown",
      "metadata": {
        "id": "_RynFrZjDJln"
      },
      "source": [
        "# Backup_2"
      ]
    },
    {
      "cell_type": "markdown",
      "metadata": {
        "id": "wmkUG3JYXq9W"
      },
      "source": [
        "# A Real World Example\n",
        "\n",
        "> Now we consider a real-world example using the IWSLT German-English Translation task. This task is much smaller than the WMT task considered in the paper, but it illustrates the whole system. We also show how to use multi-gpu processing to make it really fast."
      ]
    },
    {
      "cell_type": "code",
      "metadata": {
        "collapsed": true,
        "id": "rLFMHnFqXq9W"
      },
      "source": [
        "#!pip install torchtext spacy\n",
        "#!python -m spacy download en\n",
        "#!python -m spacy download de"
      ],
      "execution_count": null,
      "outputs": []
    },
    {
      "cell_type": "markdown",
      "metadata": {
        "id": "rG4pUsT7Xq9W"
      },
      "source": [
        "## Data Loading\n",
        "> We will load the dataset using torchtext and spacy for tokenization. "
      ]
    },
    {
      "cell_type": "code",
      "metadata": {
        "collapsed": true,
        "id": "df4hc1trXq9W"
      },
      "source": [
        "# For data loading.\n",
        "from torchtext import data, datasets\n",
        "\n",
        "if True:\n",
        "    import spacy\n",
        "    spacy_de = spacy.load('de')\n",
        "    spacy_en = spacy.load('en')\n",
        "\n",
        "    def tokenize_de(text):\n",
        "        return [tok.text for tok in spacy_de.tokenizer(text)]\n",
        "\n",
        "    def tokenize_en(text):\n",
        "        return [tok.text for tok in spacy_en.tokenizer(text)]\n",
        "\n",
        "    BOS_WORD = '<s>'\n",
        "    EOS_WORD = '</s>'\n",
        "    BLANK_WORD = \"<blank>\"\n",
        "    SRC = data.Field(tokenize=tokenize_de, pad_token=BLANK_WORD)\n",
        "    TGT = data.Field(tokenize=tokenize_en, init_token = BOS_WORD, \n",
        "                     eos_token = EOS_WORD, pad_token=BLANK_WORD)\n",
        "\n",
        "    MAX_LEN = 100\n",
        "    train, val, test = datasets.IWSLT.splits(\n",
        "        exts=('.de', '.en'), fields=(SRC, TGT), \n",
        "        filter_pred=lambda x: len(vars(x)['src']) <= MAX_LEN and \n",
        "            len(vars(x)['trg']) <= MAX_LEN)\n",
        "    MIN_FREQ = 2\n",
        "    SRC.build_vocab(train.src, min_freq=MIN_FREQ)\n",
        "    TGT.build_vocab(train.trg, min_freq=MIN_FREQ)"
      ],
      "execution_count": null,
      "outputs": []
    },
    {
      "cell_type": "markdown",
      "metadata": {
        "id": "xG5hcjj9Xq9W"
      },
      "source": [
        "> Batching matters a ton for speed. We want to have very evenly divided batches, with absolutely minimal padding. To do this we have to hack a bit around the default torchtext batching. This code patches their default batching to make sure we search over enough sentences to find tight batches. "
      ]
    },
    {
      "cell_type": "markdown",
      "metadata": {
        "id": "FkPpP95_Xq9W"
      },
      "source": [
        "## Iterators"
      ]
    },
    {
      "cell_type": "code",
      "metadata": {
        "collapsed": true,
        "id": "FBlqMAiTXq9X"
      },
      "source": [
        "class MyIterator(data.Iterator):\n",
        "    def create_batches(self):\n",
        "        if self.train:\n",
        "            def pool(d, random_shuffler):\n",
        "                for p in data.batch(d, self.batch_size * 100):\n",
        "                    p_batch = data.batch(\n",
        "                        sorted(p, key=self.sort_key),\n",
        "                        self.batch_size, self.batch_size_fn)\n",
        "                    for b in random_shuffler(list(p_batch)):\n",
        "                        yield b\n",
        "            self.batches = pool(self.data(), self.random_shuffler)\n",
        "            \n",
        "        else:\n",
        "            self.batches = []\n",
        "            for b in data.batch(self.data(), self.batch_size,\n",
        "                                          self.batch_size_fn):\n",
        "                self.batches.append(sorted(b, key=self.sort_key))\n",
        "\n",
        "def rebatch(pad_idx, batch):\n",
        "    \"Fix order in torchtext to match ours\"\n",
        "    src, trg = batch.src.transpose(0, 1), batch.trg.transpose(0, 1)\n",
        "    return Batch(src, trg, pad_idx)"
      ],
      "execution_count": null,
      "outputs": []
    },
    {
      "cell_type": "markdown",
      "metadata": {
        "collapsed": true,
        "id": "k4IXY8BgXq9X"
      },
      "source": [
        "## Multi-GPU Training\n",
        "\n",
        "> Finally to really target fast training, we will use multi-gpu. This code implements multi-gpu word generation. It is not specific to transformer so I won't go into too much detail. The idea is to split up word generation at training time into chunks to be processed in parallel across many different gpus. We do this using pytorch parallel primitives:\n",
        "\n",
        "* replicate - split modules onto different gpus.\n",
        "* scatter - split batches onto different gpus\n",
        "* parallel_apply - apply module to batches on different gpus\n",
        "* gather - pull scattered data back onto one gpu. \n",
        "* nn.DataParallel - a special module wrapper that calls these all before evaluating. \n"
      ]
    },
    {
      "cell_type": "code",
      "metadata": {
        "collapsed": true,
        "id": "cAvWWpBhXq9X"
      },
      "source": [
        "# Skip if not interested in multigpu.\n",
        "class MultiGPULossCompute:\n",
        "    \"A multi-gpu loss compute and train function.\"\n",
        "    def __init__(self, generator, criterion, devices, opt=None, chunk_size=5):\n",
        "        # Send out to different gpus.\n",
        "        self.generator = generator\n",
        "        self.criterion = nn.parallel.replicate(criterion, \n",
        "                                               devices=devices)\n",
        "        self.opt = opt\n",
        "        self.devices = devices\n",
        "        self.chunk_size = chunk_size\n",
        "        \n",
        "    def __call__(self, out, targets, normalize):\n",
        "        total = 0.0\n",
        "        generator = nn.parallel.replicate(self.generator, \n",
        "                                                devices=self.devices)\n",
        "        out_scatter = nn.parallel.scatter(out, \n",
        "                                          target_gpus=self.devices)\n",
        "        out_grad = [[] for _ in out_scatter]\n",
        "        targets = nn.parallel.scatter(targets, \n",
        "                                      target_gpus=self.devices)\n",
        "\n",
        "        # Divide generating into chunks.\n",
        "        chunk_size = self.chunk_size\n",
        "        for i in range(0, out_scatter[0].size(1), chunk_size):\n",
        "            # Predict distributions\n",
        "            out_column = [[Variable(o[:, i:i+chunk_size].data, \n",
        "                                    requires_grad=self.opt is not None)] \n",
        "                           for o in out_scatter]\n",
        "            gen = nn.parallel.parallel_apply(generator, out_column)\n",
        "\n",
        "            # Compute loss. \n",
        "            y = [(g.contiguous().view(-1, g.size(-1)), \n",
        "                  t[:, i:i+chunk_size].contiguous().view(-1)) \n",
        "                 for g, t in zip(gen, targets)]\n",
        "            loss = nn.parallel.parallel_apply(self.criterion, y)\n",
        "\n",
        "            # Sum and normalize loss\n",
        "            l = nn.parallel.gather(loss, \n",
        "                                   target_device=self.devices[0])\n",
        "            l = l.sum()[0] / normalize\n",
        "            total += l.data[0]\n",
        "\n",
        "            # Backprop loss to output of transformer\n",
        "            if self.opt is not None:\n",
        "                l.backward()\n",
        "                for j, l in enumerate(loss):\n",
        "                    out_grad[j].append(out_column[j][0].grad.data.clone())\n",
        "\n",
        "        # Backprop all loss through transformer.            \n",
        "        if self.opt is not None:\n",
        "            out_grad = [Variable(torch.cat(og, dim=1)) for og in out_grad]\n",
        "            o1 = out\n",
        "            o2 = nn.parallel.gather(out_grad, \n",
        "                                    target_device=self.devices[0])\n",
        "            o1.backward(gradient=o2)\n",
        "            self.opt.step()\n",
        "            self.opt.optimizer.zero_grad()\n",
        "        return total * normalize"
      ],
      "execution_count": null,
      "outputs": []
    },
    {
      "cell_type": "markdown",
      "metadata": {
        "id": "bJO1OfStXq9X"
      },
      "source": [
        "> Now we create our model, criterion, optimizer, data iterators, and paralelization"
      ]
    },
    {
      "cell_type": "code",
      "metadata": {
        "collapsed": true,
        "id": "sDzqwkH6Xq9X"
      },
      "source": [
        "# GPUs to use\n",
        "devices = [0, 1, 2, 3]\n",
        "if True:\n",
        "    pad_idx = TGT.vocab.stoi[\"<blank>\"]\n",
        "    model = make_model(len(SRC.vocab), len(TGT.vocab), N=6)\n",
        "    model.cuda()\n",
        "    criterion = LabelSmoothing(size=len(TGT.vocab), padding_idx=pad_idx, smoothing=0.1)\n",
        "    criterion.cuda()\n",
        "    BATCH_SIZE = 12000\n",
        "    train_iter = MyIterator(train, batch_size=BATCH_SIZE, device=0,\n",
        "                            repeat=False, sort_key=lambda x: (len(x.src), len(x.trg)),\n",
        "                            batch_size_fn=batch_size_fn, train=True)\n",
        "    valid_iter = MyIterator(val, batch_size=BATCH_SIZE, device=0,\n",
        "                            repeat=False, sort_key=lambda x: (len(x.src), len(x.trg)),\n",
        "                            batch_size_fn=batch_size_fn, train=False)\n",
        "    model_par = nn.DataParallel(model, device_ids=devices)\n",
        "None"
      ],
      "execution_count": null,
      "outputs": []
    },
    {
      "cell_type": "markdown",
      "metadata": {
        "id": "SOXBIVZ-Xq9Y"
      },
      "source": [
        "> Now we train the model. I will play with the warmup steps a bit, but everything else uses the default parameters.  On an AWS p3.8xlarge with 4 Tesla V100s, this runs at ~27,000 tokens per second with a batch size of 12,000 "
      ]
    },
    {
      "cell_type": "markdown",
      "metadata": {
        "id": "WVTYJe4UXq9Y"
      },
      "source": [
        "## Training the System"
      ]
    },
    {
      "cell_type": "code",
      "metadata": {
        "collapsed": true,
        "id": "bDezrLqnXq9Y"
      },
      "source": [
        "#!wget https://s3.amazonaws.com/opennmt-models/iwslt.pt"
      ],
      "execution_count": null,
      "outputs": []
    },
    {
      "cell_type": "code",
      "metadata": {
        "collapsed": true,
        "id": "fGpcKDDiXq9Y"
      },
      "source": [
        "if False:\n",
        "    model_opt = NoamOpt(model.src_embed[0].d_model, 1, 2000,\n",
        "            torch.optim.Adam(model.parameters(), lr=0, betas=(0.9, 0.98), eps=1e-9))\n",
        "    for epoch in range(10):\n",
        "        model_par.train()\n",
        "        run_epoch((rebatch(pad_idx, b) for b in train_iter), \n",
        "                  model_par, \n",
        "                  MultiGPULossCompute(model.generator, criterion, \n",
        "                                      devices=devices, opt=model_opt))\n",
        "        model_par.eval()\n",
        "        loss = run_epoch((rebatch(pad_idx, b) for b in valid_iter), \n",
        "                          model_par, \n",
        "                          MultiGPULossCompute(model.generator, criterion, \n",
        "                          devices=devices, opt=None))\n",
        "        print(loss)\n",
        "else:\n",
        "    model = torch.load(\"iwslt.pt\")"
      ],
      "execution_count": null,
      "outputs": []
    },
    {
      "cell_type": "markdown",
      "metadata": {
        "id": "Gascy-8zXq9Y"
      },
      "source": [
        "> Once trained we can decode the model to produce a set of translations. Here we simply translate the first sentence in the validation set. This dataset is pretty small so the translations with greedy search are reasonably accurate. "
      ]
    },
    {
      "cell_type": "code",
      "metadata": {
        "id": "a2VLz8iMXq9Y"
      },
      "source": [
        "for i, batch in enumerate(valid_iter):\n",
        "    src = batch.src.transpose(0, 1)[:1]\n",
        "    src_mask = (src != SRC.vocab.stoi[\"<blank>\"]).unsqueeze(-2)\n",
        "    out = greedy_decode(model, src, src_mask, \n",
        "                        max_len=60, start_symbol=TGT.vocab.stoi[\"<s>\"])\n",
        "    print(\"Translation:\", end=\"\\t\")\n",
        "    for i in range(1, out.size(1)):\n",
        "        sym = TGT.vocab.itos[out[0, i]]\n",
        "        if sym == \"</s>\": break\n",
        "        print(sym, end =\" \")\n",
        "    print()\n",
        "    print(\"Target:\", end=\"\\t\")\n",
        "    for i in range(1, batch.trg.size(0)):\n",
        "        sym = TGT.vocab.itos[batch.trg.data[i, 0]]\n",
        "        if sym == \"</s>\": break\n",
        "        print(sym, end =\" \")\n",
        "    print()\n",
        "    break"
      ],
      "execution_count": null,
      "outputs": []
    },
    {
      "cell_type": "markdown",
      "metadata": {
        "collapsed": true,
        "id": "R3J-zwLXXq9Z"
      },
      "source": [
        "# Additional Components: BPE, Search, Averaging"
      ]
    },
    {
      "cell_type": "markdown",
      "metadata": {
        "id": "H7d2mzrlXq9Z"
      },
      "source": [
        "> So this mostly covers the transformer model itself. There are four aspects that we didn't cover explicitly. We also have all these additional features implemented in [OpenNMT-py](https://github.com/opennmt/opennmt-py).\n",
        "\n"
      ]
    },
    {
      "cell_type": "markdown",
      "metadata": {
        "id": "YUxdLmPkXq9Z"
      },
      "source": [
        "> 1) BPE/ Word-piece: We can use a library to first preprocess the data into subword units. See Rico Sennrich's [subword-nmt](https://github.com/rsennrich/subword-nmt) implementation. These models will transform the training data to look like this:"
      ]
    },
    {
      "cell_type": "markdown",
      "metadata": {
        "id": "doE_CQ_LXq9Z"
      },
      "source": [
        "▁Die ▁Protokoll datei ▁kann ▁ heimlich ▁per ▁E - Mail ▁oder ▁FTP ▁an ▁einen ▁bestimmte n ▁Empfänger ▁gesendet ▁werden ."
      ]
    },
    {
      "cell_type": "markdown",
      "metadata": {
        "id": "H8JSATiSXq9Z"
      },
      "source": [
        "> 2) Shared Embeddings: When using BPE with shared vocabulary we can share the same weight vectors between the source / target / generator. See the [(cite)](https://arxiv.org/abs/1608.05859) for details. To add this to the model simply do this:"
      ]
    },
    {
      "cell_type": "code",
      "metadata": {
        "collapsed": true,
        "id": "gqJZgf2TXq9Z"
      },
      "source": [
        "if False:\n",
        "    model.src_embed[0].lut.weight = model.tgt_embeddings[0].lut.weight\n",
        "    model.generator.lut.weight = model.tgt_embed[0].lut.weight"
      ],
      "execution_count": null,
      "outputs": []
    },
    {
      "cell_type": "markdown",
      "metadata": {
        "id": "BuhaIOX9Xq9a"
      },
      "source": [
        "> 3) Beam Search: This is a bit too complicated to cover here. See the [OpenNMT-py](https://github.com/OpenNMT/OpenNMT-py/blob/master/onmt/translate/Beam.py) for a pytorch implementation.\n",
        "\n"
      ]
    },
    {
      "cell_type": "markdown",
      "metadata": {
        "id": "UiiXO-M6Xq9a"
      },
      "source": [
        "> 4) Model Averaging: The paper averages the last k checkpoints to create an ensembling effect. We can do this after the fact if we have a bunch of models:"
      ]
    },
    {
      "cell_type": "code",
      "metadata": {
        "collapsed": true,
        "id": "iZeCLDtvXq9a"
      },
      "source": [
        "def average(model, models):\n",
        "    \"Average models into model\"\n",
        "    for ps in zip(*[m.params() for m in [model] + models]):\n",
        "        p[0].copy_(torch.sum(*ps[1:]) / len(ps[1:]))"
      ],
      "execution_count": null,
      "outputs": []
    },
    {
      "cell_type": "markdown",
      "metadata": {
        "id": "-OsT2OfFXq9a"
      },
      "source": [
        "# Results\n",
        "\n",
        "On the WMT 2014 English-to-German translation task, the big transformer model (Transformer (big)\n",
        "in Table 2) outperforms the best previously reported models (including ensembles) by more than 2.0\n",
        "BLEU, establishing a new state-of-the-art BLEU score of 28.4. The configuration of this model is\n",
        "listed in the bottom line of Table 3. Training took 3.5 days on 8 P100 GPUs. Even our base model\n",
        "surpasses all previously published models and ensembles, at a fraction of the training cost of any of\n",
        "the competitive models.\n",
        "\n",
        "On the WMT 2014 English-to-French translation task, our big model achieves a BLEU score of 41.0,\n",
        "outperforming all of the previously published single models, at less than 1/4 the training cost of the\n",
        "previous state-of-the-art model. The Transformer (big) model trained for English-to-French used\n",
        "dropout rate Pdrop = 0.1, instead of 0.3.\n",
        "\n"
      ]
    },
    {
      "cell_type": "code",
      "metadata": {
        "id": "icUdn2VfXq9a"
      },
      "source": [
        "Image(filename=\"images/results.png\")"
      ],
      "execution_count": null,
      "outputs": []
    },
    {
      "cell_type": "markdown",
      "metadata": {
        "id": "U4JNgHe4Xq9b"
      },
      "source": [
        "> The code we have written here is a version of the base model. There are fully trained version of this system available here  [(Example Models)](http://opennmt.net/Models-py/).\n",
        ">\n",
        "> With the addtional extensions in the last section, the OpenNMT-py replication gets to 26.9 on EN-DE WMT. Here I have loaded in those parameters to our reimplemenation. "
      ]
    },
    {
      "cell_type": "code",
      "metadata": {
        "collapsed": true,
        "id": "ENGPLODDXq9b"
      },
      "source": [
        "!wget https://s3.amazonaws.com/opennmt-models/en-de-model.pt"
      ],
      "execution_count": null,
      "outputs": []
    },
    {
      "cell_type": "code",
      "metadata": {
        "collapsed": true,
        "id": "_-0aCFrkXq9b"
      },
      "source": [
        "model, SRC, TGT = torch.load(\"en-de-model.pt\")"
      ],
      "execution_count": null,
      "outputs": []
    },
    {
      "cell_type": "code",
      "metadata": {
        "collapsed": true,
        "id": "Y30xCLShXq9b"
      },
      "source": [
        ""
      ],
      "execution_count": null,
      "outputs": []
    },
    {
      "cell_type": "code",
      "metadata": {
        "id": "qOWY9S1VXq9b"
      },
      "source": [
        "model.eval()\n",
        "sent = \"▁The ▁log ▁file ▁can ▁be ▁sent ▁secret ly ▁with ▁email ▁or ▁FTP ▁to ▁a ▁specified ▁receiver\".split()\n",
        "src = torch.LongTensor([[SRC.stoi[w] for w in sent]])\n",
        "src = Variable(src)\n",
        "src_mask = (src != SRC.stoi[\"<blank>\"]).unsqueeze(-2)\n",
        "out = greedy_decode(model, src, src_mask, \n",
        "                    max_len=60, start_symbol=TGT.stoi[\"<s>\"])\n",
        "print(\"Translation:\", end=\"\\t\")\n",
        "trans = \"<s> \"\n",
        "for i in range(1, out.size(1)):\n",
        "    sym = TGT.itos[out[0, i]]\n",
        "    if sym == \"</s>\": break\n",
        "    trans += sym + \" \"\n",
        "print(trans)"
      ],
      "execution_count": null,
      "outputs": []
    },
    {
      "cell_type": "markdown",
      "metadata": {
        "id": "2cgclZwFXq9b"
      },
      "source": [
        "## Attention Visualization\n",
        "\n",
        "> Even with a greedy decoder the translation looks pretty good. We can further visualize it to see what is happening at each layer of the attention "
      ]
    },
    {
      "cell_type": "code",
      "metadata": {
        "id": "2_TXuzFFXq9c"
      },
      "source": [
        "tgt_sent = trans.split()\n",
        "def draw(data, x, y, ax):\n",
        "    seaborn.heatmap(data, \n",
        "                    xticklabels=x, square=True, yticklabels=y, vmin=0.0, vmax=1.0, \n",
        "                    cbar=False, ax=ax)\n",
        "    \n",
        "for layer in range(1, 6, 2):\n",
        "    fig, axs = plt.subplots(1,4, figsize=(20, 10))\n",
        "    print(\"Encoder Layer\", layer+1)\n",
        "    for h in range(4):\n",
        "        draw(model.encoder.layers[layer].self_attn.attn[0, h].data, \n",
        "            sent, sent if h ==0 else [], ax=axs[h])\n",
        "    plt.show()\n",
        "    \n",
        "for layer in range(1, 6, 2):\n",
        "    fig, axs = plt.subplots(1,4, figsize=(20, 10))\n",
        "    print(\"Decoder Self Layer\", layer+1)\n",
        "    for h in range(4):\n",
        "        draw(model.decoder.layers[layer].self_attn.attn[0, h].data[:len(tgt_sent), :len(tgt_sent)], \n",
        "            tgt_sent, tgt_sent if h ==0 else [], ax=axs[h])\n",
        "    plt.show()\n",
        "    print(\"Decoder Src Layer\", layer+1)\n",
        "    fig, axs = plt.subplots(1,4, figsize=(20, 10))\n",
        "    for h in range(4):\n",
        "        draw(model.decoder.layers[layer].self_attn.attn[0, h].data[:len(tgt_sent), :len(sent)], \n",
        "            sent, tgt_sent if h ==0 else [], ax=axs[h])\n",
        "    plt.show()\n"
      ],
      "execution_count": null,
      "outputs": []
    },
    {
      "cell_type": "markdown",
      "metadata": {
        "id": "3MhlgGUqXq9c"
      },
      "source": [
        "# Conclusion\n",
        "\n",
        "> Hopefully this code is useful for future research. Please reach out if you have any issues. If you find this code helpful, also check out our other OpenNMT tools.\n",
        "\n",
        "```\n",
        "@inproceedings{opennmt,\n",
        "  author    = {Guillaume Klein and\n",
        "               Yoon Kim and\n",
        "               Yuntian Deng and\n",
        "               Jean Senellart and\n",
        "               Alexander M. Rush},\n",
        "  title     = {OpenNMT: Open-Source Toolkit for Neural Machine Translation},\n",
        "  booktitle = {Proc. ACL},\n",
        "  year      = {2017},\n",
        "  url       = {https://doi.org/10.18653/v1/P17-4012},\n",
        "  doi       = {10.18653/v1/P17-4012}\n",
        "}\n",
        "```\n",
        "\n",
        "> Cheers,\n",
        "> srush"
      ]
    },
    {
      "cell_type": "markdown",
      "metadata": {
        "id": "d1-u5nm5Xq9c"
      },
      "source": [
        "{::options parse_block_html=\"true\" /}\n",
        "<div id=\"disqus_thread\"></div>\n",
        "<script>\n",
        "\n",
        "/**\n",
        "*  RECOMMENDED CONFIGURATION VARIABLES: EDIT AND UNCOMMENT THE SECTION BELOW TO INSERT DYNAMIC VALUES FROM YOUR PLATFORM OR CMS.\n",
        "*  LEARN WHY DEFINING THESE VARIABLES IS IMPORTANT: https://disqus.com/admin/universalcode/#configuration-variables*/\n",
        "/*\n",
        "var disqus_config = function () {\n",
        "this.page.url = PAGE_URL;  // Replace PAGE_URL with your page's canonical URL variable\n",
        "this.page.identifier = PAGE_IDENTIFIER; // Replace PAGE_IDENTIFIER with your page's unique identifier variable\n",
        "};\n",
        "*/\n",
        "(function() { // DON'T EDIT BELOW THIS LINE\n",
        "var d = document, s = d.createElement('script');\n",
        "s.src = 'https://harvard-nlp.disqus.com/embed.js';\n",
        "s.setAttribute('data-timestamp', +new Date());\n",
        "(d.head || d.body).appendChild(s);\n",
        "})();\n",
        "</script>\n",
        "<noscript>Please enable JavaScript to view the <a href=\"https://disqus.com/?ref_noscript\">comments powered by Disqus.</a></noscript>\n",
        "                            "
      ]
    },
    {
      "cell_type": "code",
      "source": [
        ""
      ],
      "metadata": {
        "id": "ZVfU915A-JkF"
      },
      "execution_count": null,
      "outputs": []
    },
    {
      "cell_type": "markdown",
      "metadata": {
        "id": "k8WJUdrFXq9c"
      },
      "source": [
        "<div id=\"disqus_thread\"></div>\n",
        "<script>\n",
        "    /**\n",
        "     *  RECOMMENDED CONFIGURATION VARIABLES: EDIT AND UNCOMMENT THE SECTION BELOW TO INSERT DYNAMIC VALUES FROM YOUR PLATFORM OR CMS.\n",
        "     *  LEARN WHY DEFINING THESE VARIABLES IS IMPORTANT: https://disqus.com/admin/universalcode/#configuration-variables\n",
        "     */\n",
        "    /*\n",
        "    var disqus_config = function () {\n",
        "        this.page.url = PAGE_URL;  // Replace PAGE_URL with your page's canonical URL variable\n",
        "        this.page.identifier = PAGE_IDENTIFIER; // Replace PAGE_IDENTIFIER with your page's unique identifier variable\n",
        "    };\n",
        "    */\n",
        "    (function() {  // REQUIRED CONFIGURATION VARIABLE: EDIT THE SHORTNAME BELOW\n",
        "        var d = document, s = d.createElement('script');\n",
        "        \n",
        "        s.src = 'https://EXAMPLE.disqus.com/embed.js';  // IMPORTANT: Replace EXAMPLE with your forum shortname!\n",
        "        \n",
        "        s.setAttribute('data-timestamp', +new Date());\n",
        "        (d.head || d.body).appendChild(s);\n",
        "    })();\n",
        "</script>\n",
        "<noscript>Please enable JavaScript to view the <a href=\"https://disqus.com/?ref_noscript\" rel=\"nofollow\">comments powered by Disqus.</a></noscript>"
      ]
    }
  ]
}