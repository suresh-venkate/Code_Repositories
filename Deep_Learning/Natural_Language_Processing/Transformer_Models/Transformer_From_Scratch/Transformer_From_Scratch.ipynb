{
  "nbformat": 4,
  "nbformat_minor": 0,
  "metadata": {
    "kernelspec": {
      "display_name": "Python 3",
      "language": "python",
      "name": "python3"
    },
    "language_info": {
      "codemirror_mode": {
        "name": "ipython",
        "version": 3
      },
      "file_extension": ".py",
      "mimetype": "text/x-python",
      "name": "python",
      "nbconvert_exporter": "python",
      "pygments_lexer": "ipython3",
      "version": "3.5.2"
    },
    "colab": {
      "name": "Transformer_From_Scratch.ipynb",
      "provenance": [],
      "toc_visible": true,
      "include_colab_link": true
    },
    "accelerator": "GPU"
  },
  "cells": [
    {
      "cell_type": "markdown",
      "metadata": {
        "id": "view-in-github",
        "colab_type": "text"
      },
      "source": [
        "<a href=\"https://colab.research.google.com/github/suresh-venkate/Code_Repositories/blob/main/Deep_Learning/Natural_Language_Processing/Transformer_Models/Transformer_From_Scratch/Transformer_From_Scratch.ipynb\" target=\"_parent\"><img src=\"https://colab.research.google.com/assets/colab-badge.svg\" alt=\"Open In Colab\"/></a>"
      ]
    },
    {
      "cell_type": "markdown",
      "metadata": {
        "id": "FI075CzzZS35"
      },
      "source": [
        "# Transformer from scratch\n",
        "\n",
        "* Reference: Attention is all you need, NIPS 2017\n",
        "* Authors: Ashish Vaswani et.al.\n",
        "* Link to paper: [Link](https://arxiv.org/abs/1706.03762)\n",
        "* All references in the code below refer to this paper unless stated otherwise"
      ]
    },
    {
      "cell_type": "markdown",
      "metadata": {
        "id": "VWbH-n-mYZzA"
      },
      "source": [
        "# Import required libraries"
      ]
    },
    {
      "cell_type": "code",
      "metadata": {
        "id": "5lDHMlknmKxK"
      },
      "source": [
        "%%capture \n",
        "!wget https://raw.githubusercontent.com/suresh-venkate/Code_Repositories/main/Deep_Learning/Natural_Language_Processing/Transformer_Models/Transformer_From_Scratch/transformer_utils.py\n",
        "!wget https://raw.githubusercontent.com/suresh-venkate/Code_Repositories/main/Deep_Learning/Natural_Language_Processing/Transformer_Models/Transformer_From_Scratch/transformer_utils_orig.py"
      ],
      "execution_count": 1,
      "outputs": []
    },
    {
      "cell_type": "code",
      "metadata": {
        "id": "6MThcSvYYcig"
      },
      "source": [
        "import numpy as np\n",
        "import matplotlib.pyplot as plt\n",
        "import math, copy, time\n",
        "import seaborn\n",
        "seaborn.set_context(context=\"talk\")\n",
        "%matplotlib inline\n",
        "\n",
        "import torch\n",
        "import torch.nn as nn\n",
        "import torch.nn.functional as F\n",
        "\n",
        "from torchsummary import summary as ts_summary\n",
        "from torch.autograd import Variable\n",
        "\n",
        "#from transformer_utils_orig import *\n",
        "from transformer_utils import clones, Embeddings, PositionalEncoding\n",
        "from transformer_utils import Generator\n",
        "from transformer_utils import PositionwiseFeedForward\n",
        "from transformer_utils import ScaledDotProductAttention\n",
        "\n",
        "from transformer_utils_orig import EncoderDecoder\n",
        "from transformer_utils_orig import Encoder\n",
        "from transformer_utils_orig import SublayerConnection, EncoderLayer, Decoder, DecoderLayer\n",
        "from transformer_utils_orig import MultiHeadedAttention\n",
        "from transformer_utils_orig import make_model\n",
        "\n",
        "#from transformer_utils_orig import LayerNorm\n",
        "#from transformer_utils_orig import Generator\n",
        "#from transformer_utils_orig import clones\n",
        "#from transformer_utils_orig import Embeddings, PositionalEncoding\n",
        "#from transformer_utils_orig import PositionwiseFeedForward\n",
        "#from transformer_utils_orig import attention"
      ],
      "execution_count": 2,
      "outputs": []
    },
    {
      "cell_type": "markdown",
      "metadata": {
        "id": "m3ru3h5Q-5hN"
      },
      "source": [
        "# Backup"
      ]
    },
    {
      "cell_type": "markdown",
      "metadata": {
        "id": "EwJnfYQeIQGp"
      },
      "source": [
        "## Verify Function: clones"
      ]
    },
    {
      "cell_type": "code",
      "metadata": {
        "id": "mXw8VvRl9Mxm"
      },
      "source": [
        "# class TempModel(nn.Module):\n",
        "#   def __init__(self, layer, N):\n",
        "#     super(TempModel, self).__init__()\n",
        "#     self.layers = clones(layer, N)\n",
        "\n",
        "#   def forward(self, x):\n",
        "#     for layer in self.layers:\n",
        "#       x = layer(x)\n",
        "#     return x\n",
        "\n",
        "# device = \"cuda\" if torch.cuda.is_available() else \"cpu\"\n",
        "# lin_layer = nn.Linear(128, 128)\n",
        "# temp_model = TempModel(lin_layer, 4).to(device) # Clone linear layer 4 times\n",
        "# ts_summary(temp_model, input_size = (128,))"
      ],
      "execution_count": 3,
      "outputs": []
    },
    {
      "cell_type": "markdown",
      "metadata": {
        "id": "_R8ANPCHRyy9"
      },
      "source": [
        "## Verify Class: ScaledDotProductAttention"
      ]
    },
    {
      "cell_type": "code",
      "metadata": {
        "id": "wMYg-_GduO1R"
      },
      "source": [
        "# device = \"cuda\" if torch.cuda.is_available() else \"cpu\"\n",
        "# temp_model = ScaledDotProductAttention(4).to(device) # Clone linear layer 4 times\n",
        "\n",
        "# Q = torch.randint(0, 10, (2, 3, 5, 16), dtype = torch.float32)\n",
        "# K = torch.clone(Q)\n",
        "# V = torch.clone(Q)\n",
        "\n",
        "# attn, probs = temp_model(Q, K, V)\n",
        "# attn = torch.ceil(attn)\n",
        "\n",
        "# print(Q.shape, attn.shape, probs.shape)\n",
        "# print()\n",
        "# print(Q[0, 0])\n",
        "# print()\n",
        "# print(probs[0, 0])\n",
        "# print()\n",
        "# print(attn[0, 0])"
      ],
      "execution_count": 4,
      "outputs": []
    },
    {
      "cell_type": "markdown",
      "metadata": {
        "id": "xTxaYcNQc6xN"
      },
      "source": [
        "## Verify Class: MultiHeadAttention\n"
      ]
    },
    {
      "cell_type": "code",
      "metadata": {
        "id": "67X-WPO3dBl_"
      },
      "source": [
        "# device = \"cuda\" if torch.cuda.is_available() else \"cpu\"\n",
        "# temp_model = MultiHeadAttention(h = 8, d_model = 512, attn_dropout = 0.0).to(device)\n",
        "\n",
        "# Q = torch.randint(0, 10, (2, 5, 512), dtype = torch.float32).to(device)\n",
        "# K = torch.clone(Q)\n",
        "# V = torch.clone(Q)\n",
        "\n",
        "# x = temp_model(Q, K, V, mask = None)\n",
        "# print(x.shape, temp_model.attn.shape)"
      ],
      "execution_count": 5,
      "outputs": []
    },
    {
      "cell_type": "markdown",
      "metadata": {
        "id": "BrzNUSB33Z6S"
      },
      "source": [
        "## Verify Class: Embeddings"
      ]
    },
    {
      "cell_type": "code",
      "metadata": {
        "id": "BvcLFj463cZC"
      },
      "source": [
        "# device = \"cuda\" if torch.cuda.is_available() else \"cpu\"\n",
        "# src_vocab = 11 # 0 to 10\n",
        "# d_model = 512\n",
        "# temp_model = Embeddings(d_model, src_vocab).to(device)\n",
        "\n",
        "# # Generate 5 input samples of length 10 each\n",
        "# input = torch.randint(0, 10, (5, 10)).to(device)\n",
        "# output = temp_model(input)\n",
        "\n",
        "# print(input.shape, output.shape)"
      ],
      "execution_count": 6,
      "outputs": []
    },
    {
      "cell_type": "markdown",
      "metadata": {
        "id": "aV4dQw7_6RDw"
      },
      "source": [
        "## Verify Class: PositionalEncoding"
      ]
    },
    {
      "cell_type": "code",
      "metadata": {
        "id": "0RR2dxTMAgmO"
      },
      "source": [
        "# d_model = 20\n",
        "# pe = PositionalEncoding(d_model, dropout = 0)\n",
        "# input = torch.zeros(1, 100, 20)\n",
        "# output = pe.forward(input)\n",
        "\n",
        "# plt.figure(figsize=(15, 5))\n",
        "# plt.plot(np.arange(100), output[0, :, 4:8].numpy())\n",
        "# plt.legend([\"dim %d\" %p for p in [4, 5, 6, 7]])\n",
        "# plt.show()"
      ],
      "execution_count": 7,
      "outputs": []
    },
    {
      "cell_type": "code",
      "metadata": {
        "collapsed": true,
        "id": "ugLO6-o8oRdZ"
      },
      "source": [
        "# class AddAndNormDec(nn.Module):\n",
        "#   \"\"\"\n",
        "#   Add a residual connection followed by a layer norm.\n",
        "#   \"\"\"\n",
        "#   def __init__(self, size):\n",
        "#     super(AddAndNormDec, self).__init__()\n",
        "#     self.norm = nn.LayerNorm(size, eps = 1e-6)\n",
        "    \n",
        "#   def forward(self, x, sublayer):\n",
        "#     #return self.norm(x + sublayer(x))\n",
        "#     return x + sublayer(self.norm(x))"
      ],
      "execution_count": 8,
      "outputs": []
    },
    {
      "cell_type": "code",
      "metadata": {
        "id": "3QKTNMa9uWcE"
      },
      "source": [
        "# device = \"cuda\" if torch.cuda.is_available() else \"cpu\"\n",
        "# attn = MultiHeadAttention(8, 512).to(device)\n",
        "# addandnorm = AddAndNorm(512).to(device)\n",
        "\n",
        "# # # Generate 5 input samples of length 10 each\n",
        "# # input = torch.randint(0, 10, (5, 10)).to(device)\n",
        "# # output = temp_model(input)\n",
        "\n",
        "# # print(input.shape, output.shape)\n",
        "# #ts_summary(temp_model, input_size = (10, 512))\n",
        "# Q = torch.randint(0, 10, (2, 5, 512), dtype = torch.float32).to(device)\n",
        "# K = torch.clone(Q)\n",
        "# V = torch.clone(Q)\n",
        "\n",
        "# x = attn(Q, K, V, mask = None)\n",
        "# y = addandnorm"
      ],
      "execution_count": 9,
      "outputs": []
    },
    {
      "cell_type": "markdown",
      "metadata": {
        "id": "yUlOoGM4XtlT"
      },
      "source": [
        "# Backup_1"
      ]
    },
    {
      "cell_type": "markdown",
      "metadata": {
        "id": "ma7LmcBBDayM"
      },
      "source": [
        "## Define classes and Functions"
      ]
    },
    {
      "cell_type": "code",
      "metadata": {
        "collapsed": true,
        "id": "5u07_veQXq9B"
      },
      "source": [
        "# class EncoderDecoder(nn.Module):\n",
        "#     \"\"\"\n",
        "#     Overall Encode Decoder module\n",
        "#     \"\"\"\n",
        "#     def __init__(self, encoder, decoder, src_embed, tgt_embed, generator):\n",
        "#         super(EncoderDecoder, self).__init__()\n",
        "#         self.encoder = encoder\n",
        "#         self.decoder = decoder\n",
        "#         self.src_embed = src_embed\n",
        "#         self.tgt_embed = tgt_embed\n",
        "#         self.generator = generator\n",
        "        \n",
        "#     def forward(self, src, tgt, src_mask, tgt_mask):\n",
        "#         \"Take in and process masked src and target sequences.\"\n",
        "#         return self.decode(self.encode(src, src_mask), src_mask,\n",
        "#                             tgt, tgt_mask)\n",
        "    \n",
        "#     def encode(self, src, src_mask):\n",
        "#         return self.encoder(self.src_embed(src), src_mask)\n",
        "    \n",
        "#     def decode(self, memory, src_mask, tgt, tgt_mask):\n",
        "#         return self.decoder(self.tgt_embed(tgt), memory, src_mask, tgt_mask)"
      ],
      "execution_count": 10,
      "outputs": []
    },
    {
      "cell_type": "code",
      "metadata": {
        "collapsed": true,
        "id": "_9Oz1BqQXq9B"
      },
      "source": [
        "# class Generator(nn.Module):\n",
        "#   \"\"\"\n",
        "#   Final output layer (linear + softmax) to be added after the decoder output\n",
        "#   \"\"\"\n",
        "#   def __init__(self, d_model, vocab):\n",
        "#     \"\"\"\n",
        "#     Arguments: \n",
        "#       d_model: Size of the embedding vector\n",
        "#       vocab: Size of input vocabulary\n",
        "#     \"\"\"\n",
        "#     super(Generator, self).__init__()\n",
        "#     self.proj = nn.Linear(d_model, vocab)\n",
        "#     self.smax = nn.LogSoftmax(dim = -1)\n",
        "\n",
        "#   def forward(self, x):\n",
        "#     # x = self.proj(x)\n",
        "#     # x = self.smax(x)\n",
        "#     return self.smax(self.proj(x))"
      ],
      "execution_count": 11,
      "outputs": []
    },
    {
      "cell_type": "code",
      "metadata": {
        "collapsed": true,
        "id": "3YxN1jjXXq9O"
      },
      "source": [
        "# def make_model(src_vocab, tgt_vocab, N=6, \n",
        "#                d_model=512, d_ff=2048, h=8, dropout=0.1):\n",
        "#     \"Helper: Construct a model from hyperparameters.\"\n",
        "#     c = copy.deepcopy\n",
        "#     position = PositionalEncoding(d_model, dropout)\n",
        "#     model = EncoderDecoder(\n",
        "#         Encoder(d_model, h, dropout, d_ff, dropout, N),\n",
        "#         Decoder(d_model, h, dropout, d_ff, dropout, N),\n",
        "#         nn.Sequential(Embeddings(d_model, src_vocab), c(position)),\n",
        "#         nn.Sequential(Embeddings(d_model, tgt_vocab), c(position)),\n",
        "#         Generator(d_model, tgt_vocab))    \n",
        "    \n",
        "#     # This was important from their code. \n",
        "#     # Initialize parameters with Glorot / fan_avg.\n",
        "#     for p in model.parameters():\n",
        "#         if p.dim() > 1:\n",
        "#             nn.init.xavier_uniform(p)\n",
        "#     return model"
      ],
      "execution_count": 12,
      "outputs": []
    },
    {
      "cell_type": "code",
      "metadata": {
        "collapsed": true,
        "id": "aFIfv_2RXq9P",
        "outputId": "99b86275-1eb3-44a7-983c-7f89facd310a",
        "colab": {
          "base_uri": "https://localhost:8080/"
        }
      },
      "source": [
        "# Small example model.\n",
        "tmp_model = make_model(10, 10, 2)\n",
        "tmp_model"
      ],
      "execution_count": 13,
      "outputs": [
        {
          "output_type": "stream",
          "text": [
            "/content/transformer_utils_orig.py:222: UserWarning: nn.init.xavier_uniform is now deprecated in favor of nn.init.xavier_uniform_.\n",
            "  nn.init.xavier_uniform(p)\n"
          ],
          "name": "stderr"
        },
        {
          "output_type": "execute_result",
          "data": {
            "text/plain": [
              "EncoderDecoder(\n",
              "  (encoder): Encoder(\n",
              "    (layers): ModuleList(\n",
              "      (0): EncoderLayer(\n",
              "        (self_attn): MultiHeadedAttention(\n",
              "          (linears): ModuleList(\n",
              "            (0): Linear(in_features=512, out_features=512, bias=True)\n",
              "            (1): Linear(in_features=512, out_features=512, bias=True)\n",
              "            (2): Linear(in_features=512, out_features=512, bias=True)\n",
              "            (3): Linear(in_features=512, out_features=512, bias=True)\n",
              "          )\n",
              "          (dropout): Dropout(p=0.1, inplace=False)\n",
              "          (attention): ScaledDotProductAttention(\n",
              "            (softmax): Softmax(dim=-1)\n",
              "          )\n",
              "        )\n",
              "        (feed_forward): PositionwiseFeedForward(\n",
              "          (fc_1): Linear(in_features=512, out_features=2048, bias=True)\n",
              "          (fc_2): Linear(in_features=2048, out_features=512, bias=True)\n",
              "          (relu): ReLU()\n",
              "          (dropout): Dropout(p=0.1, inplace=False)\n",
              "        )\n",
              "        (sublayer): ModuleList(\n",
              "          (0): SublayerConnection(\n",
              "            (norm): LayerNorm((512,), eps=1e-06, elementwise_affine=True)\n",
              "            (dropout): Dropout(p=0.1, inplace=False)\n",
              "          )\n",
              "          (1): SublayerConnection(\n",
              "            (norm): LayerNorm((512,), eps=1e-06, elementwise_affine=True)\n",
              "            (dropout): Dropout(p=0.1, inplace=False)\n",
              "          )\n",
              "        )\n",
              "      )\n",
              "      (1): EncoderLayer(\n",
              "        (self_attn): MultiHeadedAttention(\n",
              "          (linears): ModuleList(\n",
              "            (0): Linear(in_features=512, out_features=512, bias=True)\n",
              "            (1): Linear(in_features=512, out_features=512, bias=True)\n",
              "            (2): Linear(in_features=512, out_features=512, bias=True)\n",
              "            (3): Linear(in_features=512, out_features=512, bias=True)\n",
              "          )\n",
              "          (dropout): Dropout(p=0.1, inplace=False)\n",
              "          (attention): ScaledDotProductAttention(\n",
              "            (softmax): Softmax(dim=-1)\n",
              "          )\n",
              "        )\n",
              "        (feed_forward): PositionwiseFeedForward(\n",
              "          (fc_1): Linear(in_features=512, out_features=2048, bias=True)\n",
              "          (fc_2): Linear(in_features=2048, out_features=512, bias=True)\n",
              "          (relu): ReLU()\n",
              "          (dropout): Dropout(p=0.1, inplace=False)\n",
              "        )\n",
              "        (sublayer): ModuleList(\n",
              "          (0): SublayerConnection(\n",
              "            (norm): LayerNorm((512,), eps=1e-06, elementwise_affine=True)\n",
              "            (dropout): Dropout(p=0.1, inplace=False)\n",
              "          )\n",
              "          (1): SublayerConnection(\n",
              "            (norm): LayerNorm((512,), eps=1e-06, elementwise_affine=True)\n",
              "            (dropout): Dropout(p=0.1, inplace=False)\n",
              "          )\n",
              "        )\n",
              "      )\n",
              "    )\n",
              "    (norm): LayerNorm((512,), eps=1e-06, elementwise_affine=True)\n",
              "  )\n",
              "  (decoder): Decoder(\n",
              "    (layers): ModuleList(\n",
              "      (0): DecoderLayer(\n",
              "        (self_attn): MultiHeadedAttention(\n",
              "          (linears): ModuleList(\n",
              "            (0): Linear(in_features=512, out_features=512, bias=True)\n",
              "            (1): Linear(in_features=512, out_features=512, bias=True)\n",
              "            (2): Linear(in_features=512, out_features=512, bias=True)\n",
              "            (3): Linear(in_features=512, out_features=512, bias=True)\n",
              "          )\n",
              "          (dropout): Dropout(p=0.1, inplace=False)\n",
              "          (attention): ScaledDotProductAttention(\n",
              "            (softmax): Softmax(dim=-1)\n",
              "          )\n",
              "        )\n",
              "        (src_attn): MultiHeadedAttention(\n",
              "          (linears): ModuleList(\n",
              "            (0): Linear(in_features=512, out_features=512, bias=True)\n",
              "            (1): Linear(in_features=512, out_features=512, bias=True)\n",
              "            (2): Linear(in_features=512, out_features=512, bias=True)\n",
              "            (3): Linear(in_features=512, out_features=512, bias=True)\n",
              "          )\n",
              "          (dropout): Dropout(p=0.1, inplace=False)\n",
              "          (attention): ScaledDotProductAttention(\n",
              "            (softmax): Softmax(dim=-1)\n",
              "          )\n",
              "        )\n",
              "        (feed_forward): PositionwiseFeedForward(\n",
              "          (fc_1): Linear(in_features=512, out_features=2048, bias=True)\n",
              "          (fc_2): Linear(in_features=2048, out_features=512, bias=True)\n",
              "          (relu): ReLU()\n",
              "          (dropout): Dropout(p=0.1, inplace=False)\n",
              "        )\n",
              "        (sublayer): ModuleList(\n",
              "          (0): SublayerConnection(\n",
              "            (norm): LayerNorm((512,), eps=1e-06, elementwise_affine=True)\n",
              "            (dropout): Dropout(p=0.1, inplace=False)\n",
              "          )\n",
              "          (1): SublayerConnection(\n",
              "            (norm): LayerNorm((512,), eps=1e-06, elementwise_affine=True)\n",
              "            (dropout): Dropout(p=0.1, inplace=False)\n",
              "          )\n",
              "          (2): SublayerConnection(\n",
              "            (norm): LayerNorm((512,), eps=1e-06, elementwise_affine=True)\n",
              "            (dropout): Dropout(p=0.1, inplace=False)\n",
              "          )\n",
              "        )\n",
              "      )\n",
              "      (1): DecoderLayer(\n",
              "        (self_attn): MultiHeadedAttention(\n",
              "          (linears): ModuleList(\n",
              "            (0): Linear(in_features=512, out_features=512, bias=True)\n",
              "            (1): Linear(in_features=512, out_features=512, bias=True)\n",
              "            (2): Linear(in_features=512, out_features=512, bias=True)\n",
              "            (3): Linear(in_features=512, out_features=512, bias=True)\n",
              "          )\n",
              "          (dropout): Dropout(p=0.1, inplace=False)\n",
              "          (attention): ScaledDotProductAttention(\n",
              "            (softmax): Softmax(dim=-1)\n",
              "          )\n",
              "        )\n",
              "        (src_attn): MultiHeadedAttention(\n",
              "          (linears): ModuleList(\n",
              "            (0): Linear(in_features=512, out_features=512, bias=True)\n",
              "            (1): Linear(in_features=512, out_features=512, bias=True)\n",
              "            (2): Linear(in_features=512, out_features=512, bias=True)\n",
              "            (3): Linear(in_features=512, out_features=512, bias=True)\n",
              "          )\n",
              "          (dropout): Dropout(p=0.1, inplace=False)\n",
              "          (attention): ScaledDotProductAttention(\n",
              "            (softmax): Softmax(dim=-1)\n",
              "          )\n",
              "        )\n",
              "        (feed_forward): PositionwiseFeedForward(\n",
              "          (fc_1): Linear(in_features=512, out_features=2048, bias=True)\n",
              "          (fc_2): Linear(in_features=2048, out_features=512, bias=True)\n",
              "          (relu): ReLU()\n",
              "          (dropout): Dropout(p=0.1, inplace=False)\n",
              "        )\n",
              "        (sublayer): ModuleList(\n",
              "          (0): SublayerConnection(\n",
              "            (norm): LayerNorm((512,), eps=1e-06, elementwise_affine=True)\n",
              "            (dropout): Dropout(p=0.1, inplace=False)\n",
              "          )\n",
              "          (1): SublayerConnection(\n",
              "            (norm): LayerNorm((512,), eps=1e-06, elementwise_affine=True)\n",
              "            (dropout): Dropout(p=0.1, inplace=False)\n",
              "          )\n",
              "          (2): SublayerConnection(\n",
              "            (norm): LayerNorm((512,), eps=1e-06, elementwise_affine=True)\n",
              "            (dropout): Dropout(p=0.1, inplace=False)\n",
              "          )\n",
              "        )\n",
              "      )\n",
              "    )\n",
              "    (norm): LayerNorm((512,), eps=1e-06, elementwise_affine=True)\n",
              "  )\n",
              "  (src_embed): Sequential(\n",
              "    (0): Embeddings(\n",
              "      (emb): Embedding(10, 512)\n",
              "    )\n",
              "    (1): PositionalEncoding(\n",
              "      (dropout): Dropout(p=0.1, inplace=False)\n",
              "    )\n",
              "  )\n",
              "  (tgt_embed): Sequential(\n",
              "    (0): Embeddings(\n",
              "      (emb): Embedding(10, 512)\n",
              "    )\n",
              "    (1): PositionalEncoding(\n",
              "      (dropout): Dropout(p=0.1, inplace=False)\n",
              "    )\n",
              "  )\n",
              "  (generator): Generator(\n",
              "    (proj): Linear(in_features=512, out_features=10, bias=True)\n",
              "    (smax): LogSoftmax(dim=-1)\n",
              "  )\n",
              ")"
            ]
          },
          "metadata": {
            "tags": []
          },
          "execution_count": 13
        }
      ]
    },
    {
      "cell_type": "code",
      "metadata": {
        "collapsed": true,
        "id": "BruCIK5kXq9J"
      },
      "source": [
        "def subsequent_mask(size):\n",
        "    \"Mask out subsequent positions.\"\n",
        "    attn_shape = (1, size, size)\n",
        "    subsequent_mask = np.triu(np.ones(attn_shape), k=1).astype('uint8')\n",
        "    return torch.from_numpy(subsequent_mask) == 0"
      ],
      "execution_count": 14,
      "outputs": []
    },
    {
      "cell_type": "code",
      "metadata": {
        "id": "5cw-bWMGXq9K",
        "outputId": "d7027b46-3c18-45c1-e2eb-353a979a47bc",
        "colab": {
          "base_uri": "https://localhost:8080/",
          "height": 333
        }
      },
      "source": [
        "plt.figure(figsize=(5,5))\n",
        "plt.imshow(subsequent_mask(20)[0])\n",
        "None"
      ],
      "execution_count": 15,
      "outputs": [
        {
          "output_type": "display_data",
          "data": {
            "image/png": "[encoded data removed]",
            "text/plain": [
              "<Figure size 360x360 with 1 Axes>"
            ]
          },
          "metadata": {
            "tags": [],
            "needs_background": "light"
          }
        }
      ]
    },
    {
      "cell_type": "code",
      "metadata": {
        "collapsed": true,
        "id": "C_hrhDpSXq9P"
      },
      "source": [
        "class Batch:\n",
        "    \"Object for holding a batch of data with mask during training.\"\n",
        "    def __init__(self, src, trg=None, pad=0):\n",
        "        self.src = src\n",
        "        self.src_mask = (src != pad).unsqueeze(-2)\n",
        "        if trg is not None:\n",
        "            self.trg = trg[:, :-1]\n",
        "            self.trg_y = trg[:, 1:]\n",
        "            self.trg_mask = \\\n",
        "                self.make_std_mask(self.trg, pad)\n",
        "            self.ntokens = (self.trg_y != pad).data.sum()\n",
        "    \n",
        "    @staticmethod\n",
        "    def make_std_mask(tgt, pad):\n",
        "        \"Create a mask to hide padding and future words.\"\n",
        "        tgt_mask = (tgt != pad).unsqueeze(-2)\n",
        "        tgt_mask = tgt_mask & Variable(\n",
        "            subsequent_mask(tgt.size(-1)).type_as(tgt_mask.data))\n",
        "        return tgt_mask"
      ],
      "execution_count": 16,
      "outputs": []
    },
    {
      "cell_type": "code",
      "metadata": {
        "collapsed": true,
        "id": "yDpJ74V1Xq9Q"
      },
      "source": [
        "def run_epoch(data_iter, model, loss_compute):\n",
        "    \"Standard Training and Logging Function\"\n",
        "    start = time.time()\n",
        "    total_tokens = 0\n",
        "    total_loss = 0\n",
        "    tokens = 0\n",
        "    for i, batch in enumerate(data_iter):\n",
        "        out = model.forward(batch.src, batch.trg, \n",
        "                            batch.src_mask, batch.trg_mask)\n",
        "        loss = loss_compute(out, batch.trg_y, batch.ntokens)\n",
        "        total_loss += loss\n",
        "        total_tokens += batch.ntokens\n",
        "        tokens += batch.ntokens\n",
        "        if i % 50 == 1:\n",
        "            elapsed = time.time() - start\n",
        "            print(\"Epoch Step: %d Loss: %f Tokens per Sec: %f\" %\n",
        "                    (i, loss / batch.ntokens, tokens / elapsed))\n",
        "            start = time.time()\n",
        "            tokens = 0\n",
        "    return total_loss / total_tokens"
      ],
      "execution_count": 17,
      "outputs": []
    },
    {
      "cell_type": "code",
      "metadata": {
        "collapsed": true,
        "id": "XxlRc2ooXq9Q"
      },
      "source": [
        "global max_src_in_batch, max_tgt_in_batch\n",
        "def batch_size_fn(new, count, sofar):\n",
        "    \"Keep augmenting batch and calculate total number of tokens + padding.\"\n",
        "    global max_src_in_batch, max_tgt_in_batch\n",
        "    if count == 1:\n",
        "        max_src_in_batch = 0\n",
        "        max_tgt_in_batch = 0\n",
        "    max_src_in_batch = max(max_src_in_batch,  len(new.src))\n",
        "    max_tgt_in_batch = max(max_tgt_in_batch,  len(new.trg) + 2)\n",
        "    src_elements = count * max_src_in_batch\n",
        "    tgt_elements = count * max_tgt_in_batch\n",
        "    return max(src_elements, tgt_elements)"
      ],
      "execution_count": 18,
      "outputs": []
    },
    {
      "cell_type": "code",
      "metadata": {
        "collapsed": true,
        "id": "ZSMNBwjzXq9R"
      },
      "source": [
        "class NoamOpt:\n",
        "    \"Optim wrapper that implements rate.\"\n",
        "    def __init__(self, model_size, factor, warmup, optimizer):\n",
        "        self.optimizer = optimizer\n",
        "        self._step = 0\n",
        "        self.warmup = warmup\n",
        "        self.factor = factor\n",
        "        self.model_size = model_size\n",
        "        self._rate = 0\n",
        "        \n",
        "    def step(self):\n",
        "        \"Update parameters and rate\"\n",
        "        self._step += 1\n",
        "        rate = self.rate()\n",
        "        for p in self.optimizer.param_groups:\n",
        "            p['lr'] = rate\n",
        "        self._rate = rate\n",
        "        self.optimizer.step()\n",
        "        \n",
        "    def rate(self, step = None):\n",
        "        \"Implement `lrate` above\"\n",
        "        if step is None:\n",
        "            step = self._step\n",
        "        return self.factor * \\\n",
        "            (self.model_size ** (-0.5) *\n",
        "            min(step ** (-0.5), step * self.warmup ** (-1.5)))\n",
        "        \n",
        "def get_std_opt(model):\n",
        "    return NoamOpt(model.src_embed[0].d_model, 2, 4000,\n",
        "            torch.optim.Adam(model.parameters(), lr=0, betas=(0.9, 0.98), eps=1e-9))"
      ],
      "execution_count": 19,
      "outputs": []
    },
    {
      "cell_type": "code",
      "metadata": {
        "id": "JkTG4VoeXq9R",
        "outputId": "3daf0060-89b8-4e71-b05b-1343da90459c",
        "colab": {
          "base_uri": "https://localhost:8080/",
          "height": 279
        }
      },
      "source": [
        "# Three settings of the lrate hyperparameters.\n",
        "opts = [NoamOpt(512, 1, 4000, None), \n",
        "        NoamOpt(512, 1, 8000, None),\n",
        "        NoamOpt(256, 1, 4000, None)]\n",
        "plt.plot(np.arange(1, 20000), [[opt.rate(i) for opt in opts] for i in range(1, 20000)])\n",
        "plt.legend([\"512:4000\", \"512:8000\", \"256:4000\"])\n",
        "None"
      ],
      "execution_count": 20,
      "outputs": [
        {
          "output_type": "display_data",
          "data": {
            "image/png": "[encoded data removed]",
            "text/plain": [
              "<Figure size 432x288 with 1 Axes>"
            ]
          },
          "metadata": {
            "tags": [],
            "needs_background": "light"
          }
        }
      ]
    },
    {
      "cell_type": "code",
      "metadata": {
        "collapsed": true,
        "id": "_cwDcAbQXq9S"
      },
      "source": [
        "class LabelSmoothing(nn.Module):\n",
        "    \"Implement label smoothing.\"\n",
        "    def __init__(self, size, padding_idx, smoothing=0.0):\n",
        "        super(LabelSmoothing, self).__init__()\n",
        "        self.criterion = nn.KLDivLoss(size_average=False)\n",
        "        self.padding_idx = padding_idx\n",
        "        self.confidence = 1.0 - smoothing\n",
        "        self.smoothing = smoothing\n",
        "        self.size = size\n",
        "        self.true_dist = None\n",
        "        \n",
        "    def forward(self, x, target):\n",
        "        assert x.size(1) == self.size\n",
        "        true_dist = x.data.clone()\n",
        "        true_dist.fill_(self.smoothing / (self.size - 2))\n",
        "        true_dist.scatter_(1, target.data.unsqueeze(1), self.confidence)\n",
        "        true_dist[:, self.padding_idx] = 0\n",
        "        mask = torch.nonzero(target.data == self.padding_idx)\n",
        "        if mask.dim() > 0:\n",
        "            true_dist.index_fill_(0, mask.squeeze(), 0.0)\n",
        "        self.true_dist = true_dist\n",
        "        return self.criterion(x, Variable(true_dist, requires_grad=False))"
      ],
      "execution_count": 21,
      "outputs": []
    },
    {
      "cell_type": "code",
      "metadata": {
        "id": "19Gk4m0NXq9T",
        "outputId": "fec769c4-867f-48cb-ec0d-f856928bd56a",
        "colab": {
          "base_uri": "https://localhost:8080/",
          "height": 322
        }
      },
      "source": [
        "#Example of label smoothing.\n",
        "crit = LabelSmoothing(5, 0, 0.4)\n",
        "predict = torch.FloatTensor([[0, 0.2, 0.7, 0.1, 0],\n",
        "                             [0, 0.2, 0.7, 0.1, 0], \n",
        "                             [0, 0.2, 0.7, 0.1, 0]])\n",
        "v = crit(Variable(predict.log()), \n",
        "         Variable(torch.LongTensor([2, 1, 0])))\n",
        "\n",
        "# Show the target distributions expected by the system.\n",
        "plt.imshow(crit.true_dist)\n",
        "None"
      ],
      "execution_count": 22,
      "outputs": [
        {
          "output_type": "stream",
          "text": [
            "/usr/local/lib/python3.7/dist-packages/torch/nn/_reduction.py:42: UserWarning: size_average and reduce args will be deprecated, please use reduction='sum' instead.\n",
            "  warnings.warn(warning.format(ret))\n"
          ],
          "name": "stderr"
        },
        {
          "output_type": "display_data",
          "data": {
            "image/png": "[encoded data removed]",
            "text/plain": [
              "<Figure size 432x288 with 1 Axes>"
            ]
          },
          "metadata": {
            "tags": [],
            "needs_background": "light"
          }
        }
      ]
    },
    {
      "cell_type": "code",
      "metadata": {
        "id": "Ic5GcDWEXq9T",
        "outputId": "3e218ad7-ca7d-4b24-bf54-1a9a8ff701ae",
        "colab": {
          "base_uri": "https://localhost:8080/",
          "height": 333
        }
      },
      "source": [
        "crit = LabelSmoothing(5, 0, 0.1)\n",
        "def loss(x):\n",
        "    d = x + 3 * 1\n",
        "    predict = torch.FloatTensor([[0, x / d, 1 / d, 1 / d, 1 / d],\n",
        "                                 ])\n",
        "    #print(predict)\n",
        "    return crit(Variable(predict.log()),\n",
        "                 Variable(torch.LongTensor([1]))).item()\n",
        "plt.plot(np.arange(1, 100), [loss(x) for x in range(1, 100)])\n",
        "None"
      ],
      "execution_count": 23,
      "outputs": [
        {
          "output_type": "stream",
          "text": [
            "/usr/local/lib/python3.7/dist-packages/torch/nn/_reduction.py:42: UserWarning: size_average and reduce args will be deprecated, please use reduction='sum' instead.\n",
            "  warnings.warn(warning.format(ret))\n"
          ],
          "name": "stderr"
        },
        {
          "output_type": "display_data",
          "data": {
            "image/png": "[encoded data removed]",
            "text/plain": [
              "<Figure size 432x288 with 1 Axes>"
            ]
          },
          "metadata": {
            "tags": [],
            "needs_background": "light"
          }
        }
      ]
    },
    {
      "cell_type": "markdown",
      "metadata": {
        "id": "6DOg6L-rXq9U"
      },
      "source": [
        "## Synthetic Data"
      ]
    },
    {
      "cell_type": "code",
      "metadata": {
        "collapsed": true,
        "id": "S0aXeGP0Xq9U"
      },
      "source": [
        "def data_gen(V, batch, nbatches):\n",
        "    \"Generate random data for a src-tgt copy task.\"\n",
        "    for i in range(nbatches):\n",
        "        data = torch.from_numpy(np.random.randint(1, V, size=(batch, 10)))\n",
        "        data[:, 0] = 1\n",
        "        src = Variable(data, requires_grad=False)\n",
        "        tgt = Variable(data, requires_grad=False)\n",
        "        yield Batch(src, tgt, 0)"
      ],
      "execution_count": 24,
      "outputs": []
    },
    {
      "cell_type": "markdown",
      "metadata": {
        "id": "ULRFkGb8Xq9U"
      },
      "source": [
        "## Loss Computation"
      ]
    },
    {
      "cell_type": "code",
      "metadata": {
        "collapsed": true,
        "id": "7Ae8ht1RXq9V"
      },
      "source": [
        "class SimpleLossCompute:\n",
        "    \"A simple loss compute and train function.\"\n",
        "    def __init__(self, generator, criterion, opt=None):\n",
        "        self.generator = generator\n",
        "        self.criterion = criterion\n",
        "        self.opt = opt\n",
        "        \n",
        "    def __call__(self, x, y, norm):\n",
        "        x = self.generator(x)\n",
        "        loss = self.criterion(x.contiguous().view(-1, x.size(-1)), \n",
        "                              y.contiguous().view(-1)) / norm\n",
        "        loss.backward()\n",
        "        if self.opt is not None:\n",
        "            self.opt.step()\n",
        "            self.opt.optimizer.zero_grad()\n",
        "        #return loss.data[0] * norm\n",
        "        return loss.item() * norm"
      ],
      "execution_count": 25,
      "outputs": []
    },
    {
      "cell_type": "markdown",
      "metadata": {
        "id": "3_5N7srEXq9V"
      },
      "source": [
        "## Greedy Decoding"
      ]
    },
    {
      "cell_type": "code",
      "metadata": {
        "id": "fANlh8SzXq9V",
        "outputId": "98244712-a1b5-43d3-d2d3-5744ee58e8d5",
        "colab": {
          "base_uri": "https://localhost:8080/"
        }
      },
      "source": [
        "# Train the simple copy task.\n",
        "V = 11\n",
        "criterion = LabelSmoothing(size=V, padding_idx=0, smoothing=0.0)\n",
        "model = make_model(V, V, N=2)\n",
        "model_opt = NoamOpt(model.src_embed[0].d_model, 1, 400,\n",
        "        torch.optim.Adam(model.parameters(), lr=0, betas=(0.9, 0.98), eps=1e-9))\n",
        "\n",
        "for epoch in range(10):\n",
        "    model.train()\n",
        "    run_epoch(data_gen(V, 30, 20), model, \n",
        "              SimpleLossCompute(model.generator, criterion, model_opt))\n",
        "    model.eval()\n",
        "    print(run_epoch(data_gen(V, 30, 5), model, \n",
        "                    SimpleLossCompute(model.generator, criterion, None)))"
      ],
      "execution_count": 26,
      "outputs": [
        {
          "output_type": "stream",
          "text": [
            "/usr/local/lib/python3.7/dist-packages/torch/nn/_reduction.py:42: UserWarning: size_average and reduce args will be deprecated, please use reduction='sum' instead.\n",
            "  warnings.warn(warning.format(ret))\n",
            "/content/transformer_utils_orig.py:222: UserWarning: nn.init.xavier_uniform is now deprecated in favor of nn.init.xavier_uniform_.\n",
            "  nn.init.xavier_uniform(p)\n"
          ],
          "name": "stderr"
        },
        {
          "output_type": "stream",
          "text": [
            "Epoch Step: 1 Loss: 3.042938 Tokens per Sec: 461.221619\n",
            "Epoch Step: 1 Loss: 1.922031 Tokens per Sec: 804.966919\n",
            "tensor(1.9303)\n",
            "Epoch Step: 1 Loss: 1.989041 Tokens per Sec: 637.673584\n",
            "Epoch Step: 1 Loss: 1.724341 Tokens per Sec: 848.396118\n",
            "tensor(1.6674)\n",
            "Epoch Step: 1 Loss: 2.033901 Tokens per Sec: 666.857300\n",
            "Epoch Step: 1 Loss: 1.417689 Tokens per Sec: 860.021484\n",
            "tensor(1.4231)\n",
            "Epoch Step: 1 Loss: 1.722259 Tokens per Sec: 659.370972\n",
            "Epoch Step: 1 Loss: 1.105606 Tokens per Sec: 873.086426\n",
            "tensor(1.1714)\n",
            "Epoch Step: 1 Loss: 1.254820 Tokens per Sec: 668.414795\n",
            "Epoch Step: 1 Loss: 0.956480 Tokens per Sec: 866.369995\n",
            "tensor(0.9529)\n",
            "Epoch Step: 1 Loss: 1.088670 Tokens per Sec: 656.028564\n",
            "Epoch Step: 1 Loss: 0.640562 Tokens per Sec: 881.458740\n",
            "tensor(0.5787)\n",
            "Epoch Step: 1 Loss: 0.750848 Tokens per Sec: 650.478760\n",
            "Epoch Step: 1 Loss: 0.500509 Tokens per Sec: 827.319702\n",
            "tensor(0.4829)\n",
            "Epoch Step: 1 Loss: 0.708939 Tokens per Sec: 623.286560\n",
            "Epoch Step: 1 Loss: 0.221647 Tokens per Sec: 816.976440\n",
            "tensor(0.2665)\n",
            "Epoch Step: 1 Loss: 0.363781 Tokens per Sec: 632.313477\n",
            "Epoch Step: 1 Loss: 0.233817 Tokens per Sec: 861.872803\n",
            "tensor(0.2514)\n",
            "Epoch Step: 1 Loss: 0.664591 Tokens per Sec: 675.670776\n",
            "Epoch Step: 1 Loss: 0.208773 Tokens per Sec: 881.178589\n",
            "tensor(0.2711)\n",
            "Epoch Step: 1 Loss: 0.535842 Tokens per Sec: 669.392273\n",
            "Epoch Step: 1 Loss: 0.231514 Tokens per Sec: 858.708069\n",
            "tensor(0.2707)\n",
            "Epoch Step: 1 Loss: 0.234353 Tokens per Sec: 672.169861\n",
            "Epoch Step: 1 Loss: 0.174761 Tokens per Sec: 897.584045\n",
            "tensor(0.1934)\n",
            "Epoch Step: 1 Loss: 0.368223 Tokens per Sec: 662.029358\n",
            "Epoch Step: 1 Loss: 0.339304 Tokens per Sec: 810.840271\n",
            "tensor(0.2965)\n",
            "Epoch Step: 1 Loss: 1.343850 Tokens per Sec: 633.451111\n",
            "Epoch Step: 1 Loss: 0.246885 Tokens per Sec: 806.417725\n",
            "tensor(0.2003)\n",
            "Epoch Step: 1 Loss: 0.328617 Tokens per Sec: 625.437134\n",
            "Epoch Step: 1 Loss: 0.100399 Tokens per Sec: 802.947327\n",
            "tensor(0.1123)\n",
            "Epoch Step: 1 Loss: 0.167119 Tokens per Sec: 629.749634\n",
            "Epoch Step: 1 Loss: 0.431693 Tokens per Sec: 836.575073\n",
            "tensor(0.3274)\n",
            "Epoch Step: 1 Loss: 0.232910 Tokens per Sec: 653.790588\n",
            "Epoch Step: 1 Loss: 0.594076 Tokens per Sec: 841.262756\n",
            "tensor(0.4887)\n",
            "Epoch Step: 1 Loss: 0.661691 Tokens per Sec: 659.125366\n",
            "Epoch Step: 1 Loss: 0.616867 Tokens per Sec: 805.974670\n",
            "tensor(0.6088)\n",
            "Epoch Step: 1 Loss: 0.625380 Tokens per Sec: 649.392761\n",
            "Epoch Step: 1 Loss: 0.573527 Tokens per Sec: 786.438538\n",
            "tensor(0.6657)\n",
            "Epoch Step: 1 Loss: 0.702918 Tokens per Sec: 631.597229\n",
            "Epoch Step: 1 Loss: 0.864070 Tokens per Sec: 693.516418\n",
            "tensor(0.8380)\n"
          ],
          "name": "stdout"
        }
      ]
    },
    {
      "cell_type": "code",
      "metadata": {
        "id": "bcVpHCSZXq9V"
      },
      "source": [
        "def greedy_decode(model, src, src_mask, max_len, start_symbol):\n",
        "    memory = model.encode(src, src_mask)\n",
        "    ys = torch.ones(1, 1).fill_(start_symbol).type_as(src.data)\n",
        "    for i in range(max_len-1):\n",
        "        out = model.decode(memory, src_mask, \n",
        "                           Variable(ys), \n",
        "                           Variable(subsequent_mask(ys.size(1))\n",
        "                                    .type_as(src.data)))\n",
        "        prob = model.generator(out[:, -1])\n",
        "        _, next_word = torch.max(prob, dim = 1)\n",
        "        next_word = next_word.data[0]\n",
        "        ys = torch.cat([ys, \n",
        "                        torch.ones(1, 1).type_as(src.data).fill_(next_word)], dim=1)\n",
        "    return ys"
      ],
      "execution_count": 27,
      "outputs": []
    },
    {
      "cell_type": "code",
      "metadata": {
        "id": "oZM2or8QEE2P",
        "outputId": "6472e88c-6f34-414f-9f22-a0b9bb5b5889",
        "colab": {
          "base_uri": "https://localhost:8080/"
        }
      },
      "source": [
        "model.eval()\n",
        "src = Variable(torch.LongTensor([[1,8,5,7,3,6,7,8,9,10]]))\n",
        "#src = Variable(torch.LongTensor([[1,8,5,7,3,6,7,8,9,10]]))\n",
        "src_mask = Variable(torch.ones(1, 1, 10))\n",
        "print(greedy_decode(model, src, src_mask, max_len=10, start_symbol=1))"
      ],
      "execution_count": 28,
      "outputs": [
        {
          "output_type": "stream",
          "text": [
            "tensor([[ 1,  8,  5,  5,  3,  6,  7,  8,  9, 10]])\n"
          ],
          "name": "stdout"
        }
      ]
    },
    {
      "cell_type": "markdown",
      "metadata": {
        "id": "_RynFrZjDJln"
      },
      "source": [
        "# Backup_2"
      ]
    },
    {
      "cell_type": "markdown",
      "metadata": {
        "id": "wmkUG3JYXq9W"
      },
      "source": [
        "# A Real World Example\n",
        "\n",
        "> Now we consider a real-world example using the IWSLT German-English Translation task. This task is much smaller than the WMT task considered in the paper, but it illustrates the whole system. We also show how to use multi-gpu processing to make it really fast."
      ]
    },
    {
      "cell_type": "code",
      "metadata": {
        "collapsed": true,
        "id": "rLFMHnFqXq9W"
      },
      "source": [
        "#!pip install torchtext spacy\n",
        "#!python -m spacy download en\n",
        "#!python -m spacy download de"
      ],
      "execution_count": null,
      "outputs": []
    },
    {
      "cell_type": "markdown",
      "metadata": {
        "id": "rG4pUsT7Xq9W"
      },
      "source": [
        "## Data Loading\n",
        "> We will load the dataset using torchtext and spacy for tokenization. "
      ]
    },
    {
      "cell_type": "code",
      "metadata": {
        "collapsed": true,
        "id": "df4hc1trXq9W"
      },
      "source": [
        "# For data loading.\n",
        "from torchtext import data, datasets\n",
        "\n",
        "if True:\n",
        "    import spacy\n",
        "    spacy_de = spacy.load('de')\n",
        "    spacy_en = spacy.load('en')\n",
        "\n",
        "    def tokenize_de(text):\n",
        "        return [tok.text for tok in spacy_de.tokenizer(text)]\n",
        "\n",
        "    def tokenize_en(text):\n",
        "        return [tok.text for tok in spacy_en.tokenizer(text)]\n",
        "\n",
        "    BOS_WORD = '<s>'\n",
        "    EOS_WORD = '</s>'\n",
        "    BLANK_WORD = \"<blank>\"\n",
        "    SRC = data.Field(tokenize=tokenize_de, pad_token=BLANK_WORD)\n",
        "    TGT = data.Field(tokenize=tokenize_en, init_token = BOS_WORD, \n",
        "                     eos_token = EOS_WORD, pad_token=BLANK_WORD)\n",
        "\n",
        "    MAX_LEN = 100\n",
        "    train, val, test = datasets.IWSLT.splits(\n",
        "        exts=('.de', '.en'), fields=(SRC, TGT), \n",
        "        filter_pred=lambda x: len(vars(x)['src']) <= MAX_LEN and \n",
        "            len(vars(x)['trg']) <= MAX_LEN)\n",
        "    MIN_FREQ = 2\n",
        "    SRC.build_vocab(train.src, min_freq=MIN_FREQ)\n",
        "    TGT.build_vocab(train.trg, min_freq=MIN_FREQ)"
      ],
      "execution_count": null,
      "outputs": []
    },
    {
      "cell_type": "markdown",
      "metadata": {
        "id": "xG5hcjj9Xq9W"
      },
      "source": [
        "> Batching matters a ton for speed. We want to have very evenly divided batches, with absolutely minimal padding. To do this we have to hack a bit around the default torchtext batching. This code patches their default batching to make sure we search over enough sentences to find tight batches. "
      ]
    },
    {
      "cell_type": "markdown",
      "metadata": {
        "id": "FkPpP95_Xq9W"
      },
      "source": [
        "## Iterators"
      ]
    },
    {
      "cell_type": "code",
      "metadata": {
        "collapsed": true,
        "id": "FBlqMAiTXq9X"
      },
      "source": [
        "class MyIterator(data.Iterator):\n",
        "    def create_batches(self):\n",
        "        if self.train:\n",
        "            def pool(d, random_shuffler):\n",
        "                for p in data.batch(d, self.batch_size * 100):\n",
        "                    p_batch = data.batch(\n",
        "                        sorted(p, key=self.sort_key),\n",
        "                        self.batch_size, self.batch_size_fn)\n",
        "                    for b in random_shuffler(list(p_batch)):\n",
        "                        yield b\n",
        "            self.batches = pool(self.data(), self.random_shuffler)\n",
        "            \n",
        "        else:\n",
        "            self.batches = []\n",
        "            for b in data.batch(self.data(), self.batch_size,\n",
        "                                          self.batch_size_fn):\n",
        "                self.batches.append(sorted(b, key=self.sort_key))\n",
        "\n",
        "def rebatch(pad_idx, batch):\n",
        "    \"Fix order in torchtext to match ours\"\n",
        "    src, trg = batch.src.transpose(0, 1), batch.trg.transpose(0, 1)\n",
        "    return Batch(src, trg, pad_idx)"
      ],
      "execution_count": null,
      "outputs": []
    },
    {
      "cell_type": "markdown",
      "metadata": {
        "collapsed": true,
        "id": "k4IXY8BgXq9X"
      },
      "source": [
        "## Multi-GPU Training\n",
        "\n",
        "> Finally to really target fast training, we will use multi-gpu. This code implements multi-gpu word generation. It is not specific to transformer so I won't go into too much detail. The idea is to split up word generation at training time into chunks to be processed in parallel across many different gpus. We do this using pytorch parallel primitives:\n",
        "\n",
        "* replicate - split modules onto different gpus.\n",
        "* scatter - split batches onto different gpus\n",
        "* parallel_apply - apply module to batches on different gpus\n",
        "* gather - pull scattered data back onto one gpu. \n",
        "* nn.DataParallel - a special module wrapper that calls these all before evaluating. \n"
      ]
    },
    {
      "cell_type": "code",
      "metadata": {
        "collapsed": true,
        "id": "cAvWWpBhXq9X"
      },
      "source": [
        "# Skip if not interested in multigpu.\n",
        "class MultiGPULossCompute:\n",
        "    \"A multi-gpu loss compute and train function.\"\n",
        "    def __init__(self, generator, criterion, devices, opt=None, chunk_size=5):\n",
        "        # Send out to different gpus.\n",
        "        self.generator = generator\n",
        "        self.criterion = nn.parallel.replicate(criterion, \n",
        "                                               devices=devices)\n",
        "        self.opt = opt\n",
        "        self.devices = devices\n",
        "        self.chunk_size = chunk_size\n",
        "        \n",
        "    def __call__(self, out, targets, normalize):\n",
        "        total = 0.0\n",
        "        generator = nn.parallel.replicate(self.generator, \n",
        "                                                devices=self.devices)\n",
        "        out_scatter = nn.parallel.scatter(out, \n",
        "                                          target_gpus=self.devices)\n",
        "        out_grad = [[] for _ in out_scatter]\n",
        "        targets = nn.parallel.scatter(targets, \n",
        "                                      target_gpus=self.devices)\n",
        "\n",
        "        # Divide generating into chunks.\n",
        "        chunk_size = self.chunk_size\n",
        "        for i in range(0, out_scatter[0].size(1), chunk_size):\n",
        "            # Predict distributions\n",
        "            out_column = [[Variable(o[:, i:i+chunk_size].data, \n",
        "                                    requires_grad=self.opt is not None)] \n",
        "                           for o in out_scatter]\n",
        "            gen = nn.parallel.parallel_apply(generator, out_column)\n",
        "\n",
        "            # Compute loss. \n",
        "            y = [(g.contiguous().view(-1, g.size(-1)), \n",
        "                  t[:, i:i+chunk_size].contiguous().view(-1)) \n",
        "                 for g, t in zip(gen, targets)]\n",
        "            loss = nn.parallel.parallel_apply(self.criterion, y)\n",
        "\n",
        "            # Sum and normalize loss\n",
        "            l = nn.parallel.gather(loss, \n",
        "                                   target_device=self.devices[0])\n",
        "            l = l.sum()[0] / normalize\n",
        "            total += l.data[0]\n",
        "\n",
        "            # Backprop loss to output of transformer\n",
        "            if self.opt is not None:\n",
        "                l.backward()\n",
        "                for j, l in enumerate(loss):\n",
        "                    out_grad[j].append(out_column[j][0].grad.data.clone())\n",
        "\n",
        "        # Backprop all loss through transformer.            \n",
        "        if self.opt is not None:\n",
        "            out_grad = [Variable(torch.cat(og, dim=1)) for og in out_grad]\n",
        "            o1 = out\n",
        "            o2 = nn.parallel.gather(out_grad, \n",
        "                                    target_device=self.devices[0])\n",
        "            o1.backward(gradient=o2)\n",
        "            self.opt.step()\n",
        "            self.opt.optimizer.zero_grad()\n",
        "        return total * normalize"
      ],
      "execution_count": null,
      "outputs": []
    },
    {
      "cell_type": "markdown",
      "metadata": {
        "id": "bJO1OfStXq9X"
      },
      "source": [
        "> Now we create our model, criterion, optimizer, data iterators, and paralelization"
      ]
    },
    {
      "cell_type": "code",
      "metadata": {
        "collapsed": true,
        "id": "sDzqwkH6Xq9X"
      },
      "source": [
        "# GPUs to use\n",
        "devices = [0, 1, 2, 3]\n",
        "if True:\n",
        "    pad_idx = TGT.vocab.stoi[\"<blank>\"]\n",
        "    model = make_model(len(SRC.vocab), len(TGT.vocab), N=6)\n",
        "    model.cuda()\n",
        "    criterion = LabelSmoothing(size=len(TGT.vocab), padding_idx=pad_idx, smoothing=0.1)\n",
        "    criterion.cuda()\n",
        "    BATCH_SIZE = 12000\n",
        "    train_iter = MyIterator(train, batch_size=BATCH_SIZE, device=0,\n",
        "                            repeat=False, sort_key=lambda x: (len(x.src), len(x.trg)),\n",
        "                            batch_size_fn=batch_size_fn, train=True)\n",
        "    valid_iter = MyIterator(val, batch_size=BATCH_SIZE, device=0,\n",
        "                            repeat=False, sort_key=lambda x: (len(x.src), len(x.trg)),\n",
        "                            batch_size_fn=batch_size_fn, train=False)\n",
        "    model_par = nn.DataParallel(model, device_ids=devices)\n",
        "None"
      ],
      "execution_count": null,
      "outputs": []
    },
    {
      "cell_type": "markdown",
      "metadata": {
        "id": "SOXBIVZ-Xq9Y"
      },
      "source": [
        "> Now we train the model. I will play with the warmup steps a bit, but everything else uses the default parameters.  On an AWS p3.8xlarge with 4 Tesla V100s, this runs at ~27,000 tokens per second with a batch size of 12,000 "
      ]
    },
    {
      "cell_type": "markdown",
      "metadata": {
        "id": "WVTYJe4UXq9Y"
      },
      "source": [
        "## Training the System"
      ]
    },
    {
      "cell_type": "code",
      "metadata": {
        "collapsed": true,
        "id": "bDezrLqnXq9Y"
      },
      "source": [
        "#!wget https://s3.amazonaws.com/opennmt-models/iwslt.pt"
      ],
      "execution_count": null,
      "outputs": []
    },
    {
      "cell_type": "code",
      "metadata": {
        "collapsed": true,
        "id": "fGpcKDDiXq9Y"
      },
      "source": [
        "if False:\n",
        "    model_opt = NoamOpt(model.src_embed[0].d_model, 1, 2000,\n",
        "            torch.optim.Adam(model.parameters(), lr=0, betas=(0.9, 0.98), eps=1e-9))\n",
        "    for epoch in range(10):\n",
        "        model_par.train()\n",
        "        run_epoch((rebatch(pad_idx, b) for b in train_iter), \n",
        "                  model_par, \n",
        "                  MultiGPULossCompute(model.generator, criterion, \n",
        "                                      devices=devices, opt=model_opt))\n",
        "        model_par.eval()\n",
        "        loss = run_epoch((rebatch(pad_idx, b) for b in valid_iter), \n",
        "                          model_par, \n",
        "                          MultiGPULossCompute(model.generator, criterion, \n",
        "                          devices=devices, opt=None))\n",
        "        print(loss)\n",
        "else:\n",
        "    model = torch.load(\"iwslt.pt\")"
      ],
      "execution_count": null,
      "outputs": []
    },
    {
      "cell_type": "markdown",
      "metadata": {
        "id": "Gascy-8zXq9Y"
      },
      "source": [
        "> Once trained we can decode the model to produce a set of translations. Here we simply translate the first sentence in the validation set. This dataset is pretty small so the translations with greedy search are reasonably accurate. "
      ]
    },
    {
      "cell_type": "code",
      "metadata": {
        "id": "a2VLz8iMXq9Y"
      },
      "source": [
        "for i, batch in enumerate(valid_iter):\n",
        "    src = batch.src.transpose(0, 1)[:1]\n",
        "    src_mask = (src != SRC.vocab.stoi[\"<blank>\"]).unsqueeze(-2)\n",
        "    out = greedy_decode(model, src, src_mask, \n",
        "                        max_len=60, start_symbol=TGT.vocab.stoi[\"<s>\"])\n",
        "    print(\"Translation:\", end=\"\\t\")\n",
        "    for i in range(1, out.size(1)):\n",
        "        sym = TGT.vocab.itos[out[0, i]]\n",
        "        if sym == \"</s>\": break\n",
        "        print(sym, end =\" \")\n",
        "    print()\n",
        "    print(\"Target:\", end=\"\\t\")\n",
        "    for i in range(1, batch.trg.size(0)):\n",
        "        sym = TGT.vocab.itos[batch.trg.data[i, 0]]\n",
        "        if sym == \"</s>\": break\n",
        "        print(sym, end =\" \")\n",
        "    print()\n",
        "    break"
      ],
      "execution_count": null,
      "outputs": []
    },
    {
      "cell_type": "markdown",
      "metadata": {
        "collapsed": true,
        "id": "R3J-zwLXXq9Z"
      },
      "source": [
        "# Additional Components: BPE, Search, Averaging"
      ]
    },
    {
      "cell_type": "markdown",
      "metadata": {
        "id": "H7d2mzrlXq9Z"
      },
      "source": [
        "> So this mostly covers the transformer model itself. There are four aspects that we didn't cover explicitly. We also have all these additional features implemented in [OpenNMT-py](https://github.com/opennmt/opennmt-py).\n",
        "\n"
      ]
    },
    {
      "cell_type": "markdown",
      "metadata": {
        "id": "YUxdLmPkXq9Z"
      },
      "source": [
        "> 1) BPE/ Word-piece: We can use a library to first preprocess the data into subword units. See Rico Sennrich's [subword-nmt](https://github.com/rsennrich/subword-nmt) implementation. These models will transform the training data to look like this:"
      ]
    },
    {
      "cell_type": "markdown",
      "metadata": {
        "id": "doE_CQ_LXq9Z"
      },
      "source": [
        "▁Die ▁Protokoll datei ▁kann ▁ heimlich ▁per ▁E - Mail ▁oder ▁FTP ▁an ▁einen ▁bestimmte n ▁Empfänger ▁gesendet ▁werden ."
      ]
    },
    {
      "cell_type": "markdown",
      "metadata": {
        "id": "H8JSATiSXq9Z"
      },
      "source": [
        "> 2) Shared Embeddings: When using BPE with shared vocabulary we can share the same weight vectors between the source / target / generator. See the [(cite)](https://arxiv.org/abs/1608.05859) for details. To add this to the model simply do this:"
      ]
    },
    {
      "cell_type": "code",
      "metadata": {
        "collapsed": true,
        "id": "gqJZgf2TXq9Z"
      },
      "source": [
        "if False:\n",
        "    model.src_embed[0].lut.weight = model.tgt_embeddings[0].lut.weight\n",
        "    model.generator.lut.weight = model.tgt_embed[0].lut.weight"
      ],
      "execution_count": null,
      "outputs": []
    },
    {
      "cell_type": "markdown",
      "metadata": {
        "id": "BuhaIOX9Xq9a"
      },
      "source": [
        "> 3) Beam Search: This is a bit too complicated to cover here. See the [OpenNMT-py](https://github.com/OpenNMT/OpenNMT-py/blob/master/onmt/translate/Beam.py) for a pytorch implementation.\n",
        "\n"
      ]
    },
    {
      "cell_type": "markdown",
      "metadata": {
        "id": "UiiXO-M6Xq9a"
      },
      "source": [
        "> 4) Model Averaging: The paper averages the last k checkpoints to create an ensembling effect. We can do this after the fact if we have a bunch of models:"
      ]
    },
    {
      "cell_type": "code",
      "metadata": {
        "collapsed": true,
        "id": "iZeCLDtvXq9a"
      },
      "source": [
        "def average(model, models):\n",
        "    \"Average models into model\"\n",
        "    for ps in zip(*[m.params() for m in [model] + models]):\n",
        "        p[0].copy_(torch.sum(*ps[1:]) / len(ps[1:]))"
      ],
      "execution_count": null,
      "outputs": []
    },
    {
      "cell_type": "markdown",
      "metadata": {
        "id": "-OsT2OfFXq9a"
      },
      "source": [
        "# Results\n",
        "\n",
        "On the WMT 2014 English-to-German translation task, the big transformer model (Transformer (big)\n",
        "in Table 2) outperforms the best previously reported models (including ensembles) by more than 2.0\n",
        "BLEU, establishing a new state-of-the-art BLEU score of 28.4. The configuration of this model is\n",
        "listed in the bottom line of Table 3. Training took 3.5 days on 8 P100 GPUs. Even our base model\n",
        "surpasses all previously published models and ensembles, at a fraction of the training cost of any of\n",
        "the competitive models.\n",
        "\n",
        "On the WMT 2014 English-to-French translation task, our big model achieves a BLEU score of 41.0,\n",
        "outperforming all of the previously published single models, at less than 1/4 the training cost of the\n",
        "previous state-of-the-art model. The Transformer (big) model trained for English-to-French used\n",
        "dropout rate Pdrop = 0.1, instead of 0.3.\n",
        "\n"
      ]
    },
    {
      "cell_type": "code",
      "metadata": {
        "id": "icUdn2VfXq9a"
      },
      "source": [
        "Image(filename=\"images/results.png\")"
      ],
      "execution_count": null,
      "outputs": []
    },
    {
      "cell_type": "markdown",
      "metadata": {
        "id": "U4JNgHe4Xq9b"
      },
      "source": [
        "> The code we have written here is a version of the base model. There are fully trained version of this system available here  [(Example Models)](http://opennmt.net/Models-py/).\n",
        ">\n",
        "> With the addtional extensions in the last section, the OpenNMT-py replication gets to 26.9 on EN-DE WMT. Here I have loaded in those parameters to our reimplemenation. "
      ]
    },
    {
      "cell_type": "code",
      "metadata": {
        "collapsed": true,
        "id": "ENGPLODDXq9b"
      },
      "source": [
        "!wget https://s3.amazonaws.com/opennmt-models/en-de-model.pt"
      ],
      "execution_count": null,
      "outputs": []
    },
    {
      "cell_type": "code",
      "metadata": {
        "collapsed": true,
        "id": "_-0aCFrkXq9b"
      },
      "source": [
        "model, SRC, TGT = torch.load(\"en-de-model.pt\")"
      ],
      "execution_count": null,
      "outputs": []
    },
    {
      "cell_type": "code",
      "metadata": {
        "collapsed": true,
        "id": "Y30xCLShXq9b"
      },
      "source": [
        ""
      ],
      "execution_count": null,
      "outputs": []
    },
    {
      "cell_type": "code",
      "metadata": {
        "id": "qOWY9S1VXq9b"
      },
      "source": [
        "model.eval()\n",
        "sent = \"▁The ▁log ▁file ▁can ▁be ▁sent ▁secret ly ▁with ▁email ▁or ▁FTP ▁to ▁a ▁specified ▁receiver\".split()\n",
        "src = torch.LongTensor([[SRC.stoi[w] for w in sent]])\n",
        "src = Variable(src)\n",
        "src_mask = (src != SRC.stoi[\"<blank>\"]).unsqueeze(-2)\n",
        "out = greedy_decode(model, src, src_mask, \n",
        "                    max_len=60, start_symbol=TGT.stoi[\"<s>\"])\n",
        "print(\"Translation:\", end=\"\\t\")\n",
        "trans = \"<s> \"\n",
        "for i in range(1, out.size(1)):\n",
        "    sym = TGT.itos[out[0, i]]\n",
        "    if sym == \"</s>\": break\n",
        "    trans += sym + \" \"\n",
        "print(trans)"
      ],
      "execution_count": null,
      "outputs": []
    },
    {
      "cell_type": "markdown",
      "metadata": {
        "id": "2cgclZwFXq9b"
      },
      "source": [
        "## Attention Visualization\n",
        "\n",
        "> Even with a greedy decoder the translation looks pretty good. We can further visualize it to see what is happening at each layer of the attention "
      ]
    },
    {
      "cell_type": "code",
      "metadata": {
        "id": "2_TXuzFFXq9c"
      },
      "source": [
        "tgt_sent = trans.split()\n",
        "def draw(data, x, y, ax):\n",
        "    seaborn.heatmap(data, \n",
        "                    xticklabels=x, square=True, yticklabels=y, vmin=0.0, vmax=1.0, \n",
        "                    cbar=False, ax=ax)\n",
        "    \n",
        "for layer in range(1, 6, 2):\n",
        "    fig, axs = plt.subplots(1,4, figsize=(20, 10))\n",
        "    print(\"Encoder Layer\", layer+1)\n",
        "    for h in range(4):\n",
        "        draw(model.encoder.layers[layer].self_attn.attn[0, h].data, \n",
        "            sent, sent if h ==0 else [], ax=axs[h])\n",
        "    plt.show()\n",
        "    \n",
        "for layer in range(1, 6, 2):\n",
        "    fig, axs = plt.subplots(1,4, figsize=(20, 10))\n",
        "    print(\"Decoder Self Layer\", layer+1)\n",
        "    for h in range(4):\n",
        "        draw(model.decoder.layers[layer].self_attn.attn[0, h].data[:len(tgt_sent), :len(tgt_sent)], \n",
        "            tgt_sent, tgt_sent if h ==0 else [], ax=axs[h])\n",
        "    plt.show()\n",
        "    print(\"Decoder Src Layer\", layer+1)\n",
        "    fig, axs = plt.subplots(1,4, figsize=(20, 10))\n",
        "    for h in range(4):\n",
        "        draw(model.decoder.layers[layer].self_attn.attn[0, h].data[:len(tgt_sent), :len(sent)], \n",
        "            sent, tgt_sent if h ==0 else [], ax=axs[h])\n",
        "    plt.show()\n"
      ],
      "execution_count": null,
      "outputs": []
    },
    {
      "cell_type": "markdown",
      "metadata": {
        "id": "3MhlgGUqXq9c"
      },
      "source": [
        "# Conclusion\n",
        "\n",
        "> Hopefully this code is useful for future research. Please reach out if you have any issues. If you find this code helpful, also check out our other OpenNMT tools.\n",
        "\n",
        "```\n",
        "@inproceedings{opennmt,\n",
        "  author    = {Guillaume Klein and\n",
        "               Yoon Kim and\n",
        "               Yuntian Deng and\n",
        "               Jean Senellart and\n",
        "               Alexander M. Rush},\n",
        "  title     = {OpenNMT: Open-Source Toolkit for Neural Machine Translation},\n",
        "  booktitle = {Proc. ACL},\n",
        "  year      = {2017},\n",
        "  url       = {https://doi.org/10.18653/v1/P17-4012},\n",
        "  doi       = {10.18653/v1/P17-4012}\n",
        "}\n",
        "```\n",
        "\n",
        "> Cheers,\n",
        "> srush"
      ]
    },
    {
      "cell_type": "markdown",
      "metadata": {
        "id": "d1-u5nm5Xq9c"
      },
      "source": [
        "{::options parse_block_html=\"true\" /}\n",
        "<div id=\"disqus_thread\"></div>\n",
        "<script>\n",
        "\n",
        "/**\n",
        "*  RECOMMENDED CONFIGURATION VARIABLES: EDIT AND UNCOMMENT THE SECTION BELOW TO INSERT DYNAMIC VALUES FROM YOUR PLATFORM OR CMS.\n",
        "*  LEARN WHY DEFINING THESE VARIABLES IS IMPORTANT: https://disqus.com/admin/universalcode/#configuration-variables*/\n",
        "/*\n",
        "var disqus_config = function () {\n",
        "this.page.url = PAGE_URL;  // Replace PAGE_URL with your page's canonical URL variable\n",
        "this.page.identifier = PAGE_IDENTIFIER; // Replace PAGE_IDENTIFIER with your page's unique identifier variable\n",
        "};\n",
        "*/\n",
        "(function() { // DON'T EDIT BELOW THIS LINE\n",
        "var d = document, s = d.createElement('script');\n",
        "s.src = 'https://harvard-nlp.disqus.com/embed.js';\n",
        "s.setAttribute('data-timestamp', +new Date());\n",
        "(d.head || d.body).appendChild(s);\n",
        "})();\n",
        "</script>\n",
        "<noscript>Please enable JavaScript to view the <a href=\"https://disqus.com/?ref_noscript\">comments powered by Disqus.</a></noscript>\n",
        "                            "
      ]
    },
    {
      "cell_type": "markdown",
      "metadata": {
        "id": "k8WJUdrFXq9c"
      },
      "source": [
        "<div id=\"disqus_thread\"></div>\n",
        "<script>\n",
        "    /**\n",
        "     *  RECOMMENDED CONFIGURATION VARIABLES: EDIT AND UNCOMMENT THE SECTION BELOW TO INSERT DYNAMIC VALUES FROM YOUR PLATFORM OR CMS.\n",
        "     *  LEARN WHY DEFINING THESE VARIABLES IS IMPORTANT: https://disqus.com/admin/universalcode/#configuration-variables\n",
        "     */\n",
        "    /*\n",
        "    var disqus_config = function () {\n",
        "        this.page.url = PAGE_URL;  // Replace PAGE_URL with your page's canonical URL variable\n",
        "        this.page.identifier = PAGE_IDENTIFIER; // Replace PAGE_IDENTIFIER with your page's unique identifier variable\n",
        "    };\n",
        "    */\n",
        "    (function() {  // REQUIRED CONFIGURATION VARIABLE: EDIT THE SHORTNAME BELOW\n",
        "        var d = document, s = d.createElement('script');\n",
        "        \n",
        "        s.src = 'https://EXAMPLE.disqus.com/embed.js';  // IMPORTANT: Replace EXAMPLE with your forum shortname!\n",
        "        \n",
        "        s.setAttribute('data-timestamp', +new Date());\n",
        "        (d.head || d.body).appendChild(s);\n",
        "    })();\n",
        "</script>\n",
        "<noscript>Please enable JavaScript to view the <a href=\"https://disqus.com/?ref_noscript\" rel=\"nofollow\">comments powered by Disqus.</a></noscript>"
      ]
    }
  ]
}