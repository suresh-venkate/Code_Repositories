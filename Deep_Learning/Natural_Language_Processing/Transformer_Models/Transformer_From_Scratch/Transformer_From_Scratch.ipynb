{
  "nbformat": 4,
  "nbformat_minor": 0,
  "metadata": {
    "kernelspec": {
      "display_name": "Python 3",
      "language": "python",
      "name": "python3"
    },
    "language_info": {
      "codemirror_mode": {
        "name": "ipython",
        "version": 3
      },
      "file_extension": ".py",
      "mimetype": "text/x-python",
      "name": "python",
      "nbconvert_exporter": "python",
      "pygments_lexer": "ipython3",
      "version": "3.5.2"
    },
    "colab": {
      "name": "Transformer_From_Scratch.ipynb",
      "provenance": [],
      "toc_visible": true,
      "include_colab_link": true
    },
    "accelerator": "GPU"
  },
  "cells": [
    {
      "cell_type": "markdown",
      "metadata": {
        "id": "view-in-github",
        "colab_type": "text"
      },
      "source": [
        "<a href=\"https://colab.research.google.com/github/suresh-venkate/Code_Repositories/blob/main/Deep_Learning/Natural_Language_Processing/Transformer_Models/Transformer_From_Scratch/Transformer_From_Scratch.ipynb\" target=\"_parent\"><img src=\"https://colab.research.google.com/assets/colab-badge.svg\" alt=\"Open In Colab\"/></a>"
      ]
    },
    {
      "cell_type": "markdown",
      "metadata": {
        "id": "FI075CzzZS35"
      },
      "source": [
        "# Transformer from scratch\n",
        "\n",
        "* Reference: Attention is all you need, NIPS 2017\n",
        "* Authors: Ashish Vaswani et.al.\n",
        "* Link to paper: [Link](https://arxiv.org/abs/1706.03762)\n",
        "* All references in the code below refer to this paper unless stated otherwise"
      ]
    },
    {
      "cell_type": "markdown",
      "metadata": {
        "id": "VWbH-n-mYZzA"
      },
      "source": [
        "# Import required libraries"
      ]
    },
    {
      "cell_type": "code",
      "metadata": {
        "id": "6MThcSvYYcig"
      },
      "source": [
        "import numpy as np\n",
        "import matplotlib.pyplot as plt\n",
        "import math, copy, time\n",
        "import seaborn\n",
        "seaborn.set_context(context=\"talk\")\n",
        "%matplotlib inline\n",
        "\n",
        "import torch\n",
        "import torch.nn as nn\n",
        "import torch.nn.functional as F\n",
        "\n",
        "from torchsummary import summary as ts_summary\n",
        "from torch.autograd import Variable"
      ],
      "execution_count": 1,
      "outputs": []
    },
    {
      "cell_type": "markdown",
      "metadata": {
        "id": "44jkWF_4XwBN"
      },
      "source": [
        "# Define Functions"
      ]
    },
    {
      "cell_type": "markdown",
      "metadata": {
        "id": "mHpHwHIu01DU"
      },
      "source": [
        "## Function: clones"
      ]
    },
    {
      "cell_type": "code",
      "metadata": {
        "collapsed": true,
        "id": "ZOt8v4HC00jr"
      },
      "source": [
        "def clones(module, N):\n",
        "    \"\"\"\n",
        "    Produce N identical layers of module\n",
        "    Arguments:\n",
        "      module: module to be cloned\n",
        "      N: Number of time the module will be cloned\n",
        "    Returns:\n",
        "      Cloned module\n",
        "    \"\"\"\n",
        "    cloned_module = nn.ModuleList([copy.deepcopy(module) for _ in range(N)])\n",
        "    return cloned_module"
      ],
      "execution_count": 2,
      "outputs": []
    },
    {
      "cell_type": "markdown",
      "metadata": {
        "id": "EwJnfYQeIQGp"
      },
      "source": [
        "## Verify Function: clones"
      ]
    },
    {
      "cell_type": "code",
      "metadata": {
        "id": "mXw8VvRl9Mxm",
        "colab": {
          "base_uri": "https://localhost:8080/"
        },
        "outputId": "8a6593a4-1355-4035-a482-46dd1c44e4b2"
      },
      "source": [
        "class TempModel(nn.Module):\n",
        "  def __init__(self, layer, N):\n",
        "    super(TempModel, self).__init__()\n",
        "    self.layers = clones(layer, N)\n",
        "\n",
        "  def forward(self, x):\n",
        "    for layer in self.layers:\n",
        "      x = layer(x)\n",
        "    return x\n",
        "\n",
        "device = \"cuda\" if torch.cuda.is_available() else \"cpu\"\n",
        "lin_layer = nn.Linear(128, 128)\n",
        "temp_model = TempModel(lin_layer, 4).to(device) # Clone linear layer 4 times\n",
        "ts_summary(temp_model, input_size = (128,))"
      ],
      "execution_count": 3,
      "outputs": [
        {
          "output_type": "stream",
          "text": [
            "----------------------------------------------------------------\n",
            "        Layer (type)               Output Shape         Param #\n",
            "================================================================\n",
            "            Linear-1                  [-1, 128]          16,512\n",
            "            Linear-2                  [-1, 128]          16,512\n",
            "            Linear-3                  [-1, 128]          16,512\n",
            "            Linear-4                  [-1, 128]          16,512\n",
            "================================================================\n",
            "Total params: 66,048\n",
            "Trainable params: 66,048\n",
            "Non-trainable params: 0\n",
            "----------------------------------------------------------------\n",
            "Input size (MB): 0.00\n",
            "Forward/backward pass size (MB): 0.00\n",
            "Params size (MB): 0.25\n",
            "Estimated Total Size (MB): 0.26\n",
            "----------------------------------------------------------------\n"
          ],
          "name": "stdout"
        }
      ]
    },
    {
      "cell_type": "markdown",
      "metadata": {
        "id": "3BRH9N4FKDa7"
      },
      "source": [
        "# Define Classes"
      ]
    },
    {
      "cell_type": "markdown",
      "metadata": {
        "id": "bGo847y745jQ"
      },
      "source": [
        "## Class: ScaledDotProductAttention"
      ]
    },
    {
      "cell_type": "code",
      "metadata": {
        "id": "Dn7LVGGw44ko"
      },
      "source": [
        "class ScaledDotProductAttention(nn.Module):\n",
        "  \"\"\"\n",
        "  Compute Scaled Dot Product Attention (Ref: Section 3.2.1, Figure 2 (left))\n",
        "  \"\"\"\n",
        "\n",
        "  def __init__(self, scaling):\n",
        "    \"\"\"\n",
        "    Arguments:\n",
        "      scaling: scaling to use while computing attention\n",
        "    \"\"\"\n",
        "    super(ScaledDotProductAttention, self).__init__()\n",
        "    self.scaling = scaling\n",
        "    self.softmax = nn.Softmax(dim = -1)\n",
        "  \n",
        "  def forward(self, Q, K, V, attn_mask = None):\n",
        "    \"\"\"\n",
        "    Arguments:\n",
        "      Q: Query tensor\n",
        "      K: Key tensor\n",
        "      V: Value tensor\n",
        "      attn_mask: Optional mask to mask out some query-key combinations\n",
        "    Returns:\n",
        "      probs: softmax(Q * K.T / scaling)\n",
        "      attn: probs.V\n",
        "    \"\"\"\n",
        "    scores = torch.matmul(Q, K.transpose(-2, -1)) # Matmul of Q and K\n",
        "    scores = scores / self.scaling # Apply Scaling to maintain original variance\n",
        "    if attn_mask is not None: # Apply mask (optional)\n",
        "      scores = scores.masked_fill(attn_mask == 0, -1e9)\n",
        "    probs = self.softmax(scores) # Compute softmax\n",
        "    attn = torch.matmul(probs, V)\n",
        "\n",
        "    return attn, probs"
      ],
      "execution_count": 4,
      "outputs": []
    },
    {
      "cell_type": "markdown",
      "metadata": {
        "id": "_R8ANPCHRyy9"
      },
      "source": [
        "### Verify Class: ScaledDotProductAttention"
      ]
    },
    {
      "cell_type": "code",
      "metadata": {
        "id": "wMYg-_GduO1R",
        "colab": {
          "base_uri": "https://localhost:8080/"
        },
        "outputId": "45151090-3b69-4bab-e9c7-18d913f90a23"
      },
      "source": [
        "device = \"cuda\" if torch.cuda.is_available() else \"cpu\"\n",
        "temp_model = ScaledDotProductAttention(4).to(device) # Clone linear layer 4 times\n",
        "\n",
        "Q = torch.randint(0, 10, (2, 3, 5, 16), dtype = torch.float32)\n",
        "K = torch.clone(Q)\n",
        "V = torch.clone(Q)\n",
        "\n",
        "attn, probs = temp_model(Q, K, V)\n",
        "attn = torch.ceil(attn)\n",
        "\n",
        "print(Q.shape, attn.shape, probs.shape)\n",
        "print()\n",
        "print(Q[0, 0])\n",
        "print()\n",
        "print(probs[0, 0])\n",
        "print()\n",
        "print(attn[0, 0])"
      ],
      "execution_count": 5,
      "outputs": [
        {
          "output_type": "stream",
          "text": [
            "torch.Size([2, 3, 5, 16]) torch.Size([2, 3, 5, 16]) torch.Size([2, 3, 5, 5])\n",
            "\n",
            "tensor([[2., 6., 4., 6., 7., 8., 0., 0., 2., 1., 4., 2., 8., 7., 9., 5.],\n",
            "        [4., 3., 0., 9., 7., 1., 2., 8., 9., 3., 4., 4., 8., 6., 0., 1.],\n",
            "        [0., 4., 3., 2., 6., 0., 0., 6., 8., 1., 6., 9., 4., 2., 4., 4.],\n",
            "        [9., 6., 8., 2., 1., 0., 0., 3., 4., 7., 4., 3., 6., 2., 6., 8.],\n",
            "        [0., 2., 1., 7., 2., 2., 5., 2., 4., 1., 4., 8., 0., 5., 5., 4.]])\n",
            "\n",
            "tensor([[1.0000e+00, 1.1548e-17, 3.1800e-22, 4.0307e-17, 1.2996e-24],\n",
            "        [1.9040e-17, 1.0000e+00, 2.3195e-16, 1.8299e-21, 4.5360e-24],\n",
            "        [7.5800e-10, 3.3535e-04, 9.9966e-01, 5.9033e-10, 8.8753e-13],\n",
            "        [1.6261e-14, 4.4777e-19, 9.9912e-20, 1.0000e+00, 1.1851e-27],\n",
            "        [1.9179e-03, 4.0601e-03, 5.4947e-04, 4.3350e-09, 9.9347e-01]])\n",
            "\n",
            "tensor([[2., 6., 4., 6., 7., 8., 1., 1., 2., 1., 4., 2., 8., 7., 9., 5.],\n",
            "        [4., 3., 1., 9., 7., 1., 2., 8., 9., 3., 4., 4., 8., 6., 1., 1.],\n",
            "        [1., 4., 3., 3., 7., 1., 1., 7., 9., 2., 6., 9., 5., 3., 4., 4.],\n",
            "        [9., 6., 8., 2., 1., 1., 1., 3., 4., 7., 4., 3., 6., 2., 6., 8.],\n",
            "        [1., 3., 2., 8., 3., 3., 5., 3., 5., 2., 5., 8., 1., 6., 5., 4.]])\n"
          ],
          "name": "stdout"
        }
      ]
    },
    {
      "cell_type": "markdown",
      "metadata": {
        "id": "AZv9_z76KCPA"
      },
      "source": [
        "## Class: MultiHeadAttention"
      ]
    },
    {
      "cell_type": "code",
      "metadata": {
        "collapsed": true,
        "id": "Ll8ghEXAJ__i"
      },
      "source": [
        "class MultiHeadAttention(nn.Module):\n",
        "  \"\"\"\n",
        "  Compute Multi-Head Attention (Ref: Section 3.2.2, Figure 2 (right))\n",
        "  \"\"\"\n",
        "  def __init__(self, h, d_model, attn_dropout = 0.1):\n",
        "    \"\"\"\n",
        "    Arguments:\n",
        "      h: Number of parallel attention layers (heads)\n",
        "      d_model: Size of input embeddings\n",
        "      attn_dropout: dropout value to use in MHA module\n",
        "    \"\"\"\n",
        "    super(MultiHeadAttention, self).__init__()\n",
        "    assert d_model % h == 0 # Confirm that input embedding size is a multiple of # heads\n",
        "    self.d_k = d_model // h # Dimension of projected outputs\n",
        "    self.h = h # Number of heads\n",
        "    self.attn = None # Placeholder to store attention softmax output\n",
        "\n",
        "    # Define linear layers for projecting Q, K, V\n",
        "    self.wi_q = nn.Linear(d_model, d_model, bias = False)\n",
        "    self.wi_k = nn.Linear(d_model, d_model, bias = False)\n",
        "    self.wi_v = nn.Linear(d_model, d_model, bias = False)\n",
        "\n",
        "    # Define SDPA layer\n",
        "    self.attention = ScaledDotProductAttention(scaling = self.d_k ** 0.5)\n",
        "\n",
        "    # Define final FC and dropout layers\n",
        "    self.fc = nn.Linear(d_model, d_model, bias = False)\n",
        "    self.dropout = nn.Dropout(p = attn_dropout)\n",
        "        \n",
        "  def forward(self, Q, K, V, mask = None):\n",
        "    if mask is not None:\n",
        "      mask = mask.unsqueeze(1) # Head axis broadcasting - Same mask applied to all h heads.\n",
        "    \n",
        "    nb = Q.size(0) # Extract number of batches in Q \n",
        "    # Q, K, V are of shape nb x lq x d_model\n",
        "    # Pass through linear layers and separate each head to get\n",
        "    # outputs of shape nb x lq x h x d_k\n",
        "    Q = self.wi_q(Q).view(nb, -1, self.h, self.d_k)\n",
        "    K = self.wi_k(K).view(nb, -1, self.h, self.d_k)\n",
        "    V = self.wi_v(V).view(nb, -1, self.h, self.d_k)\n",
        "\n",
        "    # Transpose lq and h for attention dot product\n",
        "    # Shape is now nb x h x lq x d_k\n",
        "    Q, K, V = Q.transpose(1, 2), K.transpose(1, 2), V.transpose(1, 2)\n",
        "        \n",
        "    # Apply Scaled Dot Product Attention\n",
        "    # Shape of x is nb x h x lq x d_k\n",
        "    x, self.attn = self.attention(Q, K, V, attn_mask = mask)\n",
        "\n",
        "    # Transpose nb and h dimensions and concatenate all heads together into \n",
        "    # a single unit of dimension h x d_k = d_model \n",
        "    x = x.transpose(1, 2).contiguous().view(nb, -1, self.h * self.d_k)\n",
        "\n",
        "    # Apply final linear layer and dropout\n",
        "    x = self.dropout(self.fc(x))\n",
        "    \n",
        "    return x"
      ],
      "execution_count": 6,
      "outputs": []
    },
    {
      "cell_type": "markdown",
      "metadata": {
        "id": "xTxaYcNQc6xN"
      },
      "source": [
        "### Verify Class: MultiHeadAttention\n"
      ]
    },
    {
      "cell_type": "code",
      "metadata": {
        "id": "67X-WPO3dBl_",
        "colab": {
          "base_uri": "https://localhost:8080/"
        },
        "outputId": "0535fd1c-d004-45da-aa72-c39abdad9752"
      },
      "source": [
        "device = \"cuda\" if torch.cuda.is_available() else \"cpu\"\n",
        "temp_model = MultiHeadAttention(h = 8, d_model = 512, attn_dropout = 0.0).to(device)\n",
        "\n",
        "Q = torch.randint(0, 10, (2, 5, 512), dtype = torch.float32).to(device)\n",
        "K = torch.clone(Q)\n",
        "V = torch.clone(Q)\n",
        "\n",
        "x = temp_model(Q, K, V, mask = None)\n",
        "print(x.shape, temp_model.attn.shape)"
      ],
      "execution_count": 7,
      "outputs": [
        {
          "output_type": "stream",
          "text": [
            "torch.Size([2, 5, 512]) torch.Size([2, 8, 5, 5])\n"
          ],
          "name": "stdout"
        }
      ]
    },
    {
      "cell_type": "markdown",
      "metadata": {
        "id": "MTdK3h5Y2VVZ"
      },
      "source": [
        "## Class: Embeddings"
      ]
    },
    {
      "cell_type": "code",
      "metadata": {
        "collapsed": true,
        "id": "euc744KH2U8P"
      },
      "source": [
        "class Embeddings(nn.Module):\n",
        "  \"\"\"\n",
        "  Defines embedding layer to use at inputs of encoder and decoder. (Ref: Section 3.4)\n",
        "  \"\"\"\n",
        "  def __init__(self, d_model, vocab):\n",
        "    \"\"\"\n",
        "    Arguments:\n",
        "      d_model: Size of the embedding vector\n",
        "      vocab: Size of input vocabulary\n",
        "    \"\"\"\n",
        "    super(Embeddings, self).__init__()\n",
        "    self.emb = nn.Embedding(vocab, d_model) \n",
        "    self.d_model = d_model\n",
        "\n",
        "  def forward(self, x):\n",
        "    return self.emb(x) * math.sqrt(self.d_model)"
      ],
      "execution_count": 8,
      "outputs": []
    },
    {
      "cell_type": "markdown",
      "metadata": {
        "id": "BrzNUSB33Z6S"
      },
      "source": [
        "### Verify Class: Embeddings"
      ]
    },
    {
      "cell_type": "code",
      "metadata": {
        "id": "BvcLFj463cZC",
        "colab": {
          "base_uri": "https://localhost:8080/"
        },
        "outputId": "fb796ca4-7f9a-41e5-ca1d-4ecfd38a1c75"
      },
      "source": [
        "device = \"cuda\" if torch.cuda.is_available() else \"cpu\"\n",
        "src_vocab = 11 # 0 to 10\n",
        "d_model = 512\n",
        "temp_model = Embeddings(d_model, src_vocab).to(device)\n",
        "\n",
        "# Generate 5 input samples of length 10 each\n",
        "input = torch.randint(0, 10, (5, 10)).to(device)\n",
        "output = temp_model(input)\n",
        "\n",
        "print(input.shape, output.shape)"
      ],
      "execution_count": 9,
      "outputs": [
        {
          "output_type": "stream",
          "text": [
            "torch.Size([5, 10]) torch.Size([5, 10, 512])\n"
          ],
          "name": "stdout"
        }
      ]
    },
    {
      "cell_type": "markdown",
      "metadata": {
        "id": "qrdClBcQAXOB"
      },
      "source": [
        "## Class: PositionalEncoding"
      ]
    },
    {
      "cell_type": "code",
      "metadata": {
        "id": "yBVv3SPjs5Yy"
      },
      "source": [
        "class PositionalEncoding(nn.Module):\n",
        "    \"\"\"\n",
        "    Implement the PositionalEncoding Function. (Ref: Section 3.5)\n",
        "    \"\"\"\n",
        "    def __init__(self, d_model, dropout, max_posns = 5000):\n",
        "      \"\"\"\n",
        "      Arguments: d_model = Size of the embedding vector\n",
        "      dropout: Dropout value to use at the output of this layer\n",
        "      \"\"\"\n",
        "      super(PositionalEncoding, self).__init__()\n",
        "      #self.norm = nn.LayerNorm(d_model, eps = 1e-6)\n",
        "      self.dropout = nn.Dropout(p = dropout)\n",
        "      pe = torch.zeros(max_posns, d_model) # Placeholder to store pos. encodings\n",
        "      posn_vec = torch.arange(0, max_posns).unsqueeze(1) # Position vector\n",
        "      expn = torch.arange(0, d_model, 2) / d_model # Exponent term for the denominator\n",
        "      pe[:, 0::2] = torch.sin(posn_vec / (10000 ** expn))\n",
        "      pe[:, 1::2] = torch.cos(posn_vec / (10000 ** expn))\n",
        "      pe = pe.unsqueeze(0) # Add batch axis\n",
        "      self.register_buffer('pe', pe) # Register 'pe' as a non-model parameter\n",
        "        \n",
        "    def forward(self, x):\n",
        "      x = x + self.pe[:, :x.size(1)].clone().detach()\n",
        "      return self.dropout(x)"
      ],
      "execution_count": 10,
      "outputs": []
    },
    {
      "cell_type": "markdown",
      "metadata": {
        "id": "aV4dQw7_6RDw"
      },
      "source": [
        "### Verify Class: PositionalEncoding"
      ]
    },
    {
      "cell_type": "code",
      "metadata": {
        "colab": {
          "base_uri": "https://localhost:8080/",
          "height": 314
        },
        "id": "0RR2dxTMAgmO",
        "outputId": "49098f52-5352-42eb-c104-06402843852d"
      },
      "source": [
        "d_model = 20\n",
        "pe = PositionalEncoding(d_model, dropout = 0)\n",
        "input = torch.zeros(1, 100, 20)\n",
        "output = pe.forward(input)\n",
        "\n",
        "plt.figure(figsize=(15, 5))\n",
        "plt.plot(np.arange(100), output[0, :, 4:8].numpy())\n",
        "plt.legend([\"dim %d\" %p for p in [4, 5, 6, 7]])\n",
        "plt.show()"
      ],
      "execution_count": 11,
      "outputs": [
        {
          "output_type": "display_data",
          "data": {
            "image/png": "[encoded data removed]",
            "text/plain": [
              "<Figure size 1080x360 with 1 Axes>"
            ]
          },
          "metadata": {
            "tags": [],
            "needs_background": "light"
          }
        }
      ]
    },
    {
      "cell_type": "markdown",
      "metadata": {
        "id": "jOqcuIc7JA8n"
      },
      "source": [
        "## Class: AddAndNorm"
      ]
    },
    {
      "cell_type": "code",
      "metadata": {
        "collapsed": true,
        "id": "RugJoc-aIRfe"
      },
      "source": [
        "class AddAndNorm(nn.Module):\n",
        "  \"\"\"\n",
        "  Add a residual connection followed by a layer norm. (Ref: Section 5.4, Residual Dropout)\n",
        "  \"\"\"\n",
        "  def __init__(self, size):\n",
        "    super(AddAndNorm, self).__init__()\n",
        "    self.norm = nn.LayerNorm(size, eps = 1e-6)\n",
        "    \n",
        "  def forward(self, x, sublayer):\n",
        "    return self.norm(x + sublayer(x))"
      ],
      "execution_count": 12,
      "outputs": []
    },
    {
      "cell_type": "code",
      "metadata": {
        "collapsed": true,
        "id": "ugLO6-o8oRdZ"
      },
      "source": [
        "class AddAndNormDec(nn.Module):\n",
        "  \"\"\"\n",
        "  Add a residual connection followed by a layer norm.\n",
        "  \"\"\"\n",
        "  def __init__(self, size):\n",
        "    super(AddAndNormDec, self).__init__()\n",
        "    self.norm = nn.LayerNorm(size, eps = 1e-6)\n",
        "    \n",
        "  def forward(self, x, sublayer):\n",
        "    #return self.norm(x + sublayer(x))\n",
        "    return x + sublayer(self.norm(x))"
      ],
      "execution_count": 13,
      "outputs": []
    },
    {
      "cell_type": "code",
      "metadata": {
        "id": "he370YsGt5WB"
      },
      "source": [
        "# #### TEMP\n",
        "# class tempenclayer(nn.Module):\n",
        "#     def __init__(self, size, self_attn):\n",
        "#       super(tempenclayer, self).__init__()\n",
        "#       self.self_attn = self_attn\n",
        "#       self.add_and_norm = AddAndNorm(size)\n",
        "\n",
        "#     def forward(self, x):\n",
        "#       x = self.add_and_norm(x, lambda x: self.self_attn(x, x, x, None)\n",
        "#       return x"
      ],
      "execution_count": 14,
      "outputs": []
    },
    {
      "cell_type": "code",
      "metadata": {
        "id": "3QKTNMa9uWcE"
      },
      "source": [
        "# device = \"cuda\" if torch.cuda.is_available() else \"cpu\"\n",
        "# attn = MultiHeadAttention(8, 512).to(device)\n",
        "# addandnorm = AddAndNorm(512).to(device)\n",
        "\n",
        "# # # Generate 5 input samples of length 10 each\n",
        "# # input = torch.randint(0, 10, (5, 10)).to(device)\n",
        "# # output = temp_model(input)\n",
        "\n",
        "# # print(input.shape, output.shape)\n",
        "# #ts_summary(temp_model, input_size = (10, 512))\n",
        "# Q = torch.randint(0, 10, (2, 5, 512), dtype = torch.float32).to(device)\n",
        "# K = torch.clone(Q)\n",
        "# V = torch.clone(Q)\n",
        "\n",
        "# x = attn(Q, K, V, mask = None)\n",
        "# y = addandnorm"
      ],
      "execution_count": 15,
      "outputs": []
    },
    {
      "cell_type": "markdown",
      "metadata": {
        "id": "BuF9qdPi2uc5"
      },
      "source": [
        "## Class: PositionWiseFeedForward"
      ]
    },
    {
      "cell_type": "code",
      "metadata": {
        "collapsed": true,
        "id": "oV2FnQUO2t7h"
      },
      "source": [
        "class PositionwiseFeedForward(nn.Module):\n",
        "  \"\"\"\n",
        "  Implements the position-wise feed-forward layer (Ref: Section 3.3, Eqn. (2))\n",
        "  \"\"\"\n",
        "  def __init__(self, d_model, d_ff, dropout = 0.1):\n",
        "    \"\"\"\n",
        "    Arguments: \n",
        "      d_model: Dimensionality of input and output of PWFFN layer\n",
        "      d_ff: Dimension of hidden layer\n",
        "      dropout: Dropout value to use\n",
        "    \"\"\"\n",
        "    super(PositionwiseFeedForward, self).__init__()\n",
        "    self.fc_1 = nn.Linear(d_model, d_ff) # First transformation\n",
        "    self.fc_2 = nn.Linear(d_ff, d_model) # Second transformation\n",
        "    self.relu = nn.ReLU()  \n",
        "    self.dropout = nn.Dropout(dropout)\n",
        "\n",
        "  def forward(self, x):\n",
        "    x = self.relu(self.fc_1(x))\n",
        "    x = self.dropout(self.fc_2(x))\n",
        "    return x"
      ],
      "execution_count": 16,
      "outputs": []
    },
    {
      "cell_type": "markdown",
      "metadata": {
        "id": "yUlOoGM4XtlT"
      },
      "source": [
        "# Backup_1"
      ]
    },
    {
      "cell_type": "markdown",
      "metadata": {
        "id": "ma7LmcBBDayM"
      },
      "source": [
        "## Define classes and Functions"
      ]
    },
    {
      "cell_type": "code",
      "metadata": {
        "collapsed": true,
        "id": "5u07_veQXq9B"
      },
      "source": [
        "class EncoderDecoder(nn.Module):\n",
        "    \"\"\"\n",
        "    A standard Encoder-Decoder architecture. Base for this and many \n",
        "    other models.\n",
        "    \"\"\"\n",
        "    def __init__(self, encoder, decoder, src_embed, tgt_embed, generator):\n",
        "        super(EncoderDecoder, self).__init__()\n",
        "        self.encoder = encoder\n",
        "        self.decoder = decoder\n",
        "        self.src_embed = src_embed\n",
        "        self.tgt_embed = tgt_embed\n",
        "        self.generator = generator\n",
        "        \n",
        "    def forward(self, src, tgt, src_mask, tgt_mask):\n",
        "        \"Take in and process masked src and target sequences.\"\n",
        "        return self.decode(self.encode(src, src_mask), src_mask,\n",
        "                            tgt, tgt_mask)\n",
        "    \n",
        "    def encode(self, src, src_mask):\n",
        "        return self.encoder(self.src_embed(src), src_mask)\n",
        "    \n",
        "    def decode(self, memory, src_mask, tgt, tgt_mask):\n",
        "        return self.decoder(self.tgt_embed(tgt), memory, src_mask, tgt_mask)"
      ],
      "execution_count": 17,
      "outputs": []
    },
    {
      "cell_type": "code",
      "metadata": {
        "collapsed": true,
        "id": "_9Oz1BqQXq9B"
      },
      "source": [
        "class Generator(nn.Module):\n",
        "    \"Define standard linear + softmax generation step.\"\n",
        "    def __init__(self, d_model, vocab):\n",
        "        super(Generator, self).__init__()\n",
        "        self.proj = nn.Linear(d_model, vocab)\n",
        "\n",
        "    def forward(self, x):\n",
        "        return F.log_softmax(self.proj(x), dim=-1)"
      ],
      "execution_count": 18,
      "outputs": []
    },
    {
      "cell_type": "code",
      "metadata": {
        "collapsed": true,
        "id": "EUxmjQoxXq9E"
      },
      "source": [
        "class Encoder(nn.Module):\n",
        "    \"Core encoder is a stack of N layers\"\n",
        "    def __init__(self, layer, N):\n",
        "        super(Encoder, self).__init__()\n",
        "        self.layers = clones(layer, N)\n",
        "        self.norm = nn.LayerNorm(layer.size)\n",
        "        \n",
        "    def forward(self, x, mask):\n",
        "        \"Pass the input (and mask) through each layer in turn.\"\n",
        "        x = self.norm(x)\n",
        "        for layer in self.layers:\n",
        "            x = layer(x, mask)\n",
        "        #return self.norm(x)\n",
        "        return x"
      ],
      "execution_count": 19,
      "outputs": []
    },
    {
      "cell_type": "code",
      "metadata": {
        "collapsed": true,
        "id": "TKJW8BmNXq9G"
      },
      "source": [
        "# class SublayerConnection(nn.Module):\n",
        "#     \"\"\"\n",
        "#     A residual connection followed by a layer norm.\n",
        "#     Note for code simplicity the norm is first as opposed to last.\n",
        "#     \"\"\"\n",
        "#     def __init__(self, size, dropout):\n",
        "#         super(SublayerConnection, self).__init__()\n",
        "#         self.norm = LayerNorm(size)\n",
        "#         self.dropout = nn.Dropout(dropout)\n",
        "\n",
        "#     def forward(self, x, sublayer):\n",
        "#         \"Apply residual connection to any sublayer with the same size.\"\n",
        "#         return x + self.dropout(sublayer(self.norm(x)))"
      ],
      "execution_count": 20,
      "outputs": []
    },
    {
      "cell_type": "code",
      "metadata": {
        "collapsed": true,
        "id": "2K9wR3JpXq9G"
      },
      "source": [
        "class EncoderLayer(nn.Module):\n",
        "    \"Encoder is made up of self-attn and feed forward (defined below)\"\n",
        "    def __init__(self, size, self_attn, feed_forward, dropout):\n",
        "        super(EncoderLayer, self).__init__()\n",
        "        self.self_attn = self_attn\n",
        "        self.feed_forward = feed_forward\n",
        "        self.sublayer = clones(AddAndNorm(size), 2)\n",
        "        self.size = size\n",
        "\n",
        "    def forward(self, x, mask):\n",
        "        \"Follow Figure 1 (left) for connections.\"\n",
        "        x = self.sublayer[0](x, lambda x: self.self_attn(x, x, x, mask))\n",
        "        return self.sublayer[1](x, self.feed_forward)"
      ],
      "execution_count": 21,
      "outputs": []
    },
    {
      "cell_type": "code",
      "metadata": {
        "collapsed": true,
        "id": "bP27dJUWXq9H"
      },
      "source": [
        "class Decoder(nn.Module):\n",
        "    \"Generic N layer decoder with masking.\"\n",
        "    def __init__(self, layer, N):\n",
        "        super(Decoder, self).__init__()\n",
        "        self.layers = clones(layer, N)\n",
        "        self.norm = nn.LayerNorm(layer.size)\n",
        "        \n",
        "    def forward(self, x, memory, src_mask, tgt_mask):\n",
        "      x = self.norm(x)\n",
        "      for layer in self.layers:\n",
        "          x = layer(x, memory, src_mask, tgt_mask)\n",
        "      return self.norm(x)"
      ],
      "execution_count": 22,
      "outputs": []
    },
    {
      "cell_type": "code",
      "metadata": {
        "collapsed": true,
        "id": "kSb86LbLXq9I"
      },
      "source": [
        "class DecoderLayer(nn.Module):\n",
        "    \"Decoder is made of self-attn, src-attn, and feed forward (defined below)\"\n",
        "    def __init__(self, size, self_attn, src_attn, feed_forward, dropout):\n",
        "        super(DecoderLayer, self).__init__()\n",
        "        self.size = size\n",
        "        self.self_attn = self_attn\n",
        "        self.src_attn = src_attn\n",
        "        self.feed_forward = feed_forward\n",
        "        self.sublayer = clones(AddAndNormDec(size), 3)\n",
        " \n",
        "    def forward(self, x, memory, src_mask, tgt_mask):\n",
        "        \"Follow Figure 1 (right) for connections.\"\n",
        "        m = memory\n",
        "        x = self.sublayer[0](x, lambda x: self.self_attn(x, x, x, tgt_mask))\n",
        "        x = self.sublayer[1](x, lambda x: self.src_attn(x, m, m, src_mask))\n",
        "        return self.sublayer[2](x, self.feed_forward)"
      ],
      "execution_count": 23,
      "outputs": []
    },
    {
      "cell_type": "code",
      "metadata": {
        "collapsed": true,
        "id": "BruCIK5kXq9J"
      },
      "source": [
        "def subsequent_mask(size):\n",
        "    \"Mask out subsequent positions.\"\n",
        "    attn_shape = (1, size, size)\n",
        "    subsequent_mask = np.triu(np.ones(attn_shape), k=1).astype('uint8')\n",
        "    return torch.from_numpy(subsequent_mask) == 0"
      ],
      "execution_count": 24,
      "outputs": []
    },
    {
      "cell_type": "code",
      "metadata": {
        "id": "5cw-bWMGXq9K",
        "colab": {
          "base_uri": "https://localhost:8080/",
          "height": 333
        },
        "outputId": "67574072-57f3-4aef-bf3e-d7b791050542"
      },
      "source": [
        "plt.figure(figsize=(5,5))\n",
        "plt.imshow(subsequent_mask(20)[0])\n",
        "None"
      ],
      "execution_count": 25,
      "outputs": [
        {
          "output_type": "display_data",
          "data": {
            "image/png": "[encoded data removed]",
            "text/plain": [
              "<Figure size 360x360 with 1 Axes>"
            ]
          },
          "metadata": {
            "tags": [],
            "needs_background": "light"
          }
        }
      ]
    },
    {
      "cell_type": "code",
      "metadata": {
        "collapsed": true,
        "id": "5BECxa5WXq9M"
      },
      "source": [
        "# class PositionwiseFeedForward(nn.Module):\n",
        "#     \"Implements FFN equation.\"\n",
        "#     def __init__(self, d_model, d_ff, dropout=0.1):\n",
        "#         super(PositionwiseFeedForward, self).__init__()\n",
        "#         self.w_1 = nn.Linear(d_model, d_ff)\n",
        "#         self.w_2 = nn.Linear(d_ff, d_model)\n",
        "#         self.dropout = nn.Dropout(dropout)\n",
        "\n",
        "#     def forward(self, x):\n",
        "#         return self.w_2(self.dropout(F.relu(self.w_1(x))))"
      ],
      "execution_count": 26,
      "outputs": []
    },
    {
      "cell_type": "code",
      "metadata": {
        "collapsed": true,
        "id": "3YxN1jjXXq9O"
      },
      "source": [
        "def make_model(src_vocab, tgt_vocab, N=6, \n",
        "               d_model=512, d_ff=2048, h=8, dropout=0.1):\n",
        "    \"Helper: Construct a model from hyperparameters.\"\n",
        "    c = copy.deepcopy\n",
        "    attn = MultiHeadAttention(h, d_model)\n",
        "    ff = PositionwiseFeedForward(d_model, d_ff, dropout)\n",
        "    position = PositionalEncoding(d_model, dropout)\n",
        "    model = EncoderDecoder(\n",
        "        Encoder(EncoderLayer(d_model, c(attn), c(ff), dropout), N),\n",
        "        Decoder(DecoderLayer(d_model, c(attn), c(attn), \n",
        "                             c(ff), dropout), N),\n",
        "        nn.Sequential(Embeddings(d_model, src_vocab), c(position)),\n",
        "        nn.Sequential(Embeddings(d_model, tgt_vocab), c(position)),\n",
        "        Generator(d_model, tgt_vocab))\n",
        "    \n",
        "    # This was important from their code. \n",
        "    # Initialize parameters with Glorot / fan_avg.\n",
        "    for p in model.parameters():\n",
        "        if p.dim() > 1:\n",
        "            nn.init.xavier_uniform(p)\n",
        "    return model"
      ],
      "execution_count": 27,
      "outputs": []
    },
    {
      "cell_type": "code",
      "metadata": {
        "collapsed": true,
        "id": "aFIfv_2RXq9P",
        "colab": {
          "base_uri": "https://localhost:8080/"
        },
        "outputId": "5faf8cb3-563c-4575-a196-09f73eb7070e"
      },
      "source": [
        "# Small example model.\n",
        "tmp_model = make_model(10, 10, 2)\n",
        "tmp_model"
      ],
      "execution_count": 28,
      "outputs": [
        {
          "output_type": "stream",
          "text": [
            "/usr/local/lib/python3.7/dist-packages/ipykernel_launcher.py:20: UserWarning: nn.init.xavier_uniform is now deprecated in favor of nn.init.xavier_uniform_.\n"
          ],
          "name": "stderr"
        },
        {
          "output_type": "execute_result",
          "data": {
            "text/plain": [
              "EncoderDecoder(\n",
              "  (encoder): Encoder(\n",
              "    (layers): ModuleList(\n",
              "      (0): EncoderLayer(\n",
              "        (self_attn): MultiHeadAttention(\n",
              "          (wi_q): Linear(in_features=512, out_features=512, bias=False)\n",
              "          (wi_k): Linear(in_features=512, out_features=512, bias=False)\n",
              "          (wi_v): Linear(in_features=512, out_features=512, bias=False)\n",
              "          (attention): ScaledDotProductAttention(\n",
              "            (softmax): Softmax(dim=-1)\n",
              "          )\n",
              "          (fc): Linear(in_features=512, out_features=512, bias=False)\n",
              "          (dropout): Dropout(p=0.1, inplace=False)\n",
              "        )\n",
              "        (feed_forward): PositionwiseFeedForward(\n",
              "          (fc_1): Linear(in_features=512, out_features=2048, bias=True)\n",
              "          (fc_2): Linear(in_features=2048, out_features=512, bias=True)\n",
              "          (relu): ReLU()\n",
              "          (dropout): Dropout(p=0.1, inplace=False)\n",
              "        )\n",
              "        (sublayer): ModuleList(\n",
              "          (0): AddAndNorm(\n",
              "            (norm): LayerNorm((512,), eps=1e-06, elementwise_affine=True)\n",
              "          )\n",
              "          (1): AddAndNorm(\n",
              "            (norm): LayerNorm((512,), eps=1e-06, elementwise_affine=True)\n",
              "          )\n",
              "        )\n",
              "      )\n",
              "      (1): EncoderLayer(\n",
              "        (self_attn): MultiHeadAttention(\n",
              "          (wi_q): Linear(in_features=512, out_features=512, bias=False)\n",
              "          (wi_k): Linear(in_features=512, out_features=512, bias=False)\n",
              "          (wi_v): Linear(in_features=512, out_features=512, bias=False)\n",
              "          (attention): ScaledDotProductAttention(\n",
              "            (softmax): Softmax(dim=-1)\n",
              "          )\n",
              "          (fc): Linear(in_features=512, out_features=512, bias=False)\n",
              "          (dropout): Dropout(p=0.1, inplace=False)\n",
              "        )\n",
              "        (feed_forward): PositionwiseFeedForward(\n",
              "          (fc_1): Linear(in_features=512, out_features=2048, bias=True)\n",
              "          (fc_2): Linear(in_features=2048, out_features=512, bias=True)\n",
              "          (relu): ReLU()\n",
              "          (dropout): Dropout(p=0.1, inplace=False)\n",
              "        )\n",
              "        (sublayer): ModuleList(\n",
              "          (0): AddAndNorm(\n",
              "            (norm): LayerNorm((512,), eps=1e-06, elementwise_affine=True)\n",
              "          )\n",
              "          (1): AddAndNorm(\n",
              "            (norm): LayerNorm((512,), eps=1e-06, elementwise_affine=True)\n",
              "          )\n",
              "        )\n",
              "      )\n",
              "    )\n",
              "    (norm): LayerNorm((512,), eps=1e-05, elementwise_affine=True)\n",
              "  )\n",
              "  (decoder): Decoder(\n",
              "    (layers): ModuleList(\n",
              "      (0): DecoderLayer(\n",
              "        (self_attn): MultiHeadAttention(\n",
              "          (wi_q): Linear(in_features=512, out_features=512, bias=False)\n",
              "          (wi_k): Linear(in_features=512, out_features=512, bias=False)\n",
              "          (wi_v): Linear(in_features=512, out_features=512, bias=False)\n",
              "          (attention): ScaledDotProductAttention(\n",
              "            (softmax): Softmax(dim=-1)\n",
              "          )\n",
              "          (fc): Linear(in_features=512, out_features=512, bias=False)\n",
              "          (dropout): Dropout(p=0.1, inplace=False)\n",
              "        )\n",
              "        (src_attn): MultiHeadAttention(\n",
              "          (wi_q): Linear(in_features=512, out_features=512, bias=False)\n",
              "          (wi_k): Linear(in_features=512, out_features=512, bias=False)\n",
              "          (wi_v): Linear(in_features=512, out_features=512, bias=False)\n",
              "          (attention): ScaledDotProductAttention(\n",
              "            (softmax): Softmax(dim=-1)\n",
              "          )\n",
              "          (fc): Linear(in_features=512, out_features=512, bias=False)\n",
              "          (dropout): Dropout(p=0.1, inplace=False)\n",
              "        )\n",
              "        (feed_forward): PositionwiseFeedForward(\n",
              "          (fc_1): Linear(in_features=512, out_features=2048, bias=True)\n",
              "          (fc_2): Linear(in_features=2048, out_features=512, bias=True)\n",
              "          (relu): ReLU()\n",
              "          (dropout): Dropout(p=0.1, inplace=False)\n",
              "        )\n",
              "        (sublayer): ModuleList(\n",
              "          (0): AddAndNormDec(\n",
              "            (norm): LayerNorm((512,), eps=1e-06, elementwise_affine=True)\n",
              "          )\n",
              "          (1): AddAndNormDec(\n",
              "            (norm): LayerNorm((512,), eps=1e-06, elementwise_affine=True)\n",
              "          )\n",
              "          (2): AddAndNormDec(\n",
              "            (norm): LayerNorm((512,), eps=1e-06, elementwise_affine=True)\n",
              "          )\n",
              "        )\n",
              "      )\n",
              "      (1): DecoderLayer(\n",
              "        (self_attn): MultiHeadAttention(\n",
              "          (wi_q): Linear(in_features=512, out_features=512, bias=False)\n",
              "          (wi_k): Linear(in_features=512, out_features=512, bias=False)\n",
              "          (wi_v): Linear(in_features=512, out_features=512, bias=False)\n",
              "          (attention): ScaledDotProductAttention(\n",
              "            (softmax): Softmax(dim=-1)\n",
              "          )\n",
              "          (fc): Linear(in_features=512, out_features=512, bias=False)\n",
              "          (dropout): Dropout(p=0.1, inplace=False)\n",
              "        )\n",
              "        (src_attn): MultiHeadAttention(\n",
              "          (wi_q): Linear(in_features=512, out_features=512, bias=False)\n",
              "          (wi_k): Linear(in_features=512, out_features=512, bias=False)\n",
              "          (wi_v): Linear(in_features=512, out_features=512, bias=False)\n",
              "          (attention): ScaledDotProductAttention(\n",
              "            (softmax): Softmax(dim=-1)\n",
              "          )\n",
              "          (fc): Linear(in_features=512, out_features=512, bias=False)\n",
              "          (dropout): Dropout(p=0.1, inplace=False)\n",
              "        )\n",
              "        (feed_forward): PositionwiseFeedForward(\n",
              "          (fc_1): Linear(in_features=512, out_features=2048, bias=True)\n",
              "          (fc_2): Linear(in_features=2048, out_features=512, bias=True)\n",
              "          (relu): ReLU()\n",
              "          (dropout): Dropout(p=0.1, inplace=False)\n",
              "        )\n",
              "        (sublayer): ModuleList(\n",
              "          (0): AddAndNormDec(\n",
              "            (norm): LayerNorm((512,), eps=1e-06, elementwise_affine=True)\n",
              "          )\n",
              "          (1): AddAndNormDec(\n",
              "            (norm): LayerNorm((512,), eps=1e-06, elementwise_affine=True)\n",
              "          )\n",
              "          (2): AddAndNormDec(\n",
              "            (norm): LayerNorm((512,), eps=1e-06, elementwise_affine=True)\n",
              "          )\n",
              "        )\n",
              "      )\n",
              "    )\n",
              "    (norm): LayerNorm((512,), eps=1e-05, elementwise_affine=True)\n",
              "  )\n",
              "  (src_embed): Sequential(\n",
              "    (0): Embeddings(\n",
              "      (emb): Embedding(10, 512)\n",
              "    )\n",
              "    (1): PositionalEncoding(\n",
              "      (dropout): Dropout(p=0.1, inplace=False)\n",
              "    )\n",
              "  )\n",
              "  (tgt_embed): Sequential(\n",
              "    (0): Embeddings(\n",
              "      (emb): Embedding(10, 512)\n",
              "    )\n",
              "    (1): PositionalEncoding(\n",
              "      (dropout): Dropout(p=0.1, inplace=False)\n",
              "    )\n",
              "  )\n",
              "  (generator): Generator(\n",
              "    (proj): Linear(in_features=512, out_features=10, bias=True)\n",
              "  )\n",
              ")"
            ]
          },
          "metadata": {
            "tags": []
          },
          "execution_count": 28
        }
      ]
    },
    {
      "cell_type": "code",
      "metadata": {
        "collapsed": true,
        "id": "C_hrhDpSXq9P"
      },
      "source": [
        "class Batch:\n",
        "    \"Object for holding a batch of data with mask during training.\"\n",
        "    def __init__(self, src, trg=None, pad=0):\n",
        "        self.src = src\n",
        "        self.src_mask = (src != pad).unsqueeze(-2)\n",
        "        if trg is not None:\n",
        "            self.trg = trg[:, :-1]\n",
        "            self.trg_y = trg[:, 1:]\n",
        "            self.trg_mask = \\\n",
        "                self.make_std_mask(self.trg, pad)\n",
        "            self.ntokens = (self.trg_y != pad).data.sum()\n",
        "    \n",
        "    @staticmethod\n",
        "    def make_std_mask(tgt, pad):\n",
        "        \"Create a mask to hide padding and future words.\"\n",
        "        tgt_mask = (tgt != pad).unsqueeze(-2)\n",
        "        tgt_mask = tgt_mask & Variable(\n",
        "            subsequent_mask(tgt.size(-1)).type_as(tgt_mask.data))\n",
        "        return tgt_mask"
      ],
      "execution_count": 29,
      "outputs": []
    },
    {
      "cell_type": "code",
      "metadata": {
        "collapsed": true,
        "id": "yDpJ74V1Xq9Q"
      },
      "source": [
        "def run_epoch(data_iter, model, loss_compute):\n",
        "    \"Standard Training and Logging Function\"\n",
        "    start = time.time()\n",
        "    total_tokens = 0\n",
        "    total_loss = 0\n",
        "    tokens = 0\n",
        "    for i, batch in enumerate(data_iter):\n",
        "        out = model.forward(batch.src, batch.trg, \n",
        "                            batch.src_mask, batch.trg_mask)\n",
        "        loss = loss_compute(out, batch.trg_y, batch.ntokens)\n",
        "        total_loss += loss\n",
        "        total_tokens += batch.ntokens\n",
        "        tokens += batch.ntokens\n",
        "        if i % 50 == 1:\n",
        "            elapsed = time.time() - start\n",
        "            print(\"Epoch Step: %d Loss: %f Tokens per Sec: %f\" %\n",
        "                    (i, loss / batch.ntokens, tokens / elapsed))\n",
        "            start = time.time()\n",
        "            tokens = 0\n",
        "    return total_loss / total_tokens"
      ],
      "execution_count": 30,
      "outputs": []
    },
    {
      "cell_type": "code",
      "metadata": {
        "collapsed": true,
        "id": "XxlRc2ooXq9Q"
      },
      "source": [
        "global max_src_in_batch, max_tgt_in_batch\n",
        "def batch_size_fn(new, count, sofar):\n",
        "    \"Keep augmenting batch and calculate total number of tokens + padding.\"\n",
        "    global max_src_in_batch, max_tgt_in_batch\n",
        "    if count == 1:\n",
        "        max_src_in_batch = 0\n",
        "        max_tgt_in_batch = 0\n",
        "    max_src_in_batch = max(max_src_in_batch,  len(new.src))\n",
        "    max_tgt_in_batch = max(max_tgt_in_batch,  len(new.trg) + 2)\n",
        "    src_elements = count * max_src_in_batch\n",
        "    tgt_elements = count * max_tgt_in_batch\n",
        "    return max(src_elements, tgt_elements)"
      ],
      "execution_count": 31,
      "outputs": []
    },
    {
      "cell_type": "code",
      "metadata": {
        "collapsed": true,
        "id": "ZSMNBwjzXq9R"
      },
      "source": [
        "class NoamOpt:\n",
        "    \"Optim wrapper that implements rate.\"\n",
        "    def __init__(self, model_size, factor, warmup, optimizer):\n",
        "        self.optimizer = optimizer\n",
        "        self._step = 0\n",
        "        self.warmup = warmup\n",
        "        self.factor = factor\n",
        "        self.model_size = model_size\n",
        "        self._rate = 0\n",
        "        \n",
        "    def step(self):\n",
        "        \"Update parameters and rate\"\n",
        "        self._step += 1\n",
        "        rate = self.rate()\n",
        "        for p in self.optimizer.param_groups:\n",
        "            p['lr'] = rate\n",
        "        self._rate = rate\n",
        "        self.optimizer.step()\n",
        "        \n",
        "    def rate(self, step = None):\n",
        "        \"Implement `lrate` above\"\n",
        "        if step is None:\n",
        "            step = self._step\n",
        "        return self.factor * \\\n",
        "            (self.model_size ** (-0.5) *\n",
        "            min(step ** (-0.5), step * self.warmup ** (-1.5)))\n",
        "        \n",
        "def get_std_opt(model):\n",
        "    return NoamOpt(model.src_embed[0].d_model, 2, 4000,\n",
        "            torch.optim.Adam(model.parameters(), lr=0, betas=(0.9, 0.98), eps=1e-9))"
      ],
      "execution_count": 32,
      "outputs": []
    },
    {
      "cell_type": "code",
      "metadata": {
        "id": "JkTG4VoeXq9R",
        "colab": {
          "base_uri": "https://localhost:8080/",
          "height": 279
        },
        "outputId": "d5cea778-d7f0-49b7-9300-20bf4f9604d4"
      },
      "source": [
        "# Three settings of the lrate hyperparameters.\n",
        "opts = [NoamOpt(512, 1, 4000, None), \n",
        "        NoamOpt(512, 1, 8000, None),\n",
        "        NoamOpt(256, 1, 4000, None)]\n",
        "plt.plot(np.arange(1, 20000), [[opt.rate(i) for opt in opts] for i in range(1, 20000)])\n",
        "plt.legend([\"512:4000\", \"512:8000\", \"256:4000\"])\n",
        "None"
      ],
      "execution_count": 33,
      "outputs": [
        {
          "output_type": "display_data",
          "data": {
            "image/png": "[encoded data removed]",
            "text/plain": [
              "<Figure size 432x288 with 1 Axes>"
            ]
          },
          "metadata": {
            "tags": [],
            "needs_background": "light"
          }
        }
      ]
    },
    {
      "cell_type": "code",
      "metadata": {
        "collapsed": true,
        "id": "_cwDcAbQXq9S"
      },
      "source": [
        "class LabelSmoothing(nn.Module):\n",
        "    \"Implement label smoothing.\"\n",
        "    def __init__(self, size, padding_idx, smoothing=0.0):\n",
        "        super(LabelSmoothing, self).__init__()\n",
        "        self.criterion = nn.KLDivLoss(size_average=False)\n",
        "        self.padding_idx = padding_idx\n",
        "        self.confidence = 1.0 - smoothing\n",
        "        self.smoothing = smoothing\n",
        "        self.size = size\n",
        "        self.true_dist = None\n",
        "        \n",
        "    def forward(self, x, target):\n",
        "        assert x.size(1) == self.size\n",
        "        true_dist = x.data.clone()\n",
        "        true_dist.fill_(self.smoothing / (self.size - 2))\n",
        "        true_dist.scatter_(1, target.data.unsqueeze(1), self.confidence)\n",
        "        true_dist[:, self.padding_idx] = 0\n",
        "        mask = torch.nonzero(target.data == self.padding_idx)\n",
        "        if mask.dim() > 0:\n",
        "            true_dist.index_fill_(0, mask.squeeze(), 0.0)\n",
        "        self.true_dist = true_dist\n",
        "        return self.criterion(x, Variable(true_dist, requires_grad=False))"
      ],
      "execution_count": 34,
      "outputs": []
    },
    {
      "cell_type": "code",
      "metadata": {
        "id": "19Gk4m0NXq9T",
        "colab": {
          "base_uri": "https://localhost:8080/",
          "height": 322
        },
        "outputId": "2d7d575c-eebd-45d7-9fba-69b80882ce9d"
      },
      "source": [
        "#Example of label smoothing.\n",
        "crit = LabelSmoothing(5, 0, 0.4)\n",
        "predict = torch.FloatTensor([[0, 0.2, 0.7, 0.1, 0],\n",
        "                             [0, 0.2, 0.7, 0.1, 0], \n",
        "                             [0, 0.2, 0.7, 0.1, 0]])\n",
        "v = crit(Variable(predict.log()), \n",
        "         Variable(torch.LongTensor([2, 1, 0])))\n",
        "\n",
        "# Show the target distributions expected by the system.\n",
        "plt.imshow(crit.true_dist)\n",
        "None"
      ],
      "execution_count": 35,
      "outputs": [
        {
          "output_type": "stream",
          "text": [
            "/usr/local/lib/python3.7/dist-packages/torch/nn/_reduction.py:42: UserWarning: size_average and reduce args will be deprecated, please use reduction='sum' instead.\n",
            "  warnings.warn(warning.format(ret))\n"
          ],
          "name": "stderr"
        },
        {
          "output_type": "display_data",
          "data": {
            "image/png": "[encoded data removed]",
            "text/plain": [
              "<Figure size 432x288 with 1 Axes>"
            ]
          },
          "metadata": {
            "tags": [],
            "needs_background": "light"
          }
        }
      ]
    },
    {
      "cell_type": "code",
      "metadata": {
        "id": "Ic5GcDWEXq9T",
        "colab": {
          "base_uri": "https://localhost:8080/",
          "height": 333
        },
        "outputId": "6cc99cf6-2a4a-4285-e87d-057b4239d1d1"
      },
      "source": [
        "crit = LabelSmoothing(5, 0, 0.1)\n",
        "def loss(x):\n",
        "    d = x + 3 * 1\n",
        "    predict = torch.FloatTensor([[0, x / d, 1 / d, 1 / d, 1 / d],\n",
        "                                 ])\n",
        "    #print(predict)\n",
        "    return crit(Variable(predict.log()),\n",
        "                 Variable(torch.LongTensor([1]))).item()\n",
        "plt.plot(np.arange(1, 100), [loss(x) for x in range(1, 100)])\n",
        "None"
      ],
      "execution_count": 36,
      "outputs": [
        {
          "output_type": "stream",
          "text": [
            "/usr/local/lib/python3.7/dist-packages/torch/nn/_reduction.py:42: UserWarning: size_average and reduce args will be deprecated, please use reduction='sum' instead.\n",
            "  warnings.warn(warning.format(ret))\n"
          ],
          "name": "stderr"
        },
        {
          "output_type": "display_data",
          "data": {
            "image/png": "[encoded data removed]",
            "text/plain": [
              "<Figure size 432x288 with 1 Axes>"
            ]
          },
          "metadata": {
            "tags": [],
            "needs_background": "light"
          }
        }
      ]
    },
    {
      "cell_type": "markdown",
      "metadata": {
        "id": "6DOg6L-rXq9U"
      },
      "source": [
        "## Synthetic Data"
      ]
    },
    {
      "cell_type": "code",
      "metadata": {
        "collapsed": true,
        "id": "S0aXeGP0Xq9U"
      },
      "source": [
        "def data_gen(V, batch, nbatches):\n",
        "    \"Generate random data for a src-tgt copy task.\"\n",
        "    for i in range(nbatches):\n",
        "        data = torch.from_numpy(np.random.randint(1, V, size=(batch, 10)))\n",
        "        data[:, 0] = 1\n",
        "        src = Variable(data, requires_grad=False)\n",
        "        tgt = Variable(data, requires_grad=False)\n",
        "        yield Batch(src, tgt, 0)"
      ],
      "execution_count": 37,
      "outputs": []
    },
    {
      "cell_type": "markdown",
      "metadata": {
        "id": "ULRFkGb8Xq9U"
      },
      "source": [
        "## Loss Computation"
      ]
    },
    {
      "cell_type": "code",
      "metadata": {
        "collapsed": true,
        "id": "7Ae8ht1RXq9V"
      },
      "source": [
        "class SimpleLossCompute:\n",
        "    \"A simple loss compute and train function.\"\n",
        "    def __init__(self, generator, criterion, opt=None):\n",
        "        self.generator = generator\n",
        "        self.criterion = criterion\n",
        "        self.opt = opt\n",
        "        \n",
        "    def __call__(self, x, y, norm):\n",
        "        x = self.generator(x)\n",
        "        loss = self.criterion(x.contiguous().view(-1, x.size(-1)), \n",
        "                              y.contiguous().view(-1)) / norm\n",
        "        loss.backward()\n",
        "        if self.opt is not None:\n",
        "            self.opt.step()\n",
        "            self.opt.optimizer.zero_grad()\n",
        "        #return loss.data[0] * norm\n",
        "        return loss.item() * norm"
      ],
      "execution_count": 38,
      "outputs": []
    },
    {
      "cell_type": "markdown",
      "metadata": {
        "id": "3_5N7srEXq9V"
      },
      "source": [
        "## Greedy Decoding"
      ]
    },
    {
      "cell_type": "code",
      "metadata": {
        "id": "fANlh8SzXq9V",
        "colab": {
          "base_uri": "https://localhost:8080/"
        },
        "outputId": "6164a1c5-7479-471f-c1ee-de8c9f6840c9"
      },
      "source": [
        "# Train the simple copy task.\n",
        "V = 11\n",
        "criterion = LabelSmoothing(size=V, padding_idx=0, smoothing=0.0)\n",
        "model = make_model(V, V, N=2)\n",
        "model_opt = NoamOpt(model.src_embed[0].d_model, 1, 400,\n",
        "        torch.optim.Adam(model.parameters(), lr=0, betas=(0.9, 0.98), eps=1e-9))\n",
        "\n",
        "for epoch in range(10):\n",
        "    model.train()\n",
        "    run_epoch(data_gen(V, 30, 20), model, \n",
        "              SimpleLossCompute(model.generator, criterion, model_opt))\n",
        "    model.eval()\n",
        "    print(run_epoch(data_gen(V, 30, 5), model, \n",
        "                    SimpleLossCompute(model.generator, criterion, None)))"
      ],
      "execution_count": 42,
      "outputs": [
        {
          "output_type": "stream",
          "text": [
            "/usr/local/lib/python3.7/dist-packages/torch/nn/_reduction.py:42: UserWarning: size_average and reduce args will be deprecated, please use reduction='sum' instead.\n",
            "  warnings.warn(warning.format(ret))\n",
            "/usr/local/lib/python3.7/dist-packages/ipykernel_launcher.py:20: UserWarning: nn.init.xavier_uniform is now deprecated in favor of nn.init.xavier_uniform_.\n"
          ],
          "name": "stderr"
        },
        {
          "output_type": "stream",
          "text": [
            "Epoch Step: 1 Loss: 3.132079 Tokens per Sec: 467.278503\n",
            "Epoch Step: 1 Loss: 1.805031 Tokens per Sec: 613.339172\n",
            "tensor(1.7992)\n",
            "Epoch Step: 1 Loss: 1.925091 Tokens per Sec: 493.439453\n",
            "Epoch Step: 1 Loss: 1.699711 Tokens per Sec: 619.733032\n",
            "tensor(1.7158)\n",
            "Epoch Step: 1 Loss: 1.863919 Tokens per Sec: 497.787933\n",
            "Epoch Step: 1 Loss: 1.600698 Tokens per Sec: 607.599792\n",
            "tensor(1.6193)\n",
            "Epoch Step: 1 Loss: 1.855049 Tokens per Sec: 478.457214\n",
            "Epoch Step: 1 Loss: 1.401303 Tokens per Sec: 612.620972\n",
            "tensor(1.4189)\n",
            "Epoch Step: 1 Loss: 1.737799 Tokens per Sec: 494.972015\n",
            "Epoch Step: 1 Loss: 1.611237 Tokens per Sec: 611.880066\n",
            "tensor(1.5767)\n",
            "Epoch Step: 1 Loss: 1.686326 Tokens per Sec: 482.089020\n",
            "Epoch Step: 1 Loss: 1.163877 Tokens per Sec: 621.485291\n",
            "tensor(1.1478)\n",
            "Epoch Step: 1 Loss: 1.607196 Tokens per Sec: 499.686646\n",
            "Epoch Step: 1 Loss: 1.009444 Tokens per Sec: 623.543762\n",
            "tensor(0.9829)\n",
            "Epoch Step: 1 Loss: 1.213488 Tokens per Sec: 491.215027\n",
            "Epoch Step: 1 Loss: 0.659119 Tokens per Sec: 596.252991\n",
            "tensor(0.6684)\n",
            "Epoch Step: 1 Loss: 1.240438 Tokens per Sec: 475.967285\n",
            "Epoch Step: 1 Loss: 0.689058 Tokens per Sec: 602.283264\n",
            "tensor(0.7004)\n",
            "Epoch Step: 1 Loss: 1.144491 Tokens per Sec: 487.189636\n",
            "Epoch Step: 1 Loss: 0.784168 Tokens per Sec: 623.080750\n",
            "tensor(0.7829)\n"
          ],
          "name": "stdout"
        }
      ]
    },
    {
      "cell_type": "code",
      "metadata": {
        "id": "bcVpHCSZXq9V"
      },
      "source": [
        "def greedy_decode(model, src, src_mask, max_len, start_symbol):\n",
        "    memory = model.encode(src, src_mask)\n",
        "    ys = torch.ones(1, 1).fill_(start_symbol).type_as(src.data)\n",
        "    for i in range(max_len-1):\n",
        "        out = model.decode(memory, src_mask, \n",
        "                           Variable(ys), \n",
        "                           Variable(subsequent_mask(ys.size(1))\n",
        "                                    .type_as(src.data)))\n",
        "        prob = model.generator(out[:, -1])\n",
        "        _, next_word = torch.max(prob, dim = 1)\n",
        "        next_word = next_word.data[0]\n",
        "        ys = torch.cat([ys, \n",
        "                        torch.ones(1, 1).type_as(src.data).fill_(next_word)], dim=1)\n",
        "    return ys"
      ],
      "execution_count": 40,
      "outputs": []
    },
    {
      "cell_type": "code",
      "metadata": {
        "colab": {
          "base_uri": "https://localhost:8080/"
        },
        "id": "oZM2or8QEE2P",
        "outputId": "851bddfb-2da4-48e4-f36e-7172a1794641"
      },
      "source": [
        "model.eval()\n",
        "src = Variable(torch.LongTensor([[1,8,5,7,3,6,7,8,9,10]]))\n",
        "#src = Variable(torch.LongTensor([[1,8,5,7,3,6,7,8,9,10]]))\n",
        "src_mask = Variable(torch.ones(1, 1, 10))\n",
        "print(greedy_decode(model, src, src_mask, max_len=10, start_symbol=1))"
      ],
      "execution_count": 43,
      "outputs": [
        {
          "output_type": "stream",
          "text": [
            "tensor([[ 1,  8,  5,  7,  3,  6,  8,  7,  8, 10]])\n"
          ],
          "name": "stdout"
        }
      ]
    },
    {
      "cell_type": "markdown",
      "metadata": {
        "id": "_RynFrZjDJln"
      },
      "source": [
        "# Backup_2"
      ]
    },
    {
      "cell_type": "markdown",
      "metadata": {
        "id": "wmkUG3JYXq9W"
      },
      "source": [
        "# A Real World Example\n",
        "\n",
        "> Now we consider a real-world example using the IWSLT German-English Translation task. This task is much smaller than the WMT task considered in the paper, but it illustrates the whole system. We also show how to use multi-gpu processing to make it really fast."
      ]
    },
    {
      "cell_type": "code",
      "metadata": {
        "collapsed": true,
        "id": "rLFMHnFqXq9W"
      },
      "source": [
        "#!pip install torchtext spacy\n",
        "#!python -m spacy download en\n",
        "#!python -m spacy download de"
      ],
      "execution_count": null,
      "outputs": []
    },
    {
      "cell_type": "markdown",
      "metadata": {
        "id": "rG4pUsT7Xq9W"
      },
      "source": [
        "## Data Loading\n",
        "> We will load the dataset using torchtext and spacy for tokenization. "
      ]
    },
    {
      "cell_type": "code",
      "metadata": {
        "collapsed": true,
        "id": "df4hc1trXq9W"
      },
      "source": [
        "# For data loading.\n",
        "from torchtext import data, datasets\n",
        "\n",
        "if True:\n",
        "    import spacy\n",
        "    spacy_de = spacy.load('de')\n",
        "    spacy_en = spacy.load('en')\n",
        "\n",
        "    def tokenize_de(text):\n",
        "        return [tok.text for tok in spacy_de.tokenizer(text)]\n",
        "\n",
        "    def tokenize_en(text):\n",
        "        return [tok.text for tok in spacy_en.tokenizer(text)]\n",
        "\n",
        "    BOS_WORD = '<s>'\n",
        "    EOS_WORD = '</s>'\n",
        "    BLANK_WORD = \"<blank>\"\n",
        "    SRC = data.Field(tokenize=tokenize_de, pad_token=BLANK_WORD)\n",
        "    TGT = data.Field(tokenize=tokenize_en, init_token = BOS_WORD, \n",
        "                     eos_token = EOS_WORD, pad_token=BLANK_WORD)\n",
        "\n",
        "    MAX_LEN = 100\n",
        "    train, val, test = datasets.IWSLT.splits(\n",
        "        exts=('.de', '.en'), fields=(SRC, TGT), \n",
        "        filter_pred=lambda x: len(vars(x)['src']) <= MAX_LEN and \n",
        "            len(vars(x)['trg']) <= MAX_LEN)\n",
        "    MIN_FREQ = 2\n",
        "    SRC.build_vocab(train.src, min_freq=MIN_FREQ)\n",
        "    TGT.build_vocab(train.trg, min_freq=MIN_FREQ)"
      ],
      "execution_count": null,
      "outputs": []
    },
    {
      "cell_type": "markdown",
      "metadata": {
        "id": "xG5hcjj9Xq9W"
      },
      "source": [
        "> Batching matters a ton for speed. We want to have very evenly divided batches, with absolutely minimal padding. To do this we have to hack a bit around the default torchtext batching. This code patches their default batching to make sure we search over enough sentences to find tight batches. "
      ]
    },
    {
      "cell_type": "markdown",
      "metadata": {
        "id": "FkPpP95_Xq9W"
      },
      "source": [
        "## Iterators"
      ]
    },
    {
      "cell_type": "code",
      "metadata": {
        "collapsed": true,
        "id": "FBlqMAiTXq9X"
      },
      "source": [
        "class MyIterator(data.Iterator):\n",
        "    def create_batches(self):\n",
        "        if self.train:\n",
        "            def pool(d, random_shuffler):\n",
        "                for p in data.batch(d, self.batch_size * 100):\n",
        "                    p_batch = data.batch(\n",
        "                        sorted(p, key=self.sort_key),\n",
        "                        self.batch_size, self.batch_size_fn)\n",
        "                    for b in random_shuffler(list(p_batch)):\n",
        "                        yield b\n",
        "            self.batches = pool(self.data(), self.random_shuffler)\n",
        "            \n",
        "        else:\n",
        "            self.batches = []\n",
        "            for b in data.batch(self.data(), self.batch_size,\n",
        "                                          self.batch_size_fn):\n",
        "                self.batches.append(sorted(b, key=self.sort_key))\n",
        "\n",
        "def rebatch(pad_idx, batch):\n",
        "    \"Fix order in torchtext to match ours\"\n",
        "    src, trg = batch.src.transpose(0, 1), batch.trg.transpose(0, 1)\n",
        "    return Batch(src, trg, pad_idx)"
      ],
      "execution_count": null,
      "outputs": []
    },
    {
      "cell_type": "markdown",
      "metadata": {
        "collapsed": true,
        "id": "k4IXY8BgXq9X"
      },
      "source": [
        "## Multi-GPU Training\n",
        "\n",
        "> Finally to really target fast training, we will use multi-gpu. This code implements multi-gpu word generation. It is not specific to transformer so I won't go into too much detail. The idea is to split up word generation at training time into chunks to be processed in parallel across many different gpus. We do this using pytorch parallel primitives:\n",
        "\n",
        "* replicate - split modules onto different gpus.\n",
        "* scatter - split batches onto different gpus\n",
        "* parallel_apply - apply module to batches on different gpus\n",
        "* gather - pull scattered data back onto one gpu. \n",
        "* nn.DataParallel - a special module wrapper that calls these all before evaluating. \n"
      ]
    },
    {
      "cell_type": "code",
      "metadata": {
        "collapsed": true,
        "id": "cAvWWpBhXq9X"
      },
      "source": [
        "# Skip if not interested in multigpu.\n",
        "class MultiGPULossCompute:\n",
        "    \"A multi-gpu loss compute and train function.\"\n",
        "    def __init__(self, generator, criterion, devices, opt=None, chunk_size=5):\n",
        "        # Send out to different gpus.\n",
        "        self.generator = generator\n",
        "        self.criterion = nn.parallel.replicate(criterion, \n",
        "                                               devices=devices)\n",
        "        self.opt = opt\n",
        "        self.devices = devices\n",
        "        self.chunk_size = chunk_size\n",
        "        \n",
        "    def __call__(self, out, targets, normalize):\n",
        "        total = 0.0\n",
        "        generator = nn.parallel.replicate(self.generator, \n",
        "                                                devices=self.devices)\n",
        "        out_scatter = nn.parallel.scatter(out, \n",
        "                                          target_gpus=self.devices)\n",
        "        out_grad = [[] for _ in out_scatter]\n",
        "        targets = nn.parallel.scatter(targets, \n",
        "                                      target_gpus=self.devices)\n",
        "\n",
        "        # Divide generating into chunks.\n",
        "        chunk_size = self.chunk_size\n",
        "        for i in range(0, out_scatter[0].size(1), chunk_size):\n",
        "            # Predict distributions\n",
        "            out_column = [[Variable(o[:, i:i+chunk_size].data, \n",
        "                                    requires_grad=self.opt is not None)] \n",
        "                           for o in out_scatter]\n",
        "            gen = nn.parallel.parallel_apply(generator, out_column)\n",
        "\n",
        "            # Compute loss. \n",
        "            y = [(g.contiguous().view(-1, g.size(-1)), \n",
        "                  t[:, i:i+chunk_size].contiguous().view(-1)) \n",
        "                 for g, t in zip(gen, targets)]\n",
        "            loss = nn.parallel.parallel_apply(self.criterion, y)\n",
        "\n",
        "            # Sum and normalize loss\n",
        "            l = nn.parallel.gather(loss, \n",
        "                                   target_device=self.devices[0])\n",
        "            l = l.sum()[0] / normalize\n",
        "            total += l.data[0]\n",
        "\n",
        "            # Backprop loss to output of transformer\n",
        "            if self.opt is not None:\n",
        "                l.backward()\n",
        "                for j, l in enumerate(loss):\n",
        "                    out_grad[j].append(out_column[j][0].grad.data.clone())\n",
        "\n",
        "        # Backprop all loss through transformer.            \n",
        "        if self.opt is not None:\n",
        "            out_grad = [Variable(torch.cat(og, dim=1)) for og in out_grad]\n",
        "            o1 = out\n",
        "            o2 = nn.parallel.gather(out_grad, \n",
        "                                    target_device=self.devices[0])\n",
        "            o1.backward(gradient=o2)\n",
        "            self.opt.step()\n",
        "            self.opt.optimizer.zero_grad()\n",
        "        return total * normalize"
      ],
      "execution_count": null,
      "outputs": []
    },
    {
      "cell_type": "markdown",
      "metadata": {
        "id": "bJO1OfStXq9X"
      },
      "source": [
        "> Now we create our model, criterion, optimizer, data iterators, and paralelization"
      ]
    },
    {
      "cell_type": "code",
      "metadata": {
        "collapsed": true,
        "id": "sDzqwkH6Xq9X"
      },
      "source": [
        "# GPUs to use\n",
        "devices = [0, 1, 2, 3]\n",
        "if True:\n",
        "    pad_idx = TGT.vocab.stoi[\"<blank>\"]\n",
        "    model = make_model(len(SRC.vocab), len(TGT.vocab), N=6)\n",
        "    model.cuda()\n",
        "    criterion = LabelSmoothing(size=len(TGT.vocab), padding_idx=pad_idx, smoothing=0.1)\n",
        "    criterion.cuda()\n",
        "    BATCH_SIZE = 12000\n",
        "    train_iter = MyIterator(train, batch_size=BATCH_SIZE, device=0,\n",
        "                            repeat=False, sort_key=lambda x: (len(x.src), len(x.trg)),\n",
        "                            batch_size_fn=batch_size_fn, train=True)\n",
        "    valid_iter = MyIterator(val, batch_size=BATCH_SIZE, device=0,\n",
        "                            repeat=False, sort_key=lambda x: (len(x.src), len(x.trg)),\n",
        "                            batch_size_fn=batch_size_fn, train=False)\n",
        "    model_par = nn.DataParallel(model, device_ids=devices)\n",
        "None"
      ],
      "execution_count": null,
      "outputs": []
    },
    {
      "cell_type": "markdown",
      "metadata": {
        "id": "SOXBIVZ-Xq9Y"
      },
      "source": [
        "> Now we train the model. I will play with the warmup steps a bit, but everything else uses the default parameters.  On an AWS p3.8xlarge with 4 Tesla V100s, this runs at ~27,000 tokens per second with a batch size of 12,000 "
      ]
    },
    {
      "cell_type": "markdown",
      "metadata": {
        "id": "WVTYJe4UXq9Y"
      },
      "source": [
        "## Training the System"
      ]
    },
    {
      "cell_type": "code",
      "metadata": {
        "collapsed": true,
        "id": "bDezrLqnXq9Y"
      },
      "source": [
        "#!wget https://s3.amazonaws.com/opennmt-models/iwslt.pt"
      ],
      "execution_count": null,
      "outputs": []
    },
    {
      "cell_type": "code",
      "metadata": {
        "collapsed": true,
        "id": "fGpcKDDiXq9Y"
      },
      "source": [
        "if False:\n",
        "    model_opt = NoamOpt(model.src_embed[0].d_model, 1, 2000,\n",
        "            torch.optim.Adam(model.parameters(), lr=0, betas=(0.9, 0.98), eps=1e-9))\n",
        "    for epoch in range(10):\n",
        "        model_par.train()\n",
        "        run_epoch((rebatch(pad_idx, b) for b in train_iter), \n",
        "                  model_par, \n",
        "                  MultiGPULossCompute(model.generator, criterion, \n",
        "                                      devices=devices, opt=model_opt))\n",
        "        model_par.eval()\n",
        "        loss = run_epoch((rebatch(pad_idx, b) for b in valid_iter), \n",
        "                          model_par, \n",
        "                          MultiGPULossCompute(model.generator, criterion, \n",
        "                          devices=devices, opt=None))\n",
        "        print(loss)\n",
        "else:\n",
        "    model = torch.load(\"iwslt.pt\")"
      ],
      "execution_count": null,
      "outputs": []
    },
    {
      "cell_type": "markdown",
      "metadata": {
        "id": "Gascy-8zXq9Y"
      },
      "source": [
        "> Once trained we can decode the model to produce a set of translations. Here we simply translate the first sentence in the validation set. This dataset is pretty small so the translations with greedy search are reasonably accurate. "
      ]
    },
    {
      "cell_type": "code",
      "metadata": {
        "id": "a2VLz8iMXq9Y"
      },
      "source": [
        "for i, batch in enumerate(valid_iter):\n",
        "    src = batch.src.transpose(0, 1)[:1]\n",
        "    src_mask = (src != SRC.vocab.stoi[\"<blank>\"]).unsqueeze(-2)\n",
        "    out = greedy_decode(model, src, src_mask, \n",
        "                        max_len=60, start_symbol=TGT.vocab.stoi[\"<s>\"])\n",
        "    print(\"Translation:\", end=\"\\t\")\n",
        "    for i in range(1, out.size(1)):\n",
        "        sym = TGT.vocab.itos[out[0, i]]\n",
        "        if sym == \"</s>\": break\n",
        "        print(sym, end =\" \")\n",
        "    print()\n",
        "    print(\"Target:\", end=\"\\t\")\n",
        "    for i in range(1, batch.trg.size(0)):\n",
        "        sym = TGT.vocab.itos[batch.trg.data[i, 0]]\n",
        "        if sym == \"</s>\": break\n",
        "        print(sym, end =\" \")\n",
        "    print()\n",
        "    break"
      ],
      "execution_count": null,
      "outputs": []
    },
    {
      "cell_type": "markdown",
      "metadata": {
        "collapsed": true,
        "id": "R3J-zwLXXq9Z"
      },
      "source": [
        "# Additional Components: BPE, Search, Averaging"
      ]
    },
    {
      "cell_type": "markdown",
      "metadata": {
        "id": "H7d2mzrlXq9Z"
      },
      "source": [
        "> So this mostly covers the transformer model itself. There are four aspects that we didn't cover explicitly. We also have all these additional features implemented in [OpenNMT-py](https://github.com/opennmt/opennmt-py).\n",
        "\n"
      ]
    },
    {
      "cell_type": "markdown",
      "metadata": {
        "id": "YUxdLmPkXq9Z"
      },
      "source": [
        "> 1) BPE/ Word-piece: We can use a library to first preprocess the data into subword units. See Rico Sennrich's [subword-nmt](https://github.com/rsennrich/subword-nmt) implementation. These models will transform the training data to look like this:"
      ]
    },
    {
      "cell_type": "markdown",
      "metadata": {
        "id": "doE_CQ_LXq9Z"
      },
      "source": [
        "▁Die ▁Protokoll datei ▁kann ▁ heimlich ▁per ▁E - Mail ▁oder ▁FTP ▁an ▁einen ▁bestimmte n ▁Empfänger ▁gesendet ▁werden ."
      ]
    },
    {
      "cell_type": "markdown",
      "metadata": {
        "id": "H8JSATiSXq9Z"
      },
      "source": [
        "> 2) Shared Embeddings: When using BPE with shared vocabulary we can share the same weight vectors between the source / target / generator. See the [(cite)](https://arxiv.org/abs/1608.05859) for details. To add this to the model simply do this:"
      ]
    },
    {
      "cell_type": "code",
      "metadata": {
        "collapsed": true,
        "id": "gqJZgf2TXq9Z"
      },
      "source": [
        "if False:\n",
        "    model.src_embed[0].lut.weight = model.tgt_embeddings[0].lut.weight\n",
        "    model.generator.lut.weight = model.tgt_embed[0].lut.weight"
      ],
      "execution_count": null,
      "outputs": []
    },
    {
      "cell_type": "markdown",
      "metadata": {
        "id": "BuhaIOX9Xq9a"
      },
      "source": [
        "> 3) Beam Search: This is a bit too complicated to cover here. See the [OpenNMT-py](https://github.com/OpenNMT/OpenNMT-py/blob/master/onmt/translate/Beam.py) for a pytorch implementation.\n",
        "\n"
      ]
    },
    {
      "cell_type": "markdown",
      "metadata": {
        "id": "UiiXO-M6Xq9a"
      },
      "source": [
        "> 4) Model Averaging: The paper averages the last k checkpoints to create an ensembling effect. We can do this after the fact if we have a bunch of models:"
      ]
    },
    {
      "cell_type": "code",
      "metadata": {
        "collapsed": true,
        "id": "iZeCLDtvXq9a"
      },
      "source": [
        "def average(model, models):\n",
        "    \"Average models into model\"\n",
        "    for ps in zip(*[m.params() for m in [model] + models]):\n",
        "        p[0].copy_(torch.sum(*ps[1:]) / len(ps[1:]))"
      ],
      "execution_count": null,
      "outputs": []
    },
    {
      "cell_type": "markdown",
      "metadata": {
        "id": "-OsT2OfFXq9a"
      },
      "source": [
        "# Results\n",
        "\n",
        "On the WMT 2014 English-to-German translation task, the big transformer model (Transformer (big)\n",
        "in Table 2) outperforms the best previously reported models (including ensembles) by more than 2.0\n",
        "BLEU, establishing a new state-of-the-art BLEU score of 28.4. The configuration of this model is\n",
        "listed in the bottom line of Table 3. Training took 3.5 days on 8 P100 GPUs. Even our base model\n",
        "surpasses all previously published models and ensembles, at a fraction of the training cost of any of\n",
        "the competitive models.\n",
        "\n",
        "On the WMT 2014 English-to-French translation task, our big model achieves a BLEU score of 41.0,\n",
        "outperforming all of the previously published single models, at less than 1/4 the training cost of the\n",
        "previous state-of-the-art model. The Transformer (big) model trained for English-to-French used\n",
        "dropout rate Pdrop = 0.1, instead of 0.3.\n",
        "\n"
      ]
    },
    {
      "cell_type": "code",
      "metadata": {
        "id": "icUdn2VfXq9a"
      },
      "source": [
        "Image(filename=\"images/results.png\")"
      ],
      "execution_count": null,
      "outputs": []
    },
    {
      "cell_type": "markdown",
      "metadata": {
        "id": "U4JNgHe4Xq9b"
      },
      "source": [
        "> The code we have written here is a version of the base model. There are fully trained version of this system available here  [(Example Models)](http://opennmt.net/Models-py/).\n",
        ">\n",
        "> With the addtional extensions in the last section, the OpenNMT-py replication gets to 26.9 on EN-DE WMT. Here I have loaded in those parameters to our reimplemenation. "
      ]
    },
    {
      "cell_type": "code",
      "metadata": {
        "collapsed": true,
        "id": "ENGPLODDXq9b"
      },
      "source": [
        "!wget https://s3.amazonaws.com/opennmt-models/en-de-model.pt"
      ],
      "execution_count": null,
      "outputs": []
    },
    {
      "cell_type": "code",
      "metadata": {
        "collapsed": true,
        "id": "_-0aCFrkXq9b"
      },
      "source": [
        "model, SRC, TGT = torch.load(\"en-de-model.pt\")"
      ],
      "execution_count": null,
      "outputs": []
    },
    {
      "cell_type": "code",
      "metadata": {
        "collapsed": true,
        "id": "Y30xCLShXq9b"
      },
      "source": [
        ""
      ],
      "execution_count": null,
      "outputs": []
    },
    {
      "cell_type": "code",
      "metadata": {
        "id": "qOWY9S1VXq9b"
      },
      "source": [
        "model.eval()\n",
        "sent = \"▁The ▁log ▁file ▁can ▁be ▁sent ▁secret ly ▁with ▁email ▁or ▁FTP ▁to ▁a ▁specified ▁receiver\".split()\n",
        "src = torch.LongTensor([[SRC.stoi[w] for w in sent]])\n",
        "src = Variable(src)\n",
        "src_mask = (src != SRC.stoi[\"<blank>\"]).unsqueeze(-2)\n",
        "out = greedy_decode(model, src, src_mask, \n",
        "                    max_len=60, start_symbol=TGT.stoi[\"<s>\"])\n",
        "print(\"Translation:\", end=\"\\t\")\n",
        "trans = \"<s> \"\n",
        "for i in range(1, out.size(1)):\n",
        "    sym = TGT.itos[out[0, i]]\n",
        "    if sym == \"</s>\": break\n",
        "    trans += sym + \" \"\n",
        "print(trans)"
      ],
      "execution_count": null,
      "outputs": []
    },
    {
      "cell_type": "markdown",
      "metadata": {
        "id": "2cgclZwFXq9b"
      },
      "source": [
        "## Attention Visualization\n",
        "\n",
        "> Even with a greedy decoder the translation looks pretty good. We can further visualize it to see what is happening at each layer of the attention "
      ]
    },
    {
      "cell_type": "code",
      "metadata": {
        "id": "2_TXuzFFXq9c"
      },
      "source": [
        "tgt_sent = trans.split()\n",
        "def draw(data, x, y, ax):\n",
        "    seaborn.heatmap(data, \n",
        "                    xticklabels=x, square=True, yticklabels=y, vmin=0.0, vmax=1.0, \n",
        "                    cbar=False, ax=ax)\n",
        "    \n",
        "for layer in range(1, 6, 2):\n",
        "    fig, axs = plt.subplots(1,4, figsize=(20, 10))\n",
        "    print(\"Encoder Layer\", layer+1)\n",
        "    for h in range(4):\n",
        "        draw(model.encoder.layers[layer].self_attn.attn[0, h].data, \n",
        "            sent, sent if h ==0 else [], ax=axs[h])\n",
        "    plt.show()\n",
        "    \n",
        "for layer in range(1, 6, 2):\n",
        "    fig, axs = plt.subplots(1,4, figsize=(20, 10))\n",
        "    print(\"Decoder Self Layer\", layer+1)\n",
        "    for h in range(4):\n",
        "        draw(model.decoder.layers[layer].self_attn.attn[0, h].data[:len(tgt_sent), :len(tgt_sent)], \n",
        "            tgt_sent, tgt_sent if h ==0 else [], ax=axs[h])\n",
        "    plt.show()\n",
        "    print(\"Decoder Src Layer\", layer+1)\n",
        "    fig, axs = plt.subplots(1,4, figsize=(20, 10))\n",
        "    for h in range(4):\n",
        "        draw(model.decoder.layers[layer].self_attn.attn[0, h].data[:len(tgt_sent), :len(sent)], \n",
        "            sent, tgt_sent if h ==0 else [], ax=axs[h])\n",
        "    plt.show()\n"
      ],
      "execution_count": null,
      "outputs": []
    },
    {
      "cell_type": "markdown",
      "metadata": {
        "id": "3MhlgGUqXq9c"
      },
      "source": [
        "# Conclusion\n",
        "\n",
        "> Hopefully this code is useful for future research. Please reach out if you have any issues. If you find this code helpful, also check out our other OpenNMT tools.\n",
        "\n",
        "```\n",
        "@inproceedings{opennmt,\n",
        "  author    = {Guillaume Klein and\n",
        "               Yoon Kim and\n",
        "               Yuntian Deng and\n",
        "               Jean Senellart and\n",
        "               Alexander M. Rush},\n",
        "  title     = {OpenNMT: Open-Source Toolkit for Neural Machine Translation},\n",
        "  booktitle = {Proc. ACL},\n",
        "  year      = {2017},\n",
        "  url       = {https://doi.org/10.18653/v1/P17-4012},\n",
        "  doi       = {10.18653/v1/P17-4012}\n",
        "}\n",
        "```\n",
        "\n",
        "> Cheers,\n",
        "> srush"
      ]
    },
    {
      "cell_type": "markdown",
      "metadata": {
        "id": "d1-u5nm5Xq9c"
      },
      "source": [
        "{::options parse_block_html=\"true\" /}\n",
        "<div id=\"disqus_thread\"></div>\n",
        "<script>\n",
        "\n",
        "/**\n",
        "*  RECOMMENDED CONFIGURATION VARIABLES: EDIT AND UNCOMMENT THE SECTION BELOW TO INSERT DYNAMIC VALUES FROM YOUR PLATFORM OR CMS.\n",
        "*  LEARN WHY DEFINING THESE VARIABLES IS IMPORTANT: https://disqus.com/admin/universalcode/#configuration-variables*/\n",
        "/*\n",
        "var disqus_config = function () {\n",
        "this.page.url = PAGE_URL;  // Replace PAGE_URL with your page's canonical URL variable\n",
        "this.page.identifier = PAGE_IDENTIFIER; // Replace PAGE_IDENTIFIER with your page's unique identifier variable\n",
        "};\n",
        "*/\n",
        "(function() { // DON'T EDIT BELOW THIS LINE\n",
        "var d = document, s = d.createElement('script');\n",
        "s.src = 'https://harvard-nlp.disqus.com/embed.js';\n",
        "s.setAttribute('data-timestamp', +new Date());\n",
        "(d.head || d.body).appendChild(s);\n",
        "})();\n",
        "</script>\n",
        "<noscript>Please enable JavaScript to view the <a href=\"https://disqus.com/?ref_noscript\">comments powered by Disqus.</a></noscript>\n",
        "                            "
      ]
    },
    {
      "cell_type": "markdown",
      "metadata": {
        "id": "k8WJUdrFXq9c"
      },
      "source": [
        "<div id=\"disqus_thread\"></div>\n",
        "<script>\n",
        "    /**\n",
        "     *  RECOMMENDED CONFIGURATION VARIABLES: EDIT AND UNCOMMENT THE SECTION BELOW TO INSERT DYNAMIC VALUES FROM YOUR PLATFORM OR CMS.\n",
        "     *  LEARN WHY DEFINING THESE VARIABLES IS IMPORTANT: https://disqus.com/admin/universalcode/#configuration-variables\n",
        "     */\n",
        "    /*\n",
        "    var disqus_config = function () {\n",
        "        this.page.url = PAGE_URL;  // Replace PAGE_URL with your page's canonical URL variable\n",
        "        this.page.identifier = PAGE_IDENTIFIER; // Replace PAGE_IDENTIFIER with your page's unique identifier variable\n",
        "    };\n",
        "    */\n",
        "    (function() {  // REQUIRED CONFIGURATION VARIABLE: EDIT THE SHORTNAME BELOW\n",
        "        var d = document, s = d.createElement('script');\n",
        "        \n",
        "        s.src = 'https://EXAMPLE.disqus.com/embed.js';  // IMPORTANT: Replace EXAMPLE with your forum shortname!\n",
        "        \n",
        "        s.setAttribute('data-timestamp', +new Date());\n",
        "        (d.head || d.body).appendChild(s);\n",
        "    })();\n",
        "</script>\n",
        "<noscript>Please enable JavaScript to view the <a href=\"https://disqus.com/?ref_noscript\" rel=\"nofollow\">comments powered by Disqus.</a></noscript>"
      ]
    }
  ]
}