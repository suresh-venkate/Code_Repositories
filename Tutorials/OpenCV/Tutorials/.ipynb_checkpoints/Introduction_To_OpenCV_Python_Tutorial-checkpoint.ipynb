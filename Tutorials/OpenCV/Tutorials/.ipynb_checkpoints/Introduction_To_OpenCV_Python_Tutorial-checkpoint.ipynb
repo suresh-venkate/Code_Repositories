{
 "cells": [
  {
   "cell_type": "markdown",
   "metadata": {},
   "source": [
    "# Introduction to OpenCV-Python Tutorials"
   ]
  },
  {
   "cell_type": "markdown",
   "metadata": {},
   "source": [
    "# OpenCV-Python\n",
    "\n",
    "* Compared to other languages like C/C++, Python is slower. But an important feature of Python is that it can be easily extended with C/C++. This feature helps us to write computationally intensive codes in C/C++ and create a Python wrapper for it so that we can use these wrappers as Python modules. This gives us two advantages: \n",
    "    * first, our code is as fast as original C/C++ code (since it is the actual C++ code working in background) and\n",
    "    * second, it is very easy to code in Python. \n",
    "    \n",
    "* This is how OpenCV-Python works, it is a Python wrapper around original C++ implementation.\n",
    "\n",
    "\n",
    "* Also, the support of Numpy makes the task more easier. Numpy is a highly optimized library for numerical operations. It gives a MATLAB-style syntax. All the OpenCV array structures are converted to-and-from Numpy arrays. So whatever operations we can do in Numpy, we can combine it with OpenCV, which increases number of weapons in our arsenal. Besides that, several other libraries like SciPy, Matplotlib which supports Numpy can also be used with this.\n",
    "* So OpenCV-Python is an appropriate tool for fast prototyping of computer vision problems"
   ]
  },
  {
   "cell_type": "markdown",
   "metadata": {},
   "source": [
    "# Import required libraries"
   ]
  },
  {
   "cell_type": "code",
   "execution_count": 21,
   "metadata": {},
   "outputs": [],
   "source": [
    "import cv2\n",
    "import sys\n",
    "import numpy as np\n",
    "import pandas as pd\n",
    "import matplotlib.pyplot as plt\n",
    "%matplotlib inline"
   ]
  },
  {
   "cell_type": "markdown",
   "metadata": {},
   "source": [
    "# Check Version of OpenCV"
   ]
  },
  {
   "cell_type": "code",
   "execution_count": 22,
   "metadata": {},
   "outputs": [
    {
     "name": "stdout",
     "output_type": "stream",
     "text": [
      "4.5.1\n"
     ]
    }
   ],
   "source": [
    "print(cv2.__version__)"
   ]
  },
  {
   "cell_type": "markdown",
   "metadata": {},
   "source": [
    "# Getting started with Images"
   ]
  },
  {
   "cell_type": "markdown",
   "metadata": {},
   "source": [
    "## Load images"
   ]
  },
  {
   "cell_type": "code",
   "execution_count": 23,
   "metadata": {},
   "outputs": [],
   "source": [
    "img_path = './Images/image_0001.jpg'\n",
    "img = cv2.imread(img_path)"
   ]
  },
  {
   "cell_type": "markdown",
   "metadata": {},
   "source": [
    "* A call to the cv::imread function loads the image using the file path specified by the first argument. The second argument is optional and specifies the format in which we want the image. This may be:\n",
    "\n",
    "    * IMREAD_COLOR loads the image in the BGR 8-bit format. This is the default that is used here.\n",
    "    * IMREAD_UNCHANGED loads the image as is (including the alpha channel if present)\n",
    "    * IMREAD_GRAYSCALE loads the image as an intensity one\n",
    "    \n",
    "\n",
    "\n",
    "* After reading in the image data will be stored in a cv::Mat object.\n",
    "\n",
    "\n",
    "* OpenCV offers support for the image formats \n",
    "    * Windows bitmap (bmp), \n",
    "    * portable image formats (pbm, pgm, ppm) and\n",
    "    * Sun raster (sr, ras). \n",
    "* With help of plugins, we may also load image formats like \n",
    "    * JPEG (jpeg, jpg, jpe), \n",
    "    * JPEG 2000 (jp2 - codenamed in the CMake as Jasper), \n",
    "    * TIFF files (tiff, tif) and \n",
    "    * portable network graphics (png). \n",
    "    * Furthermore, OpenEXR is also a possibility."
   ]
  },
  {
   "cell_type": "markdown",
   "metadata": {},
   "source": [
    "## Check if image has been loaded properly"
   ]
  },
  {
   "cell_type": "code",
   "execution_count": 24,
   "metadata": {},
   "outputs": [
    {
     "name": "stdout",
     "output_type": "stream",
     "text": [
      "Image loaded succesfully\n"
     ]
    }
   ],
   "source": [
    "if img is None:\n",
    "    sys.exit(\"Could not read the image.\")\n",
    "else:\n",
    "    print(\"Image loaded succesfully\")"
   ]
  },
  {
   "cell_type": "markdown",
   "metadata": {},
   "source": [
    "## Plot image"
   ]
  },
  {
   "cell_type": "markdown",
   "metadata": {},
   "source": [
    "The function cv2.imshow() is used to display an image in a window. The window automatically fits to the image size.\n",
    "\n",
    "First argument is a window name which is a string. second argument is our image. We can create as many windows as we wish, but with different window names.\n",
    "\n",
    "\n",
    "cv2.waitKey() is a keyboard binding function. Its argument is the time in milliseconds. The function waits for specified milliseconds for any keyboard event. If we press any key in that time, the program continues. If 0 is passed, it waits indefinitely for a key stroke.\n",
    "\n",
    "\n",
    "cv2.destroyAllWindows() simply destroys all the windows we created. If we want to destroy any specific window, use the function cv2.destroyWindow() where we pass the exact window name as the argument."
   ]
  },
  {
   "cell_type": "code",
   "execution_count": 25,
   "metadata": {},
   "outputs": [],
   "source": [
    "cv2.imshow('image',img) # Open window to display image\n",
    "cv2.waitKey(0) # Wait indefinitely for a key to be pressed\n",
    "cv2.destroyAllWindows() # Once key is pressed, destroy all windows"
   ]
  },
  {
   "cell_type": "markdown",
   "metadata": {},
   "source": [
    "There is a special case where we can create a window and load image to it later. In that case, we can specify whether window is resizable or not. It is done with the function cv2.namedWindow(). By default, the flag is cv2.WINDOW_AUTOSIZE. But if we specify flag to be cv2.WINDOW_NORMAL, we can resize the window. It will be helpful when image is too large in dimension and adding track bar to windows."
   ]
  },
  {
   "cell_type": "code",
   "execution_count": 27,
   "metadata": {},
   "outputs": [],
   "source": [
    "cv2.namedWindow('image', cv2.WINDOW_NORMAL)\n",
    "cv2.imshow('image', img)\n",
    "cv2.waitKey(0)\n",
    "cv2.destroyAllWindows()"
   ]
  },
  {
   "cell_type": "markdown",
   "metadata": {},
   "source": [
    "## Write image to file"
   ]
  },
  {
   "cell_type": "code",
   "execution_count": 18,
   "metadata": {
    "scrolled": true
   },
   "outputs": [
    {
     "data": {
      "text/plain": [
       "True"
      ]
     },
     "execution_count": 18,
     "metadata": {},
     "output_type": "execute_result"
    }
   ],
   "source": [
    "out_img_path = './Images/image_0001_bck.jpg'\n",
    "cv.imwrite(out_img_path, img)"
   ]
  }
 ],
 "metadata": {
  "kernelspec": {
   "display_name": "Python 3",
   "language": "python",
   "name": "python3"
  },
  "language_info": {
   "codemirror_mode": {
    "name": "ipython",
    "version": 3
   },
   "file_extension": ".py",
   "mimetype": "text/x-python",
   "name": "python",
   "nbconvert_exporter": "python",
   "pygments_lexer": "ipython3",
   "version": "3.8.5"
  },
  "toc": {
   "base_numbering": 1,
   "nav_menu": {},
   "number_sections": true,
   "sideBar": true,
   "skip_h1_title": false,
   "title_cell": "Table of Contents",
   "title_sidebar": "Contents",
   "toc_cell": false,
   "toc_position": {},
   "toc_section_display": true,
   "toc_window_display": true
  }
 },
 "nbformat": 4,
 "nbformat_minor": 4
}
