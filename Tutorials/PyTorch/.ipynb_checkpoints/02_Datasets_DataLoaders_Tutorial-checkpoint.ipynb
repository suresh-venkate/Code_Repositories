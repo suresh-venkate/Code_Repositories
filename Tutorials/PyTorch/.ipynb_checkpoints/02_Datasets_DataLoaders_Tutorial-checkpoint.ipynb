{
 "cells": [
  {
   "cell_type": "markdown",
   "metadata": {},
   "source": [
    "# Datasets and DataLoaders"
   ]
  },
  {
   "cell_type": "markdown",
   "metadata": {},
   "source": [
    "# Import required libraries"
   ]
  },
  {
   "cell_type": "code",
   "execution_count": 9,
   "metadata": {},
   "outputs": [],
   "source": [
    "import numpy as np\n",
    "import pandas as pd\n",
    "import matplotlib.pyplot as plt\n",
    "import os\n",
    "from tqdm import tqdm\n",
    "%matplotlib inline\n",
    "\n",
    "import torch\n",
    "from torch.utils.data import Dataset\n",
    "from torch.utils.data import DataLoader\n",
    "from torchvision import datasets\n",
    "from torchvision.transforms import ToTensor, Lambda\n",
    "from torchvision.io import read_image"
   ]
  },
  {
   "cell_type": "markdown",
   "metadata": {},
   "source": [
    "# Introduction\n",
    "\n",
    "Code for processing data samples can get messy and hard to maintain; we ideally want our dataset code to be decoupled from our model training code for better readability and modularity. PyTorch provides two data primitives: ``torch.utils.data.DataLoader`` and ``torch.utils.data.Dataset`` that allow us to use pre-loaded datasets as well as our own data.\n",
    "\n",
    "\n",
    "``Dataset`` stores the samples and their corresponding labels, and ``DataLoader`` wraps an iterable around the ``Dataset`` to enable easy access to the samples.\n",
    "\n",
    "\n",
    "PyTorch domain libraries provide a number of pre-loaded datasets (such as FashionMNIST) that \n",
    "subclass ``torch.utils.data.Dataset`` and implement functions specific to the particular data.\n",
    "They can be used to prototype and benchmark oour model. We can find them here: \n",
    "* [`Image Datasets`](https://pytorch.org/vision/stable/datasets.html)\n",
    "* [`Text Datasets`](https://pytorch.org/text/stable/index.html)\n",
    "* [`Audio Datasets`](https://pytorch.org/audio/stable/index.html)"
   ]
  },
  {
   "cell_type": "markdown",
   "metadata": {},
   "source": [
    "# Datasets"
   ]
  },
  {
   "cell_type": "markdown",
   "metadata": {},
   "source": [
    "## Loading a Dataset\n",
    "\n",
    "Here is an example of how to load the [`Fashion-MNIST dataset`](https://research.zalando.com/welcome/mission/research-projects/fashion-mnist) from TorchVision. Fashion-MNIST is a dataset of Zalando’s article images consisting of of 60,000 training examples and 10,000 test examples. Each example comprises a 28×28 grayscale image and an associated label from one of 10 classes.\n",
    "\n",
    "We load the [`FashionMNIST Dataset`](https://pytorch.org/vision/stable/datasets.html#fashion-mnist) with the following parameters:\n",
    " - ``root`` is the path where the train/test data is stored,\n",
    " - ``train`` specifies training or test dataset,\n",
    " - ``download=True`` downloads the data from the internet if it's not available at ``root``.\n",
    " - ``transform`` and ``target_transform`` specify the feature and label transformations\n",
    "\n"
   ]
  },
  {
   "cell_type": "code",
   "execution_count": 2,
   "metadata": {},
   "outputs": [],
   "source": [
    "dataset_path = os.path.normpath(r'C:\\User_Directories\\Sync_With_NAS\\Users\\suresh\\work\\Juypter_Notebook\\Datasets\\Image_Datasets\\Pytorch_Datasets')"
   ]
  },
  {
   "cell_type": "code",
   "execution_count": 3,
   "metadata": {
    "scrolled": true
   },
   "outputs": [
    {
     "name": "stdout",
     "output_type": "stream",
     "text": [
      "Type of training_data is <class 'torchvision.datasets.mnist.FashionMNIST'>\n",
      "Type of test_data is <class 'torchvision.datasets.mnist.FashionMNIST'>\n",
      "\n",
      "Dataset FashionMNIST\n",
      "    Number of datapoints: 60000\n",
      "    Root location: C:\\User_Directories\\Sync_With_NAS\\Users\\suresh\\work\\Juypter_Notebook\\Datasets\\Image_Datasets\\Pytorch_Datasets\n",
      "    Split: Train\n",
      "    StandardTransform\n",
      "Transform: ToTensor()\n",
      "\n",
      "Dataset FashionMNIST\n",
      "    Number of datapoints: 10000\n",
      "    Root location: C:\\User_Directories\\Sync_With_NAS\\Users\\suresh\\work\\Juypter_Notebook\\Datasets\\Image_Datasets\\Pytorch_Datasets\n",
      "    Split: Test\n",
      "    StandardTransform\n",
      "Transform: ToTensor()\n"
     ]
    }
   ],
   "source": [
    "training_data = datasets.FashionMNIST(root = dataset_path, train = True, download = True,\\\n",
    "                                      transform = ToTensor())\n",
    "\n",
    "test_data = datasets.FashionMNIST(root = dataset_path, train = False, download = True,\\\n",
    "                                  transform = ToTensor())\n",
    "\n",
    "print(f\"Type of training_data is {type(training_data)}\")\n",
    "print(f\"Type of test_data is {type(test_data)}\")\n",
    "print()\n",
    "print(training_data)\n",
    "print()\n",
    "print(test_data)"
   ]
  },
  {
   "cell_type": "code",
   "execution_count": 4,
   "metadata": {},
   "outputs": [
    {
     "name": "stdout",
     "output_type": "stream",
     "text": [
      "Number of samples in training_data is 60000\n",
      "Number of samples in test_data is 10000\n"
     ]
    }
   ],
   "source": [
    "print(f\"Number of samples in training_data is {len(training_data)}\")\n",
    "print(f\"Number of samples in test_data is {len(test_data)}\")"
   ]
  },
  {
   "cell_type": "markdown",
   "metadata": {},
   "source": [
    "## Iterating and Visualizing the Dataset\n",
    "\n",
    "We can index ``Datasets`` manually like a list: ``training_data[index]``. "
   ]
  },
  {
   "cell_type": "code",
   "execution_count": 5,
   "metadata": {
    "scrolled": true
   },
   "outputs": [
    {
     "name": "stdout",
     "output_type": "stream",
     "text": [
      "Type of training_data is <class 'tuple'>\n",
      "Length of first entry of training_data is 2\n",
      "Type of first element of tuple is <class 'torch.Tensor'>\n",
      "Type of second element of tuple is <class 'int'>\n",
      "\n",
      "Shape of first element of tuple is torch.Size([1, 28, 28])\n",
      "Value of second element of tuple is 9\n"
     ]
    }
   ],
   "source": [
    "ind = 0 # First entry in training_data\n",
    "print(f\"Type of training_data is {type(training_data[0])}\")\n",
    "print(f\"Length of first entry of training_data is {len(training_data[0])}\")\n",
    "print(f\"Type of first element of tuple is {type(training_data[0][0])}\")\n",
    "print(f\"Type of second element of tuple is {type(training_data[0][1])}\")\n",
    "print()\n",
    "print(f\"Shape of first element of tuple is {training_data[0][0].shape}\")\n",
    "print(f\"Value of second element of tuple is {training_data[0][1]}\")"
   ]
  },
  {
   "cell_type": "markdown",
   "metadata": {},
   "source": [
    "## Get mapping from classes to class labels"
   ]
  },
  {
   "cell_type": "code",
   "execution_count": 6,
   "metadata": {
    "scrolled": true
   },
   "outputs": [
    {
     "data": {
      "text/plain": [
       "{0: 'T-Shirt',\n",
       " 1: 'Trouser',\n",
       " 2: 'Pullover',\n",
       " 3: 'Dress',\n",
       " 4: 'Coat',\n",
       " 5: 'Sandal',\n",
       " 6: 'Shirt',\n",
       " 7: 'Sneaker',\n",
       " 8: 'Bag',\n",
       " 9: 'Ankle Boot'}"
      ]
     },
     "metadata": {},
     "output_type": "display_data"
    }
   ],
   "source": [
    "# Dictionary to map classes to class labels\n",
    "labels_map = {\n",
    "    0: \"T-Shirt\",\n",
    "    1: \"Trouser\",\n",
    "    2: \"Pullover\",\n",
    "    3: \"Dress\",\n",
    "    4: \"Coat\",\n",
    "    5: \"Sandal\",\n",
    "    6: \"Shirt\",\n",
    "    7: \"Sneaker\",\n",
    "    8: \"Bag\",\n",
    "    9: \"Ankle Boot\",\n",
    "}\n",
    "\n",
    "display(labels_map)"
   ]
  },
  {
   "cell_type": "markdown",
   "metadata": {},
   "source": [
    "## Plot some random samples along with labels"
   ]
  },
  {
   "cell_type": "code",
   "execution_count": 7,
   "metadata": {},
   "outputs": [
    {
     "data": {
      "image/png": "[encoded data removed]",
      "text/plain": [
       "<Figure size 576x576 with 9 Axes>"
      ]
     },
     "metadata": {
      "needs_background": "light"
     },
     "output_type": "display_data"
    }
   ],
   "source": [
    "# Plot nine random samples from training set\n",
    "figure = plt.figure(figsize=(8, 8))\n",
    "cols, rows = 3, 3 # 3 x 3 grid for plotting images\n",
    "for i in range(1, cols * rows + 1): # Iterate from 1 to 9\n",
    "    # Generate a random sample index from training_data\n",
    "    sample_idx = torch.randint(len(training_data), size=(1,)).item()\n",
    "    # Extract image and label from training_data corresponding to sample_idx\n",
    "    img, label = training_data[sample_idx]\n",
    "    figure.add_subplot(rows, cols, i)\n",
    "    plt.title(labels_map[label])\n",
    "    plt.axis(\"off\")\n",
    "    plt.imshow(img.squeeze(), cmap = \"gray\")\n",
    "plt.show()"
   ]
  },
  {
   "cell_type": "markdown",
   "metadata": {},
   "source": [
    "## Creating a Custom Dataset\n",
    "\n",
    "A custom Dataset class must implement three functions: `__init__`, `__len__`, and `__getitem__`. \n",
    "\n",
    "Consider the following implementation where the images are stored in a directory ``img_dir``, and their labels are stored separately in a CSV file ``annotations_file``. \n",
    "\n",
    "The annotations_file (labels.csv) looks like this:\n",
    "\n",
    "    * tshirt1.jpg, 0\n",
    "    * tshirt2.jpg, 0\n",
    "    * ......\n",
    "    * ankleboot999.jpg, 9"
   ]
  },
  {
   "cell_type": "markdown",
   "metadata": {},
   "source": [
    "### Define CustomImageDataset class"
   ]
  },
  {
   "cell_type": "code",
   "execution_count": 8,
   "metadata": {},
   "outputs": [],
   "source": [
    "class CustomImageDataset(Dataset): # Custom Dataset class subclassing Dataset class\n",
    "    \n",
    "    def __init__(self, annotations_file, img_dir, transform = None, target_transform = None):\n",
    "        # self.img_labels -> Pandas dataframe containing labels from annotations_file\n",
    "        self.img_labels = pd.read_csv(annotations_file) \n",
    "        # self.img_dir -> Set to path img_dir containing image files\n",
    "        self.img_dir = img_dir\n",
    "        # self.transform -> Transform for images\n",
    "        self.transform = transform\n",
    "        # self.target_transform -> Transform for target labels\n",
    "        self.target_transform = target_transform\n",
    "\n",
    "    def __len__(self):\n",
    "        # Returns the number of samples in the dataset\n",
    "        return len(self.img_labels)\n",
    "\n",
    "    def __getitem__(self, idx):\n",
    "        # Define path of image file at location idx\n",
    "        img_path = os.path.join(self.img_dir, self.img_labels.iloc[idx, 0])\n",
    "        # Read image from img_path\n",
    "        image = read_image(img_path)\n",
    "        # Read label at location idx\n",
    "        label = self.img_labels.iloc[idx, 1]\n",
    "        # Transform input image\n",
    "        if self.transform:\n",
    "            image = self.transform(image)\n",
    "        # Transform label\n",
    "        if self.target_transform:\n",
    "            label = self.target_transform(label)\n",
    "        # Create dictionary containing image and label\n",
    "        sample = {\"image\": image, \"label\": label}\n",
    "        \n",
    "        return sample"
   ]
  },
  {
   "cell_type": "markdown",
   "metadata": {},
   "source": [
    "# DataLoaders"
   ]
  },
  {
   "cell_type": "markdown",
   "metadata": {},
   "source": [
    "## Preparing our data for training with DataLoaders\n",
    "\n",
    "The ``Dataset`` retrieves our dataset's features and labels one sample at a time. While training a model, we typically want to \n",
    "pass samples in \"minibatches\", reshuffle the data at every epoch to reduce model overfitting, and use Python's ``multiprocessing`` to\n",
    "speed up data retrieval.\n",
    "\n",
    "``DataLoader`` is an iterable that abstracts this complexity for us in an easy API."
   ]
  },
  {
   "cell_type": "code",
   "execution_count": 13,
   "metadata": {},
   "outputs": [
    {
     "name": "stdout",
     "output_type": "stream",
     "text": [
      "Type of train_dataloader is <class 'torch.utils.data.dataloader.DataLoader'>\n",
      "Type of test_dataloader is <class 'torch.utils.data.dataloader.DataLoader'>\n"
     ]
    }
   ],
   "source": [
    "train_dataloader = DataLoader(training_data, batch_size = 64, shuffle = True)\n",
    "test_dataloader = DataLoader(test_data, batch_size = 64, shuffle = True)\n",
    "print(f\"Type of train_dataloader is {type(train_dataloader)}\")\n",
    "print(f\"Type of test_dataloader is {type(test_dataloader)}\")"
   ]
  },
  {
   "cell_type": "markdown",
   "metadata": {},
   "source": [
    "## Iterate through the DataLoader\n",
    "\n",
    "We have loaded the dataset into the ``Dataloader`` and can iterate through the dataset as needed.\n",
    "Each iteration below returns a batch of ``train_features`` and ``train_labels``(containing ``batch_size=64`` features and labels respectively).\n",
    "\n",
    "\n",
    "Because we specified ``shuffle=True``, after we iterate over all batches the data is shuffled (for finer-grained control over the data loading order, take a look at [`Samplers`](https://pytorch.org/docs/stable/data.html#data-loading-order-and-sampler)."
   ]
  },
  {
   "cell_type": "code",
   "execution_count": 22,
   "metadata": {
    "scrolled": true
   },
   "outputs": [
    {
     "name": "stdout",
     "output_type": "stream",
     "text": [
      "Feature batch shape: torch.Size([64, 1, 28, 28])\n",
      "Labels batch shape: torch.Size([64])\n"
     ]
    },
    {
     "data": {
      "image/png": "[encoded data removed]",
      "text/plain": [
       "<Figure size 432x288 with 1 Axes>"
      ]
     },
     "metadata": {
      "needs_background": "light"
     },
     "output_type": "display_data"
    }
   ],
   "source": [
    "# Display image and label.\n",
    "train_features, train_labels = next(iter(train_dataloader))\n",
    "print(f\"Feature batch shape: {train_features.size()}\")\n",
    "print(f\"Labels batch shape: {train_labels.size()}\")\n",
    "img = train_features[0].squeeze()\n",
    "label = train_labels[0]\n",
    "plt.imshow(img, cmap = \"gray\")\n",
    "plt.title(labels_map[label.item()])\n",
    "plt.show()"
   ]
  },
  {
   "cell_type": "markdown",
   "metadata": {},
   "source": [
    "# Further Reading\n",
    "\n",
    "- [`torch.utils.data API`](https://pytorch.org/docs/stable/data.html)"
   ]
  }
 ],
 "metadata": {
  "kernelspec": {
   "display_name": "Python 3",
   "language": "python",
   "name": "python3"
  },
  "language_info": {
   "codemirror_mode": {
    "name": "ipython",
    "version": 3
   },
   "file_extension": ".py",
   "mimetype": "text/x-python",
   "name": "python",
   "nbconvert_exporter": "python",
   "pygments_lexer": "ipython3",
   "version": "3.8.5"
  },
  "toc": {
   "base_numbering": 1,
   "nav_menu": {},
   "number_sections": true,
   "sideBar": true,
   "skip_h1_title": false,
   "title_cell": "Table of Contents",
   "title_sidebar": "Contents",
   "toc_cell": false,
   "toc_position": {},
   "toc_section_display": true,
   "toc_window_display": true
  }
 },
 "nbformat": 4,
 "nbformat_minor": 1
}
