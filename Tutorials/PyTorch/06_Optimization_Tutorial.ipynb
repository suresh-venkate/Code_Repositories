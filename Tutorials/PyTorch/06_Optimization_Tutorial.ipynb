{
 "cells": [
  {
   "cell_type": "markdown",
   "metadata": {},
   "source": [
    "# Optimization Tutorial"
   ]
  },
  {
   "cell_type": "markdown",
   "metadata": {},
   "source": [
    "# Import required libraries"
   ]
  },
  {
   "cell_type": "code",
   "execution_count": 1,
   "metadata": {},
   "outputs": [],
   "source": [
    "import numpy as np\n",
    "import pandas as pd\n",
    "import matplotlib.pyplot as plt\n",
    "import os\n",
    "%matplotlib inline\n",
    "\n",
    "import torch\n",
    "from torch import nn\n",
    "from torch.utils.data import DataLoader\n",
    "from torchvision import datasets\n",
    "from torchvision.transforms import ToTensor, Lambda\n",
    "\n",
    "from torchsummary import summary"
   ]
  },
  {
   "cell_type": "markdown",
   "metadata": {},
   "source": [
    "# Optimizing Model Parameters\n",
    "\n",
    "Once we have a model and data it's time to train, validate and test our model by optimizing its parameters on our data. Training a model is an iterative process; in each iteration (called an *epoch*) the model makes a guess about the output, calculates the error in its guess (*loss*), collects the derivatives of the error with respect to its parameters, and **optimizes** these parameters using gradient descent. "
   ]
  },
  {
   "cell_type": "markdown",
   "metadata": {},
   "source": [
    "# Load dataset"
   ]
  },
  {
   "cell_type": "code",
   "execution_count": 2,
   "metadata": {},
   "outputs": [
    {
     "name": "stdout",
     "output_type": "stream",
     "text": [
      "Dataset FashionMNIST\n",
      "    Number of datapoints: 60000\n",
      "    Root location: E:\\Sync_With_NAS_Ext\\Datasets\\Image_Datasets\\Pytorch_Datasets\n",
      "    Split: Train\n",
      "    StandardTransform\n",
      "Transform: ToTensor()\n",
      "\n",
      "Dataset FashionMNIST\n",
      "    Number of datapoints: 10000\n",
      "    Root location: E:\\Sync_With_NAS_Ext\\Datasets\\Image_Datasets\\Pytorch_Datasets\n",
      "    Split: Test\n",
      "    StandardTransform\n",
      "Transform: ToTensor()\n"
     ]
    }
   ],
   "source": [
    "# Define dataset path\n",
    "dataset_path = os.path.normpath(r'E:\\Sync_With_NAS_Ext\\Datasets\\Image_Datasets\\Pytorch_Datasets')\n",
    "\n",
    "# Load training and test data\n",
    "training_data = datasets.FashionMNIST(root = dataset_path, train = True, download = False,\\\n",
    "                                      transform = ToTensor())\n",
    "\n",
    "test_data = datasets.FashionMNIST(root = dataset_path, train = False, download = False,\\\n",
    "                                  transform = ToTensor())\n",
    "\n",
    "print(training_data)\n",
    "print()\n",
    "print(test_data)"
   ]
  },
  {
   "cell_type": "code",
   "execution_count": 3,
   "metadata": {},
   "outputs": [],
   "source": [
    "# Create dataloader objects\n",
    "train_dataloader = DataLoader(training_data, batch_size = 64)\n",
    "test_dataloader = DataLoader(test_data, batch_size = 64)"
   ]
  },
  {
   "cell_type": "code",
   "execution_count": 12,
   "metadata": {},
   "outputs": [
    {
     "data": {
      "text/plain": [
       "60000"
      ]
     },
     "execution_count": 12,
     "metadata": {},
     "output_type": "execute_result"
    }
   ],
   "source": [
    "size = len(train_dataloader.dataset)\n",
    "size"
   ]
  },
  {
   "cell_type": "markdown",
   "metadata": {},
   "source": [
    "# Define NN architecture"
   ]
  },
  {
   "cell_type": "code",
   "execution_count": 4,
   "metadata": {},
   "outputs": [],
   "source": [
    "class NeuralNetwork(nn.Module):\n",
    "    def __init__(self):\n",
    "        super(NeuralNetwork, self).__init__()\n",
    "        self.flatten = nn.Flatten()\n",
    "        self.linear_relu_stack = nn.Sequential(\n",
    "            nn.Linear(28*28, 512),\n",
    "            nn.ReLU(),\n",
    "            nn.Linear(512, 512),\n",
    "            nn.ReLU(),\n",
    "            nn.Linear(512, 10),\n",
    "            nn.ReLU()\n",
    "        )\n",
    "\n",
    "    def forward(self, x):\n",
    "        x = self.flatten(x)\n",
    "        logits = self.linear_relu_stack(x)\n",
    "        return logits"
   ]
  },
  {
   "cell_type": "code",
   "execution_count": 5,
   "metadata": {},
   "outputs": [
    {
     "name": "stdout",
     "output_type": "stream",
     "text": [
      "Using cpu device\n"
     ]
    }
   ],
   "source": [
    "# Check GPU availability\n",
    "device = 'cuda' if torch.cuda.is_available() else 'cpu'\n",
    "print('Using {} device'.format(device))"
   ]
  },
  {
   "cell_type": "code",
   "execution_count": 6,
   "metadata": {
    "scrolled": false
   },
   "outputs": [
    {
     "name": "stdout",
     "output_type": "stream",
     "text": [
      "----------------------------------------------------------------\n",
      "        Layer (type)               Output Shape         Param #\n",
      "================================================================\n",
      "           Flatten-1                  [-1, 784]               0\n",
      "            Linear-2                  [-1, 512]         401,920\n",
      "              ReLU-3                  [-1, 512]               0\n",
      "            Linear-4                  [-1, 512]         262,656\n",
      "              ReLU-5                  [-1, 512]               0\n",
      "            Linear-6                   [-1, 10]           5,130\n",
      "              ReLU-7                   [-1, 10]               0\n",
      "================================================================\n",
      "Total params: 669,706\n",
      "Trainable params: 669,706\n",
      "Non-trainable params: 0\n",
      "----------------------------------------------------------------\n",
      "Input size (MB): 0.00\n",
      "Forward/backward pass size (MB): 0.02\n",
      "Params size (MB): 2.55\n",
      "Estimated Total Size (MB): 2.58\n",
      "----------------------------------------------------------------\n",
      "None\n"
     ]
    }
   ],
   "source": [
    "model = NeuralNetwork().to(device)\n",
    "print(summary(model, input_size = (1, 28, 28)))"
   ]
  },
  {
   "cell_type": "code",
   "execution_count": 7,
   "metadata": {},
   "outputs": [
    {
     "data": {
      "text/plain": [
       "<generator object Module.parameters at 0x000001A7CC0A3DD0>"
      ]
     },
     "execution_count": 7,
     "metadata": {},
     "output_type": "execute_result"
    }
   ],
   "source": [
    "model.parameters()"
   ]
  },
  {
   "cell_type": "markdown",
   "metadata": {},
   "source": [
    "# Hyperparameters \n",
    "\n",
    "Hyperparameters are adjustable parameters that let us control the model optimization process. Different hyperparameter values can impact model training and convergence rates ([`read more`](https://pytorch.org/tutorials/beginner/hyperparameter_tuning_tutorial.html) about hyperparameter tuning)\n",
    "\n",
    "We define the following hyperparameters for training:\n",
    " - **Number of Epochs** - the number times to iterate over the dataset\n",
    " - **Batch Size** - the number of data samples seen by the model in each epoch\n",
    " - **Learning Rate** - how much to update models parameters at each batch/epoch. Smaller values yield slow learning speed, while large values may result in unpredictable behavior during training."
   ]
  },
  {
   "cell_type": "code",
   "execution_count": 8,
   "metadata": {},
   "outputs": [],
   "source": [
    "learning_rate = 1e-3\n",
    "batch_size = 64\n",
    "epochs = 5"
   ]
  },
  {
   "cell_type": "markdown",
   "metadata": {},
   "source": [
    "# Optimization Loop\n",
    "\n",
    "\n",
    "Once we set our hyperparameters, we can then train and optimize our model with an optimization loop. Each iteration of the optimization loop is called an **epoch**. \n",
    "\n",
    "Each epoch consists of two main parts:\n",
    " - **The Train Loop** - iterate over the training dataset and try to converge to optimal parameters.\n",
    " - **The Validation/Test Loop** - iterate over the test dataset to check if model performance is improving."
   ]
  },
  {
   "cell_type": "markdown",
   "metadata": {},
   "source": [
    "## Common Loss Functions\n",
    "\n",
    "Common loss functions include:\n",
    "\n",
    "* [`nn.MSELoss`](https://pytorch.org/docs/stable/generated/torch.nn.MSELoss.html#torch.nn.MSELoss) (Mean Square Error) for regression tasks,\n",
    "* [`nn.NLLLoss`](https://pytorch.org/docs/stable/generated/torch.nn.NLLLoss.html#torch.nn.NLLLoss)(Negative Log Likelihood) for classification. \n",
    "* [`nn.CrossEntropyLoss`](https://pytorch.org/docs/stable/generated/torch.nn.CrossEntropyLoss.html#torch.nn.CrossEntropyLoss)combines ``nn.LogSoftmax`` and ``nn.NLLLoss``.\n",
    "\n",
    "We pass our model's output logits to ``nn.CrossEntropyLoss``, which will normalize the logits and compute the prediction error."
   ]
  },
  {
   "cell_type": "code",
   "execution_count": 9,
   "metadata": {},
   "outputs": [],
   "source": [
    "# Initialize the loss function\n",
    "loss_fn = nn.CrossEntropyLoss()"
   ]
  },
  {
   "cell_type": "markdown",
   "metadata": {},
   "source": [
    "## Optimizer\n",
    "\n",
    "All optimization logic is encapsulated in  the ``optimizer`` object. Here, we use the SGD optimizer; additionally, there are many [`different optimizers`](https://pytorch.org/docs/stable/optim.html)\n",
    "available in PyTorch such as ADAM and RMSProp, that work better for different kinds of models and data.\n",
    "\n",
    "We initialize the optimizer by registering the model's parameters that need to be trained, and passing in the learning rate hyperparameter."
   ]
  },
  {
   "cell_type": "code",
   "execution_count": 10,
   "metadata": {},
   "outputs": [],
   "source": [
    "optimizer = torch.optim.SGD(model.parameters(), lr = learning_rate)"
   ]
  },
  {
   "cell_type": "markdown",
   "metadata": {},
   "source": [
    "Inside the training loop, optimization happens in three steps:\n",
    " * Call ``optimizer.zero_grad()`` to reset the gradients of model parameters. Gradients by default add up; to prevent double-counting, we explicitly zero them at each iteration.\n",
    " * Backpropagate the prediction loss with a call to ``loss.backwards()``. PyTorch deposits the gradients of the loss w.r.t. each parameter. \n",
    " * Once we have our gradients, we call ``optimizer.step()`` to adjust the parameters by the gradients collected in the backward pass.  \n",
    "\n"
   ]
  },
  {
   "cell_type": "markdown",
   "metadata": {},
   "source": [
    "\n",
    "# Define training and testing loops\n",
    "\n",
    "We define a ``train_loop`` that loops over our optimization code, and a ``test_loop`` that evaluates the model's performance against our test data."
   ]
  },
  {
   "cell_type": "markdown",
   "metadata": {},
   "source": [
    "## Function: train_loop"
   ]
  },
  {
   "cell_type": "code",
   "execution_count": 13,
   "metadata": {},
   "outputs": [],
   "source": [
    "def train_loop(dataloader, model, loss_fn, optimizer):\n",
    "    \n",
    "    size = len(dataloader.dataset) # Get size of training dataset\n",
    "    for batch, (X, y) in enumerate(dataloader):  \n",
    "        pred = model(X) # Forward-prop current batch through model\n",
    "        loss = loss_fn(pred, y) # Obtain loss\n",
    "        optimizer.zero_grad() # Reset gradients\n",
    "        loss.backward() # Back-prop to compute gradients\n",
    "        optimizer.step() # Update weights\n",
    "\n",
    "        if batch % 100 == 0: # Print loss every 100 batches\n",
    "            loss, current = loss.item(), batch * len(X)\n",
    "            print(f\"loss: {loss:>7f}  [{current:>5d}/{size:>5d}]\")"
   ]
  },
  {
   "cell_type": "markdown",
   "metadata": {},
   "source": [
    "## Verify function: train_loop"
   ]
  },
  {
   "cell_type": "code",
   "execution_count": 14,
   "metadata": {},
   "outputs": [
    {
     "name": "stdout",
     "output_type": "stream",
     "text": [
      "loss: 2.307014  [    0/60000]\n",
      "loss: 2.299311  [ 6400/60000]\n",
      "loss: 2.280263  [12800/60000]\n",
      "loss: 2.270778  [19200/60000]\n",
      "loss: 2.270881  [25600/60000]\n",
      "loss: 2.238405  [32000/60000]\n",
      "loss: 2.256702  [38400/60000]\n",
      "loss: 2.232326  [44800/60000]\n",
      "loss: 2.224266  [51200/60000]\n",
      "loss: 2.195883  [57600/60000]\n"
     ]
    }
   ],
   "source": [
    "loss_fn = nn.CrossEntropyLoss()\n",
    "optimizer = torch.optim.SGD(model.parameters(), lr=learning_rate)\n",
    "train_loop(train_dataloader, model, loss_fn, optimizer)"
   ]
  },
  {
   "cell_type": "markdown",
   "metadata": {},
   "source": [
    "## Function: test_loop"
   ]
  },
  {
   "cell_type": "code",
   "execution_count": 16,
   "metadata": {},
   "outputs": [],
   "source": [
    "def test_loop(dataloader, model, loss_fn):\n",
    "    \n",
    "    size = len(dataloader.dataset) # Get size of test set\n",
    "    test_loss, correct = 0, 0\n",
    "\n",
    "    with torch.no_grad(): # Turn off gradient computation to save memory\n",
    "        for X, y in dataloader: # Iterate through dataloader\n",
    "            pred = model(X) # Forward prop current batch through model\n",
    "            test_loss += loss_fn(pred, y).item() # Update test loss\n",
    "            correct += (pred.argmax(1) == y).type(torch.float).sum().item() # Update # correct preds\n",
    "            \n",
    "    test_loss /= size # Obtain averaged test_loss\n",
    "    correct /= size # Obtain accuracy\n",
    "    print(f\"Test Error: \\n Accuracy: {(100*correct):>0.1f}%, Avg loss: {test_loss:>8f} \\n\")"
   ]
  },
  {
   "cell_type": "code",
   "execution_count": 17,
   "metadata": {},
   "outputs": [
    {
     "name": "stdout",
     "output_type": "stream",
     "text": [
      "Test Error: \n",
      " Accuracy: 42.4%, Avg loss: 0.034683 \n",
      "\n"
     ]
    }
   ],
   "source": [
    "test_loop(test_dataloader, model, loss_fn)"
   ]
  },
  {
   "cell_type": "markdown",
   "metadata": {},
   "source": [
    "## Train model"
   ]
  },
  {
   "cell_type": "code",
   "execution_count": 12,
   "metadata": {
    "scrolled": false
   },
   "outputs": [
    {
     "name": "stdout",
     "output_type": "stream",
     "text": [
      "Epoch 1\n",
      "-------------------------------\n",
      "loss: 2.302224  [    0/60000]\n",
      "loss: 2.304267  [ 6400/60000]\n",
      "loss: 2.288745  [12800/60000]\n",
      "loss: 2.293436  [19200/60000]\n",
      "loss: 2.278164  [25600/60000]\n",
      "loss: 2.247441  [32000/60000]\n",
      "loss: 2.273572  [38400/60000]\n",
      "loss: 2.239303  [44800/60000]\n",
      "loss: 2.239141  [51200/60000]\n",
      "loss: 2.245997  [57600/60000]\n",
      "Test Error: \n",
      " Accuracy: 33.6%, Avg loss: 0.035118 \n",
      "\n",
      "Epoch 2\n",
      "-------------------------------\n",
      "loss: 2.222526  [    0/60000]\n",
      "loss: 2.233642  [ 6400/60000]\n",
      "loss: 2.200502  [12800/60000]\n",
      "loss: 2.250954  [19200/60000]\n",
      "loss: 2.184314  [25600/60000]\n",
      "loss: 2.123712  [32000/60000]\n",
      "loss: 2.204641  [38400/60000]\n",
      "loss: 2.121464  [44800/60000]\n",
      "loss: 2.142696  [51200/60000]\n",
      "loss: 2.162368  [57600/60000]\n",
      "Test Error: \n",
      " Accuracy: 38.6%, Avg loss: 0.033609 \n",
      "\n",
      "Epoch 3\n",
      "-------------------------------\n",
      "loss: 2.108238  [    0/60000]\n",
      "loss: 2.128522  [ 6400/60000]\n",
      "loss: 2.069487  [12800/60000]\n",
      "loss: 2.187628  [19200/60000]\n",
      "loss: 2.040491  [25600/60000]\n",
      "loss: 1.945576  [32000/60000]\n",
      "loss: 2.108846  [38400/60000]\n",
      "loss: 1.956714  [44800/60000]\n",
      "loss: 2.010393  [51200/60000]\n",
      "loss: 2.063834  [57600/60000]\n",
      "Test Error: \n",
      " Accuracy: 39.8%, Avg loss: 0.031716 \n",
      "\n",
      "Epoch 4\n",
      "-------------------------------\n",
      "loss: 1.958740  [    0/60000]\n",
      "loss: 1.997545  [ 6400/60000]\n",
      "loss: 1.914014  [12800/60000]\n",
      "loss: 2.119573  [19200/60000]\n",
      "loss: 1.892422  [25600/60000]\n",
      "loss: 1.769217  [32000/60000]\n",
      "loss: 2.020892  [38400/60000]\n",
      "loss: 1.808222  [44800/60000]\n",
      "loss: 1.877571  [51200/60000]\n",
      "loss: 1.988103  [57600/60000]\n",
      "Test Error: \n",
      " Accuracy: 41.3%, Avg loss: 0.030091 \n",
      "\n",
      "Epoch 5\n",
      "-------------------------------\n",
      "loss: 1.816572  [    0/60000]\n",
      "loss: 1.884328  [ 6400/60000]\n",
      "loss: 1.784602  [12800/60000]\n",
      "loss: 2.065091  [19200/60000]\n",
      "loss: 1.784233  [25600/60000]\n",
      "loss: 1.641283  [32000/60000]\n",
      "loss: 1.949671  [38400/60000]\n",
      "loss: 1.701787  [44800/60000]\n",
      "loss: 1.770683  [51200/60000]\n",
      "loss: 1.930241  [57600/60000]\n",
      "Test Error: \n",
      " Accuracy: 43.0%, Avg loss: 0.028858 \n",
      "\n",
      "Epoch 6\n",
      "-------------------------------\n",
      "loss: 1.707366  [    0/60000]\n",
      "loss: 1.797221  [ 6400/60000]\n",
      "loss: 1.689374  [12800/60000]\n",
      "loss: 2.023429  [19200/60000]\n",
      "loss: 1.705748  [25600/60000]\n",
      "loss: 1.554362  [32000/60000]\n",
      "loss: 1.894902  [38400/60000]\n",
      "loss: 1.630174  [44800/60000]\n",
      "loss: 1.693657  [51200/60000]\n",
      "loss: 1.885194  [57600/60000]\n",
      "Test Error: \n",
      " Accuracy: 44.1%, Avg loss: 0.027921 \n",
      "\n",
      "Epoch 7\n",
      "-------------------------------\n",
      "loss: 1.631592  [    0/60000]\n",
      "loss: 1.732692  [ 6400/60000]\n",
      "loss: 1.618352  [12800/60000]\n",
      "loss: 1.987922  [19200/60000]\n",
      "loss: 1.646474  [25600/60000]\n",
      "loss: 1.492360  [32000/60000]\n",
      "loss: 1.852408  [38400/60000]\n",
      "loss: 1.577928  [44800/60000]\n",
      "loss: 1.636688  [51200/60000]\n",
      "loss: 1.850533  [57600/60000]\n",
      "Test Error: \n",
      " Accuracy: 44.8%, Avg loss: 0.027177 \n",
      "\n",
      "Epoch 8\n",
      "-------------------------------\n",
      "loss: 1.576847  [    0/60000]\n",
      "loss: 1.684317  [ 6400/60000]\n",
      "loss: 1.562154  [12800/60000]\n",
      "loss: 1.956722  [19200/60000]\n",
      "loss: 1.602268  [25600/60000]\n",
      "loss: 1.446034  [32000/60000]\n",
      "loss: 1.819847  [38400/60000]\n",
      "loss: 1.537776  [44800/60000]\n",
      "loss: 1.593192  [51200/60000]\n",
      "loss: 1.824688  [57600/60000]\n",
      "Test Error: \n",
      " Accuracy: 45.6%, Avg loss: 0.026588 \n",
      "\n",
      "Epoch 9\n",
      "-------------------------------\n",
      "loss: 1.535102  [    0/60000]\n",
      "loss: 1.646738  [ 6400/60000]\n",
      "loss: 1.516689  [12800/60000]\n",
      "loss: 1.932459  [19200/60000]\n",
      "loss: 1.569907  [25600/60000]\n",
      "loss: 1.410869  [32000/60000]\n",
      "loss: 1.793489  [38400/60000]\n",
      "loss: 1.504951  [44800/60000]\n",
      "loss: 1.557674  [51200/60000]\n",
      "loss: 1.805522  [57600/60000]\n",
      "Test Error: \n",
      " Accuracy: 46.3%, Avg loss: 0.026122 \n",
      "\n",
      "Epoch 10\n",
      "-------------------------------\n",
      "loss: 1.500858  [    0/60000]\n",
      "loss: 1.614924  [ 6400/60000]\n",
      "loss: 1.478463  [12800/60000]\n",
      "loss: 1.911702  [19200/60000]\n",
      "loss: 1.545019  [25600/60000]\n",
      "loss: 1.381947  [32000/60000]\n",
      "loss: 1.771195  [38400/60000]\n",
      "loss: 1.478360  [44800/60000]\n",
      "loss: 1.527453  [51200/60000]\n",
      "loss: 1.789655  [57600/60000]\n",
      "Test Error: \n",
      " Accuracy: 47.0%, Avg loss: 0.025725 \n",
      "\n",
      "Done!\n"
     ]
    }
   ],
   "source": [
    "loss_fn = nn.CrossEntropyLoss()\n",
    "optimizer = torch.optim.SGD(model.parameters(), lr=learning_rate)\n",
    "\n",
    "epochs = 10\n",
    "for t in range(epochs):\n",
    "    print(f\"Epoch {t+1}\\n-------------------------------\")\n",
    "    train_loop(train_dataloader, model, loss_fn, optimizer)\n",
    "    test_loop(test_dataloader, model, loss_fn)\n",
    "print(\"Done!\")"
   ]
  },
  {
   "cell_type": "markdown",
   "metadata": {},
   "source": [
    "# Further Reading\n",
    "\n",
    "- [`Loss Functions`](https://pytorch.org/docs/stable/nn.html#loss-functions)\n",
    "- [`torch.optim`](https://pytorch.org/docs/stable/optim.html)\n",
    "- [`Warmstart`](https://pytorch.org/tutorials/recipes/recipes/warmstarting_model_using_parameters_from_a_different_model.html)"
   ]
  }
 ],
 "metadata": {
  "kernelspec": {
   "display_name": "Python 3",
   "language": "python",
   "name": "python3"
  },
  "language_info": {
   "codemirror_mode": {
    "name": "ipython",
    "version": 3
   },
   "file_extension": ".py",
   "mimetype": "text/x-python",
   "name": "python",
   "nbconvert_exporter": "python",
   "pygments_lexer": "ipython3",
   "version": "3.8.5"
  },
  "toc": {
   "base_numbering": 1,
   "nav_menu": {},
   "number_sections": true,
   "sideBar": true,
   "skip_h1_title": false,
   "title_cell": "Table of Contents",
   "title_sidebar": "Contents",
   "toc_cell": false,
   "toc_position": {
    "height": "calc(100% - 180px)",
    "left": "10px",
    "top": "150px",
    "width": "256px"
   },
   "toc_section_display": true,
   "toc_window_display": true
  }
 },
 "nbformat": 4,
 "nbformat_minor": 1
}
