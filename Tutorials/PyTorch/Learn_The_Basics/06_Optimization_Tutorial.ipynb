{
 "cells": [
  {
   "cell_type": "markdown",
   "metadata": {},
   "source": [
    "# Optimization Tutorial"
   ]
  },
  {
   "cell_type": "markdown",
   "metadata": {},
   "source": [
    "# Import required libraries"
   ]
  },
  {
   "cell_type": "code",
   "execution_count": 2,
   "metadata": {},
   "outputs": [],
   "source": [
    "import numpy as np\n",
    "import pandas as pd\n",
    "import matplotlib.pyplot as plt\n",
    "import os\n",
    "%matplotlib inline\n",
    "\n",
    "import torch\n",
    "from torch import nn\n",
    "from torch.utils.data import DataLoader\n",
    "from torchvision import datasets\n",
    "from torchvision.transforms import ToTensor, Lambda\n",
    "\n",
    "from torchsummary import summary"
   ]
  },
  {
   "cell_type": "markdown",
   "metadata": {},
   "source": [
    "# Optimizing Model Parameters\n",
    "\n",
    "Once we have a model and data it's time to train, validate and test our model by optimizing its parameters on our data. Training a model is an iterative process; in each iteration (called an *epoch*) the model makes a guess about the output, calculates the error in its guess (*loss*), collects the derivatives of the error with respect to its parameters, and **optimizes** these parameters using gradient descent. "
   ]
  },
  {
   "cell_type": "markdown",
   "metadata": {},
   "source": [
    "# Load dataset"
   ]
  },
  {
   "cell_type": "code",
   "execution_count": 3,
   "metadata": {},
   "outputs": [
    {
     "name": "stdout",
     "output_type": "stream",
     "text": [
      "Dataset FashionMNIST\n",
      "    Number of datapoints: 60000\n",
      "    Root location: E:\\Sync_With_NAS_Ext\\Datasets\\Image_Datasets\\Pytorch_Datasets\n",
      "    Split: Train\n",
      "    StandardTransform\n",
      "Transform: ToTensor()\n",
      "\n",
      "Dataset FashionMNIST\n",
      "    Number of datapoints: 10000\n",
      "    Root location: E:\\Sync_With_NAS_Ext\\Datasets\\Image_Datasets\\Pytorch_Datasets\n",
      "    Split: Test\n",
      "    StandardTransform\n",
      "Transform: ToTensor()\n"
     ]
    }
   ],
   "source": [
    "# Define dataset path\n",
    "dataset_path = os.path.normpath(r'E:\\Sync_With_NAS_Ext\\Datasets\\Image_Datasets\\Pytorch_Datasets')\n",
    "\n",
    "# Load training and test data\n",
    "training_data = datasets.FashionMNIST(root = dataset_path, train = True, download = False,\\\n",
    "                                      transform = ToTensor())\n",
    "\n",
    "test_data = datasets.FashionMNIST(root = dataset_path, train = False, download = False,\\\n",
    "                                  transform = ToTensor())\n",
    "\n",
    "print(training_data)\n",
    "print()\n",
    "print(test_data)"
   ]
  },
  {
   "cell_type": "code",
   "execution_count": 4,
   "metadata": {},
   "outputs": [],
   "source": [
    "# Create dataloader objects\n",
    "train_dataloader = DataLoader(training_data, batch_size = 64)\n",
    "test_dataloader = DataLoader(test_data, batch_size = 64)"
   ]
  },
  {
   "cell_type": "code",
   "execution_count": 5,
   "metadata": {},
   "outputs": [
    {
     "data": {
      "text/plain": [
       "60000"
      ]
     },
     "execution_count": 5,
     "metadata": {},
     "output_type": "execute_result"
    }
   ],
   "source": [
    "size = len(train_dataloader.dataset)\n",
    "size"
   ]
  },
  {
   "cell_type": "markdown",
   "metadata": {},
   "source": [
    "# Define NN architecture"
   ]
  },
  {
   "cell_type": "code",
   "execution_count": 6,
   "metadata": {},
   "outputs": [],
   "source": [
    "class NeuralNetwork(nn.Module):\n",
    "    def __init__(self):\n",
    "        super(NeuralNetwork, self).__init__()\n",
    "        self.flatten = nn.Flatten()\n",
    "        self.linear_relu_stack = nn.Sequential(\n",
    "            nn.Linear(28*28, 512),\n",
    "            nn.ReLU(),\n",
    "            nn.Linear(512, 512),\n",
    "            nn.ReLU(),\n",
    "            nn.Linear(512, 10),\n",
    "            nn.ReLU()\n",
    "        )\n",
    "\n",
    "    def forward(self, x):\n",
    "        x = self.flatten(x)\n",
    "        logits = self.linear_relu_stack(x)\n",
    "        return logits"
   ]
  },
  {
   "cell_type": "code",
   "execution_count": 7,
   "metadata": {},
   "outputs": [
    {
     "name": "stdout",
     "output_type": "stream",
     "text": [
      "Using cpu device\n"
     ]
    }
   ],
   "source": [
    "# Check GPU availability\n",
    "device = 'cuda' if torch.cuda.is_available() else 'cpu'\n",
    "print('Using {} device'.format(device))"
   ]
  },
  {
   "cell_type": "code",
   "execution_count": 8,
   "metadata": {
    "scrolled": false
   },
   "outputs": [
    {
     "name": "stdout",
     "output_type": "stream",
     "text": [
      "----------------------------------------------------------------\n",
      "        Layer (type)               Output Shape         Param #\n",
      "================================================================\n",
      "           Flatten-1                  [-1, 784]               0\n",
      "            Linear-2                  [-1, 512]         401,920\n",
      "              ReLU-3                  [-1, 512]               0\n",
      "            Linear-4                  [-1, 512]         262,656\n",
      "              ReLU-5                  [-1, 512]               0\n",
      "            Linear-6                   [-1, 10]           5,130\n",
      "              ReLU-7                   [-1, 10]               0\n",
      "================================================================\n",
      "Total params: 669,706\n",
      "Trainable params: 669,706\n",
      "Non-trainable params: 0\n",
      "----------------------------------------------------------------\n",
      "Input size (MB): 0.00\n",
      "Forward/backward pass size (MB): 0.02\n",
      "Params size (MB): 2.55\n",
      "Estimated Total Size (MB): 2.58\n",
      "----------------------------------------------------------------\n",
      "None\n"
     ]
    }
   ],
   "source": [
    "model = NeuralNetwork().to(device)\n",
    "print(summary(model, input_size = (1, 28, 28)))"
   ]
  },
  {
   "cell_type": "code",
   "execution_count": 9,
   "metadata": {},
   "outputs": [
    {
     "data": {
      "text/plain": [
       "<generator object Module.parameters at 0x0000015CDF42E660>"
      ]
     },
     "execution_count": 9,
     "metadata": {},
     "output_type": "execute_result"
    }
   ],
   "source": [
    "model.parameters()"
   ]
  },
  {
   "cell_type": "markdown",
   "metadata": {},
   "source": [
    "# Hyperparameters \n",
    "\n",
    "Hyperparameters are adjustable parameters that let us control the model optimization process. Different hyperparameter values can impact model training and convergence rates ([`read more`](https://pytorch.org/tutorials/beginner/hyperparameter_tuning_tutorial.html) about hyperparameter tuning)\n",
    "\n",
    "We define the following hyperparameters for training:\n",
    " - **Number of Epochs** - the number times to iterate over the dataset\n",
    " - **Batch Size** - the number of data samples seen by the model in each epoch\n",
    " - **Learning Rate** - how much to update models parameters at each batch/epoch. Smaller values yield slow learning speed, while large values may result in unpredictable behavior during training."
   ]
  },
  {
   "cell_type": "code",
   "execution_count": 10,
   "metadata": {},
   "outputs": [],
   "source": [
    "learning_rate = 1e-3\n",
    "batch_size = 64\n",
    "epochs = 5"
   ]
  },
  {
   "cell_type": "markdown",
   "metadata": {},
   "source": [
    "# Optimization Loop\n",
    "\n",
    "\n",
    "Once we set our hyperparameters, we can then train and optimize our model with an optimization loop. Each iteration of the optimization loop is called an **epoch**. \n",
    "\n",
    "Each epoch consists of two main parts:\n",
    " - **The Train Loop** - iterate over the training dataset and try to converge to optimal parameters.\n",
    " - **The Validation/Test Loop** - iterate over the test dataset to check if model performance is improving."
   ]
  },
  {
   "cell_type": "markdown",
   "metadata": {},
   "source": [
    "## Common Loss Functions\n",
    "\n",
    "Common loss functions include:\n",
    "\n",
    "* [`nn.MSELoss`](https://pytorch.org/docs/stable/generated/torch.nn.MSELoss.html#torch.nn.MSELoss) (Mean Square Error) for regression tasks,\n",
    "* [`nn.NLLLoss`](https://pytorch.org/docs/stable/generated/torch.nn.NLLLoss.html#torch.nn.NLLLoss)(Negative Log Likelihood) for classification. \n",
    "* [`nn.CrossEntropyLoss`](https://pytorch.org/docs/stable/generated/torch.nn.CrossEntropyLoss.html#torch.nn.CrossEntropyLoss)combines ``nn.LogSoftmax`` and ``nn.NLLLoss``.\n",
    "\n",
    "We pass our model's output logits to ``nn.CrossEntropyLoss``, which will normalize the logits and compute the prediction error."
   ]
  },
  {
   "cell_type": "code",
   "execution_count": 11,
   "metadata": {},
   "outputs": [],
   "source": [
    "# Initialize the loss function\n",
    "loss_fn = nn.CrossEntropyLoss()"
   ]
  },
  {
   "cell_type": "markdown",
   "metadata": {},
   "source": [
    "## Optimizer\n",
    "\n",
    "All optimization logic is encapsulated in  the ``optimizer`` object. Here, we use the SGD optimizer; additionally, there are many [`different optimizers`](https://pytorch.org/docs/stable/optim.html)\n",
    "available in PyTorch such as ADAM and RMSProp, that work better for different kinds of models and data.\n",
    "\n",
    "We initialize the optimizer by registering the model's parameters that need to be trained, and passing in the learning rate hyperparameter."
   ]
  },
  {
   "cell_type": "code",
   "execution_count": 12,
   "metadata": {},
   "outputs": [],
   "source": [
    "optimizer = torch.optim.SGD(model.parameters(), lr = learning_rate)"
   ]
  },
  {
   "cell_type": "markdown",
   "metadata": {},
   "source": [
    "Inside the training loop, optimization happens in three steps:\n",
    " * Call ``optimizer.zero_grad()`` to reset the gradients of model parameters. Gradients by default add up; to prevent double-counting, we explicitly zero them at each iteration.\n",
    " * Backpropagate the prediction loss with a call to ``loss.backwards()``. PyTorch deposits the gradients of the loss w.r.t. each parameter. \n",
    " * Once we have our gradients, we call ``optimizer.step()`` to adjust the parameters by the gradients collected in the backward pass.  \n",
    "\n"
   ]
  },
  {
   "cell_type": "markdown",
   "metadata": {},
   "source": [
    "\n",
    "# Define training and testing loops\n",
    "\n",
    "We define a ``train_loop`` that loops over our optimization code, and a ``test_loop`` that evaluates the model's performance against our test data."
   ]
  },
  {
   "cell_type": "markdown",
   "metadata": {},
   "source": [
    "## Function: train_loop"
   ]
  },
  {
   "cell_type": "code",
   "execution_count": 13,
   "metadata": {},
   "outputs": [],
   "source": [
    "def train_loop(dataloader, model, loss_fn, optimizer):\n",
    "    \n",
    "    size = len(dataloader.dataset) # Get size of training dataset\n",
    "    for batch, (X, y) in enumerate(dataloader):  \n",
    "        pred = model(X) # Forward-prop current batch through model\n",
    "        loss = loss_fn(pred, y) # Obtain loss\n",
    "        optimizer.zero_grad() # Reset gradients\n",
    "        loss.backward() # Back-prop to compute gradients\n",
    "        optimizer.step() # Update weights\n",
    "\n",
    "        if batch % 100 == 0: # Print loss every 100 batches\n",
    "            loss, current = loss.item(), batch * len(X)\n",
    "            print(f\"loss: {loss:>7f}  [{current:>5d}/{size:>5d}]\")"
   ]
  },
  {
   "cell_type": "markdown",
   "metadata": {},
   "source": [
    "## Verify function: train_loop"
   ]
  },
  {
   "cell_type": "code",
   "execution_count": 14,
   "metadata": {},
   "outputs": [
    {
     "name": "stdout",
     "output_type": "stream",
     "text": [
      "loss: 2.302107  [    0/60000]\n",
      "loss: 2.294908  [ 6400/60000]\n",
      "loss: 2.287379  [12800/60000]\n",
      "loss: 2.296827  [19200/60000]\n",
      "loss: 2.272985  [25600/60000]\n",
      "loss: 2.254083  [32000/60000]\n",
      "loss: 2.258187  [38400/60000]\n",
      "loss: 2.229783  [44800/60000]\n",
      "loss: 2.239270  [51200/60000]\n",
      "loss: 2.225167  [57600/60000]\n"
     ]
    }
   ],
   "source": [
    "loss_fn = nn.CrossEntropyLoss()\n",
    "optimizer = torch.optim.SGD(model.parameters(), lr=learning_rate)\n",
    "train_loop(train_dataloader, model, loss_fn, optimizer)"
   ]
  },
  {
   "cell_type": "markdown",
   "metadata": {},
   "source": [
    "## Function: test_loop"
   ]
  },
  {
   "cell_type": "code",
   "execution_count": 15,
   "metadata": {},
   "outputs": [],
   "source": [
    "def test_loop(dataloader, model, loss_fn):\n",
    "    \n",
    "    size = len(dataloader.dataset) # Get size of test set\n",
    "    test_loss, correct = 0, 0\n",
    "\n",
    "    with torch.no_grad(): # Turn off gradient computation to save memory\n",
    "        for X, y in dataloader: # Iterate through dataloader\n",
    "            pred = model(X) # Forward prop current batch through model\n",
    "            test_loss += loss_fn(pred, y).item() # Update test loss\n",
    "            correct += (pred.argmax(1) == y).type(torch.float).sum().item() # Update # correct preds\n",
    "            \n",
    "    test_loss /= size # Obtain averaged test_loss\n",
    "    correct /= size # Obtain accuracy\n",
    "    print(f\"Test Error: \\nAccuracy: {(100 * correct):>0.1f}%, Avg loss: {test_loss:>8f}\\n\")"
   ]
  },
  {
   "cell_type": "code",
   "execution_count": 16,
   "metadata": {},
   "outputs": [
    {
     "name": "stdout",
     "output_type": "stream",
     "text": [
      "Test Error: \n",
      "Accuracy: 35.6%, Avg loss: 0.034966\n",
      "\n"
     ]
    }
   ],
   "source": [
    "test_loop(test_dataloader, model, loss_fn)"
   ]
  },
  {
   "cell_type": "markdown",
   "metadata": {},
   "source": [
    "## Train model"
   ]
  },
  {
   "cell_type": "code",
   "execution_count": 17,
   "metadata": {
    "scrolled": false
   },
   "outputs": [
    {
     "name": "stdout",
     "output_type": "stream",
     "text": [
      "Epoch 1\n",
      "-------------------------------\n",
      "loss: 2.217454  [    0/60000]\n",
      "loss: 2.221717  [ 6400/60000]\n",
      "loss: 2.192701  [12800/60000]\n",
      "loss: 2.234955  [19200/60000]\n",
      "loss: 2.167405  [25600/60000]\n",
      "loss: 2.102466  [32000/60000]\n",
      "loss: 2.150390  [38400/60000]\n",
      "loss: 2.085717  [44800/60000]\n",
      "loss: 2.113500  [51200/60000]\n",
      "loss: 2.067840  [57600/60000]\n",
      "Test Error: \n",
      "Accuracy: 41.7%, Avg loss: 0.032585\n",
      "\n",
      "Epoch 2\n",
      "-------------------------------\n",
      "loss: 2.062531  [    0/60000]\n",
      "loss: 2.059867  [ 6400/60000]\n",
      "loss: 1.995784  [12800/60000]\n",
      "loss: 2.085312  [19200/60000]\n",
      "loss: 1.949120  [25600/60000]\n",
      "loss: 1.862573  [32000/60000]\n",
      "loss: 1.953682  [38400/60000]\n",
      "loss: 1.846495  [44800/60000]\n",
      "loss: 1.899884  [51200/60000]\n",
      "loss: 1.826386  [57600/60000]\n",
      "Test Error: \n",
      "Accuracy: 48.2%, Avg loss: 0.028861\n",
      "\n",
      "Epoch 3\n",
      "-------------------------------\n",
      "loss: 1.817644  [    0/60000]\n",
      "loss: 1.810714  [ 6400/60000]\n",
      "loss: 1.714838  [12800/60000]\n",
      "loss: 1.872805  [19200/60000]\n",
      "loss: 1.685818  [25600/60000]\n",
      "loss: 1.597331  [32000/60000]\n",
      "loss: 1.720579  [38400/60000]\n",
      "loss: 1.597183  [44800/60000]\n",
      "loss: 1.653681  [51200/60000]\n",
      "loss: 1.584545  [57600/60000]\n",
      "Test Error: \n",
      "Accuracy: 54.6%, Avg loss: 0.025094\n",
      "\n",
      "Epoch 4\n",
      "-------------------------------\n",
      "loss: 1.557743  [    0/60000]\n",
      "loss: 1.562443  [ 6400/60000]\n",
      "loss: 1.452570  [12800/60000]\n",
      "loss: 1.672731  [19200/60000]\n",
      "loss: 1.459512  [25600/60000]\n",
      "loss: 1.388287  [32000/60000]\n",
      "loss: 1.522291  [38400/60000]\n",
      "loss: 1.408644  [44800/60000]\n",
      "loss: 1.458172  [51200/60000]\n",
      "loss: 1.406068  [57600/60000]\n",
      "Test Error: \n",
      "Accuracy: 56.0%, Avg loss: 0.022239\n",
      "\n",
      "Epoch 5\n",
      "-------------------------------\n",
      "loss: 1.355576  [    0/60000]\n",
      "loss: 1.381983  [ 6400/60000]\n",
      "loss: 1.261057  [12800/60000]\n",
      "loss: 1.530437  [19200/60000]\n",
      "loss: 1.293874  [25600/60000]\n",
      "loss: 1.241192  [32000/60000]\n",
      "loss: 1.385980  [38400/60000]\n",
      "loss: 1.281986  [44800/60000]\n",
      "loss: 1.327483  [51200/60000]\n",
      "loss: 1.291552  [57600/60000]\n",
      "Test Error: \n",
      "Accuracy: 56.7%, Avg loss: 0.020291\n",
      "\n",
      "Epoch 6\n",
      "-------------------------------\n",
      "loss: 1.219652  [    0/60000]\n",
      "loss: 1.266280  [ 6400/60000]\n",
      "loss: 1.130675  [12800/60000]\n",
      "loss: 1.432035  [19200/60000]\n",
      "loss: 1.184019  [25600/60000]\n",
      "loss: 1.139591  [32000/60000]\n",
      "loss: 1.295939  [38400/60000]\n",
      "loss: 1.197782  [44800/60000]\n",
      "loss: 1.238083  [51200/60000]\n",
      "loss: 1.216035  [57600/60000]\n",
      "Test Error: \n",
      "Accuracy: 57.8%, Avg loss: 0.018941\n",
      "\n",
      "Epoch 7\n",
      "-------------------------------\n",
      "loss: 1.125942  [    0/60000]\n",
      "loss: 1.190354  [ 6400/60000]\n",
      "loss: 1.038013  [12800/60000]\n",
      "loss: 1.361418  [19200/60000]\n",
      "loss: 1.109695  [25600/60000]\n",
      "loss: 1.066259  [32000/60000]\n",
      "loss: 1.234182  [38400/60000]\n",
      "loss: 1.138778  [44800/60000]\n",
      "loss: 1.173213  [51200/60000]\n",
      "loss: 1.164102  [57600/60000]\n",
      "Test Error: \n",
      "Accuracy: 58.6%, Avg loss: 0.017966\n",
      "\n",
      "Epoch 8\n",
      "-------------------------------\n",
      "loss: 1.055960  [    0/60000]\n",
      "loss: 1.134833  [ 6400/60000]\n",
      "loss: 0.969466  [12800/60000]\n",
      "loss: 1.309911  [19200/60000]\n",
      "loss: 1.056742  [25600/60000]\n",
      "loss: 1.011636  [32000/60000]\n",
      "loss: 1.175395  [38400/60000]\n",
      "loss: 1.067995  [44800/60000]\n",
      "loss: 1.065081  [51200/60000]\n",
      "loss: 1.023681  [57600/60000]\n",
      "Test Error: \n",
      "Accuracy: 59.8%, Avg loss: 0.015899\n",
      "\n",
      "Epoch 9\n",
      "-------------------------------\n",
      "loss: 0.970738  [    0/60000]\n",
      "loss: 1.040429  [ 6400/60000]\n",
      "loss: 0.840483  [12800/60000]\n",
      "loss: 1.099118  [19200/60000]\n",
      "loss: 0.899341  [25600/60000]\n",
      "loss: 0.889368  [32000/60000]\n",
      "loss: 0.980050  [38400/60000]\n",
      "loss: 0.937447  [44800/60000]\n",
      "loss: 0.940271  [51200/60000]\n",
      "loss: 0.907832  [57600/60000]\n",
      "Test Error: \n",
      "Accuracy: 69.2%, Avg loss: 0.014056\n",
      "\n",
      "Epoch 10\n",
      "-------------------------------\n",
      "loss: 0.890502  [    0/60000]\n",
      "loss: 0.965854  [ 6400/60000]\n",
      "loss: 0.742123  [12800/60000]\n",
      "loss: 0.993027  [19200/60000]\n",
      "loss: 0.819996  [25600/60000]\n",
      "loss: 0.819221  [32000/60000]\n",
      "loss: 0.906084  [38400/60000]\n",
      "loss: 0.866716  [44800/60000]\n",
      "loss: 0.873330  [51200/60000]\n",
      "loss: 0.853700  [57600/60000]\n",
      "Test Error: \n",
      "Accuracy: 70.9%, Avg loss: 0.013017\n",
      "\n",
      "Done!\n"
     ]
    }
   ],
   "source": [
    "loss_fn = nn.CrossEntropyLoss()\n",
    "optimizer = torch.optim.SGD(model.parameters(), lr = learning_rate)\n",
    "\n",
    "epochs = 10\n",
    "for t in range(epochs):\n",
    "    print(f\"Epoch {t+1}\\n-------------------------------\")\n",
    "    train_loop(train_dataloader, model, loss_fn, optimizer)\n",
    "    test_loop(test_dataloader, model, loss_fn)\n",
    "print(\"Done!\")"
   ]
  },
  {
   "cell_type": "markdown",
   "metadata": {},
   "source": [
    "# Further Reading\n",
    "\n",
    "- [`Loss Functions`](https://pytorch.org/docs/stable/nn.html#loss-functions)\n",
    "- [`torch.optim`](https://pytorch.org/docs/stable/optim.html)\n",
    "- [`Warmstart`](https://pytorch.org/tutorials/recipes/recipes/warmstarting_model_using_parameters_from_a_different_model.html)"
   ]
  }
 ],
 "metadata": {
  "kernelspec": {
   "display_name": "Python 3",
   "language": "python",
   "name": "python3"
  },
  "language_info": {
   "codemirror_mode": {
    "name": "ipython",
    "version": 3
   },
   "file_extension": ".py",
   "mimetype": "text/x-python",
   "name": "python",
   "nbconvert_exporter": "python",
   "pygments_lexer": "ipython3",
   "version": "3.8.5"
  },
  "toc": {
   "base_numbering": 1,
   "nav_menu": {},
   "number_sections": true,
   "sideBar": true,
   "skip_h1_title": false,
   "title_cell": "Table of Contents",
   "title_sidebar": "Contents",
   "toc_cell": false,
   "toc_position": {
    "height": "calc(100% - 180px)",
    "left": "10px",
    "top": "150px",
    "width": "256px"
   },
   "toc_section_display": true,
   "toc_window_display": true
  }
 },
 "nbformat": 4,
 "nbformat_minor": 1
}
