{
 "cells": [
  {
   "cell_type": "markdown",
   "metadata": {},
   "source": [
    "# PyTorch Loss Functions Tutorial\n",
    "\n",
    "**Author:** Suresh Venkatesan"
   ]
  },
  {
   "cell_type": "markdown",
   "metadata": {},
   "source": [
    "# Import required libraries"
   ]
  },
  {
   "cell_type": "code",
   "execution_count": 1,
   "metadata": {},
   "outputs": [],
   "source": [
    "import torch\n",
    "from torch import nn\n",
    "from torch.nn import functional as F"
   ]
  },
  {
   "cell_type": "markdown",
   "metadata": {},
   "source": [
    "# Cross-Entropy Loss\n",
    "\n",
    "\n",
    "This criterion combines LogSoftmax and NLLLoss in one single class.\n",
    "\n",
    "It is useful when training a classification problem with C classes. The input is expected to contain raw, unnormalized scores for each class.\n",
    "\n",
    "input has to be a Tensor of size either (minibatch, C). This criterion expects a class index in the range (0, C-1) as the target for each value of a 1D tensor of size minibatch."
   ]
  },
  {
   "cell_type": "code",
   "execution_count": 10,
   "metadata": {},
   "outputs": [
    {
     "name": "stdout",
     "output_type": "stream",
     "text": [
      "Computed cross-entropy loss is 1.6354\n",
      "Calculated cross-entropy loss is 1.6354\n",
      "Calculated cross-entropy loss using NLLLoss is 1.6354\n"
     ]
    }
   ],
   "source": [
    "torch.manual_seed(1234)\n",
    "# Define random input tensor X of shape (10, 5) corresponding to 10 input samples \n",
    "# and 5 output classes\n",
    "X = torch.randn(10, 5)\n",
    "\n",
    "# Define random target vector y of shape (10,) \n",
    "# with values lying between 0 - 4 representing the true class of each input sample\n",
    "y_true = torch.empty(10, dtype=torch.long).random_(5)\n",
    "\n",
    "# Compute cross entropy loss using PyTorch object\n",
    "loss_CEL = nn.CrossEntropyLoss()\n",
    "loss_comp = loss_CEL(X, y_true)\n",
    "\n",
    "\n",
    "# Calculate cross entropy loss manually\n",
    "yhat = nn.Softmax(dim = 1)(X) # Apply a Softmax activation to X\n",
    "log_yhat = nn.LogSoftmax(dim = 1)(X) # Apply a LogSoftmax activation to X\n",
    "# Compute average loss using log_yhat\n",
    "loss_sum = 0\n",
    "for ind, val in enumerate(y_true):\n",
    "    loss_sum += log_yhat[ind, val.item()]\n",
    "loss_calc = -(loss_sum / len(y_true))\n",
    "\n",
    "# Calculate cross entropy using NLLLoss object\n",
    "loss_NLLL = nn.NLLLoss()\n",
    "loss_calc_1 = loss_NLLL(log_yhat, y_true)\n",
    "\n",
    "print(f\"Computed cross-entropy loss is {loss_comp:0.4f}\")\n",
    "print(f\"Calculated cross-entropy loss is {loss_calc:0.4f}\")\n",
    "print(f\"Calculated cross-entropy loss using NLLLoss is {loss_calc_1:0.4f}\")"
   ]
  }
 ],
 "metadata": {
  "kernelspec": {
   "display_name": "Python 3",
   "language": "python",
   "name": "python3"
  },
  "language_info": {
   "codemirror_mode": {
    "name": "ipython",
    "version": 3
   },
   "file_extension": ".py",
   "mimetype": "text/x-python",
   "name": "python",
   "nbconvert_exporter": "python",
   "pygments_lexer": "ipython3",
   "version": "3.8.5"
  },
  "toc": {
   "base_numbering": 1,
   "nav_menu": {},
   "number_sections": true,
   "sideBar": true,
   "skip_h1_title": false,
   "title_cell": "Table of Contents",
   "title_sidebar": "Contents",
   "toc_cell": false,
   "toc_position": {},
   "toc_section_display": true,
   "toc_window_display": true
  }
 },
 "nbformat": 4,
 "nbformat_minor": 4
}
