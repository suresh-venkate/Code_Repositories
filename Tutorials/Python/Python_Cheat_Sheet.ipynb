{
 "cells": [
  {
   "cell_type": "markdown",
   "metadata": {},
   "source": [
    "# Map Function\n",
    "\n",
    "**Description:** map() function returns a map object(which is an iterator) of the results after applying the given function to each item of a given iterable (list, tuple etc.).\n",
    "\n",
    "**Syntax:** map(fun, iter)\n",
    "\n",
    "**Parameters:** \n",
    "\n",
    "    fun : It is a function to which map passes each element of given iterable.\n",
    "    iter : It is a iterable which is to be mapped.\n",
    "    NOTE : We can pass one or more iterable to the map() function.\n",
    "    \n",
    "**Returns:**\n",
    "\n",
    "    Returns a list of the results after applying the given function to each item of a given iterable (list, tuple etc.)."
   ]
  },
  {
   "cell_type": "code",
   "execution_count": 5,
   "metadata": {},
   "outputs": [
    {
     "name": "stdout",
     "output_type": "stream",
     "text": [
      "Input is (1, 2, 3, 4)\n",
      "Output is (2, 4, 6, 8)\n",
      "\n",
      "Output is [2, 4, 6, 8]\n"
     ]
    }
   ],
   "source": [
    "def addition(n):\n",
    "    return n + n\n",
    "\n",
    "inp = (1, 2, 3, 4)\n",
    "out = map(addition, inp) # Returns a map object. Can be converted to tuple or list\n",
    "print(f\"Input is {inp}\")\n",
    "print(f\"Output is {tuple(out)}\")  \n",
    "print()\n",
    "out = map(addition, inp)\n",
    "print(f\"Output is {list(out)}\")  "
   ]
  },
  {
   "cell_type": "code",
   "execution_count": 7,
   "metadata": {},
   "outputs": [
    {
     "name": "stdout",
     "output_type": "stream",
     "text": [
      "2 4 6 8\n"
     ]
    }
   ],
   "source": [
    "out1, out2, out3, out4 = map(addition, inp)\n",
    "print(out1, out2, out3, out4)"
   ]
  },
  {
   "cell_type": "markdown",
   "metadata": {},
   "source": [
    "# Lambda Function\n",
    "\n",
    "\n",
    "In Python, an anonymous function means that a function is without a name. The lambda keyword is used to define an anonymous function in Python. It has the following syntax: \n",
    "\n",
    "**Syntax:** `lambda arguments: expression`\n",
    "\n",
    "This function can have any number of arguments but only one expression, which is evaluated and returned. Lambda functions are syntactically restricted to a single expression."
   ]
  },
  {
   "cell_type": "code",
   "execution_count": 8,
   "metadata": {},
   "outputs": [
    {
     "name": "stdout",
     "output_type": "stream",
     "text": [
      "125\n",
      "125\n"
     ]
    }
   ],
   "source": [
    "# Python code to illustrate cube of a number\n",
    "# showing difference between def() and lambda().\n",
    "def cube(y):\n",
    "    return y * y * y\n",
    "\n",
    "lambda_cube = lambda y: y * y * y\n",
    "\n",
    "# Using the cube function\n",
    "print(cube(5))\n",
    "\n",
    "# using the lambda function\n",
    "print(lambda_cube(5))"
   ]
  },
  {
   "cell_type": "markdown",
   "metadata": {},
   "source": [
    "As we can see in the above example both the cube() function and lambda_cube() function behave the same and as intended. Let’s analyze the above example a bit more:\n",
    "\n",
    "**Without using Lambda:** Here, both of them return the cube of a given number. But, while using def, we needed to define a function with a name cube and needed to pass a value to it. After execution, we also needed to return the result from where the function was called using the return keyword.\n",
    "\n",
    "\n",
    "**Using Lambda:** Lambda definition does not include a “return” statement, it always contains an expression that is returned. We can also put a lambda definition anywhere a function is expected, and we don’t have to assign it to a variable at all. This is the simplicity of lambda functions."
   ]
  }
 ],
 "metadata": {
  "kernelspec": {
   "display_name": "Python 3",
   "language": "python",
   "name": "python3"
  },
  "language_info": {
   "codemirror_mode": {
    "name": "ipython",
    "version": 3
   },
   "file_extension": ".py",
   "mimetype": "text/x-python",
   "name": "python",
   "nbconvert_exporter": "python",
   "pygments_lexer": "ipython3",
   "version": "3.8.5"
  },
  "toc": {
   "base_numbering": 1,
   "nav_menu": {},
   "number_sections": true,
   "sideBar": true,
   "skip_h1_title": false,
   "title_cell": "Table of Contents",
   "title_sidebar": "Contents",
   "toc_cell": false,
   "toc_position": {},
   "toc_section_display": true,
   "toc_window_display": true
  }
 },
 "nbformat": 4,
 "nbformat_minor": 4
}
