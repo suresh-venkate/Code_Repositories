{
 "cells": [
  {
   "cell_type": "markdown",
   "metadata": {},
   "source": [
    "# Python Tutorial - 1"
   ]
  },
  {
   "cell_type": "markdown",
   "metadata": {},
   "source": [
    "# Import required libraries"
   ]
  },
  {
   "cell_type": "code",
   "execution_count": 1,
   "metadata": {},
   "outputs": [],
   "source": [
    "import numpy as np\n",
    "import pandas as pd\n",
    "import matplotlib.pyplot as plt\n",
    "import json\n",
    "import time"
   ]
  },
  {
   "cell_type": "markdown",
   "metadata": {},
   "source": [
    "# Python Tutorial"
   ]
  },
  {
   "cell_type": "markdown",
   "metadata": {},
   "source": [
    "## Comments and Data Type"
   ]
  },
  {
   "cell_type": "code",
   "execution_count": 2,
   "metadata": {},
   "outputs": [],
   "source": [
    "# Comments start with hash sign and extend to end of physical line\n",
    "# Comments may appear at the start of a line, or following white space or code, \n",
    "# but not within a string literal\n",
    "# type() function can be used to find the type of data type of a variable in python"
   ]
  },
  {
   "cell_type": "markdown",
   "metadata": {},
   "source": [
    "## Numbers"
   ]
  },
  {
   "cell_type": "code",
   "execution_count": 3,
   "metadata": {},
   "outputs": [],
   "source": [
    "#######################################################################################################\n",
    "# Numbers (start)\n",
    "#######################################################################################################"
   ]
  },
  {
   "cell_type": "code",
   "execution_count": 4,
   "metadata": {},
   "outputs": [
    {
     "name": "stdout",
     "output_type": "stream",
     "text": [
      "15\n"
     ]
    }
   ],
   "source": [
    "# Integers, sum, difference, product\n",
    "print(5+(8-6)*5)"
   ]
  },
  {
   "cell_type": "code",
   "execution_count": 5,
   "metadata": {},
   "outputs": [
    {
     "name": "stdout",
     "output_type": "stream",
     "text": [
      "2.0\n",
      "1\n",
      "3\n"
     ]
    }
   ],
   "source": [
    "# Division always returns a float\n",
    "print(8/4)\n",
    "\n",
    "# Floor division and return an int\n",
    "print(8//5)\n",
    "\n",
    "# Reminder\n",
    "print(8%5)"
   ]
  },
  {
   "cell_type": "code",
   "execution_count": 6,
   "metadata": {},
   "outputs": [
    {
     "name": "stdout",
     "output_type": "stream",
     "text": [
      "81\n"
     ]
    }
   ],
   "source": [
    "# Powers\n",
    "print(3**4)"
   ]
  },
  {
   "cell_type": "code",
   "execution_count": 7,
   "metadata": {
    "scrolled": true
   },
   "outputs": [
    {
     "name": "stdout",
     "output_type": "stream",
     "text": [
      "60\n",
      "Data Type of width is: <class 'int'>\n"
     ]
    }
   ],
   "source": [
    "# Assigning value to variable\n",
    "width = 10\n",
    "height = 2*3\n",
    "print(width*height)\n",
    "print(\"Data Type of width is:\",type(width))"
   ]
  },
  {
   "cell_type": "code",
   "execution_count": 8,
   "metadata": {},
   "outputs": [
    {
     "name": "stdout",
     "output_type": "stream",
     "text": [
      "16.4\n"
     ]
    }
   ],
   "source": [
    "# Operators with mixed-type operands convert integer operand to floating-point\n",
    "print(4*5.6 - 6)"
   ]
  },
  {
   "cell_type": "code",
   "execution_count": 9,
   "metadata": {},
   "outputs": [
    {
     "name": "stdout",
     "output_type": "stream",
     "text": [
      "<class 'int'>\n",
      "<class 'float'>\n"
     ]
    }
   ],
   "source": [
    "a = 2\n",
    "print(type(a))\n",
    "b = float(a) # Typecast a to float data type\n",
    "print(type(b))"
   ]
  },
  {
   "cell_type": "code",
   "execution_count": 10,
   "metadata": {},
   "outputs": [],
   "source": [
    "#####################################################################################################\n",
    "# Numbers (End)\n",
    "#####################################################################################################"
   ]
  },
  {
   "cell_type": "markdown",
   "metadata": {},
   "source": [
    "## Strings - Sequence Data Type"
   ]
  },
  {
   "cell_type": "code",
   "execution_count": 11,
   "metadata": {},
   "outputs": [],
   "source": [
    "#####################################################################################################\n",
    "# Strings (start)\n",
    "#####################################################################################################"
   ]
  },
  {
   "cell_type": "code",
   "execution_count": 12,
   "metadata": {},
   "outputs": [
    {
     "name": "stdout",
     "output_type": "stream",
     "text": [
      "My name is Suresh\n",
      "doesn't\n",
      "\"Yes\", they said\n",
      "doesn't\n",
      "\"Yes\", they said\n",
      "\n",
      "\n",
      "My Name is Suresh. \n",
      "I am 43 years old.\n",
      "Data Type of s is: <class 'str'>\n"
     ]
    }
   ],
   "source": [
    "# String Basics\n",
    "# Strings can be enclosed in single quotes or double quotes with the same result. \\ can be used to \n",
    "# escape quotes\n",
    "print('My name is Suresh') # Text within single quotes\n",
    "print('doesn\\'t') # Use \\ to escape quotes\n",
    "print(\"\\\"Yes\\\", they said\") # Use \\ to escape quotes\n",
    "print(\"doesn't\") # No \\ is needed to escape single quote while enclosing text within double quotes\n",
    "print('\"Yes\", they said') # No \\ is needed to escape double quotes while enclosing text within \n",
    "                          # single quotes\n",
    "\n",
    "s = \"\\n\\nMy Name is Suresh. \\nI am 43 years old.\"\n",
    "print(s)\n",
    "print(\"Data Type of s is:\",type(s))\n",
    "    "
   ]
  },
  {
   "cell_type": "code",
   "execution_count": 13,
   "metadata": {},
   "outputs": [
    {
     "name": "stdout",
     "output_type": "stream",
     "text": [
      "C:\\some\n",
      "ame\n",
      "C:\\some\\name\n"
     ]
    }
   ],
   "source": [
    "# Raw Strings\n",
    "# Raw strings can be used by adding an r before the first quote\n",
    "s1 = \"C:\\some\\name\"\n",
    "print(s1)\n",
    "s2 = r\"C:\\some\\name\"\n",
    "print(s2)"
   ]
  },
  {
   "cell_type": "code",
   "execution_count": 14,
   "metadata": {},
   "outputs": [
    {
     "name": "stdout",
     "output_type": "stream",
     "text": [
      "Hello\n",
      "This is Suresh\n",
      "How are you?\n"
     ]
    }
   ],
   "source": [
    "# Spanning Multiple lines\n",
    "# String literals can span multiple lines using triple single or double quotes. \n",
    "# End of lines are automatically included in the string but it is possible to prevent this by \n",
    "# adding a \\ at the end of the line\n",
    "print('''\\\n",
    "Hello\n",
    "This is Suresh\n",
    "How are you?''')"
   ]
  },
  {
   "cell_type": "code",
   "execution_count": 15,
   "metadata": {},
   "outputs": [
    {
     "name": "stdout",
     "output_type": "stream",
     "text": [
      "duckduckgo\n",
      "duckduckgo\n",
      "duckduckgo\n"
     ]
    }
   ],
   "source": [
    "# String concatenation\n",
    "# Strings can be concatenated together with the + operator and repeated with *\n",
    "print(2*'duck'+'go')\n",
    "\n",
    "# Two or more string literals next to each other are automatically concatenated. This is particularly \n",
    "# useful when you want to break long strings. This works only with two literals though, not with \n",
    "# variables or expressions\n",
    "print('duck' 'duck' 'go')\n",
    "\n",
    "# To concatenate a variable and an expression, use the + operator\n",
    "temp = 'duck'\n",
    "print (temp + temp + 'go')"
   ]
  },
  {
   "cell_type": "code",
   "execution_count": 16,
   "metadata": {},
   "outputs": [
    {
     "name": "stdout",
     "output_type": "stream",
     "text": [
      "hello\n",
      "h e o h\n",
      "\n",
      "he\n",
      "\n",
      "he llo\n",
      "\n",
      "Length of string temp is: 5\n"
     ]
    }
   ],
   "source": [
    "# String indexing\n",
    "# Strings can be indexed with the first character having index 0. There is no separate character type. \n",
    "# A character is simply a string or size one. \n",
    "# Indices can be negative numbers to start counting from right.\n",
    "temp = \"hello\"\n",
    "print(temp)\n",
    "print(temp[0], temp[1], temp[-1], temp[-5])\n",
    "\n",
    "# slicing can be used to obtain sub-strings\n",
    "temp1 = temp[0:2] # character index 0 is included. Character index 2 is excluded.\n",
    "print(\"\\n\" + temp1 + \"\\n\")\n",
    "\n",
    "# While slicing, an omitted first index defaults to zero, an omitted second index defaults to the size \n",
    "# of the string being sliced\n",
    "print(temp[:2], temp[2:])\n",
    "\n",
    "# Python strings cannot be changed. They are immutable. \n",
    "# Therefore, assigning to an indexed position in the string results in an error\n",
    "# The built-in function len returns the length of a string\n",
    "print(\"\\nLength of string temp is:\", len(temp))"
   ]
  },
  {
   "cell_type": "code",
   "execution_count": 17,
   "metadata": {},
   "outputs": [],
   "source": [
    "#######################################################################################################\n",
    "# Strings (end)\n",
    "#######################################################################################################"
   ]
  },
  {
   "cell_type": "markdown",
   "metadata": {},
   "source": [
    "## Lists - Sequence Data Type"
   ]
  },
  {
   "cell_type": "code",
   "execution_count": 18,
   "metadata": {},
   "outputs": [],
   "source": [
    "######################################################################################################\n",
    "# Lists (start)\n",
    "######################################################################################################"
   ]
  },
  {
   "cell_type": "code",
   "execution_count": 19,
   "metadata": {},
   "outputs": [
    {
     "name": "stdout",
     "output_type": "stream",
     "text": [
      "[1, 2, 3, 4]\n",
      "Data type of x is: <class 'list'>\n"
     ]
    }
   ],
   "source": [
    "# List Basics\n",
    "# Lists are used to group together values. List can be written as a list of comma-separated values\n",
    "# between square brackets.\n",
    "# Lists might contain items of different types, but usually all items have the same type.\n",
    "\n",
    "x = [1,2,3,4]\n",
    "print(x)\n",
    "print(\"Data type of x is:\",type(x))"
   ]
  },
  {
   "cell_type": "code",
   "execution_count": 20,
   "metadata": {},
   "outputs": [
    {
     "name": "stdout",
     "output_type": "stream",
     "text": [
      "1 4 3 [1, 2]\n",
      "[1, 2, 3, 4, 5, 6, 7, 8]\n"
     ]
    }
   ],
   "source": [
    "# Indexing, slicing and concatenation\n",
    "# Lists can be indexed and sliced. Indexing returns an item. Slicing returns a list\n",
    "print(x[0], x[3], x[-2], x[0:2])\n",
    "\n",
    "# Lists also support concatenation\n",
    "x = x + [5,6,7,8]\n",
    "print(x)"
   ]
  },
  {
   "cell_type": "code",
   "execution_count": 21,
   "metadata": {},
   "outputs": [
    {
     "name": "stdout",
     "output_type": "stream",
     "text": [
      "[1, 2, 3, 4, 5, 19, 7, 8]\n",
      "[1, 2, 3, 4, 5, 19, 7, 8, 21]\n"
     ]
    }
   ],
   "source": [
    "# Lists are mutable\n",
    "# Unlike strings (which are immutable), lists are mutable. Their contents can be changed.\n",
    "x[5] = 19\n",
    "print(x)\n",
    "\n",
    "# New items can be added at the end of a list by using the append function\n",
    "x.append(21)\n",
    "print(x)"
   ]
  },
  {
   "cell_type": "code",
   "execution_count": 22,
   "metadata": {},
   "outputs": [
    {
     "name": "stdout",
     "output_type": "stream",
     "text": [
      "['a', 'b', 'c', 'd', 'e', 'f', 'g']\n",
      "['a', 'B', 'C', 'd', 'e', 'f', 'g']\n",
      "['a', 'd', 'e', 'f', 'g']\n",
      "[]\n"
     ]
    }
   ],
   "source": [
    "# Assignment to slices is also possible\n",
    "letters = ['a', 'b', 'c', 'd', 'e', 'f', 'g']\n",
    "print(letters)\n",
    "letters[1:3] = ['B', 'C']\n",
    "print(letters)\n",
    "letters[1:3] = []\n",
    "print(letters)\n",
    "letters[:] = []\n",
    "print(letters)"
   ]
  },
  {
   "cell_type": "code",
   "execution_count": 23,
   "metadata": {},
   "outputs": [
    {
     "name": "stdout",
     "output_type": "stream",
     "text": [
      "Length of letters is: 7\n"
     ]
    }
   ],
   "source": [
    "# Length of a list\n",
    "# Built-in function len can be used to find length of lists\n",
    "letters = ['a', 'b', 'c', 'd', 'e', 'f', 'g']\n",
    "print(\"Length of letters is:\",len(letters))"
   ]
  },
  {
   "cell_type": "code",
   "execution_count": 24,
   "metadata": {},
   "outputs": [
    {
     "name": "stdout",
     "output_type": "stream",
     "text": [
      "[['a', 'b', 'c', 'd'], [1, 2, 3]]\n",
      "['a', 'b', 'c', 'd'] [1, 2, 3] c 1\n"
     ]
    }
   ],
   "source": [
    "# Nesting lists\n",
    "# Its possible to nest lists\n",
    "x = ['a', 'b', 'c', 'd']\n",
    "y = [1,2,3]\n",
    "a = [x,y]\n",
    "print(a)\n",
    "print(a[0], a[1], a[0][2], a[1][0])"
   ]
  },
  {
   "cell_type": "markdown",
   "metadata": {},
   "source": [
    "### More on Lists - Additional List Methods and Operations"
   ]
  },
  {
   "cell_type": "code",
   "execution_count": 25,
   "metadata": {},
   "outputs": [
    {
     "name": "stdout",
     "output_type": "stream",
     "text": [
      "[1, 2, 3, 4, 5]\n"
     ]
    }
   ],
   "source": [
    "# Additional List methods and operations\n",
    "\n",
    "x = [1, 2, 3, 4]\n",
    "y = [6, 7, 8]\n",
    "a = [1, 1, 3, 5, 1, 7, 8]\n",
    "\n",
    "# list.append(x) -> Add an item to the end of the list\n",
    "x.append(5)\n",
    "print(x)"
   ]
  },
  {
   "cell_type": "code",
   "execution_count": 26,
   "metadata": {},
   "outputs": [
    {
     "name": "stdout",
     "output_type": "stream",
     "text": [
      "[1, 2, 3, 4, 5, 6, 7, 8]\n"
     ]
    }
   ],
   "source": [
    "# list.extend(iterable) -> Extend the list by appending all the items from the iterable\n",
    "x.extend(y) \n",
    "print(x)"
   ]
  },
  {
   "cell_type": "code",
   "execution_count": 27,
   "metadata": {},
   "outputs": [
    {
     "name": "stdout",
     "output_type": "stream",
     "text": [
      "[1, 2, 3, 4, 5, 5.5, 6, 7, 8]\n"
     ]
    }
   ],
   "source": [
    "# list.insert(i,x) -> Insert an item x before list[i]\n",
    "# list.insert(0,x) inserts at the front of the list\n",
    "# list.insert(len(list),x) is equivalent to list.append(x)\n",
    "x.insert(5,5.5) \n",
    "print(x)"
   ]
  },
  {
   "cell_type": "code",
   "execution_count": 28,
   "metadata": {},
   "outputs": [
    {
     "name": "stdout",
     "output_type": "stream",
     "text": [
      "[1, 2, 3, 4, 5, 6, 7, 8]\n"
     ]
    }
   ],
   "source": [
    "# list.remove(x) -> Remove the first item from the list whose value is equal to x. \n",
    "# Error if x is not present\n",
    "x.remove(5.5) \n",
    "print(x)"
   ]
  },
  {
   "cell_type": "code",
   "execution_count": 29,
   "metadata": {},
   "outputs": [
    {
     "name": "stdout",
     "output_type": "stream",
     "text": [
      "7\n",
      "[1, 2, 3, 4, 5, 6, 8]\n"
     ]
    }
   ],
   "source": [
    "# list.pop(i) -> Remove the item at the given position in the list and return it. \n",
    "# If no index is specified, list.pop() removes and returns the last item in the list.\n",
    "temp_1 = x.pop(6) \n",
    "print(temp_1)\n",
    "print(x)"
   ]
  },
  {
   "cell_type": "code",
   "execution_count": 30,
   "metadata": {},
   "outputs": [
    {
     "name": "stdout",
     "output_type": "stream",
     "text": [
      "[]\n"
     ]
    }
   ],
   "source": [
    "# list.clear() -> Remove all items from the list.               \n",
    "y.clear() \n",
    "print(y)"
   ]
  },
  {
   "cell_type": "code",
   "execution_count": 31,
   "metadata": {},
   "outputs": [
    {
     "name": "stdout",
     "output_type": "stream",
     "text": [
      "4\n"
     ]
    }
   ],
   "source": [
    "# list.index(x,[start,[end]]) -> Returns the index of the first item whose value is equal to x.\n",
    "# Error if x is not present\n",
    "# Optional arguments start and end are interpreted as in the slice notation and are used to limit\n",
    "# the search to a particular subsequence of the list. The returned index is still computed relative\n",
    "# to the beginning of the full sequence rather than the start argument\n",
    "temp_2 = x.index(5,2,5)\n",
    "print(temp_2)"
   ]
  },
  {
   "cell_type": "code",
   "execution_count": 32,
   "metadata": {},
   "outputs": [
    {
     "name": "stdout",
     "output_type": "stream",
     "text": [
      "3\n"
     ]
    }
   ],
   "source": [
    "# list.count(x) -> Returns the number of times x appears in the list\n",
    "temp_3 = a.count(1) \n",
    "print(temp_3)"
   ]
  },
  {
   "cell_type": "code",
   "execution_count": 33,
   "metadata": {},
   "outputs": [
    {
     "name": "stdout",
     "output_type": "stream",
     "text": [
      "[8, 7, 5, 3, 1, 1, 1]\n"
     ]
    }
   ],
   "source": [
    "# list.sort(key=None, reverse=False) -> Sort the items of the list in place. \n",
    "# reverse = true is an optional parameter used to reverse the order of sort.\n",
    "a.sort(reverse=True) \n",
    "print(a)"
   ]
  },
  {
   "cell_type": "code",
   "execution_count": 34,
   "metadata": {},
   "outputs": [
    {
     "name": "stdout",
     "output_type": "stream",
     "text": [
      "[8, 6, 5, 4, 3, 2, 1]\n"
     ]
    }
   ],
   "source": [
    "# list.reverse() -> Reverse the elements of the list in place\n",
    "x.reverse() \n",
    "print(x)"
   ]
  },
  {
   "cell_type": "code",
   "execution_count": 35,
   "metadata": {},
   "outputs": [
    {
     "name": "stdout",
     "output_type": "stream",
     "text": [
      "[8, 6, 5, 4, 3, 2, 1]\n"
     ]
    }
   ],
   "source": [
    "# list.copy() -> Returns a shallow copy of the list\n",
    "temp_4 = x.copy() \n",
    "print(temp_4)"
   ]
  },
  {
   "cell_type": "code",
   "execution_count": 36,
   "metadata": {},
   "outputs": [
    {
     "name": "stdout",
     "output_type": "stream",
     "text": [
      "[5, 5, 5, 5, 5, 5, 5, 5, 5, 5]\n"
     ]
    }
   ],
   "source": [
    "# Create a repeated list\n",
    "temp_5 = [5]*10 # Create a list with 5 repeated 10 times\n",
    "print(temp_5)"
   ]
  },
  {
   "cell_type": "markdown",
   "metadata": {},
   "source": [
    "### Using Lists as stacks"
   ]
  },
  {
   "cell_type": "code",
   "execution_count": 37,
   "metadata": {},
   "outputs": [],
   "source": [
    "#####################################################################################################\n",
    "# Using lists as stacks (start)\n",
    "#####################################################################################################"
   ]
  },
  {
   "cell_type": "code",
   "execution_count": 38,
   "metadata": {},
   "outputs": [
    {
     "name": "stdout",
     "output_type": "stream",
     "text": [
      "[3, 4, 5] \n",
      "\n",
      "[3, 4, 5, 6] \n",
      "\n",
      "[3, 4, 5, 6, 7] \n",
      "\n",
      "7 \n",
      "\n",
      "6 \n",
      "\n",
      "[3, 4, 5] \n",
      "\n"
     ]
    }
   ],
   "source": [
    "# List methods make it very easy to use a list as a stack, where the last element added is the first \n",
    "# element retrieved (last-in, first-out). Use append() to add an item to the top of the stack and pop()\n",
    "# without an explicit index to retrieve an item from the top of the stack.\n",
    "\n",
    "stack = [3, 4, 5]\n",
    "print(stack, \"\\n\")\n",
    "stack.append(6)\n",
    "print(stack, \"\\n\")\n",
    "stack.append(7)\n",
    "print(stack, \"\\n\")\n",
    "print(stack.pop(), \"\\n\")\n",
    "print(stack.pop(), \"\\n\")\n",
    "print(stack, \"\\n\")"
   ]
  },
  {
   "cell_type": "code",
   "execution_count": 39,
   "metadata": {},
   "outputs": [],
   "source": [
    "#######################################################################################################\n",
    "# Using lists as stacks (end)\n",
    "#######################################################################################################"
   ]
  },
  {
   "cell_type": "markdown",
   "metadata": {},
   "source": [
    "### Using Lists as queues"
   ]
  },
  {
   "cell_type": "code",
   "execution_count": 40,
   "metadata": {},
   "outputs": [],
   "source": [
    "#######################################################################################################\n",
    "# Using lists as queues (start)\n",
    "#######################################################################################################"
   ]
  },
  {
   "cell_type": "code",
   "execution_count": 41,
   "metadata": {},
   "outputs": [
    {
     "name": "stdout",
     "output_type": "stream",
     "text": [
      "deque(['a', 'b', 'c'])\n",
      "deque(['a', 'b', 'c', 'd', 'e'])\n",
      "deque(['c', 'd', 'e'])\n"
     ]
    }
   ],
   "source": [
    "# It is also possible to use a list as a queue where the first element added is the first element \n",
    "# retrieved. However, lists are not efficient for this purpose. To implement a queue, use \n",
    "# collections.deque which was designed to have fast appends and pops from both ends.\n",
    "\n",
    "from collections import deque\n",
    "\n",
    "queue = deque(['a', 'b', 'c'])\n",
    "print(queue)\n",
    "queue.append('d')\n",
    "queue.append('e')\n",
    "print(queue)\n",
    "queue.popleft()\n",
    "queue.popleft()\n",
    "print(queue)"
   ]
  },
  {
   "cell_type": "code",
   "execution_count": 42,
   "metadata": {},
   "outputs": [],
   "source": [
    "######################################################################################################\n",
    "# Using lists as queues (end)\n",
    "######################################################################################################"
   ]
  },
  {
   "cell_type": "markdown",
   "metadata": {},
   "source": [
    "### List Comprehensions"
   ]
  },
  {
   "cell_type": "code",
   "execution_count": 43,
   "metadata": {},
   "outputs": [],
   "source": [
    "#####################################################################################################\n",
    "# List comprehensions (start)\n",
    "#####################################################################################################"
   ]
  },
  {
   "cell_type": "code",
   "execution_count": 44,
   "metadata": {},
   "outputs": [
    {
     "name": "stdout",
     "output_type": "stream",
     "text": [
      "[0, 1, 4, 9, 16, 25, 36, 49, 64, 81]\n"
     ]
    }
   ],
   "source": [
    "# List comprehensions provide a concise way to create lists.\n",
    "# A list comprehension consists of brackets containing an expression followed by a \"for\" clause, \n",
    "# then zero or more \"for\" or \"if\" clauses. \n",
    "# Common applications are to make new lists where each element is the result of some operations \n",
    "# applied to each member of another sequence or iterable, or to create a subsequence of those elements \n",
    "# that satisfy a certain condition.\n",
    "\n",
    "# Example 1 - Regular way\n",
    "squares = []\n",
    "for x in range(10):\n",
    "    squares.append(x**2)\n",
    "print(squares)"
   ]
  },
  {
   "cell_type": "code",
   "execution_count": 45,
   "metadata": {},
   "outputs": [
    {
     "name": "stdout",
     "output_type": "stream",
     "text": [
      "[1, 4, 9, 16, 1, 9, 16, 25, 4, 9, 25, 36, 9, 16, 25, 49, 16, 25, 36, 49, 25, 36, 49, 64, 81, 36, 49, 64, 81, 100, 49, 64, 81, 100, 121, 64, 81, 100, 121, 144, 81, 100, 121, 144, 169]\n"
     ]
    }
   ],
   "source": [
    "# Example 1 - Using list comprehensions\n",
    "squares_lc = [(x+y)**2 for x in range(10) for y in range(5) if x!=y]\n",
    "print(squares_lc)"
   ]
  },
  {
   "cell_type": "code",
   "execution_count": 46,
   "metadata": {},
   "outputs": [
    {
     "name": "stdout",
     "output_type": "stream",
     "text": [
      "[(0, 1), (0, 2), (0, 3), (0, 4), (1, 0), (1, 2), (1, 3), (1, 4), (2, 0), (2, 1), (2, 3), (2, 4), (3, 0), (3, 1), (3, 2), (3, 4), (4, 0), (4, 1), (4, 2), (4, 3)]\n"
     ]
    }
   ],
   "source": [
    "# Example 2 \n",
    "# If the expression is a tuple, it must be paranthesized as shown below.\n",
    "combs = [(x,y) for x in range(5) for y in range(5) if x!=y]\n",
    "print(combs)"
   ]
  },
  {
   "cell_type": "code",
   "execution_count": 47,
   "metadata": {},
   "outputs": [
    {
     "name": "stdout",
     "output_type": "stream",
     "text": [
      "[16, 9, 0, 1, 9]\n",
      "[0, 1, 9]\n",
      "[4, 3, 0, 1, 3]\n",
      "[(-4, 16), (-3, 9), (0, 0), (1, 1), (3, 9)]\n"
     ]
    }
   ],
   "source": [
    "# Example 3\n",
    "vec = [-4, -3, 0, 1, 3]\n",
    "vec_1 = [x**2 for x in vec]\n",
    "print(vec_1)\n",
    "vec_2 = [x**2 for x in vec if x >= 0]\n",
    "print(vec_2)\n",
    "vec_3 = [abs(x) for x in vec]\n",
    "print(vec_3)\n",
    "vec_4 = [(x,x**2) for x in vec]\n",
    "print(vec_4)"
   ]
  },
  {
   "cell_type": "code",
   "execution_count": 48,
   "metadata": {},
   "outputs": [
    {
     "name": "stdout",
     "output_type": "stream",
     "text": [
      "[1, 2, 3, 4, 5, 6, 7, 8, 9]\n"
     ]
    }
   ],
   "source": [
    "# Example 4\n",
    "# Flatten a list using a listcomp with two 'for'\n",
    "vec = [[1,2,3], [4,5,6], [7,8,9]]\n",
    "vec_5 = [num for elem in vec for num in elem]\n",
    "print(vec_5)"
   ]
  },
  {
   "cell_type": "code",
   "execution_count": 49,
   "metadata": {},
   "outputs": [
    {
     "name": "stdout",
     "output_type": "stream",
     "text": [
      "['3.0', '3.1', '3.14', '3.142', '3.1416']\n"
     ]
    }
   ],
   "source": [
    "# Example 5\n",
    "from math import pi\n",
    "vec_6 = [str(round(pi, i)) for i in range(5)]\n",
    "print(vec_6)"
   ]
  },
  {
   "cell_type": "code",
   "execution_count": 50,
   "metadata": {},
   "outputs": [],
   "source": [
    "#####################################################################################################\n",
    "# List comprehensions (end)\n",
    "#####################################################################################################"
   ]
  },
  {
   "cell_type": "markdown",
   "metadata": {},
   "source": [
    "### Nested List Comprehensions"
   ]
  },
  {
   "cell_type": "code",
   "execution_count": 51,
   "metadata": {},
   "outputs": [],
   "source": [
    "#####################################################################################################\n",
    "# Nested List comprehensions (start)\n",
    "#####################################################################################################"
   ]
  },
  {
   "cell_type": "code",
   "execution_count": 52,
   "metadata": {},
   "outputs": [
    {
     "name": "stdout",
     "output_type": "stream",
     "text": [
      "[[1, 5, 9], [2, 6, 10], [3, 7, 11], [4, 8, 12]]\n"
     ]
    }
   ],
   "source": [
    "matrix = [\n",
    "    [1,2,3,4], \n",
    "    [5,6,7,8], \n",
    "    [9,10,11,12]\n",
    "]\n",
    "vec_m = [[row[i] for row in matrix] for i in range(4)]\n",
    "print(vec_m)"
   ]
  },
  {
   "cell_type": "code",
   "execution_count": 53,
   "metadata": {},
   "outputs": [],
   "source": [
    "#####################################################################################################\n",
    "# Nested List comprehensions (end)\n",
    "#####################################################################################################"
   ]
  },
  {
   "cell_type": "markdown",
   "metadata": {},
   "source": [
    "### The del statement"
   ]
  },
  {
   "cell_type": "code",
   "execution_count": 54,
   "metadata": {},
   "outputs": [],
   "source": [
    "#####################################################################################################\n",
    "# The del statement (start)\n",
    "#####################################################################################################"
   ]
  },
  {
   "cell_type": "code",
   "execution_count": 55,
   "metadata": {
    "scrolled": true
   },
   "outputs": [
    {
     "name": "stdout",
     "output_type": "stream",
     "text": [
      "[0, 1, 2, 3, 4, 5, 6]\n",
      "[1, 2, 3, 4, 5, 6]\n",
      "[1, 2, 5, 6]\n"
     ]
    }
   ],
   "source": [
    "# Del statement can be used to remove an item from a list given its index.\n",
    "# Del statement can also be used to remove slices from a list or clear the entire list\n",
    "\n",
    "a = [0, 1, 2, 3, 4, 5, 6]\n",
    "print(a)\n",
    "del a[0]\n",
    "print(a)\n",
    "del a[2:4]\n",
    "print(a)\n",
    "del a\n",
    "#print(a)"
   ]
  },
  {
   "cell_type": "code",
   "execution_count": 56,
   "metadata": {},
   "outputs": [],
   "source": [
    "#####################################################################################################\n",
    "# The del statement (end)\n",
    "#####################################################################################################"
   ]
  },
  {
   "cell_type": "markdown",
   "metadata": {},
   "source": [
    "### Copying Lists"
   ]
  },
  {
   "cell_type": "code",
   "execution_count": 57,
   "metadata": {},
   "outputs": [],
   "source": [
    "#####################################################################################################\n",
    "# Copying Lists (start)\n",
    "#####################################################################################################"
   ]
  },
  {
   "cell_type": "code",
   "execution_count": 58,
   "metadata": {},
   "outputs": [
    {
     "name": "stdout",
     "output_type": "stream",
     "text": [
      "[1, 2, 3, 4]\n",
      "[1, 2, 3, 4]\n",
      "\n",
      "\n",
      "[1, 'a', 3, 4]\n",
      "[1, 'a', 3, 4]\n",
      "\n",
      "\n",
      "[1, 2, 3, 4]\n",
      "[1, 2, 3, 4]\n",
      "\n",
      "\n",
      "[1, 'a', 3, 4]\n",
      "[1, 2, 3, 4]\n"
     ]
    }
   ],
   "source": [
    "temp1 = [1,2,3,4]\n",
    "temp2 = temp1 # temp1 is copied to temp2.\n",
    "print(temp1)\n",
    "print(temp2)\n",
    "temp2[1] = 'a' # Index 1 ot temp2 is changed to 'a'\n",
    "print(\"\\n\")\n",
    "print(temp2)\n",
    "print(temp1) # Index 1 of temp1 also changed. To avoid this behavior use the copy command instead.\n",
    "del temp2 \n",
    "\n",
    "temp1 = [1,2,3,4]\n",
    "temp2 = temp1.copy() # Create a copy of temp1. Now changing elements of temp2 will not change temp1.\n",
    "print(\"\\n\")\n",
    "print(temp1)\n",
    "print(temp2)\n",
    "temp2[1] = 'a'\n",
    "print(\"\\n\")\n",
    "print(temp2)\n",
    "print(temp1)"
   ]
  },
  {
   "cell_type": "code",
   "execution_count": 59,
   "metadata": {},
   "outputs": [],
   "source": [
    "#####################################################################################################\n",
    "# Copying Lists (end)\n",
    "#####################################################################################################"
   ]
  },
  {
   "cell_type": "code",
   "execution_count": 60,
   "metadata": {},
   "outputs": [],
   "source": [
    "#####################################################################################################\n",
    "# Lists (end)\n",
    "#####################################################################################################"
   ]
  },
  {
   "cell_type": "markdown",
   "metadata": {},
   "source": [
    "## First Steps Towards Programming"
   ]
  },
  {
   "cell_type": "code",
   "execution_count": 61,
   "metadata": {},
   "outputs": [],
   "source": [
    "######################################################################################################\n",
    "# First steps towards programming (start)\n",
    "######################################################################################################"
   ]
  },
  {
   "cell_type": "code",
   "execution_count": 62,
   "metadata": {},
   "outputs": [
    {
     "name": "stdout",
     "output_type": "stream",
     "text": [
      "0\n",
      "1\n",
      "1\n",
      "2\n",
      "3\n",
      "5\n",
      "8\n"
     ]
    }
   ],
   "source": [
    "# Routine to generate fibonacci series\n",
    " \n",
    "a,b = 0,1 # Multiple assignments can be done in a single row\n",
    "while a < 10:\n",
    "    print(a)\n",
    "    a,b = b,a+b # Expressions on the right side are evaluated first before any assignments take place. \n",
    "                # Right side expressions are evaluated from left to right"
   ]
  },
  {
   "cell_type": "code",
   "execution_count": 63,
   "metadata": {},
   "outputs": [
    {
     "name": "stdout",
     "output_type": "stream",
     "text": [
      "0, 1, 1, 2, 3, 5, 8, 13, 21, 34, 55, 89, "
     ]
    }
   ],
   "source": [
    "# While loop executes as long as a < 10. Any non-zero integer value is true; zero is false.\n",
    "# Body of loop is indented. Indentation is python's way of grouping statements. \n",
    "# A tab has to be inserted for each indented line\n",
    "# Each line within a basic block must be intended by the same amount\n",
    "\n",
    "# In a print statement, the keyword end can be used to avoid the newline after the output, \n",
    "# or end the output with a different string\n",
    "\n",
    "a,b = 0,1 # Multiple assignments can be done in a single row\n",
    "while a < 100:\n",
    "    print(a, end=', ')\n",
    "    a,b = b,a+b # Expressions on the right side are evaluated first before any assignments take place. \n",
    "                # Right side expressions are evaluated from left to right"
   ]
  },
  {
   "cell_type": "code",
   "execution_count": 64,
   "metadata": {},
   "outputs": [],
   "source": [
    "######################################################################################################\n",
    "# First steps towards programming (end)\n",
    "######################################################################################################"
   ]
  },
  {
   "cell_type": "markdown",
   "metadata": {},
   "source": [
    "## If statements"
   ]
  },
  {
   "cell_type": "code",
   "execution_count": 65,
   "metadata": {},
   "outputs": [],
   "source": [
    "######################################################################################################\n",
    "# if statements (start)\n",
    "######################################################################################################"
   ]
  },
  {
   "cell_type": "code",
   "execution_count": 66,
   "metadata": {
    "scrolled": true
   },
   "outputs": [
    {
     "name": "stdout",
     "output_type": "stream",
     "text": [
      "x is zero\n"
     ]
    }
   ],
   "source": [
    "x = 0\n",
    "if x < 0:\n",
    "    print('x is negative')\n",
    "elif x > 0:\n",
    "    print('x is positive')\n",
    "else:\n",
    "    print('x is zero')"
   ]
  },
  {
   "cell_type": "code",
   "execution_count": 67,
   "metadata": {},
   "outputs": [],
   "source": [
    "########################################################################################################\n",
    "# if statements (end)\n",
    "########################################################################################################"
   ]
  },
  {
   "cell_type": "markdown",
   "metadata": {},
   "source": [
    "## for statements"
   ]
  },
  {
   "cell_type": "code",
   "execution_count": 68,
   "metadata": {},
   "outputs": [],
   "source": [
    "########################################################################################################\n",
    "# for statements (start)\n",
    "########################################################################################################"
   ]
  },
  {
   "cell_type": "code",
   "execution_count": 69,
   "metadata": {},
   "outputs": [
    {
     "name": "stdout",
     "output_type": "stream",
     "text": [
      "cat 3\n",
      "mouse 5\n",
      "elephant 8\n"
     ]
    }
   ],
   "source": [
    "# Python's for statements iterate over the items of any sequence (a list or a string), \n",
    "# in the order that they appear in the sequence\n",
    "\n",
    "words = ['cat', 'mouse', 'elephant']\n",
    "for w in words:\n",
    "    print(w,len(w))"
   ]
  },
  {
   "cell_type": "markdown",
   "metadata": {},
   "source": [
    "Code that modifies a collection while iterating over that same collection can be tricky to get right. Instead, it is usually more straight-forward to loop over a copy of the collection or to create a new collection:"
   ]
  },
  {
   "cell_type": "code",
   "execution_count": 70,
   "metadata": {},
   "outputs": [],
   "source": [
    "#######################################################################################################\n",
    "# for statements (end)\n",
    "#######################################################################################################"
   ]
  },
  {
   "cell_type": "markdown",
   "metadata": {},
   "source": [
    "## range() statements"
   ]
  },
  {
   "cell_type": "code",
   "execution_count": 71,
   "metadata": {},
   "outputs": [],
   "source": [
    "#######################################################################################################\n",
    "# range() function (start)\n",
    "#######################################################################################################"
   ]
  },
  {
   "cell_type": "code",
   "execution_count": 72,
   "metadata": {
    "scrolled": true
   },
   "outputs": [
    {
     "name": "stdout",
     "output_type": "stream",
     "text": [
      "0,1,2,3,4,5,6,7,8,9,\n",
      "\n",
      "0,-1,-2,-3,-4,-5,-6,-7,-8,-9,\n",
      "\n",
      "0 Mary\n",
      "1 had\n",
      "2 a\n",
      "3 little\n",
      "4 lamb\n"
     ]
    }
   ],
   "source": [
    "# To iterate over a range of numbers, the built-in function range() can be used. \n",
    "# range(start, stop, step). Arguments must be integers. \n",
    "# If start is omitted, it defaults to 0.\n",
    "# If step is omitted, it defaults to 1. Step can be positive or negative\n",
    "# Output of range fuction doesn't include the stop value.\n",
    "\n",
    "for r in range(0,10,1):\n",
    "    print(r, end=',')\n",
    "    \n",
    "print('\\n')\n",
    "for r in range(0,-10,-1):\n",
    "    print(r, end=',')\n",
    "\n",
    "print('\\n')\n",
    "\n",
    "# To iterate over the indices of a sequence, combine range() and len() functions as follows:\n",
    "\n",
    "words = ['Mary', 'had', 'a', 'little', 'lamb']\n",
    "for i in range(len(words)):\n",
    "    print(i, words[i])"
   ]
  },
  {
   "cell_type": "code",
   "execution_count": 73,
   "metadata": {},
   "outputs": [
    {
     "name": "stdout",
     "output_type": "stream",
     "text": [
      "range(0, 10)\n"
     ]
    }
   ],
   "source": [
    "# A strange thing happens if you just print a range:\n",
    "print(range(10))"
   ]
  },
  {
   "cell_type": "markdown",
   "metadata": {},
   "source": [
    "* In many ways the object returned by range() behaves as if it is a list, but in fact it isn’t. It is an object which returns the successive items of the desired sequence when you iterate over it, but it doesn’t really make the list, thus saving space.\n",
    "* We say such an object is iterable, that is, suitable as a target for functions and constructs that expect something from which they can obtain successive items until the supply is exhausted. We have seen that the for statement is such a construct, while an example of a function that takes an iterable is sum()"
   ]
  },
  {
   "cell_type": "code",
   "execution_count": 74,
   "metadata": {},
   "outputs": [
    {
     "data": {
      "text/plain": [
       "6"
      ]
     },
     "execution_count": 74,
     "metadata": {},
     "output_type": "execute_result"
    }
   ],
   "source": [
    "sum(range(4)) # 0 + 1 + 2 + 3"
   ]
  },
  {
   "cell_type": "code",
   "execution_count": 75,
   "metadata": {},
   "outputs": [
    {
     "name": "stdout",
     "output_type": "stream",
     "text": [
      "[0, 1, 2, 3, 4, 5, 6, 7, 8, 9]\n"
     ]
    }
   ],
   "source": [
    "# To get a list from a range, use list(range(x))\n",
    "print(list(range(10)))"
   ]
  },
  {
   "cell_type": "code",
   "execution_count": 76,
   "metadata": {},
   "outputs": [],
   "source": [
    "#######################################################################################################\n",
    "# range() function (end)\n",
    "#######################################################################################################"
   ]
  },
  {
   "cell_type": "markdown",
   "metadata": {},
   "source": [
    "## Break, Continue and else in loops"
   ]
  },
  {
   "cell_type": "code",
   "execution_count": 77,
   "metadata": {},
   "outputs": [],
   "source": [
    "#######################################################################################################\n",
    "# break, continue statements and else in loops (start)\n",
    "#######################################################################################################"
   ]
  },
  {
   "cell_type": "code",
   "execution_count": 78,
   "metadata": {},
   "outputs": [
    {
     "name": "stdout",
     "output_type": "stream",
     "text": [
      "2 main\n",
      "2 is a prime number\n",
      "3 main\n",
      "2\n",
      "3 is a prime number\n",
      "4 main\n",
      "2\n",
      "4 equals 2 * 2\n",
      "5 main\n",
      "2\n",
      "3\n",
      "4\n",
      "5 is a prime number\n",
      "6 main\n",
      "2\n",
      "6 equals 2 * 3\n",
      "7 main\n",
      "2\n",
      "3\n",
      "4\n",
      "5\n",
      "6\n",
      "7 is a prime number\n",
      "8 main\n",
      "2\n",
      "8 equals 2 * 4\n",
      "9 main\n",
      "2\n",
      "3\n",
      "9 equals 3 * 3\n"
     ]
    }
   ],
   "source": [
    "# break statement breaks out of the innermost enclosing \"for\" or \"while\" loop\n",
    "# Loop statements can have an else clause; it is executed when the loop terminates through \n",
    "# execution of the iterable (with for) or when the condition become false (with while) but \n",
    "# not when the loop is terminated with a break statement\n",
    "\n",
    "# Code below searches for prime numbers\n",
    "for n in range(2,10):\n",
    "    print(n, 'main')\n",
    "    for x in range(2,n):\n",
    "        print(x)\n",
    "        if n%x == 0:\n",
    "            print(n, 'equals', x, '*', n//x )\n",
    "            break\n",
    "           \n",
    "    else: # This else statement belongs to the inner for loop, not the if statement\n",
    "        print(n, 'is a prime number') "
   ]
  },
  {
   "cell_type": "code",
   "execution_count": 79,
   "metadata": {
    "scrolled": true
   },
   "outputs": [
    {
     "name": "stdout",
     "output_type": "stream",
     "text": [
      "2 is an even number\n",
      "3 is an odd number\n",
      "4 is an even number\n",
      "5 is an odd number\n",
      "6 is an even number\n",
      "7 is an odd number\n",
      "8 is an even number\n",
      "9 is an odd number\n"
     ]
    }
   ],
   "source": [
    "# The continue statement continues with the next iteration of the loop\n",
    "\n",
    "for num in range(2,10):\n",
    "    if num%2 == 0:\n",
    "        print(num, 'is an even number')\n",
    "        continue\n",
    "    print(num, 'is an odd number')    "
   ]
  },
  {
   "cell_type": "code",
   "execution_count": 80,
   "metadata": {},
   "outputs": [],
   "source": [
    "#######################################################################################################\n",
    "# break, continue statements and else in loops (end)\n",
    "#######################################################################################################"
   ]
  },
  {
   "cell_type": "markdown",
   "metadata": {},
   "source": [
    "## Pass Statement"
   ]
  },
  {
   "cell_type": "code",
   "execution_count": 81,
   "metadata": {},
   "outputs": [],
   "source": [
    "######################################################################################################\n",
    "# pass statement (start)\n",
    "######################################################################################################"
   ]
  },
  {
   "cell_type": "code",
   "execution_count": 82,
   "metadata": {},
   "outputs": [],
   "source": [
    "# Pass statement does nothing. It can be used when a statement is required syntactically, but the \n",
    "# program requires no action. \n",
    "# Pass statement is used for creating minimal classes.\n",
    "# Another place pass can be used is as a place-holder for a function or conditional body when you \n",
    "# are working on new code, allowing you to keep thinking at a more abstract level. The pass is \n",
    "# silently ignored:\n",
    "\n",
    "# while True:\n",
    "#    pass # Busy-wait for keyboard interrupt (Ctrl+C)\n",
    "\n",
    "# class MyEmptyClass:\n",
    "#    pass"
   ]
  },
  {
   "cell_type": "code",
   "execution_count": 83,
   "metadata": {},
   "outputs": [],
   "source": [
    "#####################################################################################################\n",
    "# pass statement (end)\n",
    "#####################################################################################################"
   ]
  }
 ],
 "metadata": {
  "kernelspec": {
   "display_name": "Python 3",
   "language": "python",
   "name": "python3"
  },
  "language_info": {
   "codemirror_mode": {
    "name": "ipython",
    "version": 3
   },
   "file_extension": ".py",
   "mimetype": "text/x-python",
   "name": "python",
   "nbconvert_exporter": "python",
   "pygments_lexer": "ipython3",
   "version": "3.8.5"
  },
  "toc": {
   "base_numbering": 1,
   "nav_menu": {},
   "number_sections": true,
   "sideBar": true,
   "skip_h1_title": false,
   "title_cell": "Table of Contents",
   "title_sidebar": "Contents",
   "toc_cell": false,
   "toc_position": {
    "height": "calc(100% - 180px)",
    "left": "10px",
    "top": "150px",
    "width": "285.8px"
   },
   "toc_section_display": true,
   "toc_window_display": true
  }
 },
 "nbformat": 4,
 "nbformat_minor": 2
}
