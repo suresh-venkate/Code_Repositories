{
 "cells": [
  {
   "cell_type": "markdown",
   "metadata": {},
   "source": [
    "# Import required libraries"
   ]
  },
  {
   "cell_type": "code",
   "execution_count": 1,
   "metadata": {},
   "outputs": [],
   "source": [
    "import numpy as np\n",
    "import pandas as pd\n",
    "import matplotlib.pyplot as plt\n",
    "import json\n",
    "import time"
   ]
  },
  {
   "cell_type": "markdown",
   "metadata": {},
   "source": [
    "# Python Tutorial - 2"
   ]
  },
  {
   "cell_type": "markdown",
   "metadata": {},
   "source": [
    "## Defining Functions"
   ]
  },
  {
   "cell_type": "code",
   "execution_count": 2,
   "metadata": {},
   "outputs": [],
   "source": [
    "#####################################################################################################\n",
    "# Defining Functions (start)\n",
    "#####################################################################################################"
   ]
  },
  {
   "cell_type": "markdown",
   "metadata": {},
   "source": [
    "* The keyword def introduces a function definition. It must be followed by the function name and the paranthesized list of formal parameters. The statements that form the body of the function start at the next line, and must be intended.\n",
    "* The first statement of the function body can optionally be a string literal; this string literal is the function’s documentation string, or docstring. There are tools which use docstrings to automatically produce online or printed documentation, or to let the user interactively browse through code; it’s good practice to include docstrings in code that you write, so make a habit of it.\n",
    "* The Python parser does not strip indentation from multi-line string literals in Python, so tools that process documentation have to strip indentation if desired. This is done using the following convention. The first non-blank line after the first line of the string determines the amount of indentation for the entire documentation string. (We can’t use the first line since it is generally adjacent to the string’s opening quotes so its indentation is not apparent in the string literal.) \n",
    "* Whitespace “equivalent” to this indentation is then stripped from the start of all lines of the string. Lines that are indented less should not occur, but if they occur all their leading whitespace should be stripped. Equivalence of whitespace should be tested after expansion of tabs (to 8 spaces, normally)."
   ]
  },
  {
   "cell_type": "code",
   "execution_count": 3,
   "metadata": {},
   "outputs": [
    {
     "name": "stdout",
     "output_type": "stream",
     "text": [
      "0 1 1 2 3 5 8 13 21 34 55 89 "
     ]
    }
   ],
   "source": [
    "# Define a function that prints the fibonacci series till a defined boundary\n",
    "def fib(n):\n",
    "    \"\"\"Fibonacci Series Generator\n",
    "Generates Fibonacci series until number n\n",
    "    \"\"\" \n",
    "    a,b = 0,1\n",
    "    while a < n:\n",
    "        print(a, end = ' ')\n",
    "        a,b = b,a+b\n",
    "\n",
    "fib(100)"
   ]
  },
  {
   "cell_type": "code",
   "execution_count": 4,
   "metadata": {},
   "outputs": [
    {
     "name": "stdout",
     "output_type": "stream",
     "text": [
      "Fibonacci Series Generator\n",
      "Generates Fibonacci series until number n\n",
      "    \n"
     ]
    }
   ],
   "source": [
    "# This command can be used to print the docstring of a function.\n",
    "print(fib.__doc__)"
   ]
  },
  {
   "cell_type": "code",
   "execution_count": 5,
   "metadata": {},
   "outputs": [
    {
     "name": "stdout",
     "output_type": "stream",
     "text": [
      "[0, 1, 1, 2, 3, 5, 8, 13, 21, 34, 55, 89]\n"
     ]
    }
   ],
   "source": [
    "# Define a function that returns an array of fibonacci series numbers till a defined boundary\n",
    "# return statement retuns a value from a function.\n",
    "# The return statement causes the function to exit or terminate immediately even if it is not the \n",
    "# last statement of the function\n",
    "\n",
    "def fib_r(n):\n",
    "    a,b = 0,1\n",
    "    series = []\n",
    "    while a < n:\n",
    "        series.append(a)\n",
    "        a,b = b,a+b\n",
    "    return series\n",
    "\n",
    "fib100 = fib_r(100)\n",
    "print(fib100)"
   ]
  },
  {
   "cell_type": "markdown",
   "metadata": {},
   "source": [
    "* The execution of a function introduces a new symbol table used for the local variables of the function. More precisely, all variable assignments in a function store the value in the local symbol table; \n",
    "* Variable references first look in the local symbol table, then in the local symbol tables of enclosing functions, then in the global symbol table, and finally in the table of built-in names. \n",
    "* Thus, global variables and variables of enclosing functions cannot be directly assigned a value within a function (unless, for global variables, named in a global statement, or, for variables of enclosing functions, named in a nonlocal statement), although they may be referenced."
   ]
  },
  {
   "cell_type": "markdown",
   "metadata": {},
   "source": [
    "* A function definition introduces the function name in the current symbol table. The value of the function name has a type that is recognized by the interpreter as a user-defined function. \n",
    "* This value can be assigned to another name which can then also be used as a function. This serves as a general renaming mechanism:"
   ]
  },
  {
   "cell_type": "code",
   "execution_count": 6,
   "metadata": {},
   "outputs": [
    {
     "name": "stdout",
     "output_type": "stream",
     "text": [
      "<function fib at 0x00000169DA080E50>\n",
      "0 1 1 2 3 5 8 13 21 34 55 89 "
     ]
    }
   ],
   "source": [
    "print(fib) # Prints type of function fib\n",
    "f = fib # Assigns function fib to another name \"f\" which can be used as a substitute for function fib.\n",
    "f(100)"
   ]
  },
  {
   "cell_type": "code",
   "execution_count": 7,
   "metadata": {},
   "outputs": [],
   "source": [
    "#####################################################################################################\n",
    "# Defining Functions (end)\n",
    "#####################################################################################################"
   ]
  },
  {
   "cell_type": "markdown",
   "metadata": {},
   "source": [
    "## Default Argument Values"
   ]
  },
  {
   "cell_type": "code",
   "execution_count": 8,
   "metadata": {},
   "outputs": [],
   "source": [
    "#####################################################################################################\n",
    "# Default Argument Values (start)\n",
    "#####################################################################################################"
   ]
  },
  {
   "cell_type": "code",
   "execution_count": 9,
   "metadata": {},
   "outputs": [],
   "source": [
    "# Functions can be defined with variable number of arguments. The most useful form is to specify a \n",
    "# default value for one or more arguments. This creates a function that can be called with fewer \n",
    "# arguments than it is defined to allow\n",
    "\n",
    "def f(i, arg=5):\n",
    "    print(i, arg)\n",
    "    return 2*i"
   ]
  },
  {
   "cell_type": "code",
   "execution_count": 10,
   "metadata": {},
   "outputs": [
    {
     "name": "stdout",
     "output_type": "stream",
     "text": [
      "4 10\n",
      "8\n"
     ]
    }
   ],
   "source": [
    "a = f(4, 10)\n",
    "print(a)"
   ]
  },
  {
   "cell_type": "code",
   "execution_count": 11,
   "metadata": {
    "scrolled": true
   },
   "outputs": [
    {
     "name": "stdout",
     "output_type": "stream",
     "text": [
      "6 5\n",
      "12\n"
     ]
    }
   ],
   "source": [
    "b = f(6)\n",
    "print(b)"
   ]
  },
  {
   "cell_type": "code",
   "execution_count": 12,
   "metadata": {},
   "outputs": [
    {
     "name": "stdout",
     "output_type": "stream",
     "text": [
      "5\n"
     ]
    }
   ],
   "source": [
    "# The default values are evaluated at the point of function definition:\n",
    "\n",
    "i = 5\n",
    "def f(arg=i):\n",
    "    print(arg)\n",
    "\n",
    "i = 6\n",
    "f() # The default value of arg is set to 5 during function definition"
   ]
  },
  {
   "cell_type": "code",
   "execution_count": 13,
   "metadata": {},
   "outputs": [
    {
     "name": "stdout",
     "output_type": "stream",
     "text": [
      "[1]\n",
      "[1, 2]\n",
      "[1, 2, 3]\n"
     ]
    }
   ],
   "source": [
    "# Important warning: The default value is evaluated only once. This makes a difference when the default\n",
    "# is a mutable object such as a list, dictionary, or instances of most classes. For example, the \n",
    "# following function accumulates the arguments passed to it on subsequent calls:\n",
    "\n",
    "def f(a,L=[]):\n",
    "    L.append(a)\n",
    "    return L\n",
    "print(f(1))\n",
    "print(f(2))\n",
    "print(f(3))"
   ]
  },
  {
   "cell_type": "code",
   "execution_count": 14,
   "metadata": {},
   "outputs": [
    {
     "name": "stdout",
     "output_type": "stream",
     "text": [
      "[1]\n",
      "[2]\n",
      "[3]\n"
     ]
    }
   ],
   "source": [
    "# To avoid this, you can write the function like this instead:\n",
    "def f(a,L=None):\n",
    "    if L is None:\n",
    "        L = []\n",
    "    L.append(a)\n",
    "    return L\n",
    "print(f(1))\n",
    "print(f(2))\n",
    "print(f(3))"
   ]
  },
  {
   "cell_type": "code",
   "execution_count": 15,
   "metadata": {},
   "outputs": [],
   "source": [
    "######################################################################################################\n",
    "# Default Argument Values (end)\n",
    "######################################################################################################"
   ]
  },
  {
   "cell_type": "markdown",
   "metadata": {},
   "source": [
    "## Inputs from user"
   ]
  },
  {
   "cell_type": "markdown",
   "metadata": {},
   "source": [
    "* Python has a command called input(prompt). You call this function to tell the program to stop and wait for the user to key in the data.\n",
    "* The program will resume once the user presses the ENTER or RETURN key."
   ]
  },
  {
   "cell_type": "code",
   "execution_count": 16,
   "metadata": {},
   "outputs": [
    {
     "name": "stdout",
     "output_type": "stream",
     "text": [
      "Please enter something: This is Suresh\n",
      "a is: This is Suresh\n"
     ]
    }
   ],
   "source": [
    "a = input(\"Please enter something: \")\n",
    "print(\"a is:\",a)"
   ]
  },
  {
   "cell_type": "markdown",
   "metadata": {},
   "source": [
    "## Usage of in keyword"
   ]
  },
  {
   "cell_type": "markdown",
   "metadata": {},
   "source": [
    "* The in keyword can be used to test whether or not a sequence contains a certain value"
   ]
  },
  {
   "cell_type": "code",
   "execution_count": 17,
   "metadata": {},
   "outputs": [],
   "source": [
    "def ask_ok(prompt,retries=4,reminder='Please Try Again'):\n",
    "    while True:\n",
    "        ok = input(prompt)\n",
    "        if ok in ('y', 'yes'):\n",
    "            return True\n",
    "        if ok in ('n', 'no'):\n",
    "            return False\n",
    "        retries = retries-1\n",
    "        if retries <= 0:\n",
    "            print(\"Number of tries exceeded\")\n",
    "            return\n",
    "        print(reminder)       "
   ]
  },
  {
   "cell_type": "code",
   "execution_count": 18,
   "metadata": {
    "scrolled": true
   },
   "outputs": [
    {
     "name": "stdout",
     "output_type": "stream",
     "text": [
      "Do you really want to quit: yes\n"
     ]
    },
    {
     "data": {
      "text/plain": [
       "True"
      ]
     },
     "execution_count": 18,
     "metadata": {},
     "output_type": "execute_result"
    }
   ],
   "source": [
    "ask_ok('Do you really want to quit: ',retries=5)"
   ]
  },
  {
   "cell_type": "markdown",
   "metadata": {},
   "source": [
    "## Keyword Arguments"
   ]
  },
  {
   "cell_type": "code",
   "execution_count": 19,
   "metadata": {},
   "outputs": [],
   "source": [
    "###########################################################################################\n",
    "# Keyword Arguments (start)\n",
    "###########################################################################################"
   ]
  },
  {
   "cell_type": "code",
   "execution_count": 20,
   "metadata": {},
   "outputs": [
    {
     "name": "stdout",
     "output_type": "stream",
     "text": [
      "10 suresh 5 15\n",
      "15 suresh 5 15\n",
      "20 srisha 5 15\n",
      "25 srisha 10 15\n"
     ]
    }
   ],
   "source": [
    "# Functions can also be called using keyword arguments of the form kwarg=value. \n",
    "# In a function call, keyword arguments must follow positional arguments. \n",
    "# Positional arguments cannot be used after keyword arguments are used.\n",
    "# All the keyword arguments passed must match one of the arguments accepted by the function.\n",
    "# Order of keyword arguments is not important.\n",
    "# No argument must receive a value more than once.\n",
    "\n",
    "def test1(a, word = 'suresh', b = 5, c = 15):\n",
    "    print(a, word, b, c)\n",
    "    \n",
    "test1(10) # 1 positional argument\n",
    "test1(a = 15) # 1 keyword argument\n",
    "test1(word = 'srisha', a = 20) # 2 keyword argument, note that the order of keywords is \n",
    "                               # different from function definition\n",
    "test1(25, word = 'srisha', b = 10) # 1 positional argument, 2 keyword arguments."
   ]
  },
  {
   "cell_type": "code",
   "execution_count": 21,
   "metadata": {},
   "outputs": [],
   "source": [
    "######################################################################################################\n",
    "# Keyword Arguments (end)\n",
    "######################################################################################################"
   ]
  },
  {
   "cell_type": "markdown",
   "metadata": {},
   "source": [
    "## Tuples and Sequences - Sequence Data Type"
   ]
  },
  {
   "cell_type": "code",
   "execution_count": 22,
   "metadata": {},
   "outputs": [],
   "source": [
    "#####################################################################################################\n",
    "# Tuples and Sequences (start)\n",
    "#####################################################################################################"
   ]
  },
  {
   "cell_type": "code",
   "execution_count": 23,
   "metadata": {},
   "outputs": [
    {
     "name": "stdout",
     "output_type": "stream",
     "text": [
      "(12345, 45678, 890)\n",
      "<class 'tuple'>\n",
      "((1, 2, 3), (12345, 45678, 890))\n"
     ]
    }
   ],
   "source": [
    "# A tuple consists of a number of values separated by commas and preferably enclosed by () brackets\n",
    "\n",
    "t = (12345, 45678, 890)\n",
    "print(t)\n",
    "print(type(t))\n",
    "\n",
    "# Tuples can be nested\n",
    "t1 = (1, 2, 3)\n",
    "u = (t1, t)\n",
    "print(u)"
   ]
  },
  {
   "cell_type": "code",
   "execution_count": 24,
   "metadata": {},
   "outputs": [
    {
     "name": "stdout",
     "output_type": "stream",
     "text": [
      "([1, 2, 3], [4, 5, 6])\n",
      "([5, 2, 3], [4, 5, 6])\n"
     ]
    }
   ],
   "source": [
    "# Tuples are immutable but they can contain mutable objects\n",
    "list_1 = [1, 2, 3]\n",
    "list_2 = [4, 5, 6]\n",
    "t_new = (list_1, list_2)\n",
    "print(t_new)\n",
    "list_1[0] = 5\n",
    "print(t_new)"
   ]
  },
  {
   "cell_type": "code",
   "execution_count": 25,
   "metadata": {},
   "outputs": [
    {
     "name": "stdout",
     "output_type": "stream",
     "text": [
      "0\n",
      "()\n"
     ]
    }
   ],
   "source": [
    "# Tuples may seem similar to lists, but they are often used in different situations for different \n",
    "# purposes. \n",
    "# Tuples are immutable, and usually contain a heterogeneous sequence of elements that can be accessed \n",
    "# via unpacking or indexing. \n",
    "# Lists are mutable, and their elements are usually homogeneous and are accessed by iterating over the \n",
    "# list.\n",
    "\n",
    "# Empty tuples are constructed by an empty pair of parantheses\n",
    "empty = ()\n",
    "print(len(empty))\n",
    "print(empty)"
   ]
  },
  {
   "cell_type": "code",
   "execution_count": 26,
   "metadata": {},
   "outputs": [
    {
     "name": "stdout",
     "output_type": "stream",
     "text": [
      "1\n",
      "('hello',)\n"
     ]
    }
   ],
   "source": [
    "# A tuple with one value is constructed by following a value with a comma (it is not sufficient to \n",
    "# enclose a single value in parantheses)\n",
    "\n",
    "singleton = ('hello',)\n",
    "print(len(singleton))\n",
    "print(singleton)"
   ]
  },
  {
   "cell_type": "code",
   "execution_count": 27,
   "metadata": {},
   "outputs": [
    {
     "name": "stdout",
     "output_type": "stream",
     "text": [
      "(123, 456, 789)\n",
      "123 456 789\n",
      "456 123 789\n"
     ]
    }
   ],
   "source": [
    "# Tuple packing\n",
    "t = (123, 456, 789) # Values 123, 456 and 789 are packed into the tuple\n",
    "print(t)\n",
    "\n",
    "# The reverse operation is also possible. This is called sequence unpacking and works for any tuple \n",
    "# on the right-hand side\n",
    "# Sequence unpacking requires that there are as many variables on the left side of the equals sign \n",
    "# as there are elements in the sequence\n",
    "\n",
    "x, y, z = t\n",
    "print(x, y, z)\n",
    "\n",
    "# Multiple assignment is really just a combination of tuple packing and sequence unpacking\n",
    "a, b, c = (456, 123, 789)\n",
    "print(a, b, c)"
   ]
  },
  {
   "cell_type": "code",
   "execution_count": 28,
   "metadata": {},
   "outputs": [
    {
     "name": "stdout",
     "output_type": "stream",
     "text": [
      "(1, 2, 3, 4, 5)\n",
      "[1, 2, 3, 4, 5]\n",
      "[1, 2, 21, 4, 5]\n",
      "(1, 2, 21, 4, 5)\n"
     ]
    }
   ],
   "source": [
    "# One way to change a tuple is to typecast it to a list, change the value in the list and typecast\n",
    "# the list back to tuple\n",
    "tuple_ex = (1,2,3,4,5)\n",
    "print(tuple_ex)\n",
    "tuple_list = list(tuple_ex)\n",
    "print(tuple_list)\n",
    "tuple_list[2] = 21\n",
    "print(tuple_list)\n",
    "tuple_ex = tuple(tuple_list)\n",
    "print(tuple_ex)"
   ]
  },
  {
   "cell_type": "code",
   "execution_count": 29,
   "metadata": {},
   "outputs": [],
   "source": [
    "#####################################################################################################\n",
    "# Tuples and Sequences (end)\n",
    "#####################################################################################################"
   ]
  },
  {
   "cell_type": "markdown",
   "metadata": {},
   "source": [
    "## Sets - Sequence Data Type"
   ]
  },
  {
   "cell_type": "code",
   "execution_count": 30,
   "metadata": {},
   "outputs": [],
   "source": [
    "#####################################################################################################\n",
    "# Sets (start)\n",
    "#####################################################################################################"
   ]
  },
  {
   "cell_type": "code",
   "execution_count": 31,
   "metadata": {},
   "outputs": [
    {
     "name": "stdout",
     "output_type": "stream",
     "text": [
      "{'pears', 'bananas', 'apple', 'oranges'}\n",
      "True\n"
     ]
    }
   ],
   "source": [
    "# A set is an unordered collection with no duplicate elements. Basic uses include membership testing \n",
    "# and eliminating duplicate entries\n",
    "# Set objects also support mathematical operations like union, intersection, difference and symmetric \n",
    "# difference.\n",
    "# Curly braces or the set() function can be used to create sets. To create an empty set, you have to use \n",
    "# set(), not {}; the latter creates an empty dictionary\n",
    "\n",
    "basket = {'apple', 'oranges', 'pears', 'oranges', 'bananas'}\n",
    "print(basket) # Duplicates will be removed.\n",
    "print('oranges' in basket) # Fast membership testing"
   ]
  },
  {
   "cell_type": "code",
   "execution_count": 32,
   "metadata": {},
   "outputs": [
    {
     "name": "stdout",
     "output_type": "stream",
     "text": [
      "{'b', 'd', 'c', 'r', 'a'} {'m', 'c', 'z', 'l', 'a'}\n",
      "a - b is: {'r', 'd', 'b'}\n",
      "a union b is: {'m', 'b', 'd', 'r', 'c', 'z', 'l', 'a'}\n",
      "a intersection b is: {'c', 'a'}\n",
      "Letters in a or b but not both: {'m', 'b', 'l', 'd', 'r', 'z'}\n"
     ]
    }
   ],
   "source": [
    "# Demonstrate set operations on unique letters from two words\n",
    "\n",
    "a = set('abracadabra')\n",
    "b = set('alcazam')\n",
    "print(a,b) # Duplicates have been removed\n",
    "print(\"a - b is:\", a - b) # Letters in a but not in b\n",
    "print(\"a union b is:\", a | b) # Union of a and b (letters in a or b or both)\n",
    "print(\"a intersection b is:\", a & b) # Intersection of a and (letters common to both a and b)\n",
    "print(\"Letters in a or b but not both:\", a ^ b) # Letters in a or b but not both"
   ]
  },
  {
   "cell_type": "code",
   "execution_count": 33,
   "metadata": {},
   "outputs": [
    {
     "name": "stdout",
     "output_type": "stream",
     "text": [
      "{'r', 'd'}\n"
     ]
    }
   ],
   "source": [
    "# similar to list comprehensions, set comprehensions are also supported\n",
    "\n",
    "a = {x for x in set('abracadabra') if x not in set('abc')}\n",
    "print(a)"
   ]
  },
  {
   "cell_type": "code",
   "execution_count": 34,
   "metadata": {},
   "outputs": [
    {
     "name": "stdout",
     "output_type": "stream",
     "text": [
      "{123, 'abc', 456, 'banana'}\n",
      "{'abc', 456, 'water', 'banana', 123}\n",
      "{'abc', 456, 'water', 'banana'}\n"
     ]
    }
   ],
   "source": [
    "# We cant change the values of a set but we can add or remove elements from a set\n",
    "set1 = {'abc','banana',123,456}\n",
    "print(set1)\n",
    "set1.add('water')\n",
    "print(set1)\n",
    "set1.remove(123)\n",
    "print(set1)"
   ]
  },
  {
   "cell_type": "code",
   "execution_count": 35,
   "metadata": {},
   "outputs": [],
   "source": [
    "#####################################################################################################\n",
    "# Sets (end)\n",
    "#####################################################################################################"
   ]
  },
  {
   "cell_type": "markdown",
   "metadata": {},
   "source": [
    "## Dictionaries - Sequence Data Type"
   ]
  },
  {
   "cell_type": "code",
   "execution_count": 36,
   "metadata": {},
   "outputs": [],
   "source": [
    "#####################################################################################################\n",
    "# Dictionaries (start)\n",
    "#####################################################################################################"
   ]
  },
  {
   "cell_type": "code",
   "execution_count": 37,
   "metadata": {},
   "outputs": [],
   "source": [
    "# Dictionaries are associative arrays. Unlike sequences, which are indexed by a range of numbers, \n",
    "# dictionaries are indexed by keys, which can be any immutable type - strings and numbers can always \n",
    "# be keys. Tuples can also be used as keys, if they contain only strings, numbers or tuples. \n",
    "# If a tuple contains any mutable object either directly or indirectly, it cannot be used as a key. \n",
    "# Lists cannot be used as keys, since lists can be modified in place using index assignments, \n",
    "# slice assignments, or methods like append() or extend()\n",
    "\n",
    "# It is best to think of a dictionary as key:value pairs with the requirement that the keys are \n",
    "# unique within one dictionary.\n",
    "# A pair of braces creates an empty dictionary.\n",
    "# Placing a list of key:value pairs within the braces adds initial key:value pairs to the dictionary.\n",
    "\n",
    "# The main operations on a dictionary are storing values using some key and then extracting the \n",
    "# value given the key.\n",
    "# It is also possible to delete a key:value pair with \"del\" command. \n",
    "# If you store a key that is already in use, the old value associated with the key is forgotten. \n",
    " \n",
    "# Performing list(d) on a dictionary returns a list of all keys used in the dictionary in the \n",
    "# insertion order. \n",
    "# To get the keys sorted as a list, use sorted(d) instead. \n",
    "# To check whether a single key is in the dictionary, use the 'in' keyword.\n",
    "\n",
    "# dict_name.keys() can be used to retrieve the keys of a dictionary.\n",
    "# dict_name.values() can be used to retrieve the values stored in a dictionary."
   ]
  },
  {
   "cell_type": "code",
   "execution_count": 38,
   "metadata": {},
   "outputs": [
    {
     "name": "stdout",
     "output_type": "stream",
     "text": [
      "{'suresh': 123, 'srisha': 456}\n",
      "{'suresh': 123, 'srisha': 456, 'jyo': 789}\n",
      "123 789\n",
      "{'suresh': 123, 'srisha': 456}\n",
      "['suresh', 'srisha']\n",
      "['srisha', 'suresh']\n",
      "False\n",
      "True\n",
      "Keys of dictionary tel are dict_keys(['suresh', 'srisha']):\n",
      "\n",
      "Values of dictionary tel are dict_values([123, 456]):\n",
      "\n"
     ]
    }
   ],
   "source": [
    "tel = {'suresh':123, 'srisha':456}\n",
    "print(tel)\n",
    "tel['jyo'] = 789\n",
    "print(tel)\n",
    "print(tel['suresh'], tel['jyo'])\n",
    "del tel['jyo']\n",
    "print(tel)\n",
    "print(list(tel))\n",
    "print(sorted(tel))\n",
    "print('jyo' in tel)\n",
    "print('suresh' in tel)\n",
    "print(\"Keys of dictionary tel are {}:\\n\".format(tel.keys()))\n",
    "print(\"Values of dictionary tel are {}:\\n\".format(tel.values()))"
   ]
  },
  {
   "cell_type": "code",
   "execution_count": 39,
   "metadata": {},
   "outputs": [
    {
     "name": "stdout",
     "output_type": "stream",
     "text": [
      "{'abc': 123, 'def': 456, 'ghi': 789}\n",
      "{'abc': 123, 'daf': 456, 'ghi': 789}\n",
      "{1: 1, 2: 8, 3: 27, 4: 64, 5: 125, 6: 216}\n"
     ]
    }
   ],
   "source": [
    "# Dict constructor buils dictionaries directly from sequences of key-value pairs:\n",
    "\n",
    "a_d = dict([('abc',123), ('def',456), ('ghi',789)])\n",
    "print(a_d)\n",
    "\n",
    "# When the keys are simple strings, it is sometimes easier to specify pairs using keyword arguments\n",
    "c_d = dict(abc=123, daf=456, ghi=789)\n",
    "print(c_d)\n",
    "\n",
    "# Dict comprehensions can be used to create dictionaries from arbitrary key and value expressions\n",
    "b_d = {x:x**3 for x in (1,2,3,4,5,6)}\n",
    "print(b_d)"
   ]
  },
  {
   "cell_type": "code",
   "execution_count": 40,
   "metadata": {},
   "outputs": [],
   "source": [
    "#####################################################################################################\n",
    "# Dictionaries (end)\n",
    "#####################################################################################################"
   ]
  },
  {
   "cell_type": "markdown",
   "metadata": {},
   "source": [
    "# Time taken to run a sequence of steps"
   ]
  },
  {
   "cell_type": "code",
   "execution_count": 41,
   "metadata": {
    "scrolled": true
   },
   "outputs": [
    {
     "name": "stdout",
     "output_type": "stream",
     "text": [
      "Classic Outer product Computation time = 1078125.00 usec\n",
      "Vectorized Outer product Computation time = 0.00 usec\n"
     ]
    }
   ],
   "source": [
    "num = 1000\n",
    "x1 = np.random.randn(num)\n",
    "x2 = np.random.randn(num)\n",
    "\n",
    "### CLASSIC OUTER PRODUCT IMPLEMENTATION ###\n",
    "tic = time.process_time()\n",
    "outer = np.zeros((len(x1),len(x2))) # we create a len(x1)*len(x2) matrix with only zeros\n",
    "for i in range(len(x1)):\n",
    "    for j in range(len(x2)):\n",
    "        outer[i,j] = x1[i]*x2[j]\n",
    "toc = time.process_time()\n",
    "del_t = 1e6*(toc-tic)\n",
    "print (\"Classic Outer product Computation time = %0.2f usec\" % del_t)\n",
    "\n",
    "### CLASSIC OUTER PRODUCT IMPLEMENTATION ###\n",
    "tic = time.process_time()\n",
    "x3 = np.outer(x1,x2)\n",
    "toc = time.process_time()\n",
    "del_t = 1e6*(toc-tic)\n",
    "print (\"Vectorized Outer product Computation time = %0.2f usec\" % del_t)"
   ]
  },
  {
   "cell_type": "markdown",
   "metadata": {},
   "source": [
    "# File Operations"
   ]
  },
  {
   "cell_type": "markdown",
   "metadata": {},
   "source": [
    "## Reading and Writing Files"
   ]
  },
  {
   "cell_type": "markdown",
   "metadata": {},
   "source": [
    "* open() returns a file object, and is most commonly used with two arguments: \n",
    "    * open(filename, mode). Example: f = open('workfile', 'w')\n",
    "* The first argument is a string containing the filename. \n",
    "* The second argument is another string containing a few characters describing the way in which the file will be used. \n",
    "    * mode can be 'r' when the file will only be read, \n",
    "    * 'w' for only writing (an existing file with the same name will be erased)\n",
    "    * 'a' opens the file for appending; any data written to the file is automatically added to the end. \n",
    "    * 'r+' opens the file for both reading and writing. \n",
    "    * The mode argument is optional; 'r' will be assumed if it’s omitted."
   ]
  },
  {
   "cell_type": "markdown",
   "metadata": {},
   "source": [
    "* Normally, files are opened in text mode, that means, we read and write strings from and to the file, which are encoded in a specific encoding. \n",
    "* If encoding is not specified, the default is platform dependent. \n",
    "* 'b' appended to the mode opens the file in binary mode: now the data is read and written in the form of bytes objects. This mode should be used for all files that don’t contain text."
   ]
  },
  {
   "cell_type": "markdown",
   "metadata": {},
   "source": [
    "* In text mode, the default when reading is to convert platform-specific line endings (\\n on Unix, \\r\\n on Windows) to just \\n. \n",
    "* When writing in text mode, the default is to convert occurrences of \\n back to platform-specific line endings. \n",
    "* This behind-the-scenes modification to file data is fine for text files, but will corrupt binary data like that in JPEG or EXE files. We should be very careful to use binary mode when reading and writing such files."
   ]
  },
  {
   "cell_type": "markdown",
   "metadata": {},
   "source": [
    "* It is good practice to use the <b>with</b> keyword when dealing with file objects. The advantage is that the file is properly closed after its suite finishes, even if an exception is raised at some point.\n",
    "* If we’re not using the with keyword, then we should call f.close() to close the file and immediately free up any system resources used by it. If we don’t explicitly close a file, Python’s garbage collector will eventually destroy the object and close the open file for us, but the file may stay open for a while. Another risk is that different Python implementations will do this clean-up at different times.\n",
    "* After a file object is closed, either by a with statement or by calling f.close(), attempts to use the file object will automatically fail."
   ]
  },
  {
   "cell_type": "code",
   "execution_count": 42,
   "metadata": {
    "scrolled": false
   },
   "outputs": [
    {
     "name": "stdout",
     "output_type": "stream",
     "text": [
      "1, Hi, This is Suresh.\n",
      "2, Iam a boy.\n",
      "3, My age is 43.\n"
     ]
    },
    {
     "data": {
      "text/plain": [
       "'1, Hi, This is Suresh.\\n2, Iam a boy.\\n3, My age is 43.'"
      ]
     },
     "metadata": {},
     "output_type": "display_data"
    }
   ],
   "source": [
    "with open('Datasets/read_file_study.txt') as f:\n",
    "    read_data = f.read()\n",
    "print(read_data)\n",
    "display(read_data)"
   ]
  },
  {
   "cell_type": "markdown",
   "metadata": {},
   "source": [
    "## Methods of file objects"
   ]
  },
  {
   "cell_type": "markdown",
   "metadata": {},
   "source": [
    "* <b>To read a file’s contents, call f.read(size), which reads some quantity of data and returns it as a string (in text mode) or bytes object (in binary mode). \n",
    "* Size is an optional numeric argument. When size is omitted or negative, the entire contents of the file will be read and returned; \n",
    "* If the end of the file has been reached, f.read() will return an empty string ('').</b>"
   ]
  },
  {
   "cell_type": "code",
   "execution_count": 43,
   "metadata": {},
   "outputs": [
    {
     "name": "stdout",
     "output_type": "stream",
     "text": [
      "1, Hi, Thi\n"
     ]
    }
   ],
   "source": [
    "with open('Datasets/read_file_study.txt') as f:\n",
    "    read_data = f.read(10)\n",
    "print(read_data) # Only 10 characters read"
   ]
  },
  {
   "cell_type": "code",
   "execution_count": 44,
   "metadata": {},
   "outputs": [
    {
     "name": "stdout",
     "output_type": "stream",
     "text": [
      "1, Hi, This is Suresh.\n",
      "2, \n"
     ]
    },
    {
     "data": {
      "text/plain": [
       "'1, Hi, This is Suresh.\\n2, '"
      ]
     },
     "metadata": {},
     "output_type": "display_data"
    }
   ],
   "source": [
    "with open('Datasets/read_file_study.txt') as f:\n",
    "    read_data = f.read(26)\n",
    "print(read_data) # 26 characters read now\n",
    "display(read_data)"
   ]
  },
  {
   "cell_type": "markdown",
   "metadata": {},
   "source": [
    "* <b>f.readline() reads a single line from the file; a newline character (\\n) is left at the end of the string, and is only omitted on the last line of the file if the file doesn’t end in a newline. This makes the return value unambiguous; \n",
    "* if f.readline() returns an empty string, the end of the file has been reached, while a blank line is represented by '\\n', a string containing only a single newline.</b>"
   ]
  },
  {
   "cell_type": "code",
   "execution_count": 45,
   "metadata": {},
   "outputs": [
    {
     "data": {
      "text/plain": [
       "'1, Hi, This is Suresh.\\n'"
      ]
     },
     "metadata": {},
     "output_type": "display_data"
    },
    {
     "data": {
      "text/plain": [
       "'2, Iam a boy.\\n'"
      ]
     },
     "metadata": {},
     "output_type": "display_data"
    }
   ],
   "source": [
    "with open('Datasets/read_file_study.txt') as f:\n",
    "    first_line = f.readline()\n",
    "    display(first_line)\n",
    "    second_line = f.readline()\n",
    "    display(second_line)"
   ]
  },
  {
   "cell_type": "markdown",
   "metadata": {},
   "source": [
    "* <b>The readlines(n) method returns the contents of the entire file as a list of strings, where each item in the list represents one line of the file.  \n",
    "* If n is not provided then all lines of the file are returned. \n",
    "* If n is provided then n characters are read but n is rounded up so that an entire line is returned.</b>"
   ]
  },
  {
   "cell_type": "code",
   "execution_count": 46,
   "metadata": {},
   "outputs": [
    {
     "data": {
      "text/plain": [
       "['1, Hi, This is Suresh.\\n', '2, Iam a boy.\\n', '3, My age is 43.']"
      ]
     },
     "metadata": {},
     "output_type": "display_data"
    },
    {
     "data": {
      "text/plain": [
       "'1, Hi, This is Suresh.\\n'"
      ]
     },
     "metadata": {},
     "output_type": "display_data"
    },
    {
     "data": {
      "text/plain": [
       "'2, Iam a boy.\\n'"
      ]
     },
     "metadata": {},
     "output_type": "display_data"
    },
    {
     "data": {
      "text/plain": [
       "'3, My age is 43.'"
      ]
     },
     "metadata": {},
     "output_type": "display_data"
    }
   ],
   "source": [
    "with open('Datasets/read_file_study.txt') as f:\n",
    "    all_lines = f.readlines()\n",
    "display(all_lines)\n",
    "display(all_lines[0])\n",
    "display(all_lines[1])\n",
    "display(all_lines[2])"
   ]
  },
  {
   "cell_type": "code",
   "execution_count": 47,
   "metadata": {},
   "outputs": [
    {
     "data": {
      "text/plain": [
       "['1, Hi, This is Suresh.\\n']"
      ]
     },
     "metadata": {},
     "output_type": "display_data"
    }
   ],
   "source": [
    "with open('Datasets/read_file_study.txt') as f:\n",
    "    all_lines = f.readlines(5)\n",
    "display(all_lines)"
   ]
  },
  {
   "cell_type": "markdown",
   "metadata": {},
   "source": [
    "<b>For reading lines from a file, we can loop over the file object. This is memory efficient, fast, and leads to simple code:</b>"
   ]
  },
  {
   "cell_type": "code",
   "execution_count": 48,
   "metadata": {
    "scrolled": true
   },
   "outputs": [
    {
     "name": "stdout",
     "output_type": "stream",
     "text": [
      "1, Hi, This is Suresh.\n",
      "2, Iam a boy.\n",
      "3, My age is 43."
     ]
    }
   ],
   "source": [
    "with open('Datasets/read_file_study.txt') as f:\n",
    "    for line in f:\n",
    "        print(line, end = '')"
   ]
  }
 ],
 "metadata": {
  "kernelspec": {
   "display_name": "Python 3",
   "language": "python",
   "name": "python3"
  },
  "language_info": {
   "codemirror_mode": {
    "name": "ipython",
    "version": 3
   },
   "file_extension": ".py",
   "mimetype": "text/x-python",
   "name": "python",
   "nbconvert_exporter": "python",
   "pygments_lexer": "ipython3",
   "version": "3.8.5"
  },
  "toc": {
   "base_numbering": 1,
   "nav_menu": {},
   "number_sections": true,
   "sideBar": true,
   "skip_h1_title": false,
   "title_cell": "Table of Contents",
   "title_sidebar": "Contents",
   "toc_cell": false,
   "toc_position": {
    "height": "calc(100% - 180px)",
    "left": "10px",
    "top": "150px",
    "width": "285.8px"
   },
   "toc_section_display": true,
   "toc_window_display": true
  }
 },
 "nbformat": 4,
 "nbformat_minor": 2
}
