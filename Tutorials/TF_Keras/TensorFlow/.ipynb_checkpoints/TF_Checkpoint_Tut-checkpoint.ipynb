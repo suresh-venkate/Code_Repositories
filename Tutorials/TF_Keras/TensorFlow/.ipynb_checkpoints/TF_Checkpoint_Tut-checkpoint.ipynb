{
 "cells": [
  {
   "cell_type": "markdown",
   "metadata": {
    "id": "Pnn4rDWGqDZL"
   },
   "source": [
    "# TensorFlow Checkpoint Tutorial\n",
    "\n",
    "[Link](https://www.tensorflow.org/guide/checkpoint)"
   ]
  },
  {
   "cell_type": "markdown",
   "metadata": {
    "id": "LeDp7dovcbus"
   },
   "source": [
    "# Introduction\n",
    "\n",
    "The phrase \"Saving a TensorFlow model\" typically means one of two things:\n",
    "\n",
    "  1. Checkpoints, OR \n",
    "  2. SavedModel.\n",
    "\n",
    "Checkpoints capture the exact value of all parameters (`tf.Variable` objects) used by a model. Checkpoints do not contain any description of the computation defined by the model and thus are typically only useful when source code that will use the saved parameter values is available.\n",
    "\n",
    "The SavedModel format on the other hand includes a serialized description of the computation defined by the model in addition to the parameter values (checkpoint). Models in this format are independent of the source code that created the model. They are thus suitable for deployment via TensorFlow Serving, TensorFlow Lite, TensorFlow.js, or programs in other programming languages (the C, C++, Java, Go, Rust, C# etc. TensorFlow APIs).\n",
    "\n",
    "This guide covers APIs for writing and reading checkpoints."
   ]
  },
  {
   "cell_type": "markdown",
   "metadata": {
    "id": "U0nm8k-6xfh2"
   },
   "source": [
    "# Import required libraries"
   ]
  },
  {
   "cell_type": "code",
   "execution_count": 1,
   "metadata": {},
   "outputs": [],
   "source": [
    "import tensorflow as tf"
   ]
  },
  {
   "cell_type": "markdown",
   "metadata": {},
   "source": [
    "# Define a simple Keras model"
   ]
  },
  {
   "cell_type": "code",
   "execution_count": 2,
   "metadata": {
    "execution": {
     "iopub.execute_input": "2021-01-06T02:25:30.801782Z",
     "iopub.status.busy": "2021-01-06T02:25:30.800991Z",
     "iopub.status.idle": "2021-01-06T02:25:30.803355Z",
     "shell.execute_reply": "2021-01-06T02:25:30.802877Z"
    },
    "id": "OEQCseyeC4Ev"
   },
   "outputs": [],
   "source": [
    "class Net(tf.keras.Model): # Sub-class keras Model class\n",
    "    \n",
    "  \"\"\"A simple linear model.\"\"\"\n",
    "\n",
    "  def __init__(self):\n",
    "    super(Net, self).__init__()\n",
    "    self.l1 = tf.keras.layers.Dense(5)\n",
    "\n",
    "  def call(self, x):\n",
    "    return self.l1(x)"
   ]
  },
  {
   "cell_type": "markdown",
   "metadata": {},
   "source": [
    "# Instantiate model"
   ]
  },
  {
   "cell_type": "code",
   "execution_count": 21,
   "metadata": {
    "execution": {
     "iopub.execute_input": "2021-01-06T02:25:30.807190Z",
     "iopub.status.busy": "2021-01-06T02:25:30.806532Z",
     "iopub.status.idle": "2021-01-06T02:25:32.650317Z",
     "shell.execute_reply": "2021-01-06T02:25:32.650798Z"
    },
    "id": "utqeoDADC5ZR"
   },
   "outputs": [],
   "source": [
    "net = Net()"
   ]
  },
  {
   "cell_type": "markdown",
   "metadata": {
    "id": "5vsq3-pffo1I"
   },
   "source": [
    "# Saving from `tf.keras` training APIs\n",
    "\n",
    "See the [`tf.keras` guide on saving and restoring](https://www.tensorflow.org/api_docs/python/tf/keras/Model#save_weights). `tf.keras.Model.save_weights` saves a TensorFlow checkpoint. "
   ]
  },
  {
   "cell_type": "code",
   "execution_count": 15,
   "metadata": {
    "execution": {
     "iopub.execute_input": "2021-01-06T02:25:32.656016Z",
     "iopub.status.busy": "2021-01-06T02:25:32.655342Z",
     "iopub.status.idle": "2021-01-06T02:25:32.667824Z",
     "shell.execute_reply": "2021-01-06T02:25:32.667231Z"
    },
    "id": "SuhmrYPEl4D_"
   },
   "outputs": [],
   "source": [
    "net.save_weights('./Output_Files/Net_Checkpoint/easy_checkpoint')"
   ]
  },
  {
   "cell_type": "markdown",
   "metadata": {},
   "source": [
    "# Pending"
   ]
  },
  {
   "cell_type": "markdown",
   "metadata": {
    "id": "XseWX5jDg4lQ"
   },
   "source": [
    "# Writing checkpoints\n"
   ]
  },
  {
   "cell_type": "markdown",
   "metadata": {
    "id": "1jpZPz76ZP3K"
   },
   "source": [
    "The persistent state of a TensorFlow model is stored in `tf.Variable` objects. These can be constructed directly, but are often created through high-level APIs like `tf.keras.layers` or `tf.keras.Model`.\n",
    "\n",
    "The easiest way to manage variables is by attaching them to Python objects, then referencing those objects. \n",
    "\n",
    "Subclasses of `tf.train.Checkpoint`, `tf.keras.layers.Layer`, and `tf.keras.Model` automatically track variables assigned to their attributes. The following example constructs a simple linear model, then writes checkpoints which contain values for all of the model's variables.\n",
    "\n",
    "We can easily save a model-checkpoint with `Model.save_weights`."
   ]
  },
  {
   "cell_type": "markdown",
   "metadata": {
    "id": "FHTJ1JzxCi8a"
   },
   "source": [
    "## Manual checkpointing\n",
    "\n",
    "To help demonstrate all the features of `tf.train.Checkpoint`, define a toy dataset and optimization step:"
   ]
  },
  {
   "cell_type": "markdown",
   "metadata": {
    "id": "6cF9fqYOCrEO"
   },
   "source": [
    "### Define toy dataset"
   ]
  },
  {
   "cell_type": "code",
   "execution_count": 16,
   "metadata": {
    "execution": {
     "iopub.execute_input": "2021-01-06T02:25:32.673944Z",
     "iopub.status.busy": "2021-01-06T02:25:32.673127Z",
     "iopub.status.idle": "2021-01-06T02:25:32.675203Z",
     "shell.execute_reply": "2021-01-06T02:25:32.675669Z"
    },
    "id": "tSNyP4IJ9nkU"
   },
   "outputs": [],
   "source": [
    "def toy_dataset():\n",
    "  inputs = tf.range(10.)[:, None]\n",
    "  labels = inputs * 5. + tf.range(5.)[None, :]\n",
    "  return tf.data.Dataset.from_tensor_slices(dict(x = inputs, y = labels)).repeat().batch(2)"
   ]
  },
  {
   "cell_type": "markdown",
   "metadata": {},
   "source": [
    "### Define training loop"
   ]
  },
  {
   "cell_type": "code",
   "execution_count": 17,
   "metadata": {
    "execution": {
     "iopub.execute_input": "2021-01-06T02:25:32.681167Z",
     "iopub.status.busy": "2021-01-06T02:25:32.680310Z",
     "iopub.status.idle": "2021-01-06T02:25:32.682331Z",
     "shell.execute_reply": "2021-01-06T02:25:32.682742Z"
    },
    "id": "ICm1cufh_JH8"
   },
   "outputs": [],
   "source": [
    "def train_step(net, example, optimizer):\n",
    "    \n",
    "  \"\"\"Trains `net` on `example` using `optimizer`.\"\"\"\n",
    "\n",
    "  with tf.GradientTape() as tape:\n",
    "    output = net(example['x'])\n",
    "    loss = tf.reduce_mean(tf.abs(output - example['y']))\n",
    "  variables = net.trainable_variables\n",
    "  gradients = tape.gradient(loss, variables)\n",
    "  optimizer.apply_gradients(zip(gradients, variables))\n",
    "  return loss"
   ]
  },
  {
   "cell_type": "markdown",
   "metadata": {
    "id": "vxzGpHRbOVO6"
   },
   "source": [
    "### Create the checkpoint objects\n",
    "\n",
    "Use a `tf.train.Checkpoint` object to manually create a checkpoint, where the objects we want to checkpoint are set as attributes on the object. A `tf.train.CheckpointManager` can also be helpful for managing multiple checkpoints."
   ]
  },
  {
   "cell_type": "code",
   "execution_count": 22,
   "metadata": {
    "execution": {
     "iopub.execute_input": "2021-01-06T02:25:32.688110Z",
     "iopub.status.busy": "2021-01-06T02:25:32.687322Z",
     "iopub.status.idle": "2021-01-06T02:25:32.699956Z",
     "shell.execute_reply": "2021-01-06T02:25:32.699415Z"
    },
    "id": "ou5qarOQOWYl"
   },
   "outputs": [],
   "source": [
    "opt = tf.keras.optimizers.Adam(0.1) # Instantiate optimizer\n",
    "dataset = toy_dataset() # Instantiate toy dataset\n",
    "iterator = iter(dataset) # Define iterator for dataset\n",
    "\n",
    "# Create checkpoint object\n",
    "ckpt = tf.train.Checkpoint(step = tf.Variable(1), optimizer = opt, net = net, iterator = iterator)\n",
    "\n",
    "# Create checkpoint manager\n",
    "manager = tf.train.CheckpointManager(ckpt, './Output_Files/Net_Checkpoint/tf_ckpts', max_to_keep = 3)"
   ]
  },
  {
   "cell_type": "markdown",
   "metadata": {
    "id": "8ZbYSD4uCy96"
   },
   "source": [
    "### Train and checkpoint the model\n",
    "\n",
    "The following training loop creates an instance of the model and of an optimizer, then gathers them into a `tf.train.Checkpoint` object. It calls the training step in a loop on each batch of data, and periodically writes checkpoints to disk."
   ]
  },
  {
   "cell_type": "code",
   "execution_count": 23,
   "metadata": {
    "execution": {
     "iopub.execute_input": "2021-01-06T02:25:32.706509Z",
     "iopub.status.busy": "2021-01-06T02:25:32.705794Z",
     "iopub.status.idle": "2021-01-06T02:25:32.707979Z",
     "shell.execute_reply": "2021-01-06T02:25:32.707475Z"
    },
    "id": "BbCS5A6K1VSH"
   },
   "outputs": [],
   "source": [
    "def train_and_checkpoint(net, manager):\n",
    "    \n",
    "  ckpt.restore(manager.latest_checkpoint)\n",
    "\n",
    "  if manager.latest_checkpoint:\n",
    "    print(\"Restored from {}\".format(manager.latest_checkpoint))\n",
    "  else:\n",
    "    print(\"Initializing from scratch.\")\n",
    "\n",
    "  for _ in range(50):\n",
    "    example = next(iterator)\n",
    "    loss = train_step(net, example, opt)\n",
    "    ckpt.step.assign_add(1)\n",
    "    if int(ckpt.step) % 10 == 0:\n",
    "      save_path = manager.save()\n",
    "      print(\"Saved checkpoint for step {}: {}\".format(int(ckpt.step), save_path))\n",
    "      print(\"loss {:1.2f}\".format(loss.numpy()))"
   ]
  },
  {
   "cell_type": "code",
   "execution_count": 24,
   "metadata": {
    "execution": {
     "iopub.execute_input": "2021-01-06T02:25:32.711851Z",
     "iopub.status.busy": "2021-01-06T02:25:32.711173Z",
     "iopub.status.idle": "2021-01-06T02:25:33.368119Z",
     "shell.execute_reply": "2021-01-06T02:25:33.368567Z"
    },
    "id": "Ik3IBMTdPW41"
   },
   "outputs": [
    {
     "name": "stdout",
     "output_type": "stream",
     "text": [
      "Initializing from scratch.\n",
      "Saved checkpoint for step 10: ./Output_Files/Net_Checkpoint/tf_ckpts\\ckpt-1\n",
      "loss 27.43\n",
      "Saved checkpoint for step 20: ./Output_Files/Net_Checkpoint/tf_ckpts\\ckpt-2\n",
      "loss 20.85\n",
      "Saved checkpoint for step 30: ./Output_Files/Net_Checkpoint/tf_ckpts\\ckpt-3\n",
      "loss 14.29\n",
      "Saved checkpoint for step 40: ./Output_Files/Net_Checkpoint/tf_ckpts\\ckpt-4\n",
      "loss 7.85\n",
      "Saved checkpoint for step 50: ./Output_Files/Net_Checkpoint/tf_ckpts\\ckpt-5\n",
      "loss 2.36\n"
     ]
    }
   ],
   "source": [
    "train_and_checkpoint(net, manager)"
   ]
  },
  {
   "cell_type": "markdown",
   "metadata": {
    "id": "2wzcc1xYN-sH"
   },
   "source": [
    "### Restore and continue training\n",
    "\n",
    "After the first training cycle, we can pass a new model and manager, but pick up training exactly where we left off:"
   ]
  },
  {
   "cell_type": "code",
   "execution_count": 25,
   "metadata": {
    "execution": {
     "iopub.execute_input": "2021-01-06T02:25:33.375932Z",
     "iopub.status.busy": "2021-01-06T02:25:33.375233Z",
     "iopub.status.idle": "2021-01-06T02:25:33.613679Z",
     "shell.execute_reply": "2021-01-06T02:25:33.614106Z"
    },
    "id": "UjilkTOV2PBK"
   },
   "outputs": [
    {
     "name": "stdout",
     "output_type": "stream",
     "text": [
      "Restored from ./Output_Files/Net_Checkpoint/tf_ckpts\\ckpt-5\n",
      "Saved checkpoint for step 60: ./Output_Files/Net_Checkpoint/tf_ckpts\\ckpt-6\n",
      "loss 1.19\n",
      "Saved checkpoint for step 70: ./Output_Files/Net_Checkpoint/tf_ckpts\\ckpt-7\n",
      "loss 0.76\n",
      "Saved checkpoint for step 80: ./Output_Files/Net_Checkpoint/tf_ckpts\\ckpt-8\n",
      "loss 0.65\n",
      "Saved checkpoint for step 90: ./Output_Files/Net_Checkpoint/tf_ckpts\\ckpt-9\n",
      "loss 0.19\n",
      "Saved checkpoint for step 100: ./Output_Files/Net_Checkpoint/tf_ckpts\\ckpt-10\n",
      "loss 0.22\n"
     ]
    }
   ],
   "source": [
    "opt = tf.keras.optimizers.Adam(0.1)\n",
    "net = Net()\n",
    "dataset = toy_dataset()\n",
    "iterator = iter(dataset)\n",
    "ckpt = tf.train.Checkpoint(step = tf.Variable(1), optimizer = opt, net = net, iterator = iterator)\n",
    "manager = tf.train.CheckpointManager(ckpt, './Output_Files/Net_Checkpoint/tf_ckpts', max_to_keep = 3)\n",
    "\n",
    "train_and_checkpoint(net, manager)"
   ]
  },
  {
   "cell_type": "markdown",
   "metadata": {
    "id": "dxJT9vV-2PnZ"
   },
   "source": [
    "<b>The `tf.train.CheckpointManager` object deletes old checkpoints. In the above case, it's configured to keep only the three most recent checkpoints.</b>"
   ]
  },
  {
   "cell_type": "code",
   "execution_count": 27,
   "metadata": {
    "execution": {
     "iopub.execute_input": "2021-01-06T02:25:33.618299Z",
     "iopub.status.busy": "2021-01-06T02:25:33.617633Z",
     "iopub.status.idle": "2021-01-06T02:25:33.620390Z",
     "shell.execute_reply": "2021-01-06T02:25:33.619786Z"
    },
    "id": "3zmM0a-F5XqC"
   },
   "outputs": [
    {
     "data": {
      "text/plain": [
       "['./Output_Files/Net_Checkpoint/tf_ckpts\\\\ckpt-8',\n",
       " './Output_Files/Net_Checkpoint/tf_ckpts\\\\ckpt-9',\n",
       " './Output_Files/Net_Checkpoint/tf_ckpts\\\\ckpt-10']"
      ]
     },
     "metadata": {},
     "output_type": "display_data"
    }
   ],
   "source": [
    "display(manager.checkpoints)  # List the three remaining checkpoints"
   ]
  },
  {
   "cell_type": "markdown",
   "metadata": {
    "id": "qwlYDyjemY4P"
   },
   "source": [
    "<b>These paths, e.g. `'./tf_ckpts/ckpt-10'`, are not files on disk. Instead they are prefixes for an `index` file and one or more data files which contain the variable values. These prefixes are grouped together in a single `checkpoint` file (`'./tf_ckpts/checkpoint'`) where the `CheckpointManager` saves its state.</b>"
   ]
  },
  {
   "cell_type": "code",
   "execution_count": 35,
   "metadata": {
    "execution": {
     "iopub.execute_input": "2021-01-06T02:25:33.640418Z",
     "iopub.status.busy": "2021-01-06T02:25:33.624191Z",
     "iopub.status.idle": "2021-01-06T02:25:33.764888Z",
     "shell.execute_reply": "2021-01-06T02:25:33.765329Z"
    },
    "id": "t1feej9JntV_"
   },
   "outputs": [
    {
     "name": "stdout",
     "output_type": "stream",
     "text": [
      " Volume in drive C has no label.\n",
      " Volume Serial Number is 34B5-0AB1\n",
      "\n",
      " Directory of C:\\User_Directories\\Sync_With_NAS\\Users\\suresh\\work\\AIMLDL\\GitHub_Repositories\\Tutorials\\TF_Keras\\TensorFlow\\Output_Files\\Net_Checkpoint\\tf_ckpts\n",
      "\n",
      "23-04-2021  17:25    <DIR>          .\n",
      "23-04-2021  17:25    <DIR>          ..\n",
      "23-04-2021  17:25               345 checkpoint\n",
      "23-04-2021  17:25             1,870 ckpt-10.data-00000-of-00001\n",
      "23-04-2021  17:25               936 ckpt-10.index\n",
      "23-04-2021  17:25             1,870 ckpt-8.data-00000-of-00001\n",
      "23-04-2021  17:25               936 ckpt-8.index\n",
      "23-04-2021  17:25             1,870 ckpt-9.data-00000-of-00001\n",
      "23-04-2021  17:25               936 ckpt-9.index\n",
      "               7 File(s)          8,763 bytes\n",
      "               2 Dir(s)  64,568,328,192 bytes free\n"
     ]
    }
   ],
   "source": [
    "!dir .\\Output_Files\\Net_Checkpoint\\tf_ckpts"
   ]
  },
  {
   "cell_type": "markdown",
   "metadata": {
    "id": "DR2wQc9x6b3X"
   },
   "source": [
    "<a id=\"loading_mechanics\"/>\n",
    "\n",
    "## Loading mechanics\n",
    "\n",
    "TensorFlow matches variables to checkpointed values by traversing a directed graph with named edges, starting from the object being loaded. Edge names typically come from attribute names in objects, for example the `\"l1\"` in `self.l1 = tf.keras.layers.Dense(5)`. `tf.train.Checkpoint` uses its keyword argument names, as in the `\"step\"` in `tf.train.Checkpoint(step=...)`.\n",
    "\n",
    "The dependency graph from the example above looks like this:\n",
    "\n",
    "![Visualization of the dependency graph for the example training loop](https://tensorflow.org/images/guide/whole_checkpoint.svg)\n",
    "\n",
    "The optimizer is in red, regular variables are in blue, and the optimizer slot variables are in orange. The other nodes—for example, representing the `tf.train.Checkpoint`—are in black.\n",
    "\n",
    "Slot variables are part of the optimizer's state, but are created for a specific variable. For example the `'m'` edges above correspond to momentum, which the Adam optimizer tracks for each variable. Slot variables are only saved in a checkpoint if the variable and the optimizer would both be saved, thus the dashed edges."
   ]
  },
  {
   "cell_type": "markdown",
   "metadata": {
    "id": "VpY5IuanUEQ0"
   },
   "source": [
    "Calling `restore` on a `tf.train.Checkpoint` object queues the requested restorations, restoring variable values as soon as there's a matching path from the `Checkpoint` object. For example, you can load just the bias from the model you defined above by reconstructing one path to it through the network and the layer."
   ]
  },
  {
   "cell_type": "code",
   "execution_count": 14,
   "metadata": {
    "execution": {
     "iopub.execute_input": "2021-01-06T02:25:33.772245Z",
     "iopub.status.busy": "2021-01-06T02:25:33.771499Z",
     "iopub.status.idle": "2021-01-06T02:25:33.781994Z",
     "shell.execute_reply": "2021-01-06T02:25:33.781410Z"
    },
    "id": "wmX2AuyH7TVt"
   },
   "outputs": [
    {
     "name": "stdout",
     "output_type": "stream",
     "text": [
      "[0. 0. 0. 0. 0.]\n",
      "[2.831489  3.7156947 2.5892444 3.8669944 4.749503 ]\n"
     ]
    }
   ],
   "source": [
    "to_restore = tf.Variable(tf.zeros([5]))\n",
    "print(to_restore.numpy())  # All zeros\n",
    "fake_layer = tf.train.Checkpoint(bias=to_restore)\n",
    "fake_net = tf.train.Checkpoint(l1=fake_layer)\n",
    "new_root = tf.train.Checkpoint(net=fake_net)\n",
    "status = new_root.restore(tf.train.latest_checkpoint('./tf_ckpts/'))\n",
    "print(to_restore.numpy())  # This gets the restored value."
   ]
  },
  {
   "cell_type": "markdown",
   "metadata": {
    "id": "GqEW-_pJDAnE"
   },
   "source": [
    "The dependency graph for these new objects is a much smaller subgraph of the larger checkpoint you wrote above. It includes only the bias and a save counter that `tf.train.Checkpoint` uses to number checkpoints.\n",
    "\n",
    "![Visualization of a subgraph for the bias variable](https://tensorflow.org/images/guide/partial_checkpoint.svg)\n",
    "\n",
    "`restore` returns a status object, which has optional assertions. All of the objects created in the new `Checkpoint` have been restored, so `status.assert_existing_objects_matched` passes."
   ]
  },
  {
   "cell_type": "code",
   "execution_count": 15,
   "metadata": {
    "execution": {
     "iopub.execute_input": "2021-01-06T02:25:33.792575Z",
     "iopub.status.busy": "2021-01-06T02:25:33.791800Z",
     "iopub.status.idle": "2021-01-06T02:25:33.795535Z",
     "shell.execute_reply": "2021-01-06T02:25:33.795989Z"
    },
    "id": "P9TQXl81Dq5r"
   },
   "outputs": [
    {
     "data": {
      "text/plain": [
       "<tensorflow.python.training.tracking.util.CheckpointLoadStatus at 0x7f1644447b70>"
      ]
     },
     "execution_count": 1,
     "metadata": {},
     "output_type": "execute_result"
    }
   ],
   "source": [
    "status.assert_existing_objects_matched()"
   ]
  },
  {
   "cell_type": "markdown",
   "metadata": {
    "id": "GoMwf8CFDu9r"
   },
   "source": [
    "There are many objects in the checkpoint which haven't matched, including the layer's kernel and the optimizer's variables. `status.assert_consumed` only passes if the checkpoint and the program match exactly, and would throw an exception here."
   ]
  },
  {
   "cell_type": "markdown",
   "metadata": {
    "id": "KCcmJ-2j9RUP"
   },
   "source": [
    "### Delayed restorations\n",
    "\n",
    "`Layer` objects in TensorFlow may delay the creation of variables to their first call, when input shapes are available. For example the shape of a `Dense` layer's kernel depends on both the layer's input and output shapes, and so the output shape required as a constructor argument is not enough information to create the variable on its own. Since calling a `Layer` also reads the variable's value, a restore must happen between the variable's creation and its first use.\n",
    "\n",
    "To support this idiom, `tf.train.Checkpoint` queues restores which don't yet have a matching variable."
   ]
  },
  {
   "cell_type": "code",
   "execution_count": 16,
   "metadata": {
    "execution": {
     "iopub.execute_input": "2021-01-06T02:25:33.801744Z",
     "iopub.status.busy": "2021-01-06T02:25:33.800998Z",
     "iopub.status.idle": "2021-01-06T02:25:33.806565Z",
     "shell.execute_reply": "2021-01-06T02:25:33.806971Z"
    },
    "id": "TXYUCO3v-I72"
   },
   "outputs": [
    {
     "name": "stdout",
     "output_type": "stream",
     "text": [
      "[[0. 0. 0. 0. 0.]]\n",
      "[[4.5719748 4.6099544 4.931875  4.836442  4.8496275]]\n"
     ]
    }
   ],
   "source": [
    "delayed_restore = tf.Variable(tf.zeros([1, 5]))\n",
    "print(delayed_restore.numpy())  # Not restored; still zeros\n",
    "fake_layer.kernel = delayed_restore\n",
    "print(delayed_restore.numpy())  # Restored"
   ]
  },
  {
   "cell_type": "markdown",
   "metadata": {
    "id": "-DWhJ3glyobN"
   },
   "source": [
    "### Manually inspecting checkpoints\n",
    "\n",
    "`tf.train.load_checkpoint` returns a `CheckpointReader` that gives lower level access to the checkpoint contents. It contains mappings from each vartiable's key, to the shape and dtype for each variable in the checkpoint. A variable's key is its object path, like in the graphs displayed above.\n",
    "\n",
    "Note: There is no higher level structure to the checkpoint. It only know's the paths and values for the variables, and has no concept of `models`, `layers` or how they are connected."
   ]
  },
  {
   "cell_type": "code",
   "execution_count": 17,
   "metadata": {
    "execution": {
     "iopub.execute_input": "2021-01-06T02:25:33.811830Z",
     "iopub.status.busy": "2021-01-06T02:25:33.811072Z",
     "iopub.status.idle": "2021-01-06T02:25:33.815814Z",
     "shell.execute_reply": "2021-01-06T02:25:33.815191Z"
    },
    "id": "RlRsADTezoBD",
    "scrolled": true
   },
   "outputs": [
    {
     "data": {
      "text/plain": [
       "['_CHECKPOINTABLE_OBJECT_GRAPH',\n",
       " 'iterator/.ATTRIBUTES/ITERATOR_STATE',\n",
       " 'net/l1/bias/.ATTRIBUTES/VARIABLE_VALUE',\n",
       " 'net/l1/bias/.OPTIMIZER_SLOT/optimizer/m/.ATTRIBUTES/VARIABLE_VALUE',\n",
       " 'net/l1/bias/.OPTIMIZER_SLOT/optimizer/v/.ATTRIBUTES/VARIABLE_VALUE',\n",
       " 'net/l1/kernel/.ATTRIBUTES/VARIABLE_VALUE',\n",
       " 'net/l1/kernel/.OPTIMIZER_SLOT/optimizer/m/.ATTRIBUTES/VARIABLE_VALUE',\n",
       " 'net/l1/kernel/.OPTIMIZER_SLOT/optimizer/v/.ATTRIBUTES/VARIABLE_VALUE',\n",
       " 'optimizer/beta_1/.ATTRIBUTES/VARIABLE_VALUE',\n",
       " 'optimizer/beta_2/.ATTRIBUTES/VARIABLE_VALUE',\n",
       " 'optimizer/decay/.ATTRIBUTES/VARIABLE_VALUE',\n",
       " 'optimizer/iter/.ATTRIBUTES/VARIABLE_VALUE',\n",
       " 'optimizer/learning_rate/.ATTRIBUTES/VARIABLE_VALUE',\n",
       " 'save_counter/.ATTRIBUTES/VARIABLE_VALUE',\n",
       " 'step/.ATTRIBUTES/VARIABLE_VALUE']"
      ]
     },
     "execution_count": 1,
     "metadata": {},
     "output_type": "execute_result"
    }
   ],
   "source": [
    "reader = tf.train.load_checkpoint('./tf_ckpts/')\n",
    "shape_from_key = reader.get_variable_to_shape_map()\n",
    "dtype_from_key = reader.get_variable_to_dtype_map()\n",
    "\n",
    "sorted(shape_from_key.keys())"
   ]
  },
  {
   "cell_type": "markdown",
   "metadata": {
    "id": "AVrdvbNvgq5V"
   },
   "source": [
    "So if you're interested in the value of `net.l1.kernel` you can get the value with the following code:"
   ]
  },
  {
   "cell_type": "code",
   "execution_count": 18,
   "metadata": {
    "execution": {
     "iopub.execute_input": "2021-01-06T02:25:33.820817Z",
     "iopub.status.busy": "2021-01-06T02:25:33.820115Z",
     "iopub.status.idle": "2021-01-06T02:25:33.823652Z",
     "shell.execute_reply": "2021-01-06T02:25:33.823139Z"
    },
    "id": "lYhX_XWCgl92"
   },
   "outputs": [
    {
     "name": "stdout",
     "output_type": "stream",
     "text": [
      "Shape: [1, 5]\n",
      "Dtype: float32\n"
     ]
    }
   ],
   "source": [
    "key = 'net/l1/kernel/.ATTRIBUTES/VARIABLE_VALUE'\n",
    "\n",
    "print(\"Shape:\", shape_from_key[key])\n",
    "print(\"Dtype:\", dtype_from_key[key].name)"
   ]
  },
  {
   "cell_type": "markdown",
   "metadata": {
    "id": "2Zk92jM5gRDW"
   },
   "source": [
    "It also provides a `get_tensor` method allowing you to inspect the value of a variable:"
   ]
  },
  {
   "cell_type": "code",
   "execution_count": 19,
   "metadata": {
    "execution": {
     "iopub.execute_input": "2021-01-06T02:25:33.829465Z",
     "iopub.status.busy": "2021-01-06T02:25:33.828653Z",
     "iopub.status.idle": "2021-01-06T02:25:33.831261Z",
     "shell.execute_reply": "2021-01-06T02:25:33.831744Z"
    },
    "id": "cDJO3cgmecvi"
   },
   "outputs": [
    {
     "data": {
      "text/plain": [
       "array([[4.5719748, 4.6099544, 4.931875 , 4.836442 , 4.8496275]],\n",
       "      dtype=float32)"
      ]
     },
     "execution_count": 1,
     "metadata": {},
     "output_type": "execute_result"
    }
   ],
   "source": [
    "reader.get_tensor(key)"
   ]
  },
  {
   "cell_type": "markdown",
   "metadata": {
    "id": "5fxk_BnZ4W1b"
   },
   "source": [
    "### List and dictionary tracking\n",
    "\n",
    "As with direct attribute assignments like `self.l1 = tf.keras.layers.Dense(5)`, assigning lists and dictionaries to attributes will track their contents."
   ]
  },
  {
   "cell_type": "code",
   "execution_count": 20,
   "metadata": {
    "execution": {
     "iopub.execute_input": "2021-01-06T02:25:33.838492Z",
     "iopub.status.busy": "2021-01-06T02:25:33.837785Z",
     "iopub.status.idle": "2021-01-06T02:25:33.858092Z",
     "shell.execute_reply": "2021-01-06T02:25:33.857480Z"
    },
    "id": "rfaIbDtDHAr_"
   },
   "outputs": [],
   "source": [
    "save = tf.train.Checkpoint()\n",
    "save.listed = [tf.Variable(1.)]\n",
    "save.listed.append(tf.Variable(2.))\n",
    "save.mapped = {'one': save.listed[0]}\n",
    "save.mapped['two'] = save.listed[1]\n",
    "save_path = save.save('./tf_list_example')\n",
    "\n",
    "restore = tf.train.Checkpoint()\n",
    "v2 = tf.Variable(0.)\n",
    "assert 0. == v2.numpy()  # Not restored yet\n",
    "restore.mapped = {'two': v2}\n",
    "restore.restore(save_path)\n",
    "assert 2. == v2.numpy()"
   ]
  },
  {
   "cell_type": "markdown",
   "metadata": {
    "id": "UTKvbxHcI3T2"
   },
   "source": [
    "You may notice wrapper objects for lists and dictionaries. These wrappers are checkpointable versions of the underlying data-structures. Just like the attribute based loading, these wrappers restore a variable's value as soon as it's added to the container."
   ]
  },
  {
   "cell_type": "code",
   "execution_count": 21,
   "metadata": {
    "execution": {
     "iopub.execute_input": "2021-01-06T02:25:33.863577Z",
     "iopub.status.busy": "2021-01-06T02:25:33.862778Z",
     "iopub.status.idle": "2021-01-06T02:25:33.866615Z",
     "shell.execute_reply": "2021-01-06T02:25:33.867005Z"
    },
    "id": "s0Uq1Hv5JCmm"
   },
   "outputs": [
    {
     "name": "stdout",
     "output_type": "stream",
     "text": [
      "ListWrapper([])\n"
     ]
    }
   ],
   "source": [
    "restore.listed = []\n",
    "print(restore.listed)  # ListWrapper([])\n",
    "v1 = tf.Variable(0.)\n",
    "restore.listed.append(v1)  # Restores v1, from restore() in the previous cell\n",
    "assert 1. == v1.numpy()"
   ]
  },
  {
   "cell_type": "markdown",
   "metadata": {
    "id": "OxCIf2J6JyQ8"
   },
   "source": [
    "The same tracking is automatically applied to subclasses of `tf.keras.Model`, and may be used for example to track lists of layers."
   ]
  },
  {
   "cell_type": "markdown",
   "metadata": {
    "id": "knyUFMrJg8y4"
   },
   "source": [
    "## Summary\n",
    "\n",
    "TensorFlow objects provide an easy automatic mechanism for saving and restoring the values of variables they use.\n"
   ]
  }
 ],
 "metadata": {
  "colab": {
   "collapsed_sections": [],
   "name": "checkpoint.ipynb",
   "toc_visible": true
  },
  "kernelspec": {
   "display_name": "Python 3",
   "language": "python",
   "name": "python3"
  },
  "language_info": {
   "codemirror_mode": {
    "name": "ipython",
    "version": 3
   },
   "file_extension": ".py",
   "mimetype": "text/x-python",
   "name": "python",
   "nbconvert_exporter": "python",
   "pygments_lexer": "ipython3",
   "version": "3.8.5"
  },
  "toc": {
   "base_numbering": 1,
   "nav_menu": {},
   "number_sections": true,
   "sideBar": true,
   "skip_h1_title": false,
   "title_cell": "Table of Contents",
   "title_sidebar": "Contents",
   "toc_cell": false,
   "toc_position": {},
   "toc_section_display": true,
   "toc_window_display": true
  }
 },
 "nbformat": 4,
 "nbformat_minor": 1
}
